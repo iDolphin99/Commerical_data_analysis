{
 "cells": [
  {
   "cell_type": "markdown",
   "id": "e40dea94",
   "metadata": {},
   "source": [
    "# Data Load\n"
   ]
  },
  {
   "cell_type": "code",
   "execution_count": null,
   "id": "f65e8299",
   "metadata": {},
   "outputs": [],
   "source": [
    "import numpy as np\n",
    "import pandas as pd\n",
    "import os\n",
    "import math\n",
    "import random \n",
    "\n",
    "from scipy import stats #Analysis \n",
    "from scipy.stats import norm \n",
    "\n",
    "import missingno as msno\n",
    "import seaborn as sns\n",
    "import matplotlib.pyplot as plt\n",
    "from matplotlib import rcParams\n",
    "%matplotlib inline"
   ]
  },
  {
   "cell_type": "code",
   "execution_count": null,
   "id": "4bf375d5",
   "metadata": {},
   "outputs": [],
   "source": [
    "# 한글 폰트가 깨지면 실행하세요! \n",
    "import matplotlib.font_manager as fm\n",
    "fontlist = fm.findSystemFonts(fontpaths = None, fontext='ttf')\n",
    "# 아래 주석을 지워서 폰트 리스트를 확인하고 한글 폰트를 font_path에 추가합니다\n",
    "fontlist[:]\n",
    "\n",
    "from matplotlib import font_manager, rc\n",
    "#font_path = 'C:\\\\Users\\\\mtang\\\\AppData\\\\Local\\\\Microsoft\\\\Windows\\\\Fonts\\\\NanumSquare.ttf'\n",
    "font_path = 'C:\\\\WINDOWS\\\\Fonts\\\\NanumGothicLight.ttf'\n",
    "font = font_manager.FontProperties(fname=font_path).get_name()\n",
    "rc('font', family=font)"
   ]
  },
  {
   "cell_type": "code",
   "execution_count": null,
   "id": "175a42b3",
   "metadata": {},
   "outputs": [],
   "source": [
    "path = \"./Dataset/\"\n",
    "\n",
    "data = pd.read_csv(path+\"kwproja_data_location.csv\")\n",
    "\n",
    "# original data -> data\n",
    "data"
   ]
  },
  {
   "cell_type": "markdown",
   "id": "1eecf56c",
   "metadata": {},
   "source": [
    "# EDA \n",
    "\n",
    "2,927,739 rows X 9 columns\n",
    "\n",
    "- 매장 속성 정보\n",
    "  - shop_code -> 식별자 feature, input feature로는 사용하지 않지만 분류를 위해서는 사용할 수 있을 것 같음  \n",
    "  - shop_name -> input feature로는 사용하지 않음 (NLP deep learning 가능성 있음)\n",
    "  - longtitude : 경도, latitude : 위도 -> 매장 위치 (회사 근처, 학교 근처 등 매출 영향성 있음) -> 군집화, labeling 필요\n",
    "  - shop_type_big -> 15 category  -> 업종 (매출 영향성 있음)\n",
    "  - shop_type_small -> 61 category\n",
    "\n",
    "- 매출 정보\n",
    "  - date -> 24 category, 201606~ 201805 까지의 data\n",
    "  - monthly_gain / avearge_sale_price = 한달 총 판매수\n",
    "\n",
    "- 매출 통계 정보-> X\n",
    "\n",
    "\n",
    "##### monthly_gain과 average_sale_price 중 어느 것을 y값으로 둘 것인가? \n",
    "- 월매출 예측 문제로 가정하고 montly_gain 을 y값으로 예측하는 모델 만들기\n",
    "\n",
    "##### shop_code는 input feature에 넣어야 하는가?\n",
    "- 특별한 브랜드가 y값을 결정하는 과적합 요소가 될 수 있으므로\n",
    "- X 에서 shop code, shop name 제외하는 것도 방법\n",
    "- 어느 위치에 어떤 업종으로 어떤 객단가인 매장을 오픈하면 월매출이 어떻게 될까? 문제\n",
    " - X: shop type big, shop type small, longitude, latitude, avg_sale_price, \n",
    " - y: montly_gain"
   ]
  },
  {
   "cell_type": "code",
   "execution_count": null,
   "id": "8160023d",
   "metadata": {},
   "outputs": [],
   "source": [
    "data.columns = ['date', 'shop_code', 'shop_name', 'shop_type_big', 'shop_type_small', \n",
    "                'longitude', 'latitude', 'monthly_gain', 'average_sale_price', 'address1', 'address2']"
   ]
  },
  {
   "cell_type": "code",
   "execution_count": null,
   "id": "0e2e2b0d",
   "metadata": {},
   "outputs": [],
   "source": [
    "data.info()"
   ]
  },
  {
   "cell_type": "code",
   "execution_count": null,
   "id": "709deb58",
   "metadata": {},
   "outputs": [],
   "source": [
    "data"
   ]
  },
  {
   "cell_type": "code",
   "execution_count": null,
   "id": "12a00e1f",
   "metadata": {},
   "outputs": [],
   "source": [
    "pd.options.display.float_format = '{:.2f}'.format"
   ]
  },
  {
   "cell_type": "code",
   "execution_count": null,
   "id": "59813413",
   "metadata": {},
   "outputs": [],
   "source": [
    "data[['monthly_gain', 'average_sale_price']].describe().transpose()"
   ]
  },
  {
   "cell_type": "markdown",
   "id": "622a30f2",
   "metadata": {},
   "source": [
    "### shop_name, shop_code\n",
    "- shop_code가 식별자 feature, 가게는 동일하지만 가게명이 바뀌는 경우가 존재함\n",
    "    - shop_name(13,633), shop_code(13,352) -> 약 300 가게 정도는 이름이 바뀐 것으로 추정\n",
    "    - 확인 결과 총 222가게가 이름을 최소 2번 바꾸었으며 평균 4번, 최대 66번 바꾸었음 \n",
    "- 결론-> shop code, shop name 은 모델입력으로 적합하지 않음\n",
    "- 업종 별 매출 예측으로만 봐야 적당할 것으로 보임"
   ]
  },
  {
   "cell_type": "code",
   "execution_count": null,
   "id": "542878cc",
   "metadata": {},
   "outputs": [],
   "source": [
    "# shop_name과 shop_code가 항상 같다면, 위 두 숫자가 같아야 하는데 약 300개의 data가 차이가 남 \n",
    "# shop_code는 동일하지만(가게는 동일하지만) 업종, 가게명이 바뀌었을 수도 있음 -> shop_code를 식별자 feature로 사용\n",
    "\n",
    "print(data['shop_name'].nunique())\n",
    "print(data['shop_code'].nunique())\n",
    "print(data['date'].unique())"
   ]
  },
  {
   "cell_type": "code",
   "execution_count": null,
   "id": "8dcebc34",
   "metadata": {},
   "outputs": [],
   "source": [
    "# shop code 를 group by 했을 때 그 안에 몇 종류의 shop name이 있는지 (1이어야 정상)\n",
    "\n",
    "check_df = data.groupby('shop_code')['shop_name'].nunique().to_frame('shop_name_unique').reset_index()\n",
    "check_df"
   ]
  },
  {
   "cell_type": "code",
   "execution_count": null,
   "id": "3ac12916",
   "metadata": {},
   "outputs": [],
   "source": [
    "# shop code안에 여러 shop name 있는 경우\n",
    "\n",
    "check_df2 = check_df[check_df['shop_name_unique'] > 1]\n",
    "check_df2"
   ]
  },
  {
   "cell_type": "code",
   "execution_count": null,
   "id": "38516c09",
   "metadata": {},
   "outputs": [],
   "source": [
    "# 총 222가게가 이름을 최소 2번 바꾸었으며 평균 4번, 최대 66번 바꾸었음 \n",
    "\n",
    "check_df2['shop_name_unique'].describe()"
   ]
  },
  {
   "cell_type": "code",
   "execution_count": null,
   "id": "0f6bd2b7",
   "metadata": {},
   "outputs": [],
   "source": [
    "# 롯데 월드 안에  놀이기구도 있지만, 편의점, 호텔 등 다는 업종 매출로 잡히는 것들도 있음!\n",
    "# 결론-> shop code, shop name 은 모델입력으로 적합하지 않음\n",
    "# 업종 별 매출 예측으로만 봐야 적당할 것으로 보임\n",
    "data[data['shop_code'] == 148500219]"
   ]
  },
  {
   "cell_type": "code",
   "execution_count": null,
   "id": "58c65e6b",
   "metadata": {},
   "outputs": [],
   "source": [
    "# date column 분석\n",
    "# shop_cde가 점포 하나하나를 식별하는 feature라면, 모든 각각의 점포가 24개의 date data를 가지고 있는지 확인  \n",
    "check_df3 = data.groupby('shop_code')['date'].nunique().to_frame('date_unique').reset_index()\n",
    "check_df3['date_unique'].describe()"
   ]
  },
  {
   "cell_type": "code",
   "execution_count": null,
   "id": "06d68565",
   "metadata": {},
   "outputs": [],
   "source": [
    "check_df3['date_unique'].value_counts().sort_values()"
   ]
  },
  {
   "cell_type": "code",
   "execution_count": null,
   "id": "c129b0e9",
   "metadata": {},
   "outputs": [],
   "source": [
    "data['date'].unique()"
   ]
  },
  {
   "cell_type": "code",
   "execution_count": null,
   "id": "4ad7cb17",
   "metadata": {},
   "outputs": [],
   "source": [
    "# 1개의 date 데이터만 가진 점포 데이터가 5092개가 존재\n",
    "# 2개의 date 데이터만 가진 점포 데이터가 5026개 존재 \n",
    "# 3 -> 4674, 4->273 .,,, \n",
    "# 가정1) 오래 장사를 한 점포일수록 매출이 높을 것이다, date 개수가 많을 수록 monthly_gain.sum()이 높아질 것  \n",
    "# 가정2) date가 1개인 점포는 매출데이터를 신뢰할 수 있을까? 2018년2월데이터가 아닌 2017년 3월데이터(시작날짜)라면 개점하자마자 폐점?\n",
    "# 하지만 date 데이터를 1~12로 새로운 column으로 넣어준다 하더라도...\n",
    "# 상점 하나하나가 아닌 월 매출 데이터 하나하나를 보는 것이기 때문에 넣기가 어려울 것 같음 \n",
    "check_df3[check_df3['date_unique']<4]"
   ]
  },
  {
   "cell_type": "markdown",
   "id": "9e0b1a04",
   "metadata": {},
   "source": [
    "### Preprocessing for more eda..."
   ]
  },
  {
   "cell_type": "code",
   "execution_count": null,
   "id": "ca87f9be",
   "metadata": {},
   "outputs": [],
   "source": [
    "# 매출데이터에 0값은 없음 -> 정확한 eda를 위해서 이를 제거하고 계속 진행하겠음 \n",
    "preprocessed = data[data.monthly_gain!=0].copy()\n",
    "#preprocessed"
   ]
  },
  {
   "cell_type": "code",
   "execution_count": null,
   "id": "9d8b541d",
   "metadata": {},
   "outputs": [],
   "source": [
    "print(preprocessed['shop_type_big'].unique())\n",
    "print(len(preprocessed['shop_type_big'].unique()))\n",
    "print(preprocessed['shop_type_big'].isnull().value_counts())"
   ]
  },
  {
   "cell_type": "code",
   "execution_count": null,
   "id": "93ebeac6",
   "metadata": {},
   "outputs": [],
   "source": [
    "null_index = preprocessed[preprocessed['shop_type_big'].isnull()==True].index\n",
    "preprocessed = preprocessed.drop(null_index).reset_index().drop(\"index\", axis=1)\n",
    "preprocessed"
   ]
  },
  {
   "cell_type": "code",
   "execution_count": null,
   "id": "4ce2de6d",
   "metadata": {},
   "outputs": [],
   "source": [
    "# 다행히도 shop_type_small에 대한 Nan값은 shop_type_big에서 제거함으로써 같이 제거된것으로 보입니다 \n",
    "# preprocessed -> eda를 위해 전처리한 dataframe, data대신 해당 dataframe에서 쪼개서 eda를 진행합니다 \n",
    "print(preprocessed['shop_type_small'].unique())\n",
    "print(len(preprocessed['shop_type_small'].unique()))\n",
    "print(preprocessed['shop_type_small'].isnull().value_counts())"
   ]
  },
  {
   "cell_type": "markdown",
   "id": "1b847644",
   "metadata": {},
   "source": [
    "### shop_type_big, shopt_type_small, monthly_gain\n",
    "- 매출 데이터(monthly_gain)에 missing value 결측치 존재(3,605개) -> 제거하고 확인 총 149,789개 \n",
    "- shop_type_big에 missing vlaue 결측치 존재(4,303개) -> 제거하고 확인 총 145,487개\n",
    "- monthly_gain \n",
    "    - mean|     80,595,343.95 | 8천\n",
    "    - min |               5.01| \n",
    "    - 25% |\t     4,557,295.50 | 4백만\n",
    "    - 50% |\t    15,793,050.00 | 1천5백만\n",
    "    - 75% |\t    43,372,024.00 | 4천3백만\n",
    "    - max | 65,341,444,752.55 | 653억4천1백만 (원래 1000억 넘게 나왔는데 결측치때문이였던 것 같음)\n",
    "- average_sale_price\n",
    "    - mean|    190,292.08\n",
    "    - min |          1.00\n",
    "    - 25% |     18,559.00 | 1천8백\n",
    "    - 50% |     47,145.00 | 4천7백\n",
    "    - 75% |    141,594.50 | 1억4천\n",
    "    - max | 82,360,957.00 | 823억6천\n",
    "- shop type big (13)\n",
    "    - 음식(51004) 소매(47318) 의료(16618) 생활서비스(16074) 학문/교육(4495) 관광/여가/오락(3676) 도매/유통/무역(2607) 스포츠(1525) 숙박(1198) 제조(518) 부동산(335) 전자/정보통신(98) 기술서비스(21)\n",
    "    - min \n",
    "    - '기술서비스', '전자/정보통신', '제조', '의료', '부동산', '숙박', '스포츠', '도매/유통/무역', '음식', '학문/교육', '관광/여가/오락', '소매', '생활서비스'\n",
    "    - 부동산(10,060) 기준 이하(7곳)은 비슷함\n",
    "    - mean \n",
    "    - '도매/유통/무역', '숙박', '제조', '전자/정보통신', '소매', '의료', '관광/여가/오락', '학문/교육', '음식', '생활서비스', '스포츠', '부동산', '기술서비스'\n",
    "    - max \n",
    "    - '도매/유통/무역', '소매', '관광/여가/오락', '제조', '숙박', '의료', '전자/정보통신', '생활서비스', '학문/교육', '음식', '스포츠', '부동산', '기술서비스'\n",
    "- 평균만 놓고 보아도 가장 낮은 업종은 천만원대, 가장 높은 업종은 억대이다 \n",
    "- shop type small (367)\n"
   ]
  },
  {
   "cell_type": "markdown",
   "id": "84dfcfd2",
   "metadata": {},
   "source": [
    "### monthly_gain"
   ]
  },
  {
   "cell_type": "code",
   "execution_count": null,
   "id": "4b1bc80e",
   "metadata": {},
   "outputs": [],
   "source": [
    "df_check = preprocessed[['monthly_gain','shop_type_small','shop_type_big', 'average_sale_price']].copy()\n",
    "# 데이터 값 실수. 소수점 두째자리까지 표시df\n",
    "pd.set_option('display.float_format', '{:.2f}'.format) \n",
    "\n",
    "df_check"
   ]
  },
  {
   "cell_type": "code",
   "execution_count": null,
   "id": "6bb48bc8",
   "metadata": {},
   "outputs": [],
   "source": [
    "pd.DataFrame(df_check['monthly_gain']).describe()"
   ]
  },
  {
   "cell_type": "markdown",
   "id": "2fc3c8f6",
   "metadata": {},
   "source": [
    "### average_sale_price"
   ]
  },
  {
   "cell_type": "code",
   "execution_count": null,
   "id": "42ef64fd",
   "metadata": {},
   "outputs": [],
   "source": [
    "pd.DataFrame(df_check['average_sale_price']).describe()"
   ]
  },
  {
   "cell_type": "markdown",
   "id": "3cf4477b",
   "metadata": {},
   "source": [
    "### shop_type_big"
   ]
  },
  {
   "cell_type": "code",
   "execution_count": null,
   "id": "0c4c0b9b",
   "metadata": {},
   "outputs": [],
   "source": [
    "group_big_gain = df_check.drop(['shop_type_small', 'average_sale_price'], axis=1).groupby('shop_type_big')\n",
    "df_group_big_gain = group_big_gain.describe().droplevel(axis=1,level=0)\n",
    "\n",
    "group_big_ave = df_check.drop(['shop_type_small', 'monthly_gain'], axis=1).groupby('shop_type_big')\n",
    "df_group_big_ave = group_big_ave.describe().droplevel(axis=1,level=0)\n",
    "\n",
    "# monthly_gain을 shop_type_big 분야별로 정렬하여 출력\n",
    "print(\"내림차순 기준 분야별로 정렬하여 출력합니다 - monthly_gain\")\n",
    "print(\"min: \", list(df_group_big_gain.sort_values(by=['min'], ascending=False).index))\n",
    "print(\"mean: \", list(df_group_big_gain.sort_values(by=['mean'], ascending=False).index))\n",
    "print(\"max: \", list(df_group_big_gain.sort_values(by=['max'], ascending=False).index))\n",
    "\n",
    "# average_sale_price을 shop_type_big 분야별로 정렬하여 출력\n",
    "print(\"\\n\\n내림차순 기준 분야별로 정렬하여 출력합니다 - average_sale_price\")\n",
    "print(\"min: \", list(df_group_big_ave.sort_values(by=['min'], ascending=False).index))\n",
    "print(\"mean: \", list(df_group_big_ave.sort_values(by=['mean'], ascending=False).index))\n",
    "print(\"max: \", list(df_group_big_ave.sort_values(by=['max'], ascending=False).index))"
   ]
  },
  {
   "cell_type": "code",
   "execution_count": null,
   "id": "26f7d58c",
   "metadata": {},
   "outputs": [],
   "source": [
    "rcParams['figure.figsize'] = 15,8\n",
    "sns.boxplot(x='shop_type_big', y='monthly_gain', data=df_check)"
   ]
  },
  {
   "cell_type": "code",
   "execution_count": null,
   "id": "6f5ada79",
   "metadata": {},
   "outputs": [],
   "source": [
    "rcParams['figure.figsize'] = 15,8\n",
    "sns.boxplot(x='shop_type_big', y='average_sale_price', data=df_check)"
   ]
  },
  {
   "cell_type": "code",
   "execution_count": null,
   "id": "e1a31a2d",
   "metadata": {},
   "outputs": [],
   "source": [
    "group_big_gain.boxplot(figsize=(12,16))"
   ]
  },
  {
   "cell_type": "code",
   "execution_count": null,
   "id": "a1c9765c",
   "metadata": {},
   "outputs": [],
   "source": [
    "group_big_ave.boxplot(figsize=(12,16))"
   ]
  },
  {
   "cell_type": "code",
   "execution_count": null,
   "id": "3ff71344",
   "metadata": {},
   "outputs": [],
   "source": [
    "fig, axes = plt.subplots(1, 3)\n",
    "\n",
    "df_group_big_gain.plot.bar(ax = axes[0], y='min')\n",
    "df_group_big_gain.plot.bar(ax = axes[1], y='mean')\n",
    "df_group_big_gain.plot.bar(ax = axes[2], y='max')\n",
    "\n",
    "plt.rcParams['figure.figsize'] = [14, 6]\n",
    "plt.show()"
   ]
  },
  {
   "cell_type": "code",
   "execution_count": null,
   "id": "7661d14c",
   "metadata": {},
   "outputs": [],
   "source": [
    "group_big_gain.describe()"
   ]
  },
  {
   "cell_type": "markdown",
   "id": "097dc5df",
   "metadata": {},
   "source": [
    "### shop_type_small"
   ]
  },
  {
   "cell_type": "code",
   "execution_count": null,
   "id": "6983d0bb",
   "metadata": {},
   "outputs": [],
   "source": [
    "#pd.set_option('display.max_rows', 14)\n",
    "group_small = df_check.groupby('shop_type_small')\n",
    "group_small.describe()"
   ]
  },
  {
   "cell_type": "code",
   "execution_count": null,
   "id": "08583c7f",
   "metadata": {},
   "outputs": [],
   "source": [
    "# density plot only\n",
    "ax = plt.subplots()\n",
    "ax = sns.distplot(df_check['monthly_gain'], hist = False)\n",
    "ax.set_title('Monthly gain Histogram with Density Plot')"
   ]
  },
  {
   "cell_type": "code",
   "execution_count": null,
   "id": "93a11c6c",
   "metadata": {},
   "outputs": [],
   "source": [
    "# density plot only\n",
    "ax = plt.subplots()\n",
    "ax = sns.distplot(df_check['average_sale_price'], hist = False)\n",
    "ax.set_title('Average sale price Histogram with Density Plot')"
   ]
  },
  {
   "cell_type": "markdown",
   "id": "14d8c93a",
   "metadata": {},
   "source": [
    "### average sale price, monthly gain correlation \n",
    "- 따로 단가와 매출의 상관관계를 분석합니다"
   ]
  },
  {
   "cell_type": "code",
   "execution_count": null,
   "id": "684237b2",
   "metadata": {},
   "outputs": [],
   "source": [
    "# LabelEncoder\n",
    "from sklearn.preprocessing import LabelEncoder\n",
    "le = LabelEncoder()\n",
    "\n",
    "df_check['shop_type_big'] = le.fit_transform(list(df_check['shop_type_big']))   # fit transform으로 한번에 처리 가능\n",
    "\n",
    "le = LabelEncoder()\n",
    "\n",
    "df_check['shop_type_small'] = le.fit_transform(list(df_check['shop_type_small'])) \n",
    "#le.classes_\n",
    "df_check"
   ]
  },
  {
   "cell_type": "code",
   "execution_count": null,
   "id": "8b93c559",
   "metadata": {},
   "outputs": [],
   "source": [
    "corr = df_check.corr()\n",
    "\n",
    "sns.clustermap(corr, \n",
    "               annot = True,      # 실제 값 화면에 나타내기\n",
    "               cmap = 'RdYlBu_r',  # Red, Yellow, Blue 색상으로 표시\n",
    "               vmin = -1, vmax = 1, #컬러차트 -1 ~ 1 범위로 표시\n",
    "              )"
   ]
  },
  {
   "cell_type": "markdown",
   "id": "dc26b660",
   "metadata": {},
   "source": [
    "### longitude, latitude \n",
    "- longitude 경도(세로)\n",
    "- latitude 위도(가로)\n",
    "- Clustering 결과 대략 9개의 클러스터로 나뉘는 것을 알 수 있음\n",
    "- 각 클러스터별 데이터 개수, monthly_gain의 평균값을 오름차순으로 정리한 것은 다음과 같음\n",
    "- count:  [7, 8, 6, 0, 5, 4, 3, 2, 1]\n",
    "- mean:  [5, 2, 3, 4, 1, 0, 6, 8, 7]"
   ]
  },
  {
   "cell_type": "code",
   "execution_count": null,
   "id": "50c5092d",
   "metadata": {},
   "outputs": [],
   "source": [
    "pd.set_option('display.float_format', None)\n",
    "df_geo = preprocessed[['longitude', 'latitude', 'monthly_gain']].copy()\n",
    "\n",
    "drop_longitude = df_geo[df_geo['longitude']==0].index \n",
    "drop_latitude = df_geo[df_geo['latitude']==0].index \n",
    "print(len(drop_longitude))\n",
    "print(len(drop_latitude))"
   ]
  },
  {
   "cell_type": "code",
   "execution_count": null,
   "id": "b6e90b72",
   "metadata": {},
   "outputs": [],
   "source": [
    "df_geo.plot(kind=\"scatter\", x=\"longitude\", y=\"latitude\", alpha=0.1)"
   ]
  },
  {
   "cell_type": "code",
   "execution_count": null,
   "id": "564b1f1c",
   "metadata": {},
   "outputs": [],
   "source": [
    "plt.figure(figsize=(15,5))\n",
    "sns.scatterplot(x='longitude',y='latitude',data=df_geo)"
   ]
  },
  {
   "cell_type": "code",
   "execution_count": null,
   "id": "dbe57cea",
   "metadata": {},
   "outputs": [],
   "source": [
    "from sklearn.cluster import KMeans\n",
    "\n",
    "#points = df_gps[['latitude', 'longitude']].values\n",
    "kmeans = KMeans(n_clusters=9).fit(df_geo[['latitude', 'longitude']])\n",
    "kmeans.cluster_centers_"
   ]
  },
  {
   "cell_type": "code",
   "execution_count": null,
   "id": "b6af9c09",
   "metadata": {},
   "outputs": [],
   "source": [
    "kmeans.labels_"
   ]
  },
  {
   "cell_type": "code",
   "execution_count": null,
   "id": "5dbba932",
   "metadata": {},
   "outputs": [],
   "source": [
    "df_geo['cluster'] = kmeans.labels_\n",
    "df_geo"
   ]
  },
  {
   "cell_type": "code",
   "execution_count": null,
   "id": "e97e4a22",
   "metadata": {},
   "outputs": [],
   "source": [
    "sns.scatterplot(x='longitude' , y='latitude', hue=\"cluster\", data=df_geo, palette=\"Paired\")\n",
    "plt.title('k-mean')"
   ]
  },
  {
   "cell_type": "code",
   "execution_count": null,
   "id": "d4835708",
   "metadata": {},
   "outputs": [],
   "source": [
    "for i in range(9):\n",
    "    labels=df_geo[df_geo[\"cluster\"]==i]\n",
    "    plt.scatter(labels['longitude'],labels['latitude'],label=i)\n",
    "\n",
    "plt.legend()\n",
    "plt.xlabel('longitude')\n",
    "plt.ylabel('latitude')\n",
    "plt.show()"
   ]
  },
  {
   "cell_type": "code",
   "execution_count": null,
   "id": "ef0eb47f",
   "metadata": {},
   "outputs": [],
   "source": [
    "pd.set_option('display.float_format', '{:.2f}'.format) \n",
    "group_geo = df_geo.groupby('cluster')\n",
    "group_geo['monthly_gain'].describe()"
   ]
  },
  {
   "cell_type": "code",
   "execution_count": null,
   "id": "61907e4f",
   "metadata": {},
   "outputs": [],
   "source": [
    "print(\"오름차순 기준 클러스터별로 정렬하여 출력합니다\")\n",
    "print(\"count: \", list(group_geo['monthly_gain'].describe().sort_values(by=['count']).index))\n",
    "print(\"mean: \", list(group_geo['monthly_gain'].describe().sort_values(by=['mean']).index))\n",
    "group_geo['monthly_gain'].describe().sort_values(by=['count'])"
   ]
  },
  {
   "cell_type": "code",
   "execution_count": null,
   "id": "26635c42",
   "metadata": {},
   "outputs": [],
   "source": [
    "# 클러스터별 매출 총 합산액\n",
    "group_geo['monthly_gain'].sum().plot.bar()"
   ]
  },
  {
   "cell_type": "markdown",
   "id": "cb7d44bf",
   "metadata": {},
   "source": [
    "### 성별, 요일, 시간 \n",
    "- 확인 안하면 큰일날 뻔 했다... \n",
    "- 성별에 0만 가득찬 데이터가 1,187개 존재 \n",
    "- 제거하면 총 144,300개 data"
   ]
  },
  {
   "cell_type": "code",
   "execution_count": null,
   "id": "8de1fa2c",
   "metadata": {},
   "outputs": [],
   "source": [
    "pd.set_option('display.float_format', None)\n",
    "\n",
    "df_gender = preprocessed[[ \n",
    "       'female_20', 'female_30', 'female_40', 'female_50', 'male_20',\n",
    "       'male_30', 'male_40', 'male_50']].copy()\n",
    "df_time = preprocessed[[\n",
    "    'weekday0', 'weekday1', 'weekday2',\n",
    "       'weekday3', 'weekday4', 'weekday5', 'weekday6']].copy()\n",
    "df_week = preprocessed[['time_05_10', 'time_10_14', 'time_14_18',\n",
    "            'time_18_20', 'time_20_22', 'time_22_24', 'time_00_05']].copy()"
   ]
  },
  {
   "cell_type": "code",
   "execution_count": null,
   "id": "f0f3071f",
   "metadata": {},
   "outputs": [],
   "source": [
    "df_gender.describe()"
   ]
  },
  {
   "cell_type": "code",
   "execution_count": null,
   "id": "6f76e185",
   "metadata": {},
   "outputs": [],
   "source": [
    "df_time.describe()"
   ]
  },
  {
   "cell_type": "code",
   "execution_count": null,
   "id": "17bfd20a",
   "metadata": {},
   "outputs": [],
   "source": [
    "df_week.describe()"
   ]
  },
  {
   "cell_type": "code",
   "execution_count": null,
   "id": "5d9a9048",
   "metadata": {},
   "outputs": [],
   "source": [
    "df_gender.sum(axis=1).describe()"
   ]
  },
  {
   "cell_type": "code",
   "execution_count": null,
   "id": "33e7afe0",
   "metadata": {},
   "outputs": [],
   "source": [
    "# gender 열에 0.0으로만 가득한 데이터가 1,187개가 존재 \n",
    "gender_index = df_gender[df_gender.sum(axis=1)==0].index\n",
    "\n",
    "print(144300+1187)\n",
    "df_gender=df_gender.drop(gender_index)\n",
    "df_gender"
   ]
  },
  {
   "cell_type": "code",
   "execution_count": null,
   "id": "2eaa6903",
   "metadata": {},
   "outputs": [],
   "source": [
    "df_gender.sum(axis=1).describe()"
   ]
  },
  {
   "cell_type": "code",
   "execution_count": null,
   "id": "8b7541ee",
   "metadata": {},
   "outputs": [],
   "source": []
  }
 ],
 "metadata": {
  "kernelspec": {
   "display_name": "Python 3",
   "language": "python",
   "name": "python3"
  },
  "language_info": {
   "codemirror_mode": {
    "name": "ipython",
    "version": 3
   },
   "file_extension": ".py",
   "mimetype": "text/x-python",
   "name": "python",
   "nbconvert_exporter": "python",
   "pygments_lexer": "ipython3",
   "version": "3.8.12"
  }
 },
 "nbformat": 4,
 "nbformat_minor": 5
}
