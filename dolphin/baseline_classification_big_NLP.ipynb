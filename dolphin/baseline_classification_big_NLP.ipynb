{
 "cells": [
  {
   "cell_type": "markdown",
   "id": "e40dea94",
   "metadata": {},
   "source": [
    "# 1. Data Load\n"
   ]
  },
  {
   "cell_type": "code",
   "execution_count": 1,
   "id": "cabb55fa",
   "metadata": {},
   "outputs": [],
   "source": [
    "import numpy as np\n",
    "import pandas as pd\n",
    "import math\n",
    "\n",
    "from scipy import stats #Analysis \n",
    "from scipy.stats import norm \n",
    "\n",
    "import seaborn as sns\n",
    "import matplotlib.pyplot as plt\n",
    "from matplotlib import rcParams\n",
    "%matplotlib inline"
   ]
  },
  {
   "cell_type": "code",
   "execution_count": 2,
   "id": "9ef4a9e7",
   "metadata": {},
   "outputs": [],
   "source": [
    "# 한글 폰트가 깨지면 실행하세요! \n",
    "import matplotlib.font_manager as fm\n",
    "fontlist = fm.findSystemFonts(fontpaths = None, fontext='ttf')\n",
    "# 아래 주석을 지워서 폰트 리스트를 확인하고 한글 폰트를 font_path에 추가합니다\n",
    "fontlist[:]\n",
    "\n",
    "from matplotlib import font_manager, rc\n",
    "#font_path = 'C:\\\\Users\\\\mtang\\\\AppData\\\\Local\\\\Microsoft\\\\Windows\\\\Fonts\\\\NanumSquare.ttf'\n",
    "font_path = 'C:\\\\WINDOWS\\\\Fonts\\\\NanumGothicLight.ttf'\n",
    "font = font_manager.FontProperties(fname=font_path).get_name()\n",
    "rc('font', family=font)"
   ]
  },
  {
   "cell_type": "code",
   "execution_count": null,
   "id": "175a42b3",
   "metadata": {},
   "outputs": [],
   "source": [
    "path = \"./Dataset/\"\n",
    "\n",
    "data = pd.read_csv(path+\"kwproja_data_location.csv\")\n",
    "\n",
    "# original data -> data\n",
    "data"
   ]
  },
  {
   "cell_type": "markdown",
   "id": "1eecf56c",
   "metadata": {},
   "source": [
    "# 2. EDA \n",
    "\n",
    "**2,927,739 rows X 11 columns**\n",
    "\n",
    "- 매장 속성 정보\n",
    "    - shop_code 매장 코드  \n",
    "    - date 매출 날짜\n",
    "       - 201606~ 201805 기간 (총 24개의 category) \n",
    "    - shop_name 매장명 \n",
    "    - longtitude 경도\n",
    "    - latitude : 위도 \n",
    "        - 매장 위치 (회사 근처, 학교 근처 등 매출 영향성 있음) -> 군집화, labeling 필요\n",
    "    - address1 지역구\n",
    "    - address2 지역동 \n",
    "        - 매장 위치에 대해 GeoEncoder를 통해 따로 얻은 행정구/동\n",
    "        - 구(address1) : 30개\n",
    "        - 동(address2) : 436개\n",
    "    - shop_type_big 업종 대분류 \n",
    "        - 매출 영향성 있음 \n",
    "        - 총 15개의 category)\n",
    "    - shop_type_small 업종 소분류 \n",
    "        - 총 61개의 category\n",
    "- 매장 매출 정보 \n",
    "    - average_sale_price 월평균 단가 \n",
    "    - monthly_gain 월 매출 \n",
    "    - monthly_gain / avearge_sale_price = 한달 총 판매수\n",
    "- 매출 통계 정보-> X\n",
    "\n",
    "##### monthly_gain과 average_sale_price 중 어느 것을 y값으로 둘 것인가? \n",
    "- 월매출 예측 문제로 가정하고 montly_gain 을 y값으로 예측하는 모델 만들기\n",
    "\n",
    "##### shop_code는 input feature에 넣어야 하는가?\n",
    "- 특별한 브랜드가 y값을 결정하는 과적합 요소가 될 수 있으므로\n",
    "- X 에서 shop code, shop name 제외하는 것도 방법\n",
    "- 어느 위치에 어떤 업종으로 어떤 객단가인 매장을 오픈하면 월매출이 어떻게 될까? 문제\n",
    " - X: shop type big, shop type small, longitude, latitude, avg_sale_price, \n",
    " - y: montly_gain\n",
    " \n",
    "['date', 'shop_code', 'shop_name', 'shop_type_big', 'shop_type_small',\n",
    "       'longitude', 'latitude', 'monthly_gain', 'average_sale_price']"
   ]
  },
  {
   "cell_type": "code",
   "execution_count": 4,
   "id": "4790f693",
   "metadata": {},
   "outputs": [],
   "source": [
    "data.columns = ['date', 'shop_code', 'shop_name', 'shop_type_big', 'shop_type_small', \n",
    "                'longitude', 'latitude', 'monthly_gain', 'average_sale_price', 'address1', 'address2']"
   ]
  },
  {
   "cell_type": "code",
   "execution_count": 5,
   "id": "8160023d",
   "metadata": {},
   "outputs": [
    {
     "data": {
      "text/plain": [
       "Index(['date', 'shop_code', 'shop_name', 'shop_type_big', 'shop_type_small',\n",
       "       'longitude', 'latitude', 'monthly_gain', 'average_sale_price',\n",
       "       'address1', 'address2'],\n",
       "      dtype='object')"
      ]
     },
     "execution_count": 5,
     "metadata": {},
     "output_type": "execute_result"
    }
   ],
   "source": [
    "data.columns"
   ]
  },
  {
   "cell_type": "code",
   "execution_count": 6,
   "id": "0e2e2b0d",
   "metadata": {},
   "outputs": [
    {
     "name": "stdout",
     "output_type": "stream",
     "text": [
      "<class 'pandas.core.frame.DataFrame'>\n",
      "RangeIndex: 2927739 entries, 0 to 2927738\n",
      "Data columns (total 11 columns):\n",
      " #   Column              Dtype  \n",
      "---  ------              -----  \n",
      " 0   date                int64  \n",
      " 1   shop_code           int64  \n",
      " 2   shop_name           object \n",
      " 3   shop_type_big       object \n",
      " 4   shop_type_small     object \n",
      " 5   longitude           float64\n",
      " 6   latitude            float64\n",
      " 7   monthly_gain        float64\n",
      " 8   average_sale_price  int64  \n",
      " 9   address1            object \n",
      " 10  address2            object \n",
      "dtypes: float64(3), int64(3), object(5)\n",
      "memory usage: 245.7+ MB\n"
     ]
    }
   ],
   "source": [
    "data.info()"
   ]
  },
  {
   "cell_type": "markdown",
   "id": "3f6c9722",
   "metadata": {},
   "source": [
    "# 3. Preprocessing\n",
    "data -> processed_data\n",
    "\n",
    "**2,927,739 rows X 11 columns**\n",
    "\n",
    "- 9 columns : **shop_code | date | shop_name | shop_type_big | shop_type_small | longitude | latitude | average_sale_price | monthly_gain**\n",
    "\n",
    "- Removing missing value, 결측치 제거\n",
    "    - A/N, 해당 사항 없음 \n",
    "- Feature selection, 변수 선택 \n",
    "    - shop_code : 식별자 feature 이므로 drop \n",
    "    - date : 쓸 수 없으므로 drop\n",
    "- Feature Engineering \n",
    "    - longitude, latitude : \n",
    "        - ML : k-mean clustering -> geo column \n",
    "        - DL : NLP, reverse geo encoder(행정동admcode, 법정동, 지번주소, 도로명주소) -> 행정동 채택\n",
    "- Encoding, 범주형 변수 수치화 \n",
    "    - shop_type_big(15), shop_type_small(61) \n",
    "        - ML : label encodding, binary encoding -> binary encdoing 최종 채택\n",
    "        - DL : NLP, 단어 그대로 학습\n",
    "- Standardization and Normalization \n",
    "    - average_sale_price \n",
    "        - log transformation \n",
    "    - Scaler\n",
    "        - RobustScaler, StandardScaler -> 실험에 유의미한 변화를 보이지 못했음 \n",
    "- Removing outlier, 이상치 제거\n",
    "    - 55,256 개 \n",
    "    - 단, 선택적인 부분 -> 분류 모델 보다 회귀 모델에서 더 좋은 반응을 보임\n",
    "\n",
    "**2,694,599 rows X 8 columns**"
   ]
  },
  {
   "cell_type": "code",
   "execution_count": 8,
   "id": "746b4c66",
   "metadata": {},
   "outputs": [],
   "source": [
    "# 원본 data와 따로 관리 -> original data = data, preprocessed data = processed_data \n",
    "# feature drop : date, shop_code\n",
    "processed_data = data.drop(['date', 'shop_code'], axis=1).copy()"
   ]
  },
  {
   "cell_type": "code",
   "execution_count": 9,
   "id": "a9ad35fa",
   "metadata": {
    "scrolled": true
   },
   "outputs": [
    {
     "name": "stdout",
     "output_type": "stream",
     "text": [
      "monthly gain null :  0\n",
      "average sale price null :  0\n",
      "shop type big null :  0\n",
      "shop type big unique :  15\n",
      "shop type small null :  0\n",
      "shop type small unique :  27\n"
     ]
    }
   ],
   "source": [
    "# There are no missing values \n",
    "# missing value drop - monthly_gain\n",
    "null_index = processed_data[processed_data['monthly_gain']==0].index \n",
    "print(\"monthly gain null : \", len(null_index))\n",
    "processed_data = processed_data.drop(null_index)\n",
    "\n",
    "# missing value drop - average_sale_price\n",
    "null_index = processed_data[processed_data['average_sale_price']==0].index \n",
    "print(\"average sale price null : \", len(null_index))\n",
    "processed_data = processed_data.drop(null_index)\n",
    "\n",
    "# missing value drop - shop_type_big\n",
    "null_index = processed_data[processed_data['shop_type_big'].isnull()==True].index\n",
    "print(\"shop type big null : \", len(null_index))\n",
    "print(\"shop type big unique : \", processed_data['shop_type_big'].nunique())\n",
    "processed_data = processed_data.drop(null_index)\n",
    "\n",
    "# missing value drop - shop_type_small \n",
    "null_index = processed_data[processed_data['address1'].isnull()==True].index\n",
    "print(\"shop type small null : \", len(null_index))\n",
    "print(\"shop type small unique : \", processed_data['address1'].nunique() )"
   ]
  },
  {
   "cell_type": "code",
   "execution_count": null,
   "id": "8bdb9104",
   "metadata": {},
   "outputs": [],
   "source": [
    "# LabelEncoder\n",
    "from sklearn.preprocessing import LabelEncoder\n",
    "\n",
    "# fit transform으로 한번에 처리 가능\n",
    "le_big = LabelEncoder()\n",
    "processed_data['shop_type_big_label'] = le_big.fit_transform(list(processed_data['shop_type_big']))   \n",
    "print(le_big.classes_)\n",
    "\n",
    "le_small = LabelEncoder()\n",
    "processed_data['shop_type_small_label'] = le_small.fit_transform(list(processed_data['shop_type_small'])) \n",
    "print(le_small.classes_)"
   ]
  },
  {
   "cell_type": "code",
   "execution_count": 11,
   "id": "edef0d86",
   "metadata": {},
   "outputs": [
    {
     "name": "stderr",
     "output_type": "stream",
     "text": [
      "C:\\Users\\Hyeongbin\\anaconda3\\lib\\site-packages\\category_encoders\\utils.py:21: FutureWarning: is_categorical is deprecated and will be removed in a future version.  Use is_categorical_dtype instead\n",
      "  elif pd.api.types.is_categorical(cols):\n"
     ]
    }
   ],
   "source": [
    "# BinaryEncoder for categorical variable \n",
    "import category_encoders as ce\n",
    "\n",
    "encoder = ce.BinaryEncoder(cols=[\"shop_type_big\", \"shop_type_small\"])\n",
    "df = encoder.fit_transform(processed_data[[\"shop_type_big\", \"shop_type_small\"]])\n",
    "\n",
    "processed_data = pd.concat([processed_data, df], axis=1)"
   ]
  },
  {
   "cell_type": "code",
   "execution_count": 12,
   "id": "204e2264",
   "metadata": {},
   "outputs": [],
   "source": [
    "# NLP용 preprocessing \n",
    "# shop_name, shop_type_big, shop_type_small = concat_text \n",
    "processed_data['concat_text'] = processed_data['shop_name'] + ' ' + processed_data['shop_type_big'] + ' ' + processed_data['shop_type_small'] + ' '\n",
    "processed_data['concat_text'] = processed_data['concat_text'] + ' ' + processed_data['address1'] + ' ' + processed_data['address2']\n",
    "processed_data = processed_data.drop(['shop_name', 'address1', 'address2'], axis=1)"
   ]
  },
  {
   "cell_type": "code",
   "execution_count": 13,
   "id": "35a8be3a",
   "metadata": {},
   "outputs": [
    {
     "name": "stdout",
     "output_type": "stream",
     "text": [
      "[[ 37.49583685 126.90273576]\n",
      " [ 37.57108094 127.0668474 ]\n",
      " [ 37.50177308 127.03566714]\n",
      " [ 37.5739446  126.92465705]\n",
      " [ 37.56571976 126.99365623]\n",
      " [ 37.53835404 126.84645794]\n",
      " [ 37.51712644 127.1211588 ]\n",
      " [ 37.63899078 127.0452175 ]\n",
      " [ 37.49414967 126.96097465]]\n",
      "[6 2 0 ... 2 5 6]\n"
     ]
    },
    {
     "data": {
      "text/plain": [
       "<AxesSubplot:xlabel='longitude', ylabel='latitude'>"
      ]
     },
     "execution_count": 13,
     "metadata": {},
     "output_type": "execute_result"
    },
    {
     "name": "stderr",
     "output_type": "stream",
     "text": [
      "C:\\Users\\Hyeongbin\\anaconda3\\lib\\site-packages\\IPython\\core\\pylabtools.py:151: UserWarning: Creating legend with loc=\"best\" can be slow with large amounts of data.\n",
      "  fig.canvas.print_figure(bytes_io, **kw)\n"
     ]
    },
    {
     "data": {
      "image/png": "[encoded data removed]",
      "text/plain": [
       "<Figure size 432x288 with 1 Axes>"
      ]
     },
     "metadata": {
      "needs_background": "light"
     },
     "output_type": "display_data"
    }
   ],
   "source": [
    "# Labeling - KMeans Clustering \n",
    "# longitude + latitude = geo \n",
    "# 위도+ 경도 -> 2차원 \n",
    "# 숫자 + 숫자 -> 2차원 \n",
    "# 숫자 + 숫자 + y label \n",
    "from sklearn.cluster import KMeans\n",
    "from sklearn.metrics import silhouette_score\n",
    "\n",
    "kmeans = KMeans(n_clusters=9, init='k-means++', n_init=1, random_state = 300).fit(processed_data[['latitude', 'longitude']])\n",
    "print(kmeans.cluster_centers_)\n",
    "print(kmeans.labels_)\n",
    "\n",
    "processed_data['geo'] = kmeans.labels_\n",
    "\n",
    "# plotting geo\n",
    "#score = np.round(silhouette_score(processed_data[['latitude', 'longitude']], kmeans.labels_),3)\n",
    "       \n",
    "sns.scatterplot(x='longitude' , y='latitude', hue=\"geo\", data=processed_data, palette=\"Paired\")\n",
    "#plt.title(str(score))\n",
    "\n",
    "# NLP 처리를 위해서 featrue drop은 생략합니다! \n",
    "#processed_data = processed_data.drop(['longitude', 'latitude'], axis=1)"
   ]
  },
  {
   "cell_type": "code",
   "execution_count": null,
   "id": "3538625e",
   "metadata": {},
   "outputs": [],
   "source": [
    "# average_sale_price -> skewed data \n",
    "# log transfromation \n",
    "from sklearn.preprocessing import MinMaxScaler, RobustScaler, StandardScaler, Normalizer\n",
    "\n",
    "scale_cols = ['average_sale_price']\n",
    "processed_data[scale_cols] = processed_data[scale_cols].apply(lambda x : np.log1p(x))\n",
    "\n",
    "processed_data"
   ]
  },
  {
   "cell_type": "code",
   "execution_count": 16,
   "id": "24488b29",
   "metadata": {},
   "outputs": [
    {
     "data": {
      "text/plain": [
       "<AxesSubplot:xlabel='shop_type_big', ylabel='monthly_gain'>"
      ]
     },
     "execution_count": 16,
     "metadata": {},
     "output_type": "execute_result"
    },
    {
     "data": {
      "image/png": "[encoded data removed]",
      "text/plain": [
       "<Figure size 1080x576 with 1 Axes>"
      ]
     },
     "metadata": {
      "needs_background": "light"
     },
     "output_type": "display_data"
    }
   ],
   "source": [
    "# check the preprocessed 'average_sale_price' by shop_type_big\n",
    "rcParams['figure.figsize'] = 15,8\n",
    "sns.boxplot(x='shop_type_big', y='monthly_gain', data=processed_data)"
   ]
  },
  {
   "cell_type": "code",
   "execution_count": 28,
   "id": "9ee31831",
   "metadata": {},
   "outputs": [
    {
     "data": {
      "text/plain": [
       "<AxesSubplot:title={'center':'monthly_gain'}, xlabel='[shop_type_big_label]'>"
      ]
     },
     "execution_count": 28,
     "metadata": {},
     "output_type": "execute_result"
    },
    {
     "data": {
      "image/png": "[encoded data removed]",
      "text/plain": [
       "<Figure size 1080x576 with 1 Axes>"
      ]
     },
     "metadata": {
      "needs_background": "light"
     },
     "output_type": "display_data"
    }
   ],
   "source": [
    "# check the 'monthly_gain'\n",
    "processed_data.boxplot(column = ['monthly_gain'], by=['shop_type_big_label'])"
   ]
  },
  {
   "cell_type": "markdown",
   "id": "08ffaff6",
   "metadata": {},
   "source": [
    "# 4. Target Variable Labeling and EDA for variable y\n",
    "processed_data -> labeled_data \n",
    "- 어떻게 라벨링 할 것인가? \n",
    "- 1. Classification : use mean, std -> failed\n",
    "- 2. Classification : Quantile 10%, 20%, 25%, 33% -> label 10, 5, 4, 3 \n",
    "- 3. Classification : Quantile by shop_type_big with lower fence, Q2, upper_fence -> label 31\n",
    "- 3. Classification : Quantile by shop_type_big with Q1, Q2, Q3 -> label 45\n",
    "- 4. Classification : price label, min:5, max:181억 -> label 15\n",
    "- 5. Removing Outlier : outler 233,140 -> total data(without outlier) 2,694,599\n",
    "- 6. Rounding data "
   ]
  },
  {
   "cell_type": "code",
   "execution_count": null,
   "id": "6d6947c7",
   "metadata": {},
   "outputs": [],
   "source": [
    "# pandas option 설정 하는 코드\n",
    "# monthly_gain의 경우 부동소수점으로 나타나서 보기 어려울땐 윗 줄의 주석을 제거하고 아래에 주석을 추가하고\n",
    "# 다시 원래대로 돌리고 싶다면 아래에 주석제거, 위 코드에 주석추가\n",
    "pd.options.display.float_format = '{:.2f}'.format\n",
    "#pd.reset_option('display.float_format')\n",
    "\n",
    "# 전처리된 data와 따로 관리 -> preprocessed data = procssed_data, labeled data = labeled_data \n",
    "labeled_data = processed_data.copy()\n",
    "labeled_data"
   ]
  },
  {
   "cell_type": "code",
   "execution_count": 16,
   "id": "6547ce2b",
   "metadata": {},
   "outputs": [
    {
     "name": "stdout",
     "output_type": "stream",
     "text": [
      "내림차순 기준 분야별로 정렬하여 출력합니다 - monthly_gain\n",
      "min:  ['생활서비스', '양식', '뷔페', '수산물', '일식', '분식', '패스트푸드', '다방/커피숍/카페', '별식/퓨전요리', '음식-미분류', '제과제빵떡케익', '중식', '한식', '소매', '유흥주점']\n",
      "mean: ['수산물', '유흥주점', '뷔페', '양식', '생활서비스', '한식', '중식', '별식/퓨전요리', '음식-미분류', '일식', '패스트푸드', '제과제빵떡케익', '분식', '소매', '다방/커피숍/카페']\n",
      "max:  ['소매', '음식-미분류', '유흥주점', '다방/커피숍/카페', '패스트푸드', '분식', '별식/퓨전요리', '제과제빵떡케익', '중식', '뷔페', '한식', '수산물', '일식', '양식', '생활서비스']\n"
     ]
    },
    {
     "data": {
      "text/html": [
       "<div>\n",
       "<style scoped>\n",
       "    .dataframe tbody tr th:only-of-type {\n",
       "        vertical-align: middle;\n",
       "    }\n",
       "\n",
       "    .dataframe tbody tr th {\n",
       "        vertical-align: top;\n",
       "    }\n",
       "\n",
       "    .dataframe thead th {\n",
       "        text-align: right;\n",
       "    }\n",
       "</style>\n",
       "<table border=\"1\" class=\"dataframe\">\n",
       "  <thead>\n",
       "    <tr style=\"text-align: right;\">\n",
       "      <th></th>\n",
       "      <th>count</th>\n",
       "      <th>mean</th>\n",
       "      <th>std</th>\n",
       "      <th>min</th>\n",
       "      <th>25%</th>\n",
       "      <th>50%</th>\n",
       "      <th>75%</th>\n",
       "      <th>max</th>\n",
       "    </tr>\n",
       "    <tr>\n",
       "      <th>shop_type_big</th>\n",
       "      <th></th>\n",
       "      <th></th>\n",
       "      <th></th>\n",
       "      <th></th>\n",
       "      <th></th>\n",
       "      <th></th>\n",
       "      <th></th>\n",
       "      <th></th>\n",
       "    </tr>\n",
       "  </thead>\n",
       "  <tbody>\n",
       "    <tr>\n",
       "      <th>다방/커피숍/카페</th>\n",
       "      <td>318339.00</td>\n",
       "      <td>9.03</td>\n",
       "      <td>0.73</td>\n",
       "      <td>2.40</td>\n",
       "      <td>8.63</td>\n",
       "      <td>8.88</td>\n",
       "      <td>9.22</td>\n",
       "      <td>16.68</td>\n",
       "    </tr>\n",
       "    <tr>\n",
       "      <th>별식/퓨전요리</th>\n",
       "      <td>213619.00</td>\n",
       "      <td>10.12</td>\n",
       "      <td>0.60</td>\n",
       "      <td>2.40</td>\n",
       "      <td>9.85</td>\n",
       "      <td>10.10</td>\n",
       "      <td>10.45</td>\n",
       "      <td>16.47</td>\n",
       "    </tr>\n",
       "    <tr>\n",
       "      <th>분식</th>\n",
       "      <td>188263.00</td>\n",
       "      <td>9.39</td>\n",
       "      <td>0.58</td>\n",
       "      <td>3.93</td>\n",
       "      <td>9.00</td>\n",
       "      <td>9.27</td>\n",
       "      <td>9.71</td>\n",
       "      <td>16.52</td>\n",
       "    </tr>\n",
       "    <tr>\n",
       "      <th>뷔페</th>\n",
       "      <td>24891.00</td>\n",
       "      <td>10.48</td>\n",
       "      <td>0.89</td>\n",
       "      <td>4.62</td>\n",
       "      <td>9.95</td>\n",
       "      <td>10.60</td>\n",
       "      <td>10.92</td>\n",
       "      <td>15.82</td>\n",
       "    </tr>\n",
       "    <tr>\n",
       "      <th>생활서비스</th>\n",
       "      <td>47.00</td>\n",
       "      <td>10.29</td>\n",
       "      <td>0.87</td>\n",
       "      <td>8.75</td>\n",
       "      <td>9.62</td>\n",
       "      <td>9.91</td>\n",
       "      <td>11.02</td>\n",
       "      <td>12.01</td>\n",
       "    </tr>\n",
       "    <tr>\n",
       "      <th>소매</th>\n",
       "      <td>359034.00</td>\n",
       "      <td>9.31</td>\n",
       "      <td>1.02</td>\n",
       "      <td>0.69</td>\n",
       "      <td>8.65</td>\n",
       "      <td>8.87</td>\n",
       "      <td>9.82</td>\n",
       "      <td>18.92</td>\n",
       "    </tr>\n",
       "    <tr>\n",
       "      <th>수산물</th>\n",
       "      <td>131323.00</td>\n",
       "      <td>10.78</td>\n",
       "      <td>0.63</td>\n",
       "      <td>4.62</td>\n",
       "      <td>10.38</td>\n",
       "      <td>10.76</td>\n",
       "      <td>11.16</td>\n",
       "      <td>15.14</td>\n",
       "    </tr>\n",
       "    <tr>\n",
       "      <th>양식</th>\n",
       "      <td>13726.00</td>\n",
       "      <td>10.34</td>\n",
       "      <td>0.92</td>\n",
       "      <td>6.91</td>\n",
       "      <td>9.73</td>\n",
       "      <td>10.39</td>\n",
       "      <td>10.85</td>\n",
       "      <td>14.47</td>\n",
       "    </tr>\n",
       "    <tr>\n",
       "      <th>유흥주점</th>\n",
       "      <td>254766.00</td>\n",
       "      <td>10.62</td>\n",
       "      <td>0.64</td>\n",
       "      <td>0.69</td>\n",
       "      <td>10.31</td>\n",
       "      <td>10.56</td>\n",
       "      <td>10.85</td>\n",
       "      <td>16.72</td>\n",
       "    </tr>\n",
       "    <tr>\n",
       "      <th>음식-미분류</th>\n",
       "      <td>455192.00</td>\n",
       "      <td>10.12</td>\n",
       "      <td>1.10</td>\n",
       "      <td>2.40</td>\n",
       "      <td>9.31</td>\n",
       "      <td>10.08</td>\n",
       "      <td>10.74</td>\n",
       "      <td>16.86</td>\n",
       "    </tr>\n",
       "    <tr>\n",
       "      <th>일식</th>\n",
       "      <td>83488.00</td>\n",
       "      <td>10.03</td>\n",
       "      <td>0.79</td>\n",
       "      <td>4.62</td>\n",
       "      <td>9.50</td>\n",
       "      <td>9.85</td>\n",
       "      <td>10.38</td>\n",
       "      <td>14.81</td>\n",
       "    </tr>\n",
       "    <tr>\n",
       "      <th>제과제빵떡케익</th>\n",
       "      <td>98201.00</td>\n",
       "      <td>9.53</td>\n",
       "      <td>0.86</td>\n",
       "      <td>2.40</td>\n",
       "      <td>8.99</td>\n",
       "      <td>9.23</td>\n",
       "      <td>9.89</td>\n",
       "      <td>16.30</td>\n",
       "    </tr>\n",
       "    <tr>\n",
       "      <th>중식</th>\n",
       "      <td>112420.00</td>\n",
       "      <td>10.23</td>\n",
       "      <td>0.72</td>\n",
       "      <td>2.40</td>\n",
       "      <td>9.75</td>\n",
       "      <td>10.08</td>\n",
       "      <td>10.78</td>\n",
       "      <td>15.89</td>\n",
       "    </tr>\n",
       "    <tr>\n",
       "      <th>패스트푸드</th>\n",
       "      <td>130544.00</td>\n",
       "      <td>9.56</td>\n",
       "      <td>0.82</td>\n",
       "      <td>3.93</td>\n",
       "      <td>8.95</td>\n",
       "      <td>9.45</td>\n",
       "      <td>10.11</td>\n",
       "      <td>16.65</td>\n",
       "    </tr>\n",
       "    <tr>\n",
       "      <th>한식</th>\n",
       "      <td>543886.00</td>\n",
       "      <td>10.27</td>\n",
       "      <td>0.70</td>\n",
       "      <td>2.40</td>\n",
       "      <td>9.76</td>\n",
       "      <td>10.23</td>\n",
       "      <td>10.76</td>\n",
       "      <td>15.42</td>\n",
       "    </tr>\n",
       "  </tbody>\n",
       "</table>\n",
       "</div>"
      ],
      "text/plain": [
       "                  count  mean  std  min   25%   50%   75%   max\n",
       "shop_type_big                                                  \n",
       "다방/커피숍/카페     318339.00  9.03 0.73 2.40  8.63  8.88  9.22 16.68\n",
       "별식/퓨전요리       213619.00 10.12 0.60 2.40  9.85 10.10 10.45 16.47\n",
       "분식            188263.00  9.39 0.58 3.93  9.00  9.27  9.71 16.52\n",
       "뷔페             24891.00 10.48 0.89 4.62  9.95 10.60 10.92 15.82\n",
       "생활서비스             47.00 10.29 0.87 8.75  9.62  9.91 11.02 12.01\n",
       "소매            359034.00  9.31 1.02 0.69  8.65  8.87  9.82 18.92\n",
       "수산물           131323.00 10.78 0.63 4.62 10.38 10.76 11.16 15.14\n",
       "양식             13726.00 10.34 0.92 6.91  9.73 10.39 10.85 14.47\n",
       "유흥주점          254766.00 10.62 0.64 0.69 10.31 10.56 10.85 16.72\n",
       "음식-미분류        455192.00 10.12 1.10 2.40  9.31 10.08 10.74 16.86\n",
       "일식             83488.00 10.03 0.79 4.62  9.50  9.85 10.38 14.81\n",
       "제과제빵떡케익        98201.00  9.53 0.86 2.40  8.99  9.23  9.89 16.30\n",
       "중식            112420.00 10.23 0.72 2.40  9.75 10.08 10.78 15.89\n",
       "패스트푸드         130544.00  9.56 0.82 3.93  8.95  9.45 10.11 16.65\n",
       "한식            543886.00 10.27 0.70 2.40  9.76 10.23 10.76 15.42"
      ]
     },
     "execution_count": 16,
     "metadata": {},
     "output_type": "execute_result"
    }
   ],
   "source": [
    "group_big_gain = labeled_data[['shop_type_big','average_sale_price']].groupby('shop_type_big')\n",
    "df_group_big_gain = group_big_gain.describe().droplevel(axis=1,level=0)\n",
    "\n",
    "# monthly_gain을 shop_type_big 분야별로 정렬하여 출력\n",
    "print(\"내림차순 기준 분야별로 정렬하여 출력합니다 - monthly_gain\")\n",
    "print(\"min: \", list(df_group_big_gain.sort_values(by=['min'], ascending=False).index))\n",
    "print(\"mean:\", list(df_group_big_gain.sort_values(by=['mean'], ascending=False).index))\n",
    "print(\"max: \", list(df_group_big_gain.sort_values(by=['max'], ascending=False).index))\n",
    "\n",
    "df_group_big_gain"
   ]
  },
  {
   "cell_type": "code",
   "execution_count": 17,
   "id": "23870c09",
   "metadata": {},
   "outputs": [
    {
     "name": "stdout",
     "output_type": "stream",
     "text": [
      "Index(['다방/커피숍/카페', '별식/퓨전요리', '분식', '뷔페', '생활서비스', '소매', '수산물', '양식', '유흥주점',\n",
      "       '음식-미분류', '일식', '제과제빵떡케익', '중식', '패스트푸드', '한식'],\n",
      "      dtype='object', name='shop_type_big')\n"
     ]
    },
    {
     "data": {
      "text/plain": [
       "<AxesSubplot:xlabel='shop_type_big'>"
      ]
     },
     "execution_count": 17,
     "metadata": {},
     "output_type": "execute_result"
    },
    {
     "data": {
      "image/png": "[encoded data removed]",
      "text/plain": [
       "<Figure size 1800x720 with 1 Axes>"
      ]
     },
     "metadata": {
      "needs_background": "light"
     },
     "output_type": "display_data"
    }
   ],
   "source": [
    "# shop_type_big 으로 묶은 후 shop_type_small 간의 평균 가격대를 비교하는 코드 \n",
    "# 제조같은 분야는 하나의 소분야가 압도적으로 가격대가 높게 형성되어 있고 나머지는 비슷비슷함\n",
    "# 스포츠 같은 경우는 모든 소분야가 비슷한 가격대를 형성함 \n",
    "\n",
    "# shop_type_big 중에서 5번 종목이 가격 분포가 너무 넓어서 그래프를 그렸을 때 다른 종목도 보기 어려워서\n",
    "# 5번을 드랍하고 보기로 함 -> 전반적으로 평균보다 편차가 훨씬 큼\n",
    "typebig_list = df_group_big_gain.index\n",
    "print(typebig_list)\n",
    "\n",
    "updated_df = df_group_big_gain.drop('소매').copy()\n",
    "updated_df.plot.bar(y=['std', 'mean', 'count'], figsize=(25,10))"
   ]
  },
  {
   "cell_type": "code",
   "execution_count": 18,
   "id": "4682e373",
   "metadata": {},
   "outputs": [
    {
     "data": {
      "text/plain": [
       "<AxesSubplot:xlabel='shop_type_big', ylabel='average_sale_price'>"
      ]
     },
     "execution_count": 18,
     "metadata": {},
     "output_type": "execute_result"
    },
    {
     "data": {
      "image/png": "[encoded data removed]",
      "text/plain": [
       "<Figure size 1080x576 with 1 Axes>"
      ]
     },
     "metadata": {
      "needs_background": "light"
     },
     "output_type": "display_data"
    }
   ],
   "source": [
    "rcParams['figure.figsize'] = 15,8\n",
    "sns.boxplot(x='shop_type_big', y='average_sale_price', data=labeled_data)"
   ]
  },
  {
   "cell_type": "code",
   "execution_count": null,
   "id": "47d35092",
   "metadata": {},
   "outputs": [],
   "source": [
    "group_big_gain.get_group(7).boxplot(column='monthly_gain')"
   ]
  },
  {
   "cell_type": "code",
   "execution_count": null,
   "id": "142471dc",
   "metadata": {
    "scrolled": true
   },
   "outputs": [],
   "source": [
    "# box plot 상 outlier와 Quantile 상 75% 이상의 값을 확인합니다\n",
    "# we detect outlier (from upper, lower) and values greater than 75% in the quantile\n",
    "list_q4 = df_group_big_gain['75%'].values\n",
    "for i in range(0, 15) :\n",
    "    Q1 = group_big_gain.get_group(i)['monthly_gain'].quantile(0.25)\n",
    "    Q3 = group_big_gain.get_group(i)['monthly_gain'].quantile(0.75)\n",
    "    IQR = Q3 - Q1\n",
    "    lower_fence = Q1 - (1.5 * IQR)\n",
    "    upper_fence = Q3 + (1.5 * IQR)\n",
    "    \n",
    "    df = group_big_gain.get_group(i)['monthly_gain']\n",
    "    print(\"%.2f \\t\" % upper_fence, len(df[df > upper_fence]),\n",
    "          \"\\t %.2f \\t\" % lower_fence, len(df[df < lower_fence]),\n",
    "          \"\\t %.2f \\t\" % list_q4[i], len(df[df > list_q4[i]]))"
   ]
  },
  {
   "cell_type": "code",
   "execution_count": null,
   "id": "c87fa3ec",
   "metadata": {},
   "outputs": [],
   "source": [
    "# Explore shop_type_small\n",
    "\n",
    "#df_typesmall = []\n",
    "#for _ in typebig_list :\n",
    "#    df = df_check[df_check['shop_type_big'] == _ ].groupby('shop_type_small').describe().droplevel(axis=1,level=0)\n",
    "#    df_typesmall.append(df)\n",
    "#df_typesmall[2].plot.bar(y=['std','mean'], figsize=(25,10))"
   ]
  },
  {
   "cell_type": "markdown",
   "id": "a35dba1e",
   "metadata": {},
   "source": [
    "#### Labeling 1) shop_type_big에 따라 중간값, 편차를 이용\n",
    "\n",
    "- 모든 업종이 중간값 보다 편차가 너무 커서 폐기"
   ]
  },
  {
   "cell_type": "code",
   "execution_count": null,
   "id": "f44de388",
   "metadata": {
    "scrolled": true
   },
   "outputs": [],
   "source": [
    "group_big_gain = labeled_data[['shop_type_big_label','monthly_gain']].groupby('shop_type_big_label')\n",
    "df_group_big_gain = group_big_gain.describe().droplevel(axis=1,level=0)\n",
    "\n",
    "min_dict = df_group_big_gain['min'].to_dict()\n",
    "mean_dict = df_group_big_gain['mean'].to_dict()\n",
    "max_dict = df_group_big_gain['max'].to_dict()\n",
    "std_dict = df_group_big_gain['std'].to_dict()\n",
    "\n",
    "price_dict = []\n",
    "def labeling(x) : \n",
    "    for i in range(0, 15) :\n",
    "        max_price = mean_dict[i] + std_dict[i]\n",
    "        if mean_dict[i]-std_dict[i] <= 0 : min_price = 0 \n",
    "        else : min_price = mean_dict[i] - std_dict[i]\n",
    "\n",
    "        if x <= min  : return min/2\n",
    "        elif x >= max : return  \n",
    "    return i\n",
    "\n",
    "print(price_dict)\n",
    "labeled_data['gain_label'] = labeled_data.monthly_gain.apply(labeling)\n",
    "labeled_data"
   ]
  },
  {
   "cell_type": "markdown",
   "id": "3d31c910",
   "metadata": {},
   "source": [
    "#### Labeling 2) quantity하게, 백분율을 이용해서\n",
    "\n",
    "- **Label(10)**  min 10% 20% ... 80% 90% max의 값을 찾은 후, monthly_gain에 대해 두 범위 사이에 존재하는 값에 대해서 평균 값으로 라벨링 합니다. \n",
    "    - 예) min 과 10% 사이의 값 -> min과 10%의 평균 값으로 라벨링\n",
    "    - 라벨링 분포가 정확히 14432~14430 사이로 떨어짐 -> 오로지 백분율로 잘랐기 때문에 분포에 대한 걱정은 안해도 됨\n",
    "    - accuracy f-1score : 0.50 ~ 0.49\n",
    "- **Label(3)**  위와 동일한 방식으로 자릅니다. \n",
    "    - 0 ~ 33 ~ 66 ~ 99(100) -> 총 3개의 label 생성\n",
    "    - 1: 3,669,015.0075000003, 2: 18,734,738.491500005, 3: 303,196,624.6690003\n",
    "    - 3백, 2천(1천8백만), 3억\n",
    "    - accuracy f-1score : 0.84 ~ 0.82\n",
    "- **Label(4)**  위와 동일한 방식으로 자릅니다. \n",
    "    - 0 ~ 25 ~ 50 ~ 75 ~ 100 -> 총 4개의 label 생성\n",
    "    - 1: 2,324,858.25, 2: 10,317,593.25, 3: 29,815,219.125, 4: 32,692,544,860.4\n",
    "    - 2백, 1천만, 3천만(2천9백), 326억\n",
    "    - accuracy f-1score : 0.78 ~ 0.76\n",
    "- **Label(5)**  위와 동일한 방식으로 자릅니다. \n",
    "    - 0 ~ 20 ~ 40 ~ 60 ~ 80 ~ 100 -> 총 5개의 label 생성\n",
    "    - 1: 1,622,880.0, 2: 6,773,160.0, 3: 17,044,674.75,4: 39,214,985.75, 5: 32,698,042,967.275\n",
    "    - 1백만, 6백만, 1천7백만, 4천(3천9백만), 326억\n",
    "    - accuracy f-1score : 0.71 ~ 0.70\n",
    "- 백분율로 자르는 방법\n",
    "    - labe(10)의 경우 유난히 4~8 label에 대해서는 잘 못맞춤 -> monthly_gain을 일렬로 세웠을 때 앞 뒤로 뭉쳐있어서 그런 것 같음 \n",
    "    - 무작정 quantity하게 값을 나눠서 라벨링 하는 것은 좋은 것 같지 않음..\n",
    "    - 앞, 뒤로는 자잘하게 자르고 가운데는 큼직하게 잘라야..?\n",
    "    - 확실히 class의 개수가 많아질수록 accuracy가 낮아짐"
   ]
  },
  {
   "cell_type": "code",
   "execution_count": 15,
   "id": "38ac967a",
   "metadata": {},
   "outputs": [
    {
     "name": "stdout",
     "output_type": "stream",
     "text": [
      "label:  [10  8  7  2  4  6  5  3  9  1]\n",
      "{1: 766177.392, 2: 2416853.102, 3: 4367341.306000001, 4: 6771578.880000001, 5: 9842625.509, 6: 13910004.138000002, 7: 19613928.162, 8: 28182833.791999996, 9: 43187748.551, 10: 90645164352.75299}\n",
      "[0, 1532354.784, 3301351.42, 5433331.192000002, 8109826.568, 11575424.45, 16244583.826000005, 22983272.497999996, 33382395.085999995, 52993102.016, 181237335603.49]\n"
     ]
    }
   ],
   "source": [
    "price_dict = {}  # original price를 저장하기 위한 dict\n",
    "price_list = [0] # 시작 min 값은 0 \n",
    "for i in range(1, 11) :\n",
    "    price_list.append(labeled_data['monthly_gain'].quantile(q=i*0.1)) # 10% ~ 100% 값을 가져옵니다    \n",
    "\n",
    "def labeling(x) : \n",
    "    for i in range(1, len(price_list)) :\n",
    "        price_dict[i] = (price_list[i]+price_list[i-1])/2\n",
    "        if x < price_list[i] and x >= price_list[i-1] : return i\n",
    "    return i\n",
    "\n",
    "labeled_data['gain_label'] = labeled_data.monthly_gain.apply(labeling)\n",
    "print(\"label: \", labeled_data['gain_label'].unique())\n",
    "print(price_dict)\n",
    "print(price_list)"
   ]
  },
  {
   "cell_type": "markdown",
   "id": "98e55267",
   "metadata": {},
   "source": [
    "#### Labeling 3) shop_type_big에 따라 Q1, Q2, Q3, upper fence, lower fence값 이용  \n",
    "\n",
    "- shop_type_big 당 label 3개 : Total lable 30 + 1(lower_fence=0) = 31 \n",
    "- Q1 ~ 이하 값 : lower fence = 0\n",
    "- Q1 ~ Q3 : Q2, mid\n",
    "- Q3 ~ 이상 값 : upper fence \n",
    "\n",
    "- shop_type_big 당 label 3개 : Total label 45\n",
    "- Q1 이하값 : Q1 \n",
    "- Q1 ~ Q3 : Q2, mid\n",
    "- Q3 이상값 : Q3"
   ]
  },
  {
   "cell_type": "code",
   "execution_count": null,
   "id": "e567b3a5",
   "metadata": {
    "scrolled": true
   },
   "outputs": [],
   "source": [
    "def get_pricelist(i, data) :\n",
    "    df = data[['shop_type_big_label','monthly_gain']].groupby('shop_type_big_label')\n",
    "    Q1 = df.get_group(i)['monthly_gain'].quantile(0.25)\n",
    "    Q2 = df.get_group(i)['monthly_gain'].quantile(0.5)\n",
    "    Q3 = df.get_group(i)['monthly_gain'].quantile(0.75)\n",
    "    IQR = Q3 - Q1\n",
    "    lower_fence = Q1 - (1.5 * IQR)\n",
    "    upper_fence = Q3 + (1.5 * IQR)\n",
    "    if lower_fence <= 0 : lower_fence = 0\n",
    "        \n",
    "    return lower_fence, Q1, Q2, Q3, upper_fence\n",
    "\n",
    "def labeling(data) : \n",
    "    lable_list = [[0]*5 for i in range(15)]\n",
    "    for i in range(0,15) : \n",
    "        lower_fence, Q1, Q2, Q3, upper_fence = get_pricelist(i, data)\n",
    "        prices = data.loc[(data.shop_type_big_label == i), 'monthly_gain']\n",
    "        lable_list[i] = [lower_fence, Q1, Q2, Q3, upper_fence ]\n",
    "        # lower fence, Q2, upper fence \n",
    "        #prices = prices.apply(lambda x: lower_fence if x < Q1 else (upper_fence if x > Q3 else Q2))\n",
    "        prices = prices.apply(lambda x : Q1 if x < Q1 else (Q3 if x > Q3 else Q2))\n",
    "        data.loc[(data.shop_type_big_label == i), 'gain_label'] = prices\n",
    "    return data, lable_list \n",
    "\n",
    "labeled_data, label_list = labeling(labeled_data)\n",
    "print(\"label counts: \", labeled_data['gain_label'].nunique())\n",
    "print(label_list)\n",
    "labeled_data.head()"
   ]
  },
  {
   "cell_type": "code",
   "execution_count": 21,
   "id": "38567493",
   "metadata": {},
   "outputs": [
    {
     "data": {
      "text/html": [
       "<div>\n",
       "<style scoped>\n",
       "    .dataframe tbody tr th:only-of-type {\n",
       "        vertical-align: middle;\n",
       "    }\n",
       "\n",
       "    .dataframe tbody tr th {\n",
       "        vertical-align: top;\n",
       "    }\n",
       "\n",
       "    .dataframe thead th {\n",
       "        text-align: right;\n",
       "    }\n",
       "</style>\n",
       "<table border=\"1\" class=\"dataframe\">\n",
       "  <thead>\n",
       "    <tr style=\"text-align: right;\">\n",
       "      <th></th>\n",
       "      <th>lower_fence</th>\n",
       "      <th>Q1</th>\n",
       "      <th>Q2</th>\n",
       "      <th>Q3</th>\n",
       "      <th>upper_fence</th>\n",
       "    </tr>\n",
       "  </thead>\n",
       "  <tbody>\n",
       "    <tr>\n",
       "      <th>다방/커피숍/카페</th>\n",
       "      <td>0</td>\n",
       "      <td>3252624</td>\n",
       "      <td>7505698</td>\n",
       "      <td>15909550</td>\n",
       "      <td>34894938</td>\n",
       "    </tr>\n",
       "    <tr>\n",
       "      <th>별식/퓨전요리</th>\n",
       "      <td>0</td>\n",
       "      <td>5770587</td>\n",
       "      <td>12058130</td>\n",
       "      <td>23826346</td>\n",
       "      <td>50909984</td>\n",
       "    </tr>\n",
       "    <tr>\n",
       "      <th>분식</th>\n",
       "      <td>0</td>\n",
       "      <td>3471252</td>\n",
       "      <td>8711467</td>\n",
       "      <td>19694451</td>\n",
       "      <td>44029251</td>\n",
       "    </tr>\n",
       "    <tr>\n",
       "      <th>뷔페</th>\n",
       "      <td>0</td>\n",
       "      <td>6552622</td>\n",
       "      <td>15851043</td>\n",
       "      <td>36195659</td>\n",
       "      <td>80660215</td>\n",
       "    </tr>\n",
       "    <tr>\n",
       "      <th>생활서비스</th>\n",
       "      <td>0</td>\n",
       "      <td>2922138</td>\n",
       "      <td>4186328</td>\n",
       "      <td>6760663</td>\n",
       "      <td>12518452</td>\n",
       "    </tr>\n",
       "    <tr>\n",
       "      <th>소매</th>\n",
       "      <td>0</td>\n",
       "      <td>7382320</td>\n",
       "      <td>27178602</td>\n",
       "      <td>47733778</td>\n",
       "      <td>108260966</td>\n",
       "    </tr>\n",
       "    <tr>\n",
       "      <th>수산물</th>\n",
       "      <td>0</td>\n",
       "      <td>8455953</td>\n",
       "      <td>18101518</td>\n",
       "      <td>36318652</td>\n",
       "      <td>78112701</td>\n",
       "    </tr>\n",
       "    <tr>\n",
       "      <th>양식</th>\n",
       "      <td>0</td>\n",
       "      <td>6093858</td>\n",
       "      <td>13859828</td>\n",
       "      <td>28725833</td>\n",
       "      <td>62673795</td>\n",
       "    </tr>\n",
       "    <tr>\n",
       "      <th>유흥주점</th>\n",
       "      <td>0</td>\n",
       "      <td>3687630</td>\n",
       "      <td>9033762</td>\n",
       "      <td>19227524</td>\n",
       "      <td>42537365</td>\n",
       "    </tr>\n",
       "    <tr>\n",
       "      <th>음식-미분류</th>\n",
       "      <td>0</td>\n",
       "      <td>2237639</td>\n",
       "      <td>6398832</td>\n",
       "      <td>17318475</td>\n",
       "      <td>39939730</td>\n",
       "    </tr>\n",
       "    <tr>\n",
       "      <th>일식</th>\n",
       "      <td>0</td>\n",
       "      <td>8029402</td>\n",
       "      <td>16006683</td>\n",
       "      <td>30874311</td>\n",
       "      <td>65141675</td>\n",
       "    </tr>\n",
       "    <tr>\n",
       "      <th>제과제빵떡케익</th>\n",
       "      <td>0</td>\n",
       "      <td>3178903</td>\n",
       "      <td>9812952</td>\n",
       "      <td>29231947</td>\n",
       "      <td>68311513</td>\n",
       "    </tr>\n",
       "    <tr>\n",
       "      <th>중식</th>\n",
       "      <td>0</td>\n",
       "      <td>7359411</td>\n",
       "      <td>17865797</td>\n",
       "      <td>36184657</td>\n",
       "      <td>79422526</td>\n",
       "    </tr>\n",
       "    <tr>\n",
       "      <th>패스트푸드</th>\n",
       "      <td>0</td>\n",
       "      <td>5233673</td>\n",
       "      <td>12564552</td>\n",
       "      <td>27443949</td>\n",
       "      <td>60759363</td>\n",
       "    </tr>\n",
       "    <tr>\n",
       "      <th>한식</th>\n",
       "      <td>0</td>\n",
       "      <td>5727531</td>\n",
       "      <td>14123414</td>\n",
       "      <td>30392434</td>\n",
       "      <td>67389789</td>\n",
       "    </tr>\n",
       "  </tbody>\n",
       "</table>\n",
       "</div>"
      ],
      "text/plain": [
       "           lower_fence       Q1        Q2        Q3  upper_fence\n",
       "다방/커피숍/카페            0  3252624   7505698  15909550     34894938\n",
       "별식/퓨전요리              0  5770587  12058130  23826346     50909984\n",
       "분식                   0  3471252   8711467  19694451     44029251\n",
       "뷔페                   0  6552622  15851043  36195659     80660215\n",
       "생활서비스                0  2922138   4186328   6760663     12518452\n",
       "소매                   0  7382320  27178602  47733778    108260966\n",
       "수산물                  0  8455953  18101518  36318652     78112701\n",
       "양식                   0  6093858  13859828  28725833     62673795\n",
       "유흥주점                 0  3687630   9033762  19227524     42537365\n",
       "음식-미분류               0  2237639   6398832  17318475     39939730\n",
       "일식                   0  8029402  16006683  30874311     65141675\n",
       "제과제빵떡케익              0  3178903   9812952  29231947     68311513\n",
       "중식                   0  7359411  17865797  36184657     79422526\n",
       "패스트푸드                0  5233673  12564552  27443949     60759363\n",
       "한식                   0  5727531  14123414  30392434     67389789"
      ]
     },
     "execution_count": 21,
     "metadata": {},
     "output_type": "execute_result"
    }
   ],
   "source": [
    "# label dataframe 가공! \n",
    "label_df = pd.DataFrame(label_list)\n",
    "\n",
    "index = le_big.classes_\n",
    "label_df = label_df.set_index(keys=index, inplace=False)\n",
    "label_df.columns = ['lower_fence', 'Q1', 'Q2', 'Q3', 'upper_fence']\n",
    "label_df = label_df.astype(int)\n",
    "\n",
    "label_df"
   ]
  },
  {
   "cell_type": "markdown",
   "id": "05f7db1f",
   "metadata": {},
   "source": [
    "#### Labeling 4) all price range\n",
    "- min : 5 \n",
    "- max : 181,237,335,603 (181억)\n",
    "- 10,000원*\n",
    "- 100,000원(십만원대)*\n",
    "- 500,000원(십만~오십만원대)*\n",
    "- 1,000,000원 (백만원대)\n",
    "- 2, 3, 4, 5, 6, 7, 8, 9 (detailed)\n",
    "- 10,000,000원 (천만원대)\n",
    "- 30,000,000원 \n",
    "- 50,000,000원\n",
    "- 70,000,000원\n",
    "- 100,000,000원 (억대)*\n",
    "- 500,000,000원 *\n",
    "- 1,000,000,000원(십억대) *\n",
    "- 10,000,000,000원(백억대) *"
   ]
  },
  {
   "cell_type": "code",
   "execution_count": 26,
   "id": "062082ca",
   "metadata": {},
   "outputs": [
    {
     "name": "stdout",
     "output_type": "stream",
     "text": [
      "15\n",
      "30000000.00     921619\n",
      "3000000.00      343299\n",
      "50000000.00     311124\n",
      "5000000.00      284585\n",
      "10000000.00     281385\n",
      "7000000.00      235054\n",
      "1000000.00      177939\n",
      "70000000.00      97653\n",
      "100000000.00     22249\n",
      "100000.00        16747\n",
      "500000000.00      2140\n",
      "10000.00           805\n",
      "Name: gain_label, dtype: int64\n"
     ]
    }
   ],
   "source": [
    "price_dict = [10000, 100000,\n",
    "              1000000, 3000000, 5000000, 7000000,\n",
    "              10000000, 30000000, 50000000, 70000000,\n",
    "              100000000, 500000000, 1000000000, 10000000000, 15000000000]\n",
    "print(len(price_dict))\n",
    "\n",
    "def labeling(x) : \n",
    "    for i in range(0, len(price_dict)) :\n",
    "        if x < price_dict[i] : return price_dict[i]\n",
    "    return price_dict[-1]\n",
    "\n",
    "labeled_data['gain_label'] = input_data.monthly_gain.apply(labeling)\n",
    "print(labeled_data['gain_label'].value_counts())"
   ]
  },
  {
   "cell_type": "markdown",
   "id": "1d2e7c3c",
   "metadata": {},
   "source": [
    "#### Option 5) Removing outlier\n",
    "upper fence, lower fence 외 값(outlier)을 제거합니다 "
   ]
  },
  {
   "cell_type": "code",
   "execution_count": null,
   "id": "9178cbda",
   "metadata": {},
   "outputs": [],
   "source": [
    "def get_pricelist(i, data) :\n",
    "    df = data[['shop_type_big_label','monthly_gain']].groupby('shop_type_big_label')\n",
    "    Q1 = df.get_group(i)['monthly_gain'].quantile(0.25)\n",
    "    Q2 = df.get_group(i)['monthly_gain'].quantile(0.5)\n",
    "    Q3 = df.get_group(i)['monthly_gain'].quantile(0.75)\n",
    "    IQR = Q3 - Q1\n",
    "    lower_fence = Q1 - (1.5 * IQR)\n",
    "    upper_fence = Q3 + (1.5 * IQR)\n",
    "    if lower_fence <= 0 : lower_fence = 0\n",
    "        \n",
    "    return lower_fence, Q1, Q2, Q3, upper_fence\n",
    "\n",
    "def remove_outlier(data, processed_data) :\n",
    "    output_data = data.copy()\n",
    "    for i in range(0,15) :\n",
    "        lower_fence, Q1, Q2, Q3, upper_fence = get_pricelist(i, processed_data)\n",
    "        shoptype_index = data[data.shop_type_big_label == i].index\n",
    "        shoptype_data = data.iloc[shoptype_index, :]\n",
    "        outlier_index = shoptype_data[shoptype_data.monthly_gain > upper_fence].index\n",
    "        print(\"removed index in shop_type_big\" , i, \": \", len(outlier_index))\n",
    "        output_data = output_data.drop(outlier_index)\n",
    "    return output_data \n",
    "\n",
    "labeled_data = remove_outlier(labeled_data, processed_data)\n",
    "labeled_data"
   ]
  },
  {
   "cell_type": "code",
   "execution_count": 31,
   "id": "e043cd1a",
   "metadata": {},
   "outputs": [
    {
     "data": {
      "text/plain": [
       "<AxesSubplot:>"
      ]
     },
     "execution_count": 31,
     "metadata": {},
     "output_type": "execute_result"
    },
    {
     "data": {
      "image/png": "[encoded data removed]",
      "text/plain": [
       "<Figure size 1080x576 with 1 Axes>"
      ]
     },
     "metadata": {
      "needs_background": "light"
     },
     "output_type": "display_data"
    }
   ],
   "source": [
    "group_big_gain = labeled_data[['shop_type_big_label','monthly_gain']].groupby('shop_type_big_label')\n",
    "df_group_big_gain = group_big_gain.describe().droplevel(axis=1,level=0)\n",
    "group_big_gain.get_group(7).boxplot(column='monthly_gain')"
   ]
  },
  {
   "cell_type": "markdown",
   "id": "a2737e09",
   "metadata": {},
   "source": [
    "#### Option 6) Rounding data\n",
    "십만원대, 백만원대 아래 가격들은 모두 반올림 하여 비슷한 label 값을 가지는 것들은 통일\n",
    "- label의 개수를 줄임\n",
    "- 1의 자리~ 10,000의 자리 숫자들은 반올림하에 0으로 처리"
   ]
  },
  {
   "cell_type": "code",
   "execution_count": 100,
   "id": "6d9e31eb",
   "metadata": {},
   "outputs": [
    {
     "name": "stdout",
     "output_type": "stream",
     "text": [
      "original monthly_gain_label counts :  45\n",
      "rounded monthly_gain_label value counts : 36 \n",
      " 14000000.00    278804\n",
      "6400000.00     227596\n",
      "27000000.00    200572\n",
      "7500000.00     159169\n",
      "5700000.00     135972\n",
      "9000000.00     127382\n",
      "18000000.00    121871\n",
      "7400000.00     117864\n",
      "2200000.00     113798\n",
      "16000000.00    108641\n",
      "12000000.00    106809\n",
      "30000000.00     95836\n",
      "8700000.00      94131\n",
      "3300000.00      79585\n",
      "13000000.00     65272\n",
      "3700000.00      63692\n",
      "17000000.00     63266\n",
      "48000000.00     63081\n",
      "5800000.00      53405\n",
      "9800000.00      49101\n",
      "36000000.00     47794\n",
      "3500000.00      47066\n",
      "19000000.00     44342\n",
      "24000000.00     37679\n",
      "20000000.00     35063\n",
      "8500000.00      32831\n",
      "5200000.00      32636\n",
      "3200000.00      24550\n",
      "29000000.00     21410\n",
      "8000000.00      20872\n",
      "31000000.00     14808\n",
      "6600000.00       6223\n",
      "6100000.00       3432\n",
      "4200000.00         23\n",
      "2900000.00         12\n",
      "6800000.00         11\n",
      "Name: gain_label, dtype: int64\n"
     ]
    }
   ],
   "source": [
    "print(\"original monthly_gain_label counts : \", labeled_data['gain_label'].nunique())\n",
    "labeled_data['gain_label'] = labeled_data.gain_label.apply(lambda x : round(x, -5) if x < 10000000 else round(x, -6))\n",
    "\n",
    "print(\"rounded monthly_gain_label value counts :\", labeled_data['gain_label'].nunique(), \n",
    "      \"\\n\", labeled_data['gain_label'].value_counts())"
   ]
  },
  {
   "cell_type": "markdown",
   "id": "2520471a",
   "metadata": {},
   "source": [
    "# 5. Data Split \n",
    "모든 전처리와 y variable labeling이 완료되었다. train / valid / test data로 분할하고 용도에 맞게 ML, DL을 돌리도록 하자. "
   ]
  },
  {
   "cell_type": "code",
   "execution_count": 18,
   "id": "216beca9",
   "metadata": {},
   "outputs": [
    {
     "name": "stdout",
     "output_type": "stream",
     "text": [
      "original gain_label \n",
      " [ 2237639  2922138  3178903  3252624  3471252  3687630  4186328  5233673\n",
      "  5727531  5770587  6093858  6398832  6552622  6760663  7359411  7382320\n",
      "  7505698  8029402  8455953  8711467  9033762  9812952 12058130 12564552\n",
      " 13859828 14123414 15851043 15909550 16006683 17318475 17865797 18101518\n",
      " 19227524 19694451 23826346 27178602 27443949 28725833 29231947 30392434\n",
      " 30874311 36184657 36195659 36318652 47733778]\n",
      "gain_lable label \n",
      " {0, 1, 2, 3, 4, 5, 6, 7, 8, 9, 10, 11, 12, 13, 14, 15, 16, 17, 18, 19, 20, 21, 22, 23, 24, 25, 26, 27, 28, 29, 30, 31, 32, 33, 34, 35, 36, 37, 38, 39, 40, 41, 42, 43, 44}\n"
     ]
    }
   ],
   "source": [
    "from sklearn.model_selection import train_test_split, cross_validate, StratifiedKFold, GridSearchCV\n",
    "\n",
    "# continous 값은 lgbm에서 classification 할 수 없음\n",
    "# conver 'float' to 'int'\n",
    "labeled_data = labeled_data.astype({'gain_label' : 'int'})\n",
    "\n",
    "# labeled된 data와 따로 관리 -> labeled data = labeled_data, model input data = input_data\n",
    "input_data = labeled_data.copy()\n",
    "\n",
    "input_data_y = input_data['gain_label'].copy()\n",
    "input_data_X = input_data.drop(['gain_label', 'monthly_gain'], axis=1)\n",
    "\n",
    "\n",
    "# LabelEncoder\n",
    "# y data를 LabelEncdoer로 한 번 더 labeling 합니다 -> 100만원, 10000만원... = 0, 1, ... \n",
    "# 추후에 DL에서 output을 맞춰주기 위함입니다, 최종 마지막에서 원래 label값(100만원, 1000만원...)으로 되돌립니다\n",
    "from sklearn.preprocessing import LabelEncoder\n",
    "\n",
    "le = LabelEncoder()\n",
    "input_data_y = le.fit_transform(list(input_data_y))\n",
    "print(\"original gain_label \\n\", le.classes_)\n",
    "print(\"gain_lable label \\n\", set(input_data_y))"
   ]
  },
  {
   "cell_type": "code",
   "execution_count": 19,
   "id": "25cf1583",
   "metadata": {},
   "outputs": [],
   "source": [
    "# train/ test data 로 split \n",
    "tr_val_X, test_X, tr_val_y, test_y = train_test_split(\n",
    "    input_data_X, \n",
    "    input_data_y, \n",
    "    test_size = 0.2, \n",
    "    random_state = 42,\n",
    "    shuffle=True,\n",
    "    stratify = input_data_y # Classification 중요 option\n",
    ")\n",
    "\n",
    "# valid/train 로 split\n",
    "train_X, valid_X, train_y, valid_y = train_test_split(\n",
    "    tr_val_X, \n",
    "    tr_val_y, \n",
    "    test_size = 0.2, \n",
    "    random_state = 42,\n",
    "    shuffle=True,\n",
    "    stratify = tr_val_y\n",
    ")"
   ]
  },
  {
   "cell_type": "markdown",
   "id": "977e012e",
   "metadata": {},
   "source": [
    "# 6. Modeling - ML, XGB, LGBM\n",
    "- shop_type_big, shop_type_small, geo, average_sale_price\n",
    "- XGB\n",
    "- LGBM\n",
    "- Multi-Class Classification "
   ]
  },
  {
   "cell_type": "code",
   "execution_count": 31,
   "id": "705a33ef",
   "metadata": {},
   "outputs": [
    {
     "name": "stdout",
     "output_type": "stream",
     "text": [
      "2342191\n",
      "1873752\n",
      "468439\n",
      "468439\n",
      "585548\n",
      "585548\n"
     ]
    }
   ],
   "source": [
    "# ml용 data에는 _ml을 붙여줍니다 \n",
    "X_column_ml = ['average_sale_price', 'shop_type_big_0',\n",
    "       'shop_type_big_1', 'shop_type_big_2', 'shop_type_big_3',\n",
    "       'shop_type_big_4', 'shop_type_small_0', 'shop_type_small_1',\n",
    "       'shop_type_small_2', 'shop_type_small_3', 'shop_type_small_4',\n",
    "       'shop_type_small_5', 'shop_type_small_6', 'geo']\n",
    "\n",
    "train_X_ml = train_X[X_column_ml].copy()\n",
    "valid_X_ml = valid_X[X_column_ml].copy()\n",
    "test_X_ml = test_X[X_column_ml].copy()\n",
    "\n",
    "print(len(tr_val_X))\n",
    "print(len(train_X_ml))\n",
    "print(len(valid_X))\n",
    "print(len(valid_X_ml))\n",
    "print(len(test_X))\n",
    "print(len(test_X_ml))"
   ]
  },
  {
   "cell_type": "code",
   "execution_count": 32,
   "id": "bca7d026",
   "metadata": {},
   "outputs": [],
   "source": [
    "from lightgbm import LGBMClassifier\n",
    "from lightgbm import plot_importance \n",
    "from xgboost import XGBClassifier\n",
    "from xgboost import plot_importance\n",
    "from keras.callbacks import EarlyStopping, ModelCheckpoint\n",
    "# Learning task parameters\n",
    "# multi:softmax : softmax를 이용한 다중 클래스 분류 \n",
    "# multi:softptob : softmax를 이용한 다중 클래스에 대한 예상 확률 반환 \n",
    "# mlogloss : multiclass logloss \n",
    "\n",
    "model_xgb = XGBClassifier(\n",
    "    eval_metric='mlogloss', use_label_encoder=False)\n",
    "model_lgbm = LGBMClassifier(\n",
    "    eval_metric='mlogloss')"
   ]
  },
  {
   "cell_type": "code",
   "execution_count": 34,
   "id": "61858132",
   "metadata": {
    "scrolled": true
   },
   "outputs": [
    {
     "name": "stdout",
     "output_type": "stream",
     "text": [
      "[0]\tvalidation_0-mlogloss:1.67511\n",
      "[1]\tvalidation_0-mlogloss:1.46712\n",
      "[2]\tvalidation_0-mlogloss:1.34834\n",
      "[3]\tvalidation_0-mlogloss:1.26498\n",
      "[4]\tvalidation_0-mlogloss:1.20297\n",
      "[5]\tvalidation_0-mlogloss:1.15508\n",
      "[6]\tvalidation_0-mlogloss:1.11738\n",
      "[7]\tvalidation_0-mlogloss:1.08714\n",
      "[8]\tvalidation_0-mlogloss:1.06255\n",
      "[9]\tvalidation_0-mlogloss:1.04231\n",
      "[10]\tvalidation_0-mlogloss:1.02552\n",
      "[11]\tvalidation_0-mlogloss:1.01146\n",
      "[12]\tvalidation_0-mlogloss:0.99967\n",
      "[13]\tvalidation_0-mlogloss:0.98977\n",
      "[14]\tvalidation_0-mlogloss:0.98135\n",
      "[15]\tvalidation_0-mlogloss:0.97411\n",
      "[16]\tvalidation_0-mlogloss:0.96800\n",
      "[17]\tvalidation_0-mlogloss:0.96274\n",
      "[18]\tvalidation_0-mlogloss:0.95819\n",
      "[19]\tvalidation_0-mlogloss:0.95408\n",
      "[20]\tvalidation_0-mlogloss:0.95065\n",
      "[21]\tvalidation_0-mlogloss:0.94773\n",
      "[22]\tvalidation_0-mlogloss:0.94510\n",
      "[23]\tvalidation_0-mlogloss:0.94292\n",
      "[24]\tvalidation_0-mlogloss:0.94103\n",
      "[25]\tvalidation_0-mlogloss:0.93930\n",
      "[26]\tvalidation_0-mlogloss:0.93773\n",
      "[27]\tvalidation_0-mlogloss:0.93635\n",
      "[28]\tvalidation_0-mlogloss:0.93512\n",
      "[29]\tvalidation_0-mlogloss:0.93406\n",
      "[30]\tvalidation_0-mlogloss:0.93312\n",
      "[31]\tvalidation_0-mlogloss:0.93222\n",
      "[32]\tvalidation_0-mlogloss:0.93151\n",
      "[33]\tvalidation_0-mlogloss:0.93085\n",
      "[34]\tvalidation_0-mlogloss:0.93012\n",
      "[35]\tvalidation_0-mlogloss:0.92954\n",
      "[36]\tvalidation_0-mlogloss:0.92904\n",
      "[37]\tvalidation_0-mlogloss:0.92854\n",
      "[38]\tvalidation_0-mlogloss:0.92797\n",
      "[39]\tvalidation_0-mlogloss:0.92740\n",
      "[40]\tvalidation_0-mlogloss:0.92695\n",
      "[41]\tvalidation_0-mlogloss:0.92641\n",
      "[42]\tvalidation_0-mlogloss:0.92599\n",
      "[43]\tvalidation_0-mlogloss:0.92548\n",
      "[44]\tvalidation_0-mlogloss:0.92499\n",
      "[45]\tvalidation_0-mlogloss:0.92443\n",
      "[46]\tvalidation_0-mlogloss:0.92405\n",
      "[47]\tvalidation_0-mlogloss:0.92367\n",
      "[48]\tvalidation_0-mlogloss:0.92321\n",
      "[49]\tvalidation_0-mlogloss:0.92278\n",
      "[50]\tvalidation_0-mlogloss:0.92233\n",
      "[51]\tvalidation_0-mlogloss:0.92197\n",
      "[52]\tvalidation_0-mlogloss:0.92156\n",
      "[53]\tvalidation_0-mlogloss:0.92114\n",
      "[54]\tvalidation_0-mlogloss:0.92070\n",
      "[55]\tvalidation_0-mlogloss:0.92031\n",
      "[56]\tvalidation_0-mlogloss:0.91994\n",
      "[57]\tvalidation_0-mlogloss:0.91964\n",
      "[58]\tvalidation_0-mlogloss:0.91935\n",
      "[59]\tvalidation_0-mlogloss:0.91901\n",
      "[60]\tvalidation_0-mlogloss:0.91851\n",
      "[61]\tvalidation_0-mlogloss:0.91806\n",
      "[62]\tvalidation_0-mlogloss:0.91757\n",
      "[63]\tvalidation_0-mlogloss:0.91718\n",
      "[64]\tvalidation_0-mlogloss:0.91691\n",
      "[65]\tvalidation_0-mlogloss:0.91660\n",
      "[66]\tvalidation_0-mlogloss:0.91630\n",
      "[67]\tvalidation_0-mlogloss:0.91594\n",
      "[68]\tvalidation_0-mlogloss:0.91556\n",
      "[69]\tvalidation_0-mlogloss:0.91514\n",
      "[70]\tvalidation_0-mlogloss:0.91478\n",
      "[71]\tvalidation_0-mlogloss:0.91439\n",
      "[72]\tvalidation_0-mlogloss:0.91404\n",
      "[73]\tvalidation_0-mlogloss:0.91373\n",
      "[74]\tvalidation_0-mlogloss:0.91341\n",
      "[75]\tvalidation_0-mlogloss:0.91311\n",
      "[76]\tvalidation_0-mlogloss:0.91259\n",
      "[77]\tvalidation_0-mlogloss:0.91231\n",
      "[78]\tvalidation_0-mlogloss:0.91198\n",
      "[79]\tvalidation_0-mlogloss:0.91182\n",
      "[80]\tvalidation_0-mlogloss:0.91167\n",
      "[81]\tvalidation_0-mlogloss:0.91147\n",
      "[82]\tvalidation_0-mlogloss:0.91119\n",
      "[83]\tvalidation_0-mlogloss:0.91097\n",
      "[84]\tvalidation_0-mlogloss:0.91074\n",
      "[85]\tvalidation_0-mlogloss:0.91055\n",
      "[86]\tvalidation_0-mlogloss:0.91028\n",
      "[87]\tvalidation_0-mlogloss:0.91001\n",
      "[88]\tvalidation_0-mlogloss:0.90973\n",
      "[89]\tvalidation_0-mlogloss:0.90950\n",
      "[90]\tvalidation_0-mlogloss:0.90935\n",
      "[91]\tvalidation_0-mlogloss:0.90914\n",
      "[92]\tvalidation_0-mlogloss:0.90905\n",
      "[93]\tvalidation_0-mlogloss:0.90885\n",
      "[94]\tvalidation_0-mlogloss:0.90868\n",
      "[95]\tvalidation_0-mlogloss:0.90847\n",
      "[96]\tvalidation_0-mlogloss:0.90829\n",
      "[97]\tvalidation_0-mlogloss:0.90818\n",
      "[98]\tvalidation_0-mlogloss:0.90803\n",
      "[99]\tvalidation_0-mlogloss:0.90783\n"
     ]
    },
    {
     "data": {
      "text/plain": [
       "XGBClassifier(base_score=0.5, booster='gbtree', colsample_bylevel=1,\n",
       "              colsample_bynode=1, colsample_bytree=1, eval_metric='mlogloss',\n",
       "              gamma=0, gpu_id=-1, importance_type='gain',\n",
       "              interaction_constraints='', learning_rate=0.300000012,\n",
       "              max_delta_step=0, max_depth=6, min_child_weight=1, missing=nan,\n",
       "              monotone_constraints='()', n_estimators=100, n_jobs=6,\n",
       "              num_parallel_tree=1, objective='multi:softprob', random_state=0,\n",
       "              reg_alpha=0, reg_lambda=1, scale_pos_weight=None, subsample=1,\n",
       "              tree_method='exact', use_label_encoder=False,\n",
       "              validate_parameters=1, verbosity=None)"
      ]
     },
     "execution_count": 34,
     "metadata": {},
     "output_type": "execute_result"
    }
   ],
   "source": [
    "model_xgb.fit(train_X_ml, train_y, eval_set=[(valid_X_ml, valid_y)])"
   ]
  },
  {
   "cell_type": "code",
   "execution_count": 28,
   "id": "4811955d",
   "metadata": {
    "scrolled": true
   },
   "outputs": [
    {
     "name": "stdout",
     "output_type": "stream",
     "text": [
      "[LightGBM] [Warning] Unknown parameter: eval_metric\n",
      "[1]\tvalid_0's multi_logloss: 2.25771\n",
      "[2]\tvalid_0's multi_logloss: 2.04656\n",
      "[3]\tvalid_0's multi_logloss: 2.01585\n",
      "[4]\tvalid_0's multi_logloss: 1.82185\n",
      "[5]\tvalid_0's multi_logloss: 1.85287\n",
      "[6]\tvalid_0's multi_logloss: 1.8195\n",
      "[7]\tvalid_0's multi_logloss: 1.7297\n",
      "[8]\tvalid_0's multi_logloss: 1.7683\n",
      "[9]\tvalid_0's multi_logloss: 1.83398\n",
      "[10]\tvalid_0's multi_logloss: 1.86815\n",
      "[11]\tvalid_0's multi_logloss: 1.95825\n",
      "[12]\tvalid_0's multi_logloss: 2.00941\n",
      "[13]\tvalid_0's multi_logloss: 1.90631\n",
      "[14]\tvalid_0's multi_logloss: 2.23576\n",
      "[15]\tvalid_0's multi_logloss: 2.22405\n",
      "[16]\tvalid_0's multi_logloss: 2.37471\n",
      "[17]\tvalid_0's multi_logloss: 2.43749\n",
      "[18]\tvalid_0's multi_logloss: 3.00003\n",
      "[19]\tvalid_0's multi_logloss: 2.99573\n",
      "[20]\tvalid_0's multi_logloss: 3.08504\n",
      "[21]\tvalid_0's multi_logloss: 3.45807\n",
      "[22]\tvalid_0's multi_logloss: 3.72873\n",
      "[23]\tvalid_0's multi_logloss: 4.15585\n",
      "[24]\tvalid_0's multi_logloss: 4.08418\n",
      "[25]\tvalid_0's multi_logloss: 4.61634\n",
      "[26]\tvalid_0's multi_logloss: 5.44928\n",
      "[27]\tvalid_0's multi_logloss: 6.19439\n",
      "[28]\tvalid_0's multi_logloss: 6.38695\n",
      "[29]\tvalid_0's multi_logloss: 7.64423\n",
      "[30]\tvalid_0's multi_logloss: 8.84299\n",
      "[31]\tvalid_0's multi_logloss: 9.167\n",
      "[32]\tvalid_0's multi_logloss: 10.829\n",
      "[33]\tvalid_0's multi_logloss: 12.0382\n",
      "[34]\tvalid_0's multi_logloss: 13.1548\n",
      "[35]\tvalid_0's multi_logloss: 12.7674\n",
      "[36]\tvalid_0's multi_logloss: 15.4986\n",
      "[37]\tvalid_0's multi_logloss: 15.7624\n",
      "[38]\tvalid_0's multi_logloss: 16.6924\n",
      "[39]\tvalid_0's multi_logloss: 18.4417\n",
      "[40]\tvalid_0's multi_logloss: 20.3944\n",
      "[41]\tvalid_0's multi_logloss: 23.1972\n",
      "[42]\tvalid_0's multi_logloss: 24.2636\n",
      "[43]\tvalid_0's multi_logloss: 28.0857\n",
      "[44]\tvalid_0's multi_logloss: 27.1042\n",
      "[45]\tvalid_0's multi_logloss: 27.998\n",
      "[46]\tvalid_0's multi_logloss: 27.998\n",
      "[47]\tvalid_0's multi_logloss: 27.998\n",
      "[48]\tvalid_0's multi_logloss: 27.998\n",
      "[49]\tvalid_0's multi_logloss: 27.998\n",
      "[50]\tvalid_0's multi_logloss: 27.998\n",
      "[51]\tvalid_0's multi_logloss: 27.998\n",
      "[52]\tvalid_0's multi_logloss: 27.998\n",
      "[53]\tvalid_0's multi_logloss: 27.998\n",
      "[54]\tvalid_0's multi_logloss: 27.998\n",
      "[55]\tvalid_0's multi_logloss: 27.998\n",
      "[56]\tvalid_0's multi_logloss: 27.998\n",
      "[57]\tvalid_0's multi_logloss: 27.998\n",
      "[58]\tvalid_0's multi_logloss: 27.998\n",
      "[59]\tvalid_0's multi_logloss: 27.998\n",
      "[60]\tvalid_0's multi_logloss: 27.998\n",
      "[61]\tvalid_0's multi_logloss: 27.998\n",
      "[62]\tvalid_0's multi_logloss: 27.998\n",
      "[63]\tvalid_0's multi_logloss: 27.998\n",
      "[64]\tvalid_0's multi_logloss: 27.998\n",
      "[65]\tvalid_0's multi_logloss: 27.998\n",
      "[66]\tvalid_0's multi_logloss: 27.998\n",
      "[67]\tvalid_0's multi_logloss: 27.998\n",
      "[68]\tvalid_0's multi_logloss: 27.998\n",
      "[69]\tvalid_0's multi_logloss: 27.998\n",
      "[70]\tvalid_0's multi_logloss: 27.998\n",
      "[71]\tvalid_0's multi_logloss: 27.998\n",
      "[72]\tvalid_0's multi_logloss: 27.998\n",
      "[73]\tvalid_0's multi_logloss: 27.998\n",
      "[74]\tvalid_0's multi_logloss: 27.998\n",
      "[75]\tvalid_0's multi_logloss: 27.998\n",
      "[76]\tvalid_0's multi_logloss: 27.998\n",
      "[77]\tvalid_0's multi_logloss: 27.998\n",
      "[78]\tvalid_0's multi_logloss: 27.998\n",
      "[79]\tvalid_0's multi_logloss: 27.998\n",
      "[80]\tvalid_0's multi_logloss: 27.998\n",
      "[81]\tvalid_0's multi_logloss: 27.998\n",
      "[82]\tvalid_0's multi_logloss: 27.998\n",
      "[83]\tvalid_0's multi_logloss: 27.998\n",
      "[84]\tvalid_0's multi_logloss: 27.998\n",
      "[85]\tvalid_0's multi_logloss: 27.998\n",
      "[86]\tvalid_0's multi_logloss: 27.998\n",
      "[87]\tvalid_0's multi_logloss: 27.998\n",
      "[88]\tvalid_0's multi_logloss: 27.998\n",
      "[89]\tvalid_0's multi_logloss: 27.998\n",
      "[90]\tvalid_0's multi_logloss: 27.998\n",
      "[91]\tvalid_0's multi_logloss: 27.998\n",
      "[92]\tvalid_0's multi_logloss: 27.998\n",
      "[93]\tvalid_0's multi_logloss: 27.998\n",
      "[94]\tvalid_0's multi_logloss: 27.998\n",
      "[95]\tvalid_0's multi_logloss: 27.998\n",
      "[96]\tvalid_0's multi_logloss: 27.998\n",
      "[97]\tvalid_0's multi_logloss: 27.998\n",
      "[98]\tvalid_0's multi_logloss: 27.998\n",
      "[99]\tvalid_0's multi_logloss: 27.998\n",
      "[100]\tvalid_0's multi_logloss: 27.998\n"
     ]
    },
    {
     "data": {
      "text/plain": [
       "LGBMClassifier(eval_metric='mlogloss')"
      ]
     },
     "execution_count": 28,
     "metadata": {},
     "output_type": "execute_result"
    }
   ],
   "source": [
    "model_lgbm.fit(train_X_ml, train_y, eval_set=[(valid_X_ml, valid_y)])"
   ]
  },
  {
   "cell_type": "code",
   "execution_count": 36,
   "id": "c0bd44f5",
   "metadata": {},
   "outputs": [],
   "source": [
    "pred_xgb_prob = model_xgb.predict_proba(test_X_ml)\n",
    "pred_xgb = np.argmax(pred_xgb_prob, axis=1)\n",
    "\n",
    "#pred_lgbm_prob = model_lgbm.predict_proba(test_X_ml)\n",
    "#pred_lgbm = np.argmax(pred_lgbm_prob, axis=1)"
   ]
  },
  {
   "cell_type": "markdown",
   "id": "826e4c74",
   "metadata": {},
   "source": [
    "## 7. Modeling - DL, NLP, shop_name\n",
    "word embedding and embedding vector\n",
    "\n",
    "1. make vocabulary set (tk)\n",
    "2. using vocab set -> index encoding (seq_data)\n",
    "3. padding with 0 -> pad_seq_data\n",
    "- vocabulary set (tk)\n",
    "    - shop_name : 116,918 개의 단어 set\n",
    "    - shop_name + shop_type_big + shop_type_small : 114,967 개의 단어 set\n",
    "- nlp input length -> 13\n",
    "    - shop_name : 8\n",
    "    - shop_type_big : 3\n",
    "    - shop_type_small : 5\n",
    "    - text_concat : 15\n",
    "- shop_name : 0.75 acc\n",
    "- shop_name + shop_type_big + shop_type_small : 0.80\n",
    "- shop_name + shop_type_big + shop_type_small + geo : 0.80"
   ]
  },
  {
   "cell_type": "code",
   "execution_count": null,
   "id": "9d4ac813",
   "metadata": {},
   "outputs": [],
   "source": [
    "input_data['concat_text']"
   ]
  },
  {
   "cell_type": "code",
   "execution_count": null,
   "id": "af3b0a12",
   "metadata": {},
   "outputs": [],
   "source": [
    "from keras.preprocessing.text import Tokenizer\n",
    "\n",
    "tk = Tokenizer()\n",
    "tk.fit_on_texts(input_data['concat_text'])\n",
    "\n",
    "print(list(tk.word_index.items())[:20])\n",
    "print(\"\\nvocab words 개수 : \", len(tk.word_index.items()))"
   ]
  },
  {
   "cell_type": "code",
   "execution_count": 32,
   "id": "bd57e06d",
   "metadata": {},
   "outputs": [
    {
     "name": "stdout",
     "output_type": "stream",
     "text": [
      "seq_data[0]:  [138, 60854, 5, 22, 21, 1, 18, 152]\n",
      "pad_seq_data.shpae:  (2694599, 16)\n",
      "nlp_input_length 16\n"
     ]
    }
   ],
   "source": [
    "# test for nlp input length \n",
    "# shop_name, shop_type_big, shop_type_small, text_concat 중 가장  긴 input length 찾아야 함 \n",
    "from keras.preprocessing.sequence import pad_sequences\n",
    "\n",
    "seq_data = tk.texts_to_sequences(input_data['concat_text'])\n",
    "print(\"seq_data[0]: \", seq_data[0])\n",
    "\n",
    "pad_seq_data = pad_sequences(seq_data)\n",
    "print(\"pad_seq_data.shpae: \", pad_seq_data.shape)\n",
    "\n",
    "nlp_input_length = pad_seq_data[0].shape[0]\n",
    "print(\"nlp_input_length\", nlp_input_length)"
   ]
  },
  {
   "cell_type": "code",
   "execution_count": 33,
   "id": "1e3a814d",
   "metadata": {},
   "outputs": [
    {
     "name": "stdout",
     "output_type": "stream",
     "text": [
      "1724543\n",
      "1724543\n",
      "431136\n",
      "431136\n",
      "538920\n",
      "538920\n"
     ]
    }
   ],
   "source": [
    "def word_embedding(df, nlp_input_length) :\n",
    "    seq_data = tk.texts_to_sequences(df)\n",
    "    pad_seq_data = pad_sequences(seq_data, nlp_input_length)\n",
    "    word_embedding = pad_seq_data\n",
    "    return word_embedding\n",
    "\n",
    "train_X_dl = word_embedding(train_X['concat_text'], nlp_input_length)\n",
    "valid_X_dl = word_embedding(valid_X['concat_text'], nlp_input_length)\n",
    "test_X_dl = word_embedding(test_X['concat_text'], nlp_input_length)\n",
    "\n",
    "print(len(train_X))\n",
    "print(len(train_X_dl))\n",
    "print(len(valid_X))\n",
    "print(len(valid_X_dl))\n",
    "print(len(test_X))\n",
    "print(len(test_X_dl))   "
   ]
  },
  {
   "cell_type": "code",
   "execution_count": 34,
   "id": "2fc47032",
   "metadata": {},
   "outputs": [
    {
     "name": "stdout",
     "output_type": "stream",
     "text": [
      "Model: \"sequential_1\"\n",
      "_________________________________________________________________\n",
      "Layer (type)                 Output Shape              Param #   \n",
      "=================================================================\n",
      "embedding_1 (Embedding)      (None, 16, 10)            1149560   \n",
      "_________________________________________________________________\n",
      "flatten_1 (Flatten)          (None, 160)               0         \n",
      "_________________________________________________________________\n",
      "dense_2 (Dense)              (None, 64)                10304     \n",
      "_________________________________________________________________\n",
      "dense_3 (Dense)              (None, 45)                2925      \n",
      "=================================================================\n",
      "Total params: 1,162,789\n",
      "Trainable params: 1,162,789\n",
      "Non-trainable params: 0\n",
      "_________________________________________________________________\n"
     ]
    }
   ],
   "source": [
    "from keras import Sequential\n",
    "from keras.layers import *\n",
    "import tensorflow as tf\n",
    "import keras\n",
    "from keras.callbacks import EarlyStopping, ModelCheckpoint, ReduceLROnPlateau\n",
    "\n",
    "def create_model(input_dim, output_dim, input_length) : \n",
    "    model = Sequential()\n",
    "    # 1 워드 임베딩 학습 \n",
    "    model.add(Embedding(input_dim, output_dim, input_length = input_length))\n",
    "    \n",
    "    # Classification 학습 \n",
    "    model.add(Flatten())\n",
    "    model.add(Dense(64, activation='relu'))\n",
    "    model.add(Dense(len(set(input_data_y)), activation='softmax'))\n",
    "    \n",
    "    model.compile(loss='sparse_categorical_crossentropy', optimizer='adam', metrics=['accuracy'])\n",
    "    return model\n",
    "\n",
    "\n",
    "input_dim = len(tk.word_index) + 1 # vocab size + padding index =114,537 + 1 = 114,538\n",
    "output_dim = 10\n",
    "input_length = nlp_input_length\n",
    "\n",
    "model = create_model(input_dim, output_dim, input_length)\n",
    "model.summary()"
   ]
  },
  {
   "cell_type": "code",
   "execution_count": 35,
   "id": "c6a9ab8a",
   "metadata": {},
   "outputs": [
    {
     "name": "stdout",
     "output_type": "stream",
     "text": [
      "Epoch 1/4\n",
      "26946/26946 [==============================] - 418s 15ms/step - loss: 0.8451 - accuracy: 0.6584 - val_loss: 0.5117 - val_accuracy: 0.7909\n",
      "Epoch 2/4\n",
      "26946/26946 [==============================] - 422s 16ms/step - loss: 0.4647 - accuracy: 0.8093 - val_loss: 0.4868 - val_accuracy: 0.8025\n",
      "Epoch 3/4\n",
      "26946/26946 [==============================] - 397s 15ms/step - loss: 0.4401 - accuracy: 0.8188 - val_loss: 0.4803 - val_accuracy: 0.8063\n",
      "Epoch 4/4\n",
      "26946/26946 [==============================] - 408s 15ms/step - loss: 0.4256 - accuracy: 0.8255 - val_loss: 0.4768 - val_accuracy: 0.8090\n"
     ]
    }
   ],
   "source": [
    "hist = model.fit(train_X_dl, train_y, validation_data=(valid_X_dl, valid_y), epochs=4, batch_size=64)"
   ]
  },
  {
   "cell_type": "code",
   "execution_count": 36,
   "id": "e7ab13ef",
   "metadata": {},
   "outputs": [
    {
     "data": {
      "image/png": "[encoded data removed]",
      "text/plain": [
       "<Figure size 432x288 with 1 Axes>"
      ]
     },
     "metadata": {
      "needs_background": "light"
     },
     "output_type": "display_data"
    }
   ],
   "source": [
    "plt.plot(hist.history['loss'], label='loss')\n",
    "plt.plot(hist.history['val_loss'], label='test loss')\n",
    "plt.xticks(range(len(hist.history['loss'])))\n",
    "plt.xlabel('epoch')\n",
    "plt.ylabel('precision')\n",
    "plt.legend(loc='lower right')\n",
    "plt.grid(True)\n",
    "plt.show()\n",
    "# valid loss가 올라가는 순간 train data에 overfitting \n",
    "# epoch 중에 2,3 번까지만 하는 것이 가장 학습이 잘 되는 것으로 보임 -> epoch:20 -> epoch:3"
   ]
  },
  {
   "cell_type": "code",
   "execution_count": 37,
   "id": "b9e41709",
   "metadata": {},
   "outputs": [
    {
     "data": {
      "text/plain": [
       "array([36, 20, 44, ..., 35,  0, 19], dtype=int64)"
      ]
     },
     "execution_count": 37,
     "metadata": {},
     "output_type": "execute_result"
    }
   ],
   "source": [
    "pred_dl_prob = model.predict(test_X_dl)\n",
    "pred_dl = np.argmax(pred_dl_prob, axis=1)\n",
    "\n",
    "pred_dl"
   ]
  },
  {
   "cell_type": "markdown",
   "id": "0201440a",
   "metadata": {},
   "source": [
    "# 7. Evaluation\n",
    "- precision(정밀도) : True -> True \n",
    "- Recall(재현율) : True인 것을 맞춘 비율 \n",
    "- F1 score : precision 과 recall의 조화평균"
   ]
  },
  {
   "cell_type": "code",
   "execution_count": 38,
   "id": "4e53e2b3",
   "metadata": {},
   "outputs": [],
   "source": [
    "from sklearn.metrics import accuracy_score, classification_report, confusion_matrix, f1_score\n",
    "\n",
    "def show_pred(test_y, pred) :\n",
    "    #true_y = test_y.to_numpy()\n",
    "    true_y = np.ravel(true_y)\n",
    "    \n",
    "    df_result = pd.DataFrame(list(zip(true_y, pred)), columns=['true_y', 'prediction'])\n",
    "    return df_result\n",
    "    \n",
    "def show_prediction_error(test_y, pred) :\n",
    "    #true_y = test_y.to_numpy()\n",
    "    #true_y = np.ravel(true_y)\n",
    "    error = pred - true_y\n",
    "    plt.hist(error, bins=25)\n",
    "    plt.xlabel(\"Prediction Error\")\n",
    "    _ = plt.ylabel(\"Count\")\n",
    "    \n",
    "def feature_importance(model_xgb) : \n",
    "    %matplotlib inline\n",
    "    plt.rcParams['axes.unicode_minus'] = False\n",
    "    font_path = \"C:/Windows/Fonts/NGULIM.TTF\"\n",
    "    font = fm.FontProperties(fname=font_path).get_name()\n",
    "    rc('font', family=font)\n",
    "\n",
    "    fig, ax = plt.subplots(figsize=(10,12))\n",
    "    plot_importance(model_xgb, ax=ax)\n",
    "    \n",
    "def graph(pred, test_label) :\n",
    "    plt.figure(figsize=(16, 9))\n",
    "    plt.plot(test_label, label = 'actual')\n",
    "    plt.plot(pred, label = 'prediction')\n",
    "    plt.legend()\n",
    "    plt.show()\n",
    "\n",
    "def classification_report_csv(report) : \n",
    "    df = pd.DataFrame(report).transpose()\n",
    "    df.to_csv('classfication_report.csv', index=False)"
   ]
  },
  {
   "cell_type": "code",
   "execution_count": 39,
   "id": "cad9c06d",
   "metadata": {
    "scrolled": false
   },
   "outputs": [
    {
     "name": "stderr",
     "output_type": "stream",
     "text": [
      "C:\\Users\\Hyeongbin\\anaconda3\\lib\\site-packages\\sklearn\\metrics\\_classification.py:1308: UndefinedMetricWarning: Precision and F-score are ill-defined and being set to 0.0 in labels with no predicted samples. Use `zero_division` parameter to control this behavior.\n",
      "  _warn_prf(average, modifier, msg_start, len(result))\n",
      "C:\\Users\\Hyeongbin\\anaconda3\\lib\\site-packages\\sklearn\\metrics\\_classification.py:1308: UndefinedMetricWarning: Precision and F-score are ill-defined and being set to 0.0 in labels with no predicted samples. Use `zero_division` parameter to control this behavior.\n",
      "  _warn_prf(average, modifier, msg_start, len(result))\n"
     ]
    },
    {
     "name": "stdout",
     "output_type": "stream",
     "text": [
      "              precision    recall  f1-score   support\n",
      "\n",
      "           0       0.77      0.65      0.71     22760\n",
      "           1       0.33      1.00      0.50         2\n",
      "           2       0.84      0.76      0.80      4910\n",
      "           3       0.82      0.79      0.80     15917\n",
      "           4       0.86      0.74      0.80      9413\n",
      "           5       0.79      0.77      0.78     12738\n",
      "           6       0.67      0.40      0.50         5\n",
      "           7       0.81      0.80      0.80      6527\n",
      "           8       0.78      0.84      0.81     27195\n",
      "           9       0.81      0.71      0.76     10681\n",
      "          10       0.74      0.86      0.79       686\n",
      "          11       0.76      0.86      0.81     45519\n",
      "          12       0.84      0.75      0.79      1245\n",
      "          13       0.00      0.00      0.00         2\n",
      "          14       0.86      0.76      0.81      5621\n",
      "          15       0.88      0.88      0.88     17952\n",
      "          16       0.81      0.85      0.83     31834\n",
      "          17       0.82      0.77      0.79      4174\n",
      "          18       0.86      0.71      0.78      6566\n",
      "          19       0.79      0.89      0.84     18826\n",
      "          20       0.81      0.82      0.81     25477\n",
      "          21       0.84      0.89      0.86      9820\n",
      "          22       0.79      0.85      0.82     21362\n",
      "          23       0.83      0.85      0.84     13055\n",
      "          24       0.79      0.81      0.80      1372\n",
      "          25       0.85      0.79      0.82     54389\n",
      "          26       0.80      0.85      0.83      2489\n",
      "          27       0.79      0.72      0.75     10890\n",
      "          28       0.82      0.82      0.82      8349\n",
      "          29       0.77      0.62      0.68     12653\n",
      "          30       0.80      0.88      0.84     11242\n",
      "          31       0.77      0.89      0.82     13132\n",
      "          32       0.75      0.75      0.75      8868\n",
      "          33       0.82      0.72      0.77      7013\n",
      "          34       0.79      0.75      0.77      7536\n",
      "          35       0.88      0.89      0.88     35903\n",
      "          36       0.80      0.77      0.78      4211\n",
      "          37       0.81      0.51      0.63       449\n",
      "          38       0.88      0.88      0.88      3833\n",
      "          39       0.74      0.81      0.77     19167\n",
      "          40       0.74      0.79      0.76      2962\n",
      "          41       0.80      0.71      0.75      3949\n",
      "          42       0.74      0.72      0.73       766\n",
      "          43       0.80      0.65      0.72      4844\n",
      "          44       0.84      0.80      0.82     12616\n",
      "\n",
      "    accuracy                           0.81    538920\n",
      "   macro avg       0.78      0.76      0.76    538920\n",
      "weighted avg       0.81      0.81      0.81    538920\n",
      "\n"
     ]
    },
    {
     "name": "stderr",
     "output_type": "stream",
     "text": [
      "C:\\Users\\Hyeongbin\\anaconda3\\lib\\site-packages\\sklearn\\metrics\\_classification.py:1308: UndefinedMetricWarning: Precision and F-score are ill-defined and being set to 0.0 in labels with no predicted samples. Use `zero_division` parameter to control this behavior.\n",
      "  _warn_prf(average, modifier, msg_start, len(result))\n"
     ]
    }
   ],
   "source": [
    "# DL model \n",
    "print(classification_report(test_y, pred_dl)) # word embedding "
   ]
  },
  {
   "cell_type": "code",
   "execution_count": 39,
   "id": "89def36c",
   "metadata": {},
   "outputs": [
    {
     "name": "stdout",
     "output_type": "stream",
     "text": [
      "              precision    recall  f1-score   support\n",
      "\n",
      "           0       0.75      0.17      0.28     22760\n",
      "           1       0.50      0.50      0.50         2\n",
      "           2       0.62      0.35      0.44      4910\n",
      "           3       0.65      0.07      0.12     15917\n",
      "           4       0.60      0.16      0.25      9413\n",
      "           5       0.62      0.30      0.41     12738\n",
      "           6       0.80      0.80      0.80         5\n",
      "           7       0.56      0.23      0.33      6527\n",
      "           8       0.60      0.32      0.42     27195\n",
      "           9       0.55      0.15      0.24     10681\n",
      "          10       0.57      0.36      0.44       686\n",
      "          11       0.54      0.89      0.67     45519\n",
      "          12       0.58      0.40      0.48      1245\n",
      "          13       1.00      1.00      1.00         2\n",
      "          14       0.56      0.25      0.34      5621\n",
      "          15       0.63      0.66      0.65     17952\n",
      "          16       0.52      0.89      0.66     31834\n",
      "          17       0.59      0.23      0.33      4174\n",
      "          18       0.61      0.26      0.37      6566\n",
      "          19       0.53      0.90      0.66     18826\n",
      "          20       0.55      0.87      0.67     25477\n",
      "          21       0.58      0.69      0.63      9820\n",
      "          22       0.54      0.85      0.66     21362\n",
      "          23       0.59      0.84      0.69     13055\n",
      "          24       0.58      0.75      0.66      1372\n",
      "          25       0.55      0.82      0.66     54389\n",
      "          26       0.58      0.78      0.66      2489\n",
      "          27       0.48      0.23      0.32     15917\n",
      "          28       0.55      0.82      0.66      8349\n",
      "          29       0.57      0.28      0.37     22760\n",
      "          30       0.55      0.85      0.67     11242\n",
      "          31       0.54      0.86      0.66     13132\n",
      "          32       0.59      0.20      0.30     12738\n",
      "          33       0.54      0.17      0.26      9413\n",
      "          34       0.57      0.34      0.43     10681\n",
      "          35       0.63      0.81      0.71     35903\n",
      "          36       0.68      0.51      0.58      6527\n",
      "          37       0.57      0.46      0.51       686\n",
      "          38       0.52      0.53      0.52      4910\n",
      "          39       0.57      0.28      0.38     27195\n",
      "          40       0.55      0.34      0.42      4174\n",
      "          41       0.63      0.31      0.42      5621\n",
      "          42       0.55      0.34      0.42      1245\n",
      "          43       0.55      0.19      0.28      6566\n",
      "          44       0.71      0.29      0.41     17952\n",
      "\n",
      "    accuracy                           0.56    585548\n",
      "   macro avg       0.59      0.50      0.50    585548\n",
      "weighted avg       0.58      0.56      0.52    585548\n",
      "\n"
     ]
    }
   ],
   "source": [
    "# ML model\n",
    "#report = classification_report(test_y, pred_xgb, output_dict=True)\n",
    "print(classification_report(test_y, pred_xgb))\n",
    "#classification_report_csv(report)"
   ]
  },
  {
   "cell_type": "code",
   "execution_count": 39,
   "id": "a244881c",
   "metadata": {
    "scrolled": false
   },
   "outputs": [
    {
     "name": "stderr",
     "output_type": "stream",
     "text": [
      "C:\\Users\\Hyeongbin\\anaconda3\\lib\\site-packages\\sklearn\\metrics\\_classification.py:1308: UndefinedMetricWarning: Precision and F-score are ill-defined and being set to 0.0 in labels with no predicted samples. Use `zero_division` parameter to control this behavior.\n",
      "  _warn_prf(average, modifier, msg_start, len(result))\n"
     ]
    },
    {
     "name": "stdout",
     "output_type": "stream",
     "text": [
      "              precision    recall  f1-score   support\n",
      "\n",
      "           0       0.63      0.28      0.39    146388\n",
      "           1       0.71      1.00      0.83         5\n",
      "           2       0.54      0.90      0.68     45519\n",
      "           3       0.52      0.91      0.66     31834\n",
      "           4       0.53      0.90      0.67     18826\n",
      "           5       0.55      0.86      0.67     25477\n",
      "           6       0.57      0.72      0.63      9820\n",
      "           7       0.54      0.87      0.67     21362\n",
      "           8       0.00      0.00      0.00         2\n",
      "           9       0.59      0.83      0.69     13054\n",
      "          10       0.58      0.78      0.67      1372\n",
      "          11       0.55      0.82      0.66     54389\n",
      "          12       0.57      0.78      0.66      2489\n",
      "          13       0.55      0.84      0.67      8349\n",
      "          14       0.56      0.81      0.66     11242\n",
      "          15       0.54      0.86      0.66     13132\n",
      "          16       0.63      0.82      0.71     35903\n",
      "          17       0.49      0.20      0.28     15917\n",
      "          18       0.58      0.25      0.35     22760\n",
      "          19       0.59      0.21      0.31     12738\n",
      "          20       0.55      0.18      0.27      9413\n",
      "          21       0.58      0.32      0.41     10681\n",
      "          22       0.67      0.51      0.58      6527\n",
      "          23       0.60      0.48      0.53       686\n",
      "          24       0.57      0.36      0.44      4174\n",
      "          25       0.57      0.28      0.38     27195\n",
      "          26       0.52      0.49      0.50      4910\n",
      "          27       0.57      0.22      0.31      6566\n",
      "          28       0.59      0.32      0.42      5621\n",
      "          29       0.55      0.33      0.41      1245\n",
      "          30       0.72      0.29      0.41     17952\n",
      "\n",
      "    accuracy                           0.57    585548\n",
      "   macro avg       0.56      0.56      0.52    585548\n",
      "weighted avg       0.58      0.57      0.53    585548\n",
      "\n"
     ]
    },
    {
     "name": "stderr",
     "output_type": "stream",
     "text": [
      "C:\\Users\\Hyeongbin\\anaconda3\\lib\\site-packages\\sklearn\\metrics\\_classification.py:1308: UndefinedMetricWarning: Precision and F-score are ill-defined and being set to 0.0 in labels with no predicted samples. Use `zero_division` parameter to control this behavior.\n",
      "  _warn_prf(average, modifier, msg_start, len(result))\n",
      "C:\\Users\\Hyeongbin\\anaconda3\\lib\\site-packages\\sklearn\\metrics\\_classification.py:1308: UndefinedMetricWarning: Precision and F-score are ill-defined and being set to 0.0 in labels with no predicted samples. Use `zero_division` parameter to control this behavior.\n",
      "  _warn_prf(average, modifier, msg_start, len(result))\n"
     ]
    }
   ],
   "source": [
    "# ML model\n",
    "#report = classification_report(test_y, pred_lgbm, output_dict=True)\n",
    "print(classification_report(test_y, pred_lgbm))\n",
    "#classification_report_csv(report)"
   ]
  },
  {
   "cell_type": "code",
   "execution_count": null,
   "id": "928c243c",
   "metadata": {
    "scrolled": true
   },
   "outputs": [],
   "source": [
    "show_prediction_error(test_y, pred_xgb)"
   ]
  },
  {
   "cell_type": "code",
   "execution_count": 38,
   "id": "756228fa",
   "metadata": {
    "scrolled": true
   },
   "outputs": [
    {
     "data": {
      "text/plain": [
       "<AxesSubplot:>"
      ]
     },
     "execution_count": 38,
     "metadata": {},
     "output_type": "execute_result"
    },
    {
     "data": {
      "image/png": "[encoded data removed]",
      "text/plain": [
       "<Figure size 432x288 with 1 Axes>"
      ]
     },
     "metadata": {
      "needs_background": "light"
     },
     "output_type": "display_data"
    }
   ],
   "source": [
    "feature_series = pd.Series(data=model_xgb.feature_importances_, index=train_X_ml.columns)\n",
    "feature_series = feature_series.sort_values(ascending=False) \n",
    "sns.barplot(x = feature_series, y=feature_series.index)"
   ]
  },
  {
   "cell_type": "code",
   "execution_count": 34,
   "id": "c02df1de",
   "metadata": {},
   "outputs": [
    {
     "data": {
      "image/png": "[encoded data removed]",
      "text/plain": [
       "<Figure size 720x864 with 1 Axes>"
      ]
     },
     "metadata": {
      "needs_background": "light"
     },
     "output_type": "display_data"
    }
   ],
   "source": [
    "feature_importance(model_xgb)"
   ]
  },
  {
   "cell_type": "markdown",
   "id": "4aeb591d",
   "metadata": {},
   "source": [
    "# 8. Ensemble\n"
   ]
  },
  {
   "cell_type": "code",
   "execution_count": 51,
   "id": "42a60b13",
   "metadata": {},
   "outputs": [
    {
     "data": {
      "text/plain": [
       "array([29, 25,  9, ..., 31, 32, 15], dtype=int64)"
      ]
     },
     "execution_count": 51,
     "metadata": {},
     "output_type": "execute_result"
    }
   ],
   "source": [
    "pred_ensemble_prob = pred_xgb_prob * 0.5+ pred_dl_prob * 0.5\n",
    "pred_ensemble = np.argmax(pred_ensemble_prob, axis=1)\n",
    "pred_ensemble"
   ]
  },
  {
   "cell_type": "code",
   "execution_count": 52,
   "id": "3893d49b",
   "metadata": {},
   "outputs": [
    {
     "name": "stdout",
     "output_type": "stream",
     "text": [
      "              precision    recall  f1-score   support\n",
      "\n",
      "           0       0.82      0.64      0.72     22760\n",
      "           1       0.40      1.00      0.57         2\n",
      "           2       0.84      0.78      0.81      4910\n",
      "           3       0.87      0.72      0.79     15917\n",
      "           4       0.87      0.75      0.81      9413\n",
      "           5       0.86      0.69      0.77     12738\n",
      "           6       0.67      0.40      0.50         5\n",
      "           7       0.83      0.77      0.80      6527\n",
      "           8       0.87      0.74      0.80     27195\n",
      "           9       0.85      0.66      0.74     10681\n",
      "          10       0.82      0.76      0.79       686\n",
      "          11       0.76      0.87      0.81     45519\n",
      "          12       0.85      0.77      0.81      1245\n",
      "          13       1.00      0.50      0.67         2\n",
      "          14       0.90      0.75      0.82      5621\n",
      "          15       0.87      0.90      0.89     17952\n",
      "          16       0.79      0.90      0.84     31834\n",
      "          17       0.88      0.71      0.79      4174\n",
      "          18       0.86      0.76      0.80      6566\n",
      "          19       0.78      0.91      0.84     18826\n",
      "          20       0.77      0.89      0.82     25477\n",
      "          21       0.84      0.89      0.87      9820\n",
      "          22       0.76      0.90      0.82     21362\n",
      "          23       0.82      0.87      0.84     13055\n",
      "          24       0.81      0.87      0.84      1372\n",
      "          25       0.80      0.88      0.84     54389\n",
      "          26       0.80      0.87      0.83      2489\n",
      "          27       0.88      0.78      0.83     15917\n",
      "          28       0.79      0.88      0.84      8349\n",
      "          29       0.86      0.79      0.82     22760\n",
      "          30       0.80      0.90      0.85     11242\n",
      "          31       0.79      0.88      0.83     13132\n",
      "          32       0.86      0.77      0.81     12738\n",
      "          33       0.91      0.73      0.81      9413\n",
      "          34       0.88      0.76      0.82     10681\n",
      "          35       0.87      0.90      0.88     35903\n",
      "          36       0.87      0.84      0.86      6527\n",
      "          37       0.89      0.81      0.85       686\n",
      "          38       0.92      0.89      0.91      4910\n",
      "          39       0.86      0.82      0.84     27195\n",
      "          40       0.85      0.82      0.83      4174\n",
      "          41       0.87      0.79      0.83      5621\n",
      "          42       0.85      0.80      0.82      1245\n",
      "          43       0.86      0.76      0.81      6566\n",
      "          44       0.91      0.82      0.86     17952\n",
      "\n",
      "    accuracy                           0.83    585548\n",
      "   macro avg       0.83      0.80      0.81    585548\n",
      "weighted avg       0.83      0.83      0.83    585548\n",
      "\n"
     ]
    }
   ],
   "source": [
    "print(classification_report(test_y, pred_ensemble))"
   ]
  },
  {
   "cell_type": "markdown",
   "id": "848d7259",
   "metadata": {},
   "source": [
    "# 9. Export for Web "
   ]
  },
  {
   "cell_type": "code",
   "execution_count": 80,
   "id": "218acaa9",
   "metadata": {},
   "outputs": [],
   "source": [
    "from keras.models import load_model\n",
    "from pickle import dump\n",
    "import pickle"
   ]
  },
  {
   "cell_type": "code",
   "execution_count": 35,
   "id": "ce4952c8",
   "metadata": {},
   "outputs": [],
   "source": [
    "model.save('model_dl.h5')"
   ]
  },
  {
   "cell_type": "code",
   "execution_count": 32,
   "id": "9c277695",
   "metadata": {},
   "outputs": [],
   "source": [
    "with open('model_ml.h5', 'wb') as file:  \n",
    "    pickle.dump(model_xgb, file)"
   ]
  },
  {
   "cell_type": "code",
   "execution_count": 43,
   "id": "3f6dbcb5",
   "metadata": {},
   "outputs": [],
   "source": [
    "dump(encoder, open('encoder.pkl', 'wb'))"
   ]
  },
  {
   "cell_type": "code",
   "execution_count": null,
   "id": "6929cee2",
   "metadata": {},
   "outputs": [],
   "source": [
    "dump(kmeans, open(\"kmeans.pkl\", \"wb\"))"
   ]
  },
  {
   "cell_type": "code",
   "execution_count": 81,
   "id": "2241064a",
   "metadata": {},
   "outputs": [],
   "source": [
    "dump(le, open('labelEncoder.pkl', 'wb'))"
   ]
  },
  {
   "cell_type": "code",
   "execution_count": 30,
   "id": "5734744b",
   "metadata": {},
   "outputs": [],
   "source": [
    "with open('tokenizer.pickle', 'wb') as handle:\n",
    "    pickle.dump(tk, handle, protocol=pickle.HIGHEST_PROTOCOL)"
   ]
  }
 ],
 "metadata": {
  "kernelspec": {
   "display_name": "Python 3",
   "language": "python",
   "name": "python3"
  },
  "language_info": {
   "codemirror_mode": {
    "name": "ipython",
    "version": 3
   },
   "file_extension": ".py",
   "mimetype": "text/x-python",
   "name": "python",
   "nbconvert_exporter": "python",
   "pygments_lexer": "ipython3",
   "version": "3.8.12"
  }
 },
 "nbformat": 4,
 "nbformat_minor": 5
}
