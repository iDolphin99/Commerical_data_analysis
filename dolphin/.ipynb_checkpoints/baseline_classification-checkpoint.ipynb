{
 "cells": [
  {
   "cell_type": "markdown",
   "id": "e40dea94",
   "metadata": {},
   "source": [
    "# 1. Data Load\n"
   ]
  },
  {
   "cell_type": "code",
   "execution_count": 1,
   "id": "cabb55fa",
   "metadata": {},
   "outputs": [],
   "source": [
    "import numpy as np\n",
    "import pandas as pd\n",
    "\n",
    "from scipy import stats #Analysis \n",
    "from scipy.stats import norm # Analysis\n",
    "import seaborn as sns\n",
    "import matplotlib.pyplot as plt\n",
    "from matplotlib import rcParams\n",
    "%matplotlib inline\n",
    "#%matplotlib tk\n",
    "\n",
    "#import matplotlib \n",
    "#matplotlib.font_manager._rebuild()"
   ]
  },
  {
   "cell_type": "code",
   "execution_count": 2,
   "id": "9ef4a9e7",
   "metadata": {},
   "outputs": [],
   "source": [
    "# 한글 폰트가 깨지면 실행하세요! \n",
    "import matplotlib.font_manager as fm\n",
    "fontlist = fm.findSystemFonts(fontpaths = None, fontext='ttf')\n",
    "# 아래 주석을 지워서 폰트 리스트를 확인하고 한글 폰트를 font_path에 추가합니다\n",
    "fontlist[:]\n",
    "\n",
    "from matplotlib import font_manager, rc\n",
    "#font_path = 'C:\\\\Users\\\\mtang\\\\AppData\\\\Local\\\\Microsoft\\\\Windows\\\\Fonts\\\\NanumSquare.ttf'\n",
    "font_path = 'C:\\\\WINDOWS\\\\Fonts\\\\NanumGothicLight.ttf'\n",
    "font = font_manager.FontProperties(fname=font_path).get_name()\n",
    "rc('font', family=font)"
   ]
  },
  {
   "cell_type": "code",
   "execution_count": 3,
   "id": "175a42b3",
   "metadata": {},
   "outputs": [
    {
     "data": {
      "text/html": [
       "<div>\n",
       "<style scoped>\n",
       "    .dataframe tbody tr th:only-of-type {\n",
       "        vertical-align: middle;\n",
       "    }\n",
       "\n",
       "    .dataframe tbody tr th {\n",
       "        vertical-align: top;\n",
       "    }\n",
       "\n",
       "    .dataframe thead th {\n",
       "        text-align: right;\n",
       "    }\n",
       "</style>\n",
       "<table border=\"1\" class=\"dataframe\">\n",
       "  <thead>\n",
       "    <tr style=\"text-align: right;\">\n",
       "      <th></th>\n",
       "      <th>date</th>\n",
       "      <th>shop_code</th>\n",
       "      <th>shop_name</th>\n",
       "      <th>shop_type_big</th>\n",
       "      <th>shop_type_small</th>\n",
       "      <th>longitude</th>\n",
       "      <th>latitude</th>\n",
       "      <th>monthly_gain</th>\n",
       "      <th>average_sale_price</th>\n",
       "      <th>female_20</th>\n",
       "      <th>...</th>\n",
       "      <th>weekday4</th>\n",
       "      <th>weekday5</th>\n",
       "      <th>weekday6</th>\n",
       "      <th>time_05_10</th>\n",
       "      <th>time_10_14</th>\n",
       "      <th>time_14_18</th>\n",
       "      <th>time_18_20</th>\n",
       "      <th>time_20_22</th>\n",
       "      <th>time_22_24</th>\n",
       "      <th>time_00_05</th>\n",
       "    </tr>\n",
       "  </thead>\n",
       "  <tbody>\n",
       "    <tr>\n",
       "      <th>0</th>\n",
       "      <td>201703</td>\n",
       "      <td>95662180105</td>\n",
       "      <td>닥터빈스</td>\n",
       "      <td>음식</td>\n",
       "      <td>카페 일반</td>\n",
       "      <td>126.927911</td>\n",
       "      <td>37.558043</td>\n",
       "      <td>5696400.0</td>\n",
       "      <td>9982</td>\n",
       "      <td>9.58</td>\n",
       "      <td>...</td>\n",
       "      <td>17.15</td>\n",
       "      <td>11.92</td>\n",
       "      <td>6.34</td>\n",
       "      <td>1.15</td>\n",
       "      <td>72.78</td>\n",
       "      <td>23.14</td>\n",
       "      <td>2.93</td>\n",
       "      <td>0.00</td>\n",
       "      <td>0.00</td>\n",
       "      <td>0.00</td>\n",
       "    </tr>\n",
       "    <tr>\n",
       "      <th>1</th>\n",
       "      <td>201703</td>\n",
       "      <td>1140530114</td>\n",
       "      <td>전주식당</td>\n",
       "      <td>음식</td>\n",
       "      <td>한정식/백반 전문점</td>\n",
       "      <td>127.022532</td>\n",
       "      <td>37.506856</td>\n",
       "      <td>8496120.0</td>\n",
       "      <td>14503</td>\n",
       "      <td>5.08</td>\n",
       "      <td>...</td>\n",
       "      <td>19.38</td>\n",
       "      <td>16.35</td>\n",
       "      <td>10.82</td>\n",
       "      <td>0.83</td>\n",
       "      <td>76.82</td>\n",
       "      <td>13.25</td>\n",
       "      <td>9.09</td>\n",
       "      <td>0.00</td>\n",
       "      <td>0.00</td>\n",
       "      <td>0.00</td>\n",
       "    </tr>\n",
       "    <tr>\n",
       "      <th>2</th>\n",
       "      <td>201703</td>\n",
       "      <td>43562400602</td>\n",
       "      <td>삼육가</td>\n",
       "      <td>음식</td>\n",
       "      <td>고기구이 전문점</td>\n",
       "      <td>127.025013</td>\n",
       "      <td>37.505696</td>\n",
       "      <td>103651502.5</td>\n",
       "      <td>72527</td>\n",
       "      <td>10.51</td>\n",
       "      <td>...</td>\n",
       "      <td>21.18</td>\n",
       "      <td>21.59</td>\n",
       "      <td>18.04</td>\n",
       "      <td>4.64</td>\n",
       "      <td>8.50</td>\n",
       "      <td>2.40</td>\n",
       "      <td>18.67</td>\n",
       "      <td>50.05</td>\n",
       "      <td>9.84</td>\n",
       "      <td>5.89</td>\n",
       "    </tr>\n",
       "    <tr>\n",
       "      <th>3</th>\n",
       "      <td>201702</td>\n",
       "      <td>43562400602</td>\n",
       "      <td>삼육가</td>\n",
       "      <td>음식</td>\n",
       "      <td>고기구이 전문점</td>\n",
       "      <td>127.025013</td>\n",
       "      <td>37.505696</td>\n",
       "      <td>96785751.0</td>\n",
       "      <td>70225</td>\n",
       "      <td>12.10</td>\n",
       "      <td>...</td>\n",
       "      <td>26.08</td>\n",
       "      <td>22.60</td>\n",
       "      <td>15.51</td>\n",
       "      <td>2.68</td>\n",
       "      <td>8.09</td>\n",
       "      <td>5.77</td>\n",
       "      <td>10.15</td>\n",
       "      <td>54.61</td>\n",
       "      <td>16.25</td>\n",
       "      <td>2.45</td>\n",
       "    </tr>\n",
       "    <tr>\n",
       "      <th>4</th>\n",
       "      <td>201702</td>\n",
       "      <td>88958530107</td>\n",
       "      <td>아디다스퍼포먼스타임스퀘어</td>\n",
       "      <td>소매</td>\n",
       "      <td>스포츠용품 판매</td>\n",
       "      <td>126.903306</td>\n",
       "      <td>37.517063</td>\n",
       "      <td>126635883.6</td>\n",
       "      <td>91884</td>\n",
       "      <td>15.04</td>\n",
       "      <td>...</td>\n",
       "      <td>16.44</td>\n",
       "      <td>10.38</td>\n",
       "      <td>22.71</td>\n",
       "      <td>0.43</td>\n",
       "      <td>26.38</td>\n",
       "      <td>39.20</td>\n",
       "      <td>25.30</td>\n",
       "      <td>8.69</td>\n",
       "      <td>0.00</td>\n",
       "      <td>0.00</td>\n",
       "    </tr>\n",
       "  </tbody>\n",
       "</table>\n",
       "<p>5 rows × 31 columns</p>\n",
       "</div>"
      ],
      "text/plain": [
       "     date    shop_code      shop_name shop_type_big shop_type_small  \\\n",
       "0  201703  95662180105           닥터빈스            음식           카페 일반   \n",
       "1  201703   1140530114           전주식당            음식      한정식/백반 전문점   \n",
       "2  201703  43562400602            삼육가            음식        고기구이 전문점   \n",
       "3  201702  43562400602            삼육가            음식        고기구이 전문점   \n",
       "4  201702  88958530107  아디다스퍼포먼스타임스퀘어            소매        스포츠용품 판매   \n",
       "\n",
       "    longitude   latitude  monthly_gain  average_sale_price  female_20  ...  \\\n",
       "0  126.927911  37.558043     5696400.0                9982       9.58  ...   \n",
       "1  127.022532  37.506856     8496120.0               14503       5.08  ...   \n",
       "2  127.025013  37.505696   103651502.5               72527      10.51  ...   \n",
       "3  127.025013  37.505696    96785751.0               70225      12.10  ...   \n",
       "4  126.903306  37.517063   126635883.6               91884      15.04  ...   \n",
       "\n",
       "   weekday4  weekday5  weekday6  time_05_10  time_10_14  time_14_18  \\\n",
       "0     17.15     11.92      6.34        1.15       72.78       23.14   \n",
       "1     19.38     16.35     10.82        0.83       76.82       13.25   \n",
       "2     21.18     21.59     18.04        4.64        8.50        2.40   \n",
       "3     26.08     22.60     15.51        2.68        8.09        5.77   \n",
       "4     16.44     10.38     22.71        0.43       26.38       39.20   \n",
       "\n",
       "   time_18_20  time_20_22  time_22_24  time_00_05  \n",
       "0        2.93        0.00        0.00        0.00  \n",
       "1        9.09        0.00        0.00        0.00  \n",
       "2       18.67       50.05        9.84        5.89  \n",
       "3       10.15       54.61       16.25        2.45  \n",
       "4       25.30        8.69        0.00        0.00  \n",
       "\n",
       "[5 rows x 31 columns]"
      ]
     },
     "execution_count": 3,
     "metadata": {},
     "output_type": "execute_result"
    }
   ],
   "source": [
    "path = \"./Dataset/\"\n",
    "\n",
    "data = pd.read_csv(path+\"kwproja_data.csv\")\n",
    "\n",
    "# original data -> data\n",
    "data.head()"
   ]
  },
  {
   "cell_type": "markdown",
   "id": "1eecf56c",
   "metadata": {},
   "source": [
    "# 2. EDA \n",
    "\n",
    "##### EDA 자세한 내용들은 eda_report_code에 포함되어 있음\n",
    "\n",
    "153395 rows X 31 columns\n",
    "\n",
    "- 매장 속성 정보\n",
    "  - shop_code -> 식별자 feature, input feature로는 사용하지 않지만 분류를 위해서는 사용할 수 있을 것 같음  \n",
    "  - shop_name -> input feature로는 사용하지 않음 (NLP deep learning 가능성 있음)\n",
    "  - longtitude : 경도, latitude : 위도 -> 매장 위치 (회사 근처, 학교 근처 등 매출 영향성 있음) -> 군집화, labeling 필요\n",
    "  - shop_type_big -> 13 category  -> 업종 (매출 영향성 있음)\n",
    "  - shop_type_small -> 367 category\n",
    "\n",
    "- 매출 정보\n",
    "  - date -> 12 category, 201702~ 201801 까지의 data\n",
    "  - monthly_gain / avearge_sale_price = 한달 총 판매수\n",
    "\n",
    "- 매출 통계 정보\n",
    "  - weekday0~6 : 일 ~ 월\n",
    "  - time -> 05_10 / 10_14 / 14_18 / 18_20 / 20_22 / 22_24 / 24_05 => 시간대가 동일하지 않음\n",
    "    - 새벽대는 찾는 손님 적어 시간 길게 잡았을 것\n",
    "    - 저녁 시간대는 가장 매출이 많이 이뤄지는 prime time 이라 시간대를 짧게 잡았을 것\n",
    "  - female/male : 20/30/40/50 -> 8 columns\n",
    "\n",
    "##### monthly_gain과 average_sale_price 중 어느 것을 y값으로 둘 것인가? \n",
    "- 월매출 예측 문제로 가정하고 montly_gain 을 y값으로 예측하는 모델 만들기\n",
    "\n",
    "##### shop_code는 input feature에 넣어야 하는가?\n",
    "- 특별한 브랜드가 y값을 결정하는 과적합 요소가 될 수 있으므로\n",
    "- X 에서 shop code, shop name 제외하는 것도 방법\n",
    "- 어느 위치에 어떤 업종으로 어떤 객단가인 매장을 오픈하면 월매출이 어떻게 될까? 문제\n",
    " - X: shop type big, shop type small, longitude, latitude, avg_sale_price, \n",
    " - y: montly_gain"
   ]
  },
  {
   "cell_type": "code",
   "execution_count": 5,
   "id": "8160023d",
   "metadata": {},
   "outputs": [
    {
     "data": {
      "text/plain": [
       "Index(['date', 'shop_code', 'shop_name', 'shop_type_big', 'shop_type_small',\n",
       "       'longitude', 'latitude', 'monthly_gain', 'average_sale_price',\n",
       "       'female_20', 'female_30', 'female_40', 'female_50', 'male_20',\n",
       "       'male_30', 'male_40', 'male_50', 'weekday0', 'weekday1', 'weekday2',\n",
       "       'weekday3', 'weekday4', 'weekday5', 'weekday6', 'time_05_10',\n",
       "       'time_10_14', 'time_14_18', 'time_18_20', 'time_20_22', 'time_22_24',\n",
       "       'time_00_05'],\n",
       "      dtype='object')"
      ]
     },
     "execution_count": 5,
     "metadata": {},
     "output_type": "execute_result"
    }
   ],
   "source": [
    "data.columns"
   ]
  },
  {
   "cell_type": "code",
   "execution_count": 6,
   "id": "0e2e2b0d",
   "metadata": {},
   "outputs": [
    {
     "name": "stdout",
     "output_type": "stream",
     "text": [
      "<class 'pandas.core.frame.DataFrame'>\n",
      "RangeIndex: 153395 entries, 0 to 153394\n",
      "Data columns (total 31 columns):\n",
      " #   Column              Non-Null Count   Dtype  \n",
      "---  ------              --------------   -----  \n",
      " 0   date                153395 non-null  int64  \n",
      " 1   shop_code           153395 non-null  int64  \n",
      " 2   shop_name           153395 non-null  object \n",
      " 3   shop_type_big       148927 non-null  object \n",
      " 4   shop_type_small     148927 non-null  object \n",
      " 5   longitude           153395 non-null  float64\n",
      " 6   latitude            153395 non-null  float64\n",
      " 7   monthly_gain        153395 non-null  float64\n",
      " 8   average_sale_price  153395 non-null  int64  \n",
      " 9   female_20           153395 non-null  float64\n",
      " 10  female_30           153395 non-null  float64\n",
      " 11  female_40           153395 non-null  float64\n",
      " 12  female_50           153395 non-null  float64\n",
      " 13  male_20             153395 non-null  float64\n",
      " 14  male_30             153395 non-null  float64\n",
      " 15  male_40             153395 non-null  float64\n",
      " 16  male_50             153395 non-null  float64\n",
      " 17  weekday0            153395 non-null  float64\n",
      " 18  weekday1            153395 non-null  float64\n",
      " 19  weekday2            153395 non-null  float64\n",
      " 20  weekday3            153395 non-null  float64\n",
      " 21  weekday4            153395 non-null  float64\n",
      " 22  weekday5            153395 non-null  float64\n",
      " 23  weekday6            153395 non-null  float64\n",
      " 24  time_05_10          153395 non-null  float64\n",
      " 25  time_10_14          153395 non-null  float64\n",
      " 26  time_14_18          153395 non-null  float64\n",
      " 27  time_18_20          153395 non-null  float64\n",
      " 28  time_20_22          153395 non-null  float64\n",
      " 29  time_22_24          153395 non-null  float64\n",
      " 30  time_00_05          153395 non-null  float64\n",
      "dtypes: float64(25), int64(3), object(3)\n",
      "memory usage: 36.3+ MB\n"
     ]
    }
   ],
   "source": [
    "data.info()"
   ]
  },
  {
   "cell_type": "markdown",
   "id": "3f6c9722",
   "metadata": {},
   "source": [
    "# 3. Preprocessing\n",
    "- missing value 제거 \n",
    "    - monthly_gain : 3,605 제거 -> 149,790\n",
    "    - shop_type_big : 4,303 제거 -> 145,487 \n",
    "    - gender feature : 1,187 제거 -> 144,300\n",
    "- shop_code, shop_name : 식별자 feature 이므로 drop \n",
    "- date : 아직은 쓸 수 없으므로 drop\n",
    "    - 여기까지 총 144,300 X 27\n",
    "- shop_type_big(13), shop_type_small(367) : label encodding\n",
    "- longitude, latitude : clustering을 통해 labeling 후 해당 두 열은 drop \n",
    "- MinMaxSaclar 정규화 -> 정규화 column의 범위는??"
   ]
  },
  {
   "cell_type": "code",
<<<<<<< HEAD
   "execution_count": 125,
=======
   "execution_count": 47,
>>>>>>> 68f8f11429e5d0676d3be21f99d35a4bdd60d1d0
   "id": "746b4c66",
   "metadata": {},
   "outputs": [],
   "source": [
    "# 원본 data와 따로 관리 -> original data = data, input data = input_data \n",
    "# feature drop\n",
    "input_data = data.copy()\n",
    "input_data = input_data.drop(['date', 'shop_code', 'shop_name'], axis=1)"
   ]
  },
  {
   "cell_type": "code",
<<<<<<< HEAD
   "execution_count": 126,
=======
   "execution_count": 48,
>>>>>>> 68f8f11429e5d0676d3be21f99d35a4bdd60d1d0
   "id": "a9ad35fa",
   "metadata": {
    "scrolled": true
   },
   "outputs": [
    {
     "name": "stdout",
     "output_type": "stream",
     "text": [
      "367\n",
      "False    145487\n",
      "Name: shop_type_small, dtype: int64\n",
      "13\n",
      "['음식' '소매' '의료' '숙박' '관광/여가/오락' '학문/교육' '생활서비스' '스포츠' '도매/유통/무역' '제조'\n",
      " '부동산' '전자/정보통신' '기술서비스']\n"
     ]
    }
   ],
   "source": [
    "# missing value drop - monthly_gain\n",
    "null_index = input_data[input_data['monthly_gain']==0].index \n",
    "#print(len(drop_index)) -> 3605\n",
    "input_data = input_data.drop(null_index)\n",
    "\n",
    "# missing value drop - shop_type_big\n",
    "null_index = input_data[input_data['shop_type_big'].isnull()==True].index\n",
    "input_data = input_data.drop(null_index)\n",
    "\n",
    "# There is no \"null\" in \"shop_type_small\" feature \n",
    "print(len(input_data['shop_type_small'].unique()))\n",
    "print(input_data['shop_type_small'].isnull().value_counts())\n",
    "\n",
    "# missing value drop - gender feature \n",
    "# So we finally get 144,300 x 28 data \n",
    "null_index = input_data[input_data[['female_20', 'female_30', 'female_40', 'female_50', 'male_20',\n",
    "       'male_30', 'male_40', 'male_50']].sum(axis=1)==0].index\n",
    "input_data = input_data.drop(null_index).reset_index().drop('index', axis=1)\n",
    "\n",
    "\n",
    "# issue -> shop_type_big에 관한 2번째 issue를 참고하세요!\n",
    "# issue -> '음식'과 '음식 ' 두 개로 count 되고 있습니다. 아래 코드로 수정하시길 바랍니다\n",
    "input_data.loc[input_data['shop_type_big'] == '음식 ', 'shop_type_big'] = '음식'\n",
    "print(input_data['shop_type_big'].nunique())\n",
    "print(input_data['shop_type_big'].unique())"
   ]
  },
  {
   "cell_type": "code",
<<<<<<< HEAD
   "execution_count": 127,
=======
   "execution_count": 49,
>>>>>>> 68f8f11429e5d0676d3be21f99d35a4bdd60d1d0
   "id": "8bdb9104",
   "metadata": {},
   "outputs": [],
   "source": [
    "# LabelEncoder\n",
    "from sklearn.preprocessing import LabelEncoder\n",
    "\n",
    "le = LabelEncoder()\n",
    "input_data['shop_type_big'] = le.fit_transform(list(input_data['shop_type_big']))   # fit transform으로 한번에 처리 가능\n",
    "#le.classes_\n",
    "\n",
    "le = LabelEncoder()\n",
    "input_data['shop_type_small'] = le.fit_transform(list(input_data['shop_type_small'])) \n",
    "#le.classes_"
   ]
  },
  {
   "cell_type": "code",
<<<<<<< HEAD
   "execution_count": 128,
=======
   "execution_count": 50,
>>>>>>> 68f8f11429e5d0676d3be21f99d35a4bdd60d1d0
   "id": "35a8be3a",
   "metadata": {},
   "outputs": [
    {
     "name": "stdout",
     "output_type": "stream",
     "text": [
      "[[ 37.50237517 127.0257712 ]\n",
      " [ 37.55455088 126.92418659]\n",
<<<<<<< HEAD
      " [ 37.56771376 127.00856117]\n",
      " [ 37.52161742 127.0241492 ]\n",
      " [ 37.51137329 127.05951703]\n",
      " [ 37.51695789 126.90563168]\n",
      " [ 37.56303222 126.98415949]\n",
      " [ 37.525724   127.0389114 ]\n",
      " [ 37.51214286 127.10026933]]\n",
      "[1 0 0 ... 4 8 8]\n"
=======
      " [ 37.56303222 126.98415949]\n",
      " [ 37.52571636 127.03889673]\n",
      " [ 37.51695789 126.90563168]\n",
      " [ 37.56771376 127.00856117]\n",
      " [ 37.51214286 127.10026933]\n",
      " [ 37.52161643 127.02413354]\n",
      " [ 37.51137329 127.05951703]]\n",
      "[1 0 0 ... 8 6 6]\n"
>>>>>>> 68f8f11429e5d0676d3be21f99d35a4bdd60d1d0
     ]
    }
   ],
   "source": [
    "# Labeling - KMeans Clustering \n",
    "# longitude + latitude = geo \n",
    "# So we get inpute_data = 144,300 X 27\n",
    "from sklearn.cluster import KMeans\n",
    "\n",
    "kmeans = KMeans(n_clusters=9).fit(input_data[['latitude', 'longitude']])\n",
    "print(kmeans.cluster_centers_)\n",
    "print(kmeans.labels_)\n",
    "\n",
    "input_data['geo'] = kmeans.labels_\n",
    "input_data = input_data.drop(['longitude', 'latitude'], axis=1)"
   ]
  },
  {
   "cell_type": "code",
<<<<<<< HEAD
   "execution_count": 129,
=======
   "execution_count": 51,
>>>>>>> 68f8f11429e5d0676d3be21f99d35a4bdd60d1d0
   "id": "3538625e",
   "metadata": {},
   "outputs": [
    {
     "data": {
      "text/html": [
       "<div>\n",
       "<style scoped>\n",
       "    .dataframe tbody tr th:only-of-type {\n",
       "        vertical-align: middle;\n",
       "    }\n",
       "\n",
       "    .dataframe tbody tr th {\n",
       "        vertical-align: top;\n",
       "    }\n",
       "\n",
       "    .dataframe thead th {\n",
       "        text-align: right;\n",
       "    }\n",
       "</style>\n",
       "<table border=\"1\" class=\"dataframe\">\n",
       "  <thead>\n",
       "    <tr style=\"text-align: right;\">\n",
       "      <th></th>\n",
       "      <th>shop_type_big</th>\n",
       "      <th>shop_type_small</th>\n",
       "      <th>monthly_gain</th>\n",
       "      <th>average_sale_price</th>\n",
       "      <th>female_20</th>\n",
       "      <th>female_30</th>\n",
       "      <th>female_40</th>\n",
       "      <th>female_50</th>\n",
       "      <th>male_20</th>\n",
       "      <th>male_30</th>\n",
       "      <th>...</th>\n",
       "      <th>weekday5</th>\n",
       "      <th>weekday6</th>\n",
       "      <th>time_05_10</th>\n",
       "      <th>time_10_14</th>\n",
       "      <th>time_14_18</th>\n",
       "      <th>time_18_20</th>\n",
       "      <th>time_20_22</th>\n",
       "      <th>time_22_24</th>\n",
       "      <th>time_00_05</th>\n",
       "      <th>geo</th>\n",
       "    </tr>\n",
       "  </thead>\n",
       "  <tbody>\n",
       "    <tr>\n",
       "      <th>0</th>\n",
       "      <td>8</td>\n",
       "      <td>304</td>\n",
       "      <td>5696400.00</td>\n",
       "      <td>9.21</td>\n",
       "      <td>9.58</td>\n",
       "      <td>5.43</td>\n",
       "      <td>18.68</td>\n",
       "      <td>4.63</td>\n",
       "      <td>27.62</td>\n",
       "      <td>8.89</td>\n",
       "      <td>...</td>\n",
       "      <td>11.92</td>\n",
       "      <td>6.34</td>\n",
       "      <td>1.15</td>\n",
       "      <td>72.78</td>\n",
       "      <td>23.14</td>\n",
       "      <td>2.93</td>\n",
       "      <td>0.00</td>\n",
       "      <td>0.00</td>\n",
       "      <td>0.00</td>\n",
       "      <td>1</td>\n",
       "    </tr>\n",
       "    <tr>\n",
       "      <th>1</th>\n",
       "      <td>8</td>\n",
       "      <td>346</td>\n",
       "      <td>8496120.00</td>\n",
       "      <td>9.58</td>\n",
       "      <td>5.08</td>\n",
       "      <td>12.12</td>\n",
       "      <td>9.68</td>\n",
       "      <td>8.15</td>\n",
       "      <td>9.68</td>\n",
       "      <td>9.75</td>\n",
       "      <td>...</td>\n",
       "      <td>16.35</td>\n",
       "      <td>10.82</td>\n",
       "      <td>0.83</td>\n",
       "      <td>76.82</td>\n",
       "      <td>13.25</td>\n",
       "      <td>9.09</td>\n",
       "      <td>0.00</td>\n",
       "      <td>0.00</td>\n",
       "      <td>0.00</td>\n",
       "      <td>0</td>\n",
       "    </tr>\n",
       "    <tr>\n",
       "      <th>2</th>\n",
       "      <td>8</td>\n",
       "      <td>17</td>\n",
       "      <td>103651502.50</td>\n",
       "      <td>11.19</td>\n",
       "      <td>10.51</td>\n",
       "      <td>9.64</td>\n",
       "      <td>4.05</td>\n",
       "      <td>3.57</td>\n",
       "      <td>23.30</td>\n",
       "      <td>31.56</td>\n",
       "      <td>...</td>\n",
       "      <td>21.59</td>\n",
       "      <td>18.04</td>\n",
       "      <td>4.64</td>\n",
       "      <td>8.50</td>\n",
       "      <td>2.40</td>\n",
       "      <td>18.67</td>\n",
       "      <td>50.05</td>\n",
       "      <td>9.84</td>\n",
       "      <td>5.89</td>\n",
       "      <td>0</td>\n",
       "    </tr>\n",
       "    <tr>\n",
       "      <th>3</th>\n",
       "      <td>8</td>\n",
       "      <td>17</td>\n",
       "      <td>96785751.00</td>\n",
       "      <td>11.16</td>\n",
       "      <td>12.10</td>\n",
       "      <td>11.48</td>\n",
       "      <td>6.31</td>\n",
       "      <td>4.77</td>\n",
       "      <td>15.64</td>\n",
       "      <td>30.60</td>\n",
       "      <td>...</td>\n",
       "      <td>22.60</td>\n",
       "      <td>15.51</td>\n",
       "      <td>2.68</td>\n",
       "      <td>8.09</td>\n",
       "      <td>5.77</td>\n",
       "      <td>10.15</td>\n",
       "      <td>54.61</td>\n",
       "      <td>16.25</td>\n",
       "      <td>2.45</td>\n",
       "      <td>0</td>\n",
       "    </tr>\n",
       "    <tr>\n",
       "      <th>4</th>\n",
       "      <td>5</td>\n",
       "      <td>170</td>\n",
       "      <td>126635883.60</td>\n",
       "      <td>11.43</td>\n",
       "      <td>15.04</td>\n",
       "      <td>10.48</td>\n",
       "      <td>16.90</td>\n",
       "      <td>9.56</td>\n",
       "      <td>21.64</td>\n",
       "      <td>11.67</td>\n",
       "      <td>...</td>\n",
       "      <td>10.38</td>\n",
       "      <td>22.71</td>\n",
       "      <td>0.43</td>\n",
       "      <td>26.38</td>\n",
       "      <td>39.20</td>\n",
       "      <td>25.30</td>\n",
       "      <td>8.69</td>\n",
       "      <td>0.00</td>\n",
       "      <td>0.00</td>\n",
<<<<<<< HEAD
       "      <td>5</td>\n",
=======
       "      <td>4</td>\n",
>>>>>>> 68f8f11429e5d0676d3be21f99d35a4bdd60d1d0
       "    </tr>\n",
       "    <tr>\n",
       "      <th>...</th>\n",
       "      <td>...</td>\n",
       "      <td>...</td>\n",
       "      <td>...</td>\n",
       "      <td>...</td>\n",
       "      <td>...</td>\n",
       "      <td>...</td>\n",
       "      <td>...</td>\n",
       "      <td>...</td>\n",
       "      <td>...</td>\n",
       "      <td>...</td>\n",
       "      <td>...</td>\n",
       "      <td>...</td>\n",
       "      <td>...</td>\n",
       "      <td>...</td>\n",
       "      <td>...</td>\n",
       "      <td>...</td>\n",
       "      <td>...</td>\n",
       "      <td>...</td>\n",
       "      <td>...</td>\n",
       "      <td>...</td>\n",
       "      <td>...</td>\n",
       "    </tr>\n",
       "    <tr>\n",
       "      <th>144295</th>\n",
       "      <td>12</td>\n",
       "      <td>323</td>\n",
       "      <td>22775270.00</td>\n",
       "      <td>13.92</td>\n",
       "      <td>0.00</td>\n",
       "      <td>0.00</td>\n",
       "      <td>25.35</td>\n",
       "      <td>22.82</td>\n",
       "      <td>0.00</td>\n",
       "      <td>26.48</td>\n",
       "      <td>...</td>\n",
       "      <td>0.00</td>\n",
       "      <td>0.00</td>\n",
       "      <td>73.52</td>\n",
       "      <td>26.48</td>\n",
       "      <td>0.00</td>\n",
       "      <td>0.00</td>\n",
       "      <td>0.00</td>\n",
       "      <td>0.00</td>\n",
       "      <td>0.00</td>\n",
<<<<<<< HEAD
       "      <td>7</td>\n",
=======
       "      <td>3</td>\n",
>>>>>>> 68f8f11429e5d0676d3be21f99d35a4bdd60d1d0
       "    </tr>\n",
       "    <tr>\n",
       "      <th>144296</th>\n",
       "      <td>5</td>\n",
       "      <td>357</td>\n",
       "      <td>1555300.00</td>\n",
       "      <td>10.42</td>\n",
       "      <td>0.00</td>\n",
       "      <td>0.00</td>\n",
       "      <td>46.48</td>\n",
       "      <td>44.72</td>\n",
       "      <td>0.00</td>\n",
       "      <td>0.00</td>\n",
       "      <td>...</td>\n",
       "      <td>23.18</td>\n",
       "      <td>20.53</td>\n",
       "      <td>23.18</td>\n",
       "      <td>52.65</td>\n",
       "      <td>13.58</td>\n",
       "      <td>10.60</td>\n",
       "      <td>0.00</td>\n",
       "      <td>0.00</td>\n",
       "      <td>0.00</td>\n",
<<<<<<< HEAD
       "      <td>7</td>\n",
=======
       "      <td>3</td>\n",
>>>>>>> 68f8f11429e5d0676d3be21f99d35a4bdd60d1d0
       "    </tr>\n",
       "    <tr>\n",
       "      <th>144297</th>\n",
       "      <td>5</td>\n",
       "      <td>257</td>\n",
       "      <td>313410614.50</td>\n",
       "      <td>10.59</td>\n",
       "      <td>31.27</td>\n",
       "      <td>14.62</td>\n",
       "      <td>9.13</td>\n",
       "      <td>2.91</td>\n",
       "      <td>19.56</td>\n",
       "      <td>12.47</td>\n",
       "      <td>...</td>\n",
       "      <td>13.71</td>\n",
       "      <td>13.84</td>\n",
       "      <td>6.60</td>\n",
       "      <td>44.94</td>\n",
       "      <td>36.45</td>\n",
       "      <td>12.01</td>\n",
       "      <td>0.00</td>\n",
       "      <td>0.00</td>\n",
       "      <td>0.00</td>\n",
<<<<<<< HEAD
       "      <td>4</td>\n",
=======
       "      <td>8</td>\n",
>>>>>>> 68f8f11429e5d0676d3be21f99d35a4bdd60d1d0
       "    </tr>\n",
       "    <tr>\n",
       "      <th>144298</th>\n",
       "      <td>9</td>\n",
       "      <td>190</td>\n",
       "      <td>79277246.00</td>\n",
       "      <td>9.20</td>\n",
       "      <td>23.15</td>\n",
       "      <td>18.09</td>\n",
       "      <td>9.60</td>\n",
       "      <td>9.93</td>\n",
       "      <td>11.81</td>\n",
       "      <td>10.03</td>\n",
       "      <td>...</td>\n",
       "      <td>11.71</td>\n",
       "      <td>16.84</td>\n",
       "      <td>4.45</td>\n",
       "      <td>25.70</td>\n",
       "      <td>30.00</td>\n",
       "      <td>22.70</td>\n",
       "      <td>16.61</td>\n",
       "      <td>0.55</td>\n",
       "      <td>0.00</td>\n",
<<<<<<< HEAD
       "      <td>8</td>\n",
=======
       "      <td>6</td>\n",
>>>>>>> 68f8f11429e5d0676d3be21f99d35a4bdd60d1d0
       "    </tr>\n",
       "    <tr>\n",
       "      <th>144299</th>\n",
       "      <td>5</td>\n",
       "      <td>7</td>\n",
       "      <td>2293350626.00</td>\n",
       "      <td>12.59</td>\n",
       "      <td>10.89</td>\n",
       "      <td>13.83</td>\n",
       "      <td>11.86</td>\n",
       "      <td>15.40</td>\n",
       "      <td>9.97</td>\n",
       "      <td>15.59</td>\n",
       "      <td>...</td>\n",
       "      <td>12.05</td>\n",
       "      <td>25.57</td>\n",
       "      <td>0.36</td>\n",
       "      <td>21.50</td>\n",
       "      <td>38.46</td>\n",
       "      <td>24.08</td>\n",
       "      <td>15.59</td>\n",
       "      <td>0.01</td>\n",
       "      <td>0.00</td>\n",
<<<<<<< HEAD
       "      <td>8</td>\n",
=======
       "      <td>6</td>\n",
>>>>>>> 68f8f11429e5d0676d3be21f99d35a4bdd60d1d0
       "    </tr>\n",
       "  </tbody>\n",
       "</table>\n",
       "<p>144300 rows × 27 columns</p>\n",
       "</div>"
      ],
      "text/plain": [
       "        shop_type_big  shop_type_small  monthly_gain  average_sale_price  \\\n",
       "0                   8              304    5696400.00                9.21   \n",
       "1                   8              346    8496120.00                9.58   \n",
       "2                   8               17  103651502.50               11.19   \n",
       "3                   8               17   96785751.00               11.16   \n",
       "4                   5              170  126635883.60               11.43   \n",
       "...               ...              ...           ...                 ...   \n",
       "144295             12              323   22775270.00               13.92   \n",
       "144296              5              357    1555300.00               10.42   \n",
       "144297              5              257  313410614.50               10.59   \n",
       "144298              9              190   79277246.00                9.20   \n",
       "144299              5                7 2293350626.00               12.59   \n",
       "\n",
       "        female_20  female_30  female_40  female_50  male_20  male_30  ...  \\\n",
       "0            9.58       5.43      18.68       4.63    27.62     8.89  ...   \n",
       "1            5.08      12.12       9.68       8.15     9.68     9.75  ...   \n",
       "2           10.51       9.64       4.05       3.57    23.30    31.56  ...   \n",
       "3           12.10      11.48       6.31       4.77    15.64    30.60  ...   \n",
       "4           15.04      10.48      16.90       9.56    21.64    11.67  ...   \n",
       "...           ...        ...        ...        ...      ...      ...  ...   \n",
       "144295       0.00       0.00      25.35      22.82     0.00    26.48  ...   \n",
       "144296       0.00       0.00      46.48      44.72     0.00     0.00  ...   \n",
       "144297      31.27      14.62       9.13       2.91    19.56    12.47  ...   \n",
       "144298      23.15      18.09       9.60       9.93    11.81    10.03  ...   \n",
       "144299      10.89      13.83      11.86      15.40     9.97    15.59  ...   \n",
       "\n",
       "        weekday5  weekday6  time_05_10  time_10_14  time_14_18  time_18_20  \\\n",
       "0          11.92      6.34        1.15       72.78       23.14        2.93   \n",
       "1          16.35     10.82        0.83       76.82       13.25        9.09   \n",
       "2          21.59     18.04        4.64        8.50        2.40       18.67   \n",
       "3          22.60     15.51        2.68        8.09        5.77       10.15   \n",
       "4          10.38     22.71        0.43       26.38       39.20       25.30   \n",
       "...          ...       ...         ...         ...         ...         ...   \n",
       "144295      0.00      0.00       73.52       26.48        0.00        0.00   \n",
       "144296     23.18     20.53       23.18       52.65       13.58       10.60   \n",
       "144297     13.71     13.84        6.60       44.94       36.45       12.01   \n",
       "144298     11.71     16.84        4.45       25.70       30.00       22.70   \n",
       "144299     12.05     25.57        0.36       21.50       38.46       24.08   \n",
       "\n",
       "        time_20_22  time_22_24  time_00_05  geo  \n",
       "0             0.00        0.00        0.00    1  \n",
       "1             0.00        0.00        0.00    0  \n",
       "2            50.05        9.84        5.89    0  \n",
       "3            54.61       16.25        2.45    0  \n",
<<<<<<< HEAD
       "4             8.69        0.00        0.00    5  \n",
       "...            ...         ...         ...  ...  \n",
       "144295        0.00        0.00        0.00    7  \n",
       "144296        0.00        0.00        0.00    7  \n",
       "144297        0.00        0.00        0.00    4  \n",
       "144298       16.61        0.55        0.00    8  \n",
       "144299       15.59        0.01        0.00    8  \n",
=======
       "4             8.69        0.00        0.00    4  \n",
       "...            ...         ...         ...  ...  \n",
       "144295        0.00        0.00        0.00    3  \n",
       "144296        0.00        0.00        0.00    3  \n",
       "144297        0.00        0.00        0.00    8  \n",
       "144298       16.61        0.55        0.00    6  \n",
       "144299       15.59        0.01        0.00    6  \n",
>>>>>>> 68f8f11429e5d0676d3be21f99d35a4bdd60d1d0
       "\n",
       "[144300 rows x 27 columns]"
      ]
     },
<<<<<<< HEAD
     "execution_count": 129,
=======
     "execution_count": 51,
>>>>>>> 68f8f11429e5d0676d3be21f99d35a4bdd60d1d0
     "metadata": {},
     "output_type": "execute_result"
    }
   ],
   "source": [
    "# average_sale_price -> skewed 된 feature \n",
    "# log정규화 \n",
    "from sklearn.preprocessing import MinMaxScaler, RobustScaler, StandardScaler, Normalizer\n",
    "\n",
    "scale_cols = ['average_sale_price']\n",
    "\n",
    "for _ in scale_cols : \n",
    "    scaled_data = pd.DataFrame(np.log1p(input_data[_]))\n",
    "    input_data[_] = scaled_data\n",
    "\n",
    "input_data"
   ]
  },
  {
   "cell_type": "code",
<<<<<<< HEAD
   "execution_count": 80,
=======
   "execution_count": 52,
>>>>>>> 68f8f11429e5d0676d3be21f99d35a4bdd60d1d0
   "id": "e977d128",
   "metadata": {},
   "outputs": [
    {
     "data": {
      "text/plain": [
       "<AxesSubplot:xlabel='shop_type_big', ylabel='average_sale_price'>"
      ]
     },
     "execution_count": 52,
     "metadata": {},
     "output_type": "execute_result"
    },
    {
     "data": {
      "image/png": "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\n",
      "text/plain": [
       "<Figure size 1080x576 with 1 Axes>"
      ]
     },
     "metadata": {
      "needs_background": "light"
     },
     "output_type": "display_data"
    }
   ],
   "source": [
    "rcParams['figure.figsize'] = 15,8\n",
    "sns.boxplot(x='shop_type_big', y='average_sale_price', data=input_data)"
   ]
  },
  {
   "cell_type": "code",
<<<<<<< HEAD
   "execution_count": 130,
=======
   "execution_count": 53,
>>>>>>> 68f8f11429e5d0676d3be21f99d35a4bdd60d1d0
   "id": "8e644b8c",
   "metadata": {},
   "outputs": [],
   "source": [
    "# Normalization - gender, week, time, 다같이 \n",
    "# 또는 gender, week, time 각 분야끼리 scaling 하는 방식도 존재 \n",
    "# xgb 모델은 분야별로 scaling 할 때 가장 좋은 성능을 보임\n",
    "# 아직 실험 중에 있음 \n",
    "#scaler = RobustScaler()\n",
    "\n",
    "#scale_cols = ['female_20', 'female_30', 'female_40', 'female_50', 'male_20', 'male_30', 'male_40', 'male_50',\n",
    "#             'time_05_10', 'time_10_14', 'time_14_18','time_18_20', 'time_20_22', 'time_22_24', 'time_00_05',\n",
    "#             'weekday0', 'weekday1', 'weekday2','weekday3', 'weekday4', 'weekday5', 'weekday6']\n",
    "\n",
    "#scaled_data = scaler.fit_transform(input_data[scale_cols])\n",
    "#scaled_data = pd.DataFrame(np.log1p(input_data[scale_cols]))\n",
    "#input_data[scale_cols] = scaled_data\n",
    "#input_data"
   ]
  },
  {
   "cell_type": "markdown",
   "id": "08ffaff6",
   "metadata": {},
   "source": [
    "# 4. Target Variable Labeling\n",
    "### 어떻게 라벨링 할 것인가?\n",
<<<<<<< HEAD
    "- min 10% 20% ... 80% 90% max의 값을 찾은 후, monthly_gain에 대해 두 범위 사이에 존재하는 값에 대해서 평균 값으로 라벨링 합니다. \n",
    "    - 예) min 과 10% 사이의 값 -> min과 10%의 평균 값으로 라벨링\n",
    "    - 우선은 다중 분류 문제를 풀기 위해서 1~10 사이로 라벨링 하고 \n",
    "    - 원래 가격대에 대한 정보(price_dict)는 계속 가지고 가야 합니다 \n",
    "    - 라벨링 분포가 정확히 14432~14430 사이로 떨어짐"
=======
    "- 원래 가격대에 대한 정보(price_dict)는 계속 가져가야 함! \n",
    "- **Label(10)**  min 10% 20% ... 80% 90% max의 값을 찾은 후, monthly_gain에 대해 두 범위 사이에 존재하는 값에 대해서 평균 값으로 라벨링 합니다. \n",
    "    - 예) min 과 10% 사이의 값 -> min과 10%의 평균 값으로 라벨링\n",
    "    - 라벨링 분포가 정확히 14432~14430 사이로 떨어짐 -> 오로지 백분율로 잘랐기 때문에 분포에 대한 걱정은 안해도 됨\n",
    "    - accuracy f-1score : 0.50 ~ 0.49\n",
    "- **Label(3)**  위와 동일한 방식으로 자릅니다. \n",
    "    - 0 ~ 33 ~ 66 ~ 99(100) -> 총 3개의 label 생성\n",
    "    - 1: 3,669,015.0075000003, 2: 18,734,738.491500005, 3: 303,196,624.6690003\n",
    "    - 3백, 2천(1천8백만), 3억\n",
    "    - accuracy f-1score : 0.84 ~ 0.82\n",
    "- **Label(4)**  위와 동일한 방식으로 자릅니다. \n",
    "    - 0 ~ 25 ~ 50 ~ 75 ~ 100 -> 총 4개의 label 생성\n",
    "    - 1: 2,324,858.25, 2: 10,317,593.25, 3: 29,815,219.125, 4: 32,692,544,860.4\n",
    "    - 2백, 1천만, 3천만(2천9백), 326억\n",
    "    - accuracy f-1score : 0.78 ~ 0.76\n",
    "- **Label(5)**  위와 동일한 방식으로 자릅니다. \n",
    "    - 0 ~ 20 ~ 40 ~ 60 ~ 80 ~ 100 -> 총 5개의 label 생성\n",
    "    - 1: 1,622,880.0, 2: 6,773,160.0, 3: 17,044,674.75,4: 39,214,985.75, 5: 32,698,042,967.275\n",
    "    - 1백만, 6백만, 1천7백만, 4천(3천9백만), 326억\n",
    "    - accuracy f-1score : 0.71 ~ 0.70\n",
    "- 백분율로 자르는 방법\n",
    "    - labe(10)의 경우 유난히 4~8 label에 대해서는 잘 못맞춤 -> monthly_gain을 일렬로 세웠을 때 앞 뒤로 뭉쳐있어서 그런 것 같음 \n",
    "    - 무작정 quantity하게 값을 나눠서 라벨링 하는 것은 좋은 것 같지 않음..\n",
    "    - 앞, 뒤로는 자잘하게 자르고 가운데는 큼직하게 잘라야..?\n",
    "    - 확실히 class의 개수가 많아질수록 accuracy가 낮아짐"
>>>>>>> 68f8f11429e5d0676d3be21f99d35a4bdd60d1d0
   ]
  },
  {
   "cell_type": "code",
<<<<<<< HEAD
   "execution_count": 65,
=======
   "execution_count": 33,
>>>>>>> 68f8f11429e5d0676d3be21f99d35a4bdd60d1d0
   "id": "6d6947c7",
   "metadata": {},
   "outputs": [
    {
     "data": {
      "text/html": [
       "<div>\n",
       "<style scoped>\n",
       "    .dataframe tbody tr th:only-of-type {\n",
       "        vertical-align: middle;\n",
       "    }\n",
       "\n",
       "    .dataframe tbody tr th {\n",
       "        vertical-align: top;\n",
       "    }\n",
       "\n",
       "    .dataframe thead th {\n",
       "        text-align: right;\n",
       "    }\n",
       "</style>\n",
       "<table border=\"1\" class=\"dataframe\">\n",
       "  <thead>\n",
       "    <tr style=\"text-align: right;\">\n",
       "      <th></th>\n",
       "      <th>shop_type_big</th>\n",
       "      <th>shop_type_small</th>\n",
       "      <th>monthly_gain</th>\n",
       "      <th>average_sale_price</th>\n",
       "      <th>female_20</th>\n",
       "      <th>female_30</th>\n",
       "      <th>female_40</th>\n",
       "      <th>female_50</th>\n",
       "      <th>male_20</th>\n",
       "      <th>male_30</th>\n",
       "      <th>...</th>\n",
       "      <th>weekday5</th>\n",
       "      <th>weekday6</th>\n",
       "      <th>time_05_10</th>\n",
       "      <th>time_10_14</th>\n",
       "      <th>time_14_18</th>\n",
       "      <th>time_18_20</th>\n",
       "      <th>time_20_22</th>\n",
       "      <th>time_22_24</th>\n",
       "      <th>time_00_05</th>\n",
       "      <th>geo</th>\n",
       "    </tr>\n",
       "  </thead>\n",
       "  <tbody>\n",
       "    <tr>\n",
       "      <th>0</th>\n",
       "      <td>8</td>\n",
       "      <td>304</td>\n",
       "      <td>5696400.00</td>\n",
       "      <td>9.21</td>\n",
       "      <td>9.58</td>\n",
       "      <td>5.43</td>\n",
       "      <td>18.68</td>\n",
       "      <td>4.63</td>\n",
       "      <td>27.62</td>\n",
       "      <td>8.89</td>\n",
       "      <td>...</td>\n",
       "      <td>11.92</td>\n",
       "      <td>6.34</td>\n",
       "      <td>1.15</td>\n",
       "      <td>72.78</td>\n",
       "      <td>23.14</td>\n",
       "      <td>2.93</td>\n",
       "      <td>0.00</td>\n",
       "      <td>0.00</td>\n",
       "      <td>0.00</td>\n",
       "      <td>1</td>\n",
       "    </tr>\n",
       "    <tr>\n",
       "      <th>1</th>\n",
       "      <td>8</td>\n",
       "      <td>346</td>\n",
       "      <td>8496120.00</td>\n",
       "      <td>9.58</td>\n",
       "      <td>5.08</td>\n",
       "      <td>12.12</td>\n",
       "      <td>9.68</td>\n",
       "      <td>8.15</td>\n",
       "      <td>9.68</td>\n",
       "      <td>9.75</td>\n",
       "      <td>...</td>\n",
       "      <td>16.35</td>\n",
       "      <td>10.82</td>\n",
       "      <td>0.83</td>\n",
       "      <td>76.82</td>\n",
       "      <td>13.25</td>\n",
       "      <td>9.09</td>\n",
       "      <td>0.00</td>\n",
       "      <td>0.00</td>\n",
       "      <td>0.00</td>\n",
       "      <td>3</td>\n",
       "    </tr>\n",
       "    <tr>\n",
       "      <th>2</th>\n",
       "      <td>8</td>\n",
       "      <td>17</td>\n",
       "      <td>103651502.50</td>\n",
       "      <td>11.19</td>\n",
       "      <td>10.51</td>\n",
       "      <td>9.64</td>\n",
       "      <td>4.05</td>\n",
       "      <td>3.57</td>\n",
       "      <td>23.30</td>\n",
       "      <td>31.56</td>\n",
       "      <td>...</td>\n",
       "      <td>21.59</td>\n",
       "      <td>18.04</td>\n",
       "      <td>4.64</td>\n",
       "      <td>8.50</td>\n",
       "      <td>2.40</td>\n",
       "      <td>18.67</td>\n",
       "      <td>50.05</td>\n",
       "      <td>9.84</td>\n",
       "      <td>5.89</td>\n",
       "      <td>3</td>\n",
       "    </tr>\n",
       "    <tr>\n",
       "      <th>3</th>\n",
       "      <td>8</td>\n",
       "      <td>17</td>\n",
       "      <td>96785751.00</td>\n",
       "      <td>11.16</td>\n",
       "      <td>12.10</td>\n",
       "      <td>11.48</td>\n",
       "      <td>6.31</td>\n",
       "      <td>4.77</td>\n",
       "      <td>15.64</td>\n",
       "      <td>30.60</td>\n",
       "      <td>...</td>\n",
       "      <td>22.60</td>\n",
       "      <td>15.51</td>\n",
       "      <td>2.68</td>\n",
       "      <td>8.09</td>\n",
       "      <td>5.77</td>\n",
       "      <td>10.15</td>\n",
       "      <td>54.61</td>\n",
       "      <td>16.25</td>\n",
       "      <td>2.45</td>\n",
       "      <td>3</td>\n",
       "    </tr>\n",
       "    <tr>\n",
       "      <th>4</th>\n",
       "      <td>5</td>\n",
       "      <td>170</td>\n",
       "      <td>126635883.60</td>\n",
       "      <td>11.43</td>\n",
       "      <td>15.04</td>\n",
       "      <td>10.48</td>\n",
       "      <td>16.90</td>\n",
       "      <td>9.56</td>\n",
       "      <td>21.64</td>\n",
       "      <td>11.67</td>\n",
       "      <td>...</td>\n",
       "      <td>10.38</td>\n",
       "      <td>22.71</td>\n",
       "      <td>0.43</td>\n",
       "      <td>26.38</td>\n",
       "      <td>39.20</td>\n",
       "      <td>25.30</td>\n",
       "      <td>8.69</td>\n",
       "      <td>0.00</td>\n",
       "      <td>0.00</td>\n",
       "      <td>5</td>\n",
       "    </tr>\n",
       "  </tbody>\n",
       "</table>\n",
       "<p>5 rows × 27 columns</p>\n",
       "</div>"
      ],
      "text/plain": [
       "   shop_type_big  shop_type_small  monthly_gain  average_sale_price  \\\n",
       "0              8              304    5696400.00                9.21   \n",
       "1              8              346    8496120.00                9.58   \n",
       "2              8               17  103651502.50               11.19   \n",
       "3              8               17   96785751.00               11.16   \n",
       "4              5              170  126635883.60               11.43   \n",
       "\n",
       "   female_20  female_30  female_40  female_50  male_20  male_30  ...  \\\n",
       "0       9.58       5.43      18.68       4.63    27.62     8.89  ...   \n",
       "1       5.08      12.12       9.68       8.15     9.68     9.75  ...   \n",
       "2      10.51       9.64       4.05       3.57    23.30    31.56  ...   \n",
       "3      12.10      11.48       6.31       4.77    15.64    30.60  ...   \n",
       "4      15.04      10.48      16.90       9.56    21.64    11.67  ...   \n",
       "\n",
       "   weekday5  weekday6  time_05_10  time_10_14  time_14_18  time_18_20  \\\n",
       "0     11.92      6.34        1.15       72.78       23.14        2.93   \n",
       "1     16.35     10.82        0.83       76.82       13.25        9.09   \n",
       "2     21.59     18.04        4.64        8.50        2.40       18.67   \n",
       "3     22.60     15.51        2.68        8.09        5.77       10.15   \n",
       "4     10.38     22.71        0.43       26.38       39.20       25.30   \n",
       "\n",
       "   time_20_22  time_22_24  time_00_05  geo  \n",
       "0        0.00        0.00        0.00    1  \n",
       "1        0.00        0.00        0.00    3  \n",
       "2       50.05        9.84        5.89    3  \n",
       "3       54.61       16.25        2.45    3  \n",
       "4        8.69        0.00        0.00    5  \n",
       "\n",
       "[5 rows x 27 columns]"
      ]
     },
     "execution_count": 33,
     "metadata": {},
     "output_type": "execute_result"
    }
   ],
   "source": [
    "# pandas option 설정 하는 코드\n",
    "# monthly_gain의 경우 부동소수점으로 나타나서 보기 어려울땐 윗 줄의 주석을 제거하고 아래에 주석을 추가하고\n",
    "# 다시 원래대로 돌리고 싶다면 아래에 주석제거, 위에 주석추가\n",
    "pd.options.display.float_format = '{:.2f}'.format\n",
    "#pd.reset_option('display.float_format')\n",
    "\n",
    "input_data.head()"
   ]
  },
  {
   "cell_type": "code",
   "execution_count": 81,
   "id": "23870c09",
   "metadata": {},
   "outputs": [
    {
     "name": "stdout",
     "output_type": "stream",
     "text": [
      "[ 8  5  9  6  0 12  4  7  2 11  3 10  1]\n"
     ]
    },
    {
     "data": {
      "text/plain": [
       "<AxesSubplot:xlabel='shop_type_small'>"
      ]
     },
     "execution_count": 81,
     "metadata": {},
     "output_type": "execute_result"
    },
    {
     "data": {
      "image/png": "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\n",
      "text/plain": [
       "<Figure size 1800x720 with 1 Axes>"
      ]
     },
     "metadata": {
      "needs_background": "light"
     },
     "output_type": "display_data"
    }
   ],
   "source": [
    "# shop_type_big 으로 묶은 후 shop_type_small 간의 평균 가격대를 비교하는 코드 \n",
    "# 제조같은 분야는 하나의 소분야가 압도적으로 가격대가 높게 형성되어 있고 나머지는 비슷비슷함\n",
    "# 스포츠 같은 경우는 모든 소분야가 비슷한 가격대를 형성함 \n",
    "df_check = input_data[['monthly_gain', 'shop_type_small', 'shop_type_big']]\n",
    "typebig_list = df_check['shop_type_big'].unique()\n",
    "print(typebig_list)\n",
    "\n",
    "df_typesmall = []\n",
    "for _ in typebig_list :\n",
    "    df = df_check[df_check['shop_type_big'] == _ ].groupby('shop_type_small').describe().droplevel(axis=1,level=0)\n",
    "    df_typesmall.append(df)\n",
    "df_typesmall[1].plot.bar(y=['count','mean'], figsize=(25,10))"
   ]
  },
  {
   "cell_type": "markdown",
   "id": "3d31c910",
   "metadata": {},
   "source": [
    "#### Labeling 1) quantity하게, 백분율을 이용해서 "
   ]
  },
  {
   "cell_type": "code",
<<<<<<< HEAD
   "execution_count": 99,
=======
   "execution_count": 54,
>>>>>>> 68f8f11429e5d0676d3be21f99d35a4bdd60d1d0
   "id": "38ac967a",
   "metadata": {},
   "outputs": [
    {
     "name": "stdout",
     "output_type": "stream",
     "text": [
      "{}\n"
     ]
    },
    {
     "data": {
      "text/plain": [
       "array([1, 2, 3], dtype=int64)"
      ]
     },
     "execution_count": 54,
     "metadata": {},
     "output_type": "execute_result"
    }
   ],
   "source": [
    "price_dict = {}  # original price를 저장하기 위한 dict\n",
    "price_list = [0] # 시작 min 값은 0 \n",
    "for i in range(1, 4) :# 1 2 3  \n",
    "    price_list.append(input_data['monthly_gain'].quantile(q=i*0.33)) # 10% ~ 100% 값을 가져옵니다    \n",
    "\n",
    "def labeling(x) : \n",
    "    for i in range(1, len(price_list)) :\n",
    "        price_dict[i] = (price_list[i]+price_list[i-1])/2\n",
    "        if x < price_list[i] and x >= price_list[i-1] : return i\n",
    "    return i\n",
    "\n",
    "print(price_dict)\n",
    "input_data['monthly_gain'] = input_data.monthly_gain.apply(labeling)\n",
    "input_data['monthly_gain'].unique()"
   ]
  },
  {
   "cell_type": "code",
<<<<<<< HEAD
   "execution_count": 91,
=======
   "execution_count": 13,
>>>>>>> 68f8f11429e5d0676d3be21f99d35a4bdd60d1d0
   "id": "3b663faf",
   "metadata": {},
   "outputs": [
    {
     "name": "stdout",
     "output_type": "stream",
     "text": [
      "Skewness: 0.000000\n",
      "Kurtosis: -1.360006\n"
     ]
    }
   ],
   "source": [
    "print(\"Skewness: %f\" % input_data['monthly_gain'].skew())\n",
    "print(\"Kurtosis: %f\" % input_data['monthly_gain'].kurt())"
   ]
  },
  {
   "cell_type": "code",
<<<<<<< HEAD
   "execution_count": 13,
=======
   "execution_count": 35,
>>>>>>> 68f8f11429e5d0676d3be21f99d35a4bdd60d1d0
   "id": "3c7d18d7",
   "metadata": {},
   "outputs": [
    {
     "name": "stderr",
     "output_type": "stream",
     "text": [
      "C:\\Users\\Hyeongbin\\anaconda3\\lib\\site-packages\\seaborn\\distributions.py:2619: FutureWarning: `distplot` is a deprecated function and will be removed in a future version. Please adapt your code to use either `displot` (a figure-level function with similar flexibility) or `histplot` (an axes-level function for histograms).\n",
      "  warnings.warn(msg, FutureWarning)\n"
     ]
    },
    {
     "data": {
      "text/plain": [
       "Text(0.5, 1.0, 'Monthly gain Histogram with Density Plot')"
      ]
     },
     "execution_count": 35,
     "metadata": {},
     "output_type": "execute_result"
    },
    {
     "data": {
      "image/png": "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\n",
      "text/plain": [
       "<Figure size 1080x576 with 1 Axes>"
      ]
     },
     "metadata": {
      "needs_background": "light"
     },
     "output_type": "display_data"
    }
   ],
   "source": [
    "ax = plt.subplots()\n",
    "ax = sns.distplot(input_data['monthly_gain'], hist = True)\n",
    "ax.set_title('Monthly gain Histogram with Density Plot')"
   ]
  },
  {
   "cell_type": "code",
<<<<<<< HEAD
   "execution_count": 102,
=======
   "execution_count": 55,
>>>>>>> 68f8f11429e5d0676d3be21f99d35a4bdd60d1d0
   "id": "d45fd877",
   "metadata": {},
   "outputs": [
    {
     "data": {
      "text/plain": [
       "{1: 3669015.0075000003, 2: 18734738.491500005, 3: 303196624.6690003}"
      ]
     },
     "execution_count": 55,
     "metadata": {},
     "output_type": "execute_result"
    }
   ],
   "source": [
    "price_dict"
   ]
  },
  {
   "cell_type": "markdown",
   "id": "55412fa2",
   "metadata": {},
   "source": [
    "# 5. Modeling\n",
    "- XGB\n",
    "- LGBM\n",
    "- MultiClass Classification "
   ]
  },
  {
   "cell_type": "code",
   "execution_count": 56,
   "id": "0eab8ebf",
   "metadata": {},
   "outputs": [],
   "source": [
    "input_data_y = input_data['monthly_gain'].copy()\n",
    "input_data_X = input_data.drop(['monthly_gain'], axis=1)"
   ]
  },
  {
   "cell_type": "code",
   "execution_count": 57,
   "id": "f42ec416",
   "metadata": {},
   "outputs": [],
   "source": [
    "from sklearn.model_selection import train_test_split, cross_validate, KFold, TimeSeriesSplit, GridSearchCV\n",
    "from sklearn.metrics import accuracy_score, classification_report, confusion_matrix\n",
    "\n",
    "from lightgbm import LGBMClassifier\n",
    "from lightgbm import plot_importance \n",
    "from xgboost import XGBClassifier\n",
    "from xgboost import plot_importance\n",
    "\n",
    "from keras.callbacks import EarlyStopping, ModelCheckpoint"
   ]
  },
  {
   "cell_type": "code",
   "execution_count": 58,
   "id": "391ace80",
   "metadata": {},
   "outputs": [],
   "source": [
    "# train/ test data로 split \n",
    "tr_val_X, test_X, tr_val_y, test_y = train_test_split(\n",
    "    input_data_X, \n",
    "    input_data_y, \n",
    "    test_size = 0.2,\n",
    "    shuffle=True,\n",
    "    random_state=42,\n",
    "    stratify=input_data_y # 분포, 모델성능에 굉장히 중요한 요소! Classification 문제에서는 필수!\n",
    ")\n",
    "\n",
    "# train / valid data로 split \n",
    "train_X, valid_X, train_y, valid_y = train_test_split(\n",
    "    tr_val_X,\n",
    "    tr_val_y, \n",
    "    test_size = 0.2, \n",
    "    shuffle=True,\n",
    "    random_state=42,\n",
    "    stratify=tr_val_y\n",
    ")"
   ]
  },
  {
   "cell_type": "code",
<<<<<<< HEAD
   "execution_count": 115,
=======
   "execution_count": 59,
>>>>>>> 68f8f11429e5d0676d3be21f99d35a4bdd60d1d0
   "id": "01052e80",
   "metadata": {},
   "outputs": [
    {
     "name": "stdout",
     "output_type": "stream",
     "text": [
      "3    31400\n",
      "2    30476\n",
      "1    30476\n",
      "Name: monthly_gain, dtype: int64\n",
      "3    9812\n",
      "2    9524\n",
      "1    9524\n",
      "Name: monthly_gain, dtype: int64\n"
     ]
    }
   ],
   "source": [
    "print(train_y.value_counts())\n",
    "print(test_y.value_counts())"
   ]
  },
  {
   "cell_type": "code",
   "execution_count": 60,
   "id": "4bb1ea5f",
   "metadata": {},
   "outputs": [],
   "source": [
    "# Learning task parameters\n",
    "# multi:softmax : softmax를 이용한 다중 클래스 분류 \n",
    "# multi:softptob : softmax를 이용한 다중 클래스에 대한 예상 확률 반환 \n",
    "# mlogloss : multiclass logloss \n",
    "model_xgb = XGBClassifier(\n",
    "    eval_metric='mlogloss')\n",
    "model_lgbm = LGBMClassifier(\n",
    "    eval_metric='mlogloss')"
   ]
  },
  {
   "cell_type": "code",
<<<<<<< HEAD
   "execution_count": 107,
=======
   "execution_count": 61,
>>>>>>> 68f8f11429e5d0676d3be21f99d35a4bdd60d1d0
   "id": "f22d50b2",
   "metadata": {},
   "outputs": [
    {
     "name": "stdout",
     "output_type": "stream",
     "text": [
      "[0]\tvalidation_0-mlogloss:0.95963\n"
     ]
    },
    {
     "name": "stderr",
     "output_type": "stream",
     "text": [
      "C:\\Users\\Hyeongbin\\anaconda3\\lib\\site-packages\\xgboost\\sklearn.py:888: UserWarning: The use of label encoder in XGBClassifier is deprecated and will be removed in a future release. To remove this warning, do the following: 1) Pass option use_label_encoder=False when constructing XGBClassifier object; and 2) Encode your labels (y) as integers starting with 0, i.e. 0, 1, 2, ..., [num_class - 1].\n",
      "  warnings.warn(label_encoder_deprecation_msg, UserWarning)\n"
     ]
    },
    {
     "name": "stdout",
     "output_type": "stream",
     "text": [
      "[1]\tvalidation_0-mlogloss:0.87066\n",
      "[2]\tvalidation_0-mlogloss:0.80228\n",
      "[3]\tvalidation_0-mlogloss:0.75070\n",
      "[4]\tvalidation_0-mlogloss:0.71142\n",
      "[5]\tvalidation_0-mlogloss:0.67638\n",
      "[6]\tvalidation_0-mlogloss:0.64963\n",
      "[7]\tvalidation_0-mlogloss:0.62573\n",
      "[8]\tvalidation_0-mlogloss:0.60592\n",
      "[9]\tvalidation_0-mlogloss:0.58929\n",
      "[10]\tvalidation_0-mlogloss:0.57409\n",
      "[11]\tvalidation_0-mlogloss:0.56058\n",
      "[12]\tvalidation_0-mlogloss:0.54834\n",
      "[13]\tvalidation_0-mlogloss:0.53703\n",
      "[14]\tvalidation_0-mlogloss:0.52724\n",
      "[15]\tvalidation_0-mlogloss:0.51827\n",
      "[16]\tvalidation_0-mlogloss:0.51016\n",
      "[17]\tvalidation_0-mlogloss:0.50284\n",
      "[18]\tvalidation_0-mlogloss:0.49547\n",
      "[19]\tvalidation_0-mlogloss:0.48960\n",
      "[20]\tvalidation_0-mlogloss:0.48465\n",
      "[21]\tvalidation_0-mlogloss:0.47939\n",
      "[22]\tvalidation_0-mlogloss:0.47505\n",
      "[23]\tvalidation_0-mlogloss:0.47044\n",
      "[24]\tvalidation_0-mlogloss:0.46641\n",
      "[25]\tvalidation_0-mlogloss:0.46260\n",
      "[26]\tvalidation_0-mlogloss:0.45864\n",
      "[27]\tvalidation_0-mlogloss:0.45557\n",
      "[28]\tvalidation_0-mlogloss:0.45252\n",
      "[29]\tvalidation_0-mlogloss:0.44924\n",
      "[30]\tvalidation_0-mlogloss:0.44665\n",
      "[31]\tvalidation_0-mlogloss:0.44413\n",
      "[32]\tvalidation_0-mlogloss:0.44100\n",
      "[33]\tvalidation_0-mlogloss:0.43911\n",
      "[34]\tvalidation_0-mlogloss:0.43626\n",
      "[35]\tvalidation_0-mlogloss:0.43386\n",
      "[36]\tvalidation_0-mlogloss:0.43192\n",
      "[37]\tvalidation_0-mlogloss:0.43023\n",
      "[38]\tvalidation_0-mlogloss:0.42847\n",
      "[39]\tvalidation_0-mlogloss:0.42701\n",
      "[40]\tvalidation_0-mlogloss:0.42472\n",
      "[41]\tvalidation_0-mlogloss:0.42256\n",
      "[42]\tvalidation_0-mlogloss:0.42063\n",
      "[43]\tvalidation_0-mlogloss:0.41893\n",
      "[44]\tvalidation_0-mlogloss:0.41763\n",
      "[45]\tvalidation_0-mlogloss:0.41633\n",
      "[46]\tvalidation_0-mlogloss:0.41496\n",
      "[47]\tvalidation_0-mlogloss:0.41351\n",
      "[48]\tvalidation_0-mlogloss:0.41190\n",
      "[49]\tvalidation_0-mlogloss:0.41060\n",
      "[50]\tvalidation_0-mlogloss:0.40982\n",
      "[51]\tvalidation_0-mlogloss:0.40840\n",
      "[52]\tvalidation_0-mlogloss:0.40715\n",
      "[53]\tvalidation_0-mlogloss:0.40566\n",
      "[54]\tvalidation_0-mlogloss:0.40430\n",
      "[55]\tvalidation_0-mlogloss:0.40295\n",
      "[56]\tvalidation_0-mlogloss:0.40231\n",
      "[57]\tvalidation_0-mlogloss:0.40135\n",
      "[58]\tvalidation_0-mlogloss:0.40053\n",
      "[59]\tvalidation_0-mlogloss:0.39976\n",
      "[60]\tvalidation_0-mlogloss:0.39861\n",
      "[61]\tvalidation_0-mlogloss:0.39780\n",
      "[62]\tvalidation_0-mlogloss:0.39603\n",
      "[63]\tvalidation_0-mlogloss:0.39507\n",
      "[64]\tvalidation_0-mlogloss:0.39403\n",
      "[65]\tvalidation_0-mlogloss:0.39275\n",
      "[66]\tvalidation_0-mlogloss:0.39238\n",
      "[67]\tvalidation_0-mlogloss:0.39191\n",
      "[68]\tvalidation_0-mlogloss:0.39083\n",
      "[69]\tvalidation_0-mlogloss:0.39018\n",
      "[70]\tvalidation_0-mlogloss:0.38939\n",
      "[71]\tvalidation_0-mlogloss:0.38884\n",
      "[72]\tvalidation_0-mlogloss:0.38827\n",
      "[73]\tvalidation_0-mlogloss:0.38719\n",
      "[74]\tvalidation_0-mlogloss:0.38643\n",
      "[75]\tvalidation_0-mlogloss:0.38591\n",
      "[76]\tvalidation_0-mlogloss:0.38496\n",
      "[77]\tvalidation_0-mlogloss:0.38415\n",
      "[78]\tvalidation_0-mlogloss:0.38323\n",
      "[79]\tvalidation_0-mlogloss:0.38270\n",
      "[80]\tvalidation_0-mlogloss:0.38207\n",
      "[81]\tvalidation_0-mlogloss:0.38145\n",
      "[82]\tvalidation_0-mlogloss:0.38092\n",
      "[83]\tvalidation_0-mlogloss:0.38032\n",
      "[84]\tvalidation_0-mlogloss:0.37977\n",
      "[85]\tvalidation_0-mlogloss:0.37952\n",
      "[86]\tvalidation_0-mlogloss:0.37870\n",
      "[87]\tvalidation_0-mlogloss:0.37795\n",
      "[88]\tvalidation_0-mlogloss:0.37732\n",
      "[89]\tvalidation_0-mlogloss:0.37691\n",
      "[90]\tvalidation_0-mlogloss:0.37605\n",
      "[91]\tvalidation_0-mlogloss:0.37557\n",
      "[92]\tvalidation_0-mlogloss:0.37491\n",
      "[93]\tvalidation_0-mlogloss:0.37431\n",
      "[94]\tvalidation_0-mlogloss:0.37390\n",
      "[95]\tvalidation_0-mlogloss:0.37379\n",
      "[96]\tvalidation_0-mlogloss:0.37336\n",
      "[97]\tvalidation_0-mlogloss:0.37284\n",
      "[98]\tvalidation_0-mlogloss:0.37221\n",
      "[99]\tvalidation_0-mlogloss:0.37207\n"
     ]
    },
    {
     "data": {
      "text/plain": [
       "XGBClassifier(base_score=0.5, booster='gbtree', colsample_bylevel=1,\n",
       "              colsample_bynode=1, colsample_bytree=1, eval_metric='mlogloss',\n",
       "              gamma=0, gpu_id=-1, importance_type='gain',\n",
       "              interaction_constraints='', learning_rate=0.300000012,\n",
       "              max_delta_step=0, max_depth=6, min_child_weight=1, missing=nan,\n",
       "              monotone_constraints='()', n_estimators=100, n_jobs=6,\n",
       "              num_parallel_tree=1, objective='multi:softprob', random_state=0,\n",
       "              reg_alpha=0, reg_lambda=1, scale_pos_weight=None, subsample=1,\n",
       "              tree_method='exact', validate_parameters=1, verbosity=None)"
      ]
     },
     "execution_count": 61,
     "metadata": {},
     "output_type": "execute_result"
    }
   ],
   "source": [
    "model_xgb.fit(train_X, train_y, eval_set=[(valid_X, valid_y)])"
   ]
  },
  {
   "cell_type": "code",
<<<<<<< HEAD
   "execution_count": 116,
=======
   "execution_count": 62,
>>>>>>> 68f8f11429e5d0676d3be21f99d35a4bdd60d1d0
   "id": "4811955d",
   "metadata": {},
   "outputs": [
    {
     "name": "stdout",
     "output_type": "stream",
     "text": [
      "[LightGBM] [Warning] Unknown parameter: eval_metric\n",
      "[1]\tvalid_0's multi_logloss: 1.0317\n",
      "[2]\tvalid_0's multi_logloss: 0.975868\n",
      "[3]\tvalid_0's multi_logloss: 0.928337\n",
      "[4]\tvalid_0's multi_logloss: 0.886643\n",
      "[5]\tvalid_0's multi_logloss: 0.849955\n",
      "[6]\tvalid_0's multi_logloss: 0.818943\n",
      "[7]\tvalid_0's multi_logloss: 0.790129\n",
      "[8]\tvalid_0's multi_logloss: 0.764176\n",
      "[9]\tvalid_0's multi_logloss: 0.742921\n",
      "[10]\tvalid_0's multi_logloss: 0.722664\n",
      "[11]\tvalid_0's multi_logloss: 0.703822\n",
      "[12]\tvalid_0's multi_logloss: 0.687149\n",
      "[13]\tvalid_0's multi_logloss: 0.672723\n",
      "[14]\tvalid_0's multi_logloss: 0.658525\n",
      "[15]\tvalid_0's multi_logloss: 0.646495\n",
      "[16]\tvalid_0's multi_logloss: 0.634992\n",
      "[17]\tvalid_0's multi_logloss: 0.623989\n",
      "[18]\tvalid_0's multi_logloss: 0.613761\n",
      "[19]\tvalid_0's multi_logloss: 0.604156\n",
      "[20]\tvalid_0's multi_logloss: 0.595721\n",
      "[21]\tvalid_0's multi_logloss: 0.588028\n",
      "[22]\tvalid_0's multi_logloss: 0.580228\n",
      "[23]\tvalid_0's multi_logloss: 0.573286\n",
      "[24]\tvalid_0's multi_logloss: 0.566537\n",
      "[25]\tvalid_0's multi_logloss: 0.560354\n",
      "[26]\tvalid_0's multi_logloss: 0.554003\n",
      "[27]\tvalid_0's multi_logloss: 0.547998\n",
      "[28]\tvalid_0's multi_logloss: 0.54274\n",
      "[29]\tvalid_0's multi_logloss: 0.537809\n",
      "[30]\tvalid_0's multi_logloss: 0.533112\n",
      "[31]\tvalid_0's multi_logloss: 0.528917\n",
      "[32]\tvalid_0's multi_logloss: 0.524837\n",
      "[33]\tvalid_0's multi_logloss: 0.521187\n",
      "[34]\tvalid_0's multi_logloss: 0.517041\n",
      "[35]\tvalid_0's multi_logloss: 0.513434\n",
      "[36]\tvalid_0's multi_logloss: 0.509843\n",
      "[37]\tvalid_0's multi_logloss: 0.506474\n",
      "[38]\tvalid_0's multi_logloss: 0.503006\n",
      "[39]\tvalid_0's multi_logloss: 0.49973\n",
      "[40]\tvalid_0's multi_logloss: 0.49681\n",
      "[41]\tvalid_0's multi_logloss: 0.493898\n",
      "[42]\tvalid_0's multi_logloss: 0.491\n",
      "[43]\tvalid_0's multi_logloss: 0.48857\n",
      "[44]\tvalid_0's multi_logloss: 0.486073\n",
      "[45]\tvalid_0's multi_logloss: 0.483596\n",
      "[46]\tvalid_0's multi_logloss: 0.481396\n",
      "[47]\tvalid_0's multi_logloss: 0.47893\n",
      "[48]\tvalid_0's multi_logloss: 0.476676\n",
      "[49]\tvalid_0's multi_logloss: 0.474425\n",
      "[50]\tvalid_0's multi_logloss: 0.47224\n",
      "[51]\tvalid_0's multi_logloss: 0.469999\n",
      "[52]\tvalid_0's multi_logloss: 0.468265\n",
      "[53]\tvalid_0's multi_logloss: 0.46641\n",
      "[54]\tvalid_0's multi_logloss: 0.464546\n",
      "[55]\tvalid_0's multi_logloss: 0.462822\n",
      "[56]\tvalid_0's multi_logloss: 0.460906\n",
      "[57]\tvalid_0's multi_logloss: 0.459099\n",
      "[58]\tvalid_0's multi_logloss: 0.457534\n",
      "[59]\tvalid_0's multi_logloss: 0.455577\n",
      "[60]\tvalid_0's multi_logloss: 0.453978\n",
      "[61]\tvalid_0's multi_logloss: 0.452241\n",
      "[62]\tvalid_0's multi_logloss: 0.450676\n",
      "[63]\tvalid_0's multi_logloss: 0.449138\n",
      "[64]\tvalid_0's multi_logloss: 0.447747\n",
      "[65]\tvalid_0's multi_logloss: 0.44671\n",
      "[66]\tvalid_0's multi_logloss: 0.445089\n",
      "[67]\tvalid_0's multi_logloss: 0.443638\n",
      "[68]\tvalid_0's multi_logloss: 0.442433\n",
      "[69]\tvalid_0's multi_logloss: 0.441211\n",
      "[70]\tvalid_0's multi_logloss: 0.440016\n",
      "[71]\tvalid_0's multi_logloss: 0.438863\n",
      "[72]\tvalid_0's multi_logloss: 0.437625\n",
      "[73]\tvalid_0's multi_logloss: 0.436539\n",
      "[74]\tvalid_0's multi_logloss: 0.435359\n",
      "[75]\tvalid_0's multi_logloss: 0.434163\n",
      "[76]\tvalid_0's multi_logloss: 0.433254\n",
      "[77]\tvalid_0's multi_logloss: 0.432131\n",
      "[78]\tvalid_0's multi_logloss: 0.430979\n",
      "[79]\tvalid_0's multi_logloss: 0.429902\n",
      "[80]\tvalid_0's multi_logloss: 0.428799\n",
      "[81]\tvalid_0's multi_logloss: 0.427748\n",
      "[82]\tvalid_0's multi_logloss: 0.426892\n",
      "[83]\tvalid_0's multi_logloss: 0.426073\n",
      "[84]\tvalid_0's multi_logloss: 0.425271\n",
      "[85]\tvalid_0's multi_logloss: 0.424422\n",
      "[86]\tvalid_0's multi_logloss: 0.423628\n",
      "[87]\tvalid_0's multi_logloss: 0.422765\n",
      "[88]\tvalid_0's multi_logloss: 0.421719\n",
      "[89]\tvalid_0's multi_logloss: 0.42088\n",
      "[90]\tvalid_0's multi_logloss: 0.420139\n",
      "[91]\tvalid_0's multi_logloss: 0.419324\n",
      "[92]\tvalid_0's multi_logloss: 0.418513\n",
      "[93]\tvalid_0's multi_logloss: 0.417682\n",
      "[94]\tvalid_0's multi_logloss: 0.416683\n",
      "[95]\tvalid_0's multi_logloss: 0.415808\n",
      "[96]\tvalid_0's multi_logloss: 0.415158\n",
      "[97]\tvalid_0's multi_logloss: 0.414378\n",
      "[98]\tvalid_0's multi_logloss: 0.413763\n",
      "[99]\tvalid_0's multi_logloss: 0.413089\n",
      "[100]\tvalid_0's multi_logloss: 0.412492\n"
     ]
    },
    {
     "data": {
      "text/plain": [
       "LGBMClassifier(eval_metric='mlogloss')"
      ]
     },
     "execution_count": 62,
     "metadata": {},
     "output_type": "execute_result"
    }
   ],
   "source": [
    "model_lgbm.fit(train_X, train_y, eval_set=[(valid_X, valid_y)])"
   ]
  },
  {
   "cell_type": "code",
   "execution_count": 63,
   "id": "ddedfe6a",
   "metadata": {},
   "outputs": [],
   "source": [
    "pred_xgb = model_xgb.predict(test_X)\n",
    "pred_lgbm = model_lgbm.predict(test_X)"
   ]
  },
  {
   "cell_type": "markdown",
   "id": "0201440a",
   "metadata": {},
   "source": [
    "# 6. Evaluation"
   ]
  },
  {
   "cell_type": "code",
   "execution_count": 24,
   "id": "4e53e2b3",
   "metadata": {},
   "outputs": [],
   "source": [
    "def show_pred(test_y, pred) :\n",
    "    true_y = test_y.to_numpy()\n",
    "    true_y = np.ravel(true_y)\n",
    "    \n",
    "    df_result = pd.DataFrame(list(zip(true_y, pred)), columns=['true_y', 'prediction'])\n",
    "    return df_result\n",
    "    \n",
    "def show_prediction_error(test_y, pred) :\n",
    "    true_y = test_y.to_numpy()\n",
    "    true_y = np.ravel(true_y)\n",
    "    error = pred - true_y\n",
    "    plt.hist(error, bins=25)\n",
    "    plt.xlabel(\"Prediction Error\")\n",
    "    _ = plt.ylabel(\"Count\")\n",
    "    \n",
    "def feature_importance(model_xgb) : \n",
    "    %matplotlib inline\n",
    "    plt.rcParams['axes.unicode_minus'] = False\n",
    "    font_path = \"C:/Windows/Fonts/NGULIM.TTF\"\n",
    "    font = fm.FontProperties(fname=font_path).get_name()\n",
    "    rc('font', family=font)\n",
    "\n",
    "    fig, ax = plt.subplots(figsize=(10,12))\n",
    "    plot_importance(model_xgb, ax=ax)\n",
    "    \n",
    "def graph(pred, test_label) :\n",
    "    plt.figure(figsize=(16, 9))\n",
    "    plt.plot(test_label, label = 'actual')\n",
    "    plt.plot(pred, label = 'prediction')\n",
    "    plt.legend()\n",
    "    plt.show()"
   ]
  },
  {
   "cell_type": "markdown",
   "id": "bb339325",
   "metadata": {},
   "source": [
    "- precision(정밀도) : True -> True \n",
    "- Recall(재현율) : True인 것을 맞춘 비율 \n",
    "- F1 score : precision 과 recall의 조화평균  "
   ]
  },
  {
   "cell_type": "code",
   "execution_count": 64,
   "id": "89def36c",
   "metadata": {},
   "outputs": [
    {
     "name": "stdout",
     "output_type": "stream",
     "text": [
      "              precision    recall  f1-score   support\n",
      "\n",
      "           1       0.92      0.87      0.90      9524\n",
      "           2       0.75      0.77      0.76      9524\n",
      "           3       0.85      0.87      0.86      9812\n",
      "\n",
      "    accuracy                           0.84     28860\n",
      "   macro avg       0.84      0.84      0.84     28860\n",
      "weighted avg       0.84      0.84      0.84     28860\n",
      "\n"
     ]
    }
   ],
   "source": [
    "print(classification_report(test_y, pred_xgb))"
   ]
  },
  {
   "cell_type": "code",
   "execution_count": 65,
   "id": "41d7fb22",
   "metadata": {
    "scrolled": false
   },
   "outputs": [
    {
     "name": "stdout",
     "output_type": "stream",
     "text": [
      "              precision    recall  f1-score   support\n",
      "\n",
      "           1       0.91      0.87      0.89      9524\n",
      "           2       0.73      0.76      0.74      9524\n",
      "           3       0.84      0.85      0.85      9812\n",
      "\n",
      "    accuracy                           0.82     28860\n",
      "   macro avg       0.83      0.82      0.83     28860\n",
      "weighted avg       0.83      0.82      0.83     28860\n",
      "\n"
     ]
    }
   ],
   "source": [
    "print(classification_report(test_y, pred_lgbm))"
   ]
  },
  {
   "cell_type": "code",
   "execution_count": 112,
   "id": "bd11588d",
   "metadata": {},
   "outputs": [
    {
     "data": {
      "text/html": [
       "<div>\n",
       "<style scoped>\n",
       "    .dataframe tbody tr th:only-of-type {\n",
       "        vertical-align: middle;\n",
       "    }\n",
       "\n",
       "    .dataframe tbody tr th {\n",
       "        vertical-align: top;\n",
       "    }\n",
       "\n",
       "    .dataframe thead th {\n",
       "        text-align: right;\n",
       "    }\n",
       "</style>\n",
       "<table border=\"1\" class=\"dataframe\">\n",
       "  <thead>\n",
       "    <tr style=\"text-align: right;\">\n",
       "      <th></th>\n",
       "      <th>true_y</th>\n",
       "      <th>prediction</th>\n",
       "    </tr>\n",
       "  </thead>\n",
       "  <tbody>\n",
       "    <tr>\n",
       "      <th>0</th>\n",
       "      <td>1</td>\n",
       "      <td>2</td>\n",
       "    </tr>\n",
       "    <tr>\n",
       "      <th>1</th>\n",
       "      <td>3</td>\n",
       "      <td>6</td>\n",
       "    </tr>\n",
       "    <tr>\n",
       "      <th>2</th>\n",
       "      <td>6</td>\n",
       "      <td>7</td>\n",
       "    </tr>\n",
       "    <tr>\n",
       "      <th>3</th>\n",
       "      <td>6</td>\n",
       "      <td>6</td>\n",
       "    </tr>\n",
       "    <tr>\n",
       "      <th>4</th>\n",
       "      <td>1</td>\n",
       "      <td>1</td>\n",
       "    </tr>\n",
       "    <tr>\n",
       "      <th>...</th>\n",
       "      <td>...</td>\n",
       "      <td>...</td>\n",
       "    </tr>\n",
       "    <tr>\n",
       "      <th>28855</th>\n",
       "      <td>4</td>\n",
       "      <td>3</td>\n",
       "    </tr>\n",
       "    <tr>\n",
       "      <th>28856</th>\n",
       "      <td>2</td>\n",
       "      <td>2</td>\n",
       "    </tr>\n",
       "    <tr>\n",
       "      <th>28857</th>\n",
       "      <td>9</td>\n",
       "      <td>10</td>\n",
       "    </tr>\n",
       "    <tr>\n",
       "      <th>28858</th>\n",
       "      <td>1</td>\n",
       "      <td>1</td>\n",
       "    </tr>\n",
       "    <tr>\n",
       "      <th>28859</th>\n",
       "      <td>7</td>\n",
       "      <td>7</td>\n",
       "    </tr>\n",
       "  </tbody>\n",
       "</table>\n",
       "<p>28860 rows × 2 columns</p>\n",
       "</div>"
      ],
      "text/plain": [
       "       true_y  prediction\n",
       "0           1           2\n",
       "1           3           6\n",
       "2           6           7\n",
       "3           6           6\n",
       "4           1           1\n",
       "...       ...         ...\n",
       "28855       4           3\n",
       "28856       2           2\n",
       "28857       9          10\n",
       "28858       1           1\n",
       "28859       7           7\n",
       "\n",
       "[28860 rows x 2 columns]"
      ]
     },
     "execution_count": 112,
     "metadata": {},
     "output_type": "execute_result"
    }
   ],
   "source": [
    "show_pred(test_y, pred_xgb)"
   ]
  },
  {
   "cell_type": "code",
   "execution_count": 120,
   "id": "d14d900d",
   "metadata": {},
   "outputs": [
    {
     "data": {
      "text/html": [
       "<div>\n",
       "<style scoped>\n",
       "    .dataframe tbody tr th:only-of-type {\n",
       "        vertical-align: middle;\n",
       "    }\n",
       "\n",
       "    .dataframe tbody tr th {\n",
       "        vertical-align: top;\n",
       "    }\n",
       "\n",
       "    .dataframe thead th {\n",
       "        text-align: right;\n",
       "    }\n",
       "</style>\n",
       "<table border=\"1\" class=\"dataframe\">\n",
       "  <thead>\n",
       "    <tr style=\"text-align: right;\">\n",
       "      <th></th>\n",
       "      <th>true_y</th>\n",
       "      <th>prediction</th>\n",
       "    </tr>\n",
       "  </thead>\n",
       "  <tbody>\n",
       "    <tr>\n",
       "      <th>0</th>\n",
       "      <td>1</td>\n",
       "      <td>2</td>\n",
       "    </tr>\n",
       "    <tr>\n",
       "      <th>1</th>\n",
       "      <td>3</td>\n",
       "      <td>4</td>\n",
       "    </tr>\n",
       "    <tr>\n",
       "      <th>2</th>\n",
       "      <td>6</td>\n",
       "      <td>8</td>\n",
       "    </tr>\n",
       "    <tr>\n",
       "      <th>3</th>\n",
       "      <td>6</td>\n",
       "      <td>6</td>\n",
       "    </tr>\n",
       "    <tr>\n",
       "      <th>4</th>\n",
       "      <td>1</td>\n",
       "      <td>1</td>\n",
       "    </tr>\n",
       "    <tr>\n",
       "      <th>...</th>\n",
       "      <td>...</td>\n",
       "      <td>...</td>\n",
       "    </tr>\n",
       "    <tr>\n",
       "      <th>28855</th>\n",
       "      <td>4</td>\n",
       "      <td>3</td>\n",
       "    </tr>\n",
       "    <tr>\n",
       "      <th>28856</th>\n",
       "      <td>2</td>\n",
       "      <td>2</td>\n",
       "    </tr>\n",
       "    <tr>\n",
       "      <th>28857</th>\n",
       "      <td>9</td>\n",
       "      <td>10</td>\n",
       "    </tr>\n",
       "    <tr>\n",
       "      <th>28858</th>\n",
       "      <td>1</td>\n",
       "      <td>1</td>\n",
       "    </tr>\n",
       "    <tr>\n",
       "      <th>28859</th>\n",
       "      <td>7</td>\n",
       "      <td>9</td>\n",
       "    </tr>\n",
       "  </tbody>\n",
       "</table>\n",
       "<p>28860 rows × 2 columns</p>\n",
       "</div>"
      ],
      "text/plain": [
       "       true_y  prediction\n",
       "0           1           2\n",
       "1           3           4\n",
       "2           6           8\n",
       "3           6           6\n",
       "4           1           1\n",
       "...       ...         ...\n",
       "28855       4           3\n",
       "28856       2           2\n",
       "28857       9          10\n",
       "28858       1           1\n",
       "28859       7           9\n",
       "\n",
       "[28860 rows x 2 columns]"
      ]
     },
     "execution_count": 120,
     "metadata": {},
     "output_type": "execute_result"
    }
   ],
   "source": [
    "show_pred(test_y, pred_lgbm)"
   ]
  },
  {
   "cell_type": "code",
   "execution_count": 113,
   "id": "928c243c",
   "metadata": {},
   "outputs": [
    {
     "name": "stderr",
     "output_type": "stream",
     "text": [
      "C:\\Users\\mtang\\anaconda3\\lib\\site-packages\\matplotlib\\backends\\backend_agg.py:238: RuntimeWarning: Glyph 8722 missing from current font.\n",
      "  font.set_text(s, 0.0, flags=flags)\n",
      "C:\\Users\\mtang\\anaconda3\\lib\\site-packages\\matplotlib\\backends\\backend_agg.py:201: RuntimeWarning: Glyph 8722 missing from current font.\n",
      "  font.set_text(s, 0, flags=flags)\n"
     ]
    },
    {
     "data": {
      "image/png": "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\n",
      "text/plain": [
       "<Figure size 1080x576 with 1 Axes>"
      ]
     },
     "metadata": {
      "needs_background": "light"
     },
     "output_type": "display_data"
    }
   ],
   "source": [
    "show_prediction_error(test_y, pred_xgb)"
   ]
  },
  {
   "cell_type": "code",
   "execution_count": 121,
   "id": "2df0c243",
   "metadata": {},
   "outputs": [
    {
     "name": "stderr",
     "output_type": "stream",
     "text": [
      "C:\\Users\\mtang\\anaconda3\\lib\\site-packages\\matplotlib\\backends\\backend_agg.py:238: RuntimeWarning: Glyph 8722 missing from current font.\n",
      "  font.set_text(s, 0.0, flags=flags)\n",
      "C:\\Users\\mtang\\anaconda3\\lib\\site-packages\\matplotlib\\backends\\backend_agg.py:201: RuntimeWarning: Glyph 8722 missing from current font.\n",
      "  font.set_text(s, 0, flags=flags)\n"
     ]
    },
    {
     "data": {
      "image/png": "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\n",
      "text/plain": [
       "<Figure size 1080x576 with 1 Axes>"
      ]
     },
     "metadata": {
      "needs_background": "light"
     },
     "output_type": "display_data"
    }
   ],
   "source": [
    "show_prediction_error(test_y, pred_lgbm)"
   ]
  },
  {
   "cell_type": "code",
   "execution_count": 114,
   "id": "756228fa",
   "metadata": {},
   "outputs": [
    {
     "data": {
      "text/plain": [
       "<AxesSubplot:>"
      ]
     },
     "execution_count": 114,
     "metadata": {},
     "output_type": "execute_result"
    },
    {
     "data": {
      "image/png": "iVBORw0KGgoAAAANSUhEUgAAA7kAAAHRCAYAAACvn37eAAAAOXRFWHRTb2Z0d2FyZQBNYXRwbG90bGliIHZlcnNpb24zLjMuNCwgaHR0cHM6Ly9tYXRwbG90bGliLm9yZy8QVMy6AAAACXBIWXMAAAsTAAALEwEAmpwYAABNhElEQVR4nO3debhdZX33//cHhIQpc4AIQgiDtSJQTelPnlpTbUXBapwQBTGopFJ8ZBYoOIADiAUiU23KgyBWKULgqcpkf9YHLVJL6kCV5yelSAAVkZAwBCHI9/fHXpHN4ZycnJ19cs7Z5/26rnPtve513/f6rr2uDN/zvdfaqSokSZIkSeoFG410AJIkSZIkdYtJriRJkiSpZ5jkSpIkSZJ6hkmuJEmSJKlnmORKkiRJknqGSa4kSZIkqWc8b6QD0LPNmDGjZs+ePdJhSJIkSdKIWLp06a+raman401yR5nZs2dz6623jnQYkiRJkjQikty9PuNNckeZpx5YzgN/+8WRDkOSJElSj5p5+MEjHcKw8p5cSZIkSVLPMMmVJEmSJPWMcZPkJpmdZNEwzLtJkk90e15JkiRJ0tB5T+56qqrVwCkjHYckSZIkaR2S3CTTgbOA3wDbAN8FUlWfbvb/A/BXwJuAecATwJ1VdWaSjwHTgQKuAeYAL2+mfrSqjmzmPxdYDjwNvLCqXpvkD4FjgF8DE4APVNWT/cQ3D3gf8BAQ4DjgD4DDgVXAjGZ/+5gFfWMd4Ny/BvwH8BSwA/Cxqro3yb8BtwCrq+q4JNdU1fwk+wKHACuAlVX11+t6LEmSJEnS+hs0ya2qB5McVlWrk8wGTgJmwe8S4MdpJcDzq2p+035+kh2aKf61qi5v2r9dVRc17y9Jsi2tBPmCqro5yVbA15txJwEHVdXjSd4GvB24rJ8Q3wScUVX/uaYhya1VdUjzfgHwWlpJKUkm9BdrVS3rZ+4JwDlV9VCSOcAJwP8EtgKOqqrq0/9I4PVV9fRQjpVkIbAQYPtp0/sJQ5IkSZK0LtalkjsTOC7J08BEWonfzUn+CJhLK/HcBtg+yRnNsEnA1Ob9/22b7s1JXkarYvviZr4XALcDVNUjSZY3fZ8PfDQJwBbA0gFCPA34qyTvAh4Azgb2SPJO4ElgN+Crbf0HirW/JPexqnqoeX8XsH3z/qf9JLgAT6xJcIdyrKpaDCwG2GvHOf3NK0mSJElaB+tyT+6hwLVV9X+SvAD4OHAJ8NfANOBCYBPgnqo6sX1gkjf1meuQqtq/2fe/mrZlwO8B300ysZkT4F7gtKpaNUh8D1XVx5s5jwf+FPgAcEBTfX4XsHFb/1/2F+sANksyqaoeBl7UxDRY/42q6um0svOhHEuSJEmStJ7WJcm9jlZF9bW07nmlqn6ZZCrw46ai+WSSJUkuAR5u+h3dz1w/SXIhrftnX9i0nQt8NsmBzdjHm/ZPARcleZBWEv2ZqrqznzkPSvLHtKrDWwF/B1wJXJxkGa37gG9Y07mq+o21qp7qZ+6ngI8k2ZTWvb0fGuSzOgf4cpJHaD25+v3Auh5LkiRJkrSe0v+q25GRZEvgoqo6cID9fb+q576q+tsuHHcn4L19mr8DvH/N/bQbyl47zqlvnHjahjykJEmSpHFk5uEHj3QIa5VkaVXN7XT8iH+FUJLNaFVAi9b9qmcM1LeqhuWreqrqLvr5GqAk7x+O40mSJEmShseIJ7lV9TitZb2jzoau4kqSJEmS1s+IJ7l6tufNnDbqlw9IkiRJ0mi10UgHIEmSJElSt5jkSpIkSZJ6hsuVR5mnHrifX33u7JEOQ5IkSRoztn7/MSMdgkYRK7mSJEmSpJ5hkitJkiRJ6hkmuZIkSZKknmGS20hyzSD75yU5aohzzkzyxebnH5P8/vrEKEmSJElaOx88Nbz+APhoVd2ZZDpwFrBgZEOSJEmSpN415pPcJJcCR1TVo0muBxZX1ZIkxwITgRcBK4FVVXV8k2wuatomAx+pqrva5tsf2A84EtgXOAi4H9gG+F7T52xgc2AKcANwFXBhVR3c7F8ALK+qf2oLdXfgjuH4DCRJkiRJLWM+yQVuBF6Z5Gbgh8CrgSW0ksptgf2qqpIcn+QVzf4LquqWJFsDnwQOg98lpztV1RHN9pHAvs34Q4BpzTFPqKrVTZ/rqurzSR5PMrOqHgBeAxyyJsAk2wEfpJUwP0eShcBCgO2nTe3aByNJkiRJ400vJLnXAyfTqqpeDRyaZDPgMWAOcHoSgOnAbcAOwIFJ5jfjH2le9wEeAH7WNveqqqrm/TJgWpKNgOOTbAWEZxLfy4CDkywB7q6qpwCSTAEuAA6rqt/0dwJVtRhYDLDXji+o/vpIkiRJkgY35pPcqnowySTgj4AvA7sCHwJuAmYDJ7UlqiTZG7ixqm7pM9V3q+qwJGcneVVVfRPYPEma8bOafnOBTarqpGa+f27iuCnJB4EtgEuafROB/wUc11R4JUmSJEnDaMwnuY07ge2q6ukkX6N17+sutO67vSzJcmACcAJwPnBOkoNpVWKvraqvA2sS4ROBq5LcDny2GX8/sCVwO/Bj4NgkZwFP8uzPcCmwT1V9otn+OPB84MSmmvybqvrAsHwCkiRJkiTSVuTUekryRmB6VV3c6Rx77fiCuvGko7sYlSRJktTbtn7/MSMdgrooydKqmtvpeL8nt7veAFwx0kFIkiRJ0nhlkttdp1bVoyMdhCRJkiSNV71yT+6oUFXL1neO583cxuUWkiRJktQhK7mSJEmSpJ5hkitJkiRJ6hkuVx5lnvzVz7j3/PeMdBiSJEkao7b/QMdf9CH1BCu5kiRJkqSeYZIrSZIkSeoZJrmSJEmSpJ5hkttHktlJFnU4dnKSa5Ns2mzvnuQrSS5K8qUk23U1WEmSJEnSs/jgqe76DHBKVT3ZbJ8GvKeqViTZEfgw8P4Ri06SJEmSelxPJ7lJ5gEnAXcCM4FrgbnAVGApcDNwOLAKmAG8r8/4BcA84Angzqo6cy3Hej3wc2BVkslVtRKgqlY0r3cnmdmtc5MkSZIkPVdPJ7mN26rquCRTgBuram+AJNcB51bVIc32AuC1wC3N9gRgflXNb7bPT7JDVS3re4Ak04C/At4InAxcA/yA5y4H37i/AJMsBBYCbDd1i87PVJIkSZLGufGQ5N4LrYpqkp+3tT8B7JHkncCTwG7AV9v2bwNsn+SMZnsSrQrwc5Jc4GzgpKpanaS9/ek+/fpu08S2GFgMsMcOM2pdTkqSJEmS9FzjIcldm1OAA5rk9F08u9L6S+CeqjpxbRM0S5B3BA5vEty5wIuTnAzUmqXLSeYAvx6Ws5AkSZIkASa5VwIXJ1kGzAFuWLOjqp5MsiTJJcDDQICjq+qp9gmq6gHgT9dsJ/kYcE1V/TTJqc38DwFbAccN8/lIkiRJ0riWKlfHrqskOwHv7dP8naq6vlvH2GOHGXXth97QrekkSZI0zmz/gYtHOgRpvSRZWlVzOx0/3iu5Q1JVd9Fa4ixJkiRJGoVMckeZTbee7W/fJEmSJKlDfb/iRpIkSZKkMcskV5IkSZLUM0xyJUmSJEk9w3tyR5lVD/wXP/jbvxjpMCRJksaEvQ7/6kiHIGmUsZIrSZIkSeoZJrmSJEmSpJ5hkitJkiRJ6hkmuX0kmZ1k0RDHvC7JN5Jc1Pzs37TvnuQrTduXkmw3LEFLkiRJkgAfPNUt04ALquqaPu2nAe+pqhVJdgQ+DLx/QwcnSZIkSeNFTye5SeYBJwF3AjOBa4G5wFRgKXAzcDiwCpgBvK/P+AXAPOAJ4M6qOnOAQ00F9kvyGlrV8Y9X1X0AVbWieb07ycwB4lwILASYNW2zDs5UkiRJkgQ9nuQ2bquq45JMAW6sqr0BklwHnFtVhzTbC4DXArc02xOA+VU1v9k+P8kOVbWsn2PcDHy3qpYmeQHwGeCdPHc5+Mb9BVhVi4HFAL+/45Raj3OVJEmSpHFtPCS590Kroprk523tTwB7JHkn8CSwG9D+RWvbANsnOaPZnkSrYvucJLeq/qPt/T1JNm82n+7Tte+2JEmSJKmLxkOSuzanAAdU1eok7+LZldZfAvdU1YmDTZJkT1oV46eTTALS7Kokk6tqZZI5wK+7fQKSJEmSpGeM9yT3SuDiJMuAOcANa3ZU1ZNJliS5BHiYVuJ6dFU91c88ewKnJHkU2IJW8gxwajP/Q8BWwHHDdiaSJEmSJFLlLaDrKslOwHv7NH+nqq7v1jF+f8cp9aUTX9Gt6SRJknraXod/dfBOksaUJEuram6n48d7JXdIquounqnSSpIkSZJGGZPcUWbzmbv4G0lJkiRJ6lDfr7iRJEmSJGnMMsmVJEmSJPUMlyuPMo/8+g7+5aL9RzoMSZKk5/jT9319pEOQpEFZyZUkSZIk9QyTXEmSJElSzzDJlSRJkiT1DJPcRpJrBtk/L8lRQ5zzRUm+m+Si5ufd6xOjJEmSJGntfPDU8JoG/GNVLRrpQCRJkiRpPBjzSW6SS4EjqurRJNcDi6tqSZJjgYnAi4CVwKqqOj7JdGBR0zYZ+EhV3dU23/7AfsCRwL7AQcD9wDbA95o+ZwObA1OAG4CrgAur6uBm/wJgOfA08KokuwETgLOq6ifD92lIkiRJ0vg25pNc4EbglUluBn4IvBpYAuwObAvsV1WV5Pgkr2j2X1BVtyTZGvgkcBj8LjndqaqOaLaPBPZtxh9CqzILcEJVrW76XFdVn0/yeJKZVfUA8BrgEGAn4Oyq+laSycA/AK/vewJJFgILAbaZNrHrH5AkSZIkjRe9kOReD5xMq6p6NXBoks2Ax4A5wOlJAKYDtwE7AAcmmd+Mf6R53Qd4APhZ29yrqqqa98uAaUk2Ao5PshUQnkl8LwMOTrIEuLuqngLuaH6oqpVJHkkysap+034CVbUYWAzwwtmTC0mSJElSR8Z8kltVDyaZBPwR8GVgV+BDwE3AbOCktkSVJHsDN1bVLX2m+m5VHZbk7CSvqqpvApsnSTN+VtNvLrBJVZ3UzPfPTRw3JfkgsAVwSbPv94H/qqonk2wCzOib4EqSJEmSumfMJ7mNO4HtqurpJF+jVT3dhdZ9t5clWU7rntgTgPOBc5IcTKsSe21VfR1YkwifCFyV5Hbgs834+4EtgduBHwPHJjkLeJJnf4ZLgX2q6hPN9o7AaUkebcZ/cnhOX5IkSZIEkLYip9ZTkjcC06vq4k7neOHsyfW5U/64i1FJkiR1x5++7+sjHYKkcSDJ0qqa2+l4vye3u94AXDHSQUiSJEnSeGWS212nVtWjIx2EJEmSJI1XvXJP7qhQVcvWd46tZuzqUiBJkiRJ6pCVXEmSJElSzzDJlSRJkiT1DJcrjzIrfn0HV1/8upEOQ5Ik9ag3vee6kQ5BkoaVlVxJkiRJUs8wyZUkSZIk9QyTXEmSJElSzzDJbSS5ZpD985IcNcQ5t0vy5SSXJflKkt9bnxglSZIkSWvng6eG16bAsVX18yRbA58GDh3hmCRJkiSpZ435JDfJpcARVfVokuuBxVW1JMmxwETgRcBKYFVVHZ9kOrCoaZsMfKSq7mqbb39gP+BIYF/gIOB+YBvge02fs4HNgSnADcBVwIVVdXCzfwGwvKr+qS3UXYF7h+MzkCRJkiS1jPkkF7gReGWSm4EfAq8GlgC7A9sC+1VVJTk+ySua/RdU1S1NdfWTwGHwu+R0p6o6otk+Eti3GX8IMK055glVtbrpc11VfT7J40lmVtUDwGuAQ5r92wIfBl4KvKu/E0iyEFgIMHP6xG5+NpIkSZI0rvRCkns9cDKtqurVwKFJNgMeA+YApycBmA7cBuwAHJhkfjP+keZ1H+AB4Gdtc6+qqmreLwOmJdkIOD7JVkB4JvG9DDg4yRLg7qp6CqCqfgkckWRzWhXf53wJblUtBhYD7DJ7cvXdL0mSJElaN2M+ya2qB5NMAv4I+DKtZcEfAm4CZgMntSWqJNkbuLGqbukz1Xer6rAkZyd5VVV9E9g8SZrxs5p+c4FNquqkZr5/buK4KckHgS2AS5p9WwMPNOMfxwd9SZIkSdKwGvNJbuNOYLuqejrJ14A7gF1o3Xd7WZLlwATgBOB84JwkB9OqxF5bVV8H1iTCJwJXJbkd+Gwz/n5gS+B24MfAsUnOAp7k2Z/hUmCfqvpEs703cFCS3wCTgPOG5/QlSZIkSQBpK3JqPSV5IzC9qi7udI5dZk+uz3xkny5GJUmS9Iw3vee6kQ5BktYqydKqmtvpeJfPdtcbgCtGOghJkiRJGq9Mcrvr1Kp6dKSDkCRJkqTxqlfuyR0VqmrZ+s4xZcauLiOSJEmSpA5ZyZUkSZIk9QyTXEmSJElSz3C58ijz4IM/5ZJLXzPSYUiSpDFowbtvHOkQJGnEWcmVJEmSJPUMk1xJkiRJUs8wyZUkSZIk9YwxneQmOTrJpUn26+Kcs5Ms6nDs5CTXJtm02d49yVeSXJTkS0m261ackiRJkqTnGusPnvqTqnrTSAfR5jPAKVX1ZLN9GvCeqlqRZEfgw8D7Ryw6SZIkSepxYzbJTbIA2KOpul5NK3n8NTAB+ACwD3AScCcwE7gWmAtMBZZW1VlJXg4cDqwCZgDv6+cY84AngDur6sy1xPN64OfAqiSTq2olQFWtaF7vTjJz/c9ckiRJkjSQMZvkVtUlSeZX1VFJlgAHVdXjSd4GvB24B7itqo5LMgW4sar2BkhyHXAWcGtVHdK0LQBeC9zSbE8A5lfV/Gb7/CQ7VNWyvrEkmQb8FfBG4GTgGuAHPHc5+Mb9nUuShcBCgOnTJ3b0eUiSJEmSxnCS28fzgY8mAdgCWNq03wutamqSn7f1f6J53SPJO4Engd2Ar7b12QbYPskZzfYkWlXg5yS5wNnASVW1uolhjaf79Ou7TRPfYmAxwE47TaoBzlGSJEmSNIheSXLvBU6rqlVrGpLMW4dxpwAHNMnpu3h2pfWXwD1VdeLaJmiWIO8IHN4kuHOBFyc5Gag1S5eTzKG1nFqSJEmSNEx6Jcn9FHBRkgeBTWg9AGpdXAlcnGQZMAe4Yc2OqnoyyZIklwAPAwGOrqqn2ieoqgeAP12zneRjwDVV9dMkpzbzPwRsBRzX4flJkiRJktZBqlwdu66S7AS8t0/zd6rq+m4dY6edJtVHP/b/dGs6SZI0jix4940jHYIkrbckS6tqbqfje6WSu0FU1V20ljhLkiRJkkYhk9xRZvr03fwtrCRJkiR1qO9X3EiSJEmSNGaZ5EqSJEmSeoZJriRJkiSpZ3hP7ijzq+V38Nkv7TvSYUiSpGFy5DtvGLyTJKljVnIlSZIkST3DJFeSJEmS1DNMciVJkiRJPcMkt48ks5MsGuKYFye5MsmlSf4xyTZN++5JvpLkoiRfSrLdsAQtSZIkSQJ88FS3bAwcWlWPJNkbeD9wKnAa8J6qWpFkR+DDzT5JkiRJ0jDo6SQ3yTzgJOBOYCZwLTAXmAosBW4GDgdWATOA9/UZvwCYBzwB3FlVZ/Z3nKr6UdvmrsC9bftWNK93J5k5QJwLgYUAU2dMHMIZSpIkSZLa9XSS27itqo5LMgW4sar2BkhyHXBuVR3SbC8AXgvc0mxPAOZX1fxm+/wkO1TVsv4OkuT3gSOB3wPe0jT3XQ6+cX9jq2oxsBhghzmTq7PTlCRJkiSNhyT3XmhVVJP8vK39CWCPJO8EngR2A77atn8bYPskZzTbk2hVgPtNcqvqJ8BfNtXazwFvBZ7u063vtiRJkiSpi8ZDkrs2pwAHVNXqJO/i2ZXWXwL3VNWJg02SZNuq+mWz+SiwafO+kkyuqpVJ5gC/7mbwkiRJkqRnG+9J7pXAxUmWAXOAG9bsqKonkyxJcgnwMBDg6Kp6qp95Xpfkz2lVhycBn2raT23mfwjYCjhu2M5EkiRJkkSqvAV0XSXZCXhvn+bvVNX13TrGDnMm17Gf+H+6NZ0kSRpljnznDYN3kqRxLMnSqprb6fjxXskdkqq6i9YSZ0mSJEnSKGSSO8psPW1Xf8MrSZIkSR3q+xU3kiRJkiSNWSa5kiRJkqSe4XLlUea+h+7g5K+8dqTDkCSp533ybV17bqQkaRSxkitJkiRJ6hkmuZIkSZKknmGSK0mSJEnqGSa5kiRJkqSeMaaT3CRHJ7k0yX5dnHN2kkVDHPO6JN9IclHzs3/TvnuSrzRtX0qyXbfilCRJkiQ911h/uvKfVNWbRjoIYBpwQVVd06f9NOA9VbUiyY7Ah4H3b+jgJEmSJGm8GLNJbpIFwB5N1fVqWsnjr4EJwAeAfYCTgDuBmcC1wFxgKrC0qs5K8nLgcGAVMAN4Xz/HmAc8AdxZVWcOEM5UYL8kr6FVHf94Vd0HUFUrmte7k8wc4FwWAgsBJs2YOKTPQZIkSZL0jDGb5FbVJUnmV9VRSZYAB1XV40neBrwduAe4raqOSzIFuLGq9gZIch1wFnBrVR3StC0AXgvc0mxPAOZX1fxm+/wkO1TVsn7CuRn4blUtTfIC4DPAO3nucvCNBziXxcBigFk7T67OPhFJkiRJ0phNcvt4PvDRJABbAEub9nuhVU1N8vO2/k80r3skeSfwJLAb8NW2PtsA2yc5o9meRKti+5wkt6r+o+39PUk2bzaf7tO177YkSZIkqYt6Jcm9FzitqlataUgybx3GnQIcUFWrk7yLZ1dafwncU1UnDjZJkj1pVY2fTjIJSLOrkkyuqpVJ5tBaTi1JkiRJGia9kuR+CrgoyYPAJrSWC6+LK4GLkywD5gA3rNlRVU8mWZLkEuBhWonr0VX1VD/z7AmckuRRWpXkU5r2U5v5HwK2Ao4b8plJkiRJktZZqrwFdF0l2Ql4b5/m71TV9d06xqydJ9d7znh5t6aTJEkD+OTbuvbPtySpi5Israq5nY7vlUruBlFVd/FMlVaSJEmSNMqY5I4y203d1d8sS5IkSVKH+n7FjSRJkiRJY5ZJriRJkiSpZ7hceZS5Y8UdvPaf9hvpMCRJGvOuf8O1Ix2CJGkEWMmVJEmSJPUMk1xJkiRJUs8wyZUkSZIk9QyT3EaSawbZPy/JUR3O/bwkX0syrZPxkiRJkqR1Y5K7YZwM/F1VLR/pQCRJkiSpl435pysnuRQ4oqoeTXI9sLiqliQ5FpgIvAhYCayqquOTTAcWNW2TgY9U1V1t8+0P7AccCewLHATcD2wDfK/pczawOTAFuAG4Criwqg5u9i8AllfVPyX5A2B74PNJZlXVL4bz85AkSZKk8WzMJ7nAjcArk9wM/BB4NbAE2B3YFtivqirJ8Ule0ey/oKpuSbI18EngMPhdcrpTVR3RbB8J7NuMPwRYs9z4hKpa3fS5rqo+n+TxJDOr6gHgNcAhSTYFPgW8A5gPrACu6XsCSRYCCwEmzpzY1Q9HkiRJksaTXkhyr6e1HHgKcDVwaJLNgMeAOcDpSQCmA7cBOwAHJpnfjH+ked0HeAD4Wdvcq6qqmvfLgGlJNgKOT7IVEJ5JfC8DDk6yBLi7qp5K8kng3Kpa0cTQr6paDCwGmLzL5BqwoyRJkiRprcZ8kltVDyaZBPwR8GVgV+BDwE3AbOCktkSVJHsDN1bVLX2m+m5VHZbk7CSvqqpvApsnSTN+VtNvLrBJVZ3UzPfPTRw3JfkgsAVwSdP3FcD0JG8EXgg8keT+qvpulz8GSZIkSRI9kOQ27gS2q6qnk3wNuAPYhdZ9t5clWQ5MAE4AzgfOSXIwrUrstVX1dWBNInwicFWS24HPNuPvB7YEbgd+DByb5CzgSZ79GS4F9qmqTwBU1Z+s2dEshV5hgitJkiRJwydtRU6tp6ZiO72qLu50jsm7TK6Xn/0/uhiVJEnj0/VvuHakQ5AkdSDJ0qqa2+l4v0Kou94AXDHSQUiSJEnSeGWS212nVtWjIx2EJEmSJI1XvXJP7qhQVcvWd45dp+zq8ipJkiRJ6pCVXEmSJElSzzDJlSRJkiT1DJcrjzJ3rLiP/a7565EOQ5KkMena+Z8a6RAkSSPMSq4kSZIkqWeY5EqSJEmSeoZJriRJkiSpZ5jkNpJcM8j+eUmO6mDe309yYydjJUmSJElDY5I7jJJsDxwBLB7pWCRJkiRpPBjzT1dOcilwRFU9muR6YHFVLUlyLDAReBGwElhVVccnmQ4satomAx+pqrva5tsf2A84EtgXOAi4H9gG+F7T52xgc2AKcANwFXBhVR3c7F8ALK+qfwKOSDIP2H74PgVJkiRJEvRAkgvcCLwyyc3AD4FXA0uA3YFtgf2qqpIcn+QVzf4LquqWJFsDnwQOg98lpztV1RHN9pHAvs34Q4BpzTFPqKrVTZ/rqurzSR5PMrOqHgBeAxyyrieQZCGwEGDizEnr9WFIkiRJ0njWC0nu9cDJtKqqVwOHJtkMeAyYA5yeBGA6cBuwA3BgkvnN+Eea132AB4Cftc29qqqqeb8MmJZkI+D4JFsB4ZnE9zLg4CRLgLur6ql1PYGqWkyzpHnyLrNqkO6SJEmSpAGM+SS3qh5MMgn4I+DLwK7Ah4CbgNnASW2JKkn2Bm6sqlv6TPXdqjosydlJXlVV3wQ2T5Jm/Kym31xgk6o6qZnvn5s4bkryQWAL4JJhOl1JkiRJ0lqM+SS3cSewXVU9neRrwB3ALrTuu70syXJgAnACcD5wTpKDaVVir62qrwNrEuETgauS3A58thl/P7AlcDvwY+DYJGcBT/Lsz3ApsE9VfWJ4T1eSJEmS1J+0FTm1npK8EZheVRd3OsfkXWbV//ibQ7sYlSRJ48e18z810iFIktZTkqVVNbfT8X6FUHe9AbhipIOQJEmSpPHKSm4XJdmhqpatzxxz586tW2+9tVshSZIkSdKYYiV3FFnfBFeSJEmStH5MciVJkiRJPcMkV5IkSZLUM3rlK4R6xh0r7mf/JWePdBiSJI0JX3/zMSMdgiRplLGSK0mSJEnqGSa5kiRJkqSeMeJJbpJ5SY4aprkPHI552+a/JMmUftrPHM7jSpIkSZL6N+JJ7jAb1iR3IFX1oZE4riRJkiSNdxv8wVNJtgXOAR4ANgFuA/48yQuBycC/VdVnk+wEfAJ4CJgGfLyqbk/yLeBfgdXAdsAxVfVIP8c5BnhJkkXA54FTq2p+s28esEcz7zbAz4HnA1+pqm8meR1wELASWFVVx6/llE5MsgUwCzitqn6U5Jqqmp9kZ+CTwP3AE8DOVfWWDj42SZIkSdI6GImnK78c+NeqOh9+l3C+sKqObLavBz4LfBj4UFXdl2QacAHwDmAC8LGqWp3kVcBC4Ky+B6mqs5P8SVUd1cz7gyR7VdUPgLcDpwD/E7i2qr6aZCPgGuCbTfv+VVVJjk/yiqr69gDns6SqvpdkKrAYeFvbvo8AxzbnsGNzXs+RZGFzHkycMXWQj0+SJEmSNJCRWK78T0Al+XSSTwIzgLva9v+meZ1WVfcBVNVyYLOm/f6qWt28vwvYfh2P+3ng3Uk2Bzapqgeb9nuaYzwNVNO2M3B6kjOA3YAt1jLvT5vxD9GqTLeb0nYOdw80QVUtrqq5VTV308lrO5QkSZIkaW1GopJbVXUBQJI/BM4Gruqn3/Ik2zVV0Kk8k/xOT/K8qnoKeBFw7zoe9O5mqfSBwFfadm3bxLIJrSoxwB3ASVVVDG4qsCLJlsCTffY9lOT5VfXzJM9flzglSZIkSZ0biST3pUkOp3WP6nTgSiD99Psk8Jkky5t+H2/aC/ibJBvTuof3iLUc684kfw9cVFX/RquKfCLwB219DkiyL61k94ym7TzgsubYE4ATqmrFAMc4IslK4AVtMa7xceCsJL8EHuSZSrEkSZIkaRhs8CS3qm4F3ruW/fOb1zuBd/bTZfma+2zXSHIsrYrqGo9V1elVdWyfsT8B/nezNHmNc5v7dNtjuAG4oW3+KUk+0Weu/6yqBetwDu9o5tiJ1kOuJEmSJEnDZCQquV1XVc958NQA3gH8XQfzr6D1oKohSTILOBV4mlbV+YShziFJkiRJWndjLsldUyXt0IVVtaxtro+td0BrUVW/oHlqsiRJkiRp+I25JHd9tCe4o9WuU7bh628+ZqTDkCRJkqQxaSS+QkiSJEmSpGFhkitJkiRJ6hnjarnyWHDHQ79m/6v+fqTDkCRp1Pr6Ww4b6RAkSaOYlVxJkiRJUs8wyZUkSZIk9QyTXEmSJElSzzDJbSS5ZpD985IcNcQ5t09yeZKLkvxjkhevT4ySJEmSpLXzwVPD6yPAyVV1Z5KtgIuBt41wTJIkSZLUs8Z8kpvkUuCIqno0yfXA4qpakuRYYCLwImAlsKqqjk8yHVjUtE0GPlJVd7XNtz+wH3AksC9wEHA/sA3wvabP2cDmwBTgBuAq4MKqOrjZvwBYDsyoqjsBquqRJFbOJUmSJGkYjfkkF7gReGWSm4EfAq8GlgC7A9sC+1VVJTk+ySua/RdU1S1JtgY+CRwGv0tOd6qqI5rtI4F9m/GHANOaY55QVaubPtdV1eeTPJ5kZlU9ALwGOAR4T59YN+7vBJIsBBYCTJwxrb8ukiRJkqR10AtJ7vXAybSqqlcDhybZDHgMmAOcngRgOnAbsANwYJL5zfhHmtd9gAeAn7XNvaqqqnm/DJjWVGOPb5Yfh2cS38uAg5MsAe6uqqeSPN0n1r7bAFTVYmAxwOSdZ1d/fSRJkiRJgxvzSW5VPZhkEvBHwJeBXYEPATcBs4GT2hJVkuwN3FhVt/SZ6rtVdViSs5O8qqq+CWyeJM34WU2/ucAmVXVSM98/N3HclOSDwBbAJU3fXyeZU1X/nWQyYAIrSZIkScNozCe5jTuB7arq6SRfA+4AdqF13+1lSZYDE4ATgPOBc5IcTKsSe21VfZ1nEtATgauS3A58thl/P7AlcDvwY+DYJGcBT/Lsz3ApsE9VfaLZ/jjwN0keoVVp/thwnLwkSZIkqSVtRU6tpyRvBKZX1cWdzjF559n1x2ee3MWoJEnqLV9/y2EjHYIkaRglWVpVczsd79N+u+sNwBUjHYQkSZIkjVcmud11alU9OtJBSJIkSdJ41Sv35I4KVbVsfefYdeoMl2FJkiRJUoes5EqSJEmSeoZJriRJkiSpZ7hceZT5r4eW8/or/2Gkw5AkadT62lsPGukQJEmjmJVcSZIkSVLPMMmVJEmSJPUMk1xJkiRJUs8wye0jyewki4Y4ZpckX0nyhSRfTjKrad+9ab8oyZeSbDcsQUuSJEmSAB881S0vBf6yqpYneRnwl8DHgNOA91TViiQ7Ah8G3j9yYUqSJElSb+vpJDfJPOAk4E5gJnAtMBeYCiwFbgYOB1YBM4D39Rm/AJgHPAHcWVVn9necqrqibXN34I62fSua17uTzFzfc5IkSZIkDaynk9zGbVV1XJIpwI1VtTdAkuuAc6vqkGZ7AfBa4JZmewIwv6rmN9vnJ9mhqpYNdKAkewCvBt7dNPVdDr7xAOMWAgsBNpsxvYNTlCRJkiTB+Ehy74VWRTXJz9vanwD2SPJO4ElgN+Crbfu3AbZPckazPYlWBbjfJLdZjvxR4F1VVU3z03269d2miW0xsBhgys5zqr8+kiRJkqTBjYckd21OAQ6oqtVJ3sWzK62/BO6pqhMHmyTJdOA8WvffrmrbVUkmV9XKJHOAX3czeEmSJEnSs433JPdK4OIky4A5wA1rdlTVk0mWJLkEeBgIcHRVPdXPPJ8DNgPOSAJwX1V9FDi1mf8hYCvguOE8GUmSJEka7/LMyloNJslOwHv7NH+nqq7v1jGm7Dyn/vjTH+/WdJIk9ZyvvfWgkQ5BkjSMkiytqrmdjh/vldwhqaq7aC1xliRJkiSNQia5o8wuU6f5G2pJkiRJ6lDfr7iRJEmSJGnMMsmVJEmSJPUMk1xJkiRJUs/wntxR5r8eWsFfXHn1SIchSdKI+epb3zTSIUiSxjAruZIkSZKknmGSK0mSJEnqGSa5kiRJkqSeYZIrSZIkSeoZPniqA0kmAJ8DVgEFvBR4F/BxYDmwJXBMVS1P8hlgK2AC8L2q+tuRiVqSJEmSep9JbmcOAr5RVV9K8jzgu8DJwLFV9YskfwgckeQm4KGqOh4gyZeT/GNVLW+fLMlCYCHAZjNmbtATkSRJkqReYpLbmRcA/wRQVU8luQ+YBRyZBFqf64PAjsDtbePuALanVe39napaDCwGmLLzLjXcwUuSJElSrzLJ7cwy4PeA76eV1W4L/Bj4bFX9Yk2nJK8E/gew5otvdwXu3cCxSpIkSdK4YZLbmS8BFyb5H8AjwG+BTwB/k2Q5sDFwaVX9nyRvSPI5YFPgO32XKkuSJEmSuscktwNV9QTwXoAkGwFXV9VdtO7V7dv32A0cniRJkiSNWya5HWiWKJ8FTASmAeeNbESSJEmSJDDJ7UhVFXDMSMchSZIkSXo2k9xRZpepU/jqW9800mFIkiRJ0pi00UgHIEmSJElSt5jkSpIkSZJ6hsuVR5n/euhh5l/5jZEOQ5KkDeqat/75SIcgSeoRVnIlSZIkST3DJFeSJEmS1DNMciVJkiRJPcMkV5IkSZLUM8Z0kpvk6CSXJtmvi3POTrJoiGNenOTKJpZ/TLJN0757kq8kuSjJl5Js1604JUmSJEnPNdafrvwnVfWmkQ4C2Bg4tKoeSbI38H7gVOA04D1VtSLJjsCHm32SJEmSpGEwZpPcJAuAPZqq69W0ksdfAxOADwD7ACcBdwIzgWuBucBUYGlVnZXk5cDhwCpgBvC+fo4xD3gCuLOqzuwvlqr6UdvmrsC9bftWNK93J5k5wLksBBYCbDZj63U6f0mSJEnSc43ZJLeqLkkyv6qOSrIEOKiqHk/yNuDtwD3AbVV1XJIpwI1VtTdAkuuAs4Bbq+qQpm0B8FrglmZ7AjC/quY32+cn2aGqlvUXT5LfB44Efg94S9Pcdzn4xgOcy2JgMcCUnXerIX8YkiRJkiRgDCe5fTwf+GgSgC2ApU37vdCqpib5eVv/J5rXPZK8E3gS2A34alufbYDtk5zRbE+iVQXuN8mtqp8Af9lUaz8HvBV4uk+3vtuSJEmSpC7qlST3XuC0qlq1piHJvHUYdwpwQFWtTvIunl1p/SVwT1WdONgkSbatql82m48CmzbvK8nkqlqZZA6t5dSSJEmSpGHSK0nup4CLkjwIbAJ8Zh3HXQlcnGQZMAe4Yc2OqnoyyZIklwAPAwGOrqqn+pnndUn+nFaFeFITD7QePnVxkoeArYDjhnxmkiRJkqR1lipvAV1XSXYC3tun+TtVdX23jjFl591q3qcv6NZ0kiSNCde89c9HOgRJ0iiRZGlVze10fK9UcjeIqrqL1hJnSZIkSdIoZJI7yuwydZK/zZYkSZKkDvX9ihtJkiRJksYsk1xJkiRJUs9wufIoc+dDj/GWq7430mFIkrTBXPWWvUc6BElSD7GSK0mSJEnqGSa5kiRJkqSeYZIrSZIkSeoZJrmNJNcMsn9ekqM6mPe0JJ9LckmShZ3GJ0mSJEkanA+eGkZJ5gM/qqorRzoWSZIkSRoPxnySm+RS4IiqejTJ9cDiqlqS5FhgIvAiYCWwqqqOTzIdWNS0TQY+UlV3tc23P7AfcCSwL3AQcD+wDfC9ps/ZwObAFOAG4Crgwqo6uNm/AFgO/Bnwn0nOAwr4m6paNnyfhiRJkiSNb2M+yQVuBF6Z5Gbgh8CrgSXA7sC2wH5VVUmOT/KKZv8FVXVLkq2BTwKHwe+S052q6ohm+0hg32b8IcC05pgnVNXqps91VfX5JI8nmVlVDwCvAQ4BDgf+36r6XJJZwN8Dr+97As0y5oUAm83YtusfkCRJkiSNF72Q5F4PnEyrqno1cGiSzYDHgDnA6UkApgO3ATsABzZLiQEeaV73AR4AftY296qqqub9MmBako2A45NsBYRnEt/LgIOTLAHurqqnkqyqqqsBquoXSR5NMrGqftN+AlW1GFgMMHXnFxWSJEmSpI6M+SS3qh5MMgn4I+DLwK7Ah4CbgNnASW2JKkn2Bm6sqlv6TPXdqjosydlJXlVV3wQ2T5Jm/Kym31xgk6o6qZnvn5s4bkryQWAL4JKm7w+TvKyqliZ5HjCpb4IrSZIkSeqeMZ/kNu4Etquqp5N8DbgD2IXWfbeXJVkOTABOAM4HzklyMK1K7LVV9XVa98wCnAhcleR24LPN+PuBLYHbgR8DxyY5C3iSZ3+GS4F9quoTzfbZwFlN9XcqcPrwnL4kSZIkCSBtRU6tpyRvBKZX1cWdzjF15xfVq868tItRSZI0ul31lr1HOgRJ0iiSZGlVze10vN+T211vAK4Y6SAkSZIkabwyye2uU6vq0ZEOQpIkSZLGq165J3dU6MZ34O48dQuXbUmSJElSh6zkSpIkSZJ6hkmuJEmSJKlnuFx5lPnvFU9w4JK7RjoMSdI4cPmbdxrpECRJ6joruZIkSZKknmGSK0mSJEnqGSa5kiRJkqSeMervyU1yYFVdnuRlwM5VdUWX5/8gsDfwJPCLqjq5ab8MeKKt6/FV9dAAc0wDTgWeX1Vvado2Ac4FNgW2AK6sqiu7GbskSZIk6dnGQiX3QICqWjoMCe5sYM+qOriq3gOsSvKKZvfEqnpf289ACW6ATwF/B2zctusdwC1V9d6qOhA4MMkW3YxfkiRJkvRso7qSm2QB8JIki4CHgJVVtSjJD4GbgYnAT4BZwFbABODdtKqnFwKPA1OAc6pqaT+HeCnwL23b36JV1f02sHWS04FpwH8DZ1ZV9Z2gaXt/E2/7rrnAmW3b3wd2a14lSZIkScNgVCe5VXVJkvlVdVSSecBeza7VVXU4QJJ/B/6sqlY2yfCuwD7AN5plzhOBLwAH9HOIScCKtu3HgMnN+78Fvl5VjyQ5GngTsGQI4U8CHh1g7mdJshBYCLD5jOcP4RCSJEmSpHajOsldi3vb3t9XVSub9yuAzYEdgJ2S7NW0PzbAPA8DW7ZtbwmsBKiqy9varwUOZWhJ7pq5V/Sdu6+qWgwsBpi2y0ueUy2WJEmSJK2bsXBPbid+BtxQVSc2P4cO0O/7wLy27VcBS5NsnGSPtva5wJ1DjOHWZr41XgbcMcQ5JEmSJElDMBYqud9O8gXg8kF7PuNy4LzmIVK/BZZW1aV9O1XVXUl+nOSLwGrg/qq6KclWwOHNg6J+S+ve3qOGGPeaGF5J637hy6vq0UHGSJIkSZLWQ/p5llJPSvJmWg+aanduVf1qCHMcC0xta3qsqk7vRnxrTNvlJfWaM/+pm1NKktSvy9+800iHIEnScyRZWlVzOx0/Fiq5XVFVSxjaPbX9zXFWl8KRJEmSJA2DcZPkjhVzpkzwN+uSJEmS1KFeffCUJEmSJGkcMsmVJEmSJPUMk1xJkiRJUs/wntxR5v4Vqzn76l+OdBiSpA3omDdtO9IhSJLUM6zkSpIkSZJ6hkmuJEmSJKlnmORKkiRJknrGqL8nN8mBVXV5kpcBO1fVFV2efwHwBuAR4O6q+kjT/kFgb+BJ4BdVdfIA4zcGTgd2BJ4GrqqqKwdq72bskiRJkqRnGwuV3AMBqmrpMCS4GwObVtWbq+rdwNQks5PMBvasqoOr6j3AqiSvGGCa7YFvVdXbq+odwLsHaZckSZIkDZNRXcltqqwvSbIIeAhYWVWLkvwQuBmYCPwEmAVsBUyglUxuClwIPA5MAc6pqqV956+q3wKLm2MF2A54ANgX+Je2rt+iVdX9dj9z3A3c3cwxDXhsbe0DnOdCYCHA1Jnbrf1DkSRJkiQNaFQnuVV1SZL5VXVUknnAXs2u1VV1OECSfwf+rKpWNsnwrsA+wDeaZc4TgS8ABwxyuA8D/1BVjyWZBKxo2/cYMHltg5NsAlwAnLIu7X3OczFNsv2CXfasQeKUJEmSJA1gVCe5a3Fv2/v7qmpl834FsDmwA7BTkr2a9gGrqABJDgMeqaqrmqaHgS3bumwJrHzOwGfGh1Yie15V/ddg7ZIkSZKk4TFWk9zB/Az4aVVdPljHJG8Adquq49uavw+cDHyx2X4VrSXLAzkDuK6qbl7HdkmSJEnSMBgLSe63k3wBGDRhbXM5cF7zsKjfAkur6tK+nZLMAC4Brk5yUdN8RVXdmOTHSb4IrAbur6qb+jtQkv2BtwPTm/cAHwd276+9uVdXkiRJkjQMUjU+bgFN8mbgpX2az62qXw1hjmOBqW1Nj1XV6d2Ib40X7LJnHf2ZG7o5pSRplDvmTduOdAiSJI0aSZZW1dxOx4+FSm5XVNUSYMl6znFWl8KRJEmSJA2DcZPkjhXbTNnE3+hLkiRJUoc2GukAJEmSJEnqFpNcSZIkSVLPcLnyKPPQQ09x1VW/HukwJEnr6C1vmTHSIUiSpDZWciVJkiRJPcMkV5IkSZLUM0xyJUmSJEk9wyRXkiRJktQzxnSSm+ToJJcm2a+Lc85OsmiIY3ZJ8pUkX0jy5SSzmvbdm/aLknwpyXbdilOSJEmS9Fxj/enKf1JVbxrpIICXAn9ZVcuTvAz4S+BjwGnAe6pqRZIdgQ8D7x+5MCVJkiSpt43ZJDfJAmCPpup6Na3k8dfABOADwD7AScCdwEzgWmAuMBVYWlVnJXk5cDiwCpgBvK+fY8wDngDurKoz+4ulqq5o29wduKNt34rm9e4kMwc4l4XAQoAZM7Zfp/OXJEmSJD3XmE1yq+qSJPOr6qgkS4CDqurxJG8D3g7cA9xWVcclmQLcWFV7AyS5DjgLuLWqDmnaFgCvBW5pticA86tqfrN9fpIdqmrZQDEl2QN4NfDupqnvcvCNBziXxcBigJ133quG9klIkiRJktYYs0luH88HPpoEYAtgadN+L7SqqUl+3tb/ieZ1jyTvBJ4EdgO+2tZnG2D7JGc025NoVYH7TXKb5cgfBd5VVWsS1af7dOu7LUmSJEnqol5Jcu8FTquqVWsaksxbh3GnAAdU1eok7+LZldZfAvdU1YmDTZJkOnAerftvV7XtqiSTq2plkjm0llNLkiRJkoZJryS5nwIuSvIgsAnwmXUcdyVwcZJlwBzghjU7qurJJEuSXAI8DAQ4uqqe6meezwGbAWc01eT7quqjwKnN/A8BWwHHdXJykiRJkqR1k2dW1mowSXYC3tun+TtVdX23jrHzznvVmWf+c7emkyQNs7e8ZcZIhyBJUk9JsrSq5nY6vlcquRtEVd1Fa4mzJEmSJGkUMskdZaZOfZ5VAUmSJEnqUN+vuJEkSZIkacwyyZUkSZIk9QyXK48yjyx/im998YGRDkOSRsS8g2eOdAiSJGmMs5IrSZIkSeoZJrmSJEmSpJ5hkitJkiRJ6hmjPslNcmDz+rIkBwzD/M9LckyS/x5g/5uTnDjIHNOSnJfkqj7tH0/yuSSfT/IX3YxbkiRJkvRcoz7JBQ4EqKqlVXXFMMx/LHAn8KO+O5LMBN4DfGagwUkCfAr4O2Djtva9AKrq/VV1KPCXXY1akiRJkvQco/rpykkWAC9Jsgh4CFhZVYuS/BC4GZgI/ASYBWwFTADeDWwKXAg8DkwBzqmqpf0do6o+3Rzr0H52nwMcD8wF/m2A8QW8v5mjfddy4AVN+yTgqXU6aUmSJElSx0Z1kltVlySZX1VHJZkH7NXsWl1VhwMk+Xfgz6pqZZMM7wrsA3yjqi5PMhH4AjCkpc5J3gH8sKpuT3INMH+IsS9L8vMkXwF2Ao5by7EWAgsBtpm+/VAOI0mSJElqM6qT3LW4t+39fVW1snm/Atgc2AHYac2SYeCxoUyeZFvgncAbOw0wyduAu6vqr5M8D7g6yS1V9Zu+fatqMbAY4IVz9qpOjylJkiRJ491YTXIH8zPgp1V1eYfj9wN+A1zYLEHeM8knq+rkIcwxC7gLoKqeSvIbWsuon5PkSpIkSZK6Yywkud9O8gVgKAnr5cB5SV4B/BZYWlWXruvgqroYuHjNdpJrhpjgAnyeVpI8H9gM+JeqeniIc0iSJEmShiCt5yb1viRvBl7ap/ncqvrVEOY4Fpja1vRYVZ3ejfjWeOGcvervTvtGN6eUpDFj3sEzRzoESZI0wpIsraq5nY4fC5XcrqiqJcCS9ZzjrC6FI0mSJEkaBuMmyR0rtpr2PCsZkiRJktShjUY6AEmSJEmSusUkV5IkSZLUM0xyJUmSJEk9w3tyR5nHH3iK2xav8wOfJWlMeMnCrUc6BEmSNE5YyZUkSZIk9QyTXEmSJElSzzDJlSRJkiT1jFGf5CY5sHl9WZIDhmH+BUmWJLk0yWmDtfczfuMkZyb5xyRfTvLWfvosSvLH3Y5dkiRJkvRsoz7JBQ4EqKqlVXVFNydOsjGwaVW9uareDUxNMnug9gGm2R74VlW9vareAby7zzHmAaur6jvdjF2SJEmS9Fyj+unKSRYAL0myCHgIWFlVi5L8ELgZmAj8BJgFbAVMoJVkbgpcCDwOTAHOqaqlfeevqt8Ci5tjBdgOeGCg9v5irKq7gbubvtOAx9ri3xI4ATgoyUuq6rbOPw1JkiRJ0mBGdZJbVZckmV9VRzUV0b2aXaur6nCAJP8O/FlVrWyS4V2BfYBvVNXlSSYCXwAGW+r8YeAfquqxdWx/liSbABcAp7Q1nwmcCkwC3gscNcDYhcBCgFnTth8kTEmSJEnSQEZ1krsW97a9v6+qVjbvVwCbAzsAOyXZq2kfLEE9DHikqq5al/Z+xodWgnteVf1X07YvrcrzLWtZ6gxAVS2mqRy/eMe9am19JUmSJEkDG6tJ7mB+Bvy0qi4frGOSNwC7VdXx69I+gDOA66rq5ra2NwCbJfkcraXUL0ny7qq6dF1PQpIkSZI0NGMhyf12ki8AgyasbS4HzkvyCuC3wNL+ksskM4BLgKuTXNQ0XwH8R3/tVXVjP3PsD7wdmN68B/h4VR3R1mc2cJQJriRJkiQNr1SNj9WxSd4MvLRP87lV9ashzHEsMLWt6bGqOr0b8a3x4h33qstPfk4uLUlj2ksWbj3SIUiSpDEiydKqmtvp+LFQye2KqloCLFnPOc7qUjiSJEmSpGEwbpLcsWKzmc+z4iFJkiRJHdpopAOQJEmSJKlbTHIlSZIkST3DJFeSJEmS1DO8J3eUWf3L1fzizF+MdBiSxrlZH5o10iFIkiR1xEquJEmSJKlnmORKkiRJknrGsCW5SeYlOWqY5j5wOOYdDkk+lmSv4fw8JEmSJEktY7WSO2aSXEmSJEnShtO1B08l2RY4B3gA2AS4DfjzJC8EJgP/VlWfTbIT8AngIWAa8PGquj3Jt4B/BVYD2wHHVNUj/RznGOAlSRYBnwdOrar5zb55wB7NvNsAPweeD3ylqr6Z5HXAQcBKYFVVHT/AuRwAvA54BHi8qk5IcgmwApgAbAHcArwY2BE4oap+nOSvgdnAROD/VtWnhvo5SpIkSZI6182nK78c+NeqOh9+l3C+sKqObLavBz4LfBj4UFXdl2QacAHwDlrJ48eqanWSVwELgbP6HqSqzk7yJ1V1VDPvD5LsVVU/AN4OnAL8T+Daqvpqko2Aa4BvNu37V1UlOT7JK6rq2/2cywHAYVX1UJ/2i6rqP9csO66qI5LsRStx/mvgM1W1uu181ynJTbKwOV+2m7LdugyRJEmSJPWjm0nuPwHvT/Jp4Cng+8Bdbft/07xOq6r7AKpqeZLNmvb71ySIzbi/WMfjfh44KslPgU2q6sEkAPc0x3g6STV9dwZOb/ZPp1Vt7s+xwDFJJgB3VNXfN+33Nq8rmp817zdv3i9M8oLm/Zx1jJ+qWgwsBthz+z1rkO6SJEmSpAF0M8mtqroAIMkfAmcDV/XTb3mS7ZpK7lSeSX6nJ3leVT0FvIhnEsrBDnp3s1T6QOArbbu2bWLZhFaVGOAO4KSqGiyRvKeqPtyMvyDJzoPFkWRrYG5VHdps/+G6xC9JkiRJ6p5uJrkvTXI48AStKumVQPrp90ngM0mWN/0+3rQX8DdJNqZ1D+8RaznWnUn+ntby4X+jVUU+EfiDtj4HJNmXVrJ7RtN2HnBZc+wJtO6lXdHP/Ecl2ZXWg7kC3L3WM295ACDJZ4HHgJnrMEaSJEmS1EUZvKi5YSS5Zs0DpNrajgWmtjU9VlWn9zN2T+AtVfWRZvtjwDXNfbprO+YU4Lg+zf9ZVZcPNf5u2XP7Pev6D14/UoeXJABmfWjWSIcgSZLGqSRLq2pup+O7Wcntuqp6zoOnBvAO4O86mH8FrQdVSZIkSZJ6wKhJcvtWcYfowqpa1jbXx9Y7IEmSJEnSmDNqktz10Z7gjnWbbLuJywQlSZIkqUMbjXQAkiRJkiR1i0muJEmSJKln9MRy5V6y+v7H+eXZ/znSYUgaR7Y9ZveRDkGSJKlrrORKkiRJknqGSa4kSZIkqWeY5EqSJEmSeoZJriRJkiSpZ4z6JDfJgc3ry5IcMAzzPy/JMUn+u0/7B5N8McnFST45yBzTkpyX5KoB9i9K8sfdjFuSJEmS9FyjPskFDgSoqqVVdcUwzH8scCfwozUNSWYDe1bVwVX1HmBVklf0NzhJgE8Bfwds3M/+ecDqqvpO1yOXJEmSJD3LqP4KoSQLgJckWQQ8BKysqkVJfgjcDEwEfgLMArYCJgDvBjYFLgQeB6YA51TV0v6OUVWfbo51aFvzS4F/adv+FrA38O1+xhfw/maOvvFvCZwAHJTkJVV12wDnuRBYCLDd1Fn9dZEkSZIkrYNRXcmtqkuA26rqKOD/tO1aXVWHV9WhwAHAqVV1GLAc2BV4B/CNqvoA8D5aieZQTAIebdt+DJjcwSmcCZzazPfegTpV1eKqmltVc6dvMbWDw0iSJEmSYJRXctfi3rb391XVyub9CmBzYAdgpyR7Ne2PDXH+h4Et27a3BFYO0LdfSfalVXm+pVn+LEmSJEkaZmM1yR3Mz4CfVtXlHY7/PnAy8MVm+1W0liwPxRuAzZJ8jtZS6pckeXdVXdphTJIkSZKkQYyFJPfbSb4ADCVhvRw4r3lY1G+BpUNJLqvqriQ/TvJFYDVwf1XdNJSgq+qINe+bSu5RJriSJEmSNLzSem5S70vyZloPlGp3blX9aghzHAu03zT7WFWd3o341tjzBS+uG47+x25OKUlrte0xu490CJIkSb+TZGlVze10/Fio5HZFVS0BlqznHGd1KRxJkiRJ0jAYN0nuWLHJNptZVZEkSZKkDo3qrxCSJEmSJGkoTHIlSZIkST3D5cqjzOpfPcr9535npMOQNAZt88E/HukQJEmSRpyVXEmSJElSzzDJlSRJkiT1DJNcSZIkSVLPGPX35CY5sKouT/IyYOequqLL8z8P+CDwgaqa09b+DuDPgKeAn1XV6QOM3xg4HdgReBq4qqquTLIJcC6wKbAFcGVVXdnN2CVJkiRJzzbqk1zgQODyqloKLB2G+Y8F/i/woz7tB1XV6wGSnJ9kdlX9rJ/x2wPfqqprm75fBa4E3gHcUlWXNu1XJrmuqh4bhnOQJEmSJDHKk9wkC4CXJFkEPASsrKpFSX4I3AxMBH4CzAK2AiYA76ZVPb0QeByYApzTJMnPUVWfbo51aJ9dGyXZDPgNsA3w8ADj7wbubuaYBqxJYucCZ7Z1/T6wW/MqSZIkSRoGozrJrapLksyvqqOSzAP2anatrqrDAZL8O/BnVbWySYZ3BfYBvtEsc54IfAE4YIiHPxf4Z2AFcHNVLV9b52Z58gXAKU3TJODRti6PAZMHGLsQWAiw/dRthhimJEmSJGmNUZ3krsW9be/vq6qVzfsVwObADsBOSfZq2oe0RDjJ9sDbgT+uqkry6SR/VFX/NkD/0Epwz6uq/2qaHwa2bGKieb/yuaOhqhYDiwH23OH3aiixSpIkSZKeMVaT3MH8DPhpVV3e4fhpwPKqWpNw3gvMXEv/M4DrqurmtrZbgVfRqiIDvAxY1GE8kiRJkqR1MBaS3G8n+QIwlIT1cuC8JK8AfgssXfMAqHVRVT9Ksqo57m9pVYIv7K9vkv1pVX2nN+8BPt4Wwytp3S98eVU92t8ckiRJkqTuyDPFyt6W5M3AS/s0n1tVvxrCHMcCU9uaHhvoq4U6tecOv1c3HndRN6eUNE5s88E/HukQJEmS1luSpVU1t9PxY6GS2xVVtQRYsp5znNWlcCRJkiRJw2DcJLljxSZbb2k1RpIkSZI6tNFIByBJkiRJUreY5EqSJEmSeoZJriRJkiSpZ3hP7ijz1K9W8qvzvz7SYUgaYVt/YP/BO0mSJOk5rORKkiRJknqGSa4kSZIkqWeY5EqSJEmSesaovyc3yYFVdXmSlwE7V9UVXZ7/g8DewJPAL6rq5LW19zN+E+BcYFNgC+DKqrqy2fc94EdN119V1V93M3ZJkiRJ0rON+iQXOBC4vKqWAku7OXGS2cCeVXVws31yklcA9/TXXlXf7meadwC3VNWlTd8rk1xXVY8BP6uq93UzZkmSJEnSwEZ1kptkAfCSJIuAh4CVVbUoyQ+Bm4GJwE+AWcBWwATg3bSqqhcCjwNTgHOaJLmvlwL/0rb9LVrV25kDtPeX5M4Fzmzb/j6wW5I7gF2TfLaJ7X9X1f8e4DwXAgsBtp86s78ukiRJkqR1MKqT3Kq6JMn8qjoqyTxgr2bX6qo6HCDJvwN/VlUrm2R4V2Af4BvNMueJwBeAA/o5xCRgRdv2Y8DktbT3ZxLwaD99nwY+A3wZCPAPSb5XVb/o5zwXA4sB9tph1xrgOJIkSZKkQYzqJHct7m17f19VrWzerwA2B3YAdkqyV9P+2ADzPAxs2ba9JbByLe1rm2NFe9+qWgV8qWmrJN8C9gSek+RKkiRJkrqjV5+u/DPghqo6sfk5dIB+3wfmtW2/itZ9vwO19+fWZv8aLwPuSDIryTZt7S8F/ntdT0CSJEmSNHRjoZL77SRfAC4fwpjLgfOah0j9Fli65sFQ7arqriQ/TvJFYDVwf1XdBDBQ+1qO9Upa995eXlWPJnk+8LEkTwKbAP9WVT8dwjlIkiRJkoYoVePjFtAkb6ZVTW13blX9aghzHAtMbWt6rKpO70Z8a+y1w65144cWdXNKSWPQ1h/Yf6RDkCRJGhFJllbV3E7Hj4VKbldU1RJgyXrOcVaXwpEkSZIkDYNxk+SOFc/berIVHEmSJEnqUK8+eEqSJEmSNA6Nm3tyx4okjwD/30jHoWExA/j1SAehYeP17V1e297lte1tXt/e5bXtbTOALapqZqcTuFx59Pn/1ucma41eSW712vYur2/v8tr2Lq9tb/P69i6vbW9rru/s9ZnD5cqSJEmSpJ5hkitJkiRJ6hkmuaPP4pEOQMPGa9vbvL69y2vbu7y2vc3r27u8tr1tva+vD56SJEmSJPUMK7mSJEmSpJ5hkitJkiRJ6hl+hdAGlORTwCxgY+Dfq+q8tn27Ax8FVgKbA8dX1X0DtW/w4DWoTq5vs+/lwGeBT1XVNRs6bg2uwz+7uwCnA48DmwDHVNUvNnjwWqsOr+2LgVOBx4CJwAer6v4NHrwG1enfy83+ycCXgflV9eQGDVyD6vDP7uuAY4C7m65XV9XXN2zkWhcdXt9NgU83bZvRur5Xb/DgtVYdXttTge3apnldVbVvP1dV+bMBfoA/AT7atv05YHbb9hJgSvN+R+Bza2v3Z3T9rMf1nQt8CjiC1n+kRvxc/OnatT0AmNa8fxnwsZE+F3+6dm33ALZq3u/dPoc/o+en0+vbtn8x8NKRPg9/undtgYP8t3b0/6zH9T0K+MORjt+f7l/bPnPsBZw12LFcrrzhzAX+37btbwN/0N6hqlY0r3cDMwdr16jS0fWtqlur6q9pVYQ0OnV6ba+oquVNl92BO4Y9Ug1Vp9f2R1X1SNNlV+DeYY9Unej4390krwd+DqxqKroaXTq9tlOBtyW5MMnnkqy9EqSR0un1fRHwp0nOTfKZJNM2QKwamo7/Xm5zNHDuYAdyufKGMwl4tG37MWBK23bfXzhsPEi7RpdOr69Gv/W6tkn2AF4NvHs4gtN66fjaJvl94Ejg94C3DFN8Wj8dXd/mP8Z/BbwROBm4BvjBMMWoznT6Z/dm4LtVtTTJC4DPAO8criDVsU6v78uB/1VV32v+jv4s8K7hClIdWd//U+0AbNQkwGtlkrvhPAxs2ba9Ja315ms83af/04O0a3Tp9Ppq9Ov42ibZkda9Je+qZo2NRpWOr21V/QT4yyQzaS23eutwBamOdXp9zwZOqqrVSYYxPK2Hjq5tVf3HmoaquifJ5sMWodZHp392/6uqvgetv6OTTBq+ENWh9f3/8tG0fnkxKJcrbzi3Aq9q234lz/7NcK1ZEpVkDvDrQdo1unR6fTX6dXRtk0wHzgP+sqpWbZhQNUSdXttt2/o8Cmw6vGGqQ0O+vs0vLXYEDk/yOeD1wMlJdtswIWsddfpnd88kGzXvJwH+FmN06vT/VPevWYLeXF8fGDf6dPz/5SRTgF2q6tZ1OVAsLmw4ST4NbE3rSau3VtWitn170Kr4PARsBRzX/Jax3/YNHbsG18n1bdu/AFhRPl15VOrwz+5XaC3BWbOk5r6q+uiGjFuD6/DaHgr8OfAEraVXn6mqWzZ07Brc+vy93PT5GHBNVf1gA4WsddThn91DgL+g9cupLYCPV9VtGzp2Da7D6zuL1sM8n6L17+/HqurHGzh0DaLTv5eTnAT8Z1V9dZ2OY5I7cpL8OXB0Ve030rGo+7y+vctr27u8tr3N69u7vLa9zevbu4br2prkSpIkSZJ6hvfkSpIkSZJ6hkmuJEmSJKlnmORKkiRJknqGSa4kSZIkqWeY5EqSJEmSeoZJriRJkiSpZ/z/Y/g07vtgG+IAAAAASUVORK5CYII=\n",
      "text/plain": [
       "<Figure size 1080x576 with 1 Axes>"
      ]
     },
     "metadata": {
      "needs_background": "light"
     },
     "output_type": "display_data"
    }
   ],
   "source": [
    "feature_series = pd.Series(data=model_xgb.feature_importances_, index=train_X.columns)\n",
    "feature_series = feature_series.sort_values(ascending=False) \n",
    "sns.barplot(x = feature_series, y=feature_series.index)"
   ]
  },
  {
   "cell_type": "code",
   "execution_count": 122,
   "id": "2b062d60",
   "metadata": {},
   "outputs": [
    {
     "data": {
      "text/plain": [
       "<AxesSubplot:>"
      ]
     },
     "execution_count": 122,
     "metadata": {},
     "output_type": "execute_result"
    },
    {
     "data": {
      "image/png": "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\n",
      "text/plain": [
       "<Figure size 1080x576 with 1 Axes>"
      ]
     },
     "metadata": {
      "needs_background": "light"
     },
     "output_type": "display_data"
    }
   ],
   "source": [
    "feature_series = pd.Series(data=model_lgbm.feature_importances_, index=train_X.columns)\n",
    "feature_series = feature_series.sort_values(ascending=False) \n",
    "sns.barplot(x = feature_series, y=feature_series.index)"
   ]
  },
  {
   "cell_type": "code",
   "execution_count": null,
   "id": "bd3cac1a",
   "metadata": {},
   "outputs": [],
   "source": []
  }
 ],
 "metadata": {
  "kernelspec": {
   "display_name": "Python 3",
   "language": "python",
   "name": "python3"
  },
  "language_info": {
   "codemirror_mode": {
    "name": "ipython",
    "version": 3
   },
   "file_extension": ".py",
   "mimetype": "text/x-python",
   "name": "python",
   "nbconvert_exporter": "python",
   "pygments_lexer": "ipython3",
   "version": "3.8.12"
  }
 },
 "nbformat": 4,
 "nbformat_minor": 5
}
