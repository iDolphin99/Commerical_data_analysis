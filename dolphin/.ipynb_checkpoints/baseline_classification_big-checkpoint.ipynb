{
 "cells": [
  {
   "cell_type": "markdown",
   "id": "e40dea94",
   "metadata": {},
   "source": [
    "# 1. Data Load\n"
   ]
  },
  {
   "cell_type": "code",
   "execution_count": 1,
   "id": "cabb55fa",
   "metadata": {},
   "outputs": [],
   "source": [
    "import numpy as np\n",
    "import pandas as pd\n",
    "import math\n",
    "\n",
    "from scipy import stats #Analysis \n",
    "from scipy.stats import norm \n",
    "import seaborn as sns\n",
    "import matplotlib.pyplot as plt\n",
    "from matplotlib import rcParams\n",
    "%matplotlib inline"
   ]
  },
  {
   "cell_type": "code",
   "execution_count": 2,
   "id": "9ef4a9e7",
   "metadata": {},
   "outputs": [],
   "source": [
    "# 한글 폰트가 깨지면 실행하세요! \n",
    "import matplotlib.font_manager as fm\n",
    "fontlist = fm.findSystemFonts(fontpaths = None, fontext='ttf')\n",
    "# 아래 주석을 지워서 폰트 리스트를 확인하고 한글 폰트를 font_path에 추가합니다\n",
    "fontlist[:]\n",
    "\n",
    "from matplotlib import font_manager, rc\n",
    "#font_path = 'C:\\\\Users\\\\mtang\\\\AppData\\\\Local\\\\Microsoft\\\\Windows\\\\Fonts\\\\NanumSquare.ttf'\n",
    "font_path = 'C:\\\\WINDOWS\\\\Fonts\\\\NanumGothicLight.ttf'\n",
    "font = font_manager.FontProperties(fname=font_path).get_name()\n",
    "rc('font', family=font)"
   ]
  },
  {
   "cell_type": "code",
   "execution_count": 3,
   "id": "175a42b3",
   "metadata": {},
   "outputs": [
    {
     "data": {
      "text/html": [
       "<div>\n",
       "<style scoped>\n",
       "    .dataframe tbody tr th:only-of-type {\n",
       "        vertical-align: middle;\n",
       "    }\n",
       "\n",
       "    .dataframe tbody tr th {\n",
       "        vertical-align: top;\n",
       "    }\n",
       "\n",
       "    .dataframe thead th {\n",
       "        text-align: right;\n",
       "    }\n",
       "</style>\n",
       "<table border=\"1\" class=\"dataframe\">\n",
       "  <thead>\n",
       "    <tr style=\"text-align: right;\">\n",
       "      <th></th>\n",
       "      <th>date</th>\n",
       "      <th>shop_code</th>\n",
       "      <th>shop_name</th>\n",
       "      <th>shop_type_big</th>\n",
       "      <th>shop_type_small</th>\n",
       "      <th>longitude</th>\n",
       "      <th>latitude</th>\n",
       "      <th>monthly_gain</th>\n",
       "      <th>average_sale_price</th>\n",
       "    </tr>\n",
       "  </thead>\n",
       "  <tbody>\n",
       "    <tr>\n",
       "      <th>0</th>\n",
       "      <td>201709</td>\n",
       "      <td>24432350113</td>\n",
       "      <td>친쿡부대찌개 오류동본점</td>\n",
       "      <td>뷔페</td>\n",
       "      <td>고기 뷔페</td>\n",
       "      <td>126.844998</td>\n",
       "      <td>37.496882</td>\n",
       "      <td>12881013.37</td>\n",
       "      <td>21514</td>\n",
       "    </tr>\n",
       "    <tr>\n",
       "      <th>1</th>\n",
       "      <td>201709</td>\n",
       "      <td>13141330215</td>\n",
       "      <td>드럼통집</td>\n",
       "      <td>뷔페</td>\n",
       "      <td>고기 뷔페</td>\n",
       "      <td>127.096574</td>\n",
       "      <td>37.505706</td>\n",
       "      <td>33931612.72</td>\n",
       "      <td>52264</td>\n",
       "    </tr>\n",
       "    <tr>\n",
       "      <th>2</th>\n",
       "      <td>201706</td>\n",
       "      <td>39421720107</td>\n",
       "      <td>하우돈</td>\n",
       "      <td>뷔페</td>\n",
       "      <td>고기 뷔페</td>\n",
       "      <td>126.906290</td>\n",
       "      <td>37.518280</td>\n",
       "      <td>21456513.16</td>\n",
       "      <td>42656</td>\n",
       "    </tr>\n",
       "    <tr>\n",
       "      <th>3</th>\n",
       "      <td>201706</td>\n",
       "      <td>4602500509</td>\n",
       "      <td>고고생고기</td>\n",
       "      <td>뷔페</td>\n",
       "      <td>고기 뷔페</td>\n",
       "      <td>127.109240</td>\n",
       "      <td>37.501153</td>\n",
       "      <td>6140707.30</td>\n",
       "      <td>34561</td>\n",
       "    </tr>\n",
       "    <tr>\n",
       "      <th>4</th>\n",
       "      <td>201709</td>\n",
       "      <td>39313780106</td>\n",
       "      <td>현대식당</td>\n",
       "      <td>뷔페</td>\n",
       "      <td>고기 뷔페</td>\n",
       "      <td>126.980601</td>\n",
       "      <td>37.518535</td>\n",
       "      <td>6091482.50</td>\n",
       "      <td>38423</td>\n",
       "    </tr>\n",
       "    <tr>\n",
       "      <th>...</th>\n",
       "      <td>...</td>\n",
       "      <td>...</td>\n",
       "      <td>...</td>\n",
       "      <td>...</td>\n",
       "      <td>...</td>\n",
       "      <td>...</td>\n",
       "      <td>...</td>\n",
       "      <td>...</td>\n",
       "      <td>...</td>\n",
       "    </tr>\n",
       "    <tr>\n",
       "      <th>2927734</th>\n",
       "      <td>201803</td>\n",
       "      <td>66340980106</td>\n",
       "      <td>최가네 남원추어탕</td>\n",
       "      <td>수산물</td>\n",
       "      <td>회/수산물 일반</td>\n",
       "      <td>126.963825</td>\n",
       "      <td>37.526863</td>\n",
       "      <td>13693767.90</td>\n",
       "      <td>21511</td>\n",
       "    </tr>\n",
       "    <tr>\n",
       "      <th>2927735</th>\n",
       "      <td>201803</td>\n",
       "      <td>7211800169</td>\n",
       "      <td>우미도라꾸</td>\n",
       "      <td>수산물</td>\n",
       "      <td>회/수산물 일반</td>\n",
       "      <td>127.070132</td>\n",
       "      <td>37.536551</td>\n",
       "      <td>17432801.29</td>\n",
       "      <td>74559</td>\n",
       "    </tr>\n",
       "    <tr>\n",
       "      <th>2927736</th>\n",
       "      <td>201804</td>\n",
       "      <td>7408500552</td>\n",
       "      <td>연안해물칼국수 행당점</td>\n",
       "      <td>수산물</td>\n",
       "      <td>회/수산물 일반</td>\n",
       "      <td>127.033712</td>\n",
       "      <td>37.559118</td>\n",
       "      <td>17023101.74</td>\n",
       "      <td>34212</td>\n",
       "    </tr>\n",
       "    <tr>\n",
       "      <th>2927737</th>\n",
       "      <td>201803</td>\n",
       "      <td>36412610212</td>\n",
       "      <td>동해수산</td>\n",
       "      <td>수산물</td>\n",
       "      <td>회/수산물 일반</td>\n",
       "      <td>127.127448</td>\n",
       "      <td>37.537151</td>\n",
       "      <td>31533908.77</td>\n",
       "      <td>52973</td>\n",
       "    </tr>\n",
       "    <tr>\n",
       "      <th>2927738</th>\n",
       "      <td>201804</td>\n",
       "      <td>2382100470</td>\n",
       "      <td>어사출또 신대방점</td>\n",
       "      <td>수산물</td>\n",
       "      <td>회/수산물 일반</td>\n",
       "      <td>126.913803</td>\n",
       "      <td>37.486650</td>\n",
       "      <td>33992793.02</td>\n",
       "      <td>35688</td>\n",
       "    </tr>\n",
       "  </tbody>\n",
       "</table>\n",
       "<p>2927739 rows × 9 columns</p>\n",
       "</div>"
      ],
      "text/plain": [
       "           date    shop_code     shop_name shop_type_big shop_type_small  \\\n",
       "0        201709  24432350113  친쿡부대찌개 오류동본점            뷔페           고기 뷔페   \n",
       "1        201709  13141330215          드럼통집            뷔페           고기 뷔페   \n",
       "2        201706  39421720107           하우돈            뷔페           고기 뷔페   \n",
       "3        201706   4602500509         고고생고기            뷔페           고기 뷔페   \n",
       "4        201709  39313780106          현대식당            뷔페           고기 뷔페   \n",
       "...         ...          ...           ...           ...             ...   \n",
       "2927734  201803  66340980106     최가네 남원추어탕           수산물        회/수산물 일반   \n",
       "2927735  201803   7211800169         우미도라꾸           수산물        회/수산물 일반   \n",
       "2927736  201804   7408500552   연안해물칼국수 행당점           수산물        회/수산물 일반   \n",
       "2927737  201803  36412610212          동해수산           수산물        회/수산물 일반   \n",
       "2927738  201804   2382100470     어사출또 신대방점           수산물        회/수산물 일반   \n",
       "\n",
       "          longitude   latitude  monthly_gain  average_sale_price  \n",
       "0        126.844998  37.496882   12881013.37               21514  \n",
       "1        127.096574  37.505706   33931612.72               52264  \n",
       "2        126.906290  37.518280   21456513.16               42656  \n",
       "3        127.109240  37.501153    6140707.30               34561  \n",
       "4        126.980601  37.518535    6091482.50               38423  \n",
       "...             ...        ...           ...                 ...  \n",
       "2927734  126.963825  37.526863   13693767.90               21511  \n",
       "2927735  127.070132  37.536551   17432801.29               74559  \n",
       "2927736  127.033712  37.559118   17023101.74               34212  \n",
       "2927737  127.127448  37.537151   31533908.77               52973  \n",
       "2927738  126.913803  37.486650   33992793.02               35688  \n",
       "\n",
       "[2927739 rows x 9 columns]"
      ]
     },
     "execution_count": 3,
     "metadata": {},
     "output_type": "execute_result"
    }
   ],
   "source": [
    "path = \"./Dataset/\"\n",
    "\n",
    "data = pd.read_csv(path+\"kwproja_data_big.csv\")\n",
    "\n",
    "# original data -> data\n",
    "data"
   ]
  },
  {
   "cell_type": "markdown",
   "id": "1eecf56c",
   "metadata": {},
   "source": [
    "# EDA \n",
    "\n",
    "2,927,739 rows X 9 columns\n",
    "\n",
    "- 매장 속성 정보\n",
    "  - shop_code -> 식별자 feature, input feature로는 사용하지 않지만 분류를 위해서는 사용할 수 있을 것 같음  \n",
    "  - shop_name -> input feature로는 사용하지 않음 (NLP deep learning 가능성 있음)\n",
    "  - longtitude : 경도, latitude : 위도 -> 매장 위치 (회사 근처, 학교 근처 등 매출 영향성 있음) -> 군집화, labeling 필요\n",
    "  - shop_type_big -> 15 category  -> 업종 (매출 영향성 있음)\n",
    "  - shop_type_small -> 61 category\n",
    "\n",
    "- 매출 정보\n",
    "  - date -> 24 category, 201606~ 201805 까지의 data\n",
    "  - monthly_gain / avearge_sale_price = 한달 총 판매수\n",
    "\n",
    "- 매출 통계 정보-> X\n",
    "\n",
    "\n",
    "##### monthly_gain과 average_sale_price 중 어느 것을 y값으로 둘 것인가? \n",
    "- 월매출 예측 문제로 가정하고 montly_gain 을 y값으로 예측하는 모델 만들기\n",
    "\n",
    "##### shop_code는 input feature에 넣어야 하는가?\n",
    "- 특별한 브랜드가 y값을 결정하는 과적합 요소가 될 수 있으므로\n",
    "- X 에서 shop code, shop name 제외하는 것도 방법\n",
    "- 어느 위치에 어떤 업종으로 어떤 객단가인 매장을 오픈하면 월매출이 어떻게 될까? 문제\n",
    " - X: shop type big, shop type small, longitude, latitude, avg_sale_price, \n",
    " - y: montly_gain"
   ]
  },
  {
   "cell_type": "code",
   "execution_count": 4,
   "id": "8160023d",
   "metadata": {},
   "outputs": [
    {
     "data": {
      "text/plain": [
       "Index(['date', 'shop_code', 'shop_name', 'shop_type_big', 'shop_type_small',\n",
       "       'longitude', 'latitude', 'monthly_gain', 'average_sale_price'],\n",
       "      dtype='object')"
      ]
     },
     "execution_count": 4,
     "metadata": {},
     "output_type": "execute_result"
    }
   ],
   "source": [
    "data.columns"
   ]
  },
  {
   "cell_type": "code",
   "execution_count": 5,
   "id": "0e2e2b0d",
   "metadata": {},
   "outputs": [
    {
     "name": "stdout",
     "output_type": "stream",
     "text": [
      "<class 'pandas.core.frame.DataFrame'>\n",
      "RangeIndex: 2927739 entries, 0 to 2927738\n",
      "Data columns (total 9 columns):\n",
      " #   Column              Dtype  \n",
      "---  ------              -----  \n",
      " 0   date                int64  \n",
      " 1   shop_code           int64  \n",
      " 2   shop_name           object \n",
      " 3   shop_type_big       object \n",
      " 4   shop_type_small     object \n",
      " 5   longitude           float64\n",
      " 6   latitude            float64\n",
      " 7   monthly_gain        float64\n",
      " 8   average_sale_price  int64  \n",
      "dtypes: float64(3), int64(3), object(3)\n",
      "memory usage: 201.0+ MB\n"
     ]
    }
   ],
   "source": [
    "data.info()"
   ]
  },
  {
   "cell_type": "markdown",
   "id": "3f6c9722",
   "metadata": {},
   "source": [
    "# 3. Preprocessing\n",
    "- missing value 제거 \n",
    "    - monthly_gain : 3,605 제거 -> 149,790\n",
    "    - shop_type_big : 4,303 제거 -> 145,487 \n",
    "    - gender feature : 1,187 제거 -> 144,300\n",
    "- shop_code, shop_name : 식별자 feature 이므로 drop \n",
    "- date : 아직은 쓸 수 없으므로 drop\n",
    "    - 여기까지 총 144,300 X 27\n",
    "- shop_type_big(13), shop_type_small(367) : label encodding\n",
    "- longitude, latitude : clustering을 통해 labeling 후 해당 두 열은 drop \n",
    "- MinMaxSaclar 정규화 -> 정규화 column의 범위는??"
   ]
  },
  {
   "cell_type": "code",
   "execution_count": 6,
   "id": "746b4c66",
   "metadata": {},
   "outputs": [],
   "source": [
    "# 원본 data와 따로 관리 -> original data = data, input data = input_data \n",
    "# feature drop\n",
    "input_data = data.copy()\n",
    "input_data = input_data.drop(['date', 'shop_code', 'shop_name'], axis=1)"
   ]
  },
  {
   "cell_type": "code",
   "execution_count": 7,
   "id": "a9ad35fa",
   "metadata": {
    "scrolled": true
   },
   "outputs": [
    {
     "name": "stdout",
     "output_type": "stream",
     "text": [
      "monthly gain null :  0\n",
      "shop type big null :  61\n",
      "shop type small null :  False    2927739\n",
      "Name: shop_type_small, dtype: int64\n"
     ]
    }
   ],
   "source": [
    "# There are no missing values \n",
    "# missing value drop - monthly_gain\n",
    "null_index = input_data[input_data['monthly_gain']==0].index \n",
    "print(\"monthly gain null : \", len(null_index))\n",
    "input_data = input_data.drop(null_index)\n",
    "\n",
    "# missing value drop - shop_type_big\n",
    "null_index = input_data[input_data['shop_type_big'].isnull()==True].index\n",
    "input_data = input_data.drop(null_index)\n",
    "\n",
    "# missing value drop - shop_type_small \n",
    "print(\"shop type big null : \", len(input_data['shop_type_small'].unique()))\n",
    "print(\"shop type small null : \" , input_data['shop_type_small'].isnull().value_counts())"
   ]
  },
  {
   "cell_type": "code",
   "execution_count": 8,
   "id": "8bdb9104",
   "metadata": {},
   "outputs": [
    {
     "name": "stdout",
     "output_type": "stream",
     "text": [
      "['다방/커피숍/카페' '별식/퓨전요리' '분식' '뷔페' '생활서비스' '소매' '수산물' '양식' '유흥주점' '음식-미분류'\n",
      " '일식' '제과제빵떡케익' '중식' '패스트푸드' '한식']\n",
      "['고기 뷔페' '고기구이/육회 전문점' '곱창/양구이 전문점' '구내식당' '국수/수제비 전문점' '기타세계요리 전문점'\n",
      " '낙지/문어/오징어/쭈꾸미 전문점' '냉면 전문점' '덮밥/가정식' '도너츠/꽈배기/고로케/호떡 전문점'\n",
      " '도시락/컵밥/주먹밥/배달음식 전문점' '돈가스 전문점' '떡/한과 전문점' '마라/양꼬치/훠궈 전문점' '면 전문점'\n",
      " '미분류 유흥업소' '민속주점' '바닷가재/게요리 전문점' '반찬 판매' '백화점' '버거 전문점' '베트남음식 전문점'\n",
      " '보쌈/족발 전문점' '분식 전문점' '샌드위치/토스트/핫도그 전문점' '샤브샤브 전문점' '세탁소' '소주방/포장마차'\n",
      " '순대 전문점' '슈퍼/잡화/할인매장' '스테이크 전문점' '식료품' '아이스크림/빙수 판매' '오리/닭요리 전문점'\n",
      " '오리/닭요리/탕/백숙 전문점' '와인/칵테일/위스키 바' '음식-미분류' '이자까야/꼬치구이' '이태리 전문점'\n",
      " '인도음식 전문점' '일반 중식당' '장어 전문점' '전통찻집' '제과/제빵 전문점' '조개 전문점' '종합 뷔페'\n",
      " '죽요리 전문점' '참치 전문점' '초밥 전문점' '치킨/닭강정 전문점' '카레 전문점' '카페/디저트' '테이크아웃 음료 전문점'\n",
      " '편의점' '퓨전음식 전문점' '피자 전문점' '한식국물요리 전문점' '한정식/백반 전문점' '호프/맥주' '화로구이 전문점'\n",
      " '회/수산물 일반']\n"
     ]
    }
   ],
   "source": [
    "# LabelEncoder\n",
    "from sklearn.preprocessing import LabelEncoder\n",
    "\n",
    "le = LabelEncoder()\n",
    "input_data['shop_type_big'] = le.fit_transform(list(input_data['shop_type_big']))   # fit transform으로 한번에 처리 가능\n",
    "print(le.classes_)\n",
    "\n",
    "le = LabelEncoder()\n",
    "input_data['shop_type_small'] = le.fit_transform(list(input_data['shop_type_small'])) \n",
    "print(le.classes_)"
   ]
  },
  {
   "cell_type": "code",
   "execution_count": 9,
   "id": "35a8be3a",
   "metadata": {},
   "outputs": [
    {
     "name": "stdout",
     "output_type": "stream",
     "text": [
      "[[ 37.63891384 127.04533446]\n",
      " [ 37.49670584 126.95235885]\n",
      " [ 37.50147036 127.03461667]\n",
      " [ 37.57060655 127.06777469]\n",
      " [ 37.53973378 126.84576461]\n",
      " [ 37.57403989 126.92459022]\n",
      " [ 37.56619835 126.99456238]\n",
      " [ 37.49489376 126.89693578]\n",
      " [ 37.51702612 127.12119539]]\n",
      "[4 8 7 ... 3 8 7]\n"
     ]
    },
    {
     "name": "stderr",
     "output_type": "stream",
     "text": [
      "C:\\Users\\Hyeongbin\\anaconda3\\lib\\site-packages\\IPython\\core\\pylabtools.py:151: UserWarning: Creating legend with loc=\"best\" can be slow with large amounts of data.\n",
      "  fig.canvas.print_figure(bytes_io, **kw)\n"
     ]
    },
    {
     "data": {
      "image/png": "[encoded data removed]",
      "text/plain": [
       "<Figure size 432x288 with 1 Axes>"
      ]
     },
     "metadata": {
      "needs_background": "light"
     },
     "output_type": "display_data"
    }
   ],
   "source": [
    "# Labeling - KMeans Clustering \n",
    "# longitude + latitude = geo \n",
    "from sklearn.cluster import KMeans\n",
    "\n",
    "kmeans = KMeans(n_clusters=9).fit(input_data[['latitude', 'longitude']])\n",
    "print(kmeans.cluster_centers_)\n",
    "print(kmeans.labels_)\n",
    "\n",
    "# longitude + latitude = geo \n",
    "# So we get inpute_data = 2,927,739 rows × 5 columns\n",
    "input_data['geo'] = kmeans.labels_\n",
    "\n",
    "sns.scatterplot(x='longitude' , y='latitude', hue=\"geo\", data=input_data, palette=\"Paired\")\n",
    "plt.title('k-mean')\n",
    "\n",
    "input_data = input_data.drop(['longitude', 'latitude'], axis=1)"
   ]
  },
  {
   "cell_type": "code",
   "execution_count": 10,
   "id": "3538625e",
   "metadata": {},
   "outputs": [
    {
     "data": {
      "text/html": [
       "<div>\n",
       "<style scoped>\n",
       "    .dataframe tbody tr th:only-of-type {\n",
       "        vertical-align: middle;\n",
       "    }\n",
       "\n",
       "    .dataframe tbody tr th {\n",
       "        vertical-align: top;\n",
       "    }\n",
       "\n",
       "    .dataframe thead th {\n",
       "        text-align: right;\n",
       "    }\n",
       "</style>\n",
       "<table border=\"1\" class=\"dataframe\">\n",
       "  <thead>\n",
       "    <tr style=\"text-align: right;\">\n",
       "      <th></th>\n",
       "      <th>shop_type_big</th>\n",
       "      <th>shop_type_small</th>\n",
       "      <th>monthly_gain</th>\n",
       "      <th>average_sale_price</th>\n",
       "      <th>geo</th>\n",
       "    </tr>\n",
       "  </thead>\n",
       "  <tbody>\n",
       "    <tr>\n",
       "      <th>0</th>\n",
       "      <td>3</td>\n",
       "      <td>0</td>\n",
       "      <td>12881013.37</td>\n",
       "      <td>9.976506</td>\n",
       "      <td>4</td>\n",
       "    </tr>\n",
       "    <tr>\n",
       "      <th>1</th>\n",
       "      <td>3</td>\n",
       "      <td>0</td>\n",
       "      <td>33931612.72</td>\n",
       "      <td>10.864082</td>\n",
       "      <td>8</td>\n",
       "    </tr>\n",
       "    <tr>\n",
       "      <th>2</th>\n",
       "      <td>3</td>\n",
       "      <td>0</td>\n",
       "      <td>21456513.16</td>\n",
       "      <td>10.660947</td>\n",
       "      <td>7</td>\n",
       "    </tr>\n",
       "    <tr>\n",
       "      <th>3</th>\n",
       "      <td>3</td>\n",
       "      <td>0</td>\n",
       "      <td>6140707.30</td>\n",
       "      <td>10.450510</td>\n",
       "      <td>8</td>\n",
       "    </tr>\n",
       "    <tr>\n",
       "      <th>4</th>\n",
       "      <td>3</td>\n",
       "      <td>0</td>\n",
       "      <td>6091482.50</td>\n",
       "      <td>10.556438</td>\n",
       "      <td>1</td>\n",
       "    </tr>\n",
       "    <tr>\n",
       "      <th>...</th>\n",
       "      <td>...</td>\n",
       "      <td>...</td>\n",
       "      <td>...</td>\n",
       "      <td>...</td>\n",
       "      <td>...</td>\n",
       "    </tr>\n",
       "    <tr>\n",
       "      <th>2927734</th>\n",
       "      <td>6</td>\n",
       "      <td>60</td>\n",
       "      <td>13693767.90</td>\n",
       "      <td>9.976366</td>\n",
       "      <td>1</td>\n",
       "    </tr>\n",
       "    <tr>\n",
       "      <th>2927735</th>\n",
       "      <td>6</td>\n",
       "      <td>60</td>\n",
       "      <td>17432801.29</td>\n",
       "      <td>11.219359</td>\n",
       "      <td>3</td>\n",
       "    </tr>\n",
       "    <tr>\n",
       "      <th>2927736</th>\n",
       "      <td>6</td>\n",
       "      <td>60</td>\n",
       "      <td>17023101.74</td>\n",
       "      <td>10.440361</td>\n",
       "      <td>3</td>\n",
       "    </tr>\n",
       "    <tr>\n",
       "      <th>2927737</th>\n",
       "      <td>6</td>\n",
       "      <td>60</td>\n",
       "      <td>31533908.77</td>\n",
       "      <td>10.877557</td>\n",
       "      <td>8</td>\n",
       "    </tr>\n",
       "    <tr>\n",
       "      <th>2927738</th>\n",
       "      <td>6</td>\n",
       "      <td>60</td>\n",
       "      <td>33992793.02</td>\n",
       "      <td>10.482598</td>\n",
       "      <td>7</td>\n",
       "    </tr>\n",
       "  </tbody>\n",
       "</table>\n",
       "<p>2927739 rows × 5 columns</p>\n",
       "</div>"
      ],
      "text/plain": [
       "         shop_type_big  shop_type_small  monthly_gain  average_sale_price  geo\n",
       "0                    3                0   12881013.37            9.976506    4\n",
       "1                    3                0   33931612.72           10.864082    8\n",
       "2                    3                0   21456513.16           10.660947    7\n",
       "3                    3                0    6140707.30           10.450510    8\n",
       "4                    3                0    6091482.50           10.556438    1\n",
       "...                ...              ...           ...                 ...  ...\n",
       "2927734              6               60   13693767.90            9.976366    1\n",
       "2927735              6               60   17432801.29           11.219359    3\n",
       "2927736              6               60   17023101.74           10.440361    3\n",
       "2927737              6               60   31533908.77           10.877557    8\n",
       "2927738              6               60   33992793.02           10.482598    7\n",
       "\n",
       "[2927739 rows x 5 columns]"
      ]
     },
     "execution_count": 10,
     "metadata": {},
     "output_type": "execute_result"
    }
   ],
   "source": [
    "# average_sale_price -> skewed 된 feature \n",
    "# log정규화 \n",
    "from sklearn.preprocessing import MinMaxScaler, RobustScaler, StandardScaler, Normalizer\n",
    "\n",
    "scale_cols = ['average_sale_price']\n",
    "\n",
    "for c in scale_cols : \n",
    "    scaled_data = pd.DataFrame(np.log1p(input_data[c]))\n",
    "    input_data[c] = scaled_data\n",
    "\n",
    "input_data"
   ]
  },
  {
   "cell_type": "code",
   "execution_count": 11,
   "id": "24488b29",
   "metadata": {},
   "outputs": [
    {
     "data": {
      "text/plain": [
       "<AxesSubplot:xlabel='shop_type_big', ylabel='average_sale_price'>"
      ]
     },
     "execution_count": 11,
     "metadata": {},
     "output_type": "execute_result"
    },
    {
     "data": {
      "image/png": "[encoded data removed]",
      "text/plain": [
       "<Figure size 1080x576 with 1 Axes>"
      ]
     },
     "metadata": {
      "needs_background": "light"
     },
     "output_type": "display_data"
    }
   ],
   "source": [
    "# check the preprocessed 'average_sale_price' by shop_type_big\n",
    "rcParams['figure.figsize'] = 15,8\n",
    "sns.boxplot(x='shop_type_big', y='average_sale_price', data=input_data)"
   ]
  },
  {
   "cell_type": "code",
   "execution_count": 12,
   "id": "9ee31831",
   "metadata": {},
   "outputs": [
    {
     "data": {
      "text/plain": [
       "<AxesSubplot:title={'center':'monthly_gain'}, xlabel='[shop_type_big]'>"
      ]
     },
     "execution_count": 12,
     "metadata": {},
     "output_type": "execute_result"
    },
    {
     "data": {
      "image/png": "[encoded data removed]",
      "text/plain": [
       "<Figure size 1080x576 with 1 Axes>"
      ]
     },
     "metadata": {
      "needs_background": "light"
     },
     "output_type": "display_data"
    }
   ],
   "source": [
    "# check the 'monthly_gain'\n",
    "input_data.boxplot(column = ['monthly_gain'], by=['shop_type_big'])"
   ]
  },
  {
   "cell_type": "markdown",
   "id": "08ffaff6",
   "metadata": {},
   "source": [
    "# 4. Target Variable Labeling and EDA for variable y\n",
    "### 어떻게 라벨링 할 것인가?\n",
    "- 원래 가격대에 대한 정보(price_dict)는 계속 가져가야 함! "
   ]
  },
  {
   "cell_type": "code",
   "execution_count": 14,
   "id": "6d6947c7",
   "metadata": {},
   "outputs": [
    {
     "data": {
      "text/html": [
       "<div>\n",
       "<style scoped>\n",
       "    .dataframe tbody tr th:only-of-type {\n",
       "        vertical-align: middle;\n",
       "    }\n",
       "\n",
       "    .dataframe tbody tr th {\n",
       "        vertical-align: top;\n",
       "    }\n",
       "\n",
       "    .dataframe thead th {\n",
       "        text-align: right;\n",
       "    }\n",
       "</style>\n",
       "<table border=\"1\" class=\"dataframe\">\n",
       "  <thead>\n",
       "    <tr style=\"text-align: right;\">\n",
       "      <th></th>\n",
       "      <th>shop_type_big</th>\n",
       "      <th>shop_type_small</th>\n",
       "      <th>monthly_gain</th>\n",
       "      <th>average_sale_price</th>\n",
       "      <th>geo</th>\n",
       "    </tr>\n",
       "  </thead>\n",
       "  <tbody>\n",
       "    <tr>\n",
       "      <th>0</th>\n",
       "      <td>3</td>\n",
       "      <td>0</td>\n",
       "      <td>12881013.37</td>\n",
       "      <td>9.98</td>\n",
       "      <td>4</td>\n",
       "    </tr>\n",
       "    <tr>\n",
       "      <th>1</th>\n",
       "      <td>3</td>\n",
       "      <td>0</td>\n",
       "      <td>33931612.72</td>\n",
       "      <td>10.86</td>\n",
       "      <td>8</td>\n",
       "    </tr>\n",
       "    <tr>\n",
       "      <th>2</th>\n",
       "      <td>3</td>\n",
       "      <td>0</td>\n",
       "      <td>21456513.16</td>\n",
       "      <td>10.66</td>\n",
       "      <td>7</td>\n",
       "    </tr>\n",
       "    <tr>\n",
       "      <th>3</th>\n",
       "      <td>3</td>\n",
       "      <td>0</td>\n",
       "      <td>6140707.30</td>\n",
       "      <td>10.45</td>\n",
       "      <td>8</td>\n",
       "    </tr>\n",
       "    <tr>\n",
       "      <th>4</th>\n",
       "      <td>3</td>\n",
       "      <td>0</td>\n",
       "      <td>6091482.50</td>\n",
       "      <td>10.56</td>\n",
       "      <td>1</td>\n",
       "    </tr>\n",
       "  </tbody>\n",
       "</table>\n",
       "</div>"
      ],
      "text/plain": [
       "   shop_type_big  shop_type_small  monthly_gain  average_sale_price  geo\n",
       "0              3                0   12881013.37                9.98    4\n",
       "1              3                0   33931612.72               10.86    8\n",
       "2              3                0   21456513.16               10.66    7\n",
       "3              3                0    6140707.30               10.45    8\n",
       "4              3                0    6091482.50               10.56    1"
      ]
     },
     "execution_count": 14,
     "metadata": {},
     "output_type": "execute_result"
    }
   ],
   "source": [
    "# pandas option 설정 하는 코드\n",
    "# monthly_gain의 경우 부동소수점으로 나타나서 보기 어려울땐 윗 줄의 주석을 제거하고 아래에 주석을 추가하고\n",
    "# 다시 원래대로 돌리고 싶다면 아래에 주석제거, 위 코드에 주석추가\n",
    "pd.options.display.float_format = '{:.2f}'.format\n",
    "#pd.reset_option('display.float_format')\n",
    "\n",
    "input_data.head()"
   ]
  },
  {
   "cell_type": "code",
   "execution_count": 15,
   "id": "6547ce2b",
   "metadata": {},
   "outputs": [
    {
     "name": "stdout",
     "output_type": "stream",
     "text": [
      "내림차순 기준 분야별로 정렬하여 출력합니다 - monthly_gain\n",
      "min:  [4, 7, 3, 6, 10, 2, 13, 11, 14, 0, 1, 9, 12, 8, 5]\n",
      "mean: [5, 3, 12, 6, 7, 10, 14, 13, 11, 9, 1, 8, 2, 0, 4]\n",
      "max:  [5, 9, 13, 0, 1, 14, 8, 3, 12, 10, 6, 11, 2, 7, 4]\n"
     ]
    },
    {
     "data": {
      "text/html": [
       "<div>\n",
       "<style scoped>\n",
       "    .dataframe tbody tr th:only-of-type {\n",
       "        vertical-align: middle;\n",
       "    }\n",
       "\n",
       "    .dataframe tbody tr th {\n",
       "        vertical-align: top;\n",
       "    }\n",
       "\n",
       "    .dataframe thead th {\n",
       "        text-align: right;\n",
       "    }\n",
       "</style>\n",
       "<table border=\"1\" class=\"dataframe\">\n",
       "  <thead>\n",
       "    <tr style=\"text-align: right;\">\n",
       "      <th></th>\n",
       "      <th>count</th>\n",
       "      <th>mean</th>\n",
       "      <th>std</th>\n",
       "      <th>min</th>\n",
       "      <th>25%</th>\n",
       "      <th>50%</th>\n",
       "      <th>75%</th>\n",
       "      <th>max</th>\n",
       "    </tr>\n",
       "    <tr>\n",
       "      <th>shop_type_big</th>\n",
       "      <th></th>\n",
       "      <th></th>\n",
       "      <th></th>\n",
       "      <th></th>\n",
       "      <th></th>\n",
       "      <th></th>\n",
       "      <th></th>\n",
       "      <th></th>\n",
       "    </tr>\n",
       "  </thead>\n",
       "  <tbody>\n",
       "    <tr>\n",
       "      <th>0</th>\n",
       "      <td>318339.00</td>\n",
       "      <td>13632884.54</td>\n",
       "      <td>26295553.89</td>\n",
       "      <td>50.08</td>\n",
       "      <td>3252624.81</td>\n",
       "      <td>7505698.33</td>\n",
       "      <td>15909550.27</td>\n",
       "      <td>2454380350.60</td>\n",
       "    </tr>\n",
       "    <tr>\n",
       "      <th>1</th>\n",
       "      <td>213619.00</td>\n",
       "      <td>19719527.02</td>\n",
       "      <td>28706052.33</td>\n",
       "      <td>49.63</td>\n",
       "      <td>5770587.82</td>\n",
       "      <td>12058130.24</td>\n",
       "      <td>23826346.30</td>\n",
       "      <td>1535740006.14</td>\n",
       "    </tr>\n",
       "    <tr>\n",
       "      <th>2</th>\n",
       "      <td>188263.00</td>\n",
       "      <td>15053556.30</td>\n",
       "      <td>19543045.12</td>\n",
       "      <td>253.05</td>\n",
       "      <td>3471252.46</td>\n",
       "      <td>8711467.56</td>\n",
       "      <td>19694451.96</td>\n",
       "      <td>594568831.67</td>\n",
       "    </tr>\n",
       "    <tr>\n",
       "      <th>3</th>\n",
       "      <td>24891.00</td>\n",
       "      <td>36001109.95</td>\n",
       "      <td>70222881.23</td>\n",
       "      <td>503.42</td>\n",
       "      <td>6552622.10</td>\n",
       "      <td>15851043.88</td>\n",
       "      <td>36195659.42</td>\n",
       "      <td>1246631436.93</td>\n",
       "    </tr>\n",
       "    <tr>\n",
       "      <th>4</th>\n",
       "      <td>47.00</td>\n",
       "      <td>4971385.58</td>\n",
       "      <td>3441529.09</td>\n",
       "      <td>31102.45</td>\n",
       "      <td>2922138.00</td>\n",
       "      <td>4186328.34</td>\n",
       "      <td>6760663.68</td>\n",
       "      <td>15394364.73</td>\n",
       "    </tr>\n",
       "    <tr>\n",
       "      <th>5</th>\n",
       "      <td>359034.00</td>\n",
       "      <td>116397419.86</td>\n",
       "      <td>1569075536.95</td>\n",
       "      <td>5.06</td>\n",
       "      <td>7382320.10</td>\n",
       "      <td>27178602.55</td>\n",
       "      <td>47733778.69</td>\n",
       "      <td>181237335603.49</td>\n",
       "    </tr>\n",
       "    <tr>\n",
       "      <th>6</th>\n",
       "      <td>131323.00</td>\n",
       "      <td>28338011.74</td>\n",
       "      <td>33013325.12</td>\n",
       "      <td>493.80</td>\n",
       "      <td>8455953.14</td>\n",
       "      <td>18101518.61</td>\n",
       "      <td>36318652.47</td>\n",
       "      <td>703395339.57</td>\n",
       "    </tr>\n",
       "    <tr>\n",
       "      <th>7</th>\n",
       "      <td>13726.00</td>\n",
       "      <td>25495120.25</td>\n",
       "      <td>38188710.77</td>\n",
       "      <td>5593.31</td>\n",
       "      <td>6093858.38</td>\n",
       "      <td>13859828.04</td>\n",
       "      <td>28725833.43</td>\n",
       "      <td>550879240.77</td>\n",
       "    </tr>\n",
       "    <tr>\n",
       "      <th>8</th>\n",
       "      <td>254766.00</td>\n",
       "      <td>15803340.87</td>\n",
       "      <td>22753249.79</td>\n",
       "      <td>5.55</td>\n",
       "      <td>3687630.29</td>\n",
       "      <td>9033763.00</td>\n",
       "      <td>19227524.34</td>\n",
       "      <td>1289820781.86</td>\n",
       "    </tr>\n",
       "    <tr>\n",
       "      <th>9</th>\n",
       "      <td>455192.00</td>\n",
       "      <td>20417545.97</td>\n",
       "      <td>78472248.13</td>\n",
       "      <td>49.44</td>\n",
       "      <td>2237639.52</td>\n",
       "      <td>6398832.00</td>\n",
       "      <td>17318475.94</td>\n",
       "      <td>11699138265.56</td>\n",
       "    </tr>\n",
       "    <tr>\n",
       "      <th>10</th>\n",
       "      <td>83488.00</td>\n",
       "      <td>25322637.66</td>\n",
       "      <td>31280422.83</td>\n",
       "      <td>493.80</td>\n",
       "      <td>8029402.82</td>\n",
       "      <td>16006683.28</td>\n",
       "      <td>30874311.91</td>\n",
       "      <td>714968397.12</td>\n",
       "    </tr>\n",
       "    <tr>\n",
       "      <th>11</th>\n",
       "      <td>98201.00</td>\n",
       "      <td>21043979.17</td>\n",
       "      <td>30650347.20</td>\n",
       "      <td>55.38</td>\n",
       "      <td>3178903.64</td>\n",
       "      <td>9812952.69</td>\n",
       "      <td>29231947.41</td>\n",
       "      <td>607811136.24</td>\n",
       "    </tr>\n",
       "    <tr>\n",
       "      <th>12</th>\n",
       "      <td>112420.00</td>\n",
       "      <td>29656802.61</td>\n",
       "      <td>39582896.63</td>\n",
       "      <td>49.37</td>\n",
       "      <td>7359411.89</td>\n",
       "      <td>17865797.94</td>\n",
       "      <td>36184657.86</td>\n",
       "      <td>838346597.43</td>\n",
       "    </tr>\n",
       "    <tr>\n",
       "      <th>13</th>\n",
       "      <td>130544.00</td>\n",
       "      <td>25152372.93</td>\n",
       "      <td>60055572.85</td>\n",
       "      <td>251.79</td>\n",
       "      <td>5233673.41</td>\n",
       "      <td>12564552.00</td>\n",
       "      <td>27443949.52</td>\n",
       "      <td>4502280301.80</td>\n",
       "    </tr>\n",
       "    <tr>\n",
       "      <th>14</th>\n",
       "      <td>543886.00</td>\n",
       "      <td>25171006.70</td>\n",
       "      <td>38543045.25</td>\n",
       "      <td>50.61</td>\n",
       "      <td>5727531.55</td>\n",
       "      <td>14123414.79</td>\n",
       "      <td>30392434.57</td>\n",
       "      <td>1338750027.12</td>\n",
       "    </tr>\n",
       "  </tbody>\n",
       "</table>\n",
       "</div>"
      ],
      "text/plain": [
       "                  count         mean           std      min        25%  \\\n",
       "shop_type_big                                                            \n",
       "0             318339.00  13632884.54   26295553.89    50.08 3252624.81   \n",
       "1             213619.00  19719527.02   28706052.33    49.63 5770587.82   \n",
       "2             188263.00  15053556.30   19543045.12   253.05 3471252.46   \n",
       "3              24891.00  36001109.95   70222881.23   503.42 6552622.10   \n",
       "4                 47.00   4971385.58    3441529.09 31102.45 2922138.00   \n",
       "5             359034.00 116397419.86 1569075536.95     5.06 7382320.10   \n",
       "6             131323.00  28338011.74   33013325.12   493.80 8455953.14   \n",
       "7              13726.00  25495120.25   38188710.77  5593.31 6093858.38   \n",
       "8             254766.00  15803340.87   22753249.79     5.55 3687630.29   \n",
       "9             455192.00  20417545.97   78472248.13    49.44 2237639.52   \n",
       "10             83488.00  25322637.66   31280422.83   493.80 8029402.82   \n",
       "11             98201.00  21043979.17   30650347.20    55.38 3178903.64   \n",
       "12            112420.00  29656802.61   39582896.63    49.37 7359411.89   \n",
       "13            130544.00  25152372.93   60055572.85   251.79 5233673.41   \n",
       "14            543886.00  25171006.70   38543045.25    50.61 5727531.55   \n",
       "\n",
       "                      50%         75%             max  \n",
       "shop_type_big                                          \n",
       "0              7505698.33 15909550.27   2454380350.60  \n",
       "1             12058130.24 23826346.30   1535740006.14  \n",
       "2              8711467.56 19694451.96    594568831.67  \n",
       "3             15851043.88 36195659.42   1246631436.93  \n",
       "4              4186328.34  6760663.68     15394364.73  \n",
       "5             27178602.55 47733778.69 181237335603.49  \n",
       "6             18101518.61 36318652.47    703395339.57  \n",
       "7             13859828.04 28725833.43    550879240.77  \n",
       "8              9033763.00 19227524.34   1289820781.86  \n",
       "9              6398832.00 17318475.94  11699138265.56  \n",
       "10            16006683.28 30874311.91    714968397.12  \n",
       "11             9812952.69 29231947.41    607811136.24  \n",
       "12            17865797.94 36184657.86    838346597.43  \n",
       "13            12564552.00 27443949.52   4502280301.80  \n",
       "14            14123414.79 30392434.57   1338750027.12  "
      ]
     },
     "execution_count": 15,
     "metadata": {},
     "output_type": "execute_result"
    }
   ],
   "source": [
    "group_big_gain = input_data[['shop_type_big','monthly_gain']].groupby('shop_type_big')\n",
    "df_group_big_gain = group_big_gain.describe().droplevel(axis=1,level=0)\n",
    "\n",
    "# monthly_gain을 shop_type_big 분야별로 정렬하여 출력\n",
    "print(\"내림차순 기준 분야별로 정렬하여 출력합니다 - monthly_gain\")\n",
    "print(\"min: \", list(df_group_big_gain.sort_values(by=['min'], ascending=False).index))\n",
    "print(\"mean:\", list(df_group_big_gain.sort_values(by=['mean'], ascending=False).index))\n",
    "print(\"max: \", list(df_group_big_gain.sort_values(by=['max'], ascending=False).index))\n",
    "\n",
    "df_group_big_gain"
   ]
  },
  {
   "cell_type": "code",
   "execution_count": 16,
   "id": "23870c09",
   "metadata": {},
   "outputs": [
    {
     "name": "stdout",
     "output_type": "stream",
     "text": [
      "Int64Index([0, 1, 2, 3, 4, 5, 6, 7, 8, 9, 10, 11, 12, 13, 14], dtype='int64', name='shop_type_big')\n"
     ]
    },
    {
     "data": {
      "text/plain": [
       "<AxesSubplot:xlabel='shop_type_big'>"
      ]
     },
     "execution_count": 16,
     "metadata": {},
     "output_type": "execute_result"
    },
    {
     "data": {
      "image/png": "[encoded data removed]",
      "text/plain": [
       "<Figure size 1800x720 with 1 Axes>"
      ]
     },
     "metadata": {
      "needs_background": "light"
     },
     "output_type": "display_data"
    }
   ],
   "source": [
    "# shop_type_big 으로 묶은 후 shop_type_small 간의 평균 가격대를 비교하는 코드 \n",
    "# 제조같은 분야는 하나의 소분야가 압도적으로 가격대가 높게 형성되어 있고 나머지는 비슷비슷함\n",
    "# 스포츠 같은 경우는 모든 소분야가 비슷한 가격대를 형성함 \n",
    "\n",
    "# shop_type_big 중에서 5번 종목이 가격 분포가 너무 넓어서 그래프를 그렸을 때 다른 종목도 보기 어려워서\n",
    "# 5번을 드랍하고 보기로 함 -> 전반적으로 평균보다 편차가 훨씬 큼\n",
    "typebig_list = df_group_big_gain.index\n",
    "print(typebig_list)\n",
    "\n",
    "updated_df = df_group_big_gain.drop(5).copy()\n",
    "updated_df.plot.bar(y=['std', 'mean', 'count'], figsize=(25,10))"
   ]
  },
  {
   "cell_type": "code",
   "execution_count": 17,
   "id": "47d35092",
   "metadata": {},
   "outputs": [
    {
     "data": {
      "text/plain": [
       "<AxesSubplot:>"
      ]
     },
     "execution_count": 17,
     "metadata": {},
     "output_type": "execute_result"
    },
    {
     "data": {
      "image/png": "[encoded data removed]",
      "text/plain": [
       "<Figure size 1080x576 with 1 Axes>"
      ]
     },
     "metadata": {
      "needs_background": "light"
     },
     "output_type": "display_data"
    }
   ],
   "source": [
    "group_big_gain.get_group(7).boxplot(column='monthly_gain')"
   ]
  },
  {
   "cell_type": "code",
   "execution_count": 18,
   "id": "142471dc",
   "metadata": {
    "scrolled": true
   },
   "outputs": [
    {
     "name": "stdout",
     "output_type": "stream",
     "text": [
      "34894938.47 \t 25133 \t -15732763.39 \t 0 \t 15909550.27 \t 79585\n",
      "50909984.01 \t 15726 \t -21313049.89 \t 0 \t 23826346.30 \t 53405\n",
      "44029251.20 \t 12003 \t -20863546.78 \t 0 \t 19694451.96 \t 47066\n",
      "80660215.41 \t 2393 \t -37911933.89 \t 0 \t 36195659.42 \t 6223\n",
      "12518452.19 \t 1 \t -2835650.51 \t 0 \t 6760663.68 \t 12\n",
      "108260966.57 \t 26678 \t -53144867.79 \t 0 \t 47733778.69 \t 89759\n",
      "78112701.48 \t 8612 \t -33338095.86 \t 0 \t 36318652.47 \t 32831\n",
      "62673795.99 \t 1188 \t -27854104.18 \t 0 \t 28725833.43 \t 3432\n",
      "42537365.43 \t 19350 \t -19622210.80 \t 0 \t 19227524.34 \t 63692\n",
      "39939730.58 \t 50532 \t -20383615.12 \t 0 \t 17318475.94 \t 113798\n",
      "65141675.56 \t 6064 \t -26237960.82 \t 0 \t 30874311.91 \t 20872\n",
      "68311513.06 \t 5384 \t -35900662.02 \t 0 \t 29231947.41 \t 24550\n",
      "79422526.81 \t 8360 \t -35878457.05 \t 0 \t 36184657.86 \t 28105\n",
      "60759363.69 \t 11580 \t -28081740.76 \t 0 \t 27443949.52 \t 32636\n",
      "67389789.09 \t 40136 \t -31269822.98 \t 0 \t 30392434.57 \t 135972\n"
     ]
    }
   ],
   "source": [
    "# box plot 상 outlier와 Quantile 상 75% 이상의 값을 확인합니다\n",
    "# we detect outlier (from upper, lower) and values greater than 75% in the quantile\n",
    "list_q4 = df_group_big_gain['75%'].values\n",
    "for i in range(0, 15) :\n",
    "    Q1 = group_big_gain.get_group(i)['monthly_gain'].quantile(0.25)\n",
    "    Q3 = group_big_gain.get_group(i)['monthly_gain'].quantile(0.75)\n",
    "    IQR = Q3 - Q1\n",
    "    lower_fence = Q1 - (1.5 * IQR)\n",
    "    upper_fence = Q3 + (1.5 * IQR)\n",
    "    \n",
    "    df = group_big_gain.get_group(i)['monthly_gain']\n",
    "    print(\"%.2f \\t\" % upper_fence, len(df[df > upper_fence]),\n",
    "          \"\\t %.2f \\t\" % lower_fence, len(df[df < lower_fence]),\n",
    "          \"\\t %.2f \\t\" % list_q4[i], len(df[df > list_q4[i]]))"
   ]
  },
  {
   "cell_type": "code",
   "execution_count": 37,
   "id": "c87fa3ec",
   "metadata": {},
   "outputs": [],
   "source": [
    "# Explore shop_type_small\n",
    "\n",
    "#df_typesmall = []\n",
    "#for _ in typebig_list :\n",
    "#    df = df_check[df_check['shop_type_big'] == _ ].groupby('shop_type_small').describe().droplevel(axis=1,level=0)\n",
    "#    df_typesmall.append(df)\n",
    "#df_typesmall[2].plot.bar(y=['std','mean'], figsize=(25,10))"
   ]
  },
  {
   "cell_type": "markdown",
   "id": "3d31c910",
   "metadata": {},
   "source": [
    "#### Labeling 1) quantity하게, 백분율을 이용해서\n",
    "\n",
    "- **Label(10)**  min 10% 20% ... 80% 90% max의 값을 찾은 후, monthly_gain에 대해 두 범위 사이에 존재하는 값에 대해서 평균 값으로 라벨링 합니다. \n",
    "    - 예) min 과 10% 사이의 값 -> min과 10%의 평균 값으로 라벨링\n",
    "    - 라벨링 분포가 정확히 14432~14430 사이로 떨어짐 -> 오로지 백분율로 잘랐기 때문에 분포에 대한 걱정은 안해도 됨\n",
    "    - accuracy f-1score : 0.50 ~ 0.49\n",
    "- **Label(3)**  위와 동일한 방식으로 자릅니다. \n",
    "    - 0 ~ 33 ~ 66 ~ 99(100) -> 총 3개의 label 생성\n",
    "    - 1: 3,669,015.0075000003, 2: 18,734,738.491500005, 3: 303,196,624.6690003\n",
    "    - 3백, 2천(1천8백만), 3억\n",
    "    - accuracy f-1score : 0.84 ~ 0.82\n",
    "- **Label(4)**  위와 동일한 방식으로 자릅니다. \n",
    "    - 0 ~ 25 ~ 50 ~ 75 ~ 100 -> 총 4개의 label 생성\n",
    "    - 1: 2,324,858.25, 2: 10,317,593.25, 3: 29,815,219.125, 4: 32,692,544,860.4\n",
    "    - 2백, 1천만, 3천만(2천9백), 326억\n",
    "    - accuracy f-1score : 0.78 ~ 0.76\n",
    "- **Label(5)**  위와 동일한 방식으로 자릅니다. \n",
    "    - 0 ~ 20 ~ 40 ~ 60 ~ 80 ~ 100 -> 총 5개의 label 생성\n",
    "    - 1: 1,622,880.0, 2: 6,773,160.0, 3: 17,044,674.75,4: 39,214,985.75, 5: 32,698,042,967.275\n",
    "    - 1백만, 6백만, 1천7백만, 4천(3천9백만), 326억\n",
    "    - accuracy f-1score : 0.71 ~ 0.70\n",
    "- 백분율로 자르는 방법\n",
    "    - labe(10)의 경우 유난히 4~8 label에 대해서는 잘 못맞춤 -> monthly_gain을 일렬로 세웠을 때 앞 뒤로 뭉쳐있어서 그런 것 같음 \n",
    "    - 무작정 quantity하게 값을 나눠서 라벨링 하는 것은 좋은 것 같지 않음..\n",
    "    - 앞, 뒤로는 자잘하게 자르고 가운데는 큼직하게 잘라야..?\n",
    "    - 확실히 class의 개수가 많아질수록 accuracy가 낮아짐"
   ]
  },
  {
   "cell_type": "code",
   "execution_count": 27,
   "id": "38ac967a",
   "metadata": {},
   "outputs": [
    {
     "name": "stdout",
     "output_type": "stream",
     "text": [
      "[3 5 4 2 1]\n",
      "{1: 1650675.71, 2: 5705588.994, 3: 12177205.197000002, 4: 24813489.456, 5: 90635358999.288}\n",
      "[0, 3301351.42, 8109826.568, 16244583.826000005, 33382395.085999995, 181237335603.49]\n"
     ]
    }
   ],
   "source": [
    "price_dict = {}  # original price를 저장하기 위한 dict\n",
    "price_list = [0] # 시작 min 값은 0 \n",
    "for i in range(1, 6) :\n",
    "    price_list.append(input_data['monthly_gain'].quantile(q=i*0.2)) # 10% ~ 100% 값을 가져옵니다    \n",
    "\n",
    "def labeling(x) : \n",
    "    for i in range(1, len(price_list)) :\n",
    "        price_dict[i] = (price_list[i]+price_list[i-1])/2\n",
    "        if x < price_list[i] and x >= price_list[i-1] : return i\n",
    "    return i\n",
    "\n",
    "input_data['monthly_gain_label'] = input_data.monthly_gain.apply(labeling)\n",
    "print(input_data['monthly_gain_label'].unique())\n",
    "print(price_dict)\n",
    "print(price_list)"
   ]
  },
  {
   "cell_type": "markdown",
   "id": "a35dba1e",
   "metadata": {},
   "source": [
    "#### Labeling 2) shop_type_big에 따라 중간값, 편차를 이용\n",
    "\n",
    "- 모든 업종이 중간값 보다 편차가 너무 커서 폐기"
   ]
  },
  {
   "cell_type": "code",
   "execution_count": 91,
   "id": "6d1fbd8c",
   "metadata": {},
   "outputs": [
    {
     "data": {
      "text/plain": [
       "{0: 50.08,\n",
       " 1: 49.63,\n",
       " 2: 253.05,\n",
       " 3: 503.42,\n",
       " 4: 31102.45,\n",
       " 5: 5.06,\n",
       " 6: 493.8,\n",
       " 7: 5593.31,\n",
       " 8: 5.55,\n",
       " 9: 49.44,\n",
       " 10: 493.8,\n",
       " 11: 55.38,\n",
       " 12: 49.37,\n",
       " 13: 251.79,\n",
       " 14: 50.61}"
      ]
     },
     "execution_count": 91,
     "metadata": {},
     "output_type": "execute_result"
    }
   ],
   "source": [
    "min_dict = df_group_big_gain['min'].to_dict()\n",
    "mean_dict = df_group_big_gain['mean'].to_dict()\n",
    "max_dict = df_group_big_gain['max'].to_dict()\n",
    "std_dict = df_group_big_gain['std'].to_dict()\n",
    "min_dict"
   ]
  },
  {
   "cell_type": "code",
   "execution_count": 30,
   "id": "f44de388",
   "metadata": {},
   "outputs": [
    {
     "data": {
      "text/plain": [
       "{0: 26295553.88916357,\n",
       " 1: 28706052.331207,\n",
       " 2: 19543045.119965058,\n",
       " 3: 70222881.23349647,\n",
       " 4: 3441529.085336429,\n",
       " 5: 1569075536.9468012,\n",
       " 6: 33013325.117963992,\n",
       " 7: 38188710.77183407,\n",
       " 8: 22753249.787695788,\n",
       " 9: 78472248.1300839,\n",
       " 10: 31280422.831923284,\n",
       " 11: 30650347.19939113,\n",
       " 12: 39582896.63406678,\n",
       " 13: 60055572.84763823,\n",
       " 14: 38543045.25275931}"
      ]
     },
     "execution_count": 30,
     "metadata": {},
     "output_type": "execute_result"
    }
   ],
   "source": [
    "def labeling(x) : \n",
    "    price_dict = []\n",
    "    for i in range(0, 15) :\n",
    "        max_price = mean_dict[i] + std_dict[i]\n",
    "        if mean_dict[i]-std_dict[i] <= 0 : min_price = 0 \n",
    "        else : min_price = mean_dict[i] - std_dict[i]\n",
    "\n",
    "        if x <= min  : return min/2\n",
    "        elif x>= max : return  \n",
    "    return i\n",
    "\n",
    "print(price_dict)\n",
    "input_data['pre_monthly_gain'] = input_data.monthly_gain.apply(labeling)\n",
    "input_data"
   ]
  },
  {
   "cell_type": "markdown",
   "id": "98e55267",
   "metadata": {},
   "source": [
    "#### Labeling 3) shop_type_big에 따라 Q1, Q2, Q3, upper fence, lower fence값 이용  \n",
    "\n",
    "- shop_type_big 당 label 3개 : Total lable 30 + 1(lower_fence=0) = 31 \n",
    "- Q1 ~ 이하 값 : lower fence = 0\n",
    "- Q1 ~ Q3 : Q2, mid\n",
    "- Q3 ~ 이상 값 : upper fence \n",
    "\n",
    "- shop_type_big 당 label 3개 : Total label 45\n",
    "- Q1 이하값 : Q1 \n",
    "- Q1 ~ Q3 : Q2, mid\n",
    "- Q3 이상값 : Q3"
   ]
  },
  {
   "cell_type": "code",
   "execution_count": 83,
   "id": "e567b3a5",
   "metadata": {},
   "outputs": [
    {
     "name": "stdout",
     "output_type": "stream",
     "text": [
      "31\n"
     ]
    },
    {
     "data": {
      "text/html": [
       "<div>\n",
       "<style scoped>\n",
       "    .dataframe tbody tr th:only-of-type {\n",
       "        vertical-align: middle;\n",
       "    }\n",
       "\n",
       "    .dataframe tbody tr th {\n",
       "        vertical-align: top;\n",
       "    }\n",
       "\n",
       "    .dataframe thead th {\n",
       "        text-align: right;\n",
       "    }\n",
       "</style>\n",
       "<table border=\"1\" class=\"dataframe\">\n",
       "  <thead>\n",
       "    <tr style=\"text-align: right;\">\n",
       "      <th></th>\n",
       "      <th>shop_type_big</th>\n",
       "      <th>shop_type_small</th>\n",
       "      <th>monthly_gain</th>\n",
       "      <th>average_sale_price</th>\n",
       "      <th>geo</th>\n",
       "      <th>monthly_gain_label</th>\n",
       "    </tr>\n",
       "  </thead>\n",
       "  <tbody>\n",
       "    <tr>\n",
       "      <th>0</th>\n",
       "      <td>3</td>\n",
       "      <td>0</td>\n",
       "      <td>12881013.37</td>\n",
       "      <td>9.98</td>\n",
       "      <td>8</td>\n",
       "      <td>15851043.88</td>\n",
       "    </tr>\n",
       "    <tr>\n",
       "      <th>1</th>\n",
       "      <td>3</td>\n",
       "      <td>0</td>\n",
       "      <td>33931612.72</td>\n",
       "      <td>10.86</td>\n",
       "      <td>2</td>\n",
       "      <td>15851043.88</td>\n",
       "    </tr>\n",
       "    <tr>\n",
       "      <th>2</th>\n",
       "      <td>3</td>\n",
       "      <td>0</td>\n",
       "      <td>21456513.16</td>\n",
       "      <td>10.66</td>\n",
       "      <td>5</td>\n",
       "      <td>15851043.88</td>\n",
       "    </tr>\n",
       "    <tr>\n",
       "      <th>3</th>\n",
       "      <td>3</td>\n",
       "      <td>0</td>\n",
       "      <td>6140707.30</td>\n",
       "      <td>10.45</td>\n",
       "      <td>2</td>\n",
       "      <td>0.00</td>\n",
       "    </tr>\n",
       "    <tr>\n",
       "      <th>4</th>\n",
       "      <td>3</td>\n",
       "      <td>0</td>\n",
       "      <td>6091482.50</td>\n",
       "      <td>10.56</td>\n",
       "      <td>3</td>\n",
       "      <td>0.00</td>\n",
       "    </tr>\n",
       "    <tr>\n",
       "      <th>...</th>\n",
       "      <td>...</td>\n",
       "      <td>...</td>\n",
       "      <td>...</td>\n",
       "      <td>...</td>\n",
       "      <td>...</td>\n",
       "      <td>...</td>\n",
       "    </tr>\n",
       "    <tr>\n",
       "      <th>2927734</th>\n",
       "      <td>6</td>\n",
       "      <td>60</td>\n",
       "      <td>13693767.90</td>\n",
       "      <td>9.98</td>\n",
       "      <td>3</td>\n",
       "      <td>18101518.61</td>\n",
       "    </tr>\n",
       "    <tr>\n",
       "      <th>2927735</th>\n",
       "      <td>6</td>\n",
       "      <td>60</td>\n",
       "      <td>17432801.29</td>\n",
       "      <td>11.22</td>\n",
       "      <td>0</td>\n",
       "      <td>18101518.61</td>\n",
       "    </tr>\n",
       "    <tr>\n",
       "      <th>2927736</th>\n",
       "      <td>6</td>\n",
       "      <td>60</td>\n",
       "      <td>17023101.74</td>\n",
       "      <td>10.44</td>\n",
       "      <td>0</td>\n",
       "      <td>18101518.61</td>\n",
       "    </tr>\n",
       "    <tr>\n",
       "      <th>2927737</th>\n",
       "      <td>6</td>\n",
       "      <td>60</td>\n",
       "      <td>31533908.77</td>\n",
       "      <td>10.88</td>\n",
       "      <td>2</td>\n",
       "      <td>18101518.61</td>\n",
       "    </tr>\n",
       "    <tr>\n",
       "      <th>2927738</th>\n",
       "      <td>6</td>\n",
       "      <td>60</td>\n",
       "      <td>33992793.02</td>\n",
       "      <td>10.48</td>\n",
       "      <td>5</td>\n",
       "      <td>18101518.61</td>\n",
       "    </tr>\n",
       "  </tbody>\n",
       "</table>\n",
       "<p>2927739 rows × 6 columns</p>\n",
       "</div>"
      ],
      "text/plain": [
       "         shop_type_big  shop_type_small  monthly_gain  average_sale_price  \\\n",
       "0                    3                0   12881013.37                9.98   \n",
       "1                    3                0   33931612.72               10.86   \n",
       "2                    3                0   21456513.16               10.66   \n",
       "3                    3                0    6140707.30               10.45   \n",
       "4                    3                0    6091482.50               10.56   \n",
       "...                ...              ...           ...                 ...   \n",
       "2927734              6               60   13693767.90                9.98   \n",
       "2927735              6               60   17432801.29               11.22   \n",
       "2927736              6               60   17023101.74               10.44   \n",
       "2927737              6               60   31533908.77               10.88   \n",
       "2927738              6               60   33992793.02               10.48   \n",
       "\n",
       "         geo  monthly_gain_label  \n",
       "0          8         15851043.88  \n",
       "1          2         15851043.88  \n",
       "2          5         15851043.88  \n",
       "3          2                0.00  \n",
       "4          3                0.00  \n",
       "...      ...                 ...  \n",
       "2927734    3         18101518.61  \n",
       "2927735    0         18101518.61  \n",
       "2927736    0         18101518.61  \n",
       "2927737    2         18101518.61  \n",
       "2927738    5         18101518.61  \n",
       "\n",
       "[2927739 rows x 6 columns]"
      ]
     },
     "execution_count": 83,
     "metadata": {},
     "output_type": "execute_result"
    }
   ],
   "source": [
    "def get_pricelist(i) :\n",
    "    Q1 = group_big_gain.get_group(i)['monthly_gain'].quantile(0.25)\n",
    "    Q2 = group_big_gain.get_group(i)['monthly_gain'].quantile(0.5)\n",
    "    Q3 = group_big_gain.get_group(i)['monthly_gain'].quantile(0.75)\n",
    "    IQR = Q3 - Q1\n",
    "    lower_fence = Q1 - (1.5 * IQR)\n",
    "    upper_fence = Q3 + (1.5 * IQR)\n",
    "    if lower_fence <= 0 : lower_fence = 0\n",
    "        \n",
    "    return lower_fence, Q1, Q2, Q3, upper_fence\n",
    "\n",
    "def labeling() : \n",
    "    for i in range(0,15) : \n",
    "        lower_fence, Q1, Q2, Q3, upper_fence = get_pricelist(i)\n",
    "        prices = input_data.loc[(input_data.shop_type_big == i), 'monthly_gain']\n",
    "        prices = prices.apply(lambda x: lower_fence if x < Q1 else (upper_fence if x > Q3 else Q2))\n",
    "        #prices = prices.apply(lambda x : Q1 if x < Q1 else (Q3 if x > Q3 else Q2))\n",
    "        input_data.loc[(input_data.shop_type_big == i), 'monthly_gain_label'] = prices\n",
    "\n",
    "labeling()\n",
    "print(input_data['monthly_gain_label'].nunique())\n",
    "input_data"
   ]
  },
  {
   "cell_type": "code",
   "execution_count": 142,
   "id": "de08b78a",
   "metadata": {},
   "outputs": [
    {
     "data": {
      "text/plain": [
       "<AxesSubplot:title={'center':'monthly_gain_label'}, xlabel='[shop_type_big]'>"
      ]
     },
     "execution_count": 142,
     "metadata": {},
     "output_type": "execute_result"
    },
    {
     "data": {
      "image/png": "[encoded data removed]",
      "text/plain": [
       "<Figure size 432x288 with 1 Axes>"
      ]
     },
     "metadata": {
      "needs_background": "light"
     },
     "output_type": "display_data"
    }
   ],
   "source": [
    "input_data.boxplot(column = ['monthly_gain_label'], by=['shop_type_big'])"
   ]
  },
  {
   "cell_type": "code",
   "execution_count": 84,
   "id": "6d9e31eb",
   "metadata": {},
   "outputs": [
    {
     "name": "stdout",
     "output_type": "stream",
     "text": [
      "31\n",
      "27\n",
      "0.00            731938\n",
      "14000000.00     278804\n",
      "6400000.00      227596\n",
      "27000000.00     179516\n",
      "7500000.00      159169\n",
      "67000000.00     135972\n",
      "9000000.00      127382\n",
      "18000000.00     121871\n",
      "40000000.00     113798\n",
      "12000000.00     106809\n",
      "8700000.00       94131\n",
      "108000000.00     89759\n",
      "35000000.00      79585\n",
      "13000000.00      65284\n",
      "43000000.00      63692\n",
      "16000000.00      54189\n",
      "51000000.00      53405\n",
      "9800000.00       49101\n",
      "44000000.00      47066\n",
      "78000000.00      32831\n",
      "61000000.00      32636\n",
      "79000000.00      28105\n",
      "68000000.00      24550\n",
      "65000000.00      20872\n",
      "81000000.00       6223\n",
      "63000000.00       3432\n",
      "4200000.00          23\n",
      "Name: monthly_gain_label, dtype: int64\n"
     ]
    }
   ],
   "source": [
    "# upper fence, Q2 값은 모두 백만원대~천만원대(하나만 억대) 이기 때문에\n",
    "# 십만원대 아래 가격들은 모두 반올림 하여 비슷한 label 값을 가지는 것들은 통일\n",
    "#input_data[input_data['shop_type_big']==12]['monthly_gain_label'].value_counts()\n",
    "print(input_data['monthly_gain_label'].nunique())\n",
    "input_data['monthly_gain_label'] = input_data.monthly_gain_label.apply(lambda x : round(x, -5)\n",
    "                                                                       if x < 10000000 else round(x, -6))\n",
    "print(input_data['monthly_gain_label'].nunique())\n",
    "print(input_data['monthly_gain_label'].value_counts())"
   ]
  },
  {
   "cell_type": "markdown",
   "id": "05f7db1f",
   "metadata": {},
   "source": [
    "#### Labeling 4) all price range\n",
    "- min : 5 \n",
    "- max : 181,237,335,603 (181억)\n",
    "- 1원\n",
    "- 10원\n",
    "- 100원\n",
    "- 1,000원*\n",
    "- 10,000원*\n",
    "- 100,000원(십만원대)*\n",
    "- 500,000원(십만~오십만원대)*\n",
    "- 1,000,000원 (백만원대)\n",
    "- 2, 3, 4, 5, 6, 7, 8, 9 (detailed)\n",
    "- 10,000,000원 (천만원대)\n",
    "- 30,000,000원 \n",
    "- 50,000,000원\n",
    "- 70,000,000원\n",
    "- 100,000,000원 (억대)*\n",
    "- 500,000,000원 *\n",
    "- 1,000,000,000원(십억대) *\n",
    "- 10,000,000,000원(백억대) *"
   ]
  },
  {
   "cell_type": "code",
   "execution_count": 132,
   "id": "062082ca",
   "metadata": {},
   "outputs": [
    {
     "name": "stdout",
     "output_type": "stream",
     "text": [
      "15\n",
      "30000000       921620\n",
      "3000000        343299\n",
      "50000000       343069\n",
      "5000000        284585\n",
      "10000000       281385\n",
      "7000000        235054\n",
      "1000000        177939\n",
      "70000000       144192\n",
      "500000000       87076\n",
      "100000000       83310\n",
      "100000          16747\n",
      "1000000000       4815\n",
      "10000000000      3177\n",
      "10000             805\n",
      "15000000000       666\n",
      "Name: monthly_gain_label, dtype: int64\n"
     ]
    }
   ],
   "source": [
    "price_dict = [10000, 100000,\n",
    "              1000000, 3000000, 5000000, 7000000,\n",
    "              10000000, 30000000, 50000000, 70000000,\n",
    "              100000000, 500000000, 1000000000, 10000000000, 15000000000]\n",
    "print(len(price_dict))\n",
    "\n",
    "def labeling(x) : \n",
    "    for i in range(0, len(price_dict)) :\n",
    "        if x < price_dict[i] : return price_dict[i]\n",
    "    return price_dict[-1]\n",
    "\n",
    "input_data['monthly_gain_label'] = input_data.monthly_gain.apply(labeling)\n",
    "print(input_data['monthly_gain_label'].value_counts())"
   ]
  },
  {
   "cell_type": "markdown",
   "id": "1d2e7c3c",
   "metadata": {},
   "source": [
    "#### Labeling 5) without outlier\n",
    "upper fence, lower fence 외 값(outlier)을 제거합니다 "
   ]
  },
  {
   "cell_type": "code",
   "execution_count": 21,
   "id": "9178cbda",
   "metadata": {},
   "outputs": [
    {
     "name": "stdout",
     "output_type": "stream",
     "text": [
      "removed index in shop_type_big 0 :  25133\n",
      "removed index in shop_type_big 1 :  15726\n",
      "removed index in shop_type_big 2 :  12003\n",
      "removed index in shop_type_big 3 :  2393\n",
      "removed index in shop_type_big 4 :  1\n",
      "removed index in shop_type_big 5 :  26678\n",
      "removed index in shop_type_big 6 :  8612\n",
      "removed index in shop_type_big 7 :  1188\n",
      "removed index in shop_type_big 8 :  19350\n",
      "removed index in shop_type_big 9 :  50532\n",
      "removed index in shop_type_big 10 :  6064\n",
      "removed index in shop_type_big 11 :  5384\n",
      "removed index in shop_type_big 12 :  8360\n",
      "removed index in shop_type_big 13 :  11580\n",
      "removed index in shop_type_big 14 :  40136\n",
      "45\n",
      "36\n"
     ]
    }
   ],
   "source": [
    "def get_pricelist(i) :\n",
    "    Q1 = group_big_gain.get_group(i)['monthly_gain'].quantile(0.25)\n",
    "    Q2 = group_big_gain.get_group(i)['monthly_gain'].quantile(0.5)\n",
    "    Q3 = group_big_gain.get_group(i)['monthly_gain'].quantile(0.75)\n",
    "    IQR = Q3 - Q1\n",
    "    lower_fence = Q1 - (1.5 * IQR)\n",
    "    upper_fence = Q3 + (1.5 * IQR)\n",
    "    if lower_fence <= 0 : lower_fence = 0\n",
    "        \n",
    "    return lower_fence, Q1, Q2, Q3, upper_fence\n",
    "\n",
    "def remove_outlier(input_data) :\n",
    "    processed_data = input_data.copy()\n",
    "    for i in range(0,15) :\n",
    "        lower_fence, Q1, Q2, Q3, upper_fence = get_pricelist(i)\n",
    "        shoptype_index = input_data[input_data.shop_type_big == i].index\n",
    "        shoptype_data = input_data.iloc[shoptype_index, :]\n",
    "        outlier_index = shoptype_data[shoptype_data.monthly_gain > upper_fence].index\n",
    "        print(\"removed index in shop_type_big\" , i, \": \", len(outlier_index))\n",
    "        processed_data = processed_data.drop(outlier_index)\n",
    "    return processed_data \n",
    "\n",
    "def labeling(input_data) : \n",
    "    for i in range(0,15) : \n",
    "        lower_fence, Q1, Q2, Q3, upper_fence = get_pricelist(i)\n",
    "        prices = input_data.loc[(input_data.shop_type_big == i), 'monthly_gain']\n",
    "        #prices = prices.apply(lambda x: lower_fence if x < Q1 else (upper_fence if x > Q3 else Q2))\n",
    "        prices = prices.apply(lambda x : Q1 if x < Q1 else (Q3 if x > Q3 else Q2))\n",
    "        input_data.loc[(input_data.shop_type_big == i), 'monthly_gain_label'] = prices\n",
    "    return input_data\n",
    "\n",
    "processed_data = remove_outlier(input_data)\n",
    "processed_data = labeling(processed_data)\n",
    "print(processed_data.monthly_gain_label.nunique())\n",
    "\n",
    "processed_data['monthly_gain_label'] = processed_data.monthly_gain_label.apply(lambda x : round(x, -5)\n",
    "                                                                       if x < 10000000 else round(x, -6))\n",
    "print(processed_data['monthly_gain_label'].nunique())"
   ]
  },
  {
   "cell_type": "code",
   "execution_count": 22,
   "id": "50a4d0e0",
   "metadata": {
    "scrolled": false
   },
   "outputs": [
    {
     "data": {
      "text/plain": [
       "<AxesSubplot:title={'center':'monthly_gain'}, xlabel='[shop_type_big]'>"
      ]
     },
     "execution_count": 22,
     "metadata": {},
     "output_type": "execute_result"
    },
    {
     "data": {
      "image/png": "[encoded data removed]",
      "text/plain": [
       "<Figure size 1080x576 with 1 Axes>"
      ]
     },
     "metadata": {
      "needs_background": "light"
     },
     "output_type": "display_data"
    }
   ],
   "source": [
    "processed_data.boxplot(column = ['monthly_gain'], by=['shop_type_big'])"
   ]
  },
  {
   "cell_type": "code",
   "execution_count": 23,
   "id": "182fc623",
   "metadata": {},
   "outputs": [
    {
     "data": {
      "text/plain": [
       "<AxesSubplot:xlabel='shop_type_big', ylabel='monthly_gain'>"
      ]
     },
     "execution_count": 23,
     "metadata": {},
     "output_type": "execute_result"
    },
    {
     "data": {
      "image/png": "[encoded data removed]",
      "text/plain": [
       "<Figure size 1080x576 with 1 Axes>"
      ]
     },
     "metadata": {
      "needs_background": "light"
     },
     "output_type": "display_data"
    }
   ],
   "source": [
    "rcParams['figure.figsize'] = 15,8\n",
    "sns.boxplot(x='shop_type_big', y='monthly_gain', data=processed_data)"
   ]
  },
  {
   "cell_type": "markdown",
   "id": "55412fa2",
   "metadata": {},
   "source": [
    "# 5. Modeling\n",
    "- XGB\n",
    "- LGBM\n",
    "- MultiClass Classification "
   ]
  },
  {
   "cell_type": "code",
   "execution_count": 24,
   "id": "cf1556b5",
   "metadata": {
    "collapsed": true
   },
   "outputs": [
    {
     "ename": "KeyError",
     "evalue": "'Only a column name can be used for the key in a dtype mappings argument.'",
     "output_type": "error",
     "traceback": [
      "\u001b[1;31m---------------------------------------------------------------------------\u001b[0m",
      "\u001b[1;31mKeyError\u001b[0m                                  Traceback (most recent call last)",
      "\u001b[1;32mC:\\Users\\HYEONG~1\\AppData\\Local\\Temp/ipykernel_19904/105996276.py\u001b[0m in \u001b[0;36m<module>\u001b[1;34m\u001b[0m\n\u001b[0;32m      1\u001b[0m \u001b[1;31m# continous 값은 lgbm에서 classification 할 수 없음\u001b[0m\u001b[1;33m\u001b[0m\u001b[1;33m\u001b[0m\u001b[1;33m\u001b[0m\u001b[0m\n\u001b[0;32m      2\u001b[0m \u001b[1;31m# conver 'float' to 'int'\u001b[0m\u001b[1;33m\u001b[0m\u001b[1;33m\u001b[0m\u001b[1;33m\u001b[0m\u001b[0m\n\u001b[1;32m----> 3\u001b[1;33m \u001b[0minput_data\u001b[0m \u001b[1;33m=\u001b[0m \u001b[0minput_data\u001b[0m\u001b[1;33m.\u001b[0m\u001b[0mastype\u001b[0m\u001b[1;33m(\u001b[0m\u001b[1;33m{\u001b[0m\u001b[1;34m'monthly_gain_label'\u001b[0m \u001b[1;33m:\u001b[0m \u001b[1;34m'int'\u001b[0m\u001b[1;33m}\u001b[0m\u001b[1;33m)\u001b[0m\u001b[1;33m\u001b[0m\u001b[1;33m\u001b[0m\u001b[0m\n\u001b[0m\u001b[0;32m      4\u001b[0m \u001b[0mprocessed_data\u001b[0m \u001b[1;33m=\u001b[0m \u001b[0mprocessed_data\u001b[0m\u001b[1;33m.\u001b[0m\u001b[0mastype\u001b[0m\u001b[1;33m(\u001b[0m\u001b[1;33m{\u001b[0m\u001b[1;34m'monthly_gain_label'\u001b[0m \u001b[1;33m:\u001b[0m \u001b[1;34m'int'\u001b[0m\u001b[1;33m}\u001b[0m\u001b[1;33m)\u001b[0m\u001b[1;33m\u001b[0m\u001b[1;33m\u001b[0m\u001b[0m\n\u001b[0;32m      5\u001b[0m \u001b[0minput_data\u001b[0m\u001b[1;33m.\u001b[0m\u001b[0mhead\u001b[0m\u001b[1;33m(\u001b[0m\u001b[1;33m)\u001b[0m\u001b[1;33m\u001b[0m\u001b[1;33m\u001b[0m\u001b[0m\n",
      "\u001b[1;32m~\\anaconda3\\lib\\site-packages\\pandas\\core\\generic.py\u001b[0m in \u001b[0;36mastype\u001b[1;34m(self, dtype, copy, errors)\u001b[0m\n\u001b[0;32m   5789\u001b[0m             \u001b[1;32mfor\u001b[0m \u001b[0mcol_name\u001b[0m \u001b[1;32min\u001b[0m \u001b[0mdtype\u001b[0m\u001b[1;33m.\u001b[0m\u001b[0mkeys\u001b[0m\u001b[1;33m(\u001b[0m\u001b[1;33m)\u001b[0m\u001b[1;33m:\u001b[0m\u001b[1;33m\u001b[0m\u001b[1;33m\u001b[0m\u001b[0m\n\u001b[0;32m   5790\u001b[0m                 \u001b[1;32mif\u001b[0m \u001b[0mcol_name\u001b[0m \u001b[1;32mnot\u001b[0m \u001b[1;32min\u001b[0m \u001b[0mself\u001b[0m\u001b[1;33m:\u001b[0m\u001b[1;33m\u001b[0m\u001b[1;33m\u001b[0m\u001b[0m\n\u001b[1;32m-> 5791\u001b[1;33m                     raise KeyError(\n\u001b[0m\u001b[0;32m   5792\u001b[0m                         \u001b[1;34m\"Only a column name can be used for the \"\u001b[0m\u001b[1;33m\u001b[0m\u001b[1;33m\u001b[0m\u001b[0m\n\u001b[0;32m   5793\u001b[0m                         \u001b[1;34m\"key in a dtype mappings argument.\"\u001b[0m\u001b[1;33m\u001b[0m\u001b[1;33m\u001b[0m\u001b[0m\n",
      "\u001b[1;31mKeyError\u001b[0m: 'Only a column name can be used for the key in a dtype mappings argument.'"
     ]
    }
   ],
   "source": [
    "# continous 값은 lgbm에서 classification 할 수 없음\n",
    "# conver 'float' to 'int'\n",
    "input_data = input_data.astype({'monthly_gain_label' : 'int'})\n",
    "processed_data = processed_data.astype({'monthly_gain_label' : 'int'})\n",
    "input_data.head()"
   ]
  },
  {
   "cell_type": "code",
   "execution_count": 86,
   "id": "2f1665cf",
   "metadata": {},
   "outputs": [
    {
     "name": "stderr",
     "output_type": "stream",
     "text": [
      "C:\\Users\\Hyeongbin\\anaconda3\\lib\\site-packages\\seaborn\\distributions.py:2619: FutureWarning: `distplot` is a deprecated function and will be removed in a future version. Please adapt your code to use either `displot` (a figure-level function with similar flexibility) or `histplot` (an axes-level function for histograms).\n",
      "  warnings.warn(msg, FutureWarning)\n"
     ]
    },
    {
     "name": "stdout",
     "output_type": "stream",
     "text": [
      "Skewness: 1.625583\n",
      "Kurtosis: 2.120508\n"
     ]
    },
    {
     "name": "stderr",
     "output_type": "stream",
     "text": [
      "C:\\Users\\Hyeongbin\\anaconda3\\lib\\site-packages\\matplotlib\\backends\\backend_agg.py:240: RuntimeWarning: Glyph 8722 missing from current font.\n",
      "  font.set_text(s, 0.0, flags=flags)\n",
      "C:\\Users\\Hyeongbin\\anaconda3\\lib\\site-packages\\matplotlib\\backends\\backend_agg.py:203: RuntimeWarning: Glyph 8722 missing from current font.\n",
      "  font.set_text(s, 0, flags=flags)\n"
     ]
    },
    {
     "data": {
      "image/png": "[encoded data removed]",
      "text/plain": [
       "<Figure size 1080x576 with 1 Axes>"
      ]
     },
     "metadata": {
      "needs_background": "light"
     },
     "output_type": "display_data"
    }
   ],
   "source": [
    "ax = plt.subplots()\n",
    "ax = sns.distplot(input_data['monthly_gain_label'], hist = True)\n",
    "ax.set_title('Monthly gain Histogram with Density Plot')\n",
    "\n",
    "print(\"Skewness: %f\" % input_data['monthly_gain_label'].skew())\n",
    "print(\"Kurtosis: %f\" % input_data['monthly_gain_label'].kurt())"
   ]
  },
  {
   "cell_type": "code",
   "execution_count": 25,
   "id": "0eab8ebf",
   "metadata": {},
   "outputs": [],
   "source": [
    "# outlier data 시험을 위해 input_data를 잠시 다른 변수 original data에.. \n",
    "original_data = input_data \n",
    "input_data = processed_data\n",
    "\n",
    "input_data_y = input_data['monthly_gain_label'].copy()\n",
    "input_data_X = input_data.drop(['monthly_gain_label', 'monthly_gain'], axis=1)"
   ]
  },
  {
   "cell_type": "code",
   "execution_count": 27,
   "id": "f42ec416",
   "metadata": {},
   "outputs": [],
   "source": [
    "from sklearn.model_selection import train_test_split, cross_validate, StratifiedKFold, GridSearchCV\n",
    "from sklearn.metrics import accuracy_score, classification_report, confusion_matrix, f1_score\n",
    "\n",
    "from lightgbm import LGBMClassifier\n",
    "from lightgbm import plot_importance \n",
    "from xgboost import XGBClassifier\n",
    "from xgboost import plot_importance\n",
    "\n",
    "from keras.callbacks import EarlyStopping, ModelCheckpoint"
   ]
  },
  {
   "cell_type": "code",
   "execution_count": 28,
   "id": "391ace80",
   "metadata": {},
   "outputs": [],
   "source": [
    "# train/ test data로 split \n",
    "train_X, test_X, train_y, test_y = train_test_split(\n",
    "    input_data_X, \n",
    "    input_data_y, \n",
    "    test_size = 0.2, \n",
    "    random_state = 42,\n",
    "    shuffle=True,\n",
    "    stratify = input_data_y\n",
    ")  "
   ]
  },
  {
   "cell_type": "code",
   "execution_count": 29,
   "id": "4bb1ea5f",
   "metadata": {},
   "outputs": [],
   "source": [
    "# Learning task parameters\n",
    "# multi:softmax : softmax를 이용한 다중 클래스 분류 \n",
    "# multi:softptob : softmax를 이용한 다중 클래스에 대한 예상 확률 반환 \n",
    "# mlogloss : multiclass logloss \n",
    "model_xgb = XGBClassifier(\n",
    "    eval_metric='mlogloss')\n",
    "model_lgbm = LGBMClassifier(\n",
    "    eval_metric='mlogloss')"
   ]
  },
  {
   "cell_type": "code",
   "execution_count": 30,
   "id": "ada23d67",
   "metadata": {},
   "outputs": [
    {
     "name": "stdout",
     "output_type": "stream",
     "text": [
      "1 번째 iteration\n",
      "train: : 1437119   //  valid : 718560\n"
     ]
    },
    {
     "name": "stderr",
     "output_type": "stream",
     "text": [
      "C:\\Users\\Hyeongbin\\anaconda3\\lib\\site-packages\\xgboost\\sklearn.py:888: UserWarning: The use of label encoder in XGBClassifier is deprecated and will be removed in a future release. To remove this warning, do the following: 1) Pass option use_label_encoder=False when constructing XGBClassifier object; and 2) Encode your labels (y) as integers starting with 0, i.e. 0, 1, 2, ..., [num_class - 1].\n",
      "  warnings.warn(label_encoder_deprecation_msg, UserWarning)\n"
     ]
    },
    {
     "name": "stdout",
     "output_type": "stream",
     "text": [
      "Validation f1 score  0.583261\n",
      "2 번째 iteration\n",
      "train: : 1437119   //  valid : 718560\n"
     ]
    },
    {
     "name": "stderr",
     "output_type": "stream",
     "text": [
      "C:\\Users\\Hyeongbin\\anaconda3\\lib\\site-packages\\xgboost\\sklearn.py:888: UserWarning: The use of label encoder in XGBClassifier is deprecated and will be removed in a future release. To remove this warning, do the following: 1) Pass option use_label_encoder=False when constructing XGBClassifier object; and 2) Encode your labels (y) as integers starting with 0, i.e. 0, 1, 2, ..., [num_class - 1].\n",
      "  warnings.warn(label_encoder_deprecation_msg, UserWarning)\n"
     ]
    },
    {
     "name": "stdout",
     "output_type": "stream",
     "text": [
      "Validation f1 score  0.584275\n",
      "3 번째 iteration\n",
      "train: : 1437120   //  valid : 718559\n"
     ]
    },
    {
     "name": "stderr",
     "output_type": "stream",
     "text": [
      "C:\\Users\\Hyeongbin\\anaconda3\\lib\\site-packages\\xgboost\\sklearn.py:888: UserWarning: The use of label encoder in XGBClassifier is deprecated and will be removed in a future release. To remove this warning, do the following: 1) Pass option use_label_encoder=False when constructing XGBClassifier object; and 2) Encode your labels (y) as integers starting with 0, i.e. 0, 1, 2, ..., [num_class - 1].\n",
      "  warnings.warn(label_encoder_deprecation_msg, UserWarning)\n"
     ]
    },
    {
     "name": "stdout",
     "output_type": "stream",
     "text": [
      "Validation f1 score  0.583263\n",
      "Cross Validation Score : 0.5836\n"
     ]
    }
   ],
   "source": [
    "skfold = StratifiedKFold(n_splits=3, shuffle=True, random_state = 7)\n",
    "val_scores = []\n",
    "\n",
    "for i, (train_idx, valid_idx) in enumerate(skfold.split(train_X, train_y)) :\n",
    "    X_train, y_train = train_X.iloc[list(train_idx)], train_y.iloc[list(train_idx)]\n",
    "    X_valid, y_valid = train_X.iloc[list(valid_idx)], train_y.iloc[list(valid_idx)]\n",
    "    \n",
    "    print(i+1, \"번째 iteration\")\n",
    "    print(f\"train: : {len(train_idx)}   //  valid : {len(valid_idx)}\")\n",
    "    \n",
    "    model_xgb.fit(X_train, y_train)\n",
    "    pred_xgb = model_xgb.predict(X_valid)\n",
    "    score = f1_score(y_valid, pred_xgb, average='micro')\n",
    "    \n",
    "    print(\"Validation f1 score {: .6f}\".format(score))\n",
    "    val_scores.append(score)\n",
    "\n",
    "print(\"Cross Validation Score : {:.4f}\".format(np.mean(val_scores)))"
   ]
  },
  {
   "cell_type": "code",
   "execution_count": 31,
   "id": "4811955d",
   "metadata": {},
   "outputs": [
    {
     "ename": "NameError",
     "evalue": "name 'valid_X' is not defined",
     "output_type": "error",
     "traceback": [
      "\u001b[1;31m---------------------------------------------------------------------------\u001b[0m",
      "\u001b[1;31mNameError\u001b[0m                                 Traceback (most recent call last)",
      "\u001b[1;32mC:\\Users\\HYEONG~1\\AppData\\Local\\Temp/ipykernel_19904/453759148.py\u001b[0m in \u001b[0;36m<module>\u001b[1;34m\u001b[0m\n\u001b[1;32m----> 1\u001b[1;33m \u001b[0mmodel_lgbm\u001b[0m\u001b[1;33m.\u001b[0m\u001b[0mfit\u001b[0m\u001b[1;33m(\u001b[0m\u001b[0mtrain_X\u001b[0m\u001b[1;33m,\u001b[0m \u001b[0mtrain_y\u001b[0m\u001b[1;33m,\u001b[0m \u001b[0meval_set\u001b[0m\u001b[1;33m=\u001b[0m\u001b[1;33m[\u001b[0m\u001b[1;33m(\u001b[0m\u001b[0mvalid_X\u001b[0m\u001b[1;33m,\u001b[0m \u001b[0mvalid_y\u001b[0m\u001b[1;33m)\u001b[0m\u001b[1;33m]\u001b[0m\u001b[1;33m)\u001b[0m\u001b[1;33m\u001b[0m\u001b[1;33m\u001b[0m\u001b[0m\n\u001b[0m",
      "\u001b[1;31mNameError\u001b[0m: name 'valid_X' is not defined"
     ]
    }
   ],
   "source": [
    "model_lgbm.fit(train_X, train_y, eval_set=[(valid_X, valid_y)])"
   ]
  },
  {
   "cell_type": "code",
   "execution_count": 32,
   "id": "ddedfe6a",
   "metadata": {},
   "outputs": [],
   "source": [
    "pred_xgb = model_xgb.predict(test_X)\n",
    "#pred_lgbm = model_lgbm.predict(test_X)"
   ]
  },
  {
   "cell_type": "markdown",
   "id": "0201440a",
   "metadata": {},
   "source": [
    "# 6. Evaluation"
   ]
  },
  {
   "cell_type": "code",
   "execution_count": 21,
   "id": "4e53e2b3",
   "metadata": {},
   "outputs": [],
   "source": [
    "def show_pred(test_y, pred) :\n",
    "    true_y = test_y.to_numpy()\n",
    "    true_y = np.ravel(true_y)\n",
    "    \n",
    "    df_result = pd.DataFrame(list(zip(true_y, pred)), columns=['true_y', 'prediction'])\n",
    "    return df_result\n",
    "    \n",
    "def show_prediction_error(test_y, pred) :\n",
    "    true_y = test_y.to_numpy()\n",
    "    true_y = np.ravel(true_y)\n",
    "    error = pred - true_y\n",
    "    plt.hist(error, bins=25)\n",
    "    plt.xlabel(\"Prediction Error\")\n",
    "    _ = plt.ylabel(\"Count\")\n",
    "    \n",
    "def feature_importance(model_xgb) : \n",
    "    %matplotlib inline\n",
    "    plt.rcParams['axes.unicode_minus'] = False\n",
    "    font_path = \"C:/Windows/Fonts/NGULIM.TTF\"\n",
    "    font = fm.FontProperties(fname=font_path).get_name()\n",
    "    rc('font', family=font)\n",
    "\n",
    "    fig, ax = plt.subplots(figsize=(10,12))\n",
    "    plot_importance(model_xgb, ax=ax)\n",
    "    \n",
    "def graph(pred, test_label) :\n",
    "    plt.figure(figsize=(16, 9))\n",
    "    plt.plot(test_label, label = 'actual')\n",
    "    plt.plot(pred, label = 'prediction')\n",
    "    plt.legend()\n",
    "    plt.show()\n",
    "\n",
    "def classification_report_csv(report) : \n",
    "    df = pd.DataFrame(report).transpose()\n",
    "    df.to_csv('classfication_report.csv', index=False)"
   ]
  },
  {
   "cell_type": "markdown",
   "id": "bb339325",
   "metadata": {},
   "source": [
    "- precision(정밀도) : True -> True \n",
    "- Recall(재현율) : True인 것을 맞춘 비율 \n",
    "- F1 score : precision 과 recall의 조화평균  "
   ]
  },
  {
   "cell_type": "code",
   "execution_count": 33,
   "id": "89def36c",
   "metadata": {},
   "outputs": [
    {
     "name": "stdout",
     "output_type": "stream",
     "text": [
      "              precision    recall  f1-score   support\n",
      "\n",
      "   2200000.0       0.78      0.21      0.33     22760\n",
      "   2900000.0       1.00      0.50      0.67         2\n",
      "   3200000.0       0.60      0.37      0.46      4910\n",
      "   3300000.0       0.62      0.10      0.17     15917\n",
      "   3500000.0       0.59      0.17      0.26      9413\n",
      "   3700000.0       0.64      0.32      0.43     12738\n",
      "   4200000.0       0.80      0.80      0.80         5\n",
      "   5200000.0       0.54      0.27      0.36      6527\n",
      "   5700000.0       0.62      0.31      0.41     27195\n",
      "   5800000.0       0.57      0.16      0.25     10681\n",
      "   6100000.0       0.58      0.35      0.43       686\n",
      "   6400000.0       0.59      0.97      0.74     45519\n",
      "   6600000.0       0.55      0.43      0.49      1245\n",
      "   6800000.0       0.67      1.00      0.80         2\n",
      "   7400000.0       0.62      0.60      0.61     23573\n",
      "   7500000.0       0.55      0.97      0.71     31834\n",
      "   8000000.0       0.57      0.22      0.32      4174\n",
      "   8500000.0       0.56      0.28      0.37      6566\n",
      "   8700000.0       0.55      0.94      0.69     18826\n",
      "   9000000.0       0.58      0.91      0.71     25477\n",
      "   9800000.0       0.58      0.80      0.67      9820\n",
      "  12000000.0       0.56      0.92      0.70     21362\n",
      "  13000000.0       0.60      0.85      0.71     13054\n",
      "  14000000.0       0.58      0.90      0.70     55761\n",
      "  16000000.0       0.57      0.45      0.51     21728\n",
      "  17000000.0       0.49      0.01      0.02     12653\n",
      "  18000000.0       0.57      0.88      0.69     24374\n",
      "  19000000.0       0.50      0.05      0.09      8868\n",
      "  20000000.0       0.46      0.04      0.08      7013\n",
      "  24000000.0       0.54      0.12      0.20      7536\n",
      "  27000000.0       0.64      0.76      0.69     40115\n",
      "  29000000.0       0.49      0.23      0.32      4282\n",
      "  30000000.0       0.50      0.06      0.10     19167\n",
      "  31000000.0       0.52      0.13      0.21      2962\n",
      "  36000000.0       0.49      0.08      0.13      9559\n",
      "  48000000.0       0.47      0.05      0.10     12616\n",
      "\n",
      "    accuracy                           0.58    538920\n",
      "   macro avg       0.59      0.45      0.44    538920\n",
      "weighted avg       0.58      0.58      0.52    538920\n",
      "\n"
     ]
    },
    {
     "ename": "NameError",
     "evalue": "name 'classification_report_csv' is not defined",
     "output_type": "error",
     "traceback": [
      "\u001b[1;31m---------------------------------------------------------------------------\u001b[0m",
      "\u001b[1;31mNameError\u001b[0m                                 Traceback (most recent call last)",
      "\u001b[1;32mC:\\Users\\HYEONG~1\\AppData\\Local\\Temp/ipykernel_19904/4267336468.py\u001b[0m in \u001b[0;36m<module>\u001b[1;34m\u001b[0m\n\u001b[0;32m      2\u001b[0m \u001b[0mprint\u001b[0m\u001b[1;33m(\u001b[0m\u001b[0mclassification_report\u001b[0m\u001b[1;33m(\u001b[0m\u001b[0mtest_y\u001b[0m\u001b[1;33m,\u001b[0m \u001b[0mpred_xgb\u001b[0m\u001b[1;33m)\u001b[0m\u001b[1;33m)\u001b[0m\u001b[1;33m\u001b[0m\u001b[1;33m\u001b[0m\u001b[0m\n\u001b[0;32m      3\u001b[0m \u001b[1;33m\u001b[0m\u001b[0m\n\u001b[1;32m----> 4\u001b[1;33m \u001b[0mclassification_report_csv\u001b[0m\u001b[1;33m(\u001b[0m\u001b[0mreport\u001b[0m\u001b[1;33m)\u001b[0m\u001b[1;33m\u001b[0m\u001b[1;33m\u001b[0m\u001b[0m\n\u001b[0m",
      "\u001b[1;31mNameError\u001b[0m: name 'classification_report_csv' is not defined"
     ]
    }
   ],
   "source": [
    "report = classification_report(test_y, pred_xgb, output_dict=True)\n",
    "print(classification_report(test_y, pred_xgb))\n",
    "\n",
    "classification_report_csv(report)"
   ]
  },
  {
   "cell_type": "code",
   "execution_count": 113,
   "id": "41d7fb22",
   "metadata": {
    "scrolled": false
   },
   "outputs": [
    {
     "name": "stdout",
     "output_type": "stream",
     "text": [
      "              precision    recall  f1-score   support\n",
      "\n",
      "           0       0.33      0.25      0.28    146388\n",
      "     4200000       0.00      0.00      0.00         5\n",
      "     6400000       0.46      0.65      0.54     45519\n",
      "     7500000       0.16      0.03      0.05     31834\n",
      "     8700000       0.24      0.52      0.33     18826\n",
      "     9000000       0.36      0.48      0.42     25476\n",
      "     9800000       0.46      0.44      0.45      9820\n",
      "    12000000       0.41      0.39      0.40     21362\n",
      "    13000000       0.48      0.44      0.46     13057\n",
      "    14000000       0.45      0.45      0.45     55761\n",
      "    16000000       0.29      0.34      0.31     10838\n",
      "    18000000       0.45      0.47      0.46     24374\n",
      "    27000000       0.22      0.11      0.15     35903\n",
      "    35000000       0.25      0.12      0.16     15917\n",
      "    40000000       0.38      0.27      0.32     22760\n",
      "    43000000       0.34      0.21      0.26     12738\n",
      "    44000000       0.28      0.19      0.23      9413\n",
      "    51000000       0.31      0.25      0.28     10681\n",
      "    61000000       0.11      0.17      0.13      6527\n",
      "    63000000       0.01      0.30      0.02       686\n",
      "    65000000       0.24      0.39      0.30      4174\n",
      "    67000000       0.35      0.28      0.31     27195\n",
      "    68000000       0.22      0.45      0.30      4910\n",
      "    78000000       0.29      0.28      0.28      6566\n",
      "    79000000       0.33      0.35      0.34      5621\n",
      "    81000000       0.15      0.25      0.18      1245\n",
      "   108000000       0.25      0.63      0.36     17952\n",
      "\n",
      "    accuracy                           0.33    585548\n",
      "   macro avg       0.29      0.32      0.29    585548\n",
      "weighted avg       0.34      0.33      0.32    585548\n",
      "\n"
     ]
    }
   ],
   "source": [
    "report = classification_report(test_y, pred_lgbm, output_dict=True)\n",
    "print(classification_report(test_y, pred_lgbm))\n",
    "\n",
    "classification_report_csv(report)"
   ]
  },
  {
   "cell_type": "code",
   "execution_count": 39,
   "id": "bd11588d",
   "metadata": {},
   "outputs": [
    {
     "data": {
      "text/html": [
       "<div>\n",
       "<style scoped>\n",
       "    .dataframe tbody tr th:only-of-type {\n",
       "        vertical-align: middle;\n",
       "    }\n",
       "\n",
       "    .dataframe tbody tr th {\n",
       "        vertical-align: top;\n",
       "    }\n",
       "\n",
       "    .dataframe thead th {\n",
       "        text-align: right;\n",
       "    }\n",
       "</style>\n",
       "<table border=\"1\" class=\"dataframe\">\n",
       "  <thead>\n",
       "    <tr style=\"text-align: right;\">\n",
       "      <th></th>\n",
       "      <th>true_y</th>\n",
       "      <th>prediction</th>\n",
       "    </tr>\n",
       "  </thead>\n",
       "  <tbody>\n",
       "    <tr>\n",
       "      <th>0</th>\n",
       "      <td>0</td>\n",
       "      <td>9033762</td>\n",
       "    </tr>\n",
       "    <tr>\n",
       "      <th>1</th>\n",
       "      <td>6398832</td>\n",
       "      <td>6398832</td>\n",
       "    </tr>\n",
       "    <tr>\n",
       "      <th>2</th>\n",
       "      <td>17865797</td>\n",
       "      <td>17865797</td>\n",
       "    </tr>\n",
       "    <tr>\n",
       "      <th>3</th>\n",
       "      <td>0</td>\n",
       "      <td>0</td>\n",
       "    </tr>\n",
       "    <tr>\n",
       "      <th>4</th>\n",
       "      <td>27178602</td>\n",
       "      <td>27178602</td>\n",
       "    </tr>\n",
       "    <tr>\n",
       "      <th>...</th>\n",
       "      <td>...</td>\n",
       "      <td>...</td>\n",
       "    </tr>\n",
       "    <tr>\n",
       "      <th>585543</th>\n",
       "      <td>14123414</td>\n",
       "      <td>14123414</td>\n",
       "    </tr>\n",
       "    <tr>\n",
       "      <th>585544</th>\n",
       "      <td>68311513</td>\n",
       "      <td>68311513</td>\n",
       "    </tr>\n",
       "    <tr>\n",
       "      <th>585545</th>\n",
       "      <td>14123414</td>\n",
       "      <td>14123414</td>\n",
       "    </tr>\n",
       "    <tr>\n",
       "      <th>585546</th>\n",
       "      <td>0</td>\n",
       "      <td>17865797</td>\n",
       "    </tr>\n",
       "    <tr>\n",
       "      <th>585547</th>\n",
       "      <td>18101518</td>\n",
       "      <td>18101518</td>\n",
       "    </tr>\n",
       "  </tbody>\n",
       "</table>\n",
       "<p>585548 rows × 2 columns</p>\n",
       "</div>"
      ],
      "text/plain": [
       "          true_y  prediction\n",
       "0              0     9033762\n",
       "1        6398832     6398832\n",
       "2       17865797    17865797\n",
       "3              0           0\n",
       "4       27178602    27178602\n",
       "...          ...         ...\n",
       "585543  14123414    14123414\n",
       "585544  68311513    68311513\n",
       "585545  14123414    14123414\n",
       "585546         0    17865797\n",
       "585547  18101518    18101518\n",
       "\n",
       "[585548 rows x 2 columns]"
      ]
     },
     "execution_count": 39,
     "metadata": {},
     "output_type": "execute_result"
    }
   ],
   "source": [
    "show_pred(test_y, pred_xgb)"
   ]
  },
  {
   "cell_type": "code",
   "execution_count": 40,
   "id": "d14d900d",
   "metadata": {},
   "outputs": [
    {
     "data": {
      "text/html": [
       "<div>\n",
       "<style scoped>\n",
       "    .dataframe tbody tr th:only-of-type {\n",
       "        vertical-align: middle;\n",
       "    }\n",
       "\n",
       "    .dataframe tbody tr th {\n",
       "        vertical-align: top;\n",
       "    }\n",
       "\n",
       "    .dataframe thead th {\n",
       "        text-align: right;\n",
       "    }\n",
       "</style>\n",
       "<table border=\"1\" class=\"dataframe\">\n",
       "  <thead>\n",
       "    <tr style=\"text-align: right;\">\n",
       "      <th></th>\n",
       "      <th>true_y</th>\n",
       "      <th>prediction</th>\n",
       "    </tr>\n",
       "  </thead>\n",
       "  <tbody>\n",
       "    <tr>\n",
       "      <th>0</th>\n",
       "      <td>0</td>\n",
       "      <td>39939730</td>\n",
       "    </tr>\n",
       "    <tr>\n",
       "      <th>1</th>\n",
       "      <td>6398832</td>\n",
       "      <td>39939730</td>\n",
       "    </tr>\n",
       "    <tr>\n",
       "      <th>2</th>\n",
       "      <td>17865797</td>\n",
       "      <td>17865797</td>\n",
       "    </tr>\n",
       "    <tr>\n",
       "      <th>3</th>\n",
       "      <td>0</td>\n",
       "      <td>39939730</td>\n",
       "    </tr>\n",
       "    <tr>\n",
       "      <th>4</th>\n",
       "      <td>27178602</td>\n",
       "      <td>39939730</td>\n",
       "    </tr>\n",
       "    <tr>\n",
       "      <th>...</th>\n",
       "      <td>...</td>\n",
       "      <td>...</td>\n",
       "    </tr>\n",
       "    <tr>\n",
       "      <th>585543</th>\n",
       "      <td>14123414</td>\n",
       "      <td>14123414</td>\n",
       "    </tr>\n",
       "    <tr>\n",
       "      <th>585544</th>\n",
       "      <td>68311513</td>\n",
       "      <td>39939730</td>\n",
       "    </tr>\n",
       "    <tr>\n",
       "      <th>585545</th>\n",
       "      <td>14123414</td>\n",
       "      <td>39939730</td>\n",
       "    </tr>\n",
       "    <tr>\n",
       "      <th>585546</th>\n",
       "      <td>0</td>\n",
       "      <td>17865797</td>\n",
       "    </tr>\n",
       "    <tr>\n",
       "      <th>585547</th>\n",
       "      <td>18101518</td>\n",
       "      <td>18101518</td>\n",
       "    </tr>\n",
       "  </tbody>\n",
       "</table>\n",
       "<p>585548 rows × 2 columns</p>\n",
       "</div>"
      ],
      "text/plain": [
       "          true_y  prediction\n",
       "0              0    39939730\n",
       "1        6398832    39939730\n",
       "2       17865797    17865797\n",
       "3              0    39939730\n",
       "4       27178602    39939730\n",
       "...          ...         ...\n",
       "585543  14123414    14123414\n",
       "585544  68311513    39939730\n",
       "585545  14123414    39939730\n",
       "585546         0    17865797\n",
       "585547  18101518    18101518\n",
       "\n",
       "[585548 rows x 2 columns]"
      ]
     },
     "execution_count": 40,
     "metadata": {},
     "output_type": "execute_result"
    }
   ],
   "source": [
    "show_pred(test_y, pred_lgbm)"
   ]
  },
  {
   "cell_type": "code",
   "execution_count": 437,
   "id": "928c243c",
   "metadata": {},
   "outputs": [
    {
     "name": "stderr",
     "output_type": "stream",
     "text": [
      "C:\\Users\\Hyeongbin\\anaconda3\\lib\\site-packages\\matplotlib\\backends\\backend_agg.py:240: RuntimeWarning: Glyph 8722 missing from current font.\n",
      "  font.set_text(s, 0.0, flags=flags)\n",
      "C:\\Users\\Hyeongbin\\anaconda3\\lib\\site-packages\\matplotlib\\backends\\backend_agg.py:203: RuntimeWarning: Glyph 8722 missing from current font.\n",
      "  font.set_text(s, 0, flags=flags)\n"
     ]
    },
    {
     "data": {
      "image/png": "[encoded data removed]",
      "text/plain": [
       "<Figure size 1080x576 with 1 Axes>"
      ]
     },
     "metadata": {
      "needs_background": "light"
     },
     "output_type": "display_data"
    }
   ],
   "source": [
    "show_prediction_error(test_y, pred_xgb)"
   ]
  },
  {
   "cell_type": "code",
   "execution_count": 438,
   "id": "2df0c243",
   "metadata": {},
   "outputs": [
    {
     "data": {
      "image/png": "[encoded data removed]",
      "text/plain": [
       "<Figure size 1080x576 with 1 Axes>"
      ]
     },
     "metadata": {
      "needs_background": "light"
     },
     "output_type": "display_data"
    }
   ],
   "source": [
    "show_prediction_error(test_y, pred_lgbm)"
   ]
  },
  {
   "cell_type": "code",
   "execution_count": null,
   "id": "756228fa",
   "metadata": {},
   "outputs": [],
   "source": [
    "feature_series = pd.Series(data=model_xgb.feature_importances_, index=train_X.columns)\n",
    "feature_series = feature_series.sort_values(ascending=False) \n",
    "sns.barplot(x = feature_series, y=feature_series.index)"
   ]
  },
  {
   "cell_type": "code",
   "execution_count": null,
   "id": "2b062d60",
   "metadata": {},
   "outputs": [],
   "source": [
    "feature_series = pd.Series(data=model_lgbm.feature_importances_, index=train_X.columns)\n",
    "feature_series = feature_series.sort_values(ascending=False) \n",
    "sns.barplot(x = feature_series, y=feature_series.index)"
   ]
  },
  {
   "cell_type": "code",
   "execution_count": null,
   "id": "bd3cac1a",
   "metadata": {},
   "outputs": [],
   "source": []
  }
 ],
 "metadata": {
  "kernelspec": {
   "display_name": "base",
   "language": "python",
   "name": "base"
  },
  "language_info": {
   "codemirror_mode": {
    "name": "ipython",
    "version": 3
   },
   "file_extension": ".py",
   "mimetype": "text/x-python",
   "name": "python",
   "nbconvert_exporter": "python",
   "pygments_lexer": "ipython3",
   "version": "3.8.12"
  }
 },
 "nbformat": 4,
 "nbformat_minor": 5
}
