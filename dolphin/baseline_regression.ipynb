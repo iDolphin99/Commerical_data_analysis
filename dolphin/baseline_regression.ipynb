{
 "cells": [
  {
   "cell_type": "markdown",
   "id": "23d7d438",
   "metadata": {},
   "source": [
    "# 1. Data Load"
   ]
  },
  {
   "cell_type": "code",
   "execution_count": 1,
   "id": "f65e8299",
   "metadata": {},
   "outputs": [],
   "source": [
    "import numpy as np\n",
    "import pandas as pd\n",
    "\n",
    "from scipy import stats #Analysis \n",
    "from scipy.stats import norm # Analysis\n",
    "import seaborn as sns\n",
    "import matplotlib.pyplot as plt\n",
    "from matplotlib import rcParams\n",
    "%matplotlib inline\n",
    "#%matplotlib tk\n",
    "\n",
    "#import matplotlib \n",
    "#matplotlib.font_manager._rebuild()"
   ]
  },
  {
   "cell_type": "code",
   "execution_count": 2,
   "id": "9ef4a9e7",
   "metadata": {},
   "outputs": [],
   "source": [
    "# 한글 폰트가 깨지면 실행하세요! \n",
    "import matplotlib.font_manager as fm\n",
    "fontlist = fm.findSystemFonts(fontpaths = None, fontext='ttf')\n",
    "# 아래 주석을 지워서 폰트 리스트를 확인하고 한글 폰트를 font_path에 추가합니다\n",
    "fontlist[:]\n",
    "\n",
    "from matplotlib import font_manager, rc\n",
    "#font_path = 'C:\\\\Users\\\\mtang\\\\AppData\\\\Local\\\\Microsoft\\\\Windows\\\\Fonts\\\\NanumSquare.ttf'\n",
    "font_path = 'C:\\\\WINDOWS\\\\Fonts\\\\NanumGothicLight.ttf'\n",
    "font = font_manager.FontProperties(fname=font_path).get_name()\n",
    "rc('font', family=font)"
   ]
  },
  {
   "cell_type": "code",
   "execution_count": null,
   "id": "175a42b3",
   "metadata": {},
   "outputs": [],
   "source": [
    "path = \"./Dataset/\"\n",
    "\n",
    "data = pd.read_csv(path+\"kwproja_data.csv\")\n",
    "data # original data -> data"
   ]
  },
  {
   "cell_type": "markdown",
   "id": "1eecf56c",
   "metadata": {},
   "source": [
    "# 2. EDA \n",
    "\n",
    "##### EDA 자세한 내용들은 eda_report_code에 포함되어 있음\n",
    "\n",
    "153395 rows X 31 columns\n",
    "\n",
    "- 매장 속성 정보\n",
    "  - shop_code -> 식별자 feature, input feature로는 사용하지 않지만 분류를 위해서는 사용할 수 있을 것 같음  \n",
    "  - shop_name -> input feature로는 사용하지 않음 (NLP deep learning 가능성 있음)\n",
    "  - longtitude : 경도, latitude : 위도 -> 매장 위치 (회사 근처, 학교 근처 등 매출 영향성 있음) -> 군집화, labeling 필요\n",
    "  - shop_type_big -> 13 category  -> 업종 (매출 영향성 있음)\n",
    "  - shop_type_small -> 367 category\n",
    "\n",
    "- 매출 정보\n",
    "  - date -> 12 category, 201702~ 201801 까지의 data\n",
    "  - monthly_gain / avearge_sale_price = 한달 총 판매수\n",
    "\n",
    "- 매출 통계 정보\n",
    "  - weekday0~6 : 일 ~ 월\n",
    "  - time -> 05_10 / 10_14 / 14_18 / 18_20 / 20_22 / 22_24 / 24_05 => 시간대가 동일하지 않음\n",
    "    - 새벽대는 찾는 손님 적어 시간 길게 잡았을 것\n",
    "    - 저녁 시간대는 가장 매출이 많이 이뤄지는 prime time 이라 시간대를 짧게 잡았을 것\n",
    "  - female/male : 20/30/40/50 -> 8 columns\n",
    "\n",
    "##### monthly_gain과 average_sale_price 중 어느 것을 y값으로 둘 것인가? \n",
    "- 월매출 예측 문제로 가정하고 montly_gain 을 y값으로 예측하는 모델 만들기\n",
    "\n",
    "##### shop_code는 input feature에 넣어야 하는가?\n",
    "- 특별한 브랜드가 y값을 결정하는 과적합 요소가 될 수 있으므로\n",
    "- X 에서 shop code, shop name 제외하는 것도 방법\n",
    "- 어느 위치에 어떤 업종으로 어떤 객단가인 매장을 오픈하면 월매출이 어떻게 될까? 문제\n",
    " - X: shop type big, shop type small, longitude, latitude, avg_sale_price, \n",
    " - y: montly_gain"
   ]
  },
  {
   "cell_type": "code",
   "execution_count": 4,
   "id": "8160023d",
   "metadata": {},
   "outputs": [
    {
     "data": {
      "text/plain": [
       "Index(['date', 'shop_code', 'shop_name', 'shop_type_big', 'shop_type_small',\n",
       "       'longitude', 'latitude', 'monthly_gain', 'average_sale_price',\n",
       "       'female_20', 'female_30', 'female_40', 'female_50', 'male_20',\n",
       "       'male_30', 'male_40', 'male_50', 'weekday0', 'weekday1', 'weekday2',\n",
       "       'weekday3', 'weekday4', 'weekday5', 'weekday6', 'time_05_10',\n",
       "       'time_10_14', 'time_14_18', 'time_18_20', 'time_20_22', 'time_22_24',\n",
       "       'time_00_05'],\n",
       "      dtype='object')"
      ]
     },
     "execution_count": 4,
     "metadata": {},
     "output_type": "execute_result"
    }
   ],
   "source": [
    "data.columns"
   ]
  },
  {
   "cell_type": "code",
   "execution_count": 5,
   "id": "0e2e2b0d",
   "metadata": {},
   "outputs": [
    {
     "name": "stdout",
     "output_type": "stream",
     "text": [
      "<class 'pandas.core.frame.DataFrame'>\n",
      "RangeIndex: 153395 entries, 0 to 153394\n",
      "Data columns (total 31 columns):\n",
      " #   Column              Non-Null Count   Dtype  \n",
      "---  ------              --------------   -----  \n",
      " 0   date                153395 non-null  int64  \n",
      " 1   shop_code           153395 non-null  int64  \n",
      " 2   shop_name           153395 non-null  object \n",
      " 3   shop_type_big       148927 non-null  object \n",
      " 4   shop_type_small     148927 non-null  object \n",
      " 5   longitude           153395 non-null  float64\n",
      " 6   latitude            153395 non-null  float64\n",
      " 7   monthly_gain        153395 non-null  float64\n",
      " 8   average_sale_price  153395 non-null  int64  \n",
      " 9   female_20           153395 non-null  float64\n",
      " 10  female_30           153395 non-null  float64\n",
      " 11  female_40           153395 non-null  float64\n",
      " 12  female_50           153395 non-null  float64\n",
      " 13  male_20             153395 non-null  float64\n",
      " 14  male_30             153395 non-null  float64\n",
      " 15  male_40             153395 non-null  float64\n",
      " 16  male_50             153395 non-null  float64\n",
      " 17  weekday0            153395 non-null  float64\n",
      " 18  weekday1            153395 non-null  float64\n",
      " 19  weekday2            153395 non-null  float64\n",
      " 20  weekday3            153395 non-null  float64\n",
      " 21  weekday4            153395 non-null  float64\n",
      " 22  weekday5            153395 non-null  float64\n",
      " 23  weekday6            153395 non-null  float64\n",
      " 24  time_05_10          153395 non-null  float64\n",
      " 25  time_10_14          153395 non-null  float64\n",
      " 26  time_14_18          153395 non-null  float64\n",
      " 27  time_18_20          153395 non-null  float64\n",
      " 28  time_20_22          153395 non-null  float64\n",
      " 29  time_22_24          153395 non-null  float64\n",
      " 30  time_00_05          153395 non-null  float64\n",
      "dtypes: float64(25), int64(3), object(3)\n",
      "memory usage: 36.3+ MB\n"
     ]
    }
   ],
   "source": [
    "data.info()"
   ]
  },
  {
   "cell_type": "markdown",
   "id": "3f6c9722",
   "metadata": {},
   "source": [
    "# 3. Preprocessing\n",
    "- missing value 제거 \n",
    "    - monthly_gain : 3,605 제거 -> 149,790\n",
    "    - shop_type_big : 4,303 제거 -> 145,487 \n",
    "    - gender feature : 1,187 제거 -> 144,300\n",
    "- shop_code, shop_name : 식별자 feature 이므로 drop \n",
    "- date : 아직은 쓸 수 없으므로 drop\n",
    "    - 여기까지 총 144,300 X 27\n",
    "- shop_type_big(13), shop_type_small(367) : label encodding\n",
    "- longitude, latitude : clustering을 통해 labeling 후 해당 두 열은 drop \n",
    "- MinMaxSaclar 정규화 -> 정규화 column의 범위는??"
   ]
  },
  {
   "cell_type": "code",
   "execution_count": 6,
   "id": "746b4c66",
   "metadata": {},
   "outputs": [],
   "source": [
    "# 원본 data와 따로 관리 -> original data = data, input data = input_data \n",
    "# feature drop\n",
    "input_data = data.copy()\n",
    "input_data = input_data.drop(['date', 'shop_code', 'shop_name'], axis=1)"
   ]
  },
  {
   "cell_type": "code",
   "execution_count": 7,
   "id": "a9ad35fa",
   "metadata": {
    "scrolled": true
   },
   "outputs": [
    {
     "name": "stdout",
     "output_type": "stream",
     "text": [
      "367\n",
      "False    145487\n",
      "Name: shop_type_small, dtype: int64\n"
     ]
    }
   ],
   "source": [
    "# missing value drop - monthly_gain\n",
    "null_index = input_data[input_data['monthly_gain']==0].index \n",
    "#print(len(drop_index)) -> 3605\n",
    "input_data = input_data.drop(null_index)\n",
    "\n",
    "# missing value drop - shop_type_big\n",
    "null_index = input_data[input_data['shop_type_big'].isnull()==True].index\n",
    "input_data = input_data.drop(null_index)\n",
    "\n",
    "# There is no \"null\" in \"shop_type_small\" feature \n",
    "print(len(input_data['shop_type_small'].unique()))\n",
    "print(input_data['shop_type_small'].isnull().value_counts())\n",
    "\n",
    "# missing value drop - gender feature \n",
    "# So we finally get 144,300 x 28 data \n",
    "null_index = input_data[input_data[['female_20', 'female_30', 'female_40', 'female_50', 'male_20',\n",
    "       'male_30', 'male_40', 'male_50']].sum(axis=1)==0].index\n",
    "input_data = input_data.drop(null_index).reset_index().drop('index', axis=1)"
   ]
  },
  {
   "cell_type": "code",
   "execution_count": 8,
   "id": "8e644b8c",
   "metadata": {},
   "outputs": [
    {
     "name": "stdout",
     "output_type": "stream",
     "text": [
      "13\n",
      "['음식' '소매' '의료' '숙박' '관광/여가/오락' '학문/교육' '생활서비스' '스포츠' '도매/유통/무역' '제조'\n",
      " '부동산' '전자/정보통신' '기술서비스']\n"
     ]
    }
   ],
   "source": [
    "# issue -> shop_type_big에 관한 2번째 issue를 참고하세요!\n",
    "# issue -> '음식'과 '음식 ' 두 개로 count 되고 있습니다. 아래 코드로 수정하시길 바랍니다\n",
    "input_data.loc[input_data['shop_type_big'] == '음식 ', 'shop_type_big'] = '음식'\n",
    "print(input_data['shop_type_big'].nunique())\n",
    "print(input_data['shop_type_big'].unique())"
   ]
  },
  {
   "cell_type": "code",
   "execution_count": 9,
   "id": "bb83a47b",
   "metadata": {},
   "outputs": [],
   "source": [
    "# LabelEncoder\n",
    "from sklearn.preprocessing import LabelEncoder\n",
    "\n",
    "le = LabelEncoder()\n",
    "input_data['shop_type_big'] = le.fit_transform(list(input_data['shop_type_big']))   # fit transform으로 한번에 처리 가능\n",
    "#le.classes_\n",
    "\n",
    "le = LabelEncoder()\n",
    "input_data['shop_type_small'] = le.fit_transform(list(input_data['shop_type_small'])) \n",
    "#le.classes_"
   ]
  },
  {
   "cell_type": "code",
   "execution_count": 10,
   "id": "236323b6",
   "metadata": {},
   "outputs": [
    {
     "name": "stdout",
     "output_type": "stream",
     "text": [
      "[[ 37.55455088 126.92418659]\n",
      " [ 37.52571466 127.03889087]\n",
      " [ 37.50237517 127.0257712 ]\n",
      " [ 37.56303222 126.98415949]\n",
      " [ 37.51695789 126.90563168]\n",
      " [ 37.56771376 127.00856117]\n",
      " [ 37.51214286 127.10026933]\n",
      " [ 37.52161495 127.02412801]\n",
      " [ 37.51137329 127.05951703]]\n",
      "[0 2 2 ... 8 6 6]\n"
     ]
    }
   ],
   "source": [
    "# Labeling - KMeans Clustering \n",
    "# longitude + latitude = geo \n",
    "# So we get inpute_data = 144,300 X 27\n",
    "from sklearn.cluster import KMeans\n",
    "\n",
    "kmeans = KMeans(n_clusters=9).fit(input_data[['latitude', 'longitude']])\n",
    "print(kmeans.cluster_centers_)\n",
    "print(kmeans.labels_)\n",
    "\n",
    "input_data['geo'] = kmeans.labels_\n",
    "input_data = input_data.drop(['longitude', 'latitude'], axis=1)"
   ]
  },
  {
   "cell_type": "code",
   "execution_count": null,
   "id": "de36c722",
   "metadata": {},
   "outputs": [],
   "source": [
    "# average_sale_price -> skewed 된 feature \n",
    "# log정규화 \n",
    "from sklearn.preprocessing import MinMaxScaler, RobustScaler, StandardScaler, Normalizer\n",
    "\n",
    "scale_cols = ['average_sale_price']\n",
    "\n",
    "for _ in scale_cols : \n",
    "    scaled_data = pd.DataFrame(np.log1p(input_data[_]))\n",
    "    input_data[_] = scaled_data\n",
    "\n",
    "input_data"
   ]
  },
  {
   "cell_type": "code",
   "execution_count": 12,
   "id": "24b62411",
   "metadata": {},
   "outputs": [],
   "source": [
    "# Normalization - gender, week, time, 다같이 \n",
    "# 또는 gender, week, time 각 분야끼리 scaling 하는 방식도 존재 \n",
    "# xgb 모델은 분야별로 scaling 할 때 가장 좋은 성능을 보임\n",
    "# 아직 실험 중에 있음 \n",
    "#scaler = RobustScaler()\n",
    "\n",
    "#scale_cols = ['female_20', 'female_30', 'female_40', 'female_50', 'male_20', 'male_30', 'male_40', 'male_50',\n",
    "#             'time_05_10', 'time_10_14', 'time_14_18','time_18_20', 'time_20_22', 'time_22_24', 'time_00_05',\n",
    "#             'weekday0', 'weekday1', 'weekday2','weekday3', 'weekday4', 'weekday5', 'weekday6']\n",
    "\n",
    "#scaled_data = scaler.fit_transform(input_data[scale_cols])\n",
    "#scaled_data = pd.DataFrame(np.log1p(input_data[scale_cols]))\n",
    "#input_data[scale_cols] = scaled_data\n",
    "#input_data"
   ]
  },
  {
   "cell_type": "code",
   "execution_count": 13,
   "id": "e977d128",
   "metadata": {},
   "outputs": [
    {
     "data": {
      "text/plain": [
       "<AxesSubplot:xlabel='shop_type_big', ylabel='average_sale_price'>"
      ]
     },
     "execution_count": 13,
     "metadata": {},
     "output_type": "execute_result"
    },
    {
     "data": {
      "image/png": "[encoded data removed]",
      "text/plain": [
       "<Figure size 1080x576 with 1 Axes>"
      ]
     },
     "metadata": {
      "needs_background": "light"
     },
     "output_type": "display_data"
    }
   ],
   "source": [
    "rcParams['figure.figsize'] = 15,8\n",
    "sns.boxplot(x='shop_type_big', y='average_sale_price', data=input_data)"
   ]
  },
  {
   "cell_type": "markdown",
   "id": "61d58240",
   "metadata": {},
   "source": [
    "# 4. 타겟변수 확인\n",
    "why(or when) to use log transform in ML? \n",
    "- target variable이 non-negative values 일때만 \n",
    "- outlier 값들도 사용해야 하는 경우, outliers that can't be filtered out as they are important to the model.\n",
    "- 현재 주어진 data도 좌측으로 치우쳐진 (right skewed) 형태, 굉장히 극소수의 업종들만이 굉장히 큰 매출을 만들어낼 수 있는 것으로 보임 \n",
    "- 어떤 column, feature가 가장 monthly_gain과 상관관계가 높을까요? \n",
    "- kaggle house price prediction 대회에서도 RMSE가 아닌 RMSLE를 사용함 -> log를 씌운 형태인데 target variable인 집값의 범위가 넒기 때문\n",
    "\n"
   ]
  },
  {
   "cell_type": "markdown",
   "id": "18ae68a1",
   "metadata": {},
   "source": [
    "- Skewness: The longer the right tail, the more positive the tail\n",
    "- Kurtosis (kurtosis / kurtosis): If the kurtosis value (K) is close to 3, the scatter is close to the normal distribution. (K <3), the distributions can be judged to be flattened more smoothly than the normal distribution, and if the kurtosis is a positive number larger than 3 (K> 3), the distribution can be considered to be a more pointed distribution than the normal distribution"
   ]
  },
  {
   "cell_type": "code",
   "execution_count": 14,
   "id": "3f828869",
   "metadata": {},
   "outputs": [
    {
     "name": "stdout",
     "output_type": "stream",
     "text": [
      "Skewness: 40.422145\n",
      "Kurtosis: 1959.854169\n"
     ]
    }
   ],
   "source": [
    "print(\"Skewness: %f\" % input_data['monthly_gain'].skew())\n",
    "print(\"Kurtosis: %f\" % input_data['monthly_gain'].kurt())"
   ]
  },
  {
   "cell_type": "code",
   "execution_count": 15,
   "id": "6d0e251d",
   "metadata": {},
   "outputs": [
    {
     "name": "stderr",
     "output_type": "stream",
     "text": [
      "C:\\Users\\Hyeongbin\\anaconda3\\lib\\site-packages\\seaborn\\distributions.py:2619: FutureWarning: `distplot` is a deprecated function and will be removed in a future version. Please adapt your code to use either `displot` (a figure-level function with similar flexibility) or `histplot` (an axes-level function for histograms).\n",
      "  warnings.warn(msg, FutureWarning)\n",
      "C:\\Users\\Hyeongbin\\anaconda3\\lib\\site-packages\\seaborn\\distributions.py:2619: FutureWarning: `distplot` is a deprecated function and will be removed in a future version. Please adapt your code to use either `displot` (a figure-level function with similar flexibility) or `histplot` (an axes-level function for histograms).\n",
      "  warnings.warn(msg, FutureWarning)\n",
      "C:\\Users\\Hyeongbin\\anaconda3\\lib\\site-packages\\seaborn\\distributions.py:2619: FutureWarning: `distplot` is a deprecated function and will be removed in a future version. Please adapt your code to use either `displot` (a figure-level function with similar flexibility) or `histplot` (an axes-level function for histograms).\n",
      "  warnings.warn(msg, FutureWarning)\n",
      "C:\\Users\\Hyeongbin\\anaconda3\\lib\\site-packages\\matplotlib\\backends\\backend_agg.py:240: RuntimeWarning: Glyph 8722 missing from current font.\n",
      "  font.set_text(s, 0.0, flags=flags)\n",
      "C:\\Users\\Hyeongbin\\anaconda3\\lib\\site-packages\\matplotlib\\backends\\backend_agg.py:203: RuntimeWarning: Glyph 8722 missing from current font.\n",
      "  font.set_text(s, 0, flags=flags)\n"
     ]
    },
    {
     "data": {
      "image/png": "[encoded data removed]",
      "text/plain": [
       "<Figure size 1080x360 with 3 Axes>"
      ]
     },
     "metadata": {
      "needs_background": "light"
     },
     "output_type": "display_data"
    }
   ],
   "source": [
    "plots=pd.DataFrame()\n",
    "plots['original']=input_data['monthly_gain']\n",
    "plots['transformed']=np.log1p(input_data['monthly_gain'])\n",
    "plots['backToOriginal']=np.expm1(np.log1p(input_data['monthly_gain']))\n",
    "\n",
    "fig, ax = plt.subplots(1,3,figsize=(15,5))\n",
    "sns.distplot(plots['original'], ax=ax[0]);\n",
    "sns.distplot(plots['transformed'], ax=ax[1]);\n",
    "sns.distplot(plots['backToOriginal'], ax=ax[2]);"
   ]
  },
  {
   "cell_type": "code",
   "execution_count": 16,
   "id": "099a7561",
   "metadata": {},
   "outputs": [
    {
     "name": "stderr",
     "output_type": "stream",
     "text": [
      "C:\\Users\\Hyeongbin\\anaconda3\\lib\\site-packages\\matplotlib\\backends\\backend_agg.py:240: RuntimeWarning: Glyph 8722 missing from current font.\n",
      "  font.set_text(s, 0.0, flags=flags)\n",
      "C:\\Users\\Hyeongbin\\anaconda3\\lib\\site-packages\\matplotlib\\backends\\backend_agg.py:203: RuntimeWarning: Glyph 8722 missing from current font.\n",
      "  font.set_text(s, 0, flags=flags)\n"
     ]
    },
    {
     "data": {
      "image/png": "[encoded data removed]",
      "text/plain": [
       "<Figure size 1080x720 with 2 Axes>"
      ]
     },
     "metadata": {
      "needs_background": "light"
     },
     "output_type": "display_data"
    }
   ],
   "source": [
    "fig = plt.figure(figsize = (15,10))\n",
    "\n",
    "fig.add_subplot(1,2,1)\n",
    "res = stats.probplot(input_data['monthly_gain'], plot=plt)\n",
    "\n",
    "fig.add_subplot(1,2,2)\n",
    "res = stats.probplot(np.log1p(input_data['monthly_gain']), plot=plt)"
   ]
  },
  {
   "cell_type": "markdown",
   "id": "55412fa2",
   "metadata": {},
   "source": [
    "# 5. Modeling\n",
    "- XGB\n",
    "    - 타겟변수 정규화 실행 \n",
    "- LGBM\n",
    "    - loss parameter : tweedie \n",
    "- K-Fold Cross Validation (k=5)"
   ]
  },
  {
   "cell_type": "code",
   "execution_count": 17,
   "id": "b80db5da",
   "metadata": {},
   "outputs": [
    {
     "data": {
      "text/html": [
       "<div>\n",
       "<style scoped>\n",
       "    .dataframe tbody tr th:only-of-type {\n",
       "        vertical-align: middle;\n",
       "    }\n",
       "\n",
       "    .dataframe tbody tr th {\n",
       "        vertical-align: top;\n",
       "    }\n",
       "\n",
       "    .dataframe thead th {\n",
       "        text-align: right;\n",
       "    }\n",
       "</style>\n",
       "<table border=\"1\" class=\"dataframe\">\n",
       "  <thead>\n",
       "    <tr style=\"text-align: right;\">\n",
       "      <th></th>\n",
       "      <th>shop_type_big</th>\n",
       "      <th>shop_type_small</th>\n",
       "      <th>monthly_gain</th>\n",
       "      <th>average_sale_price</th>\n",
       "      <th>female_20</th>\n",
       "      <th>female_30</th>\n",
       "      <th>female_40</th>\n",
       "      <th>female_50</th>\n",
       "      <th>male_20</th>\n",
       "      <th>male_30</th>\n",
       "      <th>...</th>\n",
       "      <th>weekday5</th>\n",
       "      <th>weekday6</th>\n",
       "      <th>time_05_10</th>\n",
       "      <th>time_10_14</th>\n",
       "      <th>time_14_18</th>\n",
       "      <th>time_18_20</th>\n",
       "      <th>time_20_22</th>\n",
       "      <th>time_22_24</th>\n",
       "      <th>time_00_05</th>\n",
       "      <th>geo</th>\n",
       "    </tr>\n",
       "  </thead>\n",
       "  <tbody>\n",
       "    <tr>\n",
       "      <th>0</th>\n",
       "      <td>8</td>\n",
       "      <td>304</td>\n",
       "      <td>5696400.00</td>\n",
       "      <td>9.21</td>\n",
       "      <td>9.58</td>\n",
       "      <td>5.43</td>\n",
       "      <td>18.68</td>\n",
       "      <td>4.63</td>\n",
       "      <td>27.62</td>\n",
       "      <td>8.89</td>\n",
       "      <td>...</td>\n",
       "      <td>11.92</td>\n",
       "      <td>6.34</td>\n",
       "      <td>1.15</td>\n",
       "      <td>72.78</td>\n",
       "      <td>23.14</td>\n",
       "      <td>2.93</td>\n",
       "      <td>0.00</td>\n",
       "      <td>0.00</td>\n",
       "      <td>0.00</td>\n",
       "      <td>0</td>\n",
       "    </tr>\n",
       "    <tr>\n",
       "      <th>1</th>\n",
       "      <td>8</td>\n",
       "      <td>346</td>\n",
       "      <td>8496120.00</td>\n",
       "      <td>9.58</td>\n",
       "      <td>5.08</td>\n",
       "      <td>12.12</td>\n",
       "      <td>9.68</td>\n",
       "      <td>8.15</td>\n",
       "      <td>9.68</td>\n",
       "      <td>9.75</td>\n",
       "      <td>...</td>\n",
       "      <td>16.35</td>\n",
       "      <td>10.82</td>\n",
       "      <td>0.83</td>\n",
       "      <td>76.82</td>\n",
       "      <td>13.25</td>\n",
       "      <td>9.09</td>\n",
       "      <td>0.00</td>\n",
       "      <td>0.00</td>\n",
       "      <td>0.00</td>\n",
       "      <td>2</td>\n",
       "    </tr>\n",
       "    <tr>\n",
       "      <th>2</th>\n",
       "      <td>8</td>\n",
       "      <td>17</td>\n",
       "      <td>103651502.50</td>\n",
       "      <td>11.19</td>\n",
       "      <td>10.51</td>\n",
       "      <td>9.64</td>\n",
       "      <td>4.05</td>\n",
       "      <td>3.57</td>\n",
       "      <td>23.30</td>\n",
       "      <td>31.56</td>\n",
       "      <td>...</td>\n",
       "      <td>21.59</td>\n",
       "      <td>18.04</td>\n",
       "      <td>4.64</td>\n",
       "      <td>8.50</td>\n",
       "      <td>2.40</td>\n",
       "      <td>18.67</td>\n",
       "      <td>50.05</td>\n",
       "      <td>9.84</td>\n",
       "      <td>5.89</td>\n",
       "      <td>2</td>\n",
       "    </tr>\n",
       "    <tr>\n",
       "      <th>3</th>\n",
       "      <td>8</td>\n",
       "      <td>17</td>\n",
       "      <td>96785751.00</td>\n",
       "      <td>11.16</td>\n",
       "      <td>12.10</td>\n",
       "      <td>11.48</td>\n",
       "      <td>6.31</td>\n",
       "      <td>4.77</td>\n",
       "      <td>15.64</td>\n",
       "      <td>30.60</td>\n",
       "      <td>...</td>\n",
       "      <td>22.60</td>\n",
       "      <td>15.51</td>\n",
       "      <td>2.68</td>\n",
       "      <td>8.09</td>\n",
       "      <td>5.77</td>\n",
       "      <td>10.15</td>\n",
       "      <td>54.61</td>\n",
       "      <td>16.25</td>\n",
       "      <td>2.45</td>\n",
       "      <td>2</td>\n",
       "    </tr>\n",
       "    <tr>\n",
       "      <th>4</th>\n",
       "      <td>5</td>\n",
       "      <td>170</td>\n",
       "      <td>126635883.60</td>\n",
       "      <td>11.43</td>\n",
       "      <td>15.04</td>\n",
       "      <td>10.48</td>\n",
       "      <td>16.90</td>\n",
       "      <td>9.56</td>\n",
       "      <td>21.64</td>\n",
       "      <td>11.67</td>\n",
       "      <td>...</td>\n",
       "      <td>10.38</td>\n",
       "      <td>22.71</td>\n",
       "      <td>0.43</td>\n",
       "      <td>26.38</td>\n",
       "      <td>39.20</td>\n",
       "      <td>25.30</td>\n",
       "      <td>8.69</td>\n",
       "      <td>0.00</td>\n",
       "      <td>0.00</td>\n",
       "      <td>4</td>\n",
       "    </tr>\n",
       "  </tbody>\n",
       "</table>\n",
       "<p>5 rows × 27 columns</p>\n",
       "</div>"
      ],
      "text/plain": [
       "   shop_type_big  shop_type_small  monthly_gain  average_sale_price  \\\n",
       "0              8              304    5696400.00                9.21   \n",
       "1              8              346    8496120.00                9.58   \n",
       "2              8               17  103651502.50               11.19   \n",
       "3              8               17   96785751.00               11.16   \n",
       "4              5              170  126635883.60               11.43   \n",
       "\n",
       "   female_20  female_30  female_40  female_50  male_20  male_30  ...  \\\n",
       "0       9.58       5.43      18.68       4.63    27.62     8.89  ...   \n",
       "1       5.08      12.12       9.68       8.15     9.68     9.75  ...   \n",
       "2      10.51       9.64       4.05       3.57    23.30    31.56  ...   \n",
       "3      12.10      11.48       6.31       4.77    15.64    30.60  ...   \n",
       "4      15.04      10.48      16.90       9.56    21.64    11.67  ...   \n",
       "\n",
       "   weekday5  weekday6  time_05_10  time_10_14  time_14_18  time_18_20  \\\n",
       "0     11.92      6.34        1.15       72.78       23.14        2.93   \n",
       "1     16.35     10.82        0.83       76.82       13.25        9.09   \n",
       "2     21.59     18.04        4.64        8.50        2.40       18.67   \n",
       "3     22.60     15.51        2.68        8.09        5.77       10.15   \n",
       "4     10.38     22.71        0.43       26.38       39.20       25.30   \n",
       "\n",
       "   time_20_22  time_22_24  time_00_05  geo  \n",
       "0        0.00        0.00        0.00    0  \n",
       "1        0.00        0.00        0.00    2  \n",
       "2       50.05        9.84        5.89    2  \n",
       "3       54.61       16.25        2.45    2  \n",
       "4        8.69        0.00        0.00    4  \n",
       "\n",
       "[5 rows x 27 columns]"
      ]
     },
     "execution_count": 17,
     "metadata": {},
     "output_type": "execute_result"
    }
   ],
   "source": [
    "# pandas option 설정 하는 코드\n",
    "# monthly_gain의 경우 부동소수점으로 나타나서 보기 어려울땐 윗 줄의 주석을 제거하고 아래에 주석을 추가하고\n",
    "# 다시 원래대로 돌리고 싶다면 아래에 주석제거, 위에 주석추가\n",
    "pd.options.display.float_format = '{:.2f}'.format\n",
    "#pd.reset_option('display.float_format')\n",
    "\n",
    "input_data.head()"
   ]
  },
  {
   "cell_type": "code",
   "execution_count": 138,
   "id": "0eab8ebf",
   "metadata": {},
   "outputs": [],
   "source": [
    "input_data_y = input_data['monthly_gain'].copy()\n",
    "input_data_X = input_data.drop(['monthly_gain'], axis=1)"
   ]
  },
  {
   "cell_type": "code",
   "execution_count": 139,
   "id": "f42ec416",
   "metadata": {},
   "outputs": [],
   "source": [
    "from sklearn.model_selection import train_test_split, cross_validate, KFold, TimeSeriesSplit,GridSearchCV\n",
    "from sklearn.metrics import mean_squared_error, r2_score\n",
    "from keras.callbacks import EarlyStopping, ModelCheckpoint\n",
    "\n",
    "from lightgbm import LGBMRegressor\n",
    "from lightgbm import plot_importance \n",
    "from xgboost import XGBRegressor\n",
    "from xgboost import plot_importance"
   ]
  },
  {
   "cell_type": "code",
   "execution_count": 140,
   "id": "4bb1ea5f",
   "metadata": {},
   "outputs": [],
   "source": [
    "model_xgb = XGBRegressor()\n",
    "model_lgbm = LGBMRegressor()"
   ]
  },
  {
   "cell_type": "code",
   "execution_count": 141,
   "id": "391ace80",
   "metadata": {},
   "outputs": [],
   "source": [
    "train_X, test_X, train_y, test_y = train_test_split(\n",
    "    input_data_X, \n",
    "    input_data_y, \n",
    "    test_size = 0.2,      \n",
    "    shuffle=True)  "
   ]
  },
  {
   "cell_type": "code",
   "execution_count": 142,
   "id": "97d61299",
   "metadata": {},
   "outputs": [
    {
     "name": "stdout",
     "output_type": "stream",
     "text": [
      "\n",
      "#1 교차 검증 rmse : 245417797.125525,  학습 데이터 크기 : 92352,  검증 데이터 크기 : 23088\n",
      "#1 검증 세트 인덱스 : [    24     29     33 ... 115416 115417 115419]\n",
      "\n",
      "#2 교차 검증 rmse : 285419471.0733496,  학습 데이터 크기 : 92352,  검증 데이터 크기 : 23088\n",
      "#2 검증 세트 인덱스 : [     1      5     12 ... 115436 115438 115439]\n",
      "\n",
      "#3 교차 검증 rmse : 277032115.8585861,  학습 데이터 크기 : 92352,  검증 데이터 크기 : 23088\n",
      "#3 검증 세트 인덱스 : [     2      3      4 ... 115427 115428 115434]\n",
      "\n",
      "#4 교차 검증 rmse : 257345778.66968638,  학습 데이터 크기 : 92352,  검증 데이터 크기 : 23088\n",
      "#4 검증 세트 인덱스 : [     6     15     19 ... 115420 115423 115435]\n",
      "\n",
      "#5 교차 검증 rmse : 362000747.3884369,  학습 데이터 크기 : 92352,  검증 데이터 크기 : 23088\n",
      "#5 검증 세트 인덱스 : [     0     10     11 ... 115429 115432 115437]\n",
      "\n",
      "## 평균 검증 rmse: 285443182.02311677\n"
     ]
    }
   ],
   "source": [
    "kfold = KFold(n_splits=5, shuffle=True, random_state = 7)\n",
    "cv_accuracy = []\n",
    "n_iter =0\n",
    "\n",
    "for train_index, valid_index in kfold.split(train_X):  # 데이터를 kfold = 5 로 분할\n",
    "    x_train, x_valid = train_X.iloc[list(train_index)], train_X.iloc[list(valid_index)]\n",
    "    y_train, y_valid = train_y.iloc[list(train_index)], train_y.iloc[list(valid_index)]\n",
    "    #y_train, y_valid = np.log1p(y_train), np.log1p(y_valid)\n",
    "\n",
    "    model_xgb.fit(x_train, y_train)\n",
    "    pred = model_xgb.predict(x_valid)\n",
    "    n_iter += 1\n",
    "    \n",
    "    mse = np.round(mean_squared_error(y_valid, pred), 4) # 소수점 4자리 반올림\n",
    "    rmse = np.sqrt(mse)\n",
    "    train_size = x_train.shape[0]\n",
    "    test_size = x_valid.shape[0]\n",
    "    \n",
    "    print('\\n#{0} 교차 검증 rmse : {1},  학습 데이터 크기 : {2},  검증 데이터 크기 : {3}'\n",
    "          .format(n_iter, rmse, train_size, test_size))\n",
    "    print('#{0} 검증 세트 인덱스 : {1}'.format(n_iter,valid_index))\n",
    "    cv_accuracy.append(rmse)\n",
    "    \n",
    "print('\\n## 평균 검증 rmse:', np.mean(cv_accuracy))"
   ]
  },
  {
   "cell_type": "code",
   "execution_count": 143,
   "id": "9d08ae4e",
   "metadata": {},
   "outputs": [
    {
     "name": "stdout",
     "output_type": "stream",
     "text": [
      "\n",
      "#1 교차 검증 rmse : 268634762.9416673,  학습 데이터 크기 : 92352,  검증 데이터 크기 : 23088\n",
      "#1 검증 세트 인덱스 : [    24     29     33 ... 115416 115417 115419]\n",
      "\n",
      "#2 교차 검증 rmse : 305707933.0549577,  학습 데이터 크기 : 92352,  검증 데이터 크기 : 23088\n",
      "#2 검증 세트 인덱스 : [     1      5     12 ... 115436 115438 115439]\n",
      "\n",
      "#3 교차 검증 rmse : 301124273.6050799,  학습 데이터 크기 : 92352,  검증 데이터 크기 : 23088\n",
      "#3 검증 세트 인덱스 : [     2      3      4 ... 115427 115428 115434]\n",
      "\n",
      "#4 교차 검증 rmse : 241781741.18769345,  학습 데이터 크기 : 92352,  검증 데이터 크기 : 23088\n",
      "#4 검증 세트 인덱스 : [     6     15     19 ... 115420 115423 115435]\n",
      "\n",
      "#5 교차 검증 rmse : 340150187.80098265,  학습 데이터 크기 : 92352,  검증 데이터 크기 : 23088\n",
      "#5 검증 세트 인덱스 : [     0     10     11 ... 115429 115432 115437]\n",
      "\n",
      "## 평균 검증 rmse: 291479779.71807617\n"
     ]
    }
   ],
   "source": [
    "kfold = KFold(n_splits=5, shuffle=True, random_state = 7)\n",
    "cv_accuracy = []\n",
    "n_iter =0\n",
    "\n",
    "for train_index, valid_index in kfold.split(train_X):  # 데이터를 kfold = 5 로 분할\n",
    "    x_train, x_valid = train_X.iloc[list(train_index)], train_X.iloc[list(valid_index)]\n",
    "    y_train, y_valid = train_y.iloc[list(train_index)], train_y.iloc[list(valid_index)]\n",
    "    #y_train, y_valid = np.log1p(y_train), np.log1p(y_valid)\n",
    "    \n",
    "    model_lgbm.fit(x_train, y_train)\n",
    "    pred = model_lgbm.predict(x_valid)\n",
    "    n_iter += 1\n",
    "    \n",
    "    mse = np.round(mean_squared_error(y_valid, pred), 4) # 소수점 4자리 반올림\n",
    "    rmse = np.sqrt(mse)\n",
    "    train_size = x_train.shape[0]\n",
    "    test_size = x_valid.shape[0]\n",
    "    \n",
    "    print('\\n#{0} 교차 검증 rmse : {1},  학습 데이터 크기 : {2},  검증 데이터 크기 : {3}'\n",
    "          .format(n_iter, rmse, train_size, test_size))\n",
    "    print('#{0} 검증 세트 인덱스 : {1}'.format(n_iter,valid_index))\n",
    "    cv_accuracy.append(rmse)\n",
    "    \n",
    "print('\\n## 평균 검증 rmse:', np.mean(cv_accuracy))"
   ]
  },
  {
   "cell_type": "code",
   "execution_count": 144,
   "id": "ddedfe6a",
   "metadata": {},
   "outputs": [],
   "source": [
    "pred_xgb = model_xgb.predict(test_X)\n",
    "pred_lgbm = model_lgbm.predict(test_X)"
   ]
  },
  {
   "cell_type": "code",
   "execution_count": 79,
   "id": "ace105a6",
   "metadata": {},
   "outputs": [],
   "source": [
    "#pred_xgb = np.exp(pred_xgb)-1\n",
    "#pred_lgbm = np.exp(pred_lgbm)-1\n",
    "\n",
    "#test_y = np.exp(test_y)-1"
   ]
  },
  {
   "cell_type": "markdown",
   "id": "0201440a",
   "metadata": {},
   "source": [
    "## Prediction"
   ]
  },
  {
   "cell_type": "code",
   "execution_count": 30,
   "id": "4e53e2b3",
   "metadata": {},
   "outputs": [],
   "source": [
    "def plot_history(history):\n",
    "    #hist = pd.DataFrame(history.history)\n",
    "    #history['epoch'] = history.epoch\n",
    "    \n",
    "    plt.figure(figsize=(8,12))\n",
    "    \n",
    "    # Mean Abs Error : 평균 절대 오차, 측정값에서 오차의 크기로 측정값과 실제값과의 차이, 절대 오차의 평균  \n",
    "    # -> 측정하고자 하는 값을 정확하게 측정하지 못함으로써 발생\n",
    "    plt.subplot(2,1,1)\n",
    "    plt.xlabel('Epoch')\n",
    "    plt.ylabel('Mean Abs Error')\n",
    "    plt.plot(hist['epoch'], hist['mae'],\n",
    "           label='Train Error')\n",
    "    plt.plot(hist['epoch'], hist['val_mae'],\n",
    "           label = 'Val Error')\n",
    "    plt.legend()\n",
    "    \n",
    "    # Mean Square Error : 평균 제곱 오차, 오차의 제복에 대한 평균을 취한 값\n",
    "    plt.subplot(2,1,2)\n",
    "    plt.xlabel('Epoch')\n",
    "    plt.ylabel('Mean Square Error')\n",
    "    plt.plot(hist['epoch'], hist['mse'],\n",
    "           label='Train Error')\n",
    "    plt.plot(hist['epoch'], hist['val_mse'],\n",
    "           label = 'Val Error')\n",
    "    plt.legend()\n",
    "    plt.show()\n",
    "    \n",
    "def show_pred(test_y, pred) :\n",
    "    true_y = test_y.to_numpy()\n",
    "    true_y = np.ravel(true_y)\n",
    "    \n",
    "    df_result = pd.DataFrame(list(zip(true_y, pred)), columns=['true_y', 'prediction'])\n",
    "    return df_result\n",
    "\n",
    "def show_mse_rmse(test_y, pred) :\n",
    "    mse = mean_squared_error(test_y, pred)\n",
    "    print(\"mse : %f\" % mse)\n",
    "    \n",
    "    rmse = np.sqrt(mse)\n",
    "    print(\"rmse: %f \\n\" %rmse)\n",
    "\n",
    "def show_r2_score(test_y, pred, test_X) : \n",
    "    r2 = r2_score(pred, test_y)\n",
    "    print(\"r2 : %f \" % r2)\n",
    "    \n",
    "    # 독립변수가 많을 수록 결정계수 r2 값은 커지므로, 독립변수가 2개 이상일 경우 조정된 결정계수 adj_r2를 사용\n",
    "    # 기존의 결정계수 r2에 n(데이터 개수) 와 k(변수 개수)가 추가 됨 \n",
    "    # r2 score는 regression model의 훌륭한 평가 지표이지만, 예측 모델과 실제 모델의 분산이 얼마나 비슷한지에 기반하기에 \n",
    "    # 예측값과 실제값이 많이 달라도 분산만 비슷하면 높은 점수를 얻을 수 있다는 맹점이 있다 \n",
    "    adj_r2 = 1 - (1-r2)*(test_X.shape[0]-1)/(test_X.shape[0]-test_X.shape[1]-1)\n",
    "    print(\"adj_r2_score : %f \\n\" % adj_r2)\n",
    "    \n",
    "def show_prediction_error(test_y, pred) :\n",
    "    true_y = test_y.to_numpy()\n",
    "    true_y = np.ravel(true_y)\n",
    "    error = pred - true_y\n",
    "    plt.hist(error, bins=25)\n",
    "    plt.xlabel(\"Prediction Error\")\n",
    "    _ = plt.ylabel(\"Count\")\n",
    "    \n",
    "def feature_importance(model_xgb) : \n",
    "    %matplotlib inline\n",
    "    plt.rcParams['axes.unicode_minus'] = False\n",
    "    font_path = \"C:/Windows/Fonts/NGULIM.TTF\"\n",
    "    font = fm.FontProperties(fname=font_path).get_name()\n",
    "    rc('font', family=font)\n",
    "\n",
    "    fig, ax = plt.subplots(figsize=(10,12))\n",
    "    plot_importance(model_xgb, ax=ax)\n",
    "    \n",
    "def graph(pred, test_label) :\n",
    "    plt.figure(figsize=(16, 9))\n",
    "    plt.plot(test_label, label = 'actual')\n",
    "    plt.plot(pred, label = 'prediction')\n",
    "    plt.legend()\n",
    "    plt.show()"
   ]
  },
  {
   "cell_type": "code",
   "execution_count": 145,
   "id": "bd11588d",
   "metadata": {},
   "outputs": [
    {
     "data": {
      "text/html": [
       "<div>\n",
       "<style scoped>\n",
       "    .dataframe tbody tr th:only-of-type {\n",
       "        vertical-align: middle;\n",
       "    }\n",
       "\n",
       "    .dataframe tbody tr th {\n",
       "        vertical-align: top;\n",
       "    }\n",
       "\n",
       "    .dataframe thead th {\n",
       "        text-align: right;\n",
       "    }\n",
       "</style>\n",
       "<table border=\"1\" class=\"dataframe\">\n",
       "  <thead>\n",
       "    <tr style=\"text-align: right;\">\n",
       "      <th></th>\n",
       "      <th>true_y</th>\n",
       "      <th>prediction</th>\n",
       "    </tr>\n",
       "  </thead>\n",
       "  <tbody>\n",
       "    <tr>\n",
       "      <th>0</th>\n",
       "      <td>2840670.00</td>\n",
       "      <td>-18503238.00</td>\n",
       "    </tr>\n",
       "    <tr>\n",
       "      <th>1</th>\n",
       "      <td>8859333.30</td>\n",
       "      <td>1954288.25</td>\n",
       "    </tr>\n",
       "    <tr>\n",
       "      <th>2</th>\n",
       "      <td>3002450.00</td>\n",
       "      <td>-16130620.00</td>\n",
       "    </tr>\n",
       "    <tr>\n",
       "      <th>3</th>\n",
       "      <td>9609355.00</td>\n",
       "      <td>20658084.00</td>\n",
       "    </tr>\n",
       "    <tr>\n",
       "      <th>4</th>\n",
       "      <td>38753635.00</td>\n",
       "      <td>30976520.00</td>\n",
       "    </tr>\n",
       "    <tr>\n",
       "      <th>...</th>\n",
       "      <td>...</td>\n",
       "      <td>...</td>\n",
       "    </tr>\n",
       "    <tr>\n",
       "      <th>28855</th>\n",
       "      <td>2605980.00</td>\n",
       "      <td>-18894198.00</td>\n",
       "    </tr>\n",
       "    <tr>\n",
       "      <th>28856</th>\n",
       "      <td>19420800.00</td>\n",
       "      <td>26012300.00</td>\n",
       "    </tr>\n",
       "    <tr>\n",
       "      <th>28857</th>\n",
       "      <td>7127250.00</td>\n",
       "      <td>15991904.00</td>\n",
       "    </tr>\n",
       "    <tr>\n",
       "      <th>28858</th>\n",
       "      <td>34693821.40</td>\n",
       "      <td>69002976.00</td>\n",
       "    </tr>\n",
       "    <tr>\n",
       "      <th>28859</th>\n",
       "      <td>1473900.00</td>\n",
       "      <td>-1237333.62</td>\n",
       "    </tr>\n",
       "  </tbody>\n",
       "</table>\n",
       "<p>28860 rows × 2 columns</p>\n",
       "</div>"
      ],
      "text/plain": [
       "           true_y   prediction\n",
       "0      2840670.00 -18503238.00\n",
       "1      8859333.30   1954288.25\n",
       "2      3002450.00 -16130620.00\n",
       "3      9609355.00  20658084.00\n",
       "4     38753635.00  30976520.00\n",
       "...           ...          ...\n",
       "28855  2605980.00 -18894198.00\n",
       "28856 19420800.00  26012300.00\n",
       "28857  7127250.00  15991904.00\n",
       "28858 34693821.40  69002976.00\n",
       "28859  1473900.00  -1237333.62\n",
       "\n",
       "[28860 rows x 2 columns]"
      ]
     },
     "execution_count": 145,
     "metadata": {},
     "output_type": "execute_result"
    }
   ],
   "source": [
    "show_pred(test_y, pred_xgb)"
   ]
  },
  {
   "cell_type": "code",
   "execution_count": 146,
   "id": "d14d900d",
   "metadata": {},
   "outputs": [
    {
     "data": {
      "text/html": [
       "<div>\n",
       "<style scoped>\n",
       "    .dataframe tbody tr th:only-of-type {\n",
       "        vertical-align: middle;\n",
       "    }\n",
       "\n",
       "    .dataframe tbody tr th {\n",
       "        vertical-align: top;\n",
       "    }\n",
       "\n",
       "    .dataframe thead th {\n",
       "        text-align: right;\n",
       "    }\n",
       "</style>\n",
       "<table border=\"1\" class=\"dataframe\">\n",
       "  <thead>\n",
       "    <tr style=\"text-align: right;\">\n",
       "      <th></th>\n",
       "      <th>true_y</th>\n",
       "      <th>prediction</th>\n",
       "    </tr>\n",
       "  </thead>\n",
       "  <tbody>\n",
       "    <tr>\n",
       "      <th>0</th>\n",
       "      <td>2840670.00</td>\n",
       "      <td>2534524.98</td>\n",
       "    </tr>\n",
       "    <tr>\n",
       "      <th>1</th>\n",
       "      <td>8859333.30</td>\n",
       "      <td>-68069921.94</td>\n",
       "    </tr>\n",
       "    <tr>\n",
       "      <th>2</th>\n",
       "      <td>3002450.00</td>\n",
       "      <td>-14999807.96</td>\n",
       "    </tr>\n",
       "    <tr>\n",
       "      <th>3</th>\n",
       "      <td>9609355.00</td>\n",
       "      <td>24480210.83</td>\n",
       "    </tr>\n",
       "    <tr>\n",
       "      <th>4</th>\n",
       "      <td>38753635.00</td>\n",
       "      <td>44006968.95</td>\n",
       "    </tr>\n",
       "    <tr>\n",
       "      <th>...</th>\n",
       "      <td>...</td>\n",
       "      <td>...</td>\n",
       "    </tr>\n",
       "    <tr>\n",
       "      <th>28855</th>\n",
       "      <td>2605980.00</td>\n",
       "      <td>43148803.34</td>\n",
       "    </tr>\n",
       "    <tr>\n",
       "      <th>28856</th>\n",
       "      <td>19420800.00</td>\n",
       "      <td>23229656.34</td>\n",
       "    </tr>\n",
       "    <tr>\n",
       "      <th>28857</th>\n",
       "      <td>7127250.00</td>\n",
       "      <td>-9080906.06</td>\n",
       "    </tr>\n",
       "    <tr>\n",
       "      <th>28858</th>\n",
       "      <td>34693821.40</td>\n",
       "      <td>31070293.74</td>\n",
       "    </tr>\n",
       "    <tr>\n",
       "      <th>28859</th>\n",
       "      <td>1473900.00</td>\n",
       "      <td>-9333236.94</td>\n",
       "    </tr>\n",
       "  </tbody>\n",
       "</table>\n",
       "<p>28860 rows × 2 columns</p>\n",
       "</div>"
      ],
      "text/plain": [
       "           true_y   prediction\n",
       "0      2840670.00   2534524.98\n",
       "1      8859333.30 -68069921.94\n",
       "2      3002450.00 -14999807.96\n",
       "3      9609355.00  24480210.83\n",
       "4     38753635.00  44006968.95\n",
       "...           ...          ...\n",
       "28855  2605980.00  43148803.34\n",
       "28856 19420800.00  23229656.34\n",
       "28857  7127250.00  -9080906.06\n",
       "28858 34693821.40  31070293.74\n",
       "28859  1473900.00  -9333236.94\n",
       "\n",
       "[28860 rows x 2 columns]"
      ]
     },
     "execution_count": 146,
     "metadata": {},
     "output_type": "execute_result"
    }
   ],
   "source": [
    "show_pred(test_y, pred_lgbm)"
   ]
  },
  {
   "cell_type": "code",
   "execution_count": 147,
   "id": "89def36c",
   "metadata": {},
   "outputs": [
    {
     "name": "stdout",
     "output_type": "stream",
     "text": [
      "mse : 97312975523149136.000000\n",
      "rmse: 311950277.325008 \n",
      "\n",
      "r2 : 0.837188 \n",
      "adj_r2_score : 0.837042 \n",
      "\n"
     ]
    }
   ],
   "source": [
    "show_mse_rmse(test_y, pred_xgb)\n",
    "show_r2_score(test_y, pred_xgb, test_X)"
   ]
  },
  {
   "cell_type": "code",
   "execution_count": 148,
   "id": "41d7fb22",
   "metadata": {
    "scrolled": false
   },
   "outputs": [
    {
     "name": "stdout",
     "output_type": "stream",
     "text": [
      "mse : 76805451165137888.000000\n",
      "rmse: 277137964.135443 \n",
      "\n",
      "r2 : 0.852674 \n",
      "adj_r2_score : 0.852541 \n",
      "\n"
     ]
    }
   ],
   "source": [
    "show_mse_rmse(test_y, pred_lgbm)\n",
    "show_r2_score(test_y, pred_lgbm, test_X)"
   ]
  },
  {
   "cell_type": "code",
   "execution_count": 149,
   "id": "17960bf9",
   "metadata": {},
   "outputs": [
    {
     "data": {
      "image/png": "[encoded data removed]",
      "text/plain": [
       "<Figure size 1152x648 with 1 Axes>"
      ]
     },
     "metadata": {
      "needs_background": "light"
     },
     "output_type": "display_data"
    }
   ],
   "source": [
    "true_y = test_y.to_numpy()\n",
    "graph(pred_xgb, true_y)"
   ]
  },
  {
   "cell_type": "code",
   "execution_count": 150,
   "id": "8229ee49",
   "metadata": {
    "scrolled": false
   },
   "outputs": [
    {
     "data": {
      "text/plain": [
       "<matplotlib.legend.Legend at 0x1a32933d790>"
      ]
     },
     "execution_count": 150,
     "metadata": {},
     "output_type": "execute_result"
    },
    {
     "data": {
      "image/png": "[encoded data removed]",
      "text/plain": [
       "<Figure size 1224x504 with 1 Axes>"
      ]
     },
     "metadata": {
      "needs_background": "light"
     },
     "output_type": "display_data"
    }
   ],
   "source": [
    "plt.figure(figsize=(17,7))\n",
    "plt.plot(range(0, len(test_y)), test_y,'o-', label='Actual Value')\n",
    "plt.plot(range(0, len(pred_xgb)), pred_lgbm, '-', label='Predict Value')\n",
    "plt.title('Prediction of Monthly Gain')\n",
    "plt.ylabel('Monthly gain')\n",
    "plt.legend()"
   ]
  },
  {
   "cell_type": "code",
   "execution_count": 76,
   "id": "756228fa",
   "metadata": {},
   "outputs": [
    {
     "data": {
      "text/plain": [
       "<AxesSubplot:>"
      ]
     },
     "execution_count": 76,
     "metadata": {},
     "output_type": "execute_result"
    },
    {
     "data": {
      "image/png": "[encoded data removed]",
      "text/plain": [
       "<Figure size 1080x576 with 1 Axes>"
      ]
     },
     "metadata": {
      "needs_background": "light"
     },
     "output_type": "display_data"
    }
   ],
   "source": [
    "feature_series = pd.Series(data=model_xgb.feature_importances_, index=train_X.columns)\n",
    "feature_series = feature_series.sort_values(ascending=False) \n",
    "sns.barplot(x = feature_series, y=feature_series.index)"
   ]
  },
  {
   "cell_type": "code",
   "execution_count": 77,
   "id": "2b062d60",
   "metadata": {},
   "outputs": [
    {
     "data": {
      "text/plain": [
       "<AxesSubplot:>"
      ]
     },
     "execution_count": 77,
     "metadata": {},
     "output_type": "execute_result"
    },
    {
     "data": {
      "image/png": "[encoded data removed]",
      "text/plain": [
       "<Figure size 1080x576 with 1 Axes>"
      ]
     },
     "metadata": {
      "needs_background": "light"
     },
     "output_type": "display_data"
    }
   ],
   "source": [
    "feature_series = pd.Series(data=model_lgbm.feature_importances_, index=train_X.columns)\n",
    "feature_series = feature_series.sort_values(ascending=False) \n",
    "sns.barplot(x = feature_series, y=feature_series.index)"
   ]
  }
 ],
 "metadata": {
  "kernelspec": {
   "display_name": "Python 3",
   "language": "python",
   "name": "python3"
  },
  "language_info": {
   "codemirror_mode": {
    "name": "ipython",
    "version": 3
   },
   "file_extension": ".py",
   "mimetype": "text/x-python",
   "name": "python",
   "nbconvert_exporter": "python",
   "pygments_lexer": "ipython3",
   "version": "3.8.12"
  }
 },
 "nbformat": 4,
 "nbformat_minor": 5
}
