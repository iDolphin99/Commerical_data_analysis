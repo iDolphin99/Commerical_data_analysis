{
 "cells": [
  {
   "cell_type": "markdown",
   "id": "e40dea94",
   "metadata": {},
   "source": [
    "# 1. Data Load\n"
   ]
  },
  {
   "cell_type": "code",
   "execution_count": 1,
   "id": "cabb55fa",
   "metadata": {},
   "outputs": [],
   "source": [
    "import numpy as np\n",
    "import pandas as pd\n",
    "\n",
    "from scipy import stats #Analysis \n",
    "from scipy.stats import norm # Analysis\n",
    "import seaborn as sns\n",
    "import matplotlib.pyplot as plt\n",
    "from matplotlib import rcParams\n",
    "%matplotlib inline\n",
    "#%matplotlib tk\n",
    "\n",
    "#import matplotlib \n",
    "#matplotlib.font_manager._rebuild()"
   ]
  },
  {
   "cell_type": "code",
   "execution_count": 2,
   "id": "f7b05634",
   "metadata": {},
   "outputs": [
    {
     "name": "stdout",
     "output_type": "stream",
     "text": [
      "Thu Mar 03 10:44:49 2022       \n",
      "+-----------------------------------------------------------------------------+\n",
      "| NVIDIA-SMI 456.71       Driver Version: 456.71       CUDA Version: 11.1     |\n",
      "|-------------------------------+----------------------+----------------------+\n",
      "| GPU  Name            TCC/WDDM | Bus-Id        Disp.A | Volatile Uncorr. ECC |\n",
      "| Fan  Temp  Perf  Pwr:Usage/Cap|         Memory-Usage | GPU-Util  Compute M. |\n",
      "|===============================+======================+======================|\n",
      "|   0  GeForce RTX 2060   WDDM  | 00000000:01:00.0  On |                  N/A |\n",
      "|  0%   39C    P8    15W / 160W |    475MiB /  6144MiB |      6%      Default |\n",
      "+-------------------------------+----------------------+----------------------+\n",
      "                                                                               \n",
      "+-----------------------------------------------------------------------------+\n",
      "| Processes:                                                                  |\n",
      "|  GPU   GI   CI        PID   Type   Process name                  GPU Memory |\n",
      "|        ID   ID                                                   Usage      |\n",
      "|=============================================================================|\n",
      "|    0   N/A  N/A      6748    C+G   ...y\\ShellExperienceHost.exe    N/A      |\n",
      "|    0   N/A  N/A      7048    C+G   C:\\Windows\\explorer.exe         N/A      |\n",
      "|    0   N/A  N/A      7496    C+G   ...wekyb3d8bbwe\\Video.UI.exe    N/A      |\n",
      "|    0   N/A  N/A      8420    C+G   ...obeNotificationClient.exe    N/A      |\n",
      "|    0   N/A  N/A     10280    C+G   ...erver\\YourPhoneServer.exe    N/A      |\n",
      "|    0   N/A  N/A     10304    C+G   ...lPanel\\SystemSettings.exe    N/A      |\n",
      "|    0   N/A  N/A     10896    C+G   ...bbwe\\Microsoft.Photos.exe    N/A      |\n",
      "|    0   N/A  N/A     11176    C+G   ...Roaming\\Zoom\\bin\\Zoom.exe    N/A      |\n",
      "|    0   N/A  N/A     11644    C+G   ...\\app-1.0.9004\\Discord.exe    N/A      |\n",
      "|    0   N/A  N/A     13668    C+G   ...me\\Application\\chrome.exe    N/A      |\n",
      "|    0   N/A  N/A     13776    C+G   ...8wekyb3d8bbwe\\Cortana.exe    N/A      |\n",
      "|    0   N/A  N/A     15668    C+G   ...2txyewy\\TextInputHost.exe    N/A      |\n",
      "|    0   N/A  N/A     15820    C+G   ...108.62\\msedgewebview2.exe    N/A      |\n",
      "|    0   N/A  N/A     16212    C+G   ...8wekyb3d8bbwe\\XboxApp.exe    N/A      |\n",
      "|    0   N/A  N/A     17392    C+G   Insufficient Permissions        N/A      |\n",
      "|    0   N/A  N/A     17632    C+G   ...in7x64\\steamwebhelper.exe    N/A      |\n",
      "|    0   N/A  N/A     18036    C+G   ...ekyb3d8bbwe\\YourPhone.exe    N/A      |\n",
      "|    0   N/A  N/A     18068    C+G   ...cw5n1h2txyewy\\LockApp.exe    N/A      |\n",
      "|    0   N/A  N/A     18712    C+G   ...5n1h2txyewy\\SearchApp.exe    N/A      |\n",
      "|    0   N/A  N/A     19232    C+G   ...5n1h2txyewy\\SearchApp.exe    N/A      |\n",
      "+-----------------------------------------------------------------------------+\n"
     ]
    }
   ],
   "source": [
    "!nvidia-smi"
   ]
  },
  {
   "cell_type": "code",
   "execution_count": 37,
   "id": "6f3b1211",
   "metadata": {},
   "outputs": [
    {
     "name": "stdout",
     "output_type": "stream",
     "text": [
      "lightgbm: 3.3.1\n",
      "xgboost: 1.3.3\n",
      "sklearn: 1.0.1\n"
     ]
    }
   ],
   "source": [
    "import sklearn\n",
    "import lightgbm\n",
    "import xgboost\n",
    "\n",
    "print(f'lightgbm: {lightgbm.__version__}\\nxgboost: {xgboost.__version__}\\nsklearn: {sklearn.__version__}')"
   ]
  },
  {
   "cell_type": "code",
   "execution_count": 3,
   "id": "aa43c072",
   "metadata": {},
   "outputs": [
    {
     "name": "stdout",
     "output_type": "stream",
     "text": [
      "tf.__version__: 2.4.0\n"
     ]
    }
   ],
   "source": [
    "import tensorflow as tf\n",
    "\n",
    "print(f'tf.__version__: {tf.__version__}')\n",
    "\n",
    "gpus = tf.config.experimental.list_physical_devices('GPU')\n",
    "for gpu in gpus:\n",
    "    print(gpu)"
   ]
  },
  {
   "cell_type": "code",
   "execution_count": null,
   "id": "d9c2ffcc",
   "metadata": {},
   "outputs": [],
   "source": [
    "import time\n",
    "from sklearn.datasets import make_regression\n",
    "from xgboost import XGBRegressor\n",
    "\n",
    "def model_test(model_name, model):\n",
    "    x, y = make_regression(n_samples=100000, n_features=100)\n",
    "    \n",
    "    start_time = time.time()\n",
    "    model.fit(x, y)\n",
    "    end_time = time.time()\n",
    "    return f'{model_name}: 소요시간: {(end_time - start_time)} 초'\n",
    "\n",
    "xgb = XGBRegressor(n_estimators=1000, \n",
    "                   learning_rate=0.01, \n",
    "                   subsample=0.8, \n",
    "                   colsample_bytree=0.8,\n",
    "                   objective='reg:squarederror', \n",
    "                  )\n",
    "\n",
    "print(model_test('xgb (cpu)', xgb))\n",
    "\n",
    "xgb = XGBRegressor(n_estimators=1000, \n",
    "                   learning_rate=0.01, \n",
    "                   subsample=0.8, \n",
    "                   colsample_bytree=0.8,\n",
    "                   objective='reg:squarederror', \n",
    "                   tree_method='gpu_hist')\n",
    "\n",
    "print(model_test('xgb (gpu)', xgb))"
   ]
  },
  {
   "cell_type": "code",
   "execution_count": 2,
   "id": "9ef4a9e7",
   "metadata": {},
   "outputs": [],
   "source": [
    "# 한글 폰트가 깨지면 실행하세요! \n",
    "import matplotlib.font_manager as fm\n",
    "fontlist = fm.findSystemFonts(fontpaths = None, fontext='ttf')\n",
    "# 아래 주석을 지워서 폰트 리스트를 확인하고 한글 폰트를 font_path에 추가합니다\n",
    "fontlist[:]\n",
    "\n",
    "from matplotlib import font_manager, rc\n",
    "#font_path = 'C:\\\\Users\\\\mtang\\\\AppData\\\\Local\\\\Microsoft\\\\Windows\\\\Fonts\\\\NanumSquare.ttf'\n",
    "font_path = 'C:\\\\WINDOWS\\\\Fonts\\\\NanumGothicLight.ttf'\n",
    "font = font_manager.FontProperties(fname=font_path).get_name()\n",
    "rc('font', family=font)"
   ]
  },
  {
   "cell_type": "code",
   "execution_count": 28,
   "id": "175a42b3",
   "metadata": {},
   "outputs": [
    {
     "data": {
      "text/html": [
       "<div>\n",
       "<style scoped>\n",
       "    .dataframe tbody tr th:only-of-type {\n",
       "        vertical-align: middle;\n",
       "    }\n",
       "\n",
       "    .dataframe tbody tr th {\n",
       "        vertical-align: top;\n",
       "    }\n",
       "\n",
       "    .dataframe thead th {\n",
       "        text-align: right;\n",
       "    }\n",
       "</style>\n",
       "<table border=\"1\" class=\"dataframe\">\n",
       "  <thead>\n",
       "    <tr style=\"text-align: right;\">\n",
       "      <th></th>\n",
       "      <th>date</th>\n",
       "      <th>shop_code</th>\n",
       "      <th>shop_name</th>\n",
       "      <th>shop_type_big</th>\n",
       "      <th>shop_type_small</th>\n",
       "      <th>longitude</th>\n",
       "      <th>latitude</th>\n",
       "      <th>monthly_gain</th>\n",
       "      <th>average_sale_price</th>\n",
       "    </tr>\n",
       "  </thead>\n",
       "  <tbody>\n",
       "    <tr>\n",
       "      <th>0</th>\n",
       "      <td>201709</td>\n",
       "      <td>24432350113</td>\n",
       "      <td>친쿡부대찌개 오류동본점</td>\n",
       "      <td>뷔페</td>\n",
       "      <td>고기 뷔페</td>\n",
       "      <td>126.84</td>\n",
       "      <td>37.50</td>\n",
       "      <td>12881013.37</td>\n",
       "      <td>21514</td>\n",
       "    </tr>\n",
       "    <tr>\n",
       "      <th>1</th>\n",
       "      <td>201709</td>\n",
       "      <td>13141330215</td>\n",
       "      <td>드럼통집</td>\n",
       "      <td>뷔페</td>\n",
       "      <td>고기 뷔페</td>\n",
       "      <td>127.10</td>\n",
       "      <td>37.51</td>\n",
       "      <td>33931612.72</td>\n",
       "      <td>52264</td>\n",
       "    </tr>\n",
       "    <tr>\n",
       "      <th>2</th>\n",
       "      <td>201706</td>\n",
       "      <td>39421720107</td>\n",
       "      <td>하우돈</td>\n",
       "      <td>뷔페</td>\n",
       "      <td>고기 뷔페</td>\n",
       "      <td>126.91</td>\n",
       "      <td>37.52</td>\n",
       "      <td>21456513.16</td>\n",
       "      <td>42656</td>\n",
       "    </tr>\n",
       "    <tr>\n",
       "      <th>3</th>\n",
       "      <td>201706</td>\n",
       "      <td>4602500509</td>\n",
       "      <td>고고생고기</td>\n",
       "      <td>뷔페</td>\n",
       "      <td>고기 뷔페</td>\n",
       "      <td>127.11</td>\n",
       "      <td>37.50</td>\n",
       "      <td>6140707.30</td>\n",
       "      <td>34561</td>\n",
       "    </tr>\n",
       "    <tr>\n",
       "      <th>4</th>\n",
       "      <td>201709</td>\n",
       "      <td>39313780106</td>\n",
       "      <td>현대식당</td>\n",
       "      <td>뷔페</td>\n",
       "      <td>고기 뷔페</td>\n",
       "      <td>126.98</td>\n",
       "      <td>37.52</td>\n",
       "      <td>6091482.50</td>\n",
       "      <td>38423</td>\n",
       "    </tr>\n",
       "    <tr>\n",
       "      <th>...</th>\n",
       "      <td>...</td>\n",
       "      <td>...</td>\n",
       "      <td>...</td>\n",
       "      <td>...</td>\n",
       "      <td>...</td>\n",
       "      <td>...</td>\n",
       "      <td>...</td>\n",
       "      <td>...</td>\n",
       "      <td>...</td>\n",
       "    </tr>\n",
       "    <tr>\n",
       "      <th>2927734</th>\n",
       "      <td>201803</td>\n",
       "      <td>66340980106</td>\n",
       "      <td>최가네 남원추어탕</td>\n",
       "      <td>수산물</td>\n",
       "      <td>회/수산물 일반</td>\n",
       "      <td>126.96</td>\n",
       "      <td>37.53</td>\n",
       "      <td>13693767.90</td>\n",
       "      <td>21511</td>\n",
       "    </tr>\n",
       "    <tr>\n",
       "      <th>2927735</th>\n",
       "      <td>201803</td>\n",
       "      <td>7211800169</td>\n",
       "      <td>우미도라꾸</td>\n",
       "      <td>수산물</td>\n",
       "      <td>회/수산물 일반</td>\n",
       "      <td>127.07</td>\n",
       "      <td>37.54</td>\n",
       "      <td>17432801.29</td>\n",
       "      <td>74559</td>\n",
       "    </tr>\n",
       "    <tr>\n",
       "      <th>2927736</th>\n",
       "      <td>201804</td>\n",
       "      <td>7408500552</td>\n",
       "      <td>연안해물칼국수 행당점</td>\n",
       "      <td>수산물</td>\n",
       "      <td>회/수산물 일반</td>\n",
       "      <td>127.03</td>\n",
       "      <td>37.56</td>\n",
       "      <td>17023101.74</td>\n",
       "      <td>34212</td>\n",
       "    </tr>\n",
       "    <tr>\n",
       "      <th>2927737</th>\n",
       "      <td>201803</td>\n",
       "      <td>36412610212</td>\n",
       "      <td>동해수산</td>\n",
       "      <td>수산물</td>\n",
       "      <td>회/수산물 일반</td>\n",
       "      <td>127.13</td>\n",
       "      <td>37.54</td>\n",
       "      <td>31533908.77</td>\n",
       "      <td>52973</td>\n",
       "    </tr>\n",
       "    <tr>\n",
       "      <th>2927738</th>\n",
       "      <td>201804</td>\n",
       "      <td>2382100470</td>\n",
       "      <td>어사출또 신대방점</td>\n",
       "      <td>수산물</td>\n",
       "      <td>회/수산물 일반</td>\n",
       "      <td>126.91</td>\n",
       "      <td>37.49</td>\n",
       "      <td>33992793.02</td>\n",
       "      <td>35688</td>\n",
       "    </tr>\n",
       "  </tbody>\n",
       "</table>\n",
       "<p>2927739 rows × 9 columns</p>\n",
       "</div>"
      ],
      "text/plain": [
       "           date    shop_code     shop_name shop_type_big shop_type_small  \\\n",
       "0        201709  24432350113  친쿡부대찌개 오류동본점            뷔페           고기 뷔페   \n",
       "1        201709  13141330215          드럼통집            뷔페           고기 뷔페   \n",
       "2        201706  39421720107           하우돈            뷔페           고기 뷔페   \n",
       "3        201706   4602500509         고고생고기            뷔페           고기 뷔페   \n",
       "4        201709  39313780106          현대식당            뷔페           고기 뷔페   \n",
       "...         ...          ...           ...           ...             ...   \n",
       "2927734  201803  66340980106     최가네 남원추어탕           수산물        회/수산물 일반   \n",
       "2927735  201803   7211800169         우미도라꾸           수산물        회/수산물 일반   \n",
       "2927736  201804   7408500552   연안해물칼국수 행당점           수산물        회/수산물 일반   \n",
       "2927737  201803  36412610212          동해수산           수산물        회/수산물 일반   \n",
       "2927738  201804   2382100470     어사출또 신대방점           수산물        회/수산물 일반   \n",
       "\n",
       "         longitude  latitude  monthly_gain  average_sale_price  \n",
       "0           126.84     37.50   12881013.37               21514  \n",
       "1           127.10     37.51   33931612.72               52264  \n",
       "2           126.91     37.52   21456513.16               42656  \n",
       "3           127.11     37.50    6140707.30               34561  \n",
       "4           126.98     37.52    6091482.50               38423  \n",
       "...            ...       ...           ...                 ...  \n",
       "2927734     126.96     37.53   13693767.90               21511  \n",
       "2927735     127.07     37.54   17432801.29               74559  \n",
       "2927736     127.03     37.56   17023101.74               34212  \n",
       "2927737     127.13     37.54   31533908.77               52973  \n",
       "2927738     126.91     37.49   33992793.02               35688  \n",
       "\n",
       "[2927739 rows x 9 columns]"
      ]
     },
     "execution_count": 28,
     "metadata": {},
     "output_type": "execute_result"
    }
   ],
   "source": [
    "path = \"./Dataset/\"\n",
    "\n",
    "data = pd.read_csv(path+\"kwproja_data_big.csv\")\n",
    "\n",
    "# original data -> data\n",
    "data"
   ]
  },
  {
   "cell_type": "markdown",
   "id": "1eecf56c",
   "metadata": {},
   "source": [
    "# EDA \n",
    "\n",
    "2,927,739 rows X 9 columns\n",
    "\n",
    "- 매장 속성 정보\n",
    "  - shop_code -> 식별자 feature, input feature로는 사용하지 않지만 분류를 위해서는 사용할 수 있을 것 같음  \n",
    "  - shop_name -> input feature로는 사용하지 않음 (NLP deep learning 가능성 있음)\n",
    "  - longtitude : 경도, latitude : 위도 -> 매장 위치 (회사 근처, 학교 근처 등 매출 영향성 있음) -> 군집화, labeling 필요\n",
    "  - shop_type_big -> 15 category  -> 업종 (매출 영향성 있음)\n",
    "  - shop_type_small -> 61 category\n",
    "\n",
    "- 매출 정보\n",
    "  - date -> 24 category, 201606~ 201805 까지의 data\n",
    "  - monthly_gain / avearge_sale_price = 한달 총 판매수\n",
    "\n",
    "- 매출 통계 정보-> X\n",
    "\n",
    "\n",
    "##### monthly_gain과 average_sale_price 중 어느 것을 y값으로 둘 것인가? \n",
    "- 월매출 예측 문제로 가정하고 montly_gain 을 y값으로 예측하는 모델 만들기\n",
    "\n",
    "##### shop_code는 input feature에 넣어야 하는가?\n",
    "- 특별한 브랜드가 y값을 결정하는 과적합 요소가 될 수 있으므로\n",
    "- X 에서 shop code, shop name 제외하는 것도 방법\n",
    "- 어느 위치에 어떤 업종으로 어떤 객단가인 매장을 오픈하면 월매출이 어떻게 될까? 문제\n",
    " - X: shop type big, shop type small, longitude, latitude, avg_sale_price, \n",
    " - y: montly_gain"
   ]
  },
  {
   "cell_type": "code",
   "execution_count": 4,
   "id": "8160023d",
   "metadata": {},
   "outputs": [
    {
     "data": {
      "text/plain": [
       "Index(['date', 'shop_code', 'shop_name', 'shop_type_big', 'shop_type_small',\n",
       "       'longitude', 'latitude', 'monthly_gain', 'average_sale_price'],\n",
       "      dtype='object')"
      ]
     },
     "execution_count": 4,
     "metadata": {},
     "output_type": "execute_result"
    }
   ],
   "source": [
    "data.columns"
   ]
  },
  {
   "cell_type": "code",
   "execution_count": 5,
   "id": "0e2e2b0d",
   "metadata": {},
   "outputs": [
    {
     "name": "stdout",
     "output_type": "stream",
     "text": [
      "<class 'pandas.core.frame.DataFrame'>\n",
      "RangeIndex: 2927739 entries, 0 to 2927738\n",
      "Data columns (total 9 columns):\n",
      " #   Column              Dtype  \n",
      "---  ------              -----  \n",
      " 0   date                int64  \n",
      " 1   shop_code           int64  \n",
      " 2   shop_name           object \n",
      " 3   shop_type_big       object \n",
      " 4   shop_type_small     object \n",
      " 5   longitude           float64\n",
      " 6   latitude            float64\n",
      " 7   monthly_gain        float64\n",
      " 8   average_sale_price  int64  \n",
      "dtypes: float64(3), int64(3), object(3)\n",
      "memory usage: 201.0+ MB\n"
     ]
    }
   ],
   "source": [
    "data.info()"
   ]
  },
  {
   "cell_type": "markdown",
   "id": "3f6c9722",
   "metadata": {},
   "source": [
    "# 3. Preprocessing\n",
    "- missing value 제거 \n",
    "    - monthly_gain : 3,605 제거 -> 149,790\n",
    "    - shop_type_big : 4,303 제거 -> 145,487 \n",
    "    - gender feature : 1,187 제거 -> 144,300\n",
    "- shop_code, shop_name : 식별자 feature 이므로 drop \n",
    "- date : 아직은 쓸 수 없으므로 drop\n",
    "    - 여기까지 총 144,300 X 27\n",
    "- shop_type_big(13), shop_type_small(367) : label encodding\n",
    "- longitude, latitude : clustering을 통해 labeling 후 해당 두 열은 drop \n",
    "- MinMaxSaclar 정규화 -> 정규화 column의 범위는??"
   ]
  },
  {
   "cell_type": "code",
   "execution_count": 6,
   "id": "746b4c66",
   "metadata": {},
   "outputs": [],
   "source": [
    "# 원본 data와 따로 관리 -> original data = data, input data = input_data \n",
    "# feature drop\n",
    "input_data = data.copy()\n",
    "input_data = input_data.drop(['date', 'shop_code', 'shop_name'], axis=1)"
   ]
  },
  {
   "cell_type": "code",
   "execution_count": 7,
   "id": "a9ad35fa",
   "metadata": {
    "scrolled": true
   },
   "outputs": [
    {
     "name": "stdout",
     "output_type": "stream",
     "text": [
      "monthly gain null :  0\n",
      "shop type big null :  61\n",
      "shop type small null :  False    2927739\n",
      "Name: shop_type_small, dtype: int64\n"
     ]
    }
   ],
   "source": [
    "# There are no missing values \n",
    "# missing value drop - monthly_gain\n",
    "null_index = input_data[input_data['monthly_gain']==0].index \n",
    "print(\"monthly gain null : \", len(null_index))\n",
    "input_data = input_data.drop(null_index)\n",
    "\n",
    "# missing value drop - shop_type_big\n",
    "null_index = input_data[input_data['shop_type_big'].isnull()==True].index\n",
    "input_data = input_data.drop(null_index)\n",
    "\n",
    "# missing value drop - shop_type_small \n",
    "print(\"shop type big null : \", len(input_data['shop_type_small'].unique()))\n",
    "print(\"shop type small null : \" , input_data['shop_type_small'].isnull().value_counts())"
   ]
  },
  {
   "cell_type": "code",
   "execution_count": 8,
   "id": "8bdb9104",
   "metadata": {},
   "outputs": [],
   "source": [
    "# LabelEncoder\n",
    "from sklearn.preprocessing import LabelEncoder\n",
    "\n",
    "le = LabelEncoder()\n",
    "input_data['shop_type_big'] = le.fit_transform(list(input_data['shop_type_big']))   # fit transform으로 한번에 처리 가능\n",
    "#le.classes_\n",
    "\n",
    "le = LabelEncoder()\n",
    "input_data['shop_type_small'] = le.fit_transform(list(input_data['shop_type_small'])) \n",
    "#le.classes_"
   ]
  },
  {
   "cell_type": "code",
   "execution_count": 9,
   "id": "35a8be3a",
   "metadata": {},
   "outputs": [
    {
     "name": "stdout",
     "output_type": "stream",
     "text": [
      "[[ 37.56623174 126.99472408]\n",
      " [ 37.49489386 126.89660287]\n",
      " [ 37.51700472 127.12122086]\n",
      " [ 37.50144695 127.03450594]\n",
      " [ 37.63887193 127.04537028]\n",
      " [ 37.57395968 126.92464215]\n",
      " [ 37.57050376 127.06794157]\n",
      " [ 37.49666609 126.95199146]\n",
      " [ 37.53990451 126.84568225]]\n",
      "[8 2 1 ... 6 2 1]\n"
     ]
    },
    {
     "name": "stderr",
     "output_type": "stream",
     "text": [
      "C:\\Users\\Hyeongbin\\anaconda3\\lib\\site-packages\\IPython\\core\\pylabtools.py:151: UserWarning: Creating legend with loc=\"best\" can be slow with large amounts of data.\n",
      "  fig.canvas.print_figure(bytes_io, **kw)\n"
     ]
    },
    {
     "data": {
      "image/png": "[encoded data removed]",
      "text/plain": [
       "<Figure size 432x288 with 1 Axes>"
      ]
     },
     "metadata": {
      "needs_background": "light"
     },
     "output_type": "display_data"
    }
   ],
   "source": [
    "# Labeling - KMeans Clustering \n",
    "# longitude + latitude = geo \n",
    "from sklearn.cluster import KMeans\n",
    "\n",
    "kmeans = KMeans(n_clusters=9).fit(input_data[['latitude', 'longitude']])\n",
    "print(kmeans.cluster_centers_)\n",
    "print(kmeans.labels_)\n",
    "\n",
    "# longitude + latitude = geo \n",
    "# So we get inpute_data = 2,927,739 rows × 5 columns\n",
    "input_data['geo'] = kmeans.labels_\n",
    "\n",
    "sns.scatterplot(x='longitude' , y='latitude', hue=\"geo\", data=input_data, palette=\"Paired\")\n",
    "plt.title('k-mean')\n",
    "\n",
    "input_data = input_data.drop(['longitude', 'latitude'], axis=1)"
   ]
  },
  {
   "cell_type": "code",
   "execution_count": null,
   "id": "3538625e",
   "metadata": {},
   "outputs": [],
   "source": [
    "# average_sale_price -> skewed 된 feature \n",
    "# log정규화 \n",
    "from sklearn.preprocessing import MinMaxScaler, RobustScaler, StandardScaler, Normalizer\n",
    "\n",
    "scale_cols = ['average_sale_price']\n",
    "\n",
    "for _ in scale_cols : \n",
    "    scaled_data = pd.DataFrame(np.log1p(input_data[_]))\n",
    "    input_data[_] = scaled_data\n",
    "\n",
    "input_data"
   ]
  },
  {
   "cell_type": "code",
   "execution_count": 12,
   "id": "24488b29",
   "metadata": {},
   "outputs": [
    {
     "data": {
      "text/plain": [
       "<AxesSubplot:xlabel='shop_type_big', ylabel='average_sale_price'>"
      ]
     },
     "execution_count": 12,
     "metadata": {},
     "output_type": "execute_result"
    },
    {
     "data": {
      "image/png": "[encoded data removed]",
      "text/plain": [
       "<Figure size 1080x576 with 1 Axes>"
      ]
     },
     "metadata": {
      "needs_background": "light"
     },
     "output_type": "display_data"
    }
   ],
   "source": [
    "rcParams['figure.figsize'] = 15,8\n",
    "sns.boxplot(x='shop_type_big', y='average_sale_price', data=input_data)"
   ]
  },
  {
   "cell_type": "code",
   "execution_count": 13,
   "id": "e977d128",
   "metadata": {},
   "outputs": [
    {
     "data": {
      "text/plain": [
       "<AxesSubplot:xlabel='shop_type_big', ylabel='monthly_gain'>"
      ]
     },
     "execution_count": 13,
     "metadata": {},
     "output_type": "execute_result"
    },
    {
     "data": {
      "image/png": "[encoded data removed]",
      "text/plain": [
       "<Figure size 1080x576 with 1 Axes>"
      ]
     },
     "metadata": {
      "needs_background": "light"
     },
     "output_type": "display_data"
    }
   ],
   "source": [
    "rcParams['figure.figsize'] = 15,8\n",
    "sns.boxplot(x='shop_type_big', y='monthly_gain', data=input_data)"
   ]
  },
  {
   "cell_type": "code",
   "execution_count": 40,
   "id": "6547ce2b",
   "metadata": {},
   "outputs": [
    {
     "name": "stdout",
     "output_type": "stream",
     "text": [
      "내림차순 기준 분야별로 정렬하여 출력합니다 - monthly_gain\n",
      "min:  [4, 7, 3, 6, 10, 2, 13, 11, 14, 0, 1, 9, 12, 8, 5]\n",
      "mean:  [5, 3, 12, 6, 7, 10, 14, 13, 11, 9, 1, 8, 2, 0, 4]\n",
      "max:  [5, 9, 13, 0, 1, 14, 8, 3, 12, 10, 6, 11, 2, 7, 4]\n"
     ]
    },
    {
     "data": {
      "text/html": [
       "<div>\n",
       "<style scoped>\n",
       "    .dataframe tbody tr th:only-of-type {\n",
       "        vertical-align: middle;\n",
       "    }\n",
       "\n",
       "    .dataframe tbody tr th {\n",
       "        vertical-align: top;\n",
       "    }\n",
       "\n",
       "    .dataframe thead th {\n",
       "        text-align: right;\n",
       "    }\n",
       "</style>\n",
       "<table border=\"1\" class=\"dataframe\">\n",
       "  <thead>\n",
       "    <tr style=\"text-align: right;\">\n",
       "      <th></th>\n",
       "      <th>count</th>\n",
       "      <th>mean</th>\n",
       "      <th>std</th>\n",
       "      <th>min</th>\n",
       "      <th>25%</th>\n",
       "      <th>50%</th>\n",
       "      <th>75%</th>\n",
       "      <th>max</th>\n",
       "    </tr>\n",
       "    <tr>\n",
       "      <th>shop_type_big</th>\n",
       "      <th></th>\n",
       "      <th></th>\n",
       "      <th></th>\n",
       "      <th></th>\n",
       "      <th></th>\n",
       "      <th></th>\n",
       "      <th></th>\n",
       "      <th></th>\n",
       "    </tr>\n",
       "  </thead>\n",
       "  <tbody>\n",
       "    <tr>\n",
       "      <th>0</th>\n",
       "      <td>318339.00</td>\n",
       "      <td>13632884.54</td>\n",
       "      <td>26295553.89</td>\n",
       "      <td>50.08</td>\n",
       "      <td>3252624.81</td>\n",
       "      <td>7505698.33</td>\n",
       "      <td>15909550.27</td>\n",
       "      <td>2454380350.60</td>\n",
       "    </tr>\n",
       "    <tr>\n",
       "      <th>1</th>\n",
       "      <td>213619.00</td>\n",
       "      <td>19719527.02</td>\n",
       "      <td>28706052.33</td>\n",
       "      <td>49.63</td>\n",
       "      <td>5770587.82</td>\n",
       "      <td>12058130.24</td>\n",
       "      <td>23826346.30</td>\n",
       "      <td>1535740006.14</td>\n",
       "    </tr>\n",
       "    <tr>\n",
       "      <th>2</th>\n",
       "      <td>188263.00</td>\n",
       "      <td>15053556.30</td>\n",
       "      <td>19543045.12</td>\n",
       "      <td>253.05</td>\n",
       "      <td>3471252.46</td>\n",
       "      <td>8711467.56</td>\n",
       "      <td>19694451.96</td>\n",
       "      <td>594568831.67</td>\n",
       "    </tr>\n",
       "    <tr>\n",
       "      <th>3</th>\n",
       "      <td>24891.00</td>\n",
       "      <td>36001109.95</td>\n",
       "      <td>70222881.23</td>\n",
       "      <td>503.42</td>\n",
       "      <td>6552622.10</td>\n",
       "      <td>15851043.88</td>\n",
       "      <td>36195659.42</td>\n",
       "      <td>1246631436.93</td>\n",
       "    </tr>\n",
       "    <tr>\n",
       "      <th>4</th>\n",
       "      <td>47.00</td>\n",
       "      <td>4971385.58</td>\n",
       "      <td>3441529.09</td>\n",
       "      <td>31102.45</td>\n",
       "      <td>2922138.00</td>\n",
       "      <td>4186328.34</td>\n",
       "      <td>6760663.68</td>\n",
       "      <td>15394364.73</td>\n",
       "    </tr>\n",
       "    <tr>\n",
       "      <th>5</th>\n",
       "      <td>359034.00</td>\n",
       "      <td>116397419.86</td>\n",
       "      <td>1569075536.95</td>\n",
       "      <td>5.06</td>\n",
       "      <td>7382320.10</td>\n",
       "      <td>27178602.55</td>\n",
       "      <td>47733778.69</td>\n",
       "      <td>181237335603.49</td>\n",
       "    </tr>\n",
       "    <tr>\n",
       "      <th>6</th>\n",
       "      <td>131323.00</td>\n",
       "      <td>28338011.74</td>\n",
       "      <td>33013325.12</td>\n",
       "      <td>493.80</td>\n",
       "      <td>8455953.14</td>\n",
       "      <td>18101518.61</td>\n",
       "      <td>36318652.47</td>\n",
       "      <td>703395339.57</td>\n",
       "    </tr>\n",
       "    <tr>\n",
       "      <th>7</th>\n",
       "      <td>13726.00</td>\n",
       "      <td>25495120.25</td>\n",
       "      <td>38188710.77</td>\n",
       "      <td>5593.31</td>\n",
       "      <td>6093858.38</td>\n",
       "      <td>13859828.04</td>\n",
       "      <td>28725833.43</td>\n",
       "      <td>550879240.77</td>\n",
       "    </tr>\n",
       "    <tr>\n",
       "      <th>8</th>\n",
       "      <td>254766.00</td>\n",
       "      <td>15803340.87</td>\n",
       "      <td>22753249.79</td>\n",
       "      <td>5.55</td>\n",
       "      <td>3687630.29</td>\n",
       "      <td>9033763.00</td>\n",
       "      <td>19227524.34</td>\n",
       "      <td>1289820781.86</td>\n",
       "    </tr>\n",
       "    <tr>\n",
       "      <th>9</th>\n",
       "      <td>455192.00</td>\n",
       "      <td>20417545.97</td>\n",
       "      <td>78472248.13</td>\n",
       "      <td>49.44</td>\n",
       "      <td>2237639.52</td>\n",
       "      <td>6398832.00</td>\n",
       "      <td>17318475.94</td>\n",
       "      <td>11699138265.56</td>\n",
       "    </tr>\n",
       "    <tr>\n",
       "      <th>10</th>\n",
       "      <td>83488.00</td>\n",
       "      <td>25322637.66</td>\n",
       "      <td>31280422.83</td>\n",
       "      <td>493.80</td>\n",
       "      <td>8029402.82</td>\n",
       "      <td>16006683.28</td>\n",
       "      <td>30874311.91</td>\n",
       "      <td>714968397.12</td>\n",
       "    </tr>\n",
       "    <tr>\n",
       "      <th>11</th>\n",
       "      <td>98201.00</td>\n",
       "      <td>21043979.17</td>\n",
       "      <td>30650347.20</td>\n",
       "      <td>55.38</td>\n",
       "      <td>3178903.64</td>\n",
       "      <td>9812952.69</td>\n",
       "      <td>29231947.41</td>\n",
       "      <td>607811136.24</td>\n",
       "    </tr>\n",
       "    <tr>\n",
       "      <th>12</th>\n",
       "      <td>112420.00</td>\n",
       "      <td>29656802.61</td>\n",
       "      <td>39582896.63</td>\n",
       "      <td>49.37</td>\n",
       "      <td>7359411.89</td>\n",
       "      <td>17865797.94</td>\n",
       "      <td>36184657.86</td>\n",
       "      <td>838346597.43</td>\n",
       "    </tr>\n",
       "    <tr>\n",
       "      <th>13</th>\n",
       "      <td>130544.00</td>\n",
       "      <td>25152372.93</td>\n",
       "      <td>60055572.85</td>\n",
       "      <td>251.79</td>\n",
       "      <td>5233673.41</td>\n",
       "      <td>12564552.00</td>\n",
       "      <td>27443949.52</td>\n",
       "      <td>4502280301.80</td>\n",
       "    </tr>\n",
       "    <tr>\n",
       "      <th>14</th>\n",
       "      <td>543886.00</td>\n",
       "      <td>25171006.70</td>\n",
       "      <td>38543045.25</td>\n",
       "      <td>50.61</td>\n",
       "      <td>5727531.55</td>\n",
       "      <td>14123414.79</td>\n",
       "      <td>30392434.57</td>\n",
       "      <td>1338750027.12</td>\n",
       "    </tr>\n",
       "  </tbody>\n",
       "</table>\n",
       "</div>"
      ],
      "text/plain": [
       "                  count         mean           std      min        25%  \\\n",
       "shop_type_big                                                            \n",
       "0             318339.00  13632884.54   26295553.89    50.08 3252624.81   \n",
       "1             213619.00  19719527.02   28706052.33    49.63 5770587.82   \n",
       "2             188263.00  15053556.30   19543045.12   253.05 3471252.46   \n",
       "3              24891.00  36001109.95   70222881.23   503.42 6552622.10   \n",
       "4                 47.00   4971385.58    3441529.09 31102.45 2922138.00   \n",
       "5             359034.00 116397419.86 1569075536.95     5.06 7382320.10   \n",
       "6             131323.00  28338011.74   33013325.12   493.80 8455953.14   \n",
       "7              13726.00  25495120.25   38188710.77  5593.31 6093858.38   \n",
       "8             254766.00  15803340.87   22753249.79     5.55 3687630.29   \n",
       "9             455192.00  20417545.97   78472248.13    49.44 2237639.52   \n",
       "10             83488.00  25322637.66   31280422.83   493.80 8029402.82   \n",
       "11             98201.00  21043979.17   30650347.20    55.38 3178903.64   \n",
       "12            112420.00  29656802.61   39582896.63    49.37 7359411.89   \n",
       "13            130544.00  25152372.93   60055572.85   251.79 5233673.41   \n",
       "14            543886.00  25171006.70   38543045.25    50.61 5727531.55   \n",
       "\n",
       "                      50%         75%             max  \n",
       "shop_type_big                                          \n",
       "0              7505698.33 15909550.27   2454380350.60  \n",
       "1             12058130.24 23826346.30   1535740006.14  \n",
       "2              8711467.56 19694451.96    594568831.67  \n",
       "3             15851043.88 36195659.42   1246631436.93  \n",
       "4              4186328.34  6760663.68     15394364.73  \n",
       "5             27178602.55 47733778.69 181237335603.49  \n",
       "6             18101518.61 36318652.47    703395339.57  \n",
       "7             13859828.04 28725833.43    550879240.77  \n",
       "8              9033763.00 19227524.34   1289820781.86  \n",
       "9              6398832.00 17318475.94  11699138265.56  \n",
       "10            16006683.28 30874311.91    714968397.12  \n",
       "11             9812952.69 29231947.41    607811136.24  \n",
       "12            17865797.94 36184657.86    838346597.43  \n",
       "13            12564552.00 27443949.52   4502280301.80  \n",
       "14            14123414.79 30392434.57   1338750027.12  "
      ]
     },
     "execution_count": 40,
     "metadata": {},
     "output_type": "execute_result"
    }
   ],
   "source": [
    "group_big_gain = input_data[['shop_type_big', 'monthly_gain']].groupby('shop_type_big')\n",
    "df_group_big_gain = group_big_gain.describe().droplevel(axis=1,level=0)\n",
    "\n",
    "# monthly_gain을 shop_type_big 분야별로 정렬하여 출력\n",
    "print(\"내림차순 기준 분야별로 정렬하여 출력합니다 - monthly_gain\")\n",
    "print(\"min: \", list(df_group_big_gain.sort_values(by=['min'], ascending=False).index))\n",
    "print(\"mean: \", list(df_group_big_gain.sort_values(by=['mean'], ascending=False).index))\n",
    "print(\"max: \", list(df_group_big_gain.sort_values(by=['max'], ascending=False).index))\n",
    "\n",
    "df_group_big_gain"
   ]
  },
  {
   "cell_type": "code",
   "execution_count": 20,
   "id": "9ee31831",
   "metadata": {},
   "outputs": [
    {
     "data": {
      "text/plain": [
       "0          AxesSubplot(0.1,0.736957;0.173913x0.163043)\n",
       "1     AxesSubplot(0.308696,0.736957;0.173913x0.163043)\n",
       "2     AxesSubplot(0.517391,0.736957;0.173913x0.163043)\n",
       "3     AxesSubplot(0.726087,0.736957;0.173913x0.163043)\n",
       "4          AxesSubplot(0.1,0.541304;0.173913x0.163043)\n",
       "5     AxesSubplot(0.308696,0.541304;0.173913x0.163043)\n",
       "6     AxesSubplot(0.517391,0.541304;0.173913x0.163043)\n",
       "7     AxesSubplot(0.726087,0.541304;0.173913x0.163043)\n",
       "8          AxesSubplot(0.1,0.345652;0.173913x0.163043)\n",
       "9     AxesSubplot(0.308696,0.345652;0.173913x0.163043)\n",
       "10    AxesSubplot(0.517391,0.345652;0.173913x0.163043)\n",
       "11    AxesSubplot(0.726087,0.345652;0.173913x0.163043)\n",
       "12             AxesSubplot(0.1,0.15;0.173913x0.163043)\n",
       "13        AxesSubplot(0.308696,0.15;0.173913x0.163043)\n",
       "14        AxesSubplot(0.517391,0.15;0.173913x0.163043)\n",
       "dtype: object"
      ]
     },
     "execution_count": 20,
     "metadata": {},
     "output_type": "execute_result"
    },
    {
     "data": {
      "image/png": "[encoded data removed]",
      "text/plain": [
       "<Figure size 864x1152 with 16 Axes>"
      ]
     },
     "metadata": {
      "needs_background": "light"
     },
     "output_type": "display_data"
    }
   ],
   "source": [
    "group_big_gain.boxplot(figsize=(12,16))"
   ]
  },
  {
   "cell_type": "markdown",
   "id": "08ffaff6",
   "metadata": {},
   "source": [
    "# 4. Target Variable Labeling\n",
    "### 어떻게 라벨링 할 것인가?\n",
    "- 원래 가격대에 대한 정보(price_dict)는 계속 가져가야 함! "
   ]
  },
  {
   "cell_type": "code",
   "execution_count": 17,
   "id": "6d6947c7",
   "metadata": {},
   "outputs": [
    {
     "data": {
      "text/html": [
       "<div>\n",
       "<style scoped>\n",
       "    .dataframe tbody tr th:only-of-type {\n",
       "        vertical-align: middle;\n",
       "    }\n",
       "\n",
       "    .dataframe tbody tr th {\n",
       "        vertical-align: top;\n",
       "    }\n",
       "\n",
       "    .dataframe thead th {\n",
       "        text-align: right;\n",
       "    }\n",
       "</style>\n",
       "<table border=\"1\" class=\"dataframe\">\n",
       "  <thead>\n",
       "    <tr style=\"text-align: right;\">\n",
       "      <th></th>\n",
       "      <th>shop_type_big</th>\n",
       "      <th>shop_type_small</th>\n",
       "      <th>monthly_gain</th>\n",
       "      <th>average_sale_price</th>\n",
       "      <th>geo</th>\n",
       "    </tr>\n",
       "  </thead>\n",
       "  <tbody>\n",
       "    <tr>\n",
       "      <th>0</th>\n",
       "      <td>3</td>\n",
       "      <td>0</td>\n",
       "      <td>12881013.37</td>\n",
       "      <td>21514</td>\n",
       "      <td>8</td>\n",
       "    </tr>\n",
       "    <tr>\n",
       "      <th>1</th>\n",
       "      <td>3</td>\n",
       "      <td>0</td>\n",
       "      <td>33931612.72</td>\n",
       "      <td>52264</td>\n",
       "      <td>2</td>\n",
       "    </tr>\n",
       "    <tr>\n",
       "      <th>2</th>\n",
       "      <td>3</td>\n",
       "      <td>0</td>\n",
       "      <td>21456513.16</td>\n",
       "      <td>42656</td>\n",
       "      <td>1</td>\n",
       "    </tr>\n",
       "    <tr>\n",
       "      <th>3</th>\n",
       "      <td>3</td>\n",
       "      <td>0</td>\n",
       "      <td>6140707.30</td>\n",
       "      <td>34561</td>\n",
       "      <td>2</td>\n",
       "    </tr>\n",
       "    <tr>\n",
       "      <th>4</th>\n",
       "      <td>3</td>\n",
       "      <td>0</td>\n",
       "      <td>6091482.50</td>\n",
       "      <td>38423</td>\n",
       "      <td>7</td>\n",
       "    </tr>\n",
       "  </tbody>\n",
       "</table>\n",
       "</div>"
      ],
      "text/plain": [
       "   shop_type_big  shop_type_small  monthly_gain  average_sale_price  geo\n",
       "0              3                0   12881013.37               21514    8\n",
       "1              3                0   33931612.72               52264    2\n",
       "2              3                0   21456513.16               42656    1\n",
       "3              3                0    6140707.30               34561    2\n",
       "4              3                0    6091482.50               38423    7"
      ]
     },
     "execution_count": 17,
     "metadata": {},
     "output_type": "execute_result"
    }
   ],
   "source": [
    "# pandas option 설정 하는 코드\n",
    "# monthly_gain의 경우 부동소수점으로 나타나서 보기 어려울땐 윗 줄의 주석을 제거하고 아래에 주석을 추가하고\n",
    "# 다시 원래대로 돌리고 싶다면 아래에 주석제거, 위에 주석추가\n",
    "pd.options.display.float_format = '{:.2f}'.format\n",
    "#pd.reset_option('display.float_format')\n",
    "\n",
    "input_data.head()"
   ]
  },
  {
   "cell_type": "code",
   "execution_count": 21,
   "id": "23870c09",
   "metadata": {},
   "outputs": [
    {
     "name": "stdout",
     "output_type": "stream",
     "text": [
      "[ 3 14  2  1  6 10 13 11 12  8  5  4  7  9  0]\n"
     ]
    },
    {
     "data": {
      "text/plain": [
       "<AxesSubplot:xlabel='shop_type_small'>"
      ]
     },
     "execution_count": 21,
     "metadata": {},
     "output_type": "execute_result"
    },
    {
     "data": {
      "image/png": "[encoded data removed]",
      "text/plain": [
       "<Figure size 1800x720 with 1 Axes>"
      ]
     },
     "metadata": {
      "needs_background": "light"
     },
     "output_type": "display_data"
    }
   ],
   "source": [
    "# shop_type_big 으로 묶은 후 shop_type_small 간의 평균 가격대를 비교하는 코드 \n",
    "# 제조같은 분야는 하나의 소분야가 압도적으로 가격대가 높게 형성되어 있고 나머지는 비슷비슷함\n",
    "# 스포츠 같은 경우는 모든 소분야가 비슷한 가격대를 형성함 \n",
    "df_check = input_data[['monthly_gain', 'shop_type_small', 'shop_type_big']]\n",
    "typebig_list = df_check['shop_type_big'].unique()\n",
    "print(typebig_list)\n",
    "\n",
    "df_typesmall = []\n",
    "for _ in typebig_list :\n",
    "    df = df_check[df_check['shop_type_big'] == _ ].groupby('shop_type_small').describe().droplevel(axis=1,level=0)\n",
    "    df_typesmall.append(df)\n",
    "df_typesmall[1].plot.bar(y=['count','mean'], figsize=(25,10))"
   ]
  },
  {
   "cell_type": "markdown",
   "id": "3d31c910",
   "metadata": {},
   "source": [
    "#### Labeling 1) quantity하게, 백분율을 이용해서\n",
    "\n",
    "- **Label(10)**  min 10% 20% ... 80% 90% max의 값을 찾은 후, monthly_gain에 대해 두 범위 사이에 존재하는 값에 대해서 평균 값으로 라벨링 합니다. \n",
    "    - 예) min 과 10% 사이의 값 -> min과 10%의 평균 값으로 라벨링\n",
    "    - 라벨링 분포가 정확히 14432~14430 사이로 떨어짐 -> 오로지 백분율로 잘랐기 때문에 분포에 대한 걱정은 안해도 됨\n",
    "    - accuracy f-1score : 0.50 ~ 0.49\n",
    "- **Label(3)**  위와 동일한 방식으로 자릅니다. \n",
    "    - 0 ~ 33 ~ 66 ~ 99(100) -> 총 3개의 label 생성\n",
    "    - 1: 3,669,015.0075000003, 2: 18,734,738.491500005, 3: 303,196,624.6690003\n",
    "    - 3백, 2천(1천8백만), 3억\n",
    "    - accuracy f-1score : 0.84 ~ 0.82\n",
    "- **Label(4)**  위와 동일한 방식으로 자릅니다. \n",
    "    - 0 ~ 25 ~ 50 ~ 75 ~ 100 -> 총 4개의 label 생성\n",
    "    - 1: 2,324,858.25, 2: 10,317,593.25, 3: 29,815,219.125, 4: 32,692,544,860.4\n",
    "    - 2백, 1천만, 3천만(2천9백), 326억\n",
    "    - accuracy f-1score : 0.78 ~ 0.76\n",
    "- **Label(5)**  위와 동일한 방식으로 자릅니다. \n",
    "    - 0 ~ 20 ~ 40 ~ 60 ~ 80 ~ 100 -> 총 5개의 label 생성\n",
    "    - 1: 1,622,880.0, 2: 6,773,160.0, 3: 17,044,674.75,4: 39,214,985.75, 5: 32,698,042,967.275\n",
    "    - 1백만, 6백만, 1천7백만, 4천(3천9백만), 326억\n",
    "    - accuracy f-1score : 0.71 ~ 0.70\n",
    "- 백분율로 자르는 방법\n",
    "    - labe(10)의 경우 유난히 4~8 label에 대해서는 잘 못맞춤 -> monthly_gain을 일렬로 세웠을 때 앞 뒤로 뭉쳐있어서 그런 것 같음 \n",
    "    - 무작정 quantity하게 값을 나눠서 라벨링 하는 것은 좋은 것 같지 않음..\n",
    "    - 앞, 뒤로는 자잘하게 자르고 가운데는 큼직하게 잘라야..?\n",
    "    - 확실히 class의 개수가 많아질수록 accuracy가 낮아짐"
   ]
  },
  {
   "cell_type": "code",
   "execution_count": 15,
   "id": "38ac967a",
   "metadata": {},
   "outputs": [
    {
     "name": "stdout",
     "output_type": "stream",
     "text": [
      "{}\n"
     ]
    },
    {
     "data": {
      "text/plain": [
       "array([ 6,  9,  7,  4,  1, 10,  3,  5,  8,  2], dtype=int64)"
      ]
     },
     "execution_count": 15,
     "metadata": {},
     "output_type": "execute_result"
    }
   ],
   "source": [
    "price_dict = {}  # original price를 저장하기 위한 dict\n",
    "price_list = [0] # 시작 min 값은 0 \n",
    "for i in range(1, 11) :# 1 2 3  \n",
    "    price_list.append(input_data['monthly_gain'].quantile(q=i*0.1)) # 10% ~ 100% 값을 가져옵니다    \n",
    "\n",
    "def labeling(x) : \n",
    "    for i in range(1, len(price_list)) :\n",
    "        price_dict[i] = (price_list[i]+price_list[i-1])/2\n",
    "        if x < price_list[i] and x >= price_list[i-1] : return i\n",
    "    return i\n",
    "\n",
    "print(price_dict)\n",
    "input_data['monthly_gain'] = input_data.monthly_gain.apply(labeling)\n",
    "input_data['monthly_gain'].unique()"
   ]
  },
  {
   "cell_type": "code",
   "execution_count": 16,
   "id": "3b663faf",
   "metadata": {},
   "outputs": [
    {
     "name": "stdout",
     "output_type": "stream",
     "text": [
      "Skewness: -0.000000\n",
      "Kurtosis: -1.224243\n"
     ]
    }
   ],
   "source": [
    "print(\"Skewness: %f\" % input_data['monthly_gain'].skew())\n",
    "print(\"Kurtosis: %f\" % input_data['monthly_gain'].kurt())"
   ]
  },
  {
   "cell_type": "code",
   "execution_count": 17,
   "id": "3c7d18d7",
   "metadata": {},
   "outputs": [
    {
     "name": "stderr",
     "output_type": "stream",
     "text": [
      "C:\\Users\\Hyeongbin\\anaconda3\\lib\\site-packages\\seaborn\\distributions.py:2619: FutureWarning: `distplot` is a deprecated function and will be removed in a future version. Please adapt your code to use either `displot` (a figure-level function with similar flexibility) or `histplot` (an axes-level function for histograms).\n",
      "  warnings.warn(msg, FutureWarning)\n"
     ]
    },
    {
     "data": {
      "text/plain": [
       "Text(0.5, 1.0, 'Monthly gain Histogram with Density Plot')"
      ]
     },
     "execution_count": 17,
     "metadata": {},
     "output_type": "execute_result"
    },
    {
     "data": {
      "image/png": "[encoded data removed]",
      "text/plain": [
       "<Figure size 1080x576 with 1 Axes>"
      ]
     },
     "metadata": {
      "needs_background": "light"
     },
     "output_type": "display_data"
    }
   ],
   "source": [
    "ax = plt.subplots()\n",
    "ax = sns.distplot(input_data['monthly_gain'], hist = True)\n",
    "ax.set_title('Monthly gain Histogram with Density Plot')"
   ]
  },
  {
   "cell_type": "code",
   "execution_count": 18,
   "id": "d45fd877",
   "metadata": {},
   "outputs": [
    {
     "data": {
      "text/plain": [
       "{1: 766177.392,\n",
       " 2: 2416853.102,\n",
       " 3: 4367341.306000001,\n",
       " 4: 6771578.880000001,\n",
       " 5: 9842625.509,\n",
       " 6: 13910004.138000002,\n",
       " 7: 19613928.162,\n",
       " 8: 28182833.791999996,\n",
       " 9: 43187748.551,\n",
       " 10: 90645164352.75299}"
      ]
     },
     "execution_count": 18,
     "metadata": {},
     "output_type": "execute_result"
    }
   ],
   "source": [
    "price_dict"
   ]
  },
  {
   "cell_type": "markdown",
   "id": "a35dba1e",
   "metadata": {},
   "source": [
    "#### Labeling 2) shop_type_big에 따라 중간값, 편차를 이용하자\n",
    "\n",
    "- **Label(10)**  min 10% 20% ... 80% 90% max의 값을 찾은 후, monthly_gain에 대해 두 범위 사이에 존재하는 값에 대해서 평균 값으로 라벨링 합니다. \n",
    "    - 예) min 과 10% 사이의 값 -> min과 10%의 평균 값으로 라벨링\n",
    "    - 라벨링 분포가 정확히 14432~14430 사이로 떨어짐 -> 오로지 백분율로 잘랐기 때문에 분포에 대한 걱정은 안해도 됨\n",
    "    - accuracy f-1score : 0.50 ~ 0.49\n",
    "- **Label(3)**  위와 동일한 방식으로 자릅니다. \n",
    "    - 0 ~ 33 ~ 66 ~ 99(100) -> 총 3개의 label 생성\n",
    "    - 1: 3,669,015.0075000003, 2: 18,734,738.491500005, 3: 303,196,624.6690003\n",
    "    - 3백, 2천(1천8백만), 3억\n",
    "    - accuracy f-1score : 0.84 ~ 0.82\n",
    "- **Label(4)**  위와 동일한 방식으로 자릅니다. \n",
    "    - 0 ~ 25 ~ 50 ~ 75 ~ 100 -> 총 4개의 label 생성\n",
    "    - 1: 2,324,858.25, 2: 10,317,593.25, 3: 29,815,219.125, 4: 32,692,544,860.4\n",
    "    - 2백, 1천만, 3천만(2천9백), 326억\n",
    "    - accuracy f-1score : 0.78 ~ 0.76\n",
    "- **Label(5)**  위와 동일한 방식으로 자릅니다. \n",
    "    - 0 ~ 20 ~ 40 ~ 60 ~ 80 ~ 100 -> 총 5개의 label 생성\n",
    "    - 1: 1,622,880.0, 2: 6,773,160.0, 3: 17,044,674.75,4: 39,214,985.75, 5: 32,698,042,967.275\n",
    "    - 1백만, 6백만, 1천7백만, 4천(3천9백만), 326억\n",
    "    - accuracy f-1score : 0.71 ~ 0.70\n",
    "- 평균값과 편차를 이용하는 방법 \n",
    "    - "
   ]
  },
  {
   "cell_type": "markdown",
   "id": "ad8b07a3",
   "metadata": {},
   "source": [
    "### "
   ]
  },
  {
   "cell_type": "markdown",
   "id": "55412fa2",
   "metadata": {},
   "source": [
    "# 5. Modeling\n",
    "- XGB\n",
    "- LGBM\n",
    "- MultiClass Classification "
   ]
  },
  {
   "cell_type": "code",
   "execution_count": 19,
   "id": "0eab8ebf",
   "metadata": {},
   "outputs": [],
   "source": [
    "input_data_y = input_data['monthly_gain'].copy()\n",
    "input_data_X = input_data.drop(['monthly_gain'], axis=1)"
   ]
  },
  {
   "cell_type": "code",
   "execution_count": 20,
   "id": "f42ec416",
   "metadata": {},
   "outputs": [],
   "source": [
    "from sklearn.model_selection import train_test_split, cross_validate, KFold, TimeSeriesSplit, GridSearchCV\n",
    "from sklearn.metrics import accuracy_score, classification_report, confusion_matrix\n",
    "\n",
    "from lightgbm import LGBMClassifier\n",
    "from lightgbm import plot_importance \n",
    "from xgboost import XGBClassifier\n",
    "from xgboost import plot_importance\n",
    "\n",
    "from keras.callbacks import EarlyStopping, ModelCheckpoint"
   ]
  },
  {
   "cell_type": "code",
   "execution_count": 21,
   "id": "391ace80",
   "metadata": {},
   "outputs": [],
   "source": [
    "# train/ test data로 split \n",
    "tr_val_X, test_X, tr_val_y, test_y = train_test_split(\n",
    "    input_data_X, \n",
    "    input_data_y, \n",
    "    test_size = 0.2,\n",
    "    shuffle=True,\n",
    "    random_state=42,\n",
    "    stratify=input_data_y # 분포, 모델성능에 굉장히 중요한 요소! Classification 문제에서는 필수!\n",
    ")\n",
    "\n",
    "# train / valid data로 split \n",
    "train_X, valid_X, train_y, valid_y = train_test_split(\n",
    "    tr_val_X,\n",
    "    tr_val_y, \n",
    "    test_size = 0.2, \n",
    "    shuffle=True,\n",
    "    random_state=42,\n",
    "    stratify=tr_val_y\n",
    ")"
   ]
  },
  {
   "cell_type": "code",
   "execution_count": 22,
   "id": "01052e80",
   "metadata": {},
   "outputs": [
    {
     "name": "stdout",
     "output_type": "stream",
     "text": [
      "8     187376\n",
      "9     187376\n",
      "3     187375\n",
      "1     187375\n",
      "10    187375\n",
      "4     187375\n",
      "7     187375\n",
      "6     187375\n",
      "5     187375\n",
      "2     187375\n",
      "Name: monthly_gain, dtype: int64\n",
      "2     58555\n",
      "8     58555\n",
      "10    58555\n",
      "1     58555\n",
      "4     58555\n",
      "3     58555\n",
      "7     58555\n",
      "6     58555\n",
      "9     58554\n",
      "5     58554\n",
      "Name: monthly_gain, dtype: int64\n"
     ]
    }
   ],
   "source": [
    "print(train_y.value_counts())\n",
    "print(test_y.value_counts())"
   ]
  },
  {
   "cell_type": "code",
   "execution_count": 23,
   "id": "4bb1ea5f",
   "metadata": {},
   "outputs": [],
   "source": [
    "# Learning task parameters\n",
    "# multi:softmax : softmax를 이용한 다중 클래스 분류 \n",
    "# multi:softptob : softmax를 이용한 다중 클래스에 대한 예상 확률 반환 \n",
    "# mlogloss : multiclass logloss \n",
    "model_xgb = XGBClassifier(\n",
    "    eval_metric='mlogloss')\n",
    "model_lgbm = LGBMClassifier(\n",
    "    eval_metric='mlogloss')"
   ]
  },
  {
   "cell_type": "code",
   "execution_count": 24,
   "id": "f22d50b2",
   "metadata": {},
   "outputs": [
    {
     "name": "stderr",
     "output_type": "stream",
     "text": [
      "C:\\Users\\Hyeongbin\\anaconda3\\lib\\site-packages\\xgboost\\sklearn.py:888: UserWarning: The use of label encoder in XGBClassifier is deprecated and will be removed in a future release. To remove this warning, do the following: 1) Pass option use_label_encoder=False when constructing XGBClassifier object; and 2) Encode your labels (y) as integers starting with 0, i.e. 0, 1, 2, ..., [num_class - 1].\n",
      "  warnings.warn(label_encoder_deprecation_msg, UserWarning)\n"
     ]
    },
    {
     "name": "stdout",
     "output_type": "stream",
     "text": [
      "[0]\tvalidation_0-mlogloss:2.25551\n",
      "[1]\tvalidation_0-mlogloss:2.22369\n",
      "[2]\tvalidation_0-mlogloss:2.20208\n",
      "[3]\tvalidation_0-mlogloss:2.18623\n",
      "[4]\tvalidation_0-mlogloss:2.17367\n",
      "[5]\tvalidation_0-mlogloss:2.16448\n",
      "[6]\tvalidation_0-mlogloss:2.15633\n",
      "[7]\tvalidation_0-mlogloss:2.14980\n",
      "[8]\tvalidation_0-mlogloss:2.14446\n",
      "[9]\tvalidation_0-mlogloss:2.13999\n",
      "[10]\tvalidation_0-mlogloss:2.13619\n",
      "[11]\tvalidation_0-mlogloss:2.13203\n",
      "[12]\tvalidation_0-mlogloss:2.12901\n",
      "[13]\tvalidation_0-mlogloss:2.12615\n",
      "[14]\tvalidation_0-mlogloss:2.12336\n",
      "[15]\tvalidation_0-mlogloss:2.12162\n",
      "[16]\tvalidation_0-mlogloss:2.11949\n",
      "[17]\tvalidation_0-mlogloss:2.11795\n",
      "[18]\tvalidation_0-mlogloss:2.11575\n",
      "[19]\tvalidation_0-mlogloss:2.11454\n",
      "[20]\tvalidation_0-mlogloss:2.11331\n",
      "[21]\tvalidation_0-mlogloss:2.11108\n",
      "[22]\tvalidation_0-mlogloss:2.10913\n",
      "[23]\tvalidation_0-mlogloss:2.10742\n",
      "[24]\tvalidation_0-mlogloss:2.10670\n",
      "[25]\tvalidation_0-mlogloss:2.10606\n",
      "[26]\tvalidation_0-mlogloss:2.10498\n",
      "[27]\tvalidation_0-mlogloss:2.10385\n",
      "[28]\tvalidation_0-mlogloss:2.10305\n",
      "[29]\tvalidation_0-mlogloss:2.10185\n",
      "[30]\tvalidation_0-mlogloss:2.10103\n",
      "[31]\tvalidation_0-mlogloss:2.10031\n",
      "[32]\tvalidation_0-mlogloss:2.09987\n",
      "[33]\tvalidation_0-mlogloss:2.09934\n",
      "[34]\tvalidation_0-mlogloss:2.09853\n",
      "[35]\tvalidation_0-mlogloss:2.09792\n",
      "[36]\tvalidation_0-mlogloss:2.09719\n",
      "[37]\tvalidation_0-mlogloss:2.09606\n",
      "[38]\tvalidation_0-mlogloss:2.09555\n",
      "[39]\tvalidation_0-mlogloss:2.09493\n",
      "[40]\tvalidation_0-mlogloss:2.09408\n",
      "[41]\tvalidation_0-mlogloss:2.09347\n",
      "[42]\tvalidation_0-mlogloss:2.09295\n",
      "[43]\tvalidation_0-mlogloss:2.09265\n",
      "[44]\tvalidation_0-mlogloss:2.09213\n",
      "[45]\tvalidation_0-mlogloss:2.09128\n",
      "[46]\tvalidation_0-mlogloss:2.09072\n",
      "[47]\tvalidation_0-mlogloss:2.08991\n",
      "[48]\tvalidation_0-mlogloss:2.08960\n",
      "[49]\tvalidation_0-mlogloss:2.08916\n",
      "[50]\tvalidation_0-mlogloss:2.08888\n",
      "[51]\tvalidation_0-mlogloss:2.08832\n",
      "[52]\tvalidation_0-mlogloss:2.08766\n",
      "[53]\tvalidation_0-mlogloss:2.08710\n",
      "[54]\tvalidation_0-mlogloss:2.08684\n",
      "[55]\tvalidation_0-mlogloss:2.08655\n",
      "[56]\tvalidation_0-mlogloss:2.08625\n",
      "[57]\tvalidation_0-mlogloss:2.08579\n",
      "[58]\tvalidation_0-mlogloss:2.08497\n",
      "[59]\tvalidation_0-mlogloss:2.08464\n",
      "[60]\tvalidation_0-mlogloss:2.08446\n",
      "[61]\tvalidation_0-mlogloss:2.08409\n",
      "[62]\tvalidation_0-mlogloss:2.08392\n",
      "[63]\tvalidation_0-mlogloss:2.08362\n",
      "[64]\tvalidation_0-mlogloss:2.08304\n",
      "[65]\tvalidation_0-mlogloss:2.08273\n",
      "[66]\tvalidation_0-mlogloss:2.08245\n",
      "[67]\tvalidation_0-mlogloss:2.08166\n",
      "[68]\tvalidation_0-mlogloss:2.08143\n",
      "[69]\tvalidation_0-mlogloss:2.08114\n",
      "[70]\tvalidation_0-mlogloss:2.08068\n",
      "[71]\tvalidation_0-mlogloss:2.08046\n",
      "[72]\tvalidation_0-mlogloss:2.08020\n",
      "[73]\tvalidation_0-mlogloss:2.07999\n",
      "[74]\tvalidation_0-mlogloss:2.07918\n",
      "[75]\tvalidation_0-mlogloss:2.07879\n",
      "[76]\tvalidation_0-mlogloss:2.07854\n",
      "[77]\tvalidation_0-mlogloss:2.07816\n",
      "[78]\tvalidation_0-mlogloss:2.07783\n",
      "[79]\tvalidation_0-mlogloss:2.07770\n",
      "[80]\tvalidation_0-mlogloss:2.07730\n",
      "[81]\tvalidation_0-mlogloss:2.07680\n",
      "[82]\tvalidation_0-mlogloss:2.07653\n",
      "[83]\tvalidation_0-mlogloss:2.07626\n",
      "[84]\tvalidation_0-mlogloss:2.07590\n",
      "[85]\tvalidation_0-mlogloss:2.07571\n",
      "[86]\tvalidation_0-mlogloss:2.07555\n",
      "[87]\tvalidation_0-mlogloss:2.07493\n",
      "[88]\tvalidation_0-mlogloss:2.07437\n",
      "[89]\tvalidation_0-mlogloss:2.07387\n",
      "[90]\tvalidation_0-mlogloss:2.07344\n",
      "[91]\tvalidation_0-mlogloss:2.07320\n",
      "[92]\tvalidation_0-mlogloss:2.07303\n",
      "[93]\tvalidation_0-mlogloss:2.07292\n",
      "[94]\tvalidation_0-mlogloss:2.07268\n",
      "[95]\tvalidation_0-mlogloss:2.07216\n",
      "[96]\tvalidation_0-mlogloss:2.07173\n",
      "[97]\tvalidation_0-mlogloss:2.07162\n",
      "[98]\tvalidation_0-mlogloss:2.07131\n",
      "[99]\tvalidation_0-mlogloss:2.07118\n"
     ]
    },
    {
     "data": {
      "text/plain": [
       "XGBClassifier(base_score=0.5, booster='gbtree', colsample_bylevel=1,\n",
       "              colsample_bynode=1, colsample_bytree=1, eval_metric='mlogloss',\n",
       "              gamma=0, gpu_id=-1, importance_type='gain',\n",
       "              interaction_constraints='', learning_rate=0.300000012,\n",
       "              max_delta_step=0, max_depth=6, min_child_weight=1, missing=nan,\n",
       "              monotone_constraints='()', n_estimators=100, n_jobs=6,\n",
       "              num_parallel_tree=1, objective='multi:softprob', random_state=0,\n",
       "              reg_alpha=0, reg_lambda=1, scale_pos_weight=None, subsample=1,\n",
       "              tree_method='exact', validate_parameters=1, verbosity=None)"
      ]
     },
     "execution_count": 24,
     "metadata": {},
     "output_type": "execute_result"
    }
   ],
   "source": [
    "model_xgb.fit(train_X, train_y, eval_set=[(valid_X, valid_y)])"
   ]
  },
  {
   "cell_type": "code",
   "execution_count": 25,
   "id": "4811955d",
   "metadata": {},
   "outputs": [
    {
     "name": "stdout",
     "output_type": "stream",
     "text": [
      "[LightGBM] [Warning] Unknown parameter: eval_metric\n",
      "[1]\tvalid_0's multi_logloss: 2.27174\n",
      "[2]\tvalid_0's multi_logloss: 2.24862\n",
      "[3]\tvalid_0's multi_logloss: 2.23058\n",
      "[4]\tvalid_0's multi_logloss: 2.21606\n",
      "[5]\tvalid_0's multi_logloss: 2.20409\n",
      "[6]\tvalid_0's multi_logloss: 2.19375\n",
      "[7]\tvalid_0's multi_logloss: 2.18508\n",
      "[8]\tvalid_0's multi_logloss: 2.17761\n",
      "[9]\tvalid_0's multi_logloss: 2.17085\n",
      "[10]\tvalid_0's multi_logloss: 2.16535\n",
      "[11]\tvalid_0's multi_logloss: 2.1602\n",
      "[12]\tvalid_0's multi_logloss: 2.15574\n",
      "[13]\tvalid_0's multi_logloss: 2.1518\n",
      "[14]\tvalid_0's multi_logloss: 2.14854\n",
      "[15]\tvalid_0's multi_logloss: 2.14538\n",
      "[16]\tvalid_0's multi_logloss: 2.14254\n",
      "[17]\tvalid_0's multi_logloss: 2.13999\n",
      "[18]\tvalid_0's multi_logloss: 2.13785\n",
      "[19]\tvalid_0's multi_logloss: 2.1355\n",
      "[20]\tvalid_0's multi_logloss: 2.13383\n",
      "[21]\tvalid_0's multi_logloss: 2.13211\n",
      "[22]\tvalid_0's multi_logloss: 2.13032\n",
      "[23]\tvalid_0's multi_logloss: 2.12884\n",
      "[24]\tvalid_0's multi_logloss: 2.12756\n",
      "[25]\tvalid_0's multi_logloss: 2.12637\n",
      "[26]\tvalid_0's multi_logloss: 2.12477\n",
      "[27]\tvalid_0's multi_logloss: 2.1238\n",
      "[28]\tvalid_0's multi_logloss: 2.12251\n",
      "[29]\tvalid_0's multi_logloss: 2.12142\n",
      "[30]\tvalid_0's multi_logloss: 2.12041\n",
      "[31]\tvalid_0's multi_logloss: 2.11937\n",
      "[32]\tvalid_0's multi_logloss: 2.11832\n",
      "[33]\tvalid_0's multi_logloss: 2.11744\n",
      "[34]\tvalid_0's multi_logloss: 2.11677\n",
      "[35]\tvalid_0's multi_logloss: 2.11594\n",
      "[36]\tvalid_0's multi_logloss: 2.1153\n",
      "[37]\tvalid_0's multi_logloss: 2.11453\n",
      "[38]\tvalid_0's multi_logloss: 2.11376\n",
      "[39]\tvalid_0's multi_logloss: 2.11329\n",
      "[40]\tvalid_0's multi_logloss: 2.1125\n",
      "[41]\tvalid_0's multi_logloss: 2.11193\n",
      "[42]\tvalid_0's multi_logloss: 2.11134\n",
      "[43]\tvalid_0's multi_logloss: 2.11084\n",
      "[44]\tvalid_0's multi_logloss: 2.11022\n",
      "[45]\tvalid_0's multi_logloss: 2.10983\n",
      "[46]\tvalid_0's multi_logloss: 2.10928\n",
      "[47]\tvalid_0's multi_logloss: 2.10888\n",
      "[48]\tvalid_0's multi_logloss: 2.10843\n",
      "[49]\tvalid_0's multi_logloss: 2.10803\n",
      "[50]\tvalid_0's multi_logloss: 2.10762\n",
      "[51]\tvalid_0's multi_logloss: 2.10723\n",
      "[52]\tvalid_0's multi_logloss: 2.10686\n",
      "[53]\tvalid_0's multi_logloss: 2.10638\n",
      "[54]\tvalid_0's multi_logloss: 2.10603\n",
      "[55]\tvalid_0's multi_logloss: 2.10574\n",
      "[56]\tvalid_0's multi_logloss: 2.10539\n",
      "[57]\tvalid_0's multi_logloss: 2.1051\n",
      "[58]\tvalid_0's multi_logloss: 2.10472\n",
      "[59]\tvalid_0's multi_logloss: 2.10443\n",
      "[60]\tvalid_0's multi_logloss: 2.10407\n",
      "[61]\tvalid_0's multi_logloss: 2.10382\n",
      "[62]\tvalid_0's multi_logloss: 2.10351\n",
      "[63]\tvalid_0's multi_logloss: 2.10323\n",
      "[64]\tvalid_0's multi_logloss: 2.10288\n",
      "[65]\tvalid_0's multi_logloss: 2.10263\n",
      "[66]\tvalid_0's multi_logloss: 2.10233\n",
      "[67]\tvalid_0's multi_logloss: 2.10205\n",
      "[68]\tvalid_0's multi_logloss: 2.10183\n",
      "[69]\tvalid_0's multi_logloss: 2.10161\n",
      "[70]\tvalid_0's multi_logloss: 2.1013\n",
      "[71]\tvalid_0's multi_logloss: 2.10103\n",
      "[72]\tvalid_0's multi_logloss: 2.10078\n",
      "[73]\tvalid_0's multi_logloss: 2.1006\n",
      "[74]\tvalid_0's multi_logloss: 2.10041\n",
      "[75]\tvalid_0's multi_logloss: 2.10017\n",
      "[76]\tvalid_0's multi_logloss: 2.09995\n",
      "[77]\tvalid_0's multi_logloss: 2.09972\n",
      "[78]\tvalid_0's multi_logloss: 2.09942\n",
      "[79]\tvalid_0's multi_logloss: 2.09927\n",
      "[80]\tvalid_0's multi_logloss: 2.09903\n",
      "[81]\tvalid_0's multi_logloss: 2.09882\n",
      "[82]\tvalid_0's multi_logloss: 2.09861\n",
      "[83]\tvalid_0's multi_logloss: 2.09849\n",
      "[84]\tvalid_0's multi_logloss: 2.09832\n",
      "[85]\tvalid_0's multi_logloss: 2.09813\n",
      "[86]\tvalid_0's multi_logloss: 2.09796\n",
      "[87]\tvalid_0's multi_logloss: 2.09781\n",
      "[88]\tvalid_0's multi_logloss: 2.09763\n",
      "[89]\tvalid_0's multi_logloss: 2.09745\n",
      "[90]\tvalid_0's multi_logloss: 2.09729\n",
      "[91]\tvalid_0's multi_logloss: 2.09711\n",
      "[92]\tvalid_0's multi_logloss: 2.097\n",
      "[93]\tvalid_0's multi_logloss: 2.09683\n",
      "[94]\tvalid_0's multi_logloss: 2.09672\n",
      "[95]\tvalid_0's multi_logloss: 2.09649\n",
      "[96]\tvalid_0's multi_logloss: 2.09627\n",
      "[97]\tvalid_0's multi_logloss: 2.09614\n",
      "[98]\tvalid_0's multi_logloss: 2.09596\n",
      "[99]\tvalid_0's multi_logloss: 2.09583\n",
      "[100]\tvalid_0's multi_logloss: 2.09564\n"
     ]
    },
    {
     "data": {
      "text/plain": [
       "LGBMClassifier(eval_metric='mlogloss')"
      ]
     },
     "execution_count": 25,
     "metadata": {},
     "output_type": "execute_result"
    }
   ],
   "source": [
    "model_lgbm.fit(train_X, train_y, eval_set=[(valid_X, valid_y)])"
   ]
  },
  {
   "cell_type": "code",
   "execution_count": 26,
   "id": "ddedfe6a",
   "metadata": {},
   "outputs": [],
   "source": [
    "pred_xgb = model_xgb.predict(test_X)\n",
    "pred_lgbm = model_lgbm.predict(test_X)"
   ]
  },
  {
   "cell_type": "markdown",
   "id": "0201440a",
   "metadata": {},
   "source": [
    "# 6. Evaluation"
   ]
  },
  {
   "cell_type": "code",
   "execution_count": 27,
   "id": "4e53e2b3",
   "metadata": {},
   "outputs": [],
   "source": [
    "def show_pred(test_y, pred) :\n",
    "    true_y = test_y.to_numpy()\n",
    "    true_y = np.ravel(true_y)\n",
    "    \n",
    "    df_result = pd.DataFrame(list(zip(true_y, pred)), columns=['true_y', 'prediction'])\n",
    "    return df_result\n",
    "    \n",
    "def show_prediction_error(test_y, pred) :\n",
    "    true_y = test_y.to_numpy()\n",
    "    true_y = np.ravel(true_y)\n",
    "    error = pred - true_y\n",
    "    plt.hist(error, bins=25)\n",
    "    plt.xlabel(\"Prediction Error\")\n",
    "    _ = plt.ylabel(\"Count\")\n",
    "    \n",
    "def feature_importance(model_xgb) : \n",
    "    %matplotlib inline\n",
    "    plt.rcParams['axes.unicode_minus'] = False\n",
    "    font_path = \"C:/Windows/Fonts/NGULIM.TTF\"\n",
    "    font = fm.FontProperties(fname=font_path).get_name()\n",
    "    rc('font', family=font)\n",
    "\n",
    "    fig, ax = plt.subplots(figsize=(10,12))\n",
    "    plot_importance(model_xgb, ax=ax)\n",
    "    \n",
    "def graph(pred, test_label) :\n",
    "    plt.figure(figsize=(16, 9))\n",
    "    plt.plot(test_label, label = 'actual')\n",
    "    plt.plot(pred, label = 'prediction')\n",
    "    plt.legend()\n",
    "    plt.show()"
   ]
  },
  {
   "cell_type": "markdown",
   "id": "bb339325",
   "metadata": {},
   "source": [
    "- precision(정밀도) : True -> True \n",
    "- Recall(재현율) : True인 것을 맞춘 비율 \n",
    "- F1 score : precision 과 recall의 조화평균  "
   ]
  },
  {
   "cell_type": "code",
   "execution_count": 28,
   "id": "89def36c",
   "metadata": {},
   "outputs": [
    {
     "name": "stdout",
     "output_type": "stream",
     "text": [
      "              precision    recall  f1-score   support\n",
      "\n",
      "           1       0.30      0.56      0.39     58555\n",
      "           2       0.17      0.24      0.20     58555\n",
      "           3       0.16      0.12      0.13     58555\n",
      "           4       0.16      0.11      0.13     58555\n",
      "           5       0.16      0.08      0.11     58554\n",
      "           6       0.16      0.11      0.13     58555\n",
      "           7       0.15      0.11      0.12     58555\n",
      "           8       0.17      0.10      0.13     58555\n",
      "           9       0.27      0.34      0.30     58554\n",
      "          10       0.31      0.46      0.37     58555\n",
      "\n",
      "    accuracy                           0.22    585548\n",
      "   macro avg       0.20      0.22      0.20    585548\n",
      "weighted avg       0.20      0.22      0.20    585548\n",
      "\n"
     ]
    }
   ],
   "source": [
    "print(classification_report(test_y, pred_xgb))"
   ]
  },
  {
   "cell_type": "code",
   "execution_count": 29,
   "id": "41d7fb22",
   "metadata": {
    "scrolled": false
   },
   "outputs": [
    {
     "name": "stdout",
     "output_type": "stream",
     "text": [
      "              precision    recall  f1-score   support\n",
      "\n",
      "           1       0.24      0.52      0.33     58555\n",
      "           2       0.17      0.23      0.19     58555\n",
      "           3       0.15      0.10      0.12     58555\n",
      "           4       0.15      0.10      0.12     58555\n",
      "           5       0.15      0.08      0.10     58554\n",
      "           6       0.16      0.09      0.12     58555\n",
      "           7       0.15      0.11      0.12     58555\n",
      "           8       0.16      0.09      0.12     58555\n",
      "           9       0.27      0.33      0.30     58554\n",
      "          10       0.30      0.47      0.36     58555\n",
      "\n",
      "    accuracy                           0.21    585548\n",
      "   macro avg       0.19      0.21      0.19    585548\n",
      "weighted avg       0.19      0.21      0.19    585548\n",
      "\n"
     ]
    }
   ],
   "source": [
    "print(classification_report(test_y, pred_lgbm))"
   ]
  },
  {
   "cell_type": "code",
   "execution_count": 30,
   "id": "bd11588d",
   "metadata": {},
   "outputs": [
    {
     "data": {
      "text/html": [
       "<div>\n",
       "<style scoped>\n",
       "    .dataframe tbody tr th:only-of-type {\n",
       "        vertical-align: middle;\n",
       "    }\n",
       "\n",
       "    .dataframe tbody tr th {\n",
       "        vertical-align: top;\n",
       "    }\n",
       "\n",
       "    .dataframe thead th {\n",
       "        text-align: right;\n",
       "    }\n",
       "</style>\n",
       "<table border=\"1\" class=\"dataframe\">\n",
       "  <thead>\n",
       "    <tr style=\"text-align: right;\">\n",
       "      <th></th>\n",
       "      <th>true_y</th>\n",
       "      <th>prediction</th>\n",
       "    </tr>\n",
       "  </thead>\n",
       "  <tbody>\n",
       "    <tr>\n",
       "      <th>0</th>\n",
       "      <td>9</td>\n",
       "      <td>8</td>\n",
       "    </tr>\n",
       "    <tr>\n",
       "      <th>1</th>\n",
       "      <td>2</td>\n",
       "      <td>4</td>\n",
       "    </tr>\n",
       "    <tr>\n",
       "      <th>2</th>\n",
       "      <td>9</td>\n",
       "      <td>9</td>\n",
       "    </tr>\n",
       "    <tr>\n",
       "      <th>3</th>\n",
       "      <td>9</td>\n",
       "      <td>9</td>\n",
       "    </tr>\n",
       "    <tr>\n",
       "      <th>4</th>\n",
       "      <td>8</td>\n",
       "      <td>3</td>\n",
       "    </tr>\n",
       "    <tr>\n",
       "      <th>...</th>\n",
       "      <td>...</td>\n",
       "      <td>...</td>\n",
       "    </tr>\n",
       "    <tr>\n",
       "      <th>585543</th>\n",
       "      <td>6</td>\n",
       "      <td>5</td>\n",
       "    </tr>\n",
       "    <tr>\n",
       "      <th>585544</th>\n",
       "      <td>7</td>\n",
       "      <td>6</td>\n",
       "    </tr>\n",
       "    <tr>\n",
       "      <th>585545</th>\n",
       "      <td>3</td>\n",
       "      <td>2</td>\n",
       "    </tr>\n",
       "    <tr>\n",
       "      <th>585546</th>\n",
       "      <td>7</td>\n",
       "      <td>7</td>\n",
       "    </tr>\n",
       "    <tr>\n",
       "      <th>585547</th>\n",
       "      <td>10</td>\n",
       "      <td>10</td>\n",
       "    </tr>\n",
       "  </tbody>\n",
       "</table>\n",
       "<p>585548 rows × 2 columns</p>\n",
       "</div>"
      ],
      "text/plain": [
       "        true_y  prediction\n",
       "0            9           8\n",
       "1            2           4\n",
       "2            9           9\n",
       "3            9           9\n",
       "4            8           3\n",
       "...        ...         ...\n",
       "585543       6           5\n",
       "585544       7           6\n",
       "585545       3           2\n",
       "585546       7           7\n",
       "585547      10          10\n",
       "\n",
       "[585548 rows x 2 columns]"
      ]
     },
     "execution_count": 30,
     "metadata": {},
     "output_type": "execute_result"
    }
   ],
   "source": [
    "show_pred(test_y, pred_xgb)"
   ]
  },
  {
   "cell_type": "code",
   "execution_count": 31,
   "id": "d14d900d",
   "metadata": {},
   "outputs": [
    {
     "data": {
      "text/html": [
       "<div>\n",
       "<style scoped>\n",
       "    .dataframe tbody tr th:only-of-type {\n",
       "        vertical-align: middle;\n",
       "    }\n",
       "\n",
       "    .dataframe tbody tr th {\n",
       "        vertical-align: top;\n",
       "    }\n",
       "\n",
       "    .dataframe thead th {\n",
       "        text-align: right;\n",
       "    }\n",
       "</style>\n",
       "<table border=\"1\" class=\"dataframe\">\n",
       "  <thead>\n",
       "    <tr style=\"text-align: right;\">\n",
       "      <th></th>\n",
       "      <th>true_y</th>\n",
       "      <th>prediction</th>\n",
       "    </tr>\n",
       "  </thead>\n",
       "  <tbody>\n",
       "    <tr>\n",
       "      <th>0</th>\n",
       "      <td>9</td>\n",
       "      <td>8</td>\n",
       "    </tr>\n",
       "    <tr>\n",
       "      <th>1</th>\n",
       "      <td>2</td>\n",
       "      <td>3</td>\n",
       "    </tr>\n",
       "    <tr>\n",
       "      <th>2</th>\n",
       "      <td>9</td>\n",
       "      <td>8</td>\n",
       "    </tr>\n",
       "    <tr>\n",
       "      <th>3</th>\n",
       "      <td>9</td>\n",
       "      <td>9</td>\n",
       "    </tr>\n",
       "    <tr>\n",
       "      <th>4</th>\n",
       "      <td>8</td>\n",
       "      <td>3</td>\n",
       "    </tr>\n",
       "    <tr>\n",
       "      <th>...</th>\n",
       "      <td>...</td>\n",
       "      <td>...</td>\n",
       "    </tr>\n",
       "    <tr>\n",
       "      <th>585543</th>\n",
       "      <td>6</td>\n",
       "      <td>6</td>\n",
       "    </tr>\n",
       "    <tr>\n",
       "      <th>585544</th>\n",
       "      <td>7</td>\n",
       "      <td>7</td>\n",
       "    </tr>\n",
       "    <tr>\n",
       "      <th>585545</th>\n",
       "      <td>3</td>\n",
       "      <td>2</td>\n",
       "    </tr>\n",
       "    <tr>\n",
       "      <th>585546</th>\n",
       "      <td>7</td>\n",
       "      <td>7</td>\n",
       "    </tr>\n",
       "    <tr>\n",
       "      <th>585547</th>\n",
       "      <td>10</td>\n",
       "      <td>10</td>\n",
       "    </tr>\n",
       "  </tbody>\n",
       "</table>\n",
       "<p>585548 rows × 2 columns</p>\n",
       "</div>"
      ],
      "text/plain": [
       "        true_y  prediction\n",
       "0            9           8\n",
       "1            2           3\n",
       "2            9           8\n",
       "3            9           9\n",
       "4            8           3\n",
       "...        ...         ...\n",
       "585543       6           6\n",
       "585544       7           7\n",
       "585545       3           2\n",
       "585546       7           7\n",
       "585547      10          10\n",
       "\n",
       "[585548 rows x 2 columns]"
      ]
     },
     "execution_count": 31,
     "metadata": {},
     "output_type": "execute_result"
    }
   ],
   "source": [
    "show_pred(test_y, pred_lgbm)"
   ]
  },
  {
   "cell_type": "code",
   "execution_count": 32,
   "id": "928c243c",
   "metadata": {},
   "outputs": [
    {
     "name": "stderr",
     "output_type": "stream",
     "text": [
      "C:\\Users\\Hyeongbin\\anaconda3\\lib\\site-packages\\matplotlib\\backends\\backend_agg.py:240: RuntimeWarning: Glyph 8722 missing from current font.\n",
      "  font.set_text(s, 0.0, flags=flags)\n",
      "C:\\Users\\Hyeongbin\\anaconda3\\lib\\site-packages\\matplotlib\\backends\\backend_agg.py:203: RuntimeWarning: Glyph 8722 missing from current font.\n",
      "  font.set_text(s, 0, flags=flags)\n"
     ]
    },
    {
     "data": {
      "image/png": "[encoded data removed]",
      "text/plain": [
       "<Figure size 1080x576 with 1 Axes>"
      ]
     },
     "metadata": {
      "needs_background": "light"
     },
     "output_type": "display_data"
    }
   ],
   "source": [
    "show_prediction_error(test_y, pred_xgb)"
   ]
  },
  {
   "cell_type": "code",
   "execution_count": 33,
   "id": "2df0c243",
   "metadata": {},
   "outputs": [
    {
     "data": {
      "image/png": "[encoded data removed]",
      "text/plain": [
       "<Figure size 1080x576 with 1 Axes>"
      ]
     },
     "metadata": {
      "needs_background": "light"
     },
     "output_type": "display_data"
    }
   ],
   "source": [
    "show_prediction_error(test_y, pred_lgbm)"
   ]
  },
  {
   "cell_type": "code",
   "execution_count": 72,
   "id": "756228fa",
   "metadata": {},
   "outputs": [
    {
     "data": {
      "text/plain": [
       "<AxesSubplot:>"
      ]
     },
     "execution_count": 72,
     "metadata": {},
     "output_type": "execute_result"
    },
    {
     "data": {
      "image/png": "[encoded data removed]",
      "text/plain": [
       "<Figure size 1080x576 with 1 Axes>"
      ]
     },
     "metadata": {
      "needs_background": "light"
     },
     "output_type": "display_data"
    }
   ],
   "source": [
    "feature_series = pd.Series(data=model_xgb.feature_importances_, index=train_X.columns)\n",
    "feature_series = feature_series.sort_values(ascending=False) \n",
    "sns.barplot(x = feature_series, y=feature_series.index)"
   ]
  },
  {
   "cell_type": "code",
   "execution_count": 73,
   "id": "2b062d60",
   "metadata": {},
   "outputs": [
    {
     "data": {
      "text/plain": [
       "<AxesSubplot:>"
      ]
     },
     "execution_count": 73,
     "metadata": {},
     "output_type": "execute_result"
    },
    {
     "data": {
      "image/png": "[encoded data removed]",
      "text/plain": [
       "<Figure size 1080x576 with 1 Axes>"
      ]
     },
     "metadata": {
      "needs_background": "light"
     },
     "output_type": "display_data"
    }
   ],
   "source": [
    "feature_series = pd.Series(data=model_lgbm.feature_importances_, index=train_X.columns)\n",
    "feature_series = feature_series.sort_values(ascending=False) \n",
    "sns.barplot(x = feature_series, y=feature_series.index)"
   ]
  },
  {
   "cell_type": "code",
   "execution_count": null,
   "id": "bd3cac1a",
   "metadata": {},
   "outputs": [],
   "source": []
  }
 ],
 "metadata": {
  "kernelspec": {
   "display_name": "base",
   "language": "python",
   "name": "base"
  },
  "language_info": {
   "codemirror_mode": {
    "name": "ipython",
    "version": 3
   },
   "file_extension": ".py",
   "mimetype": "text/x-python",
   "name": "python",
   "nbconvert_exporter": "python",
   "pygments_lexer": "ipython3",
   "version": "3.8.12"
  }
 },
 "nbformat": 4,
 "nbformat_minor": 5
}
