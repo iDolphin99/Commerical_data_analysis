{
 "cells": [
  {
   "cell_type": "markdown",
   "id": "e40dea94",
   "metadata": {},
   "source": [
    "# 1. Data Load\n"
   ]
  },
  {
   "cell_type": "code",
   "execution_count": 1,
   "id": "cabb55fa",
   "metadata": {},
   "outputs": [],
   "source": [
    "import numpy as np\n",
    "import pandas as pd\n",
    "import math\n",
    "\n",
    "from scipy import stats #Analysis \n",
    "from scipy.stats import norm \n",
    "import seaborn as sns\n",
    "import matplotlib.pyplot as plt\n",
    "from matplotlib import rcParams\n",
    "%matplotlib inline"
   ]
  },
  {
   "cell_type": "code",
   "execution_count": 2,
   "id": "9ef4a9e7",
   "metadata": {},
   "outputs": [],
   "source": [
    "# 한글 폰트가 깨지면 실행하세요! \n",
    "import matplotlib.font_manager as fm\n",
    "fontlist = fm.findSystemFonts(fontpaths = None, fontext='ttf')\n",
    "# 아래 주석을 지워서 폰트 리스트를 확인하고 한글 폰트를 font_path에 추가합니다\n",
    "fontlist[:]\n",
    "\n",
    "from matplotlib import font_manager, rc\n",
    "#font_path = 'C:\\\\Users\\\\mtang\\\\AppData\\\\Local\\\\Microsoft\\\\Windows\\\\Fonts\\\\NanumSquare.ttf'\n",
    "font_path = 'C:\\\\WINDOWS\\\\Fonts\\\\NanumGothicLight.ttf'\n",
    "font = font_manager.FontProperties(fname=font_path).get_name()\n",
    "rc('font', family=font)"
   ]
  },
  {
   "cell_type": "code",
   "execution_count": 3,
   "id": "175a42b3",
   "metadata": {},
   "outputs": [
    {
     "data": {
      "text/html": [
       "<div>\n",
       "<style scoped>\n",
       "    .dataframe tbody tr th:only-of-type {\n",
       "        vertical-align: middle;\n",
       "    }\n",
       "\n",
       "    .dataframe tbody tr th {\n",
       "        vertical-align: top;\n",
       "    }\n",
       "\n",
       "    .dataframe thead th {\n",
       "        text-align: right;\n",
       "    }\n",
       "</style>\n",
       "<table border=\"1\" class=\"dataframe\">\n",
       "  <thead>\n",
       "    <tr style=\"text-align: right;\">\n",
       "      <th></th>\n",
       "      <th>date</th>\n",
       "      <th>shop_code</th>\n",
       "      <th>shop_name</th>\n",
       "      <th>shop_type_big</th>\n",
       "      <th>shop_type_small</th>\n",
       "      <th>longitude</th>\n",
       "      <th>latitude</th>\n",
       "      <th>monthly_gain</th>\n",
       "      <th>average_sale_price</th>\n",
       "    </tr>\n",
       "  </thead>\n",
       "  <tbody>\n",
       "    <tr>\n",
       "      <th>0</th>\n",
       "      <td>201709</td>\n",
       "      <td>24432350113</td>\n",
       "      <td>친쿡부대찌개 오류동본점</td>\n",
       "      <td>뷔페</td>\n",
       "      <td>고기 뷔페</td>\n",
       "      <td>126.844998</td>\n",
       "      <td>37.496882</td>\n",
       "      <td>12881013.37</td>\n",
       "      <td>21514</td>\n",
       "    </tr>\n",
       "    <tr>\n",
       "      <th>1</th>\n",
       "      <td>201709</td>\n",
       "      <td>13141330215</td>\n",
       "      <td>드럼통집</td>\n",
       "      <td>뷔페</td>\n",
       "      <td>고기 뷔페</td>\n",
       "      <td>127.096574</td>\n",
       "      <td>37.505706</td>\n",
       "      <td>33931612.72</td>\n",
       "      <td>52264</td>\n",
       "    </tr>\n",
       "    <tr>\n",
       "      <th>2</th>\n",
       "      <td>201706</td>\n",
       "      <td>39421720107</td>\n",
       "      <td>하우돈</td>\n",
       "      <td>뷔페</td>\n",
       "      <td>고기 뷔페</td>\n",
       "      <td>126.906290</td>\n",
       "      <td>37.518280</td>\n",
       "      <td>21456513.16</td>\n",
       "      <td>42656</td>\n",
       "    </tr>\n",
       "    <tr>\n",
       "      <th>3</th>\n",
       "      <td>201706</td>\n",
       "      <td>4602500509</td>\n",
       "      <td>고고생고기</td>\n",
       "      <td>뷔페</td>\n",
       "      <td>고기 뷔페</td>\n",
       "      <td>127.109240</td>\n",
       "      <td>37.501153</td>\n",
       "      <td>6140707.30</td>\n",
       "      <td>34561</td>\n",
       "    </tr>\n",
       "    <tr>\n",
       "      <th>4</th>\n",
       "      <td>201709</td>\n",
       "      <td>39313780106</td>\n",
       "      <td>현대식당</td>\n",
       "      <td>뷔페</td>\n",
       "      <td>고기 뷔페</td>\n",
       "      <td>126.980601</td>\n",
       "      <td>37.518535</td>\n",
       "      <td>6091482.50</td>\n",
       "      <td>38423</td>\n",
       "    </tr>\n",
       "    <tr>\n",
       "      <th>...</th>\n",
       "      <td>...</td>\n",
       "      <td>...</td>\n",
       "      <td>...</td>\n",
       "      <td>...</td>\n",
       "      <td>...</td>\n",
       "      <td>...</td>\n",
       "      <td>...</td>\n",
       "      <td>...</td>\n",
       "      <td>...</td>\n",
       "    </tr>\n",
       "    <tr>\n",
       "      <th>2927734</th>\n",
       "      <td>201803</td>\n",
       "      <td>66340980106</td>\n",
       "      <td>최가네 남원추어탕</td>\n",
       "      <td>수산물</td>\n",
       "      <td>회/수산물 일반</td>\n",
       "      <td>126.963825</td>\n",
       "      <td>37.526863</td>\n",
       "      <td>13693767.90</td>\n",
       "      <td>21511</td>\n",
       "    </tr>\n",
       "    <tr>\n",
       "      <th>2927735</th>\n",
       "      <td>201803</td>\n",
       "      <td>7211800169</td>\n",
       "      <td>우미도라꾸</td>\n",
       "      <td>수산물</td>\n",
       "      <td>회/수산물 일반</td>\n",
       "      <td>127.070132</td>\n",
       "      <td>37.536551</td>\n",
       "      <td>17432801.29</td>\n",
       "      <td>74559</td>\n",
       "    </tr>\n",
       "    <tr>\n",
       "      <th>2927736</th>\n",
       "      <td>201804</td>\n",
       "      <td>7408500552</td>\n",
       "      <td>연안해물칼국수 행당점</td>\n",
       "      <td>수산물</td>\n",
       "      <td>회/수산물 일반</td>\n",
       "      <td>127.033712</td>\n",
       "      <td>37.559118</td>\n",
       "      <td>17023101.74</td>\n",
       "      <td>34212</td>\n",
       "    </tr>\n",
       "    <tr>\n",
       "      <th>2927737</th>\n",
       "      <td>201803</td>\n",
       "      <td>36412610212</td>\n",
       "      <td>동해수산</td>\n",
       "      <td>수산물</td>\n",
       "      <td>회/수산물 일반</td>\n",
       "      <td>127.127448</td>\n",
       "      <td>37.537151</td>\n",
       "      <td>31533908.77</td>\n",
       "      <td>52973</td>\n",
       "    </tr>\n",
       "    <tr>\n",
       "      <th>2927738</th>\n",
       "      <td>201804</td>\n",
       "      <td>2382100470</td>\n",
       "      <td>어사출또 신대방점</td>\n",
       "      <td>수산물</td>\n",
       "      <td>회/수산물 일반</td>\n",
       "      <td>126.913803</td>\n",
       "      <td>37.486650</td>\n",
       "      <td>33992793.02</td>\n",
       "      <td>35688</td>\n",
       "    </tr>\n",
       "  </tbody>\n",
       "</table>\n",
       "<p>2927739 rows × 9 columns</p>\n",
       "</div>"
      ],
      "text/plain": [
       "           date    shop_code     shop_name shop_type_big shop_type_small  \\\n",
       "0        201709  24432350113  친쿡부대찌개 오류동본점            뷔페           고기 뷔페   \n",
       "1        201709  13141330215          드럼통집            뷔페           고기 뷔페   \n",
       "2        201706  39421720107           하우돈            뷔페           고기 뷔페   \n",
       "3        201706   4602500509         고고생고기            뷔페           고기 뷔페   \n",
       "4        201709  39313780106          현대식당            뷔페           고기 뷔페   \n",
       "...         ...          ...           ...           ...             ...   \n",
       "2927734  201803  66340980106     최가네 남원추어탕           수산물        회/수산물 일반   \n",
       "2927735  201803   7211800169         우미도라꾸           수산물        회/수산물 일반   \n",
       "2927736  201804   7408500552   연안해물칼국수 행당점           수산물        회/수산물 일반   \n",
       "2927737  201803  36412610212          동해수산           수산물        회/수산물 일반   \n",
       "2927738  201804   2382100470     어사출또 신대방점           수산물        회/수산물 일반   \n",
       "\n",
       "          longitude   latitude  monthly_gain  average_sale_price  \n",
       "0        126.844998  37.496882   12881013.37               21514  \n",
       "1        127.096574  37.505706   33931612.72               52264  \n",
       "2        126.906290  37.518280   21456513.16               42656  \n",
       "3        127.109240  37.501153    6140707.30               34561  \n",
       "4        126.980601  37.518535    6091482.50               38423  \n",
       "...             ...        ...           ...                 ...  \n",
       "2927734  126.963825  37.526863   13693767.90               21511  \n",
       "2927735  127.070132  37.536551   17432801.29               74559  \n",
       "2927736  127.033712  37.559118   17023101.74               34212  \n",
       "2927737  127.127448  37.537151   31533908.77               52973  \n",
       "2927738  126.913803  37.486650   33992793.02               35688  \n",
       "\n",
       "[2927739 rows x 9 columns]"
      ]
     },
     "execution_count": 3,
     "metadata": {},
     "output_type": "execute_result"
    }
   ],
   "source": [
    "path = \"./Dataset/\"\n",
    "\n",
    "data = pd.read_csv(path+\"kwproja_data_big.csv\")\n",
    "\n",
    "# original data -> data\n",
    "data"
   ]
  },
  {
   "cell_type": "markdown",
   "id": "1eecf56c",
   "metadata": {},
   "source": [
    "# EDA \n",
    "\n",
    "2,927,739 rows X 9 columns\n",
    "\n",
    "- 매장 속성 정보\n",
    "  - shop_code -> 식별자 feature, input feature로는 사용하지 않지만 분류를 위해서는 사용할 수 있을 것 같음  \n",
    "  - shop_name -> input feature로는 사용하지 않음 (NLP deep learning 가능성 있음)\n",
    "  - longtitude : 경도, latitude : 위도 -> 매장 위치 (회사 근처, 학교 근처 등 매출 영향성 있음) -> 군집화, labeling 필요\n",
    "  - shop_type_big -> 15 category  -> 업종 (매출 영향성 있음)\n",
    "  - shop_type_small -> 61 category\n",
    "\n",
    "- 매출 정보\n",
    "  - date -> 24 category, 201606~ 201805 까지의 data\n",
    "  - monthly_gain / avearge_sale_price = 한달 총 판매수\n",
    "\n",
    "- 매출 통계 정보-> X\n",
    "\n",
    "\n",
    "##### monthly_gain과 average_sale_price 중 어느 것을 y값으로 둘 것인가? \n",
    "- 월매출 예측 문제로 가정하고 montly_gain 을 y값으로 예측하는 모델 만들기\n",
    "\n",
    "##### shop_code는 input feature에 넣어야 하는가?\n",
    "- 특별한 브랜드가 y값을 결정하는 과적합 요소가 될 수 있으므로\n",
    "- X 에서 shop code, shop name 제외하는 것도 방법\n",
    "- 어느 위치에 어떤 업종으로 어떤 객단가인 매장을 오픈하면 월매출이 어떻게 될까? 문제\n",
    " - X: shop type big, shop type small, longitude, latitude, avg_sale_price, \n",
    " - y: montly_gain"
   ]
  },
  {
   "cell_type": "code",
   "execution_count": 4,
   "id": "8160023d",
   "metadata": {},
   "outputs": [
    {
     "data": {
      "text/plain": [
       "Index(['date', 'shop_code', 'shop_name', 'shop_type_big', 'shop_type_small',\n",
       "       'longitude', 'latitude', 'monthly_gain', 'average_sale_price'],\n",
       "      dtype='object')"
      ]
     },
     "execution_count": 4,
     "metadata": {},
     "output_type": "execute_result"
    }
   ],
   "source": [
    "data.columns"
   ]
  },
  {
   "cell_type": "code",
   "execution_count": 5,
   "id": "0e2e2b0d",
   "metadata": {},
   "outputs": [
    {
     "name": "stdout",
     "output_type": "stream",
     "text": [
      "<class 'pandas.core.frame.DataFrame'>\n",
      "RangeIndex: 2927739 entries, 0 to 2927738\n",
      "Data columns (total 9 columns):\n",
      " #   Column              Dtype  \n",
      "---  ------              -----  \n",
      " 0   date                int64  \n",
      " 1   shop_code           int64  \n",
      " 2   shop_name           object \n",
      " 3   shop_type_big       object \n",
      " 4   shop_type_small     object \n",
      " 5   longitude           float64\n",
      " 6   latitude            float64\n",
      " 7   monthly_gain        float64\n",
      " 8   average_sale_price  int64  \n",
      "dtypes: float64(3), int64(3), object(3)\n",
      "memory usage: 201.0+ MB\n"
     ]
    }
   ],
   "source": [
    "data.info()"
   ]
  },
  {
   "cell_type": "markdown",
   "id": "3f6c9722",
   "metadata": {},
   "source": [
    "# 3. Preprocessing\n",
    "- missing value 제거 \n",
    "    - monthly_gain : 3,605 제거 -> 149,790\n",
    "    - shop_type_big : 4,303 제거 -> 145,487 \n",
    "    - gender feature : 1,187 제거 -> 144,300\n",
    "- shop_code, shop_name : 식별자 feature 이므로 drop \n",
    "- date : 아직은 쓸 수 없으므로 drop\n",
    "    - 여기까지 총 144,300 X 27\n",
    "- shop_type_big(13), shop_type_small(367) : label encodding\n",
    "- longitude, latitude : clustering을 통해 labeling 후 해당 두 열은 drop \n",
    "- MinMaxSaclar 정규화 -> 정규화 column의 범위는??"
   ]
  },
  {
   "cell_type": "code",
   "execution_count": 4,
   "id": "746b4c66",
   "metadata": {},
   "outputs": [],
   "source": [
    "# 원본 data와 따로 관리 -> original data = data, input data = input_data \n",
    "# feature drop\n",
    "input_data = data.copy()\n",
    "input_data = input_data.drop(['date', 'shop_code'], axis=1)"
   ]
  },
  {
   "cell_type": "code",
   "execution_count": 5,
   "id": "a9ad35fa",
   "metadata": {
    "scrolled": true
   },
   "outputs": [
    {
     "name": "stdout",
     "output_type": "stream",
     "text": [
      "monthly gain null :  0\n",
      "shop type big null :  61\n",
      "shop type small null :  False    2927739\n",
      "Name: shop_type_small, dtype: int64\n"
     ]
    }
   ],
   "source": [
    "# There are no missing values \n",
    "# missing value drop - monthly_gain\n",
    "null_index = input_data[input_data['monthly_gain']==0].index \n",
    "print(\"monthly gain null : \", len(null_index))\n",
    "input_data = input_data.drop(null_index)\n",
    "\n",
    "# missing value drop - shop_type_big\n",
    "null_index = input_data[input_data['shop_type_big'].isnull()==True].index\n",
    "input_data = input_data.drop(null_index)\n",
    "\n",
    "# missing value drop - shop_type_small \n",
    "print(\"shop type big null : \", len(input_data['shop_type_small'].unique()))\n",
    "print(\"shop type small null : \" , input_data['shop_type_small'].isnull().value_counts())"
   ]
  },
  {
   "cell_type": "code",
   "execution_count": 6,
   "id": "8bdb9104",
   "metadata": {},
   "outputs": [
    {
     "name": "stdout",
     "output_type": "stream",
     "text": [
      "['다방/커피숍/카페' '별식/퓨전요리' '분식' '뷔페' '생활서비스' '소매' '수산물' '양식' '유흥주점' '음식-미분류'\n",
      " '일식' '제과제빵떡케익' '중식' '패스트푸드' '한식']\n",
      "['고기 뷔페' '고기구이/육회 전문점' '곱창/양구이 전문점' '구내식당' '국수/수제비 전문점' '기타세계요리 전문점'\n",
      " '낙지/문어/오징어/쭈꾸미 전문점' '냉면 전문점' '덮밥/가정식' '도너츠/꽈배기/고로케/호떡 전문점'\n",
      " '도시락/컵밥/주먹밥/배달음식 전문점' '돈가스 전문점' '떡/한과 전문점' '마라/양꼬치/훠궈 전문점' '면 전문점'\n",
      " '미분류 유흥업소' '민속주점' '바닷가재/게요리 전문점' '반찬 판매' '백화점' '버거 전문점' '베트남음식 전문점'\n",
      " '보쌈/족발 전문점' '분식 전문점' '샌드위치/토스트/핫도그 전문점' '샤브샤브 전문점' '세탁소' '소주방/포장마차'\n",
      " '순대 전문점' '슈퍼/잡화/할인매장' '스테이크 전문점' '식료품' '아이스크림/빙수 판매' '오리/닭요리 전문점'\n",
      " '오리/닭요리/탕/백숙 전문점' '와인/칵테일/위스키 바' '음식-미분류' '이자까야/꼬치구이' '이태리 전문점'\n",
      " '인도음식 전문점' '일반 중식당' '장어 전문점' '전통찻집' '제과/제빵 전문점' '조개 전문점' '종합 뷔페'\n",
      " '죽요리 전문점' '참치 전문점' '초밥 전문점' '치킨/닭강정 전문점' '카레 전문점' '카페/디저트' '테이크아웃 음료 전문점'\n",
      " '편의점' '퓨전음식 전문점' '피자 전문점' '한식국물요리 전문점' '한정식/백반 전문점' '호프/맥주' '화로구이 전문점'\n",
      " '회/수산물 일반']\n"
     ]
    }
   ],
   "source": [
    "# LabelEncoder\n",
    "from sklearn.preprocessing import LabelEncoder\n",
    "\n",
    "le = LabelEncoder()\n",
    "input_data['shop_type_big'] = le.fit_transform(list(input_data['shop_type_big']))   # fit transform으로 한번에 처리 가능\n",
    "print(le.classes_)\n",
    "\n",
    "le = LabelEncoder()\n",
    "input_data['shop_type_small'] = le.fit_transform(list(input_data['shop_type_small'])) \n",
    "print(le.classes_)"
   ]
  },
  {
   "cell_type": "code",
   "execution_count": 7,
   "id": "35a8be3a",
   "metadata": {},
   "outputs": [
    {
     "name": "stdout",
     "output_type": "stream",
     "text": [
      "[[ 37.63890636 127.04525926]\n",
      " [ 37.49687753 126.95152951]\n",
      " [ 37.57095573 127.06692233]\n",
      " [ 37.50140487 127.03439392]\n",
      " [ 37.53992468 126.84569604]\n",
      " [ 37.51705391 127.12109679]\n",
      " [ 37.56576828 126.99373845]\n",
      " [ 37.57414361 126.92447916]\n",
      " [ 37.49480745 126.89640435]]\n",
      "[4 5 8 ... 2 5 8]\n"
     ]
    },
    {
     "name": "stderr",
     "output_type": "stream",
     "text": [
      "C:\\Users\\Hyeongbin\\anaconda3\\lib\\site-packages\\IPython\\core\\pylabtools.py:151: UserWarning: Creating legend with loc=\"best\" can be slow with large amounts of data.\n",
      "  fig.canvas.print_figure(bytes_io, **kw)\n"
     ]
    },
    {
     "data": {
      "image/png": "[encoded data removed]",
      "text/plain": [
       "<Figure size 432x288 with 1 Axes>"
      ]
     },
     "metadata": {
      "needs_background": "light"
     },
     "output_type": "display_data"
    }
   ],
   "source": [
    "# Labeling - KMeans Clustering \n",
    "# longitude + latitude = geo \n",
    "from sklearn.cluster import KMeans\n",
    "\n",
    "kmeans = KMeans(n_clusters=9).fit(input_data[['latitude', 'longitude']])\n",
    "print(kmeans.cluster_centers_)\n",
    "print(kmeans.labels_)\n",
    "\n",
    "# longitude + latitude = geo \n",
    "# So we get inpute_data = 2,927,739 rows × 5 columns\n",
    "input_data['geo'] = kmeans.labels_\n",
    "\n",
    "sns.scatterplot(x='longitude' , y='latitude', hue=\"geo\", data=input_data, palette=\"Paired\")\n",
    "plt.title('k-mean')\n",
    "\n",
    "input_data = input_data.drop(['longitude', 'latitude'], axis=1)"
   ]
  },
  {
   "cell_type": "code",
   "execution_count": null,
   "id": "ce62145d",
   "metadata": {},
   "outputs": [],
   "source": [
    "from urllib.request import urlopen\n",
    "from urllib import parse\n",
    "from urllib.request import Request\n",
    "from urllib.error import HTTPError\n",
    "from bs4 import BeautifulSoup\n",
    "import json\n",
    "\n",
    "client_id = \"62f4cojr3a\"\n",
    "client_pw = \"KpcsCGeiMg8MvK33D6tm90T117fYw0bxjzGKkDWl\"\n",
    "api_url = 'https://naveropenapi.apigw.ntruss.com/map-reversegeocode/v2/gc'\n",
    "naver_headers = {\"X-NCP-APIGW-API-KEY-ID\": client_id, \"X-NCP-APIGW-API-KEY\": client_pw}\n",
    "\n",
    "longitude = processed_data['longitude'].iloc[:1427739]\n",
    "latitude = processed_data['latitude'].iloc[:1427739]\n",
    "addr_list = []\n",
    "road_list = []\n",
    "address = []"
   ]
  },
  {
   "cell_type": "code",
   "execution_count": null,
   "id": "d61145fc",
   "metadata": {},
   "outputs": [],
   "source": [
    "for x, y in zip(longitude, latitude) : \n",
    "    gc_url = \"?request=coordsToaddr&coords=\" + str(x) + \",\" + str(y) + \"&sourcecrs=epsg:4326&orders=addr,roadaddr&output=json\"\n",
    "    sum_url = naver_url+gc_url\n",
    "    naver_api = requests.get(sum_url,headers=naver_headers)\n",
    "    results = json.loads(naver_api.text)\n",
    "    address.append(results)"
   ]
  },
  {
   "cell_type": "code",
   "execution_count": 8,
   "id": "3538625e",
   "metadata": {},
   "outputs": [
    {
     "data": {
      "text/html": [
       "<div>\n",
       "<style scoped>\n",
       "    .dataframe tbody tr th:only-of-type {\n",
       "        vertical-align: middle;\n",
       "    }\n",
       "\n",
       "    .dataframe tbody tr th {\n",
       "        vertical-align: top;\n",
       "    }\n",
       "\n",
       "    .dataframe thead th {\n",
       "        text-align: right;\n",
       "    }\n",
       "</style>\n",
       "<table border=\"1\" class=\"dataframe\">\n",
       "  <thead>\n",
       "    <tr style=\"text-align: right;\">\n",
       "      <th></th>\n",
       "      <th>shop_name</th>\n",
       "      <th>shop_type_big</th>\n",
       "      <th>shop_type_small</th>\n",
       "      <th>monthly_gain</th>\n",
       "      <th>average_sale_price</th>\n",
       "      <th>geo</th>\n",
       "    </tr>\n",
       "  </thead>\n",
       "  <tbody>\n",
       "    <tr>\n",
       "      <th>0</th>\n",
       "      <td>친쿡부대찌개 오류동본점</td>\n",
       "      <td>3</td>\n",
       "      <td>0</td>\n",
       "      <td>12881013.37</td>\n",
       "      <td>9.976506</td>\n",
       "      <td>4</td>\n",
       "    </tr>\n",
       "    <tr>\n",
       "      <th>1</th>\n",
       "      <td>드럼통집</td>\n",
       "      <td>3</td>\n",
       "      <td>0</td>\n",
       "      <td>33931612.72</td>\n",
       "      <td>10.864082</td>\n",
       "      <td>5</td>\n",
       "    </tr>\n",
       "    <tr>\n",
       "      <th>2</th>\n",
       "      <td>하우돈</td>\n",
       "      <td>3</td>\n",
       "      <td>0</td>\n",
       "      <td>21456513.16</td>\n",
       "      <td>10.660947</td>\n",
       "      <td>8</td>\n",
       "    </tr>\n",
       "    <tr>\n",
       "      <th>3</th>\n",
       "      <td>고고생고기</td>\n",
       "      <td>3</td>\n",
       "      <td>0</td>\n",
       "      <td>6140707.30</td>\n",
       "      <td>10.450510</td>\n",
       "      <td>5</td>\n",
       "    </tr>\n",
       "    <tr>\n",
       "      <th>4</th>\n",
       "      <td>현대식당</td>\n",
       "      <td>3</td>\n",
       "      <td>0</td>\n",
       "      <td>6091482.50</td>\n",
       "      <td>10.556438</td>\n",
       "      <td>1</td>\n",
       "    </tr>\n",
       "    <tr>\n",
       "      <th>...</th>\n",
       "      <td>...</td>\n",
       "      <td>...</td>\n",
       "      <td>...</td>\n",
       "      <td>...</td>\n",
       "      <td>...</td>\n",
       "      <td>...</td>\n",
       "    </tr>\n",
       "    <tr>\n",
       "      <th>2927734</th>\n",
       "      <td>최가네 남원추어탕</td>\n",
       "      <td>6</td>\n",
       "      <td>60</td>\n",
       "      <td>13693767.90</td>\n",
       "      <td>9.976366</td>\n",
       "      <td>1</td>\n",
       "    </tr>\n",
       "    <tr>\n",
       "      <th>2927735</th>\n",
       "      <td>우미도라꾸</td>\n",
       "      <td>6</td>\n",
       "      <td>60</td>\n",
       "      <td>17432801.29</td>\n",
       "      <td>11.219359</td>\n",
       "      <td>2</td>\n",
       "    </tr>\n",
       "    <tr>\n",
       "      <th>2927736</th>\n",
       "      <td>연안해물칼국수 행당점</td>\n",
       "      <td>6</td>\n",
       "      <td>60</td>\n",
       "      <td>17023101.74</td>\n",
       "      <td>10.440361</td>\n",
       "      <td>2</td>\n",
       "    </tr>\n",
       "    <tr>\n",
       "      <th>2927737</th>\n",
       "      <td>동해수산</td>\n",
       "      <td>6</td>\n",
       "      <td>60</td>\n",
       "      <td>31533908.77</td>\n",
       "      <td>10.877557</td>\n",
       "      <td>5</td>\n",
       "    </tr>\n",
       "    <tr>\n",
       "      <th>2927738</th>\n",
       "      <td>어사출또 신대방점</td>\n",
       "      <td>6</td>\n",
       "      <td>60</td>\n",
       "      <td>33992793.02</td>\n",
       "      <td>10.482598</td>\n",
       "      <td>8</td>\n",
       "    </tr>\n",
       "  </tbody>\n",
       "</table>\n",
       "<p>2927739 rows × 6 columns</p>\n",
       "</div>"
      ],
      "text/plain": [
       "            shop_name  shop_type_big  shop_type_small  monthly_gain  \\\n",
       "0        친쿡부대찌개 오류동본점              3                0   12881013.37   \n",
       "1                드럼통집              3                0   33931612.72   \n",
       "2                 하우돈              3                0   21456513.16   \n",
       "3               고고생고기              3                0    6140707.30   \n",
       "4                현대식당              3                0    6091482.50   \n",
       "...               ...            ...              ...           ...   \n",
       "2927734     최가네 남원추어탕              6               60   13693767.90   \n",
       "2927735         우미도라꾸              6               60   17432801.29   \n",
       "2927736   연안해물칼국수 행당점              6               60   17023101.74   \n",
       "2927737          동해수산              6               60   31533908.77   \n",
       "2927738     어사출또 신대방점              6               60   33992793.02   \n",
       "\n",
       "         average_sale_price  geo  \n",
       "0                  9.976506    4  \n",
       "1                 10.864082    5  \n",
       "2                 10.660947    8  \n",
       "3                 10.450510    5  \n",
       "4                 10.556438    1  \n",
       "...                     ...  ...  \n",
       "2927734            9.976366    1  \n",
       "2927735           11.219359    2  \n",
       "2927736           10.440361    2  \n",
       "2927737           10.877557    5  \n",
       "2927738           10.482598    8  \n",
       "\n",
       "[2927739 rows x 6 columns]"
      ]
     },
     "execution_count": 8,
     "metadata": {},
     "output_type": "execute_result"
    }
   ],
   "source": [
    "# average_sale_price -> skewed 된 feature \n",
    "# log정규화 \n",
    "from sklearn.preprocessing import MinMaxScaler, RobustScaler, StandardScaler, Normalizer\n",
    "\n",
    "scale_cols = ['average_sale_price']\n",
    "\n",
    "for c in scale_cols : \n",
    "    scaled_data = pd.DataFrame(np.log1p(input_data[c]))\n",
    "    input_data[c] = scaled_data\n",
    "\n",
    "input_data"
   ]
  },
  {
   "cell_type": "code",
   "execution_count": 9,
   "id": "24488b29",
   "metadata": {},
   "outputs": [
    {
     "data": {
      "text/plain": [
       "<AxesSubplot:xlabel='shop_type_big', ylabel='average_sale_price'>"
      ]
     },
     "execution_count": 9,
     "metadata": {},
     "output_type": "execute_result"
    },
    {
     "data": {
      "image/png": "[encoded data removed]",
      "text/plain": [
       "<Figure size 1080x576 with 1 Axes>"
      ]
     },
     "metadata": {
      "needs_background": "light"
     },
     "output_type": "display_data"
    }
   ],
   "source": [
    "# check the preprocessed 'average_sale_price' by shop_type_big\n",
    "rcParams['figure.figsize'] = 15,8\n",
    "sns.boxplot(x='shop_type_big', y='average_sale_price', data=input_data)"
   ]
  },
  {
   "cell_type": "code",
   "execution_count": 10,
   "id": "9ee31831",
   "metadata": {},
   "outputs": [
    {
     "data": {
      "text/plain": [
       "<AxesSubplot:title={'center':'monthly_gain'}, xlabel='[shop_type_big]'>"
      ]
     },
     "execution_count": 10,
     "metadata": {},
     "output_type": "execute_result"
    },
    {
     "data": {
      "image/png": "[encoded data removed]",
      "text/plain": [
       "<Figure size 1080x576 with 1 Axes>"
      ]
     },
     "metadata": {
      "needs_background": "light"
     },
     "output_type": "display_data"
    }
   ],
   "source": [
    "# check the 'monthly_gain'\n",
    "input_data.boxplot(column = ['monthly_gain'], by=['shop_type_big'])"
   ]
  },
  {
   "cell_type": "markdown",
   "id": "08ffaff6",
   "metadata": {},
   "source": [
    "# 5. Target Variable Labeling and EDA for variable y\n",
    "### 어떻게 라벨링 할 것인가?\n",
    "- 원래 가격대에 대한 정보(price_dict)는 계속 가져가야 함! "
   ]
  },
  {
   "cell_type": "code",
   "execution_count": 11,
   "id": "6d6947c7",
   "metadata": {},
   "outputs": [
    {
     "data": {
      "text/html": [
       "<div>\n",
       "<style scoped>\n",
       "    .dataframe tbody tr th:only-of-type {\n",
       "        vertical-align: middle;\n",
       "    }\n",
       "\n",
       "    .dataframe tbody tr th {\n",
       "        vertical-align: top;\n",
       "    }\n",
       "\n",
       "    .dataframe thead th {\n",
       "        text-align: right;\n",
       "    }\n",
       "</style>\n",
       "<table border=\"1\" class=\"dataframe\">\n",
       "  <thead>\n",
       "    <tr style=\"text-align: right;\">\n",
       "      <th></th>\n",
       "      <th>shop_name</th>\n",
       "      <th>shop_type_big</th>\n",
       "      <th>shop_type_small</th>\n",
       "      <th>monthly_gain</th>\n",
       "      <th>average_sale_price</th>\n",
       "      <th>geo</th>\n",
       "    </tr>\n",
       "  </thead>\n",
       "  <tbody>\n",
       "    <tr>\n",
       "      <th>0</th>\n",
       "      <td>친쿡부대찌개 오류동본점</td>\n",
       "      <td>3</td>\n",
       "      <td>0</td>\n",
       "      <td>12881013.37</td>\n",
       "      <td>9.98</td>\n",
       "      <td>4</td>\n",
       "    </tr>\n",
       "    <tr>\n",
       "      <th>1</th>\n",
       "      <td>드럼통집</td>\n",
       "      <td>3</td>\n",
       "      <td>0</td>\n",
       "      <td>33931612.72</td>\n",
       "      <td>10.86</td>\n",
       "      <td>5</td>\n",
       "    </tr>\n",
       "    <tr>\n",
       "      <th>2</th>\n",
       "      <td>하우돈</td>\n",
       "      <td>3</td>\n",
       "      <td>0</td>\n",
       "      <td>21456513.16</td>\n",
       "      <td>10.66</td>\n",
       "      <td>8</td>\n",
       "    </tr>\n",
       "    <tr>\n",
       "      <th>3</th>\n",
       "      <td>고고생고기</td>\n",
       "      <td>3</td>\n",
       "      <td>0</td>\n",
       "      <td>6140707.30</td>\n",
       "      <td>10.45</td>\n",
       "      <td>5</td>\n",
       "    </tr>\n",
       "    <tr>\n",
       "      <th>4</th>\n",
       "      <td>현대식당</td>\n",
       "      <td>3</td>\n",
       "      <td>0</td>\n",
       "      <td>6091482.50</td>\n",
       "      <td>10.56</td>\n",
       "      <td>1</td>\n",
       "    </tr>\n",
       "  </tbody>\n",
       "</table>\n",
       "</div>"
      ],
      "text/plain": [
       "      shop_name  shop_type_big  shop_type_small  monthly_gain  \\\n",
       "0  친쿡부대찌개 오류동본점              3                0   12881013.37   \n",
       "1          드럼통집              3                0   33931612.72   \n",
       "2           하우돈              3                0   21456513.16   \n",
       "3         고고생고기              3                0    6140707.30   \n",
       "4          현대식당              3                0    6091482.50   \n",
       "\n",
       "   average_sale_price  geo  \n",
       "0                9.98    4  \n",
       "1               10.86    5  \n",
       "2               10.66    8  \n",
       "3               10.45    5  \n",
       "4               10.56    1  "
      ]
     },
     "execution_count": 11,
     "metadata": {},
     "output_type": "execute_result"
    }
   ],
   "source": [
    "# pandas option 설정 하는 코드\n",
    "# monthly_gain의 경우 부동소수점으로 나타나서 보기 어려울땐 윗 줄의 주석을 제거하고 아래에 주석을 추가하고\n",
    "# 다시 원래대로 돌리고 싶다면 아래에 주석제거, 위 코드에 주석추가\n",
    "pd.options.display.float_format = '{:.2f}'.format\n",
    "#pd.reset_option('display.float_format')\n",
    "\n",
    "input_data.head()"
   ]
  },
  {
   "cell_type": "code",
   "execution_count": 12,
   "id": "6547ce2b",
   "metadata": {},
   "outputs": [
    {
     "name": "stdout",
     "output_type": "stream",
     "text": [
      "내림차순 기준 분야별로 정렬하여 출력합니다 - monthly_gain\n",
      "min:  [4, 7, 3, 6, 10, 2, 13, 11, 14, 0, 1, 9, 12, 8, 5]\n",
      "mean: [5, 3, 12, 6, 7, 10, 14, 13, 11, 9, 1, 8, 2, 0, 4]\n",
      "max:  [5, 9, 13, 0, 1, 14, 8, 3, 12, 10, 6, 11, 2, 7, 4]\n"
     ]
    },
    {
     "data": {
      "text/html": [
       "<div>\n",
       "<style scoped>\n",
       "    .dataframe tbody tr th:only-of-type {\n",
       "        vertical-align: middle;\n",
       "    }\n",
       "\n",
       "    .dataframe tbody tr th {\n",
       "        vertical-align: top;\n",
       "    }\n",
       "\n",
       "    .dataframe thead th {\n",
       "        text-align: right;\n",
       "    }\n",
       "</style>\n",
       "<table border=\"1\" class=\"dataframe\">\n",
       "  <thead>\n",
       "    <tr style=\"text-align: right;\">\n",
       "      <th></th>\n",
       "      <th>count</th>\n",
       "      <th>mean</th>\n",
       "      <th>std</th>\n",
       "      <th>min</th>\n",
       "      <th>25%</th>\n",
       "      <th>50%</th>\n",
       "      <th>75%</th>\n",
       "      <th>max</th>\n",
       "    </tr>\n",
       "    <tr>\n",
       "      <th>shop_type_big</th>\n",
       "      <th></th>\n",
       "      <th></th>\n",
       "      <th></th>\n",
       "      <th></th>\n",
       "      <th></th>\n",
       "      <th></th>\n",
       "      <th></th>\n",
       "      <th></th>\n",
       "    </tr>\n",
       "  </thead>\n",
       "  <tbody>\n",
       "    <tr>\n",
       "      <th>0</th>\n",
       "      <td>318339.00</td>\n",
       "      <td>13632884.54</td>\n",
       "      <td>26295553.89</td>\n",
       "      <td>50.08</td>\n",
       "      <td>3252624.81</td>\n",
       "      <td>7505698.33</td>\n",
       "      <td>15909550.27</td>\n",
       "      <td>2454380350.60</td>\n",
       "    </tr>\n",
       "    <tr>\n",
       "      <th>1</th>\n",
       "      <td>213619.00</td>\n",
       "      <td>19719527.02</td>\n",
       "      <td>28706052.33</td>\n",
       "      <td>49.63</td>\n",
       "      <td>5770587.82</td>\n",
       "      <td>12058130.24</td>\n",
       "      <td>23826346.30</td>\n",
       "      <td>1535740006.14</td>\n",
       "    </tr>\n",
       "    <tr>\n",
       "      <th>2</th>\n",
       "      <td>188263.00</td>\n",
       "      <td>15053556.30</td>\n",
       "      <td>19543045.12</td>\n",
       "      <td>253.05</td>\n",
       "      <td>3471252.46</td>\n",
       "      <td>8711467.56</td>\n",
       "      <td>19694451.96</td>\n",
       "      <td>594568831.67</td>\n",
       "    </tr>\n",
       "    <tr>\n",
       "      <th>3</th>\n",
       "      <td>24891.00</td>\n",
       "      <td>36001109.95</td>\n",
       "      <td>70222881.23</td>\n",
       "      <td>503.42</td>\n",
       "      <td>6552622.10</td>\n",
       "      <td>15851043.88</td>\n",
       "      <td>36195659.42</td>\n",
       "      <td>1246631436.93</td>\n",
       "    </tr>\n",
       "    <tr>\n",
       "      <th>4</th>\n",
       "      <td>47.00</td>\n",
       "      <td>4971385.58</td>\n",
       "      <td>3441529.09</td>\n",
       "      <td>31102.45</td>\n",
       "      <td>2922138.00</td>\n",
       "      <td>4186328.34</td>\n",
       "      <td>6760663.68</td>\n",
       "      <td>15394364.73</td>\n",
       "    </tr>\n",
       "    <tr>\n",
       "      <th>5</th>\n",
       "      <td>359034.00</td>\n",
       "      <td>116397419.86</td>\n",
       "      <td>1569075536.95</td>\n",
       "      <td>5.06</td>\n",
       "      <td>7382320.10</td>\n",
       "      <td>27178602.55</td>\n",
       "      <td>47733778.69</td>\n",
       "      <td>181237335603.49</td>\n",
       "    </tr>\n",
       "    <tr>\n",
       "      <th>6</th>\n",
       "      <td>131323.00</td>\n",
       "      <td>28338011.74</td>\n",
       "      <td>33013325.12</td>\n",
       "      <td>493.80</td>\n",
       "      <td>8455953.14</td>\n",
       "      <td>18101518.61</td>\n",
       "      <td>36318652.47</td>\n",
       "      <td>703395339.57</td>\n",
       "    </tr>\n",
       "    <tr>\n",
       "      <th>7</th>\n",
       "      <td>13726.00</td>\n",
       "      <td>25495120.25</td>\n",
       "      <td>38188710.77</td>\n",
       "      <td>5593.31</td>\n",
       "      <td>6093858.38</td>\n",
       "      <td>13859828.04</td>\n",
       "      <td>28725833.43</td>\n",
       "      <td>550879240.77</td>\n",
       "    </tr>\n",
       "    <tr>\n",
       "      <th>8</th>\n",
       "      <td>254766.00</td>\n",
       "      <td>15803340.87</td>\n",
       "      <td>22753249.79</td>\n",
       "      <td>5.55</td>\n",
       "      <td>3687630.29</td>\n",
       "      <td>9033763.00</td>\n",
       "      <td>19227524.34</td>\n",
       "      <td>1289820781.86</td>\n",
       "    </tr>\n",
       "    <tr>\n",
       "      <th>9</th>\n",
       "      <td>455192.00</td>\n",
       "      <td>20417545.97</td>\n",
       "      <td>78472248.13</td>\n",
       "      <td>49.44</td>\n",
       "      <td>2237639.52</td>\n",
       "      <td>6398832.00</td>\n",
       "      <td>17318475.94</td>\n",
       "      <td>11699138265.56</td>\n",
       "    </tr>\n",
       "    <tr>\n",
       "      <th>10</th>\n",
       "      <td>83488.00</td>\n",
       "      <td>25322637.66</td>\n",
       "      <td>31280422.83</td>\n",
       "      <td>493.80</td>\n",
       "      <td>8029402.82</td>\n",
       "      <td>16006683.28</td>\n",
       "      <td>30874311.91</td>\n",
       "      <td>714968397.12</td>\n",
       "    </tr>\n",
       "    <tr>\n",
       "      <th>11</th>\n",
       "      <td>98201.00</td>\n",
       "      <td>21043979.17</td>\n",
       "      <td>30650347.20</td>\n",
       "      <td>55.38</td>\n",
       "      <td>3178903.64</td>\n",
       "      <td>9812952.69</td>\n",
       "      <td>29231947.41</td>\n",
       "      <td>607811136.24</td>\n",
       "    </tr>\n",
       "    <tr>\n",
       "      <th>12</th>\n",
       "      <td>112420.00</td>\n",
       "      <td>29656802.61</td>\n",
       "      <td>39582896.63</td>\n",
       "      <td>49.37</td>\n",
       "      <td>7359411.89</td>\n",
       "      <td>17865797.94</td>\n",
       "      <td>36184657.86</td>\n",
       "      <td>838346597.43</td>\n",
       "    </tr>\n",
       "    <tr>\n",
       "      <th>13</th>\n",
       "      <td>130544.00</td>\n",
       "      <td>25152372.93</td>\n",
       "      <td>60055572.85</td>\n",
       "      <td>251.79</td>\n",
       "      <td>5233673.41</td>\n",
       "      <td>12564552.00</td>\n",
       "      <td>27443949.52</td>\n",
       "      <td>4502280301.80</td>\n",
       "    </tr>\n",
       "    <tr>\n",
       "      <th>14</th>\n",
       "      <td>543886.00</td>\n",
       "      <td>25171006.70</td>\n",
       "      <td>38543045.25</td>\n",
       "      <td>50.61</td>\n",
       "      <td>5727531.55</td>\n",
       "      <td>14123414.79</td>\n",
       "      <td>30392434.57</td>\n",
       "      <td>1338750027.12</td>\n",
       "    </tr>\n",
       "  </tbody>\n",
       "</table>\n",
       "</div>"
      ],
      "text/plain": [
       "                  count         mean           std      min        25%  \\\n",
       "shop_type_big                                                            \n",
       "0             318339.00  13632884.54   26295553.89    50.08 3252624.81   \n",
       "1             213619.00  19719527.02   28706052.33    49.63 5770587.82   \n",
       "2             188263.00  15053556.30   19543045.12   253.05 3471252.46   \n",
       "3              24891.00  36001109.95   70222881.23   503.42 6552622.10   \n",
       "4                 47.00   4971385.58    3441529.09 31102.45 2922138.00   \n",
       "5             359034.00 116397419.86 1569075536.95     5.06 7382320.10   \n",
       "6             131323.00  28338011.74   33013325.12   493.80 8455953.14   \n",
       "7              13726.00  25495120.25   38188710.77  5593.31 6093858.38   \n",
       "8             254766.00  15803340.87   22753249.79     5.55 3687630.29   \n",
       "9             455192.00  20417545.97   78472248.13    49.44 2237639.52   \n",
       "10             83488.00  25322637.66   31280422.83   493.80 8029402.82   \n",
       "11             98201.00  21043979.17   30650347.20    55.38 3178903.64   \n",
       "12            112420.00  29656802.61   39582896.63    49.37 7359411.89   \n",
       "13            130544.00  25152372.93   60055572.85   251.79 5233673.41   \n",
       "14            543886.00  25171006.70   38543045.25    50.61 5727531.55   \n",
       "\n",
       "                      50%         75%             max  \n",
       "shop_type_big                                          \n",
       "0              7505698.33 15909550.27   2454380350.60  \n",
       "1             12058130.24 23826346.30   1535740006.14  \n",
       "2              8711467.56 19694451.96    594568831.67  \n",
       "3             15851043.88 36195659.42   1246631436.93  \n",
       "4              4186328.34  6760663.68     15394364.73  \n",
       "5             27178602.55 47733778.69 181237335603.49  \n",
       "6             18101518.61 36318652.47    703395339.57  \n",
       "7             13859828.04 28725833.43    550879240.77  \n",
       "8              9033763.00 19227524.34   1289820781.86  \n",
       "9              6398832.00 17318475.94  11699138265.56  \n",
       "10            16006683.28 30874311.91    714968397.12  \n",
       "11             9812952.69 29231947.41    607811136.24  \n",
       "12            17865797.94 36184657.86    838346597.43  \n",
       "13            12564552.00 27443949.52   4502280301.80  \n",
       "14            14123414.79 30392434.57   1338750027.12  "
      ]
     },
     "execution_count": 12,
     "metadata": {},
     "output_type": "execute_result"
    }
   ],
   "source": [
    "group_big_gain = input_data[['shop_type_big','monthly_gain']].groupby('shop_type_big')\n",
    "df_group_big_gain = group_big_gain.describe().droplevel(axis=1,level=0)\n",
    "\n",
    "# monthly_gain을 shop_type_big 분야별로 정렬하여 출력\n",
    "print(\"내림차순 기준 분야별로 정렬하여 출력합니다 - monthly_gain\")\n",
    "print(\"min: \", list(df_group_big_gain.sort_values(by=['min'], ascending=False).index))\n",
    "print(\"mean:\", list(df_group_big_gain.sort_values(by=['mean'], ascending=False).index))\n",
    "print(\"max: \", list(df_group_big_gain.sort_values(by=['max'], ascending=False).index))\n",
    "\n",
    "df_group_big_gain"
   ]
  },
  {
   "cell_type": "code",
   "execution_count": 13,
   "id": "23870c09",
   "metadata": {},
   "outputs": [
    {
     "name": "stdout",
     "output_type": "stream",
     "text": [
      "Int64Index([0, 1, 2, 3, 4, 5, 6, 7, 8, 9, 10, 11, 12, 13, 14], dtype='int64', name='shop_type_big')\n"
     ]
    },
    {
     "data": {
      "text/plain": [
       "<AxesSubplot:xlabel='shop_type_big'>"
      ]
     },
     "execution_count": 13,
     "metadata": {},
     "output_type": "execute_result"
    },
    {
     "data": {
      "image/png": "[encoded data removed]",
      "text/plain": [
       "<Figure size 1800x720 with 1 Axes>"
      ]
     },
     "metadata": {
      "needs_background": "light"
     },
     "output_type": "display_data"
    }
   ],
   "source": [
    "# shop_type_big 으로 묶은 후 shop_type_small 간의 평균 가격대를 비교하는 코드 \n",
    "# 제조같은 분야는 하나의 소분야가 압도적으로 가격대가 높게 형성되어 있고 나머지는 비슷비슷함\n",
    "# 스포츠 같은 경우는 모든 소분야가 비슷한 가격대를 형성함 \n",
    "\n",
    "# shop_type_big 중에서 5번 종목이 가격 분포가 너무 넓어서 그래프를 그렸을 때 다른 종목도 보기 어려워서\n",
    "# 5번을 드랍하고 보기로 함 -> 전반적으로 평균보다 편차가 훨씬 큼\n",
    "typebig_list = df_group_big_gain.index\n",
    "print(typebig_list)\n",
    "\n",
    "updated_df = df_group_big_gain.drop(5).copy()\n",
    "updated_df.plot.bar(y=['std', 'mean', 'count'], figsize=(25,10))"
   ]
  },
  {
   "cell_type": "code",
   "execution_count": 14,
   "id": "47d35092",
   "metadata": {},
   "outputs": [
    {
     "data": {
      "text/plain": [
       "<AxesSubplot:>"
      ]
     },
     "execution_count": 14,
     "metadata": {},
     "output_type": "execute_result"
    },
    {
     "data": {
      "image/png": "[encoded data removed]",
      "text/plain": [
       "<Figure size 1080x576 with 1 Axes>"
      ]
     },
     "metadata": {
      "needs_background": "light"
     },
     "output_type": "display_data"
    }
   ],
   "source": [
    "group_big_gain.get_group(7).boxplot(column='monthly_gain')"
   ]
  },
  {
   "cell_type": "code",
   "execution_count": 15,
   "id": "142471dc",
   "metadata": {
    "scrolled": true
   },
   "outputs": [
    {
     "name": "stdout",
     "output_type": "stream",
     "text": [
      "34894938.47 \t 25133 \t -15732763.39 \t 0 \t 15909550.27 \t 79585\n",
      "50909984.01 \t 15726 \t -21313049.89 \t 0 \t 23826346.30 \t 53405\n",
      "44029251.20 \t 12003 \t -20863546.78 \t 0 \t 19694451.96 \t 47066\n",
      "80660215.41 \t 2393 \t -37911933.89 \t 0 \t 36195659.42 \t 6223\n",
      "12518452.19 \t 1 \t -2835650.51 \t 0 \t 6760663.68 \t 12\n",
      "108260966.57 \t 26678 \t -53144867.79 \t 0 \t 47733778.69 \t 89759\n",
      "78112701.48 \t 8612 \t -33338095.86 \t 0 \t 36318652.47 \t 32831\n",
      "62673795.99 \t 1188 \t -27854104.18 \t 0 \t 28725833.43 \t 3432\n",
      "42537365.43 \t 19350 \t -19622210.80 \t 0 \t 19227524.34 \t 63692\n",
      "39939730.58 \t 50532 \t -20383615.12 \t 0 \t 17318475.94 \t 113798\n",
      "65141675.56 \t 6064 \t -26237960.82 \t 0 \t 30874311.91 \t 20872\n",
      "68311513.06 \t 5384 \t -35900662.02 \t 0 \t 29231947.41 \t 24550\n",
      "79422526.81 \t 8360 \t -35878457.05 \t 0 \t 36184657.86 \t 28105\n",
      "60759363.69 \t 11580 \t -28081740.76 \t 0 \t 27443949.52 \t 32636\n",
      "67389789.09 \t 40136 \t -31269822.98 \t 0 \t 30392434.57 \t 135972\n"
     ]
    }
   ],
   "source": [
    "# box plot 상 outlier와 Quantile 상 75% 이상의 값을 확인합니다\n",
    "# we detect outlier (from upper, lower) and values greater than 75% in the quantile\n",
    "list_q4 = df_group_big_gain['75%'].values\n",
    "for i in range(0, 15) :\n",
    "    Q1 = group_big_gain.get_group(i)['monthly_gain'].quantile(0.25)\n",
    "    Q3 = group_big_gain.get_group(i)['monthly_gain'].quantile(0.75)\n",
    "    IQR = Q3 - Q1\n",
    "    lower_fence = Q1 - (1.5 * IQR)\n",
    "    upper_fence = Q3 + (1.5 * IQR)\n",
    "    \n",
    "    df = group_big_gain.get_group(i)['monthly_gain']\n",
    "    print(\"%.2f \\t\" % upper_fence, len(df[df > upper_fence]),\n",
    "          \"\\t %.2f \\t\" % lower_fence, len(df[df < lower_fence]),\n",
    "          \"\\t %.2f \\t\" % list_q4[i], len(df[df > list_q4[i]]))"
   ]
  },
  {
   "cell_type": "code",
   "execution_count": 16,
   "id": "c87fa3ec",
   "metadata": {},
   "outputs": [],
   "source": [
    "# Explore shop_type_small\n",
    "\n",
    "#df_typesmall = []\n",
    "#for _ in typebig_list :\n",
    "#    df = df_check[df_check['shop_type_big'] == _ ].groupby('shop_type_small').describe().droplevel(axis=1,level=0)\n",
    "#    df_typesmall.append(df)\n",
    "#df_typesmall[2].plot.bar(y=['std','mean'], figsize=(25,10))"
   ]
  },
  {
   "cell_type": "markdown",
   "id": "3d31c910",
   "metadata": {},
   "source": [
    "#### Labeling 1) quantity하게, 백분율을 이용해서\n",
    "\n",
    "- **Label(10)**  min 10% 20% ... 80% 90% max의 값을 찾은 후, monthly_gain에 대해 두 범위 사이에 존재하는 값에 대해서 평균 값으로 라벨링 합니다. \n",
    "    - 예) min 과 10% 사이의 값 -> min과 10%의 평균 값으로 라벨링\n",
    "    - 라벨링 분포가 정확히 14432~14430 사이로 떨어짐 -> 오로지 백분율로 잘랐기 때문에 분포에 대한 걱정은 안해도 됨\n",
    "    - accuracy f-1score : 0.50 ~ 0.49\n",
    "- **Label(3)**  위와 동일한 방식으로 자릅니다. \n",
    "    - 0 ~ 33 ~ 66 ~ 99(100) -> 총 3개의 label 생성\n",
    "    - 1: 3,669,015.0075000003, 2: 18,734,738.491500005, 3: 303,196,624.6690003\n",
    "    - 3백, 2천(1천8백만), 3억\n",
    "    - accuracy f-1score : 0.84 ~ 0.82\n",
    "- **Label(4)**  위와 동일한 방식으로 자릅니다. \n",
    "    - 0 ~ 25 ~ 50 ~ 75 ~ 100 -> 총 4개의 label 생성\n",
    "    - 1: 2,324,858.25, 2: 10,317,593.25, 3: 29,815,219.125, 4: 32,692,544,860.4\n",
    "    - 2백, 1천만, 3천만(2천9백), 326억\n",
    "    - accuracy f-1score : 0.78 ~ 0.76\n",
    "- **Label(5)**  위와 동일한 방식으로 자릅니다. \n",
    "    - 0 ~ 20 ~ 40 ~ 60 ~ 80 ~ 100 -> 총 5개의 label 생성\n",
    "    - 1: 1,622,880.0, 2: 6,773,160.0, 3: 17,044,674.75,4: 39,214,985.75, 5: 32,698,042,967.275\n",
    "    - 1백만, 6백만, 1천7백만, 4천(3천9백만), 326억\n",
    "    - accuracy f-1score : 0.71 ~ 0.70\n",
    "- 백분율로 자르는 방법\n",
    "    - labe(10)의 경우 유난히 4~8 label에 대해서는 잘 못맞춤 -> monthly_gain을 일렬로 세웠을 때 앞 뒤로 뭉쳐있어서 그런 것 같음 \n",
    "    - 무작정 quantity하게 값을 나눠서 라벨링 하는 것은 좋은 것 같지 않음..\n",
    "    - 앞, 뒤로는 자잘하게 자르고 가운데는 큼직하게 잘라야..?\n",
    "    - 확실히 class의 개수가 많아질수록 accuracy가 낮아짐"
   ]
  },
  {
   "cell_type": "code",
   "execution_count": 27,
   "id": "38ac967a",
   "metadata": {},
   "outputs": [
    {
     "name": "stdout",
     "output_type": "stream",
     "text": [
      "[3 5 4 2 1]\n",
      "{1: 1650675.71, 2: 5705588.994, 3: 12177205.197000002, 4: 24813489.456, 5: 90635358999.288}\n",
      "[0, 3301351.42, 8109826.568, 16244583.826000005, 33382395.085999995, 181237335603.49]\n"
     ]
    }
   ],
   "source": [
    "price_dict = {}  # original price를 저장하기 위한 dict\n",
    "price_list = [0] # 시작 min 값은 0 \n",
    "for i in range(1, 6) :\n",
    "    price_list.append(input_data['monthly_gain'].quantile(q=i*0.2)) # 10% ~ 100% 값을 가져옵니다    \n",
    "\n",
    "def labeling(x) : \n",
    "    for i in range(1, len(price_list)) :\n",
    "        price_dict[i] = (price_list[i]+price_list[i-1])/2\n",
    "        if x < price_list[i] and x >= price_list[i-1] : return i\n",
    "    return i\n",
    "\n",
    "input_data['monthly_gain_label'] = input_data.monthly_gain.apply(labeling)\n",
    "print(input_data['monthly_gain_label'].unique())\n",
    "print(price_dict)\n",
    "print(price_list)"
   ]
  },
  {
   "cell_type": "markdown",
   "id": "a35dba1e",
   "metadata": {},
   "source": [
    "#### Labeling 2) shop_type_big에 따라 중간값, 편차를 이용\n",
    "\n",
    "- 모든 업종이 중간값 보다 편차가 너무 커서 폐기"
   ]
  },
  {
   "cell_type": "code",
   "execution_count": 30,
   "id": "f44de388",
   "metadata": {},
   "outputs": [
    {
     "data": {
      "text/plain": [
       "{0: 26295553.88916357,\n",
       " 1: 28706052.331207,\n",
       " 2: 19543045.119965058,\n",
       " 3: 70222881.23349647,\n",
       " 4: 3441529.085336429,\n",
       " 5: 1569075536.9468012,\n",
       " 6: 33013325.117963992,\n",
       " 7: 38188710.77183407,\n",
       " 8: 22753249.787695788,\n",
       " 9: 78472248.1300839,\n",
       " 10: 31280422.831923284,\n",
       " 11: 30650347.19939113,\n",
       " 12: 39582896.63406678,\n",
       " 13: 60055572.84763823,\n",
       " 14: 38543045.25275931}"
      ]
     },
     "execution_count": 30,
     "metadata": {},
     "output_type": "execute_result"
    }
   ],
   "source": [
    "min_dict = df_group_big_gain['min'].to_dict()\n",
    "mean_dict = df_group_big_gain['mean'].to_dict()\n",
    "max_dict = df_group_big_gain['max'].to_dict()\n",
    "std_dict = df_group_big_gain['std'].to_dict()\n",
    "\n",
    "def labeling(x) : \n",
    "    price_dict = []\n",
    "    for i in range(0, 15) :\n",
    "        max_price = mean_dict[i] + std_dict[i]\n",
    "        if mean_dict[i]-std_dict[i] <= 0 : min_price = 0 \n",
    "        else : min_price = mean_dict[i] - std_dict[i]\n",
    "\n",
    "        if x <= min  : return min/2\n",
    "        elif x>= max : return  \n",
    "    return i\n",
    "\n",
    "print(price_dict)\n",
    "input_data['pre_monthly_gain'] = input_data.monthly_gain.apply(labeling)\n",
    "input_data"
   ]
  },
  {
   "cell_type": "markdown",
   "id": "98e55267",
   "metadata": {},
   "source": [
    "#### Labeling 3) shop_type_big에 따라 Q1, Q2, Q3, upper fence, lower fence값 이용  \n",
    "\n",
    "- shop_type_big 당 label 3개 : Total lable 30 + 1(lower_fence=0) = 31 \n",
    "- Q1 ~ 이하 값 : lower fence = 0\n",
    "- Q1 ~ Q3 : Q2, mid\n",
    "- Q3 ~ 이상 값 : upper fence \n",
    "\n",
    "- shop_type_big 당 label 3개 : Total label 45\n",
    "- Q1 이하값 : Q1 \n",
    "- Q1 ~ Q3 : Q2, mid\n",
    "- Q3 이상값 : Q3"
   ]
  },
  {
   "cell_type": "code",
   "execution_count": 17,
   "id": "e567b3a5",
   "metadata": {},
   "outputs": [
    {
     "name": "stdout",
     "output_type": "stream",
     "text": [
      "45\n"
     ]
    },
    {
     "data": {
      "text/html": [
       "<div>\n",
       "<style scoped>\n",
       "    .dataframe tbody tr th:only-of-type {\n",
       "        vertical-align: middle;\n",
       "    }\n",
       "\n",
       "    .dataframe tbody tr th {\n",
       "        vertical-align: top;\n",
       "    }\n",
       "\n",
       "    .dataframe thead th {\n",
       "        text-align: right;\n",
       "    }\n",
       "</style>\n",
       "<table border=\"1\" class=\"dataframe\">\n",
       "  <thead>\n",
       "    <tr style=\"text-align: right;\">\n",
       "      <th></th>\n",
       "      <th>shop_name</th>\n",
       "      <th>shop_type_big</th>\n",
       "      <th>shop_type_small</th>\n",
       "      <th>monthly_gain</th>\n",
       "      <th>average_sale_price</th>\n",
       "      <th>geo</th>\n",
       "      <th>monthly_gain_label</th>\n",
       "    </tr>\n",
       "  </thead>\n",
       "  <tbody>\n",
       "    <tr>\n",
       "      <th>0</th>\n",
       "      <td>친쿡부대찌개 오류동본점</td>\n",
       "      <td>3</td>\n",
       "      <td>0</td>\n",
       "      <td>12881013.37</td>\n",
       "      <td>9.98</td>\n",
       "      <td>4</td>\n",
       "      <td>15851043.88</td>\n",
       "    </tr>\n",
       "    <tr>\n",
       "      <th>1</th>\n",
       "      <td>드럼통집</td>\n",
       "      <td>3</td>\n",
       "      <td>0</td>\n",
       "      <td>33931612.72</td>\n",
       "      <td>10.86</td>\n",
       "      <td>5</td>\n",
       "      <td>15851043.88</td>\n",
       "    </tr>\n",
       "    <tr>\n",
       "      <th>2</th>\n",
       "      <td>하우돈</td>\n",
       "      <td>3</td>\n",
       "      <td>0</td>\n",
       "      <td>21456513.16</td>\n",
       "      <td>10.66</td>\n",
       "      <td>8</td>\n",
       "      <td>15851043.88</td>\n",
       "    </tr>\n",
       "    <tr>\n",
       "      <th>3</th>\n",
       "      <td>고고생고기</td>\n",
       "      <td>3</td>\n",
       "      <td>0</td>\n",
       "      <td>6140707.30</td>\n",
       "      <td>10.45</td>\n",
       "      <td>5</td>\n",
       "      <td>6552622.10</td>\n",
       "    </tr>\n",
       "    <tr>\n",
       "      <th>4</th>\n",
       "      <td>현대식당</td>\n",
       "      <td>3</td>\n",
       "      <td>0</td>\n",
       "      <td>6091482.50</td>\n",
       "      <td>10.56</td>\n",
       "      <td>1</td>\n",
       "      <td>6552622.10</td>\n",
       "    </tr>\n",
       "    <tr>\n",
       "      <th>...</th>\n",
       "      <td>...</td>\n",
       "      <td>...</td>\n",
       "      <td>...</td>\n",
       "      <td>...</td>\n",
       "      <td>...</td>\n",
       "      <td>...</td>\n",
       "      <td>...</td>\n",
       "    </tr>\n",
       "    <tr>\n",
       "      <th>2927734</th>\n",
       "      <td>최가네 남원추어탕</td>\n",
       "      <td>6</td>\n",
       "      <td>60</td>\n",
       "      <td>13693767.90</td>\n",
       "      <td>9.98</td>\n",
       "      <td>1</td>\n",
       "      <td>18101518.61</td>\n",
       "    </tr>\n",
       "    <tr>\n",
       "      <th>2927735</th>\n",
       "      <td>우미도라꾸</td>\n",
       "      <td>6</td>\n",
       "      <td>60</td>\n",
       "      <td>17432801.29</td>\n",
       "      <td>11.22</td>\n",
       "      <td>2</td>\n",
       "      <td>18101518.61</td>\n",
       "    </tr>\n",
       "    <tr>\n",
       "      <th>2927736</th>\n",
       "      <td>연안해물칼국수 행당점</td>\n",
       "      <td>6</td>\n",
       "      <td>60</td>\n",
       "      <td>17023101.74</td>\n",
       "      <td>10.44</td>\n",
       "      <td>2</td>\n",
       "      <td>18101518.61</td>\n",
       "    </tr>\n",
       "    <tr>\n",
       "      <th>2927737</th>\n",
       "      <td>동해수산</td>\n",
       "      <td>6</td>\n",
       "      <td>60</td>\n",
       "      <td>31533908.77</td>\n",
       "      <td>10.88</td>\n",
       "      <td>5</td>\n",
       "      <td>18101518.61</td>\n",
       "    </tr>\n",
       "    <tr>\n",
       "      <th>2927738</th>\n",
       "      <td>어사출또 신대방점</td>\n",
       "      <td>6</td>\n",
       "      <td>60</td>\n",
       "      <td>33992793.02</td>\n",
       "      <td>10.48</td>\n",
       "      <td>8</td>\n",
       "      <td>18101518.61</td>\n",
       "    </tr>\n",
       "  </tbody>\n",
       "</table>\n",
       "<p>2927739 rows × 7 columns</p>\n",
       "</div>"
      ],
      "text/plain": [
       "            shop_name  shop_type_big  shop_type_small  monthly_gain  \\\n",
       "0        친쿡부대찌개 오류동본점              3                0   12881013.37   \n",
       "1                드럼통집              3                0   33931612.72   \n",
       "2                 하우돈              3                0   21456513.16   \n",
       "3               고고생고기              3                0    6140707.30   \n",
       "4                현대식당              3                0    6091482.50   \n",
       "...               ...            ...              ...           ...   \n",
       "2927734     최가네 남원추어탕              6               60   13693767.90   \n",
       "2927735         우미도라꾸              6               60   17432801.29   \n",
       "2927736   연안해물칼국수 행당점              6               60   17023101.74   \n",
       "2927737          동해수산              6               60   31533908.77   \n",
       "2927738     어사출또 신대방점              6               60   33992793.02   \n",
       "\n",
       "         average_sale_price  geo  monthly_gain_label  \n",
       "0                      9.98    4         15851043.88  \n",
       "1                     10.86    5         15851043.88  \n",
       "2                     10.66    8         15851043.88  \n",
       "3                     10.45    5          6552622.10  \n",
       "4                     10.56    1          6552622.10  \n",
       "...                     ...  ...                 ...  \n",
       "2927734                9.98    1         18101518.61  \n",
       "2927735               11.22    2         18101518.61  \n",
       "2927736               10.44    2         18101518.61  \n",
       "2927737               10.88    5         18101518.61  \n",
       "2927738               10.48    8         18101518.61  \n",
       "\n",
       "[2927739 rows x 7 columns]"
      ]
     },
     "execution_count": 17,
     "metadata": {},
     "output_type": "execute_result"
    }
   ],
   "source": [
    "def get_pricelist(i) :\n",
    "    Q1 = group_big_gain.get_group(i)['monthly_gain'].quantile(0.25)\n",
    "    Q2 = group_big_gain.get_group(i)['monthly_gain'].quantile(0.5)\n",
    "    Q3 = group_big_gain.get_group(i)['monthly_gain'].quantile(0.75)\n",
    "    IQR = Q3 - Q1\n",
    "    lower_fence = Q1 - (1.5 * IQR)\n",
    "    upper_fence = Q3 + (1.5 * IQR)\n",
    "    if lower_fence <= 0 : lower_fence = 0\n",
    "        \n",
    "    return lower_fence, Q1, Q2, Q3, upper_fence\n",
    "\n",
    "def labeling() : \n",
    "    for i in range(0,15) : \n",
    "        lower_fence, Q1, Q2, Q3, upper_fence = get_pricelist(i)\n",
    "        prices = input_data.loc[(input_data.shop_type_big == i), 'monthly_gain']\n",
    "        #prices = prices.apply(lambda x: lower_fence if x < Q1 else (upper_fence if x > Q3 else Q2))\n",
    "        prices = prices.apply(lambda x : Q1 if x < Q1 else (Q3 if x > Q3 else Q2))\n",
    "        input_data.loc[(input_data.shop_type_big == i), 'monthly_gain_label'] = prices\n",
    "\n",
    "labeling()\n",
    "print(input_data['monthly_gain_label'].nunique())\n",
    "input_data"
   ]
  },
  {
   "cell_type": "code",
   "execution_count": 18,
   "id": "6d9e31eb",
   "metadata": {},
   "outputs": [
    {
     "name": "stdout",
     "output_type": "stream",
     "text": [
      "45\n",
      "original monthly_gain_label counts :  36\n",
      "rounded monthly_gain_label counts :  14000000.00    278804\n",
      "6400000.00     227596\n",
      "27000000.00    212152\n",
      "7500000.00     159169\n",
      "30000000.00    135972\n",
      "5700000.00     135972\n",
      "16000000.00    133774\n",
      "9000000.00     127382\n",
      "18000000.00    121871\n",
      "7400000.00     117864\n",
      "17000000.00    113798\n",
      "2200000.00     113798\n",
      "12000000.00    106809\n",
      "8700000.00      94131\n",
      "48000000.00     89759\n",
      "3300000.00      79585\n",
      "36000000.00     67159\n",
      "13000000.00     65272\n",
      "19000000.00     63692\n",
      "3700000.00      63692\n",
      "24000000.00     53405\n",
      "5800000.00      53405\n",
      "9800000.00      49101\n",
      "20000000.00     47066\n",
      "3500000.00      47066\n",
      "8500000.00      32831\n",
      "5200000.00      32636\n",
      "29000000.00     27982\n",
      "3200000.00      24550\n",
      "8000000.00      20872\n",
      "31000000.00     20872\n",
      "6600000.00       6223\n",
      "6100000.00       3432\n",
      "4200000.00         23\n",
      "2900000.00         12\n",
      "6800000.00         12\n",
      "Name: monthly_gain_label, dtype: int64\n"
     ]
    }
   ],
   "source": [
    "# upper fence, Q2 값은 모두 백만원대~천만원대(하나만 억대) 이기 때문에\n",
    "# 십만원대 아래 가격들은 모두 반올림 하여 비슷한 label 값을 가지는 것들은 통일\n",
    "#input_data[input_data['shop_type_big']==12]['monthly_gain_label'].value_counts()\n",
    "print(input_data['monthly_gain_label'].nunique())\n",
    "input_data['monthly_gain_label'] = input_data.monthly_gain_label.apply(lambda x : round(x, -5)\n",
    "                                                                       if x < 10000000 else round(x, -6))\n",
    "print(\"original monthly_gain_label counts : \", input_data['monthly_gain_label'].nunique())\n",
    "print(\"rounded monthly_gain_label counts : \", input_data['monthly_gain_label'].value_counts())"
   ]
  },
  {
   "cell_type": "markdown",
   "id": "05f7db1f",
   "metadata": {},
   "source": [
    "#### Labeling 4) all price range\n",
    "- min : 5 \n",
    "- max : 181,237,335,603 (181억)\n",
    "- 10,000원*\n",
    "- 100,000원(십만원대)*\n",
    "- 500,000원(십만~오십만원대)*\n",
    "- 1,000,000원 (백만원대)\n",
    "- 2, 3, 4, 5, 6, 7, 8, 9 (detailed)\n",
    "- 10,000,000원 (천만원대)\n",
    "- 30,000,000원 \n",
    "- 50,000,000원\n",
    "- 70,000,000원\n",
    "- 100,000,000원 (억대)*\n",
    "- 500,000,000원 *\n",
    "- 1,000,000,000원(십억대) *\n",
    "- 10,000,000,000원(백억대) *"
   ]
  },
  {
   "cell_type": "code",
   "execution_count": 132,
   "id": "062082ca",
   "metadata": {},
   "outputs": [
    {
     "name": "stdout",
     "output_type": "stream",
     "text": [
      "15\n",
      "30000000       921620\n",
      "3000000        343299\n",
      "50000000       343069\n",
      "5000000        284585\n",
      "10000000       281385\n",
      "7000000        235054\n",
      "1000000        177939\n",
      "70000000       144192\n",
      "500000000       87076\n",
      "100000000       83310\n",
      "100000          16747\n",
      "1000000000       4815\n",
      "10000000000      3177\n",
      "10000             805\n",
      "15000000000       666\n",
      "Name: monthly_gain_label, dtype: int64\n"
     ]
    }
   ],
   "source": [
    "price_dict = [10000, 100000,\n",
    "              1000000, 3000000, 5000000, 7000000,\n",
    "              10000000, 30000000, 50000000, 70000000,\n",
    "              100000000, 500000000, 1000000000, 10000000000, 15000000000]\n",
    "print(len(price_dict))\n",
    "\n",
    "def labeling(x) : \n",
    "    for i in range(0, len(price_dict)) :\n",
    "        if x < price_dict[i] : return price_dict[i]\n",
    "    return price_dict[-1]\n",
    "\n",
    "input_data['monthly_gain_label'] = input_data.monthly_gain.apply(labeling)\n",
    "print(input_data['monthly_gain_label'].value_counts())"
   ]
  },
  {
   "cell_type": "markdown",
   "id": "1d2e7c3c",
   "metadata": {},
   "source": [
    "#### Labeling 5) without outlier\n",
    "upper fence, lower fence 외 값(outlier)을 제거합니다 "
   ]
  },
  {
   "cell_type": "code",
   "execution_count": 62,
   "id": "9178cbda",
   "metadata": {},
   "outputs": [
    {
     "name": "stdout",
     "output_type": "stream",
     "text": [
      "removed index in shop_type_big 0 :  25133\n",
      "removed index in shop_type_big 1 :  15726\n",
      "removed index in shop_type_big 2 :  12003\n",
      "removed index in shop_type_big 3 :  2393\n",
      "removed index in shop_type_big 4 :  1\n",
      "removed index in shop_type_big 5 :  26678\n",
      "removed index in shop_type_big 6 :  8612\n",
      "removed index in shop_type_big 7 :  1188\n",
      "removed index in shop_type_big 8 :  19350\n",
      "removed index in shop_type_big 9 :  50532\n",
      "removed index in shop_type_big 10 :  6064\n",
      "removed index in shop_type_big 11 :  5384\n",
      "removed index in shop_type_big 12 :  8360\n",
      "removed index in shop_type_big 13 :  11580\n",
      "removed index in shop_type_big 14 :  40136\n",
      "original monthly_gain_label counts:  45\n",
      "rounded monthly_gain_label counts:  36\n"
     ]
    }
   ],
   "source": [
    "def get_pricelist(i) :\n",
    "    Q1 = group_big_gain.get_group(i)['monthly_gain'].quantile(0.25)\n",
    "    Q2 = group_big_gain.get_group(i)['monthly_gain'].quantile(0.5)\n",
    "    Q3 = group_big_gain.get_group(i)['monthly_gain'].quantile(0.75)\n",
    "    IQR = Q3 - Q1\n",
    "    lower_fence = Q1 - (1.5 * IQR)\n",
    "    upper_fence = Q3 + (1.5 * IQR)\n",
    "    if lower_fence <= 0 : lower_fence = 0\n",
    "        \n",
    "    return lower_fence, Q1, Q2, Q3, upper_fence\n",
    "\n",
    "def remove_outlier(input_data) :\n",
    "    processed_data = input_data.copy()\n",
    "    for i in range(0,15) :\n",
    "        lower_fence, Q1, Q2, Q3, upper_fence = get_pricelist(i)\n",
    "        shoptype_index = input_data[input_data.shop_type_big == i].index\n",
    "        shoptype_data = input_data.iloc[shoptype_index, :]\n",
    "        outlier_index = shoptype_data[shoptype_data.monthly_gain > upper_fence].index\n",
    "        print(\"removed index in shop_type_big\" , i, \": \", len(outlier_index))\n",
    "        processed_data = processed_data.drop(outlier_index)\n",
    "    return processed_data \n",
    "\n",
    "def labeling(input_data) : \n",
    "    for i in range(0,15) : \n",
    "        lower_fence, Q1, Q2, Q3, upper_fence = get_pricelist(i)\n",
    "        prices = input_data.loc[(input_data.shop_type_big == i), 'monthly_gain']\n",
    "        #prices = prices.apply(lambda x: lower_fence if x < Q1 else (upper_fence if x > Q3 else Q2))\n",
    "        prices = prices.apply(lambda x : Q1 if x < Q1 else (Q3 if x > Q3 else Q2))\n",
    "        input_data.loc[(input_data.shop_type_big == i), 'monthly_gain_label'] = prices\n",
    "    return input_data\n",
    "\n",
    "processed_data = remove_outlier(input_data)\n",
    "processed_data = labeling(processed_data)\n",
    "print(\"original monthly_gain_label counts: \", processed_data.monthly_gain_label.nunique())\n",
    "\n",
    "processed_data['monthly_gain_label'] = processed_data.monthly_gain_label.apply(lambda x : round(x, -5)\n",
    "                                                                       if x < 10000000 else round(x, -6))\n",
    "print(\"rounded monthly_gain_label counts: \", processed_data['monthly_gain_label'].nunique())"
   ]
  },
  {
   "cell_type": "code",
   "execution_count": 26,
   "id": "0eab8ebf",
   "metadata": {
    "collapsed": true
   },
   "outputs": [
    {
     "ename": "NameError",
     "evalue": "name 'processed_data' is not defined",
     "output_type": "error",
     "traceback": [
      "\u001b[1;31m---------------------------------------------------------------------------\u001b[0m",
      "\u001b[1;31mNameError\u001b[0m                                 Traceback (most recent call last)",
      "\u001b[1;32mC:\\Users\\HYEONG~1\\AppData\\Local\\Temp/ipykernel_20000/1887735725.py\u001b[0m in \u001b[0;36m<module>\u001b[1;34m\u001b[0m\n\u001b[0;32m      2\u001b[0m \u001b[1;31m# conver 'float' to 'int'\u001b[0m\u001b[1;33m\u001b[0m\u001b[1;33m\u001b[0m\u001b[1;33m\u001b[0m\u001b[0m\n\u001b[0;32m      3\u001b[0m \u001b[0minput_data\u001b[0m \u001b[1;33m=\u001b[0m \u001b[0minput_data\u001b[0m\u001b[1;33m.\u001b[0m\u001b[0mastype\u001b[0m\u001b[1;33m(\u001b[0m\u001b[1;33m{\u001b[0m\u001b[1;34m'monthly_gain_label'\u001b[0m \u001b[1;33m:\u001b[0m \u001b[1;34m'int'\u001b[0m\u001b[1;33m}\u001b[0m\u001b[1;33m)\u001b[0m\u001b[1;33m\u001b[0m\u001b[1;33m\u001b[0m\u001b[0m\n\u001b[1;32m----> 4\u001b[1;33m \u001b[0mprocessed_data\u001b[0m \u001b[1;33m=\u001b[0m \u001b[0mprocessed_data\u001b[0m\u001b[1;33m.\u001b[0m\u001b[0mastype\u001b[0m\u001b[1;33m(\u001b[0m\u001b[1;33m{\u001b[0m\u001b[1;34m'monthly_gain_label'\u001b[0m \u001b[1;33m:\u001b[0m \u001b[1;34m'int'\u001b[0m\u001b[1;33m}\u001b[0m\u001b[1;33m)\u001b[0m\u001b[1;33m\u001b[0m\u001b[1;33m\u001b[0m\u001b[0m\n\u001b[0m\u001b[0;32m      5\u001b[0m \u001b[0minput_data\u001b[0m\u001b[1;33m.\u001b[0m\u001b[0mhead\u001b[0m\u001b[1;33m(\u001b[0m\u001b[1;33m)\u001b[0m\u001b[1;33m\u001b[0m\u001b[1;33m\u001b[0m\u001b[0m\n\u001b[0;32m      6\u001b[0m \u001b[1;33m\u001b[0m\u001b[0m\n",
      "\u001b[1;31mNameError\u001b[0m: name 'processed_data' is not defined"
     ]
    }
   ],
   "source": [
    "# continous 값은 lgbm에서 classification 할 수 없음\n",
    "# conver 'float' to 'int'\n",
    "input_data = input_data.astype({'monthly_gain_label' : 'int'})\n",
    "processed_data = processed_data.astype({'monthly_gain_label' : 'int'})\n",
    "input_data.head()\n",
    "\n",
    "# outlier data 시험을 위해 input_data를 잠시 다른 변수 original data에.. \n",
    "original_data = input_data \n",
    "input_data = processed_data\n",
    "\n",
    "input_data_y = input_data['monthly_gain_label'].copy()\n",
    "input_data_X = input_data.drop(['monthly_gain_label', 'monthly_gain'], axis=1)"
   ]
  },
  {
   "cell_type": "code",
   "execution_count": 27,
   "id": "213d341d",
   "metadata": {},
   "outputs": [],
   "source": [
    "input_data_y = input_data['monthly_gain_label'].copy()\n",
    "input_data_X = input_data.drop(['monthly_gain_label', 'monthly_gain'], axis=1)"
   ]
  },
  {
   "cell_type": "markdown",
   "id": "17b47be6",
   "metadata": {},
   "source": [
    "# 4. NLP - shop_name\n",
    "embedding embedding and embedding vector\n",
    "1. shop_name -> make vocabulary set (tk) : 116,918 개의 단어 set \n",
    "2. using vocab set, shop_name -> index encoding (seq_data)\n",
    "3. padding with 0 -> pad_seq_data : DL input_length 8 (max) "
   ]
  },
  {
   "cell_type": "code",
   "execution_count": 21,
   "id": "af3b0a12",
   "metadata": {},
   "outputs": [
    {
     "name": "stdout",
     "output_type": "stream",
     "text": [
      "[('주', 1), ('gs25', 2), ('주식회사', 3), ('씨유', 4), ('세븐일레븐', 5), ('코리아세븐', 6), ('카페', 7), ('cu', 8), ('파리바게뜨', 9), ('이마트24', 10), ('cafe', 11), ('coffee', 12), ('이디야', 13), ('커피', 14), ('미니스톱', 15), ('김밥천국', 16), ('본죽', 17), ('더', 18), ('투썸플레이스', 19), ('이디야커피', 20)]\n",
      "tk.word_index.item() :  116918\n"
     ]
    }
   ],
   "source": [
    "from keras.preprocessing.text import Tokenizer\n",
    "\n",
    "tk = Tokenizer()\n",
    "tk.fit_on_texts(input_data['shop_name'])\n",
    "\n",
    "print(list(tk.word_index.items())[:20])\n",
    "print(\"\\nvocab words 개수 : \", len(tk.word_index.items()))"
   ]
  },
  {
   "cell_type": "code",
   "execution_count": 22,
   "id": "448229ec",
   "metadata": {},
   "outputs": [
    {
     "name": "stdout",
     "output_type": "stream",
     "text": [
      "seq_data[0]:  [22678, 22679]\n",
      "pad_seq_data.shpae:  (2927739, 8)\n",
      "nlp_input_length:  8\n"
     ]
    }
   ],
   "source": [
    "from keras.preprocessing.sequence import pad_sequences\n",
    "\n",
    "seq_data = tk.texts_to_sequences(input_data['shop_name'])\n",
    "print(\"seq_data[0]: \", seq_data[0])\n",
    "\n",
    "pad_seq_data = pad_sequences(seq_data)\n",
    "print(\"pad_seq_data.shpae: \", pad_seq_data.shape)\n",
    "\n",
    "nlp_input_length = pad_seq_data[0].shape[0]\n",
    "print(\"nlp_input_length\", nlp_input_length)"
   ]
  },
  {
   "cell_type": "code",
   "execution_count": 35,
   "id": "275af92d",
   "metadata": {},
   "outputs": [],
   "source": [
    "from sklearn.model_selection import train_test_split, cross_validate, StratifiedKFold, GridSearchCV\n",
    "from sklearn.metrics import accuracy_score, classification_report, confusion_matrix, f1_score\n",
    "\n",
    "from lightgbm import LGBMClassifier\n",
    "from lightgbm import plot_importance \n",
    "from xgboost import XGBClassifier\n",
    "from xgboost import plot_importance\n",
    "\n",
    "from keras.callbacks import EarlyStopping, ModelCheckpoint"
   ]
  },
  {
   "cell_type": "code",
   "execution_count": 53,
   "id": "391ace80",
   "metadata": {},
   "outputs": [],
   "source": [
    "# train/ test data 로 split \n",
    "tr_val_X, test_X, tr_val_y, test_y = train_test_split(\n",
    "    input_data_X, \n",
    "    input_data_y, \n",
    "    test_size = 0.2, \n",
    "    random_state = 42,\n",
    "    shuffle=True,\n",
    "    stratify = input_data_y\n",
    ")\n",
    "\n",
    "# valid/train 로 split\n",
    "train_X, valid_X, train_y, valid_y = train_test_split(\n",
    "    tr_val_X, \n",
    "    tr_val_y, \n",
    "    test_size = 0.2, \n",
    "    random_state = 42,\n",
    "    shuffle=True,\n",
    "    stratify = tr_val_y\n",
    ")"
   ]
  },
  {
   "cell_type": "code",
   "execution_count": 54,
   "id": "6a980e04",
   "metadata": {},
   "outputs": [
    {
     "name": "stdout",
     "output_type": "stream",
     "text": [
      "1873752\n",
      "1873752\n",
      "468439\n",
      "468439\n",
      "585548\n",
      "585548\n"
     ]
    }
   ],
   "source": [
    "seq_data = tk.texts_to_sequences(train_X['shop_name'])\n",
    "pad_seq_data = pad_sequences(seq_data, nlp_input_length)\n",
    "nlp_train_X = pad_seq_data\n",
    "\n",
    "seq_data = tk.texts_to_sequences(valid_X['shop_name'])\n",
    "pad_seq_data = pad_sequences(seq_data, nlp_input_length)\n",
    "nlp_valid_X = pad_seq_data\n",
    "\n",
    "seq_data = tk.texts_to_sequences(test_X['shop_name'])\n",
    "pad_seq_data = pad_sequences(seq_data, nlp_input_length)\n",
    "nlp_test_X = pad_seq_data\n",
    "\n",
    "print(len(nlp_train_X))\n",
    "print(len(train_X))\n",
    "print(len(nlp_valid_X))\n",
    "print(len(valid_X))\n",
    "print(len(nlp_test_X))\n",
    "print(len(test_X))"
   ]
  },
  {
   "cell_type": "code",
   "execution_count": 49,
   "id": "a4a22991",
   "metadata": {},
   "outputs": [
    {
     "name": "stdout",
     "output_type": "stream",
     "text": [
      "[ 2200000  2900000  3200000  3300000  3500000  3700000  4200000  5200000\n",
      "  5700000  5800000  6100000  6400000  6600000  6800000  7400000  7500000\n",
      "  8000000  8500000  8700000  9000000  9800000 12000000 13000000 14000000\n",
      " 16000000 17000000 18000000 19000000 20000000 24000000 27000000 29000000\n",
      " 30000000 31000000 36000000 48000000]\n"
     ]
    }
   ],
   "source": [
    "# LabelEncoder\n",
    "from sklearn.preprocessing import LabelEncoder\n",
    "\n",
    "le = LabelEncoder()\n",
    "input_data_y  = le.fit_transform(list(input_data_y))   # fit transform으로 한번에 처리 가능\n",
    "print(le.classes_)"
   ]
  },
  {
   "cell_type": "code",
   "execution_count": 58,
   "id": "11ffe52d",
   "metadata": {},
   "outputs": [
    {
     "data": {
      "text/plain": [
       "{0,\n",
       " 1,\n",
       " 2,\n",
       " 3,\n",
       " 4,\n",
       " 5,\n",
       " 6,\n",
       " 7,\n",
       " 8,\n",
       " 9,\n",
       " 10,\n",
       " 11,\n",
       " 12,\n",
       " 13,\n",
       " 14,\n",
       " 15,\n",
       " 16,\n",
       " 17,\n",
       " 18,\n",
       " 19,\n",
       " 20,\n",
       " 21,\n",
       " 22,\n",
       " 23,\n",
       " 24,\n",
       " 25,\n",
       " 26,\n",
       " 27,\n",
       " 28,\n",
       " 29,\n",
       " 30,\n",
       " 31,\n",
       " 32,\n",
       " 33,\n",
       " 34,\n",
       " 35}"
      ]
     },
     "execution_count": 58,
     "metadata": {},
     "output_type": "execute_result"
    }
   ],
   "source": [
    "set(input_data_y)"
   ]
  },
  {
   "cell_type": "code",
   "execution_count": 59,
   "id": "2fc47032",
   "metadata": {},
   "outputs": [
    {
     "name": "stdout",
     "output_type": "stream",
     "text": [
      "Model: \"sequential_7\"\n",
      "_________________________________________________________________\n",
      "Layer (type)                 Output Shape              Param #   \n",
      "=================================================================\n",
      "embedding_7 (Embedding)      (None, 8, 10)             1169190   \n",
      "_________________________________________________________________\n",
      "flatten_7 (Flatten)          (None, 80)                0         \n",
      "_________________________________________________________________\n",
      "dense_13 (Dense)             (None, 64)                5184      \n",
      "_________________________________________________________________\n",
      "dense_14 (Dense)             (None, 36)                2340      \n",
      "=================================================================\n",
      "Total params: 1,176,714\n",
      "Trainable params: 1,176,714\n",
      "Non-trainable params: 0\n",
      "_________________________________________________________________\n"
     ]
    }
   ],
   "source": [
    "from keras import Sequential\n",
    "from keras.layers import *\n",
    "import tensorflow as tf\n",
    "import keras\n",
    "from keras.callbacks import EarlyStopping, ModelCheckpoint, ReduceLROnPlateau\n",
    "\n",
    "def create_model(input_dim, output_dim, input_length) : \n",
    "    model = Sequential()\n",
    "    # 1 워드 임베딩 학습 \n",
    "    model.add(Embedding(input_dim, output_dim, input_length = input_length))\n",
    "    \n",
    "    # Classification 학습 \n",
    "    model.add(Flatten())\n",
    "    model.add(Dense(64, activation='relu'))\n",
    "    model.add(Dense(len(set(input_data_y)), activation='softmax'))\n",
    "    \n",
    "    model.compile(loss='sparse_categorical_crossentropy', optimizer='adam', metrics=['accuracy'])\n",
    "    return model\n",
    "\n",
    "\n",
    "input_dim = len(tk.word_index) + 1 # vocab size + padding index =114,537 + 1 = 114,538\n",
    "output_dim = 10\n",
    "input_length = nlp_input_length\n",
    "\n",
    "model = create_model(input_dim, output_dim, input_length)\n",
    "model.summary()"
   ]
  },
  {
   "cell_type": "code",
   "execution_count": 61,
   "id": "c6a9ab8a",
   "metadata": {},
   "outputs": [
    {
     "name": "stdout",
     "output_type": "stream",
     "text": [
      "Epoch 1/4\n",
      "29278/29278 [==============================] - 588s 20ms/step - loss: 0.7038 - accuracy: 0.7445 - val_loss: 0.7140 - val_accuracy: 0.7407\n",
      "Epoch 2/4\n",
      "29278/29278 [==============================] - 553s 19ms/step - loss: 0.6606 - accuracy: 0.7538 - val_loss: 0.6983 - val_accuracy: 0.7441\n",
      "Epoch 3/4\n",
      "29278/29278 [==============================] - 576s 20ms/step - loss: 0.6428 - accuracy: 0.7579 - val_loss: 0.6923 - val_accuracy: 0.7460\n",
      "Epoch 4/4\n",
      "29278/29278 [==============================] - 625s 21ms/step - loss: 0.6331 - accuracy: 0.7604 - val_loss: 0.6857 - val_accuracy: 0.7468\n"
     ]
    }
   ],
   "source": [
    "hist = model.fit(nlp_train_X, train_y, validation_data=(nlp_valid_X, valid_y), epochs=4, batch_size=64)"
   ]
  },
  {
   "cell_type": "code",
   "execution_count": 62,
   "id": "e7ab13ef",
   "metadata": {},
   "outputs": [
    {
     "data": {
      "image/png": "[encoded data removed]",
      "text/plain": [
       "<Figure size 1080x576 with 1 Axes>"
      ]
     },
     "metadata": {
      "needs_background": "light"
     },
     "output_type": "display_data"
    }
   ],
   "source": [
    "import matplotlib.pyplot as plt\n",
    "plt.plot(hist.history['loss'], label='test loss')\n",
    "plt.plot(hist.history['val_loss'], label='val loss')\n",
    "plt.xticks(range(len(hist.history['loss'])))\n",
    "plt.xlabel('epoch')\n",
    "plt.ylabel('precision')\n",
    "plt.legend(loc='lower right')\n",
    "plt.grid(True)\n",
    "plt.show()\n",
    "# valid loss가 올라가는 순간 train data에 overfitting \n",
    "# epoch 중에 2,3 번까지만 하는 것이 가장 학습이 잘 되는 것으로 보임 -> epoch:20 -> epoch:3"
   ]
  },
  {
   "cell_type": "code",
   "execution_count": 63,
   "id": "b9e41709",
   "metadata": {},
   "outputs": [
    {
     "data": {
      "text/plain": [
       "array([ 0, 34, 15, ...,  8,  3, 23], dtype=int64)"
      ]
     },
     "execution_count": 63,
     "metadata": {},
     "output_type": "execute_result"
    }
   ],
   "source": [
    "pred_y_dl_prob = model.predict(nlp_test_X)\n",
    "pred_y_dl = np.argmax(pred_y_dl_prob, axis=1)\n",
    "pred_y_dl"
   ]
  },
  {
   "cell_type": "code",
   "execution_count": 64,
   "id": "cad9c06d",
   "metadata": {
    "scrolled": false
   },
   "outputs": [
    {
     "name": "stderr",
     "output_type": "stream",
     "text": [
      "C:\\Users\\Hyeongbin\\anaconda3\\lib\\site-packages\\sklearn\\metrics\\_classification.py:1308: UndefinedMetricWarning: Precision and F-score are ill-defined and being set to 0.0 in labels with no predicted samples. Use `zero_division` parameter to control this behavior.\n",
      "  _warn_prf(average, modifier, msg_start, len(result))\n",
      "C:\\Users\\Hyeongbin\\anaconda3\\lib\\site-packages\\sklearn\\metrics\\_classification.py:1308: UndefinedMetricWarning: Precision and F-score are ill-defined and being set to 0.0 in labels with no predicted samples. Use `zero_division` parameter to control this behavior.\n",
      "  _warn_prf(average, modifier, msg_start, len(result))\n"
     ]
    },
    {
     "name": "stdout",
     "output_type": "stream",
     "text": [
      "              precision    recall  f1-score   support\n",
      "\n",
      "           0       0.65      0.55      0.59     22760\n",
      "           1       0.00      0.00      0.00         2\n",
      "           2       0.75      0.68      0.71      4910\n",
      "           3       0.77      0.70      0.74     15917\n",
      "           4       0.75      0.69      0.71      9413\n",
      "           5       0.69      0.64      0.66     12738\n",
      "           6       0.56      1.00      0.71         5\n",
      "           7       0.75      0.72      0.73      6527\n",
      "           8       0.68      0.68      0.68     27195\n",
      "           9       0.71      0.69      0.70     10681\n",
      "          10       0.73      0.75      0.74       686\n",
      "          11       0.68      0.64      0.65     45519\n",
      "          12       0.69      0.66      0.67      1245\n",
      "          13       0.00      0.00      0.00         2\n",
      "          14       0.79      0.80      0.80     23573\n",
      "          15       0.75      0.84      0.79     31834\n",
      "          16       0.78      0.66      0.71      4174\n",
      "          17       0.73      0.67      0.70      6566\n",
      "          18       0.71      0.82      0.76     18826\n",
      "          19       0.72      0.74      0.73     25477\n",
      "          20       0.78      0.77      0.77      9820\n",
      "          21       0.76      0.78      0.77     21362\n",
      "          22       0.80      0.81      0.80     13054\n",
      "          23       0.72      0.77      0.75     55761\n",
      "          24       0.78      0.77      0.78     26755\n",
      "          25       0.74      0.70      0.72     22760\n",
      "          26       0.74      0.73      0.73     24374\n",
      "          27       0.72      0.76      0.74     12738\n",
      "          28       0.80      0.67      0.73      9413\n",
      "          29       0.79      0.79      0.79     10681\n",
      "          30       0.85      0.85      0.85     42431\n",
      "          31       0.84      0.88      0.86      5596\n",
      "          32       0.75      0.75      0.75     27195\n",
      "          33       0.78      0.75      0.77      4174\n",
      "          34       0.69      0.76      0.72     13432\n",
      "          35       0.84      0.87      0.85     17952\n",
      "\n",
      "    accuracy                           0.75    585548\n",
      "   macro avg       0.70      0.70      0.70    585548\n",
      "weighted avg       0.75      0.75      0.74    585548\n",
      "\n"
     ]
    },
    {
     "name": "stderr",
     "output_type": "stream",
     "text": [
      "C:\\Users\\Hyeongbin\\anaconda3\\lib\\site-packages\\sklearn\\metrics\\_classification.py:1308: UndefinedMetricWarning: Precision and F-score are ill-defined and being set to 0.0 in labels with no predicted samples. Use `zero_division` parameter to control this behavior.\n",
      "  _warn_prf(average, modifier, msg_start, len(result))\n"
     ]
    }
   ],
   "source": [
    "from sklearn.metrics import classification_report, confusion_matrix\n",
    "\n",
    "print(classification_report(test_y, pred_y_dl)) # word embedding "
   ]
  },
  {
   "cell_type": "markdown",
   "id": "55412fa2",
   "metadata": {},
   "source": [
    "# 6. Modeling\n",
    "- XGB\n",
    "- LGBM\n",
    "- MultiClass Classification "
   ]
  },
  {
   "cell_type": "code",
   "execution_count": 65,
   "id": "4bb1ea5f",
   "metadata": {},
   "outputs": [],
   "source": [
    "# Learning task parameters\n",
    "# multi:softmax : softmax를 이용한 다중 클래스 분류 \n",
    "# multi:softptob : softmax를 이용한 다중 클래스에 대한 예상 확률 반환 \n",
    "# mlogloss : multiclass logloss \n",
    "model_xgb = XGBClassifier(\n",
    "    eval_metric='mlogloss')\n",
    "model_lgbm = LGBMClassifier(\n",
    "    eval_metric='mlogloss')"
   ]
  },
  {
   "cell_type": "code",
   "execution_count": 82,
   "id": "852e858b",
   "metadata": {},
   "outputs": [],
   "source": [
    "train_X_ml = train_X.copy()\n",
    "valid_X_ml = valid_X.drop('shop_name', axis=1).copy()\n",
    "test_X_ml = test_X.drop('shop_name', axis=1).copy()"
   ]
  },
  {
   "cell_type": "code",
   "execution_count": 84,
   "id": "61858132",
   "metadata": {},
   "outputs": [
    {
     "name": "stderr",
     "output_type": "stream",
     "text": [
      "C:\\Users\\Hyeongbin\\anaconda3\\lib\\site-packages\\xgboost\\sklearn.py:888: UserWarning: The use of label encoder in XGBClassifier is deprecated and will be removed in a future release. To remove this warning, do the following: 1) Pass option use_label_encoder=False when constructing XGBClassifier object; and 2) Encode your labels (y) as integers starting with 0, i.e. 0, 1, 2, ..., [num_class - 1].\n",
      "  warnings.warn(label_encoder_deprecation_msg, UserWarning)\n"
     ]
    },
    {
     "name": "stdout",
     "output_type": "stream",
     "text": [
      "[0]\tvalidation_0-mlogloss:1.79505\n",
      "[1]\tvalidation_0-mlogloss:1.55690\n",
      "[2]\tvalidation_0-mlogloss:1.41516\n",
      "[3]\tvalidation_0-mlogloss:1.31411\n",
      "[4]\tvalidation_0-mlogloss:1.23957\n",
      "[5]\tvalidation_0-mlogloss:1.18233\n",
      "[6]\tvalidation_0-mlogloss:1.13746\n",
      "[7]\tvalidation_0-mlogloss:1.10172\n",
      "[8]\tvalidation_0-mlogloss:1.07297\n",
      "[9]\tvalidation_0-mlogloss:1.04926\n",
      "[10]\tvalidation_0-mlogloss:1.02974\n",
      "[11]\tvalidation_0-mlogloss:1.01371\n",
      "[12]\tvalidation_0-mlogloss:1.00009\n",
      "[13]\tvalidation_0-mlogloss:0.98862\n",
      "[14]\tvalidation_0-mlogloss:0.97906\n",
      "[15]\tvalidation_0-mlogloss:0.97090\n",
      "[16]\tvalidation_0-mlogloss:0.96394\n",
      "[17]\tvalidation_0-mlogloss:0.95805\n",
      "[18]\tvalidation_0-mlogloss:0.95308\n",
      "[19]\tvalidation_0-mlogloss:0.94863\n",
      "[20]\tvalidation_0-mlogloss:0.94485\n",
      "[21]\tvalidation_0-mlogloss:0.94165\n",
      "[22]\tvalidation_0-mlogloss:0.93887\n",
      "[23]\tvalidation_0-mlogloss:0.93646\n",
      "[24]\tvalidation_0-mlogloss:0.93435\n",
      "[25]\tvalidation_0-mlogloss:0.93255\n",
      "[26]\tvalidation_0-mlogloss:0.93097\n",
      "[27]\tvalidation_0-mlogloss:0.92957\n",
      "[28]\tvalidation_0-mlogloss:0.92814\n",
      "[29]\tvalidation_0-mlogloss:0.92705\n",
      "[30]\tvalidation_0-mlogloss:0.92608\n",
      "[31]\tvalidation_0-mlogloss:0.92514\n",
      "[32]\tvalidation_0-mlogloss:0.92436\n",
      "[33]\tvalidation_0-mlogloss:0.92358\n",
      "[34]\tvalidation_0-mlogloss:0.92292\n",
      "[35]\tvalidation_0-mlogloss:0.92237\n",
      "[36]\tvalidation_0-mlogloss:0.92177\n",
      "[37]\tvalidation_0-mlogloss:0.92118\n",
      "[38]\tvalidation_0-mlogloss:0.92075\n",
      "[39]\tvalidation_0-mlogloss:0.92024\n",
      "[40]\tvalidation_0-mlogloss:0.91984\n",
      "[41]\tvalidation_0-mlogloss:0.91956\n",
      "[42]\tvalidation_0-mlogloss:0.91919\n",
      "[43]\tvalidation_0-mlogloss:0.91893\n",
      "[44]\tvalidation_0-mlogloss:0.91869\n",
      "[45]\tvalidation_0-mlogloss:0.91834\n",
      "[46]\tvalidation_0-mlogloss:0.91805\n",
      "[47]\tvalidation_0-mlogloss:0.91767\n",
      "[48]\tvalidation_0-mlogloss:0.91737\n",
      "[49]\tvalidation_0-mlogloss:0.91711\n",
      "[50]\tvalidation_0-mlogloss:0.91692\n",
      "[51]\tvalidation_0-mlogloss:0.91669\n",
      "[52]\tvalidation_0-mlogloss:0.91646\n",
      "[53]\tvalidation_0-mlogloss:0.91617\n",
      "[54]\tvalidation_0-mlogloss:0.91598\n",
      "[55]\tvalidation_0-mlogloss:0.91582\n",
      "[56]\tvalidation_0-mlogloss:0.91555\n",
      "[57]\tvalidation_0-mlogloss:0.91545\n",
      "[58]\tvalidation_0-mlogloss:0.91518\n",
      "[59]\tvalidation_0-mlogloss:0.91490\n",
      "[60]\tvalidation_0-mlogloss:0.91464\n",
      "[61]\tvalidation_0-mlogloss:0.91436\n",
      "[62]\tvalidation_0-mlogloss:0.91410\n",
      "[63]\tvalidation_0-mlogloss:0.91382\n",
      "[64]\tvalidation_0-mlogloss:0.91359\n",
      "[65]\tvalidation_0-mlogloss:0.91336\n",
      "[66]\tvalidation_0-mlogloss:0.91309\n",
      "[67]\tvalidation_0-mlogloss:0.91279\n",
      "[68]\tvalidation_0-mlogloss:0.91252\n",
      "[69]\tvalidation_0-mlogloss:0.91219\n",
      "[70]\tvalidation_0-mlogloss:0.91200\n",
      "[71]\tvalidation_0-mlogloss:0.91178\n",
      "[72]\tvalidation_0-mlogloss:0.91148\n",
      "[73]\tvalidation_0-mlogloss:0.91127\n",
      "[74]\tvalidation_0-mlogloss:0.91097\n",
      "[75]\tvalidation_0-mlogloss:0.91085\n",
      "[76]\tvalidation_0-mlogloss:0.91047\n",
      "[77]\tvalidation_0-mlogloss:0.91017\n",
      "[78]\tvalidation_0-mlogloss:0.90992\n",
      "[79]\tvalidation_0-mlogloss:0.90971\n",
      "[80]\tvalidation_0-mlogloss:0.90959\n",
      "[81]\tvalidation_0-mlogloss:0.90940\n",
      "[82]\tvalidation_0-mlogloss:0.90921\n",
      "[83]\tvalidation_0-mlogloss:0.90905\n",
      "[84]\tvalidation_0-mlogloss:0.90883\n",
      "[85]\tvalidation_0-mlogloss:0.90867\n",
      "[86]\tvalidation_0-mlogloss:0.90844\n",
      "[87]\tvalidation_0-mlogloss:0.90823\n",
      "[88]\tvalidation_0-mlogloss:0.90806\n",
      "[89]\tvalidation_0-mlogloss:0.90789\n",
      "[90]\tvalidation_0-mlogloss:0.90767\n",
      "[91]\tvalidation_0-mlogloss:0.90753\n",
      "[92]\tvalidation_0-mlogloss:0.90745\n",
      "[93]\tvalidation_0-mlogloss:0.90732\n",
      "[94]\tvalidation_0-mlogloss:0.90720\n",
      "[95]\tvalidation_0-mlogloss:0.90709\n",
      "[96]\tvalidation_0-mlogloss:0.90695\n",
      "[97]\tvalidation_0-mlogloss:0.90678\n",
      "[98]\tvalidation_0-mlogloss:0.90667\n",
      "[99]\tvalidation_0-mlogloss:0.90647\n"
     ]
    },
    {
     "data": {
      "text/plain": [
       "XGBClassifier(base_score=0.5, booster='gbtree', colsample_bylevel=1,\n",
       "              colsample_bynode=1, colsample_bytree=1, eval_metric='mlogloss',\n",
       "              gamma=0, gpu_id=-1, importance_type='gain',\n",
       "              interaction_constraints='', learning_rate=0.300000012,\n",
       "              max_delta_step=0, max_depth=6, min_child_weight=1, missing=nan,\n",
       "              monotone_constraints='()', n_estimators=100, n_jobs=6,\n",
       "              num_parallel_tree=1, objective='multi:softprob', random_state=0,\n",
       "              reg_alpha=0, reg_lambda=1, scale_pos_weight=None, subsample=1,\n",
       "              tree_method='exact', validate_parameters=1, verbosity=None)"
      ]
     },
     "execution_count": 84,
     "metadata": {},
     "output_type": "execute_result"
    }
   ],
   "source": [
    "model_xgb.fit(train_X_ml, train_y, eval_set=[(valid_X_ml, valid_y)])"
   ]
  },
  {
   "cell_type": "code",
   "execution_count": 31,
   "id": "4811955d",
   "metadata": {},
   "outputs": [
    {
     "ename": "NameError",
     "evalue": "name 'valid_X' is not defined",
     "output_type": "error",
     "traceback": [
      "\u001b[1;31m---------------------------------------------------------------------------\u001b[0m",
      "\u001b[1;31mNameError\u001b[0m                                 Traceback (most recent call last)",
      "\u001b[1;32mC:\\Users\\HYEONG~1\\AppData\\Local\\Temp/ipykernel_19904/453759148.py\u001b[0m in \u001b[0;36m<module>\u001b[1;34m\u001b[0m\n\u001b[1;32m----> 1\u001b[1;33m \u001b[0mmodel_lgbm\u001b[0m\u001b[1;33m.\u001b[0m\u001b[0mfit\u001b[0m\u001b[1;33m(\u001b[0m\u001b[0mtrain_X\u001b[0m\u001b[1;33m,\u001b[0m \u001b[0mtrain_y\u001b[0m\u001b[1;33m,\u001b[0m \u001b[0meval_set\u001b[0m\u001b[1;33m=\u001b[0m\u001b[1;33m[\u001b[0m\u001b[1;33m(\u001b[0m\u001b[0mvalid_X\u001b[0m\u001b[1;33m,\u001b[0m \u001b[0mvalid_y\u001b[0m\u001b[1;33m)\u001b[0m\u001b[1;33m]\u001b[0m\u001b[1;33m)\u001b[0m\u001b[1;33m\u001b[0m\u001b[1;33m\u001b[0m\u001b[0m\n\u001b[0m",
      "\u001b[1;31mNameError\u001b[0m: name 'valid_X' is not defined"
     ]
    }
   ],
   "source": [
    "model_lgbm.fit(train_X, train_y, eval_set=[(valid_X, valid_y)])"
   ]
  },
  {
   "cell_type": "code",
   "execution_count": 93,
   "id": "ddedfe6a",
   "metadata": {},
   "outputs": [],
   "source": [
    "pred_xgb_prob = model_xgb.predict_proba(test_X_ml)\n",
    "pred_xgb = np.argmax(pred_xgb_prob, axis=1)\n",
    "#pred_lgbm = model_lgbm.predict(test_X)"
   ]
  },
  {
   "cell_type": "markdown",
   "id": "0201440a",
   "metadata": {},
   "source": [
    "# 7. Evaluation"
   ]
  },
  {
   "cell_type": "code",
   "execution_count": 88,
   "id": "4e53e2b3",
   "metadata": {},
   "outputs": [],
   "source": [
    "def show_pred(test_y, pred) :\n",
    "    true_y = test_y.to_numpy()\n",
    "    true_y = np.ravel(true_y)\n",
    "    \n",
    "    df_result = pd.DataFrame(list(zip(true_y, pred)), columns=['true_y', 'prediction'])\n",
    "    return df_result\n",
    "    \n",
    "def show_prediction_error(test_y, pred) :\n",
    "    true_y = test_y.to_numpy()\n",
    "    true_y = np.ravel(true_y)\n",
    "    error = pred - true_y\n",
    "    plt.hist(error, bins=25)\n",
    "    plt.xlabel(\"Prediction Error\")\n",
    "    _ = plt.ylabel(\"Count\")\n",
    "    \n",
    "def feature_importance(model_xgb) : \n",
    "    %matplotlib inline\n",
    "    plt.rcParams['axes.unicode_minus'] = False\n",
    "    font_path = \"C:/Windows/Fonts/NGULIM.TTF\"\n",
    "    font = fm.FontProperties(fname=font_path).get_name()\n",
    "    rc('font', family=font)\n",
    "\n",
    "    fig, ax = plt.subplots(figsize=(10,12))\n",
    "    plot_importance(model_xgb, ax=ax)\n",
    "    \n",
    "def graph(pred, test_label) :\n",
    "    plt.figure(figsize=(16, 9))\n",
    "    plt.plot(test_label, label = 'actual')\n",
    "    plt.plot(pred, label = 'prediction')\n",
    "    plt.legend()\n",
    "    plt.show()\n",
    "\n",
    "def classification_report_csv(report) : \n",
    "    df = pd.DataFrame(report).transpose()\n",
    "    df.to_csv('classfication_report.csv', index=False)"
   ]
  },
  {
   "cell_type": "markdown",
   "id": "bb339325",
   "metadata": {},
   "source": [
    "- precision(정밀도) : True -> True \n",
    "- Recall(재현율) : True인 것을 맞춘 비율 \n",
    "- F1 score : precision 과 recall의 조화평균  "
   ]
  },
  {
   "cell_type": "code",
   "execution_count": 95,
   "id": "89def36c",
   "metadata": {},
   "outputs": [
    {
     "name": "stderr",
     "output_type": "stream",
     "text": [
      "C:\\Users\\Hyeongbin\\anaconda3\\lib\\site-packages\\sklearn\\metrics\\_classification.py:1308: UndefinedMetricWarning: Precision and F-score are ill-defined and being set to 0.0 in labels with no predicted samples. Use `zero_division` parameter to control this behavior.\n",
      "  _warn_prf(average, modifier, msg_start, len(result))\n",
      "C:\\Users\\Hyeongbin\\anaconda3\\lib\\site-packages\\sklearn\\metrics\\_classification.py:1308: UndefinedMetricWarning: Precision and F-score are ill-defined and being set to 0.0 in labels with no predicted samples. Use `zero_division` parameter to control this behavior.\n",
      "  _warn_prf(average, modifier, msg_start, len(result))\n"
     ]
    },
    {
     "name": "stdout",
     "output_type": "stream",
     "text": [
      "              precision    recall  f1-score   support\n",
      "\n",
      "           0       0.77      0.19      0.31     22760\n",
      "           1       0.00      0.00      0.00         2\n",
      "           2       0.61      0.36      0.46      4910\n",
      "           3       0.65      0.08      0.15     15917\n",
      "           4       0.60      0.17      0.27      9413\n",
      "           5       0.62      0.32      0.42     12738\n",
      "           6       0.57      0.80      0.67         5\n",
      "           7       0.55      0.24      0.33      6527\n",
      "           8       0.60      0.32      0.42     27195\n",
      "           9       0.56      0.16      0.25     10681\n",
      "          10       0.62      0.36      0.46       686\n",
      "          11       0.54      0.90      0.68     45519\n",
      "          12       0.58      0.42      0.48      1245\n",
      "          13       0.50      0.50      0.50         2\n",
      "          14       0.62      0.58      0.60     23573\n",
      "          15       0.52      0.90      0.66     31834\n",
      "          16       0.59      0.20      0.30      4174\n",
      "          17       0.55      0.28      0.37      6566\n",
      "          18       0.53      0.90      0.66     18826\n",
      "          19       0.55      0.84      0.67     25477\n",
      "          20       0.57      0.69      0.62      9820\n",
      "          21       0.54      0.86      0.66     21362\n",
      "          22       0.59      0.82      0.69     13054\n",
      "          23       0.55      0.82      0.66     55761\n",
      "          24       0.53      0.46      0.49     26755\n",
      "          25       0.58      0.25      0.35     22760\n",
      "          26       0.55      0.82      0.66     24374\n",
      "          27       0.56      0.23      0.32     12738\n",
      "          28       0.55      0.18      0.27      9413\n",
      "          29       0.58      0.32      0.41     10681\n",
      "          30       0.63      0.76      0.69     42431\n",
      "          31       0.52      0.51      0.52      5596\n",
      "          32       0.57      0.28      0.38     27195\n",
      "          33       0.56      0.36      0.44      4174\n",
      "          34       0.57      0.26      0.36     13432\n",
      "          35       0.72      0.28      0.40     17952\n",
      "\n",
      "    accuracy                           0.56    585548\n",
      "   macro avg       0.56      0.46      0.46    585548\n",
      "weighted avg       0.58      0.56      0.52    585548\n",
      "\n"
     ]
    },
    {
     "name": "stderr",
     "output_type": "stream",
     "text": [
      "C:\\Users\\Hyeongbin\\anaconda3\\lib\\site-packages\\sklearn\\metrics\\_classification.py:1308: UndefinedMetricWarning: Precision and F-score are ill-defined and being set to 0.0 in labels with no predicted samples. Use `zero_division` parameter to control this behavior.\n",
      "  _warn_prf(average, modifier, msg_start, len(result))\n"
     ]
    }
   ],
   "source": [
    "#report = classification_report(test_y, pred_xgb, output_dict=True)\n",
    "print(classification_report(test_y, pred_xgb))\n",
    "\n",
    "#classification_report_csv(report)"
   ]
  },
  {
   "cell_type": "code",
   "execution_count": 98,
   "id": "c32051c1",
   "metadata": {},
   "outputs": [
    {
     "data": {
      "text/plain": [
       "array([[6.4845306e-01, 1.5970252e-07, 2.8459192e-07, ..., 3.0855651e-07,\n",
       "        8.6724613e-05, 3.6426397e-07],\n",
       "       [2.7732474e-06, 2.7308366e-07, 1.2559789e-06, ..., 1.1485515e-06,\n",
       "        7.3131531e-02, 3.6211122e-07],\n",
       "       [1.5902181e-06, 1.8063173e-07, 5.0509630e-07, ..., 4.1256695e-07,\n",
       "        1.1625433e-06, 1.6047107e-06],\n",
       "       ...,\n",
       "       [2.1909073e-06, 1.6324718e-07, 1.0200682e-06, ..., 9.0426829e-07,\n",
       "        2.6930998e-06, 2.5716798e-07],\n",
       "       [1.1920210e-06, 3.5110821e-07, 3.1424187e-07, ..., 2.9442413e-07,\n",
       "        1.6330316e-04, 9.6446089e-02],\n",
       "       [2.6697651e-06, 1.2415673e-07, 1.1137031e-06, ..., 1.0279384e-06,\n",
       "        1.9582556e-06, 7.3322190e-07]], dtype=float32)"
      ]
     },
     "execution_count": 98,
     "metadata": {},
     "output_type": "execute_result"
    }
   ],
   "source": [
    "pred_xgb_prob"
   ]
  },
  {
   "cell_type": "code",
   "execution_count": 97,
   "id": "74cb7efb",
   "metadata": {},
   "outputs": [
    {
     "data": {
      "text/plain": [
       "array([[9.3165565e-01, 4.5667173e-18, 1.3025219e-04, ..., 5.8498276e-11,\n",
       "        1.6720527e-03, 2.3894285e-05],\n",
       "       [1.3869624e-04, 3.5409312e-27, 3.5424981e-12, ..., 6.0031361e-06,\n",
       "        8.8199133e-01, 1.9794980e-03],\n",
       "       [7.9104502e-04, 4.4201555e-35, 3.1214309e-09, ..., 6.3050932e-12,\n",
       "        3.5867814e-07, 7.4894409e-08],\n",
       "       ...,\n",
       "       [1.6149372e-02, 1.6770051e-36, 7.2937502e-07, ..., 2.8290967e-16,\n",
       "        4.5934890e-08, 1.6276568e-06],\n",
       "       [2.9802640e-04, 1.9862568e-38, 9.1487039e-13, ..., 4.3027439e-11,\n",
       "        3.8974304e-02, 7.3579037e-07],\n",
       "       [9.4984833e-04, 1.2924344e-33, 5.0328450e-05, ..., 4.7969857e-11,\n",
       "        3.4651563e-08, 5.6082034e-05]], dtype=float32)"
      ]
     },
     "execution_count": 97,
     "metadata": {},
     "output_type": "execute_result"
    }
   ],
   "source": [
    "pred_y_dl_prob"
   ]
  },
  {
   "cell_type": "code",
   "execution_count": 99,
   "id": "42a60b13",
   "metadata": {},
   "outputs": [
    {
     "data": {
      "text/plain": [
       "array([ 0, 34, 15, ...,  8, 14, 23], dtype=int64)"
      ]
     },
     "execution_count": 99,
     "metadata": {},
     "output_type": "execute_result"
    }
   ],
   "source": [
    "pred_y_ensemble_prob = pred_xgb_prob * 0.5 + pred_y_dl_prob * 0.5\n",
    "pred_y_ensemble = np.argmax(pred_y_ensemble_prob, axis=1)\n",
    "pred_y_ensemble"
   ]
  },
  {
   "cell_type": "code",
   "execution_count": 100,
   "id": "3893d49b",
   "metadata": {},
   "outputs": [
    {
     "name": "stderr",
     "output_type": "stream",
     "text": [
      "C:\\Users\\Hyeongbin\\anaconda3\\lib\\site-packages\\sklearn\\metrics\\_classification.py:1308: UndefinedMetricWarning: Precision and F-score are ill-defined and being set to 0.0 in labels with no predicted samples. Use `zero_division` parameter to control this behavior.\n",
      "  _warn_prf(average, modifier, msg_start, len(result))\n",
      "C:\\Users\\Hyeongbin\\anaconda3\\lib\\site-packages\\sklearn\\metrics\\_classification.py:1308: UndefinedMetricWarning: Precision and F-score are ill-defined and being set to 0.0 in labels with no predicted samples. Use `zero_division` parameter to control this behavior.\n",
      "  _warn_prf(average, modifier, msg_start, len(result))\n"
     ]
    },
    {
     "name": "stdout",
     "output_type": "stream",
     "text": [
      "              precision    recall  f1-score   support\n",
      "\n",
      "           0       0.83      0.54      0.65     22760\n",
      "           1       0.00      0.00      0.00         2\n",
      "           2       0.82      0.69      0.75      4910\n",
      "           3       0.86      0.64      0.74     15917\n",
      "           4       0.86      0.59      0.70      9413\n",
      "           5       0.82      0.63      0.71     12738\n",
      "           6       0.57      0.80      0.67         5\n",
      "           7       0.82      0.68      0.74      6527\n",
      "           8       0.82      0.64      0.72     27195\n",
      "           9       0.81      0.60      0.69     10681\n",
      "          10       0.78      0.74      0.76       686\n",
      "          11       0.72      0.84      0.78     45519\n",
      "          12       0.78      0.71      0.74      1245\n",
      "          13       0.50      0.50      0.50         2\n",
      "          14       0.83      0.83      0.83     23573\n",
      "          15       0.74      0.91      0.82     31834\n",
      "          16       0.85      0.60      0.70      4174\n",
      "          17       0.84      0.64      0.73      6566\n",
      "          18       0.70      0.92      0.79     18826\n",
      "          19       0.73      0.87      0.79     25477\n",
      "          20       0.80      0.88      0.84      9820\n",
      "          21       0.73      0.87      0.79     21362\n",
      "          22       0.78      0.87      0.82     13054\n",
      "          23       0.73      0.87      0.80     55761\n",
      "          24       0.80      0.78      0.79     26755\n",
      "          25       0.83      0.70      0.76     22760\n",
      "          26       0.73      0.86      0.79     24374\n",
      "          27       0.82      0.71      0.76     12738\n",
      "          28       0.86      0.61      0.72      9413\n",
      "          29       0.83      0.75      0.79     10681\n",
      "          30       0.85      0.87      0.86     42431\n",
      "          31       0.87      0.87      0.87      5596\n",
      "          32       0.83      0.71      0.76     27195\n",
      "          33       0.83      0.72      0.77      4174\n",
      "          34       0.80      0.70      0.75     13432\n",
      "          35       0.89      0.80      0.84     17952\n",
      "\n",
      "    accuracy                           0.78    585548\n",
      "   macro avg       0.77      0.72      0.74    585548\n",
      "weighted avg       0.79      0.78      0.78    585548\n",
      "\n"
     ]
    },
    {
     "name": "stderr",
     "output_type": "stream",
     "text": [
      "C:\\Users\\Hyeongbin\\anaconda3\\lib\\site-packages\\sklearn\\metrics\\_classification.py:1308: UndefinedMetricWarning: Precision and F-score are ill-defined and being set to 0.0 in labels with no predicted samples. Use `zero_division` parameter to control this behavior.\n",
      "  _warn_prf(average, modifier, msg_start, len(result))\n"
     ]
    }
   ],
   "source": [
    "print(classification_report(test_y, pred_y_ensemble))"
   ]
  },
  {
   "cell_type": "code",
   "execution_count": 113,
   "id": "41d7fb22",
   "metadata": {
    "scrolled": false
   },
   "outputs": [
    {
     "name": "stdout",
     "output_type": "stream",
     "text": [
      "              precision    recall  f1-score   support\n",
      "\n",
      "           0       0.33      0.25      0.28    146388\n",
      "     4200000       0.00      0.00      0.00         5\n",
      "     6400000       0.46      0.65      0.54     45519\n",
      "     7500000       0.16      0.03      0.05     31834\n",
      "     8700000       0.24      0.52      0.33     18826\n",
      "     9000000       0.36      0.48      0.42     25476\n",
      "     9800000       0.46      0.44      0.45      9820\n",
      "    12000000       0.41      0.39      0.40     21362\n",
      "    13000000       0.48      0.44      0.46     13057\n",
      "    14000000       0.45      0.45      0.45     55761\n",
      "    16000000       0.29      0.34      0.31     10838\n",
      "    18000000       0.45      0.47      0.46     24374\n",
      "    27000000       0.22      0.11      0.15     35903\n",
      "    35000000       0.25      0.12      0.16     15917\n",
      "    40000000       0.38      0.27      0.32     22760\n",
      "    43000000       0.34      0.21      0.26     12738\n",
      "    44000000       0.28      0.19      0.23      9413\n",
      "    51000000       0.31      0.25      0.28     10681\n",
      "    61000000       0.11      0.17      0.13      6527\n",
      "    63000000       0.01      0.30      0.02       686\n",
      "    65000000       0.24      0.39      0.30      4174\n",
      "    67000000       0.35      0.28      0.31     27195\n",
      "    68000000       0.22      0.45      0.30      4910\n",
      "    78000000       0.29      0.28      0.28      6566\n",
      "    79000000       0.33      0.35      0.34      5621\n",
      "    81000000       0.15      0.25      0.18      1245\n",
      "   108000000       0.25      0.63      0.36     17952\n",
      "\n",
      "    accuracy                           0.33    585548\n",
      "   macro avg       0.29      0.32      0.29    585548\n",
      "weighted avg       0.34      0.33      0.32    585548\n",
      "\n"
     ]
    }
   ],
   "source": [
    "report = classification_report(test_y, pred_lgbm, output_dict=True)\n",
    "print(classification_report(test_y, pred_lgbm))\n",
    "\n",
    "classification_report_csv(report)"
   ]
  },
  {
   "cell_type": "code",
   "execution_count": 39,
   "id": "bd11588d",
   "metadata": {},
   "outputs": [
    {
     "data": {
      "text/html": [
       "<div>\n",
       "<style scoped>\n",
       "    .dataframe tbody tr th:only-of-type {\n",
       "        vertical-align: middle;\n",
       "    }\n",
       "\n",
       "    .dataframe tbody tr th {\n",
       "        vertical-align: top;\n",
       "    }\n",
       "\n",
       "    .dataframe thead th {\n",
       "        text-align: right;\n",
       "    }\n",
       "</style>\n",
       "<table border=\"1\" class=\"dataframe\">\n",
       "  <thead>\n",
       "    <tr style=\"text-align: right;\">\n",
       "      <th></th>\n",
       "      <th>true_y</th>\n",
       "      <th>prediction</th>\n",
       "    </tr>\n",
       "  </thead>\n",
       "  <tbody>\n",
       "    <tr>\n",
       "      <th>0</th>\n",
       "      <td>0</td>\n",
       "      <td>9033762</td>\n",
       "    </tr>\n",
       "    <tr>\n",
       "      <th>1</th>\n",
       "      <td>6398832</td>\n",
       "      <td>6398832</td>\n",
       "    </tr>\n",
       "    <tr>\n",
       "      <th>2</th>\n",
       "      <td>17865797</td>\n",
       "      <td>17865797</td>\n",
       "    </tr>\n",
       "    <tr>\n",
       "      <th>3</th>\n",
       "      <td>0</td>\n",
       "      <td>0</td>\n",
       "    </tr>\n",
       "    <tr>\n",
       "      <th>4</th>\n",
       "      <td>27178602</td>\n",
       "      <td>27178602</td>\n",
       "    </tr>\n",
       "    <tr>\n",
       "      <th>...</th>\n",
       "      <td>...</td>\n",
       "      <td>...</td>\n",
       "    </tr>\n",
       "    <tr>\n",
       "      <th>585543</th>\n",
       "      <td>14123414</td>\n",
       "      <td>14123414</td>\n",
       "    </tr>\n",
       "    <tr>\n",
       "      <th>585544</th>\n",
       "      <td>68311513</td>\n",
       "      <td>68311513</td>\n",
       "    </tr>\n",
       "    <tr>\n",
       "      <th>585545</th>\n",
       "      <td>14123414</td>\n",
       "      <td>14123414</td>\n",
       "    </tr>\n",
       "    <tr>\n",
       "      <th>585546</th>\n",
       "      <td>0</td>\n",
       "      <td>17865797</td>\n",
       "    </tr>\n",
       "    <tr>\n",
       "      <th>585547</th>\n",
       "      <td>18101518</td>\n",
       "      <td>18101518</td>\n",
       "    </tr>\n",
       "  </tbody>\n",
       "</table>\n",
       "<p>585548 rows × 2 columns</p>\n",
       "</div>"
      ],
      "text/plain": [
       "          true_y  prediction\n",
       "0              0     9033762\n",
       "1        6398832     6398832\n",
       "2       17865797    17865797\n",
       "3              0           0\n",
       "4       27178602    27178602\n",
       "...          ...         ...\n",
       "585543  14123414    14123414\n",
       "585544  68311513    68311513\n",
       "585545  14123414    14123414\n",
       "585546         0    17865797\n",
       "585547  18101518    18101518\n",
       "\n",
       "[585548 rows x 2 columns]"
      ]
     },
     "execution_count": 39,
     "metadata": {},
     "output_type": "execute_result"
    }
   ],
   "source": [
    "show_pred(test_y, pred_xgb)"
   ]
  },
  {
   "cell_type": "code",
   "execution_count": 40,
   "id": "d14d900d",
   "metadata": {},
   "outputs": [
    {
     "data": {
      "text/html": [
       "<div>\n",
       "<style scoped>\n",
       "    .dataframe tbody tr th:only-of-type {\n",
       "        vertical-align: middle;\n",
       "    }\n",
       "\n",
       "    .dataframe tbody tr th {\n",
       "        vertical-align: top;\n",
       "    }\n",
       "\n",
       "    .dataframe thead th {\n",
       "        text-align: right;\n",
       "    }\n",
       "</style>\n",
       "<table border=\"1\" class=\"dataframe\">\n",
       "  <thead>\n",
       "    <tr style=\"text-align: right;\">\n",
       "      <th></th>\n",
       "      <th>true_y</th>\n",
       "      <th>prediction</th>\n",
       "    </tr>\n",
       "  </thead>\n",
       "  <tbody>\n",
       "    <tr>\n",
       "      <th>0</th>\n",
       "      <td>0</td>\n",
       "      <td>39939730</td>\n",
       "    </tr>\n",
       "    <tr>\n",
       "      <th>1</th>\n",
       "      <td>6398832</td>\n",
       "      <td>39939730</td>\n",
       "    </tr>\n",
       "    <tr>\n",
       "      <th>2</th>\n",
       "      <td>17865797</td>\n",
       "      <td>17865797</td>\n",
       "    </tr>\n",
       "    <tr>\n",
       "      <th>3</th>\n",
       "      <td>0</td>\n",
       "      <td>39939730</td>\n",
       "    </tr>\n",
       "    <tr>\n",
       "      <th>4</th>\n",
       "      <td>27178602</td>\n",
       "      <td>39939730</td>\n",
       "    </tr>\n",
       "    <tr>\n",
       "      <th>...</th>\n",
       "      <td>...</td>\n",
       "      <td>...</td>\n",
       "    </tr>\n",
       "    <tr>\n",
       "      <th>585543</th>\n",
       "      <td>14123414</td>\n",
       "      <td>14123414</td>\n",
       "    </tr>\n",
       "    <tr>\n",
       "      <th>585544</th>\n",
       "      <td>68311513</td>\n",
       "      <td>39939730</td>\n",
       "    </tr>\n",
       "    <tr>\n",
       "      <th>585545</th>\n",
       "      <td>14123414</td>\n",
       "      <td>39939730</td>\n",
       "    </tr>\n",
       "    <tr>\n",
       "      <th>585546</th>\n",
       "      <td>0</td>\n",
       "      <td>17865797</td>\n",
       "    </tr>\n",
       "    <tr>\n",
       "      <th>585547</th>\n",
       "      <td>18101518</td>\n",
       "      <td>18101518</td>\n",
       "    </tr>\n",
       "  </tbody>\n",
       "</table>\n",
       "<p>585548 rows × 2 columns</p>\n",
       "</div>"
      ],
      "text/plain": [
       "          true_y  prediction\n",
       "0              0    39939730\n",
       "1        6398832    39939730\n",
       "2       17865797    17865797\n",
       "3              0    39939730\n",
       "4       27178602    39939730\n",
       "...          ...         ...\n",
       "585543  14123414    14123414\n",
       "585544  68311513    39939730\n",
       "585545  14123414    39939730\n",
       "585546         0    17865797\n",
       "585547  18101518    18101518\n",
       "\n",
       "[585548 rows x 2 columns]"
      ]
     },
     "execution_count": 40,
     "metadata": {},
     "output_type": "execute_result"
    }
   ],
   "source": [
    "show_pred(test_y, pred_lgbm)"
   ]
  },
  {
   "cell_type": "code",
   "execution_count": 437,
   "id": "928c243c",
   "metadata": {},
   "outputs": [
    {
     "name": "stderr",
     "output_type": "stream",
     "text": [
      "C:\\Users\\Hyeongbin\\anaconda3\\lib\\site-packages\\matplotlib\\backends\\backend_agg.py:240: RuntimeWarning: Glyph 8722 missing from current font.\n",
      "  font.set_text(s, 0.0, flags=flags)\n",
      "C:\\Users\\Hyeongbin\\anaconda3\\lib\\site-packages\\matplotlib\\backends\\backend_agg.py:203: RuntimeWarning: Glyph 8722 missing from current font.\n",
      "  font.set_text(s, 0, flags=flags)\n"
     ]
    },
    {
     "data": {
      "image/png": "[encoded data removed]",
      "text/plain": [
       "<Figure size 1080x576 with 1 Axes>"
      ]
     },
     "metadata": {
      "needs_background": "light"
     },
     "output_type": "display_data"
    }
   ],
   "source": [
    "show_prediction_error(test_y, pred_xgb)"
   ]
  },
  {
   "cell_type": "code",
   "execution_count": 438,
   "id": "2df0c243",
   "metadata": {},
   "outputs": [
    {
     "data": {
      "image/png": "[encoded data removed]",
      "text/plain": [
       "<Figure size 1080x576 with 1 Axes>"
      ]
     },
     "metadata": {
      "needs_background": "light"
     },
     "output_type": "display_data"
    }
   ],
   "source": [
    "show_prediction_error(test_y, pred_lgbm)"
   ]
  },
  {
   "cell_type": "code",
   "execution_count": null,
   "id": "756228fa",
   "metadata": {},
   "outputs": [],
   "source": [
    "feature_series = pd.Series(data=model_xgb.feature_importances_, index=train_X.columns)\n",
    "feature_series = feature_series.sort_values(ascending=False) \n",
    "sns.barplot(x = feature_series, y=feature_series.index)"
   ]
  },
  {
   "cell_type": "code",
   "execution_count": null,
   "id": "2b062d60",
   "metadata": {},
   "outputs": [],
   "source": [
    "feature_series = pd.Series(data=model_lgbm.feature_importances_, index=train_X.columns)\n",
    "feature_series = feature_series.sort_values(ascending=False) \n",
    "sns.barplot(x = feature_series, y=feature_series.index)"
   ]
  },
  {
   "cell_type": "code",
   "execution_count": null,
   "id": "bd3cac1a",
   "metadata": {},
   "outputs": [],
   "source": []
  }
 ],
 "metadata": {
  "kernelspec": {
   "display_name": "base",
   "language": "python",
   "name": "base"
  },
  "language_info": {
   "codemirror_mode": {
    "name": "ipython",
    "version": 3
   },
   "file_extension": ".py",
   "mimetype": "text/x-python",
   "name": "python",
   "nbconvert_exporter": "python",
   "pygments_lexer": "ipython3",
   "version": "3.8.12"
  }
 },
 "nbformat": 4,
 "nbformat_minor": 5
}
