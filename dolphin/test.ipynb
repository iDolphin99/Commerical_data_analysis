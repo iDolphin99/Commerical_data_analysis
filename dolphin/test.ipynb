{
 "cells": [
  {
   "cell_type": "markdown",
   "id": "e40dea94",
   "metadata": {},
   "source": [
    "# 1. Data Load\n"
   ]
  },
  {
   "cell_type": "code",
   "execution_count": 1,
   "id": "cabb55fa",
   "metadata": {
    "collapsed": true
   },
   "outputs": [],
   "source": [
    "import numpy as np\n",
    "import pandas as pd\n",
    "import math\n",
    "\n",
    "from scipy import stats #Analysis \n",
    "from scipy.stats import norm \n",
    "\n",
    "import seaborn as sns\n",
    "import matplotlib.pyplot as plt\n",
    "from matplotlib import rcParams\n",
    "%matplotlib inline"
   ]
  },
  {
   "cell_type": "code",
   "execution_count": 2,
   "id": "9ef4a9e7",
   "metadata": {
    "collapsed": true
   },
   "outputs": [],
   "source": [
    "# 한글 폰트가 깨지면 실행하세요! \n",
    "import matplotlib.font_manager as fm\n",
    "fontlist = fm.findSystemFonts(fontpaths = None, fontext='ttf')\n",
    "# 아래 주석을 지워서 폰트 리스트를 확인하고 한글 폰트를 font_path에 추가합니다\n",
    "fontlist[:]\n",
    "\n",
    "from matplotlib import font_manager, rc\n",
    "#font_path = 'C:\\\\Users\\\\mtang\\\\AppData\\\\Local\\\\Microsoft\\\\Windows\\\\Fonts\\\\NanumSquare.ttf'\n",
    "font_path = 'C:\\\\WINDOWS\\\\Fonts\\\\NanumGothicLight.ttf'\n",
    "font = font_manager.FontProperties(fname=font_path).get_name()\n",
    "rc('font', family=font)"
   ]
  },
  {
   "cell_type": "code",
   "execution_count": 3,
   "id": "175a42b3",
   "metadata": {
    "collapsed": true
   },
   "outputs": [
    {
     "data": {
      "text/html": [
       "<div>\n",
       "<style scoped>\n",
       "    .dataframe tbody tr th:only-of-type {\n",
       "        vertical-align: middle;\n",
       "    }\n",
       "\n",
       "    .dataframe tbody tr th {\n",
       "        vertical-align: top;\n",
       "    }\n",
       "\n",
       "    .dataframe thead th {\n",
       "        text-align: right;\n",
       "    }\n",
       "</style>\n",
       "<table border=\"1\" class=\"dataframe\">\n",
       "  <thead>\n",
       "    <tr style=\"text-align: right;\">\n",
       "      <th></th>\n",
       "      <th>DATE_</th>\n",
       "      <th>SHOP_CODE</th>\n",
       "      <th>SHOP_NAME</th>\n",
       "      <th>SHOP_TYPE_BIG</th>\n",
       "      <th>SHOP_TYPE_SMALL</th>\n",
       "      <th>LONGITUDE</th>\n",
       "      <th>LATITUDE</th>\n",
       "      <th>MONTHLY_GAIN</th>\n",
       "      <th>AVERAGE_SALE_PRICE</th>\n",
       "      <th>GU</th>\n",
       "      <th>DONG</th>\n",
       "    </tr>\n",
       "  </thead>\n",
       "  <tbody>\n",
       "    <tr>\n",
       "      <th>0</th>\n",
       "      <td>201709</td>\n",
       "      <td>9381000145</td>\n",
       "      <td>고기.원칙</td>\n",
       "      <td>한식</td>\n",
       "      <td>고기구이/육회 전문점</td>\n",
       "      <td>127.120010</td>\n",
       "      <td>37.494826</td>\n",
       "      <td>1.943963e+07</td>\n",
       "      <td>31288</td>\n",
       "      <td>송파구</td>\n",
       "      <td>가락본동</td>\n",
       "    </tr>\n",
       "    <tr>\n",
       "      <th>1</th>\n",
       "      <td>201709</td>\n",
       "      <td>18211290214</td>\n",
       "      <td>동달식당 강남본점</td>\n",
       "      <td>한식</td>\n",
       "      <td>고기구이/육회 전문점</td>\n",
       "      <td>127.024718</td>\n",
       "      <td>37.495376</td>\n",
       "      <td>1.849920e+08</td>\n",
       "      <td>62762</td>\n",
       "      <td>서초구</td>\n",
       "      <td>서초2동</td>\n",
       "    </tr>\n",
       "    <tr>\n",
       "      <th>2</th>\n",
       "      <td>201708</td>\n",
       "      <td>14946450207</td>\n",
       "      <td>서귀포혹돈</td>\n",
       "      <td>한식</td>\n",
       "      <td>고기구이/육회 전문점</td>\n",
       "      <td>126.897384</td>\n",
       "      <td>37.471307</td>\n",
       "      <td>2.178265e+08</td>\n",
       "      <td>89076</td>\n",
       "      <td>금천구</td>\n",
       "      <td>독산1동</td>\n",
       "    </tr>\n",
       "    <tr>\n",
       "      <th>3</th>\n",
       "      <td>201709</td>\n",
       "      <td>6188500699</td>\n",
       "      <td>(주)아이언미트 숙달돼지 사당점</td>\n",
       "      <td>한식</td>\n",
       "      <td>고기구이/육회 전문점</td>\n",
       "      <td>126.983424</td>\n",
       "      <td>37.479070</td>\n",
       "      <td>5.267732e+07</td>\n",
       "      <td>87160</td>\n",
       "      <td>서초구</td>\n",
       "      <td>방배2동</td>\n",
       "    </tr>\n",
       "    <tr>\n",
       "      <th>4</th>\n",
       "      <td>201708</td>\n",
       "      <td>5598500495</td>\n",
       "      <td>민소한우(서린점)</td>\n",
       "      <td>한식</td>\n",
       "      <td>고기구이/육회 전문점</td>\n",
       "      <td>126.979678</td>\n",
       "      <td>37.569882</td>\n",
       "      <td>7.588914e+07</td>\n",
       "      <td>93559</td>\n",
       "      <td>종로구</td>\n",
       "      <td>종로1.2.3.4가동</td>\n",
       "    </tr>\n",
       "    <tr>\n",
       "      <th>...</th>\n",
       "      <td>...</td>\n",
       "      <td>...</td>\n",
       "      <td>...</td>\n",
       "      <td>...</td>\n",
       "      <td>...</td>\n",
       "      <td>...</td>\n",
       "      <td>...</td>\n",
       "      <td>...</td>\n",
       "      <td>...</td>\n",
       "      <td>...</td>\n",
       "      <td>...</td>\n",
       "    </tr>\n",
       "    <tr>\n",
       "      <th>2927734</th>\n",
       "      <td>201701</td>\n",
       "      <td>4609200378</td>\n",
       "      <td>일신수산</td>\n",
       "      <td>수산물</td>\n",
       "      <td>회/수산물 일반</td>\n",
       "      <td>126.936846</td>\n",
       "      <td>37.514666</td>\n",
       "      <td>3.378875e+07</td>\n",
       "      <td>93138</td>\n",
       "      <td>동작구</td>\n",
       "      <td>노량진2동</td>\n",
       "    </tr>\n",
       "    <tr>\n",
       "      <th>2927735</th>\n",
       "      <td>201611</td>\n",
       "      <td>57372070107</td>\n",
       "      <td>흑산홍어</td>\n",
       "      <td>수산물</td>\n",
       "      <td>회/수산물 일반</td>\n",
       "      <td>126.897395</td>\n",
       "      <td>37.535894</td>\n",
       "      <td>3.615714e+06</td>\n",
       "      <td>20000</td>\n",
       "      <td>영등포구</td>\n",
       "      <td>양평2동</td>\n",
       "    </tr>\n",
       "    <tr>\n",
       "      <th>2927736</th>\n",
       "      <td>201701</td>\n",
       "      <td>1631700892</td>\n",
       "      <td>해초섬 수릿골</td>\n",
       "      <td>수산물</td>\n",
       "      <td>회/수산물 일반</td>\n",
       "      <td>127.055007</td>\n",
       "      <td>37.506741</td>\n",
       "      <td>5.586279e+07</td>\n",
       "      <td>69776</td>\n",
       "      <td>강남구</td>\n",
       "      <td>삼성2동</td>\n",
       "    </tr>\n",
       "    <tr>\n",
       "      <th>2927737</th>\n",
       "      <td>201611</td>\n",
       "      <td>11760800468</td>\n",
       "      <td>명불허전 원조골뱅이  목동사거리점</td>\n",
       "      <td>수산물</td>\n",
       "      <td>회/수산물 일반</td>\n",
       "      <td>126.863259</td>\n",
       "      <td>37.531380</td>\n",
       "      <td>1.924762e+07</td>\n",
       "      <td>44923</td>\n",
       "      <td>강서구</td>\n",
       "      <td>화곡4동</td>\n",
       "    </tr>\n",
       "    <tr>\n",
       "      <th>2927738</th>\n",
       "      <td>201612</td>\n",
       "      <td>77692070212</td>\n",
       "      <td>옛촌추어탕</td>\n",
       "      <td>수산물</td>\n",
       "      <td>회/수산물 일반</td>\n",
       "      <td>127.128217</td>\n",
       "      <td>37.539157</td>\n",
       "      <td>1.523940e+06</td>\n",
       "      <td>29800</td>\n",
       "      <td>강동구</td>\n",
       "      <td>천호3동</td>\n",
       "    </tr>\n",
       "  </tbody>\n",
       "</table>\n",
       "<p>2927739 rows × 11 columns</p>\n",
       "</div>"
      ],
      "text/plain": [
       "          DATE_    SHOP_CODE           SHOP_NAME SHOP_TYPE_BIG  \\\n",
       "0        201709   9381000145               고기.원칙            한식   \n",
       "1        201709  18211290214           동달식당 강남본점            한식   \n",
       "2        201708  14946450207               서귀포혹돈            한식   \n",
       "3        201709   6188500699   (주)아이언미트 숙달돼지 사당점            한식   \n",
       "4        201708   5598500495           민소한우(서린점)            한식   \n",
       "...         ...          ...                 ...           ...   \n",
       "2927734  201701   4609200378                일신수산           수산물   \n",
       "2927735  201611  57372070107                흑산홍어           수산물   \n",
       "2927736  201701   1631700892             해초섬 수릿골           수산물   \n",
       "2927737  201611  11760800468  명불허전 원조골뱅이  목동사거리점           수산물   \n",
       "2927738  201612  77692070212               옛촌추어탕           수산물   \n",
       "\n",
       "        SHOP_TYPE_SMALL   LONGITUDE   LATITUDE  MONTHLY_GAIN  \\\n",
       "0           고기구이/육회 전문점  127.120010  37.494826  1.943963e+07   \n",
       "1           고기구이/육회 전문점  127.024718  37.495376  1.849920e+08   \n",
       "2           고기구이/육회 전문점  126.897384  37.471307  2.178265e+08   \n",
       "3           고기구이/육회 전문점  126.983424  37.479070  5.267732e+07   \n",
       "4           고기구이/육회 전문점  126.979678  37.569882  7.588914e+07   \n",
       "...                 ...         ...        ...           ...   \n",
       "2927734        회/수산물 일반  126.936846  37.514666  3.378875e+07   \n",
       "2927735        회/수산물 일반  126.897395  37.535894  3.615714e+06   \n",
       "2927736        회/수산물 일반  127.055007  37.506741  5.586279e+07   \n",
       "2927737        회/수산물 일반  126.863259  37.531380  1.924762e+07   \n",
       "2927738        회/수산물 일반  127.128217  37.539157  1.523940e+06   \n",
       "\n",
       "         AVERAGE_SALE_PRICE    GU         DONG  \n",
       "0                     31288   송파구         가락본동  \n",
       "1                     62762   서초구         서초2동  \n",
       "2                     89076   금천구         독산1동  \n",
       "3                     87160   서초구         방배2동  \n",
       "4                     93559   종로구  종로1.2.3.4가동  \n",
       "...                     ...   ...          ...  \n",
       "2927734               93138   동작구        노량진2동  \n",
       "2927735               20000  영등포구         양평2동  \n",
       "2927736               69776   강남구         삼성2동  \n",
       "2927737               44923   강서구         화곡4동  \n",
       "2927738               29800   강동구         천호3동  \n",
       "\n",
       "[2927739 rows x 11 columns]"
      ]
     },
     "execution_count": 3,
     "metadata": {},
     "output_type": "execute_result"
    }
   ],
   "source": [
    "path = \"./Dataset/\"\n",
    "\n",
    "data = pd.read_csv(path+\"kwproja_data_location.csv\")\n",
    "#data = pd.read_csv('../input/dolphin-kwproja-bigdata/kwproja_data_big.csv')\n",
    "\n",
    "# original data -> data\n",
    "data"
   ]
  },
  {
   "cell_type": "markdown",
   "id": "1eecf56c",
   "metadata": {},
   "source": [
    "# 2. EDA \n",
    "\n",
    "2,927,739 rows X 11 columns\n",
    "\n",
    "- 매장 속성 정보\n",
    "  - shop_code -> 식별자 feature, input feature로는 사용하지 않지만 분류를 위해서는 사용할 수 있을 것 같음  \n",
    "  - shop_name -> input feature로는 사용하지 않음 (NLP deep learning 가능성 있음)\n",
    "  - longtitude : 경도, latitude : 위도 -> 매장 위치 (회사 근처, 학교 근처 등 매출 영향성 있음) -> 군집화, labeling 필요\n",
    "  - address1, address2 : GeoEncoder를 통해 따로 얻은 행정동, 1(30), 2(436)\n",
    "  - shop_type_big -> 15 category  -> 업종 (매출 영향성 있음)\n",
    "  - shop_type_small -> 61 category\n",
    "\n",
    "- 매출 정보\n",
    "  - date -> 24 category, 201606~ 201805 까지의 data\n",
    "  - monthly_gain / avearge_sale_price = 한달 총 판매수\n",
    "\n",
    "- 매출 통계 정보-> X\n",
    "\n",
    "\n",
    "##### monthly_gain과 average_sale_price 중 어느 것을 y값으로 둘 것인가? \n",
    "- 월매출 예측 문제로 가정하고 montly_gain 을 y값으로 예측하는 모델 만들기\n",
    "\n",
    "##### shop_code는 input feature에 넣어야 하는가?\n",
    "- 특별한 브랜드가 y값을 결정하는 과적합 요소가 될 수 있으므로\n",
    "- X 에서 shop code, shop name 제외하는 것도 방법\n",
    "- 어느 위치에 어떤 업종으로 어떤 객단가인 매장을 오픈하면 월매출이 어떻게 될까? 문제\n",
    " - X: shop type big, shop type small, longitude, latitude, avg_sale_price, \n",
    " - y: montly_gain\n",
    " \n",
    "['date', 'shop_code', 'shop_name', 'shop_type_big', 'shop_type_small',\n",
    "       'longitude', 'latitude', 'monthly_gain', 'average_sale_price']"
   ]
  },
  {
   "cell_type": "code",
   "execution_count": 4,
   "id": "4790f693",
   "metadata": {
    "collapsed": true
   },
   "outputs": [],
   "source": [
    "data.columns = ['date', 'shop_code', 'shop_name', 'shop_type_big', 'shop_type_small', \n",
    "                'longitude', 'latitude', 'monthly_gain', 'average_sale_price', 'address1', 'address2']"
   ]
  },
  {
   "cell_type": "code",
   "execution_count": 5,
   "id": "8160023d",
   "metadata": {
    "collapsed": true
   },
   "outputs": [
    {
     "data": {
      "text/plain": [
       "Index(['date', 'shop_code', 'shop_name', 'shop_type_big', 'shop_type_small',\n",
       "       'longitude', 'latitude', 'monthly_gain', 'average_sale_price',\n",
       "       'address1', 'address2'],\n",
       "      dtype='object')"
      ]
     },
     "execution_count": 5,
     "metadata": {},
     "output_type": "execute_result"
    }
   ],
   "source": [
    "data.columns"
   ]
  },
  {
   "cell_type": "code",
   "execution_count": 6,
   "id": "0e2e2b0d",
   "metadata": {
    "collapsed": true
   },
   "outputs": [
    {
     "name": "stdout",
     "output_type": "stream",
     "text": [
      "<class 'pandas.core.frame.DataFrame'>\n",
      "RangeIndex: 2927739 entries, 0 to 2927738\n",
      "Data columns (total 11 columns):\n",
      " #   Column              Dtype  \n",
      "---  ------              -----  \n",
      " 0   date                int64  \n",
      " 1   shop_code           int64  \n",
      " 2   shop_name           object \n",
      " 3   shop_type_big       object \n",
      " 4   shop_type_small     object \n",
      " 5   longitude           float64\n",
      " 6   latitude            float64\n",
      " 7   monthly_gain        float64\n",
      " 8   average_sale_price  int64  \n",
      " 9   address1            object \n",
      " 10  address2            object \n",
      "dtypes: float64(3), int64(3), object(5)\n",
      "memory usage: 245.7+ MB\n"
     ]
    }
   ],
   "source": [
    "data.info()"
   ]
  },
  {
   "cell_type": "markdown",
   "id": "3f6c9722",
   "metadata": {},
   "source": [
    "# 3. Preprocessing\n",
    "data -> processed_data\n",
    "- 9 columns : **shop_code | date | shop_name | shop_type_big | shop_type_small | longitude | latitude | average_sale_price | monthly_gain**\n",
    "- shop_code : 식별자 feature 이므로 drop \n",
    "- date : 아직은 쓸 수 없으므로 drop\n",
    "- missing value 제거 : A/N\n",
    "- shop_type_big(15), shop_type_small(61) \n",
    "    - ML : label encodding\n",
    "    - DL : NLP\n",
    "- longitude, latitude : \n",
    "    - ML : k-mean clustering -> geo column \n",
    "    - DL : NLP, reverse geo encoder(행정동, 법정동, 지번주소, 도로명주소) -> 지번주소 가져오세요(for web) \n",
    "    - 행정동admcode, 법정동legalcode -> area1, area2, area3, area4\n",
    "    - 지번 주소addr -> area1, area2, area3, area4 (x), land -> namber1, number2\n",
    "    - 도로명 주소roadaddr -> area1, area2, area3, area4(x), land -> number1, number2, name  \n",
    "- average_sale_price \n",
    "    - log transformation \n",
    "- MinMaxSaclar 정규화 -> 정규화 column의 범위는?? 실험필요 요인 "
   ]
  },
  {
   "cell_type": "code",
   "execution_count": 7,
   "id": "746b4c66",
   "metadata": {
    "collapsed": true
   },
   "outputs": [],
   "source": [
    "# 원본 data와 따로 관리 -> original data = data, preprocessed data = processed_data \n",
    "# feature drop : date, shop_code\n",
    "processed_data = data.drop(['date', 'shop_code'], axis=1).copy()"
   ]
  },
  {
   "cell_type": "code",
   "execution_count": 8,
   "id": "a9ad35fa",
   "metadata": {
    "collapsed": true
   },
   "outputs": [
    {
     "name": "stdout",
     "output_type": "stream",
     "text": [
      "monthly gain null :  0\n",
      "average sale price null :  0\n",
      "shop type big null :  0\n",
      "shop type big unique :  15\n",
      "shop type small null :  0\n",
      "shop type small unique :  27\n"
     ]
    }
   ],
   "source": [
    "# There are no missing values \n",
    "# missing value drop - monthly_gain\n",
    "null_index = processed_data[processed_data['monthly_gain']==0].index \n",
    "print(\"monthly gain null : \", len(null_index))\n",
    "processed_data = processed_data.drop(null_index)\n",
    "\n",
    "# missing value drop - average_sale_price\n",
    "null_index = processed_data[processed_data['average_sale_price']==0].index \n",
    "print(\"average sale price null : \", len(null_index))\n",
    "processed_data = processed_data.drop(null_index)\n",
    "\n",
    "# missing value drop - shop_type_big\n",
    "null_index = processed_data[processed_data['shop_type_big'].isnull()==True].index\n",
    "print(\"shop type big null : \", len(null_index))\n",
    "print(\"shop type big unique : \", processed_data['shop_type_big'].nunique())\n",
    "processed_data = processed_data.drop(null_index)\n",
    "\n",
    "# missing value drop - shop_type_small \n",
    "null_index = processed_data[processed_data['address1'].isnull()==True].index\n",
    "print(\"shop type small null : \", len(null_index))\n",
    "print(\"shop type small unique : \", processed_data['address1'].nunique() )"
   ]
  },
  {
   "cell_type": "code",
   "execution_count": 9,
   "id": "8bdb9104",
   "metadata": {
    "collapsed": true
   },
   "outputs": [
    {
     "name": "stdout",
     "output_type": "stream",
     "text": [
      "['다방/커피숍/카페' '별식/퓨전요리' '분식' '뷔페' '생활서비스' '소매' '수산물' '양식' '유흥주점' '음식-미분류'\n",
      " '일식' '제과제빵떡케익' '중식' '패스트푸드' '한식']\n",
      "['고기 뷔페' '고기구이/육회 전문점' '곱창/양구이 전문점' '구내식당' '국수/수제비 전문점' '기타세계요리 전문점'\n",
      " '낙지/문어/오징어/쭈꾸미 전문점' '냉면 전문점' '덮밥/가정식' '도너츠/꽈배기/고로케/호떡 전문점'\n",
      " '도시락/컵밥/주먹밥/배달음식 전문점' '돈가스 전문점' '떡/한과 전문점' '마라/양꼬치/훠궈 전문점' '면 전문점'\n",
      " '미분류 유흥업소' '민속주점' '바닷가재/게요리 전문점' '반찬 판매' '백화점' '버거 전문점' '베트남음식 전문점'\n",
      " '보쌈/족발 전문점' '분식 전문점' '샌드위치/토스트/핫도그 전문점' '샤브샤브 전문점' '세탁소' '소주방/포장마차'\n",
      " '순대 전문점' '슈퍼/잡화/할인매장' '스테이크 전문점' '식료품' '아이스크림/빙수 판매' '오리/닭요리 전문점'\n",
      " '오리/닭요리/탕/백숙 전문점' '와인/칵테일/위스키 바' '음식-미분류' '이자까야/꼬치구이' '이태리 전문점'\n",
      " '인도음식 전문점' '일반 중식당' '장어 전문점' '전통찻집' '제과/제빵 전문점' '조개 전문점' '종합 뷔페'\n",
      " '죽요리 전문점' '참치 전문점' '초밥 전문점' '치킨/닭강정 전문점' '카레 전문점' '카페/디저트' '테이크아웃 음료 전문점'\n",
      " '편의점' '퓨전음식 전문점' '피자 전문점' '한식국물요리 전문점' '한정식/백반 전문점' '호프/맥주' '화로구이 전문점'\n",
      " '회/수산물 일반']\n"
     ]
    }
   ],
   "source": [
    "# LabelEncoder\n",
    "from sklearn.preprocessing import LabelEncoder\n",
    "\n",
    "# fit transform으로 한번에 처리 가능\n",
    "le = LabelEncoder()\n",
    "processed_data['shop_type_big_label'] = le.fit_transform(list(processed_data['shop_type_big']))   \n",
    "print(le.classes_)\n",
    "\n",
    "le = LabelEncoder()\n",
    "processed_data['shop_type_small_label'] = le.fit_transform(list(processed_data['shop_type_small'])) \n",
    "print(le.classes_)"
   ]
  },
  {
   "cell_type": "code",
   "execution_count": 10,
   "id": "edef0d86",
   "metadata": {
    "collapsed": true
   },
   "outputs": [
    {
     "name": "stderr",
     "output_type": "stream",
     "text": [
      "C:\\Users\\Hyeongbin\\anaconda3\\lib\\site-packages\\category_encoders\\utils.py:21: FutureWarning: is_categorical is deprecated and will be removed in a future version.  Use is_categorical_dtype instead\n",
      "  elif pd.api.types.is_categorical(cols):\n"
     ]
    }
   ],
   "source": [
    "# BinaryEncoder for categorical variable \n",
    "import category_encoders as ce\n",
    "\n",
    "encoder = ce.BinaryEncoder(cols=[\"shop_type_big\", \"shop_type_small\"])\n",
    "df = encoder.fit_transform(processed_data[[\"shop_type_big\", \"shop_type_small\"]])\n",
    "\n",
    "processed_data = pd.concat([processed_data, df], axis=1)"
   ]
  },
  {
   "cell_type": "code",
   "execution_count": 11,
   "id": "204e2264",
   "metadata": {
    "collapsed": true
   },
   "outputs": [],
   "source": [
    "# NLP용 preprocessing \n",
    "# shop_name, shop_type_big, shop_type_small = concat_text \n",
    "processed_data['concat_text'] = processed_data['shop_name'] + ' ' + processed_data['shop_type_big'] + ' ' + processed_data['shop_type_small'] + ' '\n",
    "processed_data['concat_text'] = processed_data['concat_text'] + ' ' + processed_data['address1'] + ' ' + processed_data['address2']\n",
    "processed_data = processed_data.drop(['shop_name', 'shop_type_big', 'shop_type_small', 'address1', 'address2'], axis=1)"
   ]
  },
  {
   "cell_type": "code",
   "execution_count": 12,
   "id": "35a8be3a",
   "metadata": {
    "collapsed": true
   },
   "outputs": [
    {
     "name": "stdout",
     "output_type": "stream",
     "text": [
      "[[ 37.4958123  126.9025844 ]\n",
      " [ 37.56575908 126.99367085]\n",
      " [ 37.51717187 127.12103029]\n",
      " [ 37.57394155 126.92466424]\n",
      " [ 37.53842622 126.84644123]\n",
      " [ 37.63930548 127.04500437]\n",
      " [ 37.49425647 126.9607479 ]\n",
      " [ 37.5017827  127.03560955]\n",
      " [ 37.57151982 127.06678132]]\n",
      "[2 7 0 ... 7 4 2]\n"
     ]
    },
    {
     "data": {
      "text/plain": [
       "Text(0.5, 1.0, 'k-mean')"
      ]
     },
     "execution_count": 12,
     "metadata": {},
     "output_type": "execute_result"
    },
    {
     "name": "stderr",
     "output_type": "stream",
     "text": [
      "C:\\Users\\Hyeongbin\\anaconda3\\lib\\site-packages\\IPython\\core\\pylabtools.py:151: UserWarning: Creating legend with loc=\"best\" can be slow with large amounts of data.\n",
      "  fig.canvas.print_figure(bytes_io, **kw)\n"
     ]
    },
    {
     "data": {
      "image/png": "[encoded data removed]",
      "text/plain": [
       "<Figure size 432x288 with 1 Axes>"
      ]
     },
     "metadata": {
      "needs_background": "light"
     },
     "output_type": "display_data"
    }
   ],
   "source": [
    "# Labeling - KMeans Clustering \n",
    "# longitude + latitude = geo \n",
    "from sklearn.cluster import KMeans\n",
    "\n",
    "kmeans = KMeans(n_clusters=9).fit(processed_data[['latitude', 'longitude']])\n",
    "print(kmeans.cluster_centers_)\n",
    "print(kmeans.labels_)\n",
    "\n",
    "processed_data['geo'] = kmeans.labels_\n",
    "\n",
    "# plotting geo\n",
    "sns.scatterplot(x='longitude' , y='latitude', hue=\"geo\", data=processed_data, palette=\"Paired\")\n",
    "plt.title('k-mean')\n",
    "\n",
    "# NLP 처리를 위해서 featrue drop은 생략합니다! \n",
    "#processed_data = processed_data.drop(['longitude', 'latitude'], axis=1)"
   ]
  },
  {
   "cell_type": "code",
   "execution_count": 13,
   "id": "3538625e",
   "metadata": {
    "collapsed": true
   },
   "outputs": [
    {
     "data": {
      "text/html": [
       "<div>\n",
       "<style scoped>\n",
       "    .dataframe tbody tr th:only-of-type {\n",
       "        vertical-align: middle;\n",
       "    }\n",
       "\n",
       "    .dataframe tbody tr th {\n",
       "        vertical-align: top;\n",
       "    }\n",
       "\n",
       "    .dataframe thead th {\n",
       "        text-align: right;\n",
       "    }\n",
       "</style>\n",
       "<table border=\"1\" class=\"dataframe\">\n",
       "  <thead>\n",
       "    <tr style=\"text-align: right;\">\n",
       "      <th></th>\n",
       "      <th>longitude</th>\n",
       "      <th>latitude</th>\n",
       "      <th>monthly_gain</th>\n",
       "      <th>average_sale_price</th>\n",
       "      <th>shop_type_big_label</th>\n",
       "      <th>shop_type_small_label</th>\n",
       "      <th>shop_type_big_0</th>\n",
       "      <th>shop_type_big_1</th>\n",
       "      <th>shop_type_big_2</th>\n",
       "      <th>shop_type_big_3</th>\n",
       "      <th>shop_type_big_4</th>\n",
       "      <th>shop_type_small_0</th>\n",
       "      <th>shop_type_small_1</th>\n",
       "      <th>shop_type_small_2</th>\n",
       "      <th>shop_type_small_3</th>\n",
       "      <th>shop_type_small_4</th>\n",
       "      <th>shop_type_small_5</th>\n",
       "      <th>shop_type_small_6</th>\n",
       "      <th>concat_text</th>\n",
       "      <th>geo</th>\n",
       "    </tr>\n",
       "  </thead>\n",
       "  <tbody>\n",
       "    <tr>\n",
       "      <th>0</th>\n",
       "      <td>127.120010</td>\n",
       "      <td>37.494826</td>\n",
       "      <td>1.943963e+07</td>\n",
       "      <td>10.351022</td>\n",
       "      <td>14</td>\n",
       "      <td>1</td>\n",
       "      <td>0</td>\n",
       "      <td>0</td>\n",
       "      <td>0</td>\n",
       "      <td>0</td>\n",
       "      <td>1</td>\n",
       "      <td>0</td>\n",
       "      <td>0</td>\n",
       "      <td>0</td>\n",
       "      <td>0</td>\n",
       "      <td>0</td>\n",
       "      <td>0</td>\n",
       "      <td>1</td>\n",
       "      <td>고기.원칙 한식 고기구이/육회 전문점  송파구 가락본동</td>\n",
       "      <td>2</td>\n",
       "    </tr>\n",
       "    <tr>\n",
       "      <th>1</th>\n",
       "      <td>127.024718</td>\n",
       "      <td>37.495376</td>\n",
       "      <td>1.849920e+08</td>\n",
       "      <td>11.047121</td>\n",
       "      <td>14</td>\n",
       "      <td>1</td>\n",
       "      <td>0</td>\n",
       "      <td>0</td>\n",
       "      <td>0</td>\n",
       "      <td>0</td>\n",
       "      <td>1</td>\n",
       "      <td>0</td>\n",
       "      <td>0</td>\n",
       "      <td>0</td>\n",
       "      <td>0</td>\n",
       "      <td>0</td>\n",
       "      <td>0</td>\n",
       "      <td>1</td>\n",
       "      <td>동달식당 강남본점 한식 고기구이/육회 전문점  서초구 서초2동</td>\n",
       "      <td>7</td>\n",
       "    </tr>\n",
       "    <tr>\n",
       "      <th>2</th>\n",
       "      <td>126.897384</td>\n",
       "      <td>37.471307</td>\n",
       "      <td>2.178265e+08</td>\n",
       "      <td>11.397256</td>\n",
       "      <td>14</td>\n",
       "      <td>1</td>\n",
       "      <td>0</td>\n",
       "      <td>0</td>\n",
       "      <td>0</td>\n",
       "      <td>0</td>\n",
       "      <td>1</td>\n",
       "      <td>0</td>\n",
       "      <td>0</td>\n",
       "      <td>0</td>\n",
       "      <td>0</td>\n",
       "      <td>0</td>\n",
       "      <td>0</td>\n",
       "      <td>1</td>\n",
       "      <td>서귀포혹돈 한식 고기구이/육회 전문점  금천구 독산1동</td>\n",
       "      <td>0</td>\n",
       "    </tr>\n",
       "    <tr>\n",
       "      <th>3</th>\n",
       "      <td>126.983424</td>\n",
       "      <td>37.479070</td>\n",
       "      <td>5.267732e+07</td>\n",
       "      <td>11.375512</td>\n",
       "      <td>14</td>\n",
       "      <td>1</td>\n",
       "      <td>0</td>\n",
       "      <td>0</td>\n",
       "      <td>0</td>\n",
       "      <td>0</td>\n",
       "      <td>1</td>\n",
       "      <td>0</td>\n",
       "      <td>0</td>\n",
       "      <td>0</td>\n",
       "      <td>0</td>\n",
       "      <td>0</td>\n",
       "      <td>0</td>\n",
       "      <td>1</td>\n",
       "      <td>(주)아이언미트 숙달돼지 사당점 한식 고기구이/육회 전문점  서초구 방배2동</td>\n",
       "      <td>6</td>\n",
       "    </tr>\n",
       "    <tr>\n",
       "      <th>4</th>\n",
       "      <td>126.979678</td>\n",
       "      <td>37.569882</td>\n",
       "      <td>7.588914e+07</td>\n",
       "      <td>11.446358</td>\n",
       "      <td>14</td>\n",
       "      <td>1</td>\n",
       "      <td>0</td>\n",
       "      <td>0</td>\n",
       "      <td>0</td>\n",
       "      <td>0</td>\n",
       "      <td>1</td>\n",
       "      <td>0</td>\n",
       "      <td>0</td>\n",
       "      <td>0</td>\n",
       "      <td>0</td>\n",
       "      <td>0</td>\n",
       "      <td>0</td>\n",
       "      <td>1</td>\n",
       "      <td>민소한우(서린점) 한식 고기구이/육회 전문점  종로구 종로1.2.3.4가동</td>\n",
       "      <td>1</td>\n",
       "    </tr>\n",
       "    <tr>\n",
       "      <th>...</th>\n",
       "      <td>...</td>\n",
       "      <td>...</td>\n",
       "      <td>...</td>\n",
       "      <td>...</td>\n",
       "      <td>...</td>\n",
       "      <td>...</td>\n",
       "      <td>...</td>\n",
       "      <td>...</td>\n",
       "      <td>...</td>\n",
       "      <td>...</td>\n",
       "      <td>...</td>\n",
       "      <td>...</td>\n",
       "      <td>...</td>\n",
       "      <td>...</td>\n",
       "      <td>...</td>\n",
       "      <td>...</td>\n",
       "      <td>...</td>\n",
       "      <td>...</td>\n",
       "      <td>...</td>\n",
       "      <td>...</td>\n",
       "    </tr>\n",
       "    <tr>\n",
       "      <th>2927734</th>\n",
       "      <td>126.936846</td>\n",
       "      <td>37.514666</td>\n",
       "      <td>3.378875e+07</td>\n",
       "      <td>11.441848</td>\n",
       "      <td>6</td>\n",
       "      <td>60</td>\n",
       "      <td>0</td>\n",
       "      <td>0</td>\n",
       "      <td>1</td>\n",
       "      <td>0</td>\n",
       "      <td>1</td>\n",
       "      <td>0</td>\n",
       "      <td>1</td>\n",
       "      <td>1</td>\n",
       "      <td>1</td>\n",
       "      <td>1</td>\n",
       "      <td>0</td>\n",
       "      <td>0</td>\n",
       "      <td>일신수산 수산물 회/수산물 일반  동작구 노량진2동</td>\n",
       "      <td>6</td>\n",
       "    </tr>\n",
       "    <tr>\n",
       "      <th>2927735</th>\n",
       "      <td>126.897395</td>\n",
       "      <td>37.535894</td>\n",
       "      <td>3.615714e+06</td>\n",
       "      <td>9.903538</td>\n",
       "      <td>6</td>\n",
       "      <td>60</td>\n",
       "      <td>0</td>\n",
       "      <td>0</td>\n",
       "      <td>1</td>\n",
       "      <td>0</td>\n",
       "      <td>1</td>\n",
       "      <td>0</td>\n",
       "      <td>1</td>\n",
       "      <td>1</td>\n",
       "      <td>1</td>\n",
       "      <td>1</td>\n",
       "      <td>0</td>\n",
       "      <td>0</td>\n",
       "      <td>흑산홍어 수산물 회/수산물 일반  영등포구 양평2동</td>\n",
       "      <td>0</td>\n",
       "    </tr>\n",
       "    <tr>\n",
       "      <th>2927736</th>\n",
       "      <td>127.055007</td>\n",
       "      <td>37.506741</td>\n",
       "      <td>5.586279e+07</td>\n",
       "      <td>11.153060</td>\n",
       "      <td>6</td>\n",
       "      <td>60</td>\n",
       "      <td>0</td>\n",
       "      <td>0</td>\n",
       "      <td>1</td>\n",
       "      <td>0</td>\n",
       "      <td>1</td>\n",
       "      <td>0</td>\n",
       "      <td>1</td>\n",
       "      <td>1</td>\n",
       "      <td>1</td>\n",
       "      <td>1</td>\n",
       "      <td>0</td>\n",
       "      <td>0</td>\n",
       "      <td>해초섬 수릿골 수산물 회/수산물 일반  강남구 삼성2동</td>\n",
       "      <td>7</td>\n",
       "    </tr>\n",
       "    <tr>\n",
       "      <th>2927737</th>\n",
       "      <td>126.863259</td>\n",
       "      <td>37.531380</td>\n",
       "      <td>1.924762e+07</td>\n",
       "      <td>10.712727</td>\n",
       "      <td>6</td>\n",
       "      <td>60</td>\n",
       "      <td>0</td>\n",
       "      <td>0</td>\n",
       "      <td>1</td>\n",
       "      <td>0</td>\n",
       "      <td>1</td>\n",
       "      <td>0</td>\n",
       "      <td>1</td>\n",
       "      <td>1</td>\n",
       "      <td>1</td>\n",
       "      <td>1</td>\n",
       "      <td>0</td>\n",
       "      <td>0</td>\n",
       "      <td>명불허전 원조골뱅이  목동사거리점 수산물 회/수산물 일반  강서구 화곡4동</td>\n",
       "      <td>4</td>\n",
       "    </tr>\n",
       "    <tr>\n",
       "      <th>2927738</th>\n",
       "      <td>127.128217</td>\n",
       "      <td>37.539157</td>\n",
       "      <td>1.523940e+06</td>\n",
       "      <td>10.302297</td>\n",
       "      <td>6</td>\n",
       "      <td>60</td>\n",
       "      <td>0</td>\n",
       "      <td>0</td>\n",
       "      <td>1</td>\n",
       "      <td>0</td>\n",
       "      <td>1</td>\n",
       "      <td>0</td>\n",
       "      <td>1</td>\n",
       "      <td>1</td>\n",
       "      <td>1</td>\n",
       "      <td>1</td>\n",
       "      <td>0</td>\n",
       "      <td>0</td>\n",
       "      <td>옛촌추어탕 수산물 회/수산물 일반  강동구 천호3동</td>\n",
       "      <td>2</td>\n",
       "    </tr>\n",
       "  </tbody>\n",
       "</table>\n",
       "<p>2927739 rows × 20 columns</p>\n",
       "</div>"
      ],
      "text/plain": [
       "          longitude   latitude  monthly_gain  average_sale_price  \\\n",
       "0        127.120010  37.494826  1.943963e+07           10.351022   \n",
       "1        127.024718  37.495376  1.849920e+08           11.047121   \n",
       "2        126.897384  37.471307  2.178265e+08           11.397256   \n",
       "3        126.983424  37.479070  5.267732e+07           11.375512   \n",
       "4        126.979678  37.569882  7.588914e+07           11.446358   \n",
       "...             ...        ...           ...                 ...   \n",
       "2927734  126.936846  37.514666  3.378875e+07           11.441848   \n",
       "2927735  126.897395  37.535894  3.615714e+06            9.903538   \n",
       "2927736  127.055007  37.506741  5.586279e+07           11.153060   \n",
       "2927737  126.863259  37.531380  1.924762e+07           10.712727   \n",
       "2927738  127.128217  37.539157  1.523940e+06           10.302297   \n",
       "\n",
       "         shop_type_big_label  shop_type_small_label  shop_type_big_0  \\\n",
       "0                         14                      1                0   \n",
       "1                         14                      1                0   \n",
       "2                         14                      1                0   \n",
       "3                         14                      1                0   \n",
       "4                         14                      1                0   \n",
       "...                      ...                    ...              ...   \n",
       "2927734                    6                     60                0   \n",
       "2927735                    6                     60                0   \n",
       "2927736                    6                     60                0   \n",
       "2927737                    6                     60                0   \n",
       "2927738                    6                     60                0   \n",
       "\n",
       "         shop_type_big_1  shop_type_big_2  shop_type_big_3  shop_type_big_4  \\\n",
       "0                      0                0                0                1   \n",
       "1                      0                0                0                1   \n",
       "2                      0                0                0                1   \n",
       "3                      0                0                0                1   \n",
       "4                      0                0                0                1   \n",
       "...                  ...              ...              ...              ...   \n",
       "2927734                0                1                0                1   \n",
       "2927735                0                1                0                1   \n",
       "2927736                0                1                0                1   \n",
       "2927737                0                1                0                1   \n",
       "2927738                0                1                0                1   \n",
       "\n",
       "         shop_type_small_0  shop_type_small_1  shop_type_small_2  \\\n",
       "0                        0                  0                  0   \n",
       "1                        0                  0                  0   \n",
       "2                        0                  0                  0   \n",
       "3                        0                  0                  0   \n",
       "4                        0                  0                  0   \n",
       "...                    ...                ...                ...   \n",
       "2927734                  0                  1                  1   \n",
       "2927735                  0                  1                  1   \n",
       "2927736                  0                  1                  1   \n",
       "2927737                  0                  1                  1   \n",
       "2927738                  0                  1                  1   \n",
       "\n",
       "         shop_type_small_3  shop_type_small_4  shop_type_small_5  \\\n",
       "0                        0                  0                  0   \n",
       "1                        0                  0                  0   \n",
       "2                        0                  0                  0   \n",
       "3                        0                  0                  0   \n",
       "4                        0                  0                  0   \n",
       "...                    ...                ...                ...   \n",
       "2927734                  1                  1                  0   \n",
       "2927735                  1                  1                  0   \n",
       "2927736                  1                  1                  0   \n",
       "2927737                  1                  1                  0   \n",
       "2927738                  1                  1                  0   \n",
       "\n",
       "         shop_type_small_6                                 concat_text  geo  \n",
       "0                        1              고기.원칙 한식 고기구이/육회 전문점  송파구 가락본동    2  \n",
       "1                        1          동달식당 강남본점 한식 고기구이/육회 전문점  서초구 서초2동    7  \n",
       "2                        1              서귀포혹돈 한식 고기구이/육회 전문점  금천구 독산1동    0  \n",
       "3                        1  (주)아이언미트 숙달돼지 사당점 한식 고기구이/육회 전문점  서초구 방배2동    6  \n",
       "4                        1   민소한우(서린점) 한식 고기구이/육회 전문점  종로구 종로1.2.3.4가동    1  \n",
       "...                    ...                                         ...  ...  \n",
       "2927734                  0                일신수산 수산물 회/수산물 일반  동작구 노량진2동    6  \n",
       "2927735                  0                흑산홍어 수산물 회/수산물 일반  영등포구 양평2동    0  \n",
       "2927736                  0              해초섬 수릿골 수산물 회/수산물 일반  강남구 삼성2동    7  \n",
       "2927737                  0   명불허전 원조골뱅이  목동사거리점 수산물 회/수산물 일반  강서구 화곡4동    4  \n",
       "2927738                  0                옛촌추어탕 수산물 회/수산물 일반  강동구 천호3동    2  \n",
       "\n",
       "[2927739 rows x 20 columns]"
      ]
     },
     "execution_count": 13,
     "metadata": {},
     "output_type": "execute_result"
    }
   ],
   "source": [
    "# average_sale_price -> skewed data \n",
    "# log transfromation \n",
    "from sklearn.preprocessing import MinMaxScaler, RobustScaler, StandardScaler, Normalizer\n",
    "\n",
    "scale_cols = ['average_sale_price']\n",
    "processed_data[scale_cols] = processed_data[scale_cols].apply(lambda x : np.log1p(x))\n",
    "\n",
    "processed_data"
   ]
  },
  {
   "cell_type": "code",
   "execution_count": null,
   "id": "24488b29",
   "metadata": {
    "collapsed": true
   },
   "outputs": [],
   "source": [
    "# check the preprocessed 'average_sale_price' by shop_type_big\n",
    "rcParams['figure.figsize'] = 15,8\n",
    "sns.boxplot(x='shop_type_big', y='average_sale_price', data=processed_data)"
   ]
  },
  {
   "cell_type": "code",
   "execution_count": null,
   "id": "9ee31831",
   "metadata": {
    "collapsed": true
   },
   "outputs": [],
   "source": [
    "# check the 'monthly_gain'\n",
    "processed_data.boxplot(column = ['monthly_gain'], by=['shop_type_big'])"
   ]
  },
  {
   "cell_type": "markdown",
   "id": "08ffaff6",
   "metadata": {},
   "source": [
    "# 4. Target Variable Labeling and EDA for variable y\n",
    "processed_data -> labeled_data \n",
    "- 어떻게 라벨링 할 것인가? \n",
    "- 1. Classification : use mean, std -> failed\n",
    "- 2. Classification : Quantile 10%, 20%, 25%, 33% -> label 10, 5, 4, 3 \n",
    "- 3. Classification : Quantile by shop_type_big with lower fence, Q2, upper_fence -> label 31\n",
    "- 3. Classification : Quantile by shop_type_big with Q1, Q2, Q3 -> label 45\n",
    "- 4. Classification : price label, min:5, max:181억 -> label 15\n",
    "- 5. Removing Outlier : outler 233,140 -> total data(without outlier) 2,694,599\n",
    "- 6. Rounding data "
   ]
  },
  {
   "cell_type": "code",
   "execution_count": null,
   "id": "6d6947c7",
   "metadata": {
    "collapsed": true
   },
   "outputs": [],
   "source": [
    "# pandas option 설정 하는 코드\n",
    "# monthly_gain의 경우 부동소수점으로 나타나서 보기 어려울땐 윗 줄의 주석을 제거하고 아래에 주석을 추가하고\n",
    "# 다시 원래대로 돌리고 싶다면 아래에 주석제거, 위 코드에 주석추가\n",
    "pd.options.display.float_format = '{:.2f}'.format\n",
    "#pd.reset_option('display.float_format')\n",
    "\n",
    "# 전처리된 data와 따로 관리 -> preprocessed data = procssed_data, labeled data = labeled_data \n",
    "labeled_data = processed_data.copy()\n",
    "labeled_data"
   ]
  },
  {
   "cell_type": "code",
   "execution_count": 71,
   "id": "6547ce2b",
   "metadata": {
    "collapsed": true
   },
   "outputs": [
    {
     "name": "stdout",
     "output_type": "stream",
     "text": [
      "내림차순 기준 분야별로 정렬하여 출력합니다 - monthly_gain\n",
      "min:  [4, 7, 3, 6, 10, 2, 13, 11, 14, 0, 1, 9, 12, 8, 5]\n",
      "mean: [5, 3, 12, 6, 7, 10, 14, 13, 11, 9, 1, 8, 2, 0, 4]\n",
      "max:  [5, 9, 13, 0, 1, 14, 8, 3, 12, 10, 6, 11, 2, 7, 4]\n"
     ]
    },
    {
     "data": {
      "text/html": [
       "<div>\n",
       "<style scoped>\n",
       "    .dataframe tbody tr th:only-of-type {\n",
       "        vertical-align: middle;\n",
       "    }\n",
       "\n",
       "    .dataframe tbody tr th {\n",
       "        vertical-align: top;\n",
       "    }\n",
       "\n",
       "    .dataframe thead th {\n",
       "        text-align: right;\n",
       "    }\n",
       "</style>\n",
       "<table border=\"1\" class=\"dataframe\">\n",
       "  <thead>\n",
       "    <tr style=\"text-align: right;\">\n",
       "      <th></th>\n",
       "      <th>count</th>\n",
       "      <th>mean</th>\n",
       "      <th>std</th>\n",
       "      <th>min</th>\n",
       "      <th>25%</th>\n",
       "      <th>50%</th>\n",
       "      <th>75%</th>\n",
       "      <th>max</th>\n",
       "    </tr>\n",
       "    <tr>\n",
       "      <th>shop_type_big_label</th>\n",
       "      <th></th>\n",
       "      <th></th>\n",
       "      <th></th>\n",
       "      <th></th>\n",
       "      <th></th>\n",
       "      <th></th>\n",
       "      <th></th>\n",
       "      <th></th>\n",
       "    </tr>\n",
       "  </thead>\n",
       "  <tbody>\n",
       "    <tr>\n",
       "      <th>0</th>\n",
       "      <td>318339.00</td>\n",
       "      <td>13632884.54</td>\n",
       "      <td>26295553.89</td>\n",
       "      <td>50.08</td>\n",
       "      <td>3252624.81</td>\n",
       "      <td>7505698.33</td>\n",
       "      <td>15909550.27</td>\n",
       "      <td>2454380350.60</td>\n",
       "    </tr>\n",
       "    <tr>\n",
       "      <th>1</th>\n",
       "      <td>213619.00</td>\n",
       "      <td>19719527.02</td>\n",
       "      <td>28706052.33</td>\n",
       "      <td>49.63</td>\n",
       "      <td>5770587.82</td>\n",
       "      <td>12058130.24</td>\n",
       "      <td>23826346.30</td>\n",
       "      <td>1535740006.14</td>\n",
       "    </tr>\n",
       "    <tr>\n",
       "      <th>2</th>\n",
       "      <td>188263.00</td>\n",
       "      <td>15053556.30</td>\n",
       "      <td>19543045.12</td>\n",
       "      <td>253.05</td>\n",
       "      <td>3471252.46</td>\n",
       "      <td>8711467.56</td>\n",
       "      <td>19694451.96</td>\n",
       "      <td>594568831.67</td>\n",
       "    </tr>\n",
       "    <tr>\n",
       "      <th>3</th>\n",
       "      <td>24891.00</td>\n",
       "      <td>36001109.95</td>\n",
       "      <td>70222881.23</td>\n",
       "      <td>503.42</td>\n",
       "      <td>6552622.10</td>\n",
       "      <td>15851043.88</td>\n",
       "      <td>36195659.42</td>\n",
       "      <td>1246631436.93</td>\n",
       "    </tr>\n",
       "    <tr>\n",
       "      <th>4</th>\n",
       "      <td>47.00</td>\n",
       "      <td>4971385.58</td>\n",
       "      <td>3441529.09</td>\n",
       "      <td>31102.45</td>\n",
       "      <td>2922138.00</td>\n",
       "      <td>4186328.34</td>\n",
       "      <td>6760663.68</td>\n",
       "      <td>15394364.73</td>\n",
       "    </tr>\n",
       "    <tr>\n",
       "      <th>5</th>\n",
       "      <td>359034.00</td>\n",
       "      <td>116397419.86</td>\n",
       "      <td>1569075536.95</td>\n",
       "      <td>5.06</td>\n",
       "      <td>7382320.10</td>\n",
       "      <td>27178602.55</td>\n",
       "      <td>47733778.69</td>\n",
       "      <td>181237335603.49</td>\n",
       "    </tr>\n",
       "    <tr>\n",
       "      <th>6</th>\n",
       "      <td>131323.00</td>\n",
       "      <td>28338011.74</td>\n",
       "      <td>33013325.12</td>\n",
       "      <td>493.80</td>\n",
       "      <td>8455953.14</td>\n",
       "      <td>18101518.61</td>\n",
       "      <td>36318652.47</td>\n",
       "      <td>703395339.57</td>\n",
       "    </tr>\n",
       "    <tr>\n",
       "      <th>7</th>\n",
       "      <td>13726.00</td>\n",
       "      <td>25495120.25</td>\n",
       "      <td>38188710.77</td>\n",
       "      <td>5593.31</td>\n",
       "      <td>6093858.38</td>\n",
       "      <td>13859828.04</td>\n",
       "      <td>28725833.43</td>\n",
       "      <td>550879240.77</td>\n",
       "    </tr>\n",
       "    <tr>\n",
       "      <th>8</th>\n",
       "      <td>254766.00</td>\n",
       "      <td>15803340.87</td>\n",
       "      <td>22753249.79</td>\n",
       "      <td>5.55</td>\n",
       "      <td>3687630.29</td>\n",
       "      <td>9033763.00</td>\n",
       "      <td>19227524.34</td>\n",
       "      <td>1289820781.86</td>\n",
       "    </tr>\n",
       "    <tr>\n",
       "      <th>9</th>\n",
       "      <td>455192.00</td>\n",
       "      <td>20417545.97</td>\n",
       "      <td>78472248.13</td>\n",
       "      <td>49.44</td>\n",
       "      <td>2237639.52</td>\n",
       "      <td>6398832.00</td>\n",
       "      <td>17318475.94</td>\n",
       "      <td>11699138265.56</td>\n",
       "    </tr>\n",
       "    <tr>\n",
       "      <th>10</th>\n",
       "      <td>83488.00</td>\n",
       "      <td>25322637.66</td>\n",
       "      <td>31280422.83</td>\n",
       "      <td>493.80</td>\n",
       "      <td>8029402.82</td>\n",
       "      <td>16006683.28</td>\n",
       "      <td>30874311.91</td>\n",
       "      <td>714968397.12</td>\n",
       "    </tr>\n",
       "    <tr>\n",
       "      <th>11</th>\n",
       "      <td>98201.00</td>\n",
       "      <td>21043979.17</td>\n",
       "      <td>30650347.20</td>\n",
       "      <td>55.38</td>\n",
       "      <td>3178903.64</td>\n",
       "      <td>9812952.69</td>\n",
       "      <td>29231947.41</td>\n",
       "      <td>607811136.24</td>\n",
       "    </tr>\n",
       "    <tr>\n",
       "      <th>12</th>\n",
       "      <td>112420.00</td>\n",
       "      <td>29656802.61</td>\n",
       "      <td>39582896.63</td>\n",
       "      <td>49.37</td>\n",
       "      <td>7359411.89</td>\n",
       "      <td>17865797.94</td>\n",
       "      <td>36184657.86</td>\n",
       "      <td>838346597.43</td>\n",
       "    </tr>\n",
       "    <tr>\n",
       "      <th>13</th>\n",
       "      <td>130544.00</td>\n",
       "      <td>25152372.93</td>\n",
       "      <td>60055572.85</td>\n",
       "      <td>251.79</td>\n",
       "      <td>5233673.41</td>\n",
       "      <td>12564552.00</td>\n",
       "      <td>27443949.52</td>\n",
       "      <td>4502280301.80</td>\n",
       "    </tr>\n",
       "    <tr>\n",
       "      <th>14</th>\n",
       "      <td>543886.00</td>\n",
       "      <td>25171006.70</td>\n",
       "      <td>38543045.25</td>\n",
       "      <td>50.61</td>\n",
       "      <td>5727531.55</td>\n",
       "      <td>14123414.79</td>\n",
       "      <td>30392434.57</td>\n",
       "      <td>1338750027.12</td>\n",
       "    </tr>\n",
       "  </tbody>\n",
       "</table>\n",
       "</div>"
      ],
      "text/plain": [
       "                        count         mean           std      min        25%  \\\n",
       "shop_type_big_label                                                            \n",
       "0                   318339.00  13632884.54   26295553.89    50.08 3252624.81   \n",
       "1                   213619.00  19719527.02   28706052.33    49.63 5770587.82   \n",
       "2                   188263.00  15053556.30   19543045.12   253.05 3471252.46   \n",
       "3                    24891.00  36001109.95   70222881.23   503.42 6552622.10   \n",
       "4                       47.00   4971385.58    3441529.09 31102.45 2922138.00   \n",
       "5                   359034.00 116397419.86 1569075536.95     5.06 7382320.10   \n",
       "6                   131323.00  28338011.74   33013325.12   493.80 8455953.14   \n",
       "7                    13726.00  25495120.25   38188710.77  5593.31 6093858.38   \n",
       "8                   254766.00  15803340.87   22753249.79     5.55 3687630.29   \n",
       "9                   455192.00  20417545.97   78472248.13    49.44 2237639.52   \n",
       "10                   83488.00  25322637.66   31280422.83   493.80 8029402.82   \n",
       "11                   98201.00  21043979.17   30650347.20    55.38 3178903.64   \n",
       "12                  112420.00  29656802.61   39582896.63    49.37 7359411.89   \n",
       "13                  130544.00  25152372.93   60055572.85   251.79 5233673.41   \n",
       "14                  543886.00  25171006.70   38543045.25    50.61 5727531.55   \n",
       "\n",
       "                            50%         75%             max  \n",
       "shop_type_big_label                                          \n",
       "0                    7505698.33 15909550.27   2454380350.60  \n",
       "1                   12058130.24 23826346.30   1535740006.14  \n",
       "2                    8711467.56 19694451.96    594568831.67  \n",
       "3                   15851043.88 36195659.42   1246631436.93  \n",
       "4                    4186328.34  6760663.68     15394364.73  \n",
       "5                   27178602.55 47733778.69 181237335603.49  \n",
       "6                   18101518.61 36318652.47    703395339.57  \n",
       "7                   13859828.04 28725833.43    550879240.77  \n",
       "8                    9033763.00 19227524.34   1289820781.86  \n",
       "9                    6398832.00 17318475.94  11699138265.56  \n",
       "10                  16006683.28 30874311.91    714968397.12  \n",
       "11                   9812952.69 29231947.41    607811136.24  \n",
       "12                  17865797.94 36184657.86    838346597.43  \n",
       "13                  12564552.00 27443949.52   4502280301.80  \n",
       "14                  14123414.79 30392434.57   1338750027.12  "
      ]
     },
     "execution_count": 71,
     "metadata": {},
     "output_type": "execute_result"
    }
   ],
   "source": [
    "group_big_gain = labeled_data[['shop_type_big_label','monthly_gain']].groupby('shop_type_big_label')\n",
    "df_group_big_gain = group_big_gain.describe().droplevel(axis=1,level=0)\n",
    "\n",
    "# monthly_gain을 shop_type_big 분야별로 정렬하여 출력\n",
    "print(\"내림차순 기준 분야별로 정렬하여 출력합니다 - monthly_gain\")\n",
    "print(\"min: \", list(df_group_big_gain.sort_values(by=['min'], ascending=False).index))\n",
    "print(\"mean:\", list(df_group_big_gain.sort_values(by=['mean'], ascending=False).index))\n",
    "print(\"max: \", list(df_group_big_gain.sort_values(by=['max'], ascending=False).index))\n",
    "\n",
    "df_group_big_gain"
   ]
  },
  {
   "cell_type": "code",
   "execution_count": 26,
   "id": "23870c09",
   "metadata": {
    "collapsed": true
   },
   "outputs": [
    {
     "name": "stdout",
     "output_type": "stream",
     "text": [
      "Int64Index([0, 1, 2, 3, 4, 5, 6, 7, 8, 9, 10, 11, 12, 13, 14], dtype='int64', name='shop_type_big_label')\n"
     ]
    },
    {
     "data": {
      "text/plain": [
       "<AxesSubplot:xlabel='shop_type_big_label'>"
      ]
     },
     "execution_count": 26,
     "metadata": {},
     "output_type": "execute_result"
    },
    {
     "data": {
      "image/png": "[encoded data removed]",
      "text/plain": [
       "<Figure size 1800x720 with 1 Axes>"
      ]
     },
     "metadata": {
      "needs_background": "light"
     },
     "output_type": "display_data"
    }
   ],
   "source": [
    "# shop_type_big 으로 묶은 후 shop_type_small 간의 평균 가격대를 비교하는 코드 \n",
    "# 제조같은 분야는 하나의 소분야가 압도적으로 가격대가 높게 형성되어 있고 나머지는 비슷비슷함\n",
    "# 스포츠 같은 경우는 모든 소분야가 비슷한 가격대를 형성함 \n",
    "\n",
    "# shop_type_big 중에서 5번 종목이 가격 분포가 너무 넓어서 그래프를 그렸을 때 다른 종목도 보기 어려워서\n",
    "# 5번을 드랍하고 보기로 함 -> 전반적으로 평균보다 편차가 훨씬 큼\n",
    "typebig_list = df_group_big_gain.index\n",
    "print(typebig_list)\n",
    "\n",
    "updated_df = df_group_big_gain.drop(5).copy()\n",
    "updated_df.plot.bar(y=['std', 'mean', 'count'], figsize=(25,10))"
   ]
  },
  {
   "cell_type": "code",
   "execution_count": 27,
   "id": "47d35092",
   "metadata": {
    "collapsed": true
   },
   "outputs": [
    {
     "data": {
      "text/plain": [
       "<AxesSubplot:>"
      ]
     },
     "execution_count": 27,
     "metadata": {},
     "output_type": "execute_result"
    },
    {
     "data": {
      "image/png": "[encoded data removed]",
      "text/plain": [
       "<Figure size 1080x576 with 1 Axes>"
      ]
     },
     "metadata": {
      "needs_background": "light"
     },
     "output_type": "display_data"
    }
   ],
   "source": [
    "group_big_gain.get_group(7).boxplot(column='monthly_gain')"
   ]
  },
  {
   "cell_type": "code",
   "execution_count": 28,
   "id": "142471dc",
   "metadata": {
    "collapsed": true
   },
   "outputs": [
    {
     "name": "stdout",
     "output_type": "stream",
     "text": [
      "34894938.47 \t 25133 \t -15732763.39 \t 0 \t 15909550.27 \t 79585\n",
      "50909984.01 \t 15726 \t -21313049.89 \t 0 \t 23826346.30 \t 53405\n",
      "44029251.20 \t 12003 \t -20863546.78 \t 0 \t 19694451.96 \t 47066\n",
      "80660215.41 \t 2393 \t -37911933.89 \t 0 \t 36195659.42 \t 6223\n",
      "12518452.19 \t 1 \t -2835650.51 \t 0 \t 6760663.68 \t 12\n",
      "108260966.57 \t 26678 \t -53144867.79 \t 0 \t 47733778.69 \t 89759\n",
      "78112701.48 \t 8612 \t -33338095.86 \t 0 \t 36318652.47 \t 32831\n",
      "62673795.99 \t 1188 \t -27854104.18 \t 0 \t 28725833.43 \t 3432\n",
      "42537365.43 \t 19350 \t -19622210.80 \t 0 \t 19227524.34 \t 63692\n",
      "39939730.58 \t 50532 \t -20383615.12 \t 0 \t 17318475.94 \t 113798\n",
      "65141675.56 \t 6064 \t -26237960.82 \t 0 \t 30874311.91 \t 20872\n",
      "68311513.06 \t 5384 \t -35900662.02 \t 0 \t 29231947.41 \t 24550\n",
      "79422526.81 \t 8360 \t -35878457.05 \t 0 \t 36184657.86 \t 28105\n",
      "60759363.69 \t 11580 \t -28081740.76 \t 0 \t 27443949.52 \t 32636\n",
      "67389789.09 \t 40136 \t -31269822.98 \t 0 \t 30392434.57 \t 135972\n"
     ]
    }
   ],
   "source": [
    "# box plot 상 outlier와 Quantile 상 75% 이상의 값을 확인합니다\n",
    "# we detect outlier (from upper, lower) and values greater than 75% in the quantile\n",
    "list_q4 = df_group_big_gain['75%'].values\n",
    "for i in range(0, 15) :\n",
    "    Q1 = group_big_gain.get_group(i)['monthly_gain'].quantile(0.25)\n",
    "    Q3 = group_big_gain.get_group(i)['monthly_gain'].quantile(0.75)\n",
    "    IQR = Q3 - Q1\n",
    "    lower_fence = Q1 - (1.5 * IQR)\n",
    "    upper_fence = Q3 + (1.5 * IQR)\n",
    "    \n",
    "    df = group_big_gain.get_group(i)['monthly_gain']\n",
    "    print(\"%.2f \\t\" % upper_fence, len(df[df > upper_fence]),\n",
    "          \"\\t %.2f \\t\" % lower_fence, len(df[df < lower_fence]),\n",
    "          \"\\t %.2f \\t\" % list_q4[i], len(df[df > list_q4[i]]))"
   ]
  },
  {
   "cell_type": "code",
   "execution_count": 29,
   "id": "c87fa3ec",
   "metadata": {
    "collapsed": true
   },
   "outputs": [],
   "source": [
    "# Explore shop_type_small\n",
    "\n",
    "#df_typesmall = []\n",
    "#for _ in typebig_list :\n",
    "#    df = df_check[df_check['shop_type_big'] == _ ].groupby('shop_type_small').describe().droplevel(axis=1,level=0)\n",
    "#    df_typesmall.append(df)\n",
    "#df_typesmall[2].plot.bar(y=['std','mean'], figsize=(25,10))"
   ]
  },
  {
   "cell_type": "markdown",
   "id": "a35dba1e",
   "metadata": {},
   "source": [
    "#### Labeling 1) shop_type_big에 따라 중간값, 편차를 이용\n",
    "\n",
    "- 모든 업종이 중간값 보다 편차가 너무 커서 폐기"
   ]
  },
  {
   "cell_type": "code",
   "execution_count": null,
   "id": "f44de388",
   "metadata": {
    "collapsed": true
   },
   "outputs": [],
   "source": [
    "group_big_gain = labeled_data[['shop_type_big_label','monthly_gain']].groupby('shop_type_big_label')\n",
    "df_group_big_gain = group_big_gain.describe().droplevel(axis=1,level=0)\n",
    "\n",
    "min_dict = df_group_big_gain['min'].to_dict()\n",
    "mean_dict = df_group_big_gain['mean'].to_dict()\n",
    "max_dict = df_group_big_gain['max'].to_dict()\n",
    "std_dict = df_group_big_gain['std'].to_dict()\n",
    "\n",
    "price_dict = []\n",
    "def labeling(x) : \n",
    "    for i in range(0, 15) :\n",
    "        max_price = mean_dict[i] + std_dict[i]\n",
    "        if mean_dict[i]-std_dict[i] <= 0 : min_price = 0 \n",
    "        else : min_price = mean_dict[i] - std_dict[i]\n",
    "\n",
    "        if x <= min  : return min/2\n",
    "        elif x >= max : return  \n",
    "    return i\n",
    "\n",
    "print(price_dict)\n",
    "labeled_data['gain_label'] = labeled_data.monthly_gain.apply(labeling)\n",
    "labeled_data"
   ]
  },
  {
   "cell_type": "markdown",
   "id": "3d31c910",
   "metadata": {},
   "source": [
    "#### Labeling 2) quantity하게, 백분율을 이용해서\n",
    "\n",
    "- **Label(10)**  min 10% 20% ... 80% 90% max의 값을 찾은 후, monthly_gain에 대해 두 범위 사이에 존재하는 값에 대해서 평균 값으로 라벨링 합니다. \n",
    "    - 예) min 과 10% 사이의 값 -> min과 10%의 평균 값으로 라벨링\n",
    "    - 라벨링 분포가 정확히 14432~14430 사이로 떨어짐 -> 오로지 백분율로 잘랐기 때문에 분포에 대한 걱정은 안해도 됨\n",
    "    - accuracy f-1score : 0.50 ~ 0.49\n",
    "- **Label(3)**  위와 동일한 방식으로 자릅니다. \n",
    "    - 0 ~ 33 ~ 66 ~ 99(100) -> 총 3개의 label 생성\n",
    "    - 1: 3,669,015.0075000003, 2: 18,734,738.491500005, 3: 303,196,624.6690003\n",
    "    - 3백, 2천(1천8백만), 3억\n",
    "    - accuracy f-1score : 0.84 ~ 0.82\n",
    "- **Label(4)**  위와 동일한 방식으로 자릅니다. \n",
    "    - 0 ~ 25 ~ 50 ~ 75 ~ 100 -> 총 4개의 label 생성\n",
    "    - 1: 2,324,858.25, 2: 10,317,593.25, 3: 29,815,219.125, 4: 32,692,544,860.4\n",
    "    - 2백, 1천만, 3천만(2천9백), 326억\n",
    "    - accuracy f-1score : 0.78 ~ 0.76\n",
    "- **Label(5)**  위와 동일한 방식으로 자릅니다. \n",
    "    - 0 ~ 20 ~ 40 ~ 60 ~ 80 ~ 100 -> 총 5개의 label 생성\n",
    "    - 1: 1,622,880.0, 2: 6,773,160.0, 3: 17,044,674.75,4: 39,214,985.75, 5: 32,698,042,967.275\n",
    "    - 1백만, 6백만, 1천7백만, 4천(3천9백만), 326억\n",
    "    - accuracy f-1score : 0.71 ~ 0.70\n",
    "- 백분율로 자르는 방법\n",
    "    - labe(10)의 경우 유난히 4~8 label에 대해서는 잘 못맞춤 -> monthly_gain을 일렬로 세웠을 때 앞 뒤로 뭉쳐있어서 그런 것 같음 \n",
    "    - 무작정 quantity하게 값을 나눠서 라벨링 하는 것은 좋은 것 같지 않음..\n",
    "    - 앞, 뒤로는 자잘하게 자르고 가운데는 큼직하게 잘라야..?\n",
    "    - 확실히 class의 개수가 많아질수록 accuracy가 낮아짐"
   ]
  },
  {
   "cell_type": "code",
   "execution_count": 15,
   "id": "38ac967a",
   "metadata": {
    "collapsed": true
   },
   "outputs": [
    {
     "name": "stdout",
     "output_type": "stream",
     "text": [
      "label:  [10  8  7  2  4  6  5  3  9  1]\n",
      "{1: 766177.392, 2: 2416853.102, 3: 4367341.306000001, 4: 6771578.880000001, 5: 9842625.509, 6: 13910004.138000002, 7: 19613928.162, 8: 28182833.791999996, 9: 43187748.551, 10: 90645164352.75299}\n",
      "[0, 1532354.784, 3301351.42, 5433331.192000002, 8109826.568, 11575424.45, 16244583.826000005, 22983272.497999996, 33382395.085999995, 52993102.016, 181237335603.49]\n"
     ]
    }
   ],
   "source": [
    "price_dict = {}  # original price를 저장하기 위한 dict\n",
    "price_list = [0] # 시작 min 값은 0 \n",
    "for i in range(1, 11) :\n",
    "    price_list.append(labeled_data['monthly_gain'].quantile(q=i*0.1)) # 10% ~ 100% 값을 가져옵니다    \n",
    "\n",
    "def labeling(x) : \n",
    "    for i in range(1, len(price_list)) :\n",
    "        price_dict[i] = (price_list[i]+price_list[i-1])/2\n",
    "        if x < price_list[i] and x >= price_list[i-1] : return i\n",
    "    return i\n",
    "\n",
    "labeled_data['gain_label'] = labeled_data.monthly_gain.apply(labeling)\n",
    "print(\"label: \", labeled_data['gain_label'].unique())\n",
    "print(price_dict)\n",
    "print(price_list)"
   ]
  },
  {
   "cell_type": "markdown",
   "id": "98e55267",
   "metadata": {},
   "source": [
    "#### Labeling 3) shop_type_big에 따라 Q1, Q2, Q3, upper fence, lower fence값 이용  \n",
    "\n",
    "- shop_type_big 당 label 3개 : Total lable 30 + 1(lower_fence=0) = 31 \n",
    "- Q1 ~ 이하 값 : lower fence = 0\n",
    "- Q1 ~ Q3 : Q2, mid\n",
    "- Q3 ~ 이상 값 : upper fence \n",
    "\n",
    "- shop_type_big 당 label 3개 : Total label 45\n",
    "- Q1 이하값 : Q1 \n",
    "- Q1 ~ Q3 : Q2, mid\n",
    "- Q3 이상값 : Q3"
   ]
  },
  {
   "cell_type": "code",
   "execution_count": null,
   "id": "e567b3a5",
   "metadata": {
    "collapsed": true
   },
   "outputs": [],
   "source": [
    "def get_pricelist(i, data) :\n",
    "    df = data[['shop_type_big_label','monthly_gain']].groupby('shop_type_big_label')\n",
    "    Q1 = df.get_group(i)['monthly_gain'].quantile(0.25)\n",
    "    Q2 = df.get_group(i)['monthly_gain'].quantile(0.5)\n",
    "    Q3 = df.get_group(i)['monthly_gain'].quantile(0.75)\n",
    "    IQR = Q3 - Q1\n",
    "    lower_fence = Q1 - (1.5 * IQR)\n",
    "    upper_fence = Q3 + (1.5 * IQR)\n",
    "    if lower_fence <= 0 : lower_fence = 0\n",
    "        \n",
    "    return lower_fence, Q1, Q2, Q3, upper_fence\n",
    "\n",
    "def labeling(data) : \n",
    "    for i in range(0,15) : \n",
    "        lower_fence, Q1, Q2, Q3, upper_fence = get_pricelist(i, data)\n",
    "        prices = data.loc[(data.shop_type_big_label == i), 'monthly_gain']\n",
    "        prices = prices.apply(lambda x: lower_fence if x < Q1 else (upper_fence if x > Q3 else Q2))\n",
    "        #prices = prices.apply(lambda x : Q1 if x < Q1 else (Q3 if x > Q3 else Q2))\n",
    "        data.loc[(data.shop_type_big_label == i), 'gain_label'] = prices\n",
    "    return data\n",
    "\n",
    "labeled_data = labeling(labeled_data)\n",
    "print(\"label counts: \", labeled_data['gain_label'].nunique())\n",
    "labeled_data"
   ]
  },
  {
   "cell_type": "markdown",
   "id": "05f7db1f",
   "metadata": {},
   "source": [
    "#### Labeling 4) all price range\n",
    "- min : 5 \n",
    "- max : 181,237,335,603 (181억)\n",
    "- 10,000원*\n",
    "- 100,000원(십만원대)*\n",
    "- 500,000원(십만~오십만원대)*\n",
    "- 1,000,000원 (백만원대)\n",
    "- 2, 3, 4, 5, 6, 7, 8, 9 (detailed)\n",
    "- 10,000,000원 (천만원대)\n",
    "- 30,000,000원 \n",
    "- 50,000,000원\n",
    "- 70,000,000원\n",
    "- 100,000,000원 (억대)*\n",
    "- 500,000,000원 *\n",
    "- 1,000,000,000원(십억대) *\n",
    "- 10,000,000,000원(백억대) *"
   ]
  },
  {
   "cell_type": "code",
   "execution_count": 26,
   "id": "062082ca",
   "metadata": {
    "collapsed": true
   },
   "outputs": [
    {
     "name": "stdout",
     "output_type": "stream",
     "text": [
      "15\n",
      "30000000.00     921619\n",
      "3000000.00      343299\n",
      "50000000.00     311124\n",
      "5000000.00      284585\n",
      "10000000.00     281385\n",
      "7000000.00      235054\n",
      "1000000.00      177939\n",
      "70000000.00      97653\n",
      "100000000.00     22249\n",
      "100000.00        16747\n",
      "500000000.00      2140\n",
      "10000.00           805\n",
      "Name: gain_label, dtype: int64\n"
     ]
    }
   ],
   "source": [
    "price_dict = [10000, 100000,\n",
    "              1000000, 3000000, 5000000, 7000000,\n",
    "              10000000, 30000000, 50000000, 70000000,\n",
    "              100000000, 500000000, 1000000000, 10000000000, 15000000000]\n",
    "print(len(price_dict))\n",
    "\n",
    "def labeling(x) : \n",
    "    for i in range(0, len(price_dict)) :\n",
    "        if x < price_dict[i] : return price_dict[i]\n",
    "    return price_dict[-1]\n",
    "\n",
    "labeled_data['gain_label'] = input_data.monthly_gain.apply(labeling)\n",
    "print(labeled_data['gain_label'].value_counts())"
   ]
  },
  {
   "cell_type": "markdown",
   "id": "1d2e7c3c",
   "metadata": {},
   "source": [
    "#### Option 5) Removing outlier\n",
    "upper fence, lower fence 외 값(outlier)을 제거합니다 "
   ]
  },
  {
   "cell_type": "code",
   "execution_count": null,
   "id": "9178cbda",
   "metadata": {
    "collapsed": true
   },
   "outputs": [],
   "source": [
    "def get_pricelist(i, data) :\n",
    "    df = data[['shop_type_big_label','monthly_gain']].groupby('shop_type_big_label')\n",
    "    Q1 = df.get_group(i)['monthly_gain'].quantile(0.25)\n",
    "    Q2 = df.get_group(i)['monthly_gain'].quantile(0.5)\n",
    "    Q3 = df.get_group(i)['monthly_gain'].quantile(0.75)\n",
    "    IQR = Q3 - Q1\n",
    "    lower_fence = Q1 - (1.5 * IQR)\n",
    "    upper_fence = Q3 + (1.5 * IQR)\n",
    "    if lower_fence <= 0 : lower_fence = 0\n",
    "        \n",
    "    return lower_fence, Q1, Q2, Q3, upper_fence\n",
    "\n",
    "def remove_outlier(data, processed_data) :\n",
    "    output_data = data.copy()\n",
    "    for i in range(0,15) :\n",
    "        lower_fence, Q1, Q2, Q3, upper_fence = get_pricelist(i, processed_data)\n",
    "        shoptype_index = data[data.shop_type_big_label == i].index\n",
    "        shoptype_data = data.iloc[shoptype_index, :]\n",
    "        outlier_index = shoptype_data[shoptype_data.monthly_gain > upper_fence].index\n",
    "        print(\"removed index in shop_type_big\" , i, \": \", len(outlier_index))\n",
    "        output_data = output_data.drop(outlier_index)\n",
    "    return output_data \n",
    "\n",
    "labeled_data = remove_outlier(labeled_data, processed_data)\n",
    "labeled_data"
   ]
  },
  {
   "cell_type": "markdown",
   "id": "a2737e09",
   "metadata": {},
   "source": [
    "#### Option 6) Rounding data\n",
    "십만원대, 백만원대 아래 가격들은 모두 반올림 하여 비슷한 label 값을 가지는 것들은 통일\n",
    "- label의 개수를 줄임\n",
    "- 1의 자리~ 10,000의 자리 숫자들은 반올림하에 0으로 처리"
   ]
  },
  {
   "cell_type": "code",
   "execution_count": null,
   "id": "6d9e31eb",
   "metadata": {
    "collapsed": true
   },
   "outputs": [],
   "source": [
    "print(\"original monthly_gain_label counts : \", labeled_data['gain_label'].nunique())\n",
    "labeled_data['gain_label'] = labeled_data.gain_label.apply(lambda x : round(x, -5) if x < 10000000 else round(x, -6))\n",
    "\n",
    "print(\"rounded monthly_gain_label value counts :\", labeled_data['gain_label'].nunique(), \n",
    "      \"\\n\", labeled_data['gain_label'].value_counts())"
   ]
  },
  {
   "cell_type": "markdown",
   "id": "2520471a",
   "metadata": {},
   "source": [
    "# 5. Data Split \n",
    "모든 전처리와 y variable labeling이 완료되었다. train / valid / test data로 분할하고 용도에 맞게 ML, DL을 돌리도록 하자. "
   ]
  },
  {
   "cell_type": "code",
   "execution_count": null,
   "id": "216beca9",
   "metadata": {
    "collapsed": true
   },
   "outputs": [],
   "source": [
    "from sklearn.model_selection import train_test_split, cross_validate, StratifiedKFold, GridSearchCV\n",
    "\n",
    "# continous 값은 lgbm에서 classification 할 수 없음\n",
    "# conver 'float' to 'int'\n",
    "labeled_data = labeled_data.astype({'gain_label' : 'int'})\n",
    "\n",
    "# labeled된 data와 따로 관리 -> labeled data = labeled_data, model input data = input_data\n",
    "input_data = labeled_data.copy()\n",
    "\n",
    "input_data_y = input_data['gain_label'].copy()\n",
    "input_data_X = input_data.drop(['gain_label', 'monthly_gain'], axis=1)\n",
    "\n",
    "\n",
    "# LabelEncoder\n",
    "# y data를 LabelEncdoer로 한 번 더 labeling 합니다 -> 100만원, 10000만원... = 0, 1, ... \n",
    "# 추후에 DL에서 output을 맞춰주기 위함입니다, 최종 마지막에서 원래 label값(100만원, 1000만원...)으로 되돌립니다\n",
    "from sklearn.preprocessing import LabelEncoder\n",
    "\n",
    "le = LabelEncoder()\n",
    "input_data_y = le.fit_transform(list(input_data_y))\n",
    "print(\"original gain_label \\n\", le.classes_)\n",
    "print(\"gain_lable label \\n\", set(input_data_y))"
   ]
  },
  {
   "cell_type": "code",
   "execution_count": null,
   "id": "25cf1583",
   "metadata": {
    "collapsed": true
   },
   "outputs": [],
   "source": [
    "# train/ test data 로 split \n",
    "tr_val_X, test_X, tr_val_y, test_y = train_test_split(\n",
    "    input_data_X, \n",
    "    input_data_y, \n",
    "    test_size = 0.2, \n",
    "    random_state = 42,\n",
    "    shuffle=True,\n",
    "    stratify = input_data_y # Classification 중요 option\n",
    ")\n",
    "\n",
    "# valid/train 로 split\n",
    "train_X, valid_X, train_y, valid_y = train_test_split(\n",
    "    tr_val_X, \n",
    "    tr_val_y, \n",
    "    test_size = 0.2, \n",
    "    random_state = 42,\n",
    "    shuffle=True,\n",
    "    stratify = tr_val_y\n",
    ")"
   ]
  },
  {
   "cell_type": "markdown",
   "id": "977e012e",
   "metadata": {},
   "source": [
    "# 6. Modeling - ML, XGB, LGBM\n",
    "- shop_type_big, shop_type_small, geo, average_sale_price\n",
    "- XGB\n",
    "- LGBM\n",
    "- Multi-Class Classification "
   ]
  },
  {
   "cell_type": "code",
   "execution_count": null,
   "id": "705a33ef",
   "metadata": {
    "collapsed": true
   },
   "outputs": [],
   "source": [
    "# ml용 data에는 _ml을 붙여줍니다 \n",
    "X_column_ml = ['average_sale_price', 'shop_type_big_0',\n",
    "       'shop_type_big_1', 'shop_type_big_2', 'shop_type_big_3',\n",
    "       'shop_type_big_4', 'shop_type_small_0', 'shop_type_small_1',\n",
    "       'shop_type_small_2', 'shop_type_small_3', 'shop_type_small_4',\n",
    "       'shop_type_small_5', 'shop_type_small_6', 'geo']\n",
    "\n",
    "train_X_ml = train_X[X_column_ml].copy()\n",
    "valid_X_ml = valid_X[X_column_ml].copy()\n",
    "test_X_ml = test_X[X_column_ml].copy()\n",
    "\n",
    "print(len(train_X))\n",
    "print(len(train_X_ml))\n",
    "print(len(valid_X))\n",
    "print(len(valid_X_ml))\n",
    "print(len(test_X))\n",
    "print(len(test_X_ml))"
   ]
  },
  {
   "cell_type": "code",
   "execution_count": null,
   "id": "bca7d026",
   "metadata": {
    "collapsed": true
   },
   "outputs": [],
   "source": [
    "from lightgbm import LGBMClassifier\n",
    "from lightgbm import plot_importance \n",
    "from xgboost import XGBClassifier\n",
    "from xgboost import plot_importance\n",
    "from keras.callbacks import EarlyStopping, ModelCheckpoint\n",
    "# Learning task parameters\n",
    "# multi:softmax : softmax를 이용한 다중 클래스 분류 \n",
    "# multi:softptob : softmax를 이용한 다중 클래스에 대한 예상 확률 반환 \n",
    "# mlogloss : multiclass logloss \n",
    "\n",
    "model_xgb = XGBClassifier(\n",
    "    eval_metric='mlogloss', use_label_encoder=False)\n",
    "model_lgbm = LGBMClassifier(\n",
    "    eval_metric='mlogloss')"
   ]
  },
  {
   "cell_type": "code",
   "execution_count": 23,
   "id": "61858132",
   "metadata": {
    "collapsed": true
   },
   "outputs": [
    {
     "name": "stdout",
     "output_type": "stream",
     "text": [
      "[0]\tvalidation_0-mlogloss:1.65348\n",
      "[1]\tvalidation_0-mlogloss:1.42946\n",
      "[2]\tvalidation_0-mlogloss:1.31114\n",
      "[3]\tvalidation_0-mlogloss:1.23052\n",
      "[4]\tvalidation_0-mlogloss:1.17108\n",
      "[5]\tvalidation_0-mlogloss:1.12521\n",
      "[6]\tvalidation_0-mlogloss:1.08920\n",
      "[7]\tvalidation_0-mlogloss:1.06055\n",
      "[8]\tvalidation_0-mlogloss:1.03683\n",
      "[9]\tvalidation_0-mlogloss:1.01728\n",
      "[10]\tvalidation_0-mlogloss:1.00127\n",
      "[11]\tvalidation_0-mlogloss:0.98786\n",
      "[12]\tvalidation_0-mlogloss:0.97683\n",
      "[13]\tvalidation_0-mlogloss:0.96718\n",
      "[14]\tvalidation_0-mlogloss:0.95927\n",
      "[15]\tvalidation_0-mlogloss:0.95248\n",
      "[16]\tvalidation_0-mlogloss:0.94658\n",
      "[17]\tvalidation_0-mlogloss:0.94170\n",
      "[18]\tvalidation_0-mlogloss:0.93707\n",
      "[19]\tvalidation_0-mlogloss:0.93340\n",
      "[20]\tvalidation_0-mlogloss:0.93022\n",
      "[21]\tvalidation_0-mlogloss:0.92733\n",
      "[22]\tvalidation_0-mlogloss:0.92486\n",
      "[23]\tvalidation_0-mlogloss:0.92276\n",
      "[24]\tvalidation_0-mlogloss:0.92083\n",
      "[25]\tvalidation_0-mlogloss:0.91912\n",
      "[26]\tvalidation_0-mlogloss:0.91768\n",
      "[27]\tvalidation_0-mlogloss:0.91628\n",
      "[28]\tvalidation_0-mlogloss:0.91516\n",
      "[29]\tvalidation_0-mlogloss:0.91407\n",
      "[30]\tvalidation_0-mlogloss:0.91312\n",
      "[31]\tvalidation_0-mlogloss:0.91227\n",
      "[32]\tvalidation_0-mlogloss:0.91149\n",
      "[33]\tvalidation_0-mlogloss:0.91080\n",
      "[34]\tvalidation_0-mlogloss:0.91009\n",
      "[35]\tvalidation_0-mlogloss:0.90951\n",
      "[36]\tvalidation_0-mlogloss:0.90895\n",
      "[37]\tvalidation_0-mlogloss:0.90851\n",
      "[38]\tvalidation_0-mlogloss:0.90811\n",
      "[39]\tvalidation_0-mlogloss:0.90761\n",
      "[40]\tvalidation_0-mlogloss:0.90705\n",
      "[41]\tvalidation_0-mlogloss:0.90662\n",
      "[42]\tvalidation_0-mlogloss:0.90609\n",
      "[43]\tvalidation_0-mlogloss:0.90573\n",
      "[44]\tvalidation_0-mlogloss:0.90532\n",
      "[45]\tvalidation_0-mlogloss:0.90504\n",
      "[46]\tvalidation_0-mlogloss:0.90459\n",
      "[47]\tvalidation_0-mlogloss:0.90415\n",
      "[48]\tvalidation_0-mlogloss:0.90362\n",
      "[49]\tvalidation_0-mlogloss:0.90326\n",
      "[50]\tvalidation_0-mlogloss:0.90283\n",
      "[51]\tvalidation_0-mlogloss:0.90239\n",
      "[52]\tvalidation_0-mlogloss:0.90205\n",
      "[53]\tvalidation_0-mlogloss:0.90165\n",
      "[54]\tvalidation_0-mlogloss:0.90134\n",
      "[55]\tvalidation_0-mlogloss:0.90086\n",
      "[56]\tvalidation_0-mlogloss:0.90051\n",
      "[57]\tvalidation_0-mlogloss:0.90020\n",
      "[58]\tvalidation_0-mlogloss:0.89994\n",
      "[59]\tvalidation_0-mlogloss:0.89951\n",
      "[60]\tvalidation_0-mlogloss:0.89898\n",
      "[61]\tvalidation_0-mlogloss:0.89844\n",
      "[62]\tvalidation_0-mlogloss:0.89809\n",
      "[63]\tvalidation_0-mlogloss:0.89777\n",
      "[64]\tvalidation_0-mlogloss:0.89750\n",
      "[65]\tvalidation_0-mlogloss:0.89721\n",
      "[66]\tvalidation_0-mlogloss:0.89687\n",
      "[67]\tvalidation_0-mlogloss:0.89663\n",
      "[68]\tvalidation_0-mlogloss:0.89645\n",
      "[69]\tvalidation_0-mlogloss:0.89609\n",
      "[70]\tvalidation_0-mlogloss:0.89573\n",
      "[71]\tvalidation_0-mlogloss:0.89550\n",
      "[72]\tvalidation_0-mlogloss:0.89533\n",
      "[73]\tvalidation_0-mlogloss:0.89508\n",
      "[74]\tvalidation_0-mlogloss:0.89478\n",
      "[75]\tvalidation_0-mlogloss:0.89460\n",
      "[76]\tvalidation_0-mlogloss:0.89418\n",
      "[77]\tvalidation_0-mlogloss:0.89385\n",
      "[78]\tvalidation_0-mlogloss:0.89360\n",
      "[79]\tvalidation_0-mlogloss:0.89336\n",
      "[80]\tvalidation_0-mlogloss:0.89307\n",
      "[81]\tvalidation_0-mlogloss:0.89281\n",
      "[82]\tvalidation_0-mlogloss:0.89248\n",
      "[83]\tvalidation_0-mlogloss:0.89222\n",
      "[84]\tvalidation_0-mlogloss:0.89206\n",
      "[85]\tvalidation_0-mlogloss:0.89182\n",
      "[86]\tvalidation_0-mlogloss:0.89160\n",
      "[87]\tvalidation_0-mlogloss:0.89136\n",
      "[88]\tvalidation_0-mlogloss:0.89124\n",
      "[89]\tvalidation_0-mlogloss:0.89097\n",
      "[90]\tvalidation_0-mlogloss:0.89069\n",
      "[91]\tvalidation_0-mlogloss:0.89055\n",
      "[92]\tvalidation_0-mlogloss:0.89040\n",
      "[93]\tvalidation_0-mlogloss:0.89025\n",
      "[94]\tvalidation_0-mlogloss:0.89008\n",
      "[95]\tvalidation_0-mlogloss:0.88980\n",
      "[96]\tvalidation_0-mlogloss:0.88958\n",
      "[97]\tvalidation_0-mlogloss:0.88935\n",
      "[98]\tvalidation_0-mlogloss:0.88915\n",
      "[99]\tvalidation_0-mlogloss:0.88905\n"
     ]
    },
    {
     "data": {
      "text/plain": [
       "XGBClassifier(base_score=0.5, booster='gbtree', colsample_bylevel=1,\n",
       "              colsample_bynode=1, colsample_bytree=1, enable_categorical=False,\n",
       "              eval_metric='mlogloss', gamma=0, gpu_id=-1, importance_type=None,\n",
       "              interaction_constraints='', learning_rate=0.300000012,\n",
       "              max_delta_step=0, max_depth=6, min_child_weight=1, missing=nan,\n",
       "              monotone_constraints='()', n_estimators=100, n_jobs=8,\n",
       "              num_parallel_tree=1, objective='multi:softprob', predictor='auto',\n",
       "              random_state=0, reg_alpha=0, reg_lambda=1, scale_pos_weight=None,\n",
       "              subsample=1, tree_method='exact', use_label_encoder=False,\n",
       "              validate_parameters=1, ...)"
      ]
     },
     "execution_count": 23,
     "metadata": {},
     "output_type": "execute_result"
    }
   ],
   "source": [
    "model_xgb.fit(train_X_ml, train_y, eval_set=[(valid_X_ml, valid_y)])"
   ]
  },
  {
   "cell_type": "code",
   "execution_count": 43,
   "id": "4811955d",
   "metadata": {
    "collapsed": true
   },
   "outputs": [
    {
     "name": "stdout",
     "output_type": "stream",
     "text": [
      "[LightGBM] [Warning] Unknown parameter: eval_metric\n",
      "[1]\tvalid_0's multi_logloss: 1.94581\n",
      "[2]\tvalid_0's multi_logloss: 1.79979\n",
      "[3]\tvalid_0's multi_logloss: 1.74459\n",
      "[4]\tvalid_0's multi_logloss: 1.67524\n",
      "[5]\tvalid_0's multi_logloss: 1.61679\n",
      "[6]\tvalid_0's multi_logloss: 1.56206\n",
      "[7]\tvalid_0's multi_logloss: 1.51703\n",
      "[8]\tvalid_0's multi_logloss: 1.49532\n",
      "[9]\tvalid_0's multi_logloss: 1.45794\n",
      "[10]\tvalid_0's multi_logloss: 1.4888\n",
      "[11]\tvalid_0's multi_logloss: 1.44858\n",
      "[12]\tvalid_0's multi_logloss: 1.49617\n",
      "[13]\tvalid_0's multi_logloss: 1.50296\n",
      "[14]\tvalid_0's multi_logloss: 1.50423\n",
      "[15]\tvalid_0's multi_logloss: 1.60593\n",
      "[16]\tvalid_0's multi_logloss: 1.53721\n",
      "[17]\tvalid_0's multi_logloss: 1.71972\n",
      "[18]\tvalid_0's multi_logloss: 1.61872\n",
      "[19]\tvalid_0's multi_logloss: 1.78572\n",
      "[20]\tvalid_0's multi_logloss: 1.7507\n",
      "[21]\tvalid_0's multi_logloss: 1.76327\n",
      "[22]\tvalid_0's multi_logloss: 1.75802\n",
      "[23]\tvalid_0's multi_logloss: 2.03794\n",
      "[24]\tvalid_0's multi_logloss: 1.92961\n",
      "[25]\tvalid_0's multi_logloss: 2.04347\n",
      "[26]\tvalid_0's multi_logloss: 2.10214\n",
      "[27]\tvalid_0's multi_logloss: 2.33196\n",
      "[28]\tvalid_0's multi_logloss: 2.47464\n",
      "[29]\tvalid_0's multi_logloss: 2.42432\n",
      "[30]\tvalid_0's multi_logloss: 3.15264\n",
      "[31]\tvalid_0's multi_logloss: 3.1357\n",
      "[32]\tvalid_0's multi_logloss: 3.61432\n",
      "[33]\tvalid_0's multi_logloss: 3.73409\n",
      "[34]\tvalid_0's multi_logloss: 4.06913\n",
      "[35]\tvalid_0's multi_logloss: 4.24816\n",
      "[36]\tvalid_0's multi_logloss: 4.62498\n",
      "[37]\tvalid_0's multi_logloss: 4.92984\n",
      "[38]\tvalid_0's multi_logloss: 5.17382\n",
      "[39]\tvalid_0's multi_logloss: 5.01868\n",
      "[40]\tvalid_0's multi_logloss: 5.64001\n",
      "[41]\tvalid_0's multi_logloss: 5.87511\n",
      "[42]\tvalid_0's multi_logloss: 6.79741\n",
      "[43]\tvalid_0's multi_logloss: 6.20561\n",
      "[44]\tvalid_0's multi_logloss: 6.22357\n",
      "[45]\tvalid_0's multi_logloss: 7.18109\n",
      "[46]\tvalid_0's multi_logloss: 6.76446\n",
      "[47]\tvalid_0's multi_logloss: 7.23356\n",
      "[48]\tvalid_0's multi_logloss: 7.2401\n",
      "[49]\tvalid_0's multi_logloss: 7.51629\n",
      "[50]\tvalid_0's multi_logloss: 7.35929\n",
      "[51]\tvalid_0's multi_logloss: 8.24569\n",
      "[52]\tvalid_0's multi_logloss: 8.98445\n",
      "[53]\tvalid_0's multi_logloss: 8.70846\n",
      "[54]\tvalid_0's multi_logloss: 9.51876\n",
      "[55]\tvalid_0's multi_logloss: 8.53063\n",
      "[56]\tvalid_0's multi_logloss: 10.5894\n",
      "[57]\tvalid_0's multi_logloss: 9.95048\n",
      "[58]\tvalid_0's multi_logloss: 12.079\n",
      "[59]\tvalid_0's multi_logloss: 11.3288\n",
      "[60]\tvalid_0's multi_logloss: 10.6588\n",
      "[61]\tvalid_0's multi_logloss: 12.2398\n",
      "[62]\tvalid_0's multi_logloss: 11.7026\n",
      "[63]\tvalid_0's multi_logloss: 12.6344\n",
      "[64]\tvalid_0's multi_logloss: 12.175\n",
      "[65]\tvalid_0's multi_logloss: 12.7128\n",
      "[66]\tvalid_0's multi_logloss: 11.2549\n",
      "[67]\tvalid_0's multi_logloss: 12.5126\n",
      "[68]\tvalid_0's multi_logloss: 13.7936\n",
      "[69]\tvalid_0's multi_logloss: 13.8924\n",
      "[70]\tvalid_0's multi_logloss: 13.15\n",
      "[71]\tvalid_0's multi_logloss: 13.9378\n",
      "[72]\tvalid_0's multi_logloss: 13.3073\n",
      "[73]\tvalid_0's multi_logloss: 14.9433\n",
      "[74]\tvalid_0's multi_logloss: 15.1437\n",
      "[75]\tvalid_0's multi_logloss: 15.0009\n",
      "[76]\tvalid_0's multi_logloss: 16.1257\n",
      "[77]\tvalid_0's multi_logloss: 16.1539\n",
      "[78]\tvalid_0's multi_logloss: 15.6074\n",
      "[79]\tvalid_0's multi_logloss: 17.7174\n",
      "[80]\tvalid_0's multi_logloss: 16.9007\n",
      "[81]\tvalid_0's multi_logloss: 17.5996\n",
      "[82]\tvalid_0's multi_logloss: 17.8624\n",
      "[83]\tvalid_0's multi_logloss: 18.4336\n",
      "[84]\tvalid_0's multi_logloss: 18.9\n",
      "[85]\tvalid_0's multi_logloss: 18.9958\n",
      "[86]\tvalid_0's multi_logloss: 19.1241\n",
      "[87]\tvalid_0's multi_logloss: 18.8811\n",
      "[88]\tvalid_0's multi_logloss: 18.616\n",
      "[89]\tvalid_0's multi_logloss: 19.1929\n",
      "[90]\tvalid_0's multi_logloss: 19.9184\n",
      "[91]\tvalid_0's multi_logloss: 19.6535\n",
      "[92]\tvalid_0's multi_logloss: 19.7639\n",
      "[93]\tvalid_0's multi_logloss: 20.4124\n",
      "[94]\tvalid_0's multi_logloss: 21.4662\n",
      "[95]\tvalid_0's multi_logloss: 22.6765\n",
      "[96]\tvalid_0's multi_logloss: 23.2124\n",
      "[97]\tvalid_0's multi_logloss: 24.0687\n",
      "[98]\tvalid_0's multi_logloss: 26.5583\n",
      "[99]\tvalid_0's multi_logloss: 27.0096\n",
      "[100]\tvalid_0's multi_logloss: 24.0694\n"
     ]
    },
    {
     "data": {
      "text/plain": [
       "LGBMClassifier(eval_metric='mlogloss')"
      ]
     },
     "execution_count": 43,
     "metadata": {},
     "output_type": "execute_result"
    }
   ],
   "source": [
    "model_lgbm.fit(train_X_ml, train_y, eval_set=[(valid_X_ml, valid_y)])"
   ]
  },
  {
   "cell_type": "code",
   "execution_count": 44,
   "id": "c0bd44f5",
   "metadata": {
    "collapsed": true
   },
   "outputs": [],
   "source": [
    "#pred_xgb_prob = model_xgb.predict_proba(test_X_ml)\n",
    "#pred_xgb = np.argmax(pred_xgb_prob, axis=1)\n",
    "\n",
    "pred_lgbm_prob = model_lgbm.predict_proba(test_X_ml)\n",
    "pred_lgbm = np.argmax(pred_lgbm_prob, axis=1)\n",
    "\n",
    "#pred_xgb"
   ]
  },
  {
   "cell_type": "markdown",
   "id": "826e4c74",
   "metadata": {},
   "source": [
    "## 7. Modeling - DL, NLP, shop_name\n",
    "word embedding and embedding vector\n",
    "\n",
    "1. make vocabulary set (tk)\n",
    "2. using vocab set -> index encoding (seq_data)\n",
    "3. padding with 0 -> pad_seq_data\n",
    "- vocabulary set (tk)\n",
    "    - shop_name : 116,918 개의 단어 set\n",
    "    - shop_name + shop_type_big + shop_type_small : 114,967 개의 단어 set\n",
    "- nlp input length -> 13\n",
    "    - shop_name : 8\n",
    "    - shop_type_big : 3\n",
    "    - shop_type_small : 5\n",
    "    - text_concat : 15\n",
    "- shop_name : 0.75 acc\n",
    "- shop_name + shop_type_big + shop_type_small : 0.80\n",
    "- shop_name + shop_type_big + shop_type_small + geo : 0.80"
   ]
  },
  {
   "cell_type": "code",
   "execution_count": null,
   "id": "d3ed7d7e",
   "metadata": {
    "collapsed": true
   },
   "outputs": [],
   "source": [
    "input_data"
   ]
  },
  {
   "cell_type": "code",
   "execution_count": 27,
   "id": "af3b0a12",
   "metadata": {
    "collapsed": true
   },
   "outputs": [
    {
     "name": "stdout",
     "output_type": "stream",
     "text": [
      "[('전문점', 1), ('미분류', 2), ('음식', 3), ('카페', 4), ('한식', 5), ('소매', 6), ('분식', 7), ('커피숍', 8), ('다방', 9), ('디저트', 10), ('유흥주점', 11), ('강남구', 12), ('퓨전요리', 13), ('별식', 14), ('수산물', 15), ('마포구', 16), ('편의점', 17), ('송파구', 18), ('일반', 19), ('영등포구', 20)]\n",
      "\n",
      "vocab words 개수 :  114955\n"
     ]
    }
   ],
   "source": [
    "from keras.preprocessing.text import Tokenizer\n",
    "\n",
    "tk = Tokenizer()\n",
    "tk.fit_on_texts(input_data['concat_text'])\n",
    "\n",
    "print(list(tk.word_index.items())[:20])\n",
    "print(\"\\nvocab words 개수 : \", len(tk.word_index.items()))"
   ]
  },
  {
   "cell_type": "code",
   "execution_count": 28,
   "id": "bd57e06d",
   "metadata": {
    "collapsed": true
   },
   "outputs": [
    {
     "name": "stdout",
     "output_type": "stream",
     "text": [
      "seq_data[0]:  [12994, 67, 137, 67, 43, 259]\n",
      "pad_seq_data.shpae:  (2694599, 16)\n",
      "nlp_input_length 16\n"
     ]
    }
   ],
   "source": [
    "# test for nlp input length \n",
    "# shop_name, shop_type_big, shop_type_small, text_concat 중 가장  긴 input length 찾아야 함 \n",
    "from keras.preprocessing.sequence import pad_sequences\n",
    "\n",
    "seq_data = tk.texts_to_sequences(input_data['concat_text'])\n",
    "print(\"seq_data[0]: \", seq_data[0])\n",
    "\n",
    "pad_seq_data = pad_sequences(seq_data)\n",
    "print(\"pad_seq_data.shpae: \", pad_seq_data.shape)\n",
    "\n",
    "nlp_input_length = pad_seq_data[0].shape[0]\n",
    "print(\"nlp_input_length\", nlp_input_length)"
   ]
  },
  {
   "cell_type": "code",
   "execution_count": 29,
   "id": "1e3a814d",
   "metadata": {
    "collapsed": true
   },
   "outputs": [
    {
     "name": "stdout",
     "output_type": "stream",
     "text": [
      "1724543\n",
      "1724543\n",
      "431136\n",
      "431136\n",
      "538920\n",
      "538920\n"
     ]
    }
   ],
   "source": [
    "def word_embedding(df, nlp_input_length) :\n",
    "    seq_data = tk.texts_to_sequences(df)\n",
    "    pad_seq_data = pad_sequences(seq_data, nlp_input_length)\n",
    "    word_embedding = pad_seq_data\n",
    "    return word_embedding\n",
    "\n",
    "train_X_dl = word_embedding(train_X['concat_text'], nlp_input_length)\n",
    "valid_X_dl = word_embedding(valid_X['concat_text'], nlp_input_length)\n",
    "test_X_dl = word_embedding(test_X['concat_text'], nlp_input_length)\n",
    "\n",
    "print(len(train_X))\n",
    "print(len(train_X_dl))\n",
    "print(len(valid_X))\n",
    "print(len(valid_X_dl))\n",
    "print(len(test_X))\n",
    "print(len(test_X_dl))   "
   ]
  },
  {
   "cell_type": "code",
   "execution_count": 30,
   "id": "2fc47032",
   "metadata": {
    "collapsed": true
   },
   "outputs": [
    {
     "name": "stdout",
     "output_type": "stream",
     "text": [
      "Model: \"sequential\"\n",
      "_________________________________________________________________\n",
      " Layer (type)                Output Shape              Param #   \n",
      "=================================================================\n",
      " embedding (Embedding)       (None, 16, 10)            1149560   \n",
      "                                                                 \n",
      " flatten (Flatten)           (None, 160)               0         \n",
      "                                                                 \n",
      " dense (Dense)               (None, 64)                10304     \n",
      "                                                                 \n",
      " dense_1 (Dense)             (None, 45)                2925      \n",
      "                                                                 \n",
      "=================================================================\n",
      "Total params: 1,162,789\n",
      "Trainable params: 1,162,789\n",
      "Non-trainable params: 0\n",
      "_________________________________________________________________\n"
     ]
    }
   ],
   "source": [
    "from keras import Sequential\n",
    "from keras.layers import *\n",
    "import tensorflow as tf\n",
    "import keras\n",
    "from keras.callbacks import EarlyStopping, ModelCheckpoint, ReduceLROnPlateau\n",
    "\n",
    "def create_model(input_dim, output_dim, input_length) : \n",
    "    model = Sequential()\n",
    "    # 1 워드 임베딩 학습 \n",
    "    model.add(Embedding(input_dim, output_dim, input_length = input_length))\n",
    "    \n",
    "    # Classification 학습 \n",
    "    model.add(Flatten())\n",
    "    model.add(Dense(64, activation='relu'))\n",
    "    model.add(Dense(len(set(input_data_y)), activation='softmax'))\n",
    "    \n",
    "    model.compile(loss='sparse_categorical_crossentropy', optimizer='adam', metrics=['accuracy'])\n",
    "    return model\n",
    "\n",
    "\n",
    "input_dim = len(tk.word_index) + 1 # vocab size + padding index =114,537 + 1 = 114,538\n",
    "output_dim = 10\n",
    "input_length = nlp_input_length\n",
    "\n",
    "model = create_model(input_dim, output_dim, input_length)\n",
    "model.summary()"
   ]
  },
  {
   "cell_type": "code",
   "execution_count": 31,
   "id": "c6a9ab8a",
   "metadata": {
    "collapsed": true
   },
   "outputs": [
    {
     "name": "stdout",
     "output_type": "stream",
     "text": [
      "Epoch 1/10\n",
      "26946/26946 [==============================] - 390s 14ms/step - loss: 0.6503 - accuracy: 0.7287 - val_loss: 0.5219 - val_accuracy: 0.7843\n",
      "Epoch 2/10\n",
      "26946/26946 [==============================] - 354s 13ms/step - loss: 0.4829 - accuracy: 0.7991 - val_loss: 0.5036 - val_accuracy: 0.7904\n",
      "Epoch 3/10\n",
      "26946/26946 [==============================] - 355s 13ms/step - loss: 0.4618 - accuracy: 0.8069 - val_loss: 0.4992 - val_accuracy: 0.7934\n",
      "Epoch 4/10\n",
      "26946/26946 [==============================] - 417s 15ms/step - loss: 0.4524 - accuracy: 0.8105 - val_loss: 0.4988 - val_accuracy: 0.7940\n",
      "Epoch 5/10\n",
      "26946/26946 [==============================] - 425s 16ms/step - loss: 0.4472 - accuracy: 0.8122 - val_loss: 0.4949 - val_accuracy: 0.7962\n",
      "Epoch 6/10\n",
      "26946/26946 [==============================] - 426s 16ms/step - loss: 0.4437 - accuracy: 0.8137 - val_loss: 0.4964 - val_accuracy: 0.7961\n",
      "Epoch 7/10\n",
      "26946/26946 [==============================] - 429s 16ms/step - loss: 0.4415 - accuracy: 0.8146 - val_loss: 0.4958 - val_accuracy: 0.7962\n",
      "Epoch 8/10\n",
      "26946/26946 [==============================] - 425s 16ms/step - loss: 0.4398 - accuracy: 0.8153 - val_loss: 0.4984 - val_accuracy: 0.7960\n",
      "Epoch 9/10\n",
      "26946/26946 [==============================] - 424s 16ms/step - loss: 0.4386 - accuracy: 0.8153 - val_loss: 0.4966 - val_accuracy: 0.7958\n",
      "Epoch 10/10\n",
      "26946/26946 [==============================] - 377s 14ms/step - loss: 0.4377 - accuracy: 0.8158 - val_loss: 0.4973 - val_accuracy: 0.7961\n"
     ]
    }
   ],
   "source": [
    "hist = model.fit(train_X_dl, train_y, validation_data=(valid_X_dl, valid_y), epochs=10, batch_size=64)"
   ]
  },
  {
   "cell_type": "code",
   "execution_count": 32,
   "id": "e7ab13ef",
   "metadata": {
    "collapsed": true
   },
   "outputs": [
    {
     "data": {
      "image/png": "[encoded data removed]",
      "text/plain": [
       "<Figure size 432x288 with 1 Axes>"
      ]
     },
     "metadata": {
      "needs_background": "light"
     },
     "output_type": "display_data"
    }
   ],
   "source": [
    "plt.plot(hist.history['loss'], label='loss')\n",
    "plt.plot(hist.history['val_loss'], label='test loss')\n",
    "plt.xticks(range(len(hist.history['loss'])))\n",
    "plt.xlabel('epoch')\n",
    "plt.ylabel('precision')\n",
    "plt.legend(loc='lower right')\n",
    "plt.grid(True)\n",
    "plt.show()\n",
    "# valid loss가 올라가는 순간 train data에 overfitting \n",
    "# epoch 중에 2,3 번까지만 하는 것이 가장 학습이 잘 되는 것으로 보임 -> epoch:20 -> epoch:3"
   ]
  },
  {
   "cell_type": "code",
   "execution_count": 33,
   "id": "b9e41709",
   "metadata": {
    "collapsed": true
   },
   "outputs": [
    {
     "data": {
      "text/plain": [
       "array([36,  5, 44, ..., 35, 11, 19], dtype=int64)"
      ]
     },
     "execution_count": 33,
     "metadata": {},
     "output_type": "execute_result"
    }
   ],
   "source": [
    "pred_dl_prob = model.predict(test_X_dl)\n",
    "pred_dl = np.argmax(pred_dl_prob, axis=1)\n",
    "\n",
    "pred_dl"
   ]
  },
  {
   "cell_type": "markdown",
   "id": "0201440a",
   "metadata": {},
   "source": [
    "# 7. Evaluation\n",
    "- precision(정밀도) : True -> True \n",
    "- Recall(재현율) : True인 것을 맞춘 비율 \n",
    "- F1 score : precision 과 recall의 조화평균"
   ]
  },
  {
   "cell_type": "code",
   "execution_count": 23,
   "id": "4e53e2b3",
   "metadata": {
    "collapsed": true
   },
   "outputs": [],
   "source": [
    "from sklearn.metrics import accuracy_score, classification_report, confusion_matrix, f1_score\n",
    "\n",
    "def show_pred(test_y, pred) :\n",
    "    true_y = test_y.to_numpy()\n",
    "    true_y = np.ravel(true_y)\n",
    "    \n",
    "    df_result = pd.DataFrame(list(zip(true_y, pred)), columns=['true_y', 'prediction'])\n",
    "    return df_result\n",
    "    \n",
    "def show_prediction_error(test_y, pred) :\n",
    "    true_y = test_y.to_numpy()\n",
    "    true_y = np.ravel(true_y)\n",
    "    error = pred - true_y\n",
    "    plt.hist(error, bins=25)\n",
    "    plt.xlabel(\"Prediction Error\")\n",
    "    _ = plt.ylabel(\"Count\")\n",
    "    \n",
    "def feature_importance(model_xgb) : \n",
    "    %matplotlib inline\n",
    "    plt.rcParams['axes.unicode_minus'] = False\n",
    "    font_path = \"C:/Windows/Fonts/NGULIM.TTF\"\n",
    "    font = fm.FontProperties(fname=font_path).get_name()\n",
    "    rc('font', family=font)\n",
    "\n",
    "    fig, ax = plt.subplots(figsize=(10,12))\n",
    "    plot_importance(model_xgb, ax=ax)\n",
    "    \n",
    "def graph(pred, test_label) :\n",
    "    plt.figure(figsize=(16, 9))\n",
    "    plt.plot(test_label, label = 'actual')\n",
    "    plt.plot(pred, label = 'prediction')\n",
    "    plt.legend()\n",
    "    plt.show()\n",
    "\n",
    "def classification_report_csv(report) : \n",
    "    df = pd.DataFrame(report).transpose()\n",
    "    df.to_csv('classfication_report.csv', index=False)"
   ]
  },
  {
   "cell_type": "code",
   "execution_count": 35,
   "id": "cad9c06d",
   "metadata": {
    "collapsed": true
   },
   "outputs": [
    {
     "name": "stderr",
     "output_type": "stream",
     "text": [
      "C:\\Users\\mtang\\anaconda3\\lib\\site-packages\\sklearn\\metrics\\_classification.py:1245: UndefinedMetricWarning: Precision and F-score are ill-defined and being set to 0.0 in labels with no predicted samples. Use `zero_division` parameter to control this behavior.\n",
      "  _warn_prf(average, modifier, msg_start, len(result))\n",
      "C:\\Users\\mtang\\anaconda3\\lib\\site-packages\\sklearn\\metrics\\_classification.py:1245: UndefinedMetricWarning: Precision and F-score are ill-defined and being set to 0.0 in labels with no predicted samples. Use `zero_division` parameter to control this behavior.\n",
      "  _warn_prf(average, modifier, msg_start, len(result))\n"
     ]
    },
    {
     "name": "stdout",
     "output_type": "stream",
     "text": [
      "              precision    recall  f1-score   support\n",
      "\n",
      "           0       0.72      0.71      0.71     22760\n",
      "           1       0.67      1.00      0.80         2\n",
      "           2       0.75      0.85      0.80      4910\n",
      "           3       0.80      0.80      0.80     15917\n",
      "           4       0.82      0.71      0.76      9413\n",
      "           5       0.81      0.71      0.76     12738\n",
      "           6       0.67      0.80      0.73         5\n",
      "           7       0.81      0.76      0.79      6527\n",
      "           8       0.82      0.72      0.77     27195\n",
      "           9       0.79      0.69      0.74     10681\n",
      "          10       0.85      0.79      0.82       686\n",
      "          11       0.79      0.81      0.80     45519\n",
      "          12       0.79      0.84      0.81      1245\n",
      "          13       0.00      0.00      0.00         2\n",
      "          14       0.84      0.67      0.75      5621\n",
      "          15       0.87      0.88      0.87     17952\n",
      "          16       0.82      0.85      0.83     31834\n",
      "          17       0.82      0.70      0.76      4174\n",
      "          18       0.83      0.72      0.77      6566\n",
      "          19       0.77      0.86      0.81     18826\n",
      "          20       0.78      0.85      0.81     25477\n",
      "          21       0.86      0.82      0.84      9820\n",
      "          22       0.78      0.84      0.81     21362\n",
      "          23       0.82      0.85      0.83     13055\n",
      "          24       0.84      0.82      0.83      1372\n",
      "          25       0.77      0.87      0.82     54389\n",
      "          26       0.85      0.78      0.81      2489\n",
      "          27       0.80      0.72      0.76     10890\n",
      "          28       0.79      0.84      0.81      8349\n",
      "          29       0.73      0.67      0.70     12653\n",
      "          30       0.77      0.87      0.82     11242\n",
      "          31       0.77      0.87      0.81     13132\n",
      "          32       0.76      0.70      0.73      8868\n",
      "          33       0.77      0.66      0.71      7013\n",
      "          34       0.76      0.72      0.74      7536\n",
      "          35       0.88      0.88      0.88     35903\n",
      "          36       0.79      0.77      0.78      4211\n",
      "          37       0.70      0.81      0.75       449\n",
      "          38       0.89      0.84      0.86      3833\n",
      "          39       0.80      0.65      0.72     19167\n",
      "          40       0.75      0.74      0.75      2962\n",
      "          41       0.75      0.68      0.71      3949\n",
      "          42       0.67      0.79      0.73       766\n",
      "          43       0.77      0.64      0.70      4844\n",
      "          44       0.83      0.82      0.82     12616\n",
      "\n",
      "    accuracy                           0.80    538920\n",
      "   macro avg       0.77      0.76      0.76    538920\n",
      "weighted avg       0.80      0.80      0.80    538920\n",
      "\n"
     ]
    },
    {
     "name": "stderr",
     "output_type": "stream",
     "text": [
      "C:\\Users\\mtang\\anaconda3\\lib\\site-packages\\sklearn\\metrics\\_classification.py:1245: UndefinedMetricWarning: Precision and F-score are ill-defined and being set to 0.0 in labels with no predicted samples. Use `zero_division` parameter to control this behavior.\n",
      "  _warn_prf(average, modifier, msg_start, len(result))\n"
     ]
    }
   ],
   "source": [
    "# DL model \n",
    "print(classification_report(test_y, pred_dl)) # word embedding "
   ]
  },
  {
   "cell_type": "code",
   "execution_count": 36,
   "id": "89def36c",
   "metadata": {
    "collapsed": true
   },
   "outputs": [
    {
     "name": "stdout",
     "output_type": "stream",
     "text": [
      "              precision    recall  f1-score   support\n",
      "\n",
      "           0       0.79      0.18      0.30     22760\n",
      "           1       1.00      0.50      0.67         2\n",
      "           2       0.61      0.33      0.43      4910\n",
      "           3       0.68      0.07      0.13     15917\n",
      "           4       0.61      0.16      0.26      9413\n",
      "           5       0.63      0.33      0.43     12738\n",
      "           6       0.80      0.80      0.80         5\n",
      "           7       0.55      0.23      0.32      6527\n",
      "           8       0.60      0.32      0.42     27195\n",
      "           9       0.60      0.15      0.24     10681\n",
      "          10       0.63      0.35      0.45       686\n",
      "          11       0.59      0.98      0.73     45519\n",
      "          12       0.57      0.44      0.49      1245\n",
      "          13       0.67      1.00      0.80         2\n",
      "          14       0.57      0.31      0.41      5621\n",
      "          15       0.64      0.68      0.66     17952\n",
      "          16       0.55      0.98      0.71     31834\n",
      "          17       0.61      0.20      0.30      4174\n",
      "          18       0.60      0.25      0.35      6566\n",
      "          19       0.55      0.94      0.70     18826\n",
      "          20       0.58      0.90      0.71     25477\n",
      "          21       0.57      0.81      0.67      9820\n",
      "          22       0.56      0.93      0.70     21362\n",
      "          23       0.60      0.87      0.71     13055\n",
      "          24       0.61      0.85      0.71      1372\n",
      "          25       0.57      0.89      0.70     54389\n",
      "          26       0.60      0.84      0.70      2489\n",
      "          27       0.49      0.02      0.05     10890\n",
      "          28       0.57      0.92      0.70      8349\n",
      "          29       0.53      0.01      0.02     12653\n",
      "          30       0.58      0.87      0.70     11242\n",
      "          31       0.56      0.91      0.70     13132\n",
      "          32       0.52      0.06      0.11      8868\n",
      "          33       0.46      0.03      0.06      7013\n",
      "          34       0.53      0.13      0.21      7536\n",
      "          35       0.64      0.82      0.72     35903\n",
      "          36       0.61      0.29      0.40      4211\n",
      "          37       0.48      0.22      0.30       449\n",
      "          38       0.49      0.27      0.34      3833\n",
      "          39       0.51      0.05      0.09     19167\n",
      "          40       0.55      0.12      0.20      2962\n",
      "          41       0.51      0.10      0.17      3949\n",
      "          42       0.34      0.02      0.04       766\n",
      "          43       0.52      0.06      0.11      4844\n",
      "          44       0.48      0.04      0.08     12616\n",
      "\n",
      "    accuracy                           0.58    538920\n",
      "   macro avg       0.58      0.45      0.43    538920\n",
      "weighted avg       0.58      0.58      0.50    538920\n",
      "\n"
     ]
    }
   ],
   "source": [
    "# ML model\n",
    "#report = classification_report(test_y, pred_xgb, output_dict=True)\n",
    "print(classification_report(test_y, pred_xgb))\n",
    "#classification_report_csv(report)"
   ]
  },
  {
   "cell_type": "code",
   "execution_count": 45,
   "id": "a244881c",
   "metadata": {
    "collapsed": true
   },
   "outputs": [
    {
     "name": "stderr",
     "output_type": "stream",
     "text": [
      "C:\\Users\\mtang\\anaconda3\\lib\\site-packages\\sklearn\\metrics\\_classification.py:1245: UndefinedMetricWarning: Precision and F-score are ill-defined and being set to 0.0 in labels with no predicted samples. Use `zero_division` parameter to control this behavior.\n",
      "  _warn_prf(average, modifier, msg_start, len(result))\n",
      "C:\\Users\\mtang\\anaconda3\\lib\\site-packages\\sklearn\\metrics\\_classification.py:1245: UndefinedMetricWarning: Precision and F-score are ill-defined and being set to 0.0 in labels with no predicted samples. Use `zero_division` parameter to control this behavior.\n",
      "  _warn_prf(average, modifier, msg_start, len(result))\n"
     ]
    },
    {
     "name": "stdout",
     "output_type": "stream",
     "text": [
      "              precision    recall  f1-score   support\n",
      "\n",
      "           0       0.30      0.67      0.41    146388\n",
      "           1       0.00      0.00      0.00         5\n",
      "           2       0.53      0.22      0.31     45519\n",
      "           3       0.16      0.04      0.06     31834\n",
      "           4       0.06      0.04      0.05     18826\n",
      "           5       0.41      0.37      0.39     25477\n",
      "           6       0.09      0.10      0.09      9820\n",
      "           7       0.13      0.20      0.16     21362\n",
      "           8       0.00      0.00      0.00         2\n",
      "           9       0.44      0.09      0.14     13054\n",
      "          10       0.51      0.10      0.16      1372\n",
      "          11       0.51      0.13      0.20     54389\n",
      "          12       0.26      0.38      0.31      2489\n",
      "          13       0.11      0.05      0.07      8349\n",
      "          14       0.39      0.16      0.23     11242\n",
      "          15       0.50      0.59      0.54     13132\n",
      "          16       0.53      0.13      0.20     35903\n",
      "          17       0.11      0.01      0.01     10890\n",
      "          18       0.16      0.05      0.08     12653\n",
      "          19       0.25      0.24      0.24      8868\n",
      "          20       0.01      0.00      0.01      7013\n",
      "          21       0.18      0.14      0.16      7536\n",
      "          22       0.09      0.07      0.08      4211\n",
      "          23       0.01      0.01      0.01       449\n",
      "          24       0.31      0.19      0.23      2962\n",
      "          25       0.26      0.30      0.28     19167\n",
      "          26       0.13      0.00      0.00      3833\n",
      "          27       0.23      0.14      0.18      4844\n",
      "          28       0.24      0.06      0.10      3949\n",
      "          29       0.12      0.04      0.06       766\n",
      "          30       0.10      0.01      0.01     12616\n",
      "\n",
      "    accuracy                           0.30    538920\n",
      "   macro avg       0.23      0.15      0.15    538920\n",
      "weighted avg       0.32      0.30      0.25    538920\n",
      "\n"
     ]
    },
    {
     "name": "stderr",
     "output_type": "stream",
     "text": [
      "C:\\Users\\mtang\\anaconda3\\lib\\site-packages\\sklearn\\metrics\\_classification.py:1245: UndefinedMetricWarning: Precision and F-score are ill-defined and being set to 0.0 in labels with no predicted samples. Use `zero_division` parameter to control this behavior.\n",
      "  _warn_prf(average, modifier, msg_start, len(result))\n"
     ]
    }
   ],
   "source": [
    "# ML model\n",
    "#report = classification_report(test_y, pred_lgbm, output_dict=True)\n",
    "print(classification_report(test_y, pred_lgbm))\n",
    "#classification_report_csv(report)"
   ]
  },
  {
   "cell_type": "code",
   "execution_count": null,
   "id": "bd11588d",
   "metadata": {
    "collapsed": true
   },
   "outputs": [],
   "source": [
    "show_pred(test_y, pred_xgb)"
   ]
  },
  {
   "cell_type": "code",
   "execution_count": null,
   "id": "928c243c",
   "metadata": {
    "collapsed": true
   },
   "outputs": [],
   "source": [
    "show_prediction_error(test_y, pred_xgb)"
   ]
  },
  {
   "cell_type": "code",
   "execution_count": null,
   "id": "756228fa",
   "metadata": {
    "collapsed": true
   },
   "outputs": [],
   "source": [
    "feature_series = pd.Series(data=model_xgb.feature_importances_, index=train_X.columns)\n",
    "feature_series = feature_series.sort_values(ascending=False) \n",
    "sns.barplot(x = feature_series, y=feature_series.index)"
   ]
  },
  {
   "cell_type": "markdown",
   "id": "4aeb591d",
   "metadata": {},
   "source": [
    "# 8. Ensemble\n"
   ]
  },
  {
   "cell_type": "code",
   "execution_count": 39,
   "id": "42a60b13",
   "metadata": {
    "collapsed": true
   },
   "outputs": [
    {
     "data": {
      "text/plain": [
       "array([36,  5, 44, ..., 35, 11, 19], dtype=int64)"
      ]
     },
     "execution_count": 39,
     "metadata": {},
     "output_type": "execute_result"
    }
   ],
   "source": [
    "pred_ensemble_prob = pred_xgb_prob * 0.2 + pred_dl_prob * 0.8\n",
    "pred_ensemble = np.argmax(pred_ensemble_prob, axis=1)\n",
    "pred_ensemble"
   ]
  },
  {
   "cell_type": "code",
   "execution_count": 40,
   "id": "3893d49b",
   "metadata": {
    "collapsed": true
   },
   "outputs": [
    {
     "name": "stderr",
     "output_type": "stream",
     "text": [
      "C:\\Users\\mtang\\anaconda3\\lib\\site-packages\\sklearn\\metrics\\_classification.py:1245: UndefinedMetricWarning: Precision and F-score are ill-defined and being set to 0.0 in labels with no predicted samples. Use `zero_division` parameter to control this behavior.\n",
      "  _warn_prf(average, modifier, msg_start, len(result))\n",
      "C:\\Users\\mtang\\anaconda3\\lib\\site-packages\\sklearn\\metrics\\_classification.py:1245: UndefinedMetricWarning: Precision and F-score are ill-defined and being set to 0.0 in labels with no predicted samples. Use `zero_division` parameter to control this behavior.\n",
      "  _warn_prf(average, modifier, msg_start, len(result))\n"
     ]
    },
    {
     "name": "stdout",
     "output_type": "stream",
     "text": [
      "              precision    recall  f1-score   support\n",
      "\n",
      "           0       0.74      0.70      0.72     22760\n",
      "           1       0.67      1.00      0.80         2\n",
      "           2       0.76      0.85      0.80      4910\n",
      "           3       0.82      0.78      0.80     15917\n",
      "           4       0.84      0.70      0.76      9413\n",
      "           5       0.83      0.70      0.76     12738\n",
      "           6       0.67      0.80      0.73         5\n",
      "           7       0.82      0.74      0.78      6527\n",
      "           8       0.84      0.70      0.76     27195\n",
      "           9       0.82      0.66      0.73     10681\n",
      "          10       0.85      0.78      0.81       686\n",
      "          11       0.78      0.83      0.80     45519\n",
      "          12       0.80      0.83      0.81      1245\n",
      "          13       0.00      0.00      0.00         2\n",
      "          14       0.86      0.66      0.74      5621\n",
      "          15       0.87      0.88      0.87     17952\n",
      "          16       0.80      0.87      0.84     31834\n",
      "          17       0.84      0.69      0.75      4174\n",
      "          18       0.86      0.71      0.78      6566\n",
      "          19       0.76      0.88      0.82     18826\n",
      "          20       0.77      0.87      0.82     25477\n",
      "          21       0.86      0.83      0.84      9820\n",
      "          22       0.76      0.87      0.81     21362\n",
      "          23       0.81      0.86      0.84     13055\n",
      "          24       0.82      0.84      0.83      1372\n",
      "          25       0.77      0.89      0.82     54389\n",
      "          26       0.84      0.80      0.82      2489\n",
      "          27       0.83      0.68      0.75     10890\n",
      "          28       0.77      0.86      0.82      8349\n",
      "          29       0.76      0.63      0.69     12653\n",
      "          30       0.76      0.89      0.82     11242\n",
      "          31       0.76      0.88      0.82     13132\n",
      "          32       0.78      0.66      0.72      8868\n",
      "          33       0.80      0.63      0.70      7013\n",
      "          34       0.79      0.69      0.74      7536\n",
      "          35       0.87      0.89      0.88     35903\n",
      "          36       0.80      0.76      0.78      4211\n",
      "          37       0.74      0.78      0.76       449\n",
      "          38       0.90      0.83      0.86      3833\n",
      "          39       0.82      0.63      0.71     19167\n",
      "          40       0.77      0.71      0.74      2962\n",
      "          41       0.77      0.66      0.71      3949\n",
      "          42       0.70      0.76      0.73       766\n",
      "          43       0.79      0.63      0.70      4844\n",
      "          44       0.85      0.79      0.82     12616\n",
      "\n",
      "    accuracy                           0.80    538920\n",
      "   macro avg       0.78      0.76      0.76    538920\n",
      "weighted avg       0.80      0.80      0.80    538920\n",
      "\n"
     ]
    },
    {
     "name": "stderr",
     "output_type": "stream",
     "text": [
      "C:\\Users\\mtang\\anaconda3\\lib\\site-packages\\sklearn\\metrics\\_classification.py:1245: UndefinedMetricWarning: Precision and F-score are ill-defined and being set to 0.0 in labels with no predicted samples. Use `zero_division` parameter to control this behavior.\n",
      "  _warn_prf(average, modifier, msg_start, len(result))\n"
     ]
    }
   ],
   "source": [
    "print(classification_report(test_y, pred_ensemble))"
   ]
  },
  {
   "cell_type": "code",
   "execution_count": null,
   "id": "ce4952c8",
   "metadata": {
    "collapsed": true
   },
   "outputs": [],
   "source": []
  }
 ],
 "metadata": {
  "kernelspec": {
   "display_name": "Python 3",
   "language": "python",
   "name": "python3"
  },
  "language_info": {
   "codemirror_mode": {
    "name": "ipython",
    "version": 3
   },
   "file_extension": ".py",
   "mimetype": "text/x-python",
   "name": "python",
   "nbconvert_exporter": "python",
   "pygments_lexer": "ipython3",
   "version": "3.8.12"
  }
 },
 "nbformat": 4,
 "nbformat_minor": 5
}
