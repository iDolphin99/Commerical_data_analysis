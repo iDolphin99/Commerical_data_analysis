{
 "cells": [
  {
   "cell_type": "markdown",
   "id": "b6524843",
   "metadata": {},
   "source": [
    "# Data Load"
   ]
  },
  {
   "cell_type": "code",
   "execution_count": 1,
   "id": "b59f551f",
   "metadata": {},
   "outputs": [],
   "source": [
    "import numpy as np\n",
    "import pandas as pd\n",
    "\n",
    "import seaborn as sns\n",
    "import matplotlib.pyplot as plt\n",
    "%matplotlib inline\n",
    "import warnings\n",
    "warnings.filterwarnings('ignore')\n",
    "from matplotlib import font_manager, rc\n",
    "import scipy as sp\n",
    "from scipy import special, optimize"
   ]
  },
  {
   "cell_type": "code",
   "execution_count": 2,
   "id": "59c6e1ab",
   "metadata": {},
   "outputs": [],
   "source": [
    "font_path=\"C:/Windows/Fonts/H2HDRM.TTF\"\n",
    "font=font_manager.FontProperties(fname=font_path).get_name()\n",
    "rc('font',family=font)"
   ]
  },
  {
   "cell_type": "code",
   "execution_count": 3,
   "id": "dbb9ea74",
   "metadata": {},
   "outputs": [],
   "source": [
    "df=pd.read_csv(\"C:/Users/sohee/Desktop/KW/산학연계(졸작)/산학졸작_openUP_Data/kwproja_data_.csv\",encoding='utf-8')"
   ]
  },
  {
   "cell_type": "markdown",
   "id": "4c274118",
   "metadata": {},
   "source": [
    "# EDA "
   ]
  },
  {
   "cell_type": "markdown",
   "id": "d25d137f",
   "metadata": {},
   "source": [
    "153395 rows X 31 columns\n",
    "\n",
    "- 매장 속성 정보\n",
    "\n",
    "    - shop_code -> 식별자 feature, input feature로는 사용하지 않지만 분류를 위해서는 사용할 수 있을 것 같음\n",
    "    - shop_name -> input feature로는 사용하지 않음 (NLP deep learning 가능성 있음)\n",
    "    - longtitude : 경도, latitude : 위도 -> 매장 위치 (회사 근처, 학교 근처 등 매출 영향성 있음) -> 군집화, labeling 필요\n",
    "    - shop_type_big -> 13 category -> 업종 (매출 영향성 있음)\n",
    "    - shop_type_small -> 367 category\n",
    "    \n",
    "    \n",
    "- 매출 정보\n",
    "\n",
    "    - date -> 12 category, 201702~ 201801 까지의 data\n",
    "    - monthly_gain / avearge_sale_price = 한달 총 판매수\n",
    "    \n",
    "    \n",
    "- 매출 통계 정보\n",
    "\n",
    "    - weekday0~6 : 일 ~ 월\n",
    "    - time -> 05_10 / 10_14 / 14_18 / 18_20 / 20_22 / 22_24 / 24_05 => 시간대가 동일하지 않음\n",
    "        - 새벽대는 찾는 손님 적어 시간 길게 잡았을 것\n",
    "        - 저녁 시간대는 가장 매출이 많이 이뤄지는 prime time 이라 시간대를 짧게 잡았을 것\n",
    "    - female/male : 20/30/40/50 -> 8 columns\n",
    "\n",
    "monthly_gain과 average_sale_price 중 어느 것을 y값으로 둘 것인가?\n",
    "- 월매출 예측 문제로 가정하고 montly_gain 을 y값으로 예측하는 모델 만들기\n",
    "\n",
    "shop_code는 input feature에 넣어야 하는가?\n",
    "- 특별한 브랜드가 y값을 결정하는 과적합 요소가 될 수 있으므로\n",
    "- X 에서 shop code, shop name 제외하는 것도 방법\n",
    "- 어느 위치에 어떤 업종으로 어떤 객단가인 매장을 오픈하면 월매출이 어떻게 될까? 문제\n",
    "    - X: shop type big, shop type small, longitude, latitude, avg_sale_price,\n",
    "    - y: montly_gain"
   ]
  },
  {
   "cell_type": "code",
   "execution_count": null,
   "id": "cf5ecce2",
   "metadata": {},
   "outputs": [],
   "source": [
    "df.head()"
   ]
  },
  {
   "cell_type": "code",
   "execution_count": null,
   "id": "0592ed53",
   "metadata": {},
   "outputs": [],
   "source": [
    "df.columns"
   ]
  },
  {
   "cell_type": "code",
   "execution_count": null,
   "id": "d711342a",
   "metadata": {},
   "outputs": [],
   "source": [
    "df.info()"
   ]
  },
  {
   "cell_type": "markdown",
   "id": "93068afe",
   "metadata": {},
   "source": [
    "## shop_name, shop_code"
   ]
  },
  {
   "cell_type": "markdown",
   "id": "44c64a12",
   "metadata": {},
   "source": [
    "- shop_code가 식별자 feature, 가게는 동일하지만 가게명이 바뀌는 경우가 존재함\n",
    "    - shop_name(13,633), shop_code(13,352) -> 약 300 가게 정도는 이름이 바뀐 것으로 추정\n",
    "    - 확인 결과 총 222가게가 이름을 최소 2번 바꾸었으며 평균 4번, 최대 66번 바꾸었음\n",
    "- 결론-> shop code, shop name 은 모델입력으로 적합하지 않음\n",
    "- 업종 별 매출 예측으로만 봐야 적당할 것으로 보임"
   ]
  },
  {
   "cell_type": "code",
   "execution_count": null,
   "id": "e468c1d7",
   "metadata": {},
   "outputs": [],
   "source": [
    "# 13633 \n",
    "# 13352\n",
    "# shop_name과 shop_code가 항상 같다면, 위 두 숫자가 같아야 하는데 약 300개의 data가 차이가 남 \n",
    "# shop_code는 동일하지만(가게는 동일하지만) 업종, 가게명이 바뀌었을 수도 있음 -> shop_code를 식별자 feature로 사용\n",
    "print(df['shop_name'].nunique())\n",
    "print(df['shop_code'].nunique())\n",
    "print(df['longitude'].nunique())\n",
    "print(df['latitude'].nunique())\n",
    "print(df['shop_type_big'].nunique())\n",
    "print(df['shop_type_big'].unique())\n",
    "print(df['shop_type_small'].nunique())\n",
    "#print(df['shop_type_small'].unique())\n",
    "print(df['date'].unique())"
   ]
  },
  {
   "cell_type": "code",
   "execution_count": null,
   "id": "7a6d4438",
   "metadata": {},
   "outputs": [],
   "source": [
    "# shop code 를 group by 했을 때 그 안에 몇 종류의 shop name이 있는지 (1이어야 정상)\n",
    "check_df = df.groupby('shop_code')['shop_name'].nunique().to_frame('shop_name_unique').reset_index()\n",
    "check_df"
   ]
  },
  {
   "cell_type": "code",
   "execution_count": null,
   "id": "859841a5",
   "metadata": {},
   "outputs": [],
   "source": [
    "# shop code안에 여러 shop name 있는 경우\n",
    "check_df2 = check_df[check_df['shop_name_unique'] > 1]\n",
    "check_df2"
   ]
  },
  {
   "cell_type": "code",
   "execution_count": null,
   "id": "939ba113",
   "metadata": {},
   "outputs": [],
   "source": [
    "# 총 222가게가 이름을 최소 2번 바꾸었으며 평균 4번, 최대 66번 바꾸었음 \n",
    "check_df2['shop_name_unique'].describe()"
   ]
  },
  {
   "cell_type": "code",
   "execution_count": 5,
   "id": "eba2377a",
   "metadata": {
    "scrolled": true
   },
   "outputs": [],
   "source": [
    "# 롯데 월드 안에  놀이기구도 있지만, 편의점, 호텔 등 다는 업종 매출로 잡히는 것들도 있음!\n",
    "# 결론-> shop code, shop name 은 모델입력으로 적합하지 않음\n",
    "# 업종 별 매출 예측으로만 봐야 적당할 것으로 보임\n",
    "df[df['shop_code'] == 148500219]"
   ]
  },
  {
   "cell_type": "markdown",
   "id": "23857d80",
   "metadata": {},
   "source": [
    "## shop_type_big, shop_type_small, 업종, 매출 상관관계"
   ]
  },
  {
   "cell_type": "markdown",
   "id": "7d9b4ccd",
   "metadata": {},
   "source": [
    "- 매출 데이터(monthly_gain)에 missing value 결측치 존재(3,605개) -> 제거하고 확인 총 149,789개\n",
    "- monthly_gain\n",
    "    - mean | 98,313,252.03 | 9천8백만\n",
    "    - min | 5.01 |\n",
    "    - 25% | 4,443,902.50 | 4백만\n",
    "    - 50% | 15,570,070.00 | 1천5백만\n",
    "    - 75% | 43,280,488.20 | 4천3백만\n",
    "    - max | 110,795,923,219.85 | 1107억9천5백만\n",
    "- shop type big (13)\n",
    "    - 음식(51004) 소매(47318) 의료(16618) 생활서비스(16074) 학문/교육(4495) 관광/여가/오락(3676) 도매/유통/무역(2607) 스포츠(1525) 숙박(1198) 제조(518) 부동산(335) 전자/정보통신(98) 기술서비스(21)\n",
    "    - min\n",
    "    - '기술서비스', '전자/정보통신', '제조', '의료', '부동산', '숙박', '스포츠', '도매/유통/무역', '음식', '학문/교육', '관광/여가/오락', '소매', '생활서비스'\n",
    "    - 부동산(10,060) 기준 이하(7곳)은 비슷함\n",
    "    - mean\n",
    "    - '도매/유통/무역', '숙박', '제조', '전자/정보통신', '소매', '의료', '관광/여가/오락', '학문/교육', '음식', '생활서비스', '스포츠', '부동산', '기술서비스'\n",
    "    - max\n",
    "    - '도매/유통/무역', '소매', '관광/여가/오락', '제조', '숙박', '의료', '전자/정보통신', '생활서비스', '학문/교육', '음식', '스포츠', '부동산', '기술서비스'\n",
    "- 평균만 놓고 보아도 가장 낮은 업종은 천만원대, 가장 높은 업종은 억대이다\n",
    "- shop type small (367)"
   ]
  },
  {
   "cell_type": "code",
   "execution_count": null,
   "id": "5df7b90b",
   "metadata": {},
   "outputs": [],
   "source": [
    "# issue -> shop_type_big에 관한 issue를 참고하세요!\n",
    "# issue -> '음식'과 '음식 ' 두 개로 count 되고 있습니다. 아래 코드로 수정하시길 바랍니다\n",
    "\n",
    "print(df['shop_type_big'].nunique())\n",
    "print(df['shop_type_big'].unique())"
   ]
  },
  {
   "cell_type": "code",
   "execution_count": null,
   "id": "5494e9e5",
   "metadata": {},
   "outputs": [],
   "source": [
    "# 데이터 값 실수. 소수점 두째자리까지 표시\n",
    "pd.options.display.float_format = '{:.2f}'.format\n",
    "\n",
    "# 매출데이터에 0값이 3605개가 잡힘 -> 정확한 eda를 위해서 이를 제거하고 계속 진행하겠음 \n",
    "df_check = df[df.average_sale_price!=0][[\"shop_type_big\", \"shop_type_small\", \"average_sale_price\"]].reset_index().drop(\"index\", axis=1)\n",
    "df_check\n",
    "#print(153394-3605)"
   ]
  },
  {
   "cell_type": "code",
   "execution_count": null,
   "id": "422d38df",
   "metadata": {},
   "outputs": [],
   "source": [
    "pd.DataFrame(df_check['average_sale_price']).describe()"
   ]
  },
  {
   "cell_type": "code",
   "execution_count": null,
   "id": "26e863f7",
   "metadata": {},
   "outputs": [],
   "source": [
    "group_big = df_check.groupby('shop_type_big')\n",
    "df_group_big = group_big.describe().droplevel(axis=1,level=0)\n",
    "df_group_big"
   ]
  },
  {
   "cell_type": "code",
   "execution_count": null,
   "id": "82275792",
   "metadata": {},
   "outputs": [],
   "source": [
    "print(\"내림차순 기준 분야별로 정렬하여 출력합니다\")\n",
    "print(\"min: \", list(df_group_big.sort_values(by=['min'], ascending=False).index))\n",
    "print(\"mean: \", list(df_group_big.sort_values(by=['mean'], ascending=False).index))\n",
    "print(\"max: \", list(df_group_big.sort_values(by=['max'], ascending=False).index))"
   ]
  },
  {
   "cell_type": "code",
   "execution_count": null,
   "id": "c8242cdd",
   "metadata": {},
   "outputs": [],
   "source": [
    "# sns.boxplot(x='shop_type_big', y='average_sale_price', data=df_check)"
   ]
  },
  {
   "cell_type": "code",
   "execution_count": null,
   "id": "26d719a2",
   "metadata": {
    "scrolled": true
   },
   "outputs": [],
   "source": [
    "# group_big.boxplot()"
   ]
  },
  {
   "cell_type": "code",
   "execution_count": null,
   "id": "452db6e0",
   "metadata": {},
   "outputs": [],
   "source": [
    "#fig, axes = plt.subplots(1, 3)\n",
    "\n",
    "#df_group_big.plot.bar(ax = axes[0], y='min')\n",
    "#df_group_big.plot.bar(ax = axes[1], y='mean')\n",
    "#df_group_big.plot.bar(ax = axes[2], y='max')\n",
    "\n",
    "#plt.rcParams['figure.figsize'] = [14, 6]\n",
    "#plt.show()"
   ]
  },
  {
   "cell_type": "code",
   "execution_count": null,
   "id": "8953b4b5",
   "metadata": {},
   "outputs": [],
   "source": [
    "# density plot only\n",
    "#ax = plt.subplots()\n",
    "#ax = sns.distplot(df_check['average_sale_price'], hist = False)\n",
    "#ax.set_title('average_sale_price Histogram with Density Plot')"
   ]
  },
  {
   "cell_type": "markdown",
   "id": "89c3184b",
   "metadata": {},
   "source": [
    "# Preprocessing"
   ]
  },
  {
   "cell_type": "markdown",
   "id": "709aeea9",
   "metadata": {},
   "source": [
    "- shop_code, shop_name : 식별자 feature 이므로 drop\n",
    "- shop_type_big, shop_type_small : label encodding\n",
    "- longitude, latitude : 일단은 input_feature에 넣지만 중복값이 많아 보이므로 추후에 제거해보려 함\n",
    "- monthly_gain : 결측치 제거 (0값, 3605개로 계산됨)\n",
    "- MinMaxSaclar 정규화 -> 정규화 column의 범위는??\n",
    "- date : drop, (그러나 RNN, LSTM과 같은 DL 모델에서는 넣어야 할지도..? 시계열 데이터이므로 쓸 수도 없을지도)"
   ]
  },
  {
   "cell_type": "code",
   "execution_count": null,
   "id": "b5ce75e5",
   "metadata": {},
   "outputs": [],
   "source": [
    "# 원본 data와 따로 관리 -> original data = data, input data = input_data \n",
    "# feature drop\n",
    "input_data = df.copy()\n",
    "\n",
    "input_data = input_data.drop(['date', 'shop_code', 'shop_name'], axis=1)\n",
    "input_data"
   ]
  },
  {
   "cell_type": "markdown",
   "id": "a1934117",
   "metadata": {},
   "source": [
    "### shop_type labeling"
   ]
  },
  {
   "cell_type": "code",
   "execution_count": null,
   "id": "d77ed1bc",
   "metadata": {},
   "outputs": [],
   "source": [
    "# LabelEncoder\n",
    "from sklearn.preprocessing import LabelEncoder\n",
    "\n",
    "lencoder = LabelEncoder()\n",
    "\n",
    "# item_big = input_data['shop_type_big'].unique()\n",
    "# lencoder.fit(item_big)\n",
    "# input_data['shop_type_big'] = lencoder.transform(input_data['shop_type_big'])\n",
    "\n",
    "input_data['shop_type_big'] = lencoder.fit_transform(list(input_data['shop_type_big']))\n",
    "\n",
    "# item_small = input_data['shop_type_small'].unique() \n",
    "# lencoder.fit(item_small)\n",
    "# input_data['shop_type_small'] = lencoder.transform(input_data['shop_type_small'])\n",
    "\n",
    "input_data['shop_type_small'] = lencoder.fit_transform(list(input_data['shop_type_small']))\n",
    "\n",
    "input_data"
   ]
  },
  {
   "cell_type": "markdown",
   "id": "ea948f2a",
   "metadata": {},
   "source": [
    "### add geo"
   ]
  },
  {
   "cell_type": "code",
   "execution_count": null,
   "id": "5253bf17",
   "metadata": {},
   "outputs": [],
   "source": [
    "input_data.plot.scatter(x='longitude',y='latitude',grid=True)"
   ]
  },
  {
   "cell_type": "code",
   "execution_count": null,
   "id": "d4857b6b",
   "metadata": {},
   "outputs": [],
   "source": [
    "input_data_1=input_data.copy()"
   ]
  },
  {
   "cell_type": "code",
   "execution_count": null,
   "id": "1ad5c257",
   "metadata": {},
   "outputs": [],
   "source": [
    "plt.figure(figsize=(15,5))\n",
    "sns.scatterplot(x='longitude',y='latitude',data=input_data_1)"
   ]
  },
  {
   "cell_type": "code",
   "execution_count": null,
   "id": "617461b4",
   "metadata": {},
   "outputs": [],
   "source": [
    "# k=9 ?"
   ]
  },
  {
   "cell_type": "code",
   "execution_count": null,
   "id": "c5f233e8",
   "metadata": {},
   "outputs": [],
   "source": [
    "centroids = input_data_1[['longitude','latitude']].sample(9, random_state=1)\n",
    "centroids"
   ]
  },
  {
   "cell_type": "code",
   "execution_count": null,
   "id": "cfdeaf93",
   "metadata": {},
   "outputs": [],
   "source": [
    "geo_df=input_data_1[['longitude','latitude']]\n",
    "geo_df"
   ]
  },
  {
   "cell_type": "code",
   "execution_count": null,
   "id": "2fc9b711",
   "metadata": {},
   "outputs": [],
   "source": [
    "# 각 데이터에 대하여, 각 중심점과의 유클리드 거리 계산\n",
    "distance = sp.spatial.distance.cdist(geo_df, centroids,\"euclidean\")\n",
    "\n",
    "# 가장 거리가 짧은 중심점의 cluster로 할당\n",
    "cluster_num = np.argmin(distance, axis=1)\n",
    "\n",
    "# 결과 확인\n",
    "result = geo_df.copy()\n",
    "result[\"cluster\"] = np.array(cluster_num)\n",
    "result.head()"
   ]
  },
  {
   "cell_type": "code",
   "execution_count": null,
   "id": "4fdd01d2",
   "metadata": {},
   "outputs": [],
   "source": [
    "plt.figure(figsize=(10,5))\n",
    "sns.scatterplot(x=\"longitude\", y=\"latitude\", hue=\"cluster\", data=result,palette=\"Paired\");"
   ]
  },
  {
   "cell_type": "code",
   "execution_count": null,
   "id": "26a270cc",
   "metadata": {},
   "outputs": [],
   "source": [
    "centroids_2 = result.groupby(\"cluster\").mean()\n",
    "centroids_2"
   ]
  },
  {
   "cell_type": "code",
   "execution_count": null,
   "id": "6f5c267f",
   "metadata": {},
   "outputs": [],
   "source": [
    "plt.figure(figsize=(10,5))\n",
    "sns.scatterplot(x=\"longitude\", y=\"latitude\", hue=\"cluster\", data=result,palette=\"Paired\");"
   ]
  },
  {
   "cell_type": "code",
   "execution_count": null,
   "id": "c5e721b5",
   "metadata": {},
   "outputs": [],
   "source": [
    "from sklearn.cluster import KMeans\n",
    "\n",
    "kcls=KMeans(n_clusters=9)\n",
    "cst_group=kcls.fit_predict(geo_df)\n",
    "\n",
    "print(cst_group)"
   ]
  },
  {
   "cell_type": "code",
   "execution_count": null,
   "id": "814b8729",
   "metadata": {},
   "outputs": [],
   "source": [
    "for i in range(9):\n",
    "    labels=geo_df[cst_group==i]\n",
    "    plt.scatter(labels['longitude'],labels['latitude'],label=i)\n",
    "\n",
    "plt.legend()\n",
    "plt.xlabel('longitude')\n",
    "plt.ylabel('latitude')\n",
    "plt.show()"
   ]
  },
  {
   "cell_type": "code",
   "execution_count": null,
   "id": "c34c3bc8",
   "metadata": {},
   "outputs": [],
   "source": [
    "input_data['geo_label']=cst_group"
   ]
  },
  {
   "cell_type": "code",
   "execution_count": null,
   "id": "4095db90",
   "metadata": {},
   "outputs": [],
   "source": [
    "input_data.head(10)"
   ]
  },
  {
   "cell_type": "code",
   "execution_count": null,
   "id": "a3156dfd",
   "metadata": {},
   "outputs": [],
   "source": [
    "print(input_data['geo_label'].value_counts())"
   ]
  },
  {
   "cell_type": "markdown",
   "id": "ea102a05",
   "metadata": {},
   "source": [
    "# Data split"
   ]
  },
  {
   "cell_type": "code",
   "execution_count": null,
   "id": "4ad8d5ef",
   "metadata": {},
   "outputs": [],
   "source": [
    "input_data_y = input_data['average_sale_price'].copy()\n",
    "input_data_X = input_data.drop(['average_sale_price'], axis=1)"
   ]
  },
  {
   "cell_type": "code",
   "execution_count": null,
   "id": "7b5520a5",
   "metadata": {},
   "outputs": [],
   "source": [
    "from sklearn.model_selection import train_test_split\n",
    "\n",
    "tr_val_X, test_X, tr_val_y, test_y = train_test_split(\n",
    "    input_data_X, \n",
    "    input_data_y, \n",
    "    test_size = 0.2,      \n",
    "    shuffle=True,         \n",
    "    random_state=42)      \n",
    "\n",
    "train_X, valid_X, train_y, valid_y = train_test_split(\n",
    "    tr_val_X, \n",
    "    tr_val_y, \n",
    "    test_size = 0.2,      \n",
    "    shuffle=True,         \n",
    "    random_state=42)   "
   ]
  },
  {
   "cell_type": "markdown",
   "id": "d26e4b29",
   "metadata": {},
   "source": [
    "# Modeling"
   ]
  },
  {
   "cell_type": "markdown",
   "id": "68db0e3a",
   "metadata": {},
   "source": [
    "- XGB\n",
    "- LGBM"
   ]
  },
  {
   "cell_type": "code",
   "execution_count": null,
   "id": "09b8e2df",
   "metadata": {},
   "outputs": [],
   "source": [
    "from sklearn.model_selection import train_test_split, cross_val_score, KFold, TimeSeriesSplit,GridSearchCV\n",
    "from sklearn.metrics import mean_squared_error\n",
    "\n",
    "from lightgbm import LGBMRegressor\n",
    "from lightgbm import plot_importance \n",
    "from xgboost import XGBRegressor\n",
    "from xgboost import plot_importance\n",
    "\n",
    "from keras.callbacks import EarlyStopping, ModelCheckpoint"
   ]
  },
  {
   "cell_type": "code",
   "execution_count": null,
   "id": "1209e377",
   "metadata": {},
   "outputs": [],
   "source": [
    "model_xgb = XGBRegressor(n_estimators=500, learning_rate=0.5, max_depth=3)\n",
    "#model_xgb = XGBRegressor(n_estimaotrs=100, learning_rate=1.0, max_depth=3, early_stopping_rounds=2)\n",
    "# 학습\n",
    "model_xgb.fit(train_X, train_y, early_stopping_rounds=100, eval_set=[(valid_X, valid_y)],verbose=True)"
   ]
  },
  {
   "cell_type": "code",
   "execution_count": null,
   "id": "46914b44",
   "metadata": {},
   "outputs": [],
   "source": [
    "##XGB\n",
    "# pred_xgb = model_xgb.predict(test_X)\n",
    "# # 학습후처리\n",
    "\n",
    "\n",
    "# rescaled_actual = scaler2.inverse_transform(scaler2_df.values.reshape(-1,1))\n",
    "# rescaled_pred = scaler2.inverse_transform(pred_xgb.reshape(-1,1))"
   ]
  },
  {
   "cell_type": "code",
   "execution_count": null,
   "id": "a6710f07",
   "metadata": {},
   "outputs": [],
   "source": [
    "model_lgbm = LGBMRegressor(n_estimators=500, learning_rate=0.05)\n",
    "\n",
    "model_lgbm.fit(train_X, train_y, early_stopping_rounds=100, eval_set=[(valid_X, valid_y)], verbose=True)  \n",
    "pred_lgbm = model_lgbm.predict(test_X)"
   ]
  },
  {
   "cell_type": "markdown",
   "id": "6b74986f",
   "metadata": {},
   "source": [
    "# Prediction"
   ]
  },
  {
   "cell_type": "code",
   "execution_count": null,
   "id": "f8e02b99",
   "metadata": {},
   "outputs": [],
   "source": [
    "def plot_history(history):\n",
    "    #hist = pd.DataFrame(history.history)\n",
    "    #history['epoch'] = history.epoch\n",
    "    \n",
    "    plt.figure(figsize=(8,12))\n",
    "    \n",
    "    # Mean Abs Error : 평균 절대 오차, 측정값에서 오차의 크기로 측정값과 실제값과의 차이, 절대 오차의 평균  \n",
    "    # -> 측정하고자 하는 값을 정확하게 측정하지 못함으로써 발생\n",
    "    plt.subplot(2,1,1)\n",
    "    plt.xlabel('Epoch')\n",
    "    plt.ylabel('Mean Abs Error')\n",
    "    plt.plot(hist['epoch'], hist['mae'],\n",
    "           label='Train Error')\n",
    "    plt.plot(hist['epoch'], hist['val_mae'],\n",
    "           label = 'Val Error')\n",
    "    plt.legend()\n",
    "    \n",
    "    # Mean Square Error : 평균 제곱 오차, 오차의 제복에 대한 평균을 취한 값\n",
    "    plt.subplot(2,1,2)\n",
    "    plt.xlabel('Epoch')\n",
    "    plt.ylabel('Mean Square Error')\n",
    "    plt.plot(hist['epoch'], hist['mse'],\n",
    "           label='Train Error')\n",
    "    plt.plot(hist['epoch'], hist['val_mse'],\n",
    "           label = 'Val Error')\n",
    "    plt.legend()\n",
    "    plt.show()\n",
    "    \n",
    "def show_pred(true_y, pred) :\n",
    "    #true_y = true_y.to_numpy()\n",
    "    true_y = np.ravel(true_y)\n",
    "    pred = np.array(pred.reshape(-1,1))\n",
    "    \n",
    "    df_result = pd.DataFrame(list(zip(true_y, pred)), columns=['true_y', 'prediction'])\n",
    "    return df_result\n",
    "\n",
    "def show_mse_rmse(test_y, pred) :\n",
    "    mse = mean_squared_error(test_y, pred)\n",
    "    print(\"mse : %f\" % mse)\n",
    "    \n",
    "    rmse = np.sqrt(mse)\n",
    "    print(\"rmse: %f \\n\" %rmse)\n",
    "    \n",
    "def show_prediction_error(test_y, pred) :\n",
    "    true_y = test_y.to_numpy()\n",
    "    true_y = np.ravel(true_y)\n",
    "    error = pred - true_y\n",
    "    plt.hist(error, bins=25)\n",
    "    plt.xlabel(\"Prediction Error\")\n",
    "    _ = plt.ylabel(\"Count\")\n",
    "    \n",
    "def feature_importance(model_xgb) : \n",
    "    %matplotlib inline\n",
    "    plt.rcParams['axes.unicode_minus'] = False\n",
    "    font_path = \"C:/Windows/Fonts/NGULIM.TTF\"\n",
    "    font = fm.FontProperties(fname=font_path).get_name()\n",
    "    rc('font', family=font)\n",
    "\n",
    "    fig, ax = plt.subplots(figsize=(10,12))\n",
    "    plot_importance(model_xgb, ax=ax)\n",
    "    \n",
    "def graph(pred, test_label) :\n",
    "    plt.figure(figsize=(16, 9))\n",
    "    plt.plot(test_label, label = 'actual')\n",
    "    plt.plot(pred, label = 'prediction')\n",
    "    plt.legend()\n",
    "    plt.show()"
   ]
  },
  {
   "cell_type": "code",
   "execution_count": null,
   "id": "c0e63818",
   "metadata": {},
   "outputs": [],
   "source": [
    "#show_pred(test_y, pred_xgb)"
   ]
  },
  {
   "cell_type": "code",
   "execution_count": null,
   "id": "1869eb51",
   "metadata": {},
   "outputs": [],
   "source": [
    "show_pred(test_y, pred_lgbm)"
   ]
  },
  {
   "cell_type": "code",
   "execution_count": null,
   "id": "75a414c4",
   "metadata": {},
   "outputs": [],
   "source": [
    "#show_mse_rmse(test_y, pred_xgb)"
   ]
  },
  {
   "cell_type": "code",
   "execution_count": null,
   "id": "38194315",
   "metadata": {},
   "outputs": [],
   "source": [
    "show_mse_rmse(test_y,pred_lgbm)"
   ]
  },
  {
   "cell_type": "code",
   "execution_count": null,
   "id": "c2b9c355",
   "metadata": {},
   "outputs": [],
   "source": [
    "#show_prediction_error(test_y,pred_xgb)"
   ]
  }
 ],
 "metadata": {
  "kernelspec": {
   "display_name": "Python 3 (ipykernel)",
   "language": "python",
   "name": "python3"
  },
  "language_info": {
   "codemirror_mode": {
    "name": "ipython",
    "version": 3
   },
   "file_extension": ".py",
   "mimetype": "text/x-python",
   "name": "python",
   "nbconvert_exporter": "python",
   "pygments_lexer": "ipython3",
   "version": "3.8.10"
  }
 },
 "nbformat": 4,
 "nbformat_minor": 5
}
