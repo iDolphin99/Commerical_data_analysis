{
 "cells": [
  {
   "cell_type": "markdown",
   "id": "23d7d438",
   "metadata": {},
   "source": [
    "# 1. Data Load"
   ]
  },
  {
   "cell_type": "code",
   "execution_count": 1,
   "id": "f65e8299",
   "metadata": {},
   "outputs": [],
   "source": [
    "import numpy as np\n",
    "import pandas as pd\n",
    "\n",
    "from scipy import stats #Analysis \n",
    "from scipy.stats import norm # Analysis\n",
    "import seaborn as sns\n",
    "import matplotlib.pyplot as plt\n",
    "from matplotlib import rcParams\n",
    "%matplotlib inline\n",
    "#%matplotlib tk\n",
    "\n",
    "#import matplotlib \n",
    "#matplotlib.font_manager._rebuild()"
   ]
  },
  {
   "cell_type": "code",
   "execution_count": 2,
   "id": "9ef4a9e7",
   "metadata": {},
   "outputs": [],
   "source": [
    "# 한글 폰트가 깨지면 실행하세요! \n",
    "import matplotlib.font_manager as fm\n",
    "fontlist = fm.findSystemFonts(fontpaths = None, fontext='ttf')\n",
    "\n",
    "from matplotlib import font_manager, rc\n",
    "\n",
    "font_path=\"C:/Windows/Fonts/H2HDRM.TTF\"\n",
    "font=font_manager.FontProperties(fname=font_path).get_name()\n",
    "rc('font',family=font)\n",
    "\n",
    "# 아래 주석을 지워서 폰트 리스트를 확인하고 한글 폰트를 font_path에 추가합니다\n",
    "#fontlist[:]\n",
    "#font_path = 'C:\\\\WINDOWS\\\\Fonts\\\\NanumGothicLight.ttf'\n",
    "#font = font_manager.FontProperties(fname=font_path).get_name()\n",
    "#rc('font', family=font)"
   ]
  },
  {
   "cell_type": "code",
   "execution_count": 4,
   "id": "175a42b3",
   "metadata": {},
   "outputs": [],
   "source": [
    "data = pd.read_csv(\"C:/Users/sohee/Desktop/KW/산학연계(졸작)/산학졸작_openUP_Data/kwproja_data_big.csv\",encoding='utf-8')"
   ]
  },
  {
   "cell_type": "markdown",
   "id": "1eecf56c",
   "metadata": {},
   "source": [
    "# EDA \n",
    "\n",
    "2,927,739 rows X 9 columns\n",
    "\n",
    "- 매장 속성 정보\n",
    "  - shop_code -> 식별자 feature, input feature로는 사용하지 않지만 분류를 위해서는 사용할 수 있을 것 같음  \n",
    "  - shop_name -> input feature로는 사용하지 않음 (NLP deep learning 가능성 있음)\n",
    "  - longtitude : 경도, latitude : 위도 -> 매장 위치 (회사 근처, 학교 근처 등 매출 영향성 있음) -> 군집화, labeling 필요\n",
    "  - shop_type_big -> 15 category  -> 업종 (매출 영향성 있음)\n",
    "  - shop_type_small -> 61 category\n",
    "\n",
    "- 매출 정보\n",
    "  - date -> 24 category, 201606~ 201805 까지의 data\n",
    "  - monthly_gain / avearge_sale_price = 한달 총 판매수\n",
    "\n",
    "- 매출 통계 정보-> X\n",
    "\n",
    "\n",
    "##### monthly_gain과 average_sale_price 중 어느 것을 y값으로 둘 것인가? \n",
    "- 월매출 예측 문제로 가정하고 montly_gain 을 y값으로 예측하는 모델 만들기\n",
    "\n",
    "##### shop_code는 input feature에 넣어야 하는가?\n",
    "- 특별한 브랜드가 y값을 결정하는 과적합 요소가 될 수 있으므로\n",
    "- X 에서 shop code, shop name 제외하는 것도 방법\n",
    "- 어느 위치에 어떤 업종으로 어떤 객단가인 매장을 오픈하면 월매출이 어떻게 될까? 문제\n",
    " - X: shop type big, shop type small, longitude, latitude, avg_sale_price, \n",
    " - y: montly_gain"
   ]
  },
  {
   "cell_type": "code",
   "execution_count": null,
   "id": "8160023d",
   "metadata": {},
   "outputs": [],
   "source": [
    "data.columns"
   ]
  },
  {
   "cell_type": "code",
   "execution_count": null,
   "id": "0e2e2b0d",
   "metadata": {},
   "outputs": [],
   "source": [
    "data.info()"
   ]
  },
  {
   "cell_type": "markdown",
   "id": "3f6c9722",
   "metadata": {},
   "source": [
    "# 3. Preprocessing\n",
    "- missing value 제거 \n",
    "    - monthly_gain : 3,605 제거 -> 149,790\n",
    "    - shop_type_big : 4,303 제거 -> 145,487 \n",
    "    - gender feature : 1,187 제거 -> 144,300\n",
    "- shop_code, shop_name : 식별자 feature 이므로 drop \n",
    "- date : 아직은 쓸 수 없으므로 drop\n",
    "    - 여기까지 총 144,300 X 27\n",
    "- shop_type_big(13), shop_type_small(367) : label encodding\n",
    "- longitude, latitude : clustering을 통해 labeling 후 해당 두 열은 drop \n",
    "- MinMaxSaclar 정규화 -> 정규화 column의 범위는??"
   ]
  },
  {
   "cell_type": "code",
   "execution_count": 5,
   "id": "746b4c66",
   "metadata": {},
   "outputs": [],
   "source": [
    "# 원본 data와 따로 관리 -> original data = data, input data = input_data \n",
    "# feature drop\n",
    "input_data = data.copy()\n",
    "input_data = input_data.drop(['date', 'shop_code', 'shop_name'], axis=1)"
   ]
  },
  {
   "cell_type": "code",
   "execution_count": 6,
   "id": "a9ad35fa",
   "metadata": {
    "scrolled": true
   },
   "outputs": [
    {
     "name": "stdout",
     "output_type": "stream",
     "text": [
      "0\n",
      "61\n",
      "False    2927739\n",
      "Name: shop_type_small, dtype: int64\n"
     ]
    }
   ],
   "source": [
    "# There are no missing values \n",
    "# missing value drop - monthly_gain\n",
    "null_index = input_data[input_data['monthly_gain']==0].index \n",
    "print(len(null_index)) \n",
    "input_data = input_data.drop(null_index)\n",
    "\n",
    "# missing value drop - shop_type_big\n",
    "null_index = input_data[input_data['shop_type_big'].isnull()==True].index\n",
    "input_data = input_data.drop(null_index)\n",
    "\n",
    "# There is no \"null\" in \"shop_type_small\" feature \n",
    "print(len(input_data['shop_type_small'].unique()))\n",
    "print(input_data['shop_type_small'].isnull().value_counts())"
   ]
  },
  {
   "cell_type": "code",
   "execution_count": 7,
   "id": "bb83a47b",
   "metadata": {},
   "outputs": [],
   "source": [
    "# LabelEncoder\n",
    "from sklearn.preprocessing import LabelEncoder\n",
    "\n",
    "le = LabelEncoder()\n",
    "input_data['shop_type_big'] = le.fit_transform(list(input_data['shop_type_big']))   # fit transform으로 한번에 처리 가능\n",
    "#le.classes_\n",
    "\n",
    "le = LabelEncoder()\n",
    "input_data['shop_type_small'] = le.fit_transform(list(input_data['shop_type_small'])) \n",
    "#le.classes_"
   ]
  },
  {
   "cell_type": "code",
   "execution_count": null,
   "id": "236323b6",
   "metadata": {},
   "outputs": [],
   "source": [
    "# Labeling - KMeans Clustering \n",
    "# longitude + latitude = geo \n",
    "# So we get inpute_data = 144,300 X 27\n",
    "from sklearn.cluster import KMeans\n",
    "\n",
    "kmeans = KMeans(n_clusters=9).fit(input_data[['latitude', 'longitude']])\n",
    "print(kmeans.cluster_centers_)\n",
    "print(kmeans.labels_)\n",
    "\n",
    "# longitude + latitude = geo \n",
    "# So we get inpute_data = 2,927,739 rows × 5 columns\n",
    "input_data['geo'] = kmeans.labels_\n",
    "\n",
    "sns.scatterplot(x='longitude' , y='latitude', hue=\"geo\", data=input_data, palette=\"Paired\")\n",
    "plt.title('k-mean')\n",
    "\n",
    "input_data = input_data.drop(['longitude', 'latitude'], axis=1)"
   ]
  },
  {
   "cell_type": "code",
   "execution_count": 9,
   "id": "de36c722",
   "metadata": {
    "scrolled": false
   },
   "outputs": [],
   "source": [
    "# average_sale_price -> skewed 된 feature \n",
    "# log정규화 \n",
    "from sklearn.preprocessing import MinMaxScaler, RobustScaler, StandardScaler, Normalizer\n",
    "\n",
    "scale_cols = ['average_sale_price']\n",
    "\n",
    "for _ in scale_cols : \n",
    "    scaled_data = pd.DataFrame(np.log1p(input_data[_]))\n",
    "    input_data[_] = scaled_data"
   ]
  },
  {
   "cell_type": "code",
   "execution_count": 10,
   "id": "e977d128",
   "metadata": {},
   "outputs": [
    {
     "data": {
      "text/plain": [
       "<AxesSubplot:xlabel='shop_type_big', ylabel='average_sale_price'>"
      ]
     },
     "execution_count": 10,
     "metadata": {},
     "output_type": "execute_result"
    },
    {
     "data": {
      "image/png": "[encoded data removed]",
      "text/plain": [
       "<Figure size 1080x576 with 1 Axes>"
      ]
     },
     "metadata": {
      "needs_background": "light"
     },
     "output_type": "display_data"
    }
   ],
   "source": [
    "rcParams['figure.figsize'] = 15,8\n",
    "sns.boxplot(x='shop_type_big', y='average_sale_price', data=input_data)"
   ]
  },
  {
   "cell_type": "code",
   "execution_count": null,
   "id": "31684a87",
   "metadata": {},
   "outputs": [],
   "source": [
    "ax = plt.subplots()\n",
    "ax = sns.distplot(input_data['monthly_gain'], hist=False)\n",
    "ax.set_title('Total Gain Density')\n",
    "ax.set_xlabel('Monthly Gain')\n",
    "ax.set_ylabel('Unit Probability')\n",
    "print(input_data['monthly_gain'].value_counts())"
   ]
  },
  {
   "cell_type": "markdown",
   "id": "61d58240",
   "metadata": {},
   "source": [
    "# 4. 타겟변수 확인\n",
    "why(or when) to use log transform in ML? \n",
    "- target variable이 non-negative values 일때만 \n",
    "- outlier 값들도 사용해야 하는 경우, outliers that can't be filtered out as they are important to the model.\n",
    "- 현재 주어진 data도 좌측으로 치우쳐진 (right skewed) 형태, 굉장히 극소수의 업종들만이 굉장히 큰 매출을 만들어낼 수 있는 것으로 보임 \n",
    "- 어떤 column, feature가 가장 monthly_gain과 상관관계가 높을까요? \n",
    "- kaggle house price prediction 대회에서도 RMSE가 아닌 RMSLE를 사용함 -> log를 씌운 형태인데 target variable인 집값의 범위가 넒기 때문\n",
    "\n",
    "- Skewness: The longer the right tail, the more positive the tail\n",
    "- Kurtosis (kurtosis / kurtosis): If the kurtosis value (K) is close to 3, the scatter is close to the normal distribution. (K <3), the distributions can be judged to be flattened more smoothly than the normal distribution, and if the kurtosis is a positive number larger than 3 (K> 3), the distribution can be considered to be a more pointed distribution than the normal distribution"
   ]
  },
  {
   "cell_type": "code",
   "execution_count": null,
   "id": "3f828869",
   "metadata": {},
   "outputs": [],
   "source": [
    "print(\"Skewness: %f\" % input_data['monthly_gain'].skew())\n",
    "print(\"Kurtosis: %f\" % input_data['monthly_gain'].kurt())"
   ]
  },
  {
   "cell_type": "code",
   "execution_count": null,
   "id": "6d0e251d",
   "metadata": {},
   "outputs": [],
   "source": [
    "plots=pd.DataFrame()\n",
    "plots['original']=input_data['monthly_gain']\n",
    "plots['transformed']=np.log1p(input_data['monthly_gain'])\n",
    "plots['backToOriginal']=np.expm1(np.log1p(input_data['monthly_gain']))\n",
    "\n",
    "fig, ax = plt.subplots(1,3,figsize=(15,5))\n",
    "sns.distplot(plots['original'], ax=ax[0]);\n",
    "sns.distplot(plots['transformed'], ax=ax[1]);\n",
    "sns.distplot(plots['backToOriginal'], ax=ax[2]);"
   ]
  },
  {
   "cell_type": "code",
   "execution_count": null,
   "id": "099a7561",
   "metadata": {},
   "outputs": [],
   "source": [
    "fig = plt.figure(figsize = (15,10))\n",
    "\n",
    "fig.add_subplot(1,2,1)\n",
    "res = stats.probplot(input_data['monthly_gain'], plot=plt)\n",
    "\n",
    "fig.add_subplot(1,2,2)\n",
    "res = stats.probplot(np.log1p(input_data['monthly_gain']), plot=plt)"
   ]
  },
  {
   "cell_type": "markdown",
   "id": "55412fa2",
   "metadata": {},
   "source": [
    "# 5. Modeling\n",
    "- XGB\n",
    "    - 타겟변수 정규화 실행 \n",
    "- LGBM\n",
    "    - loss parameter : tweedie \n",
    "- K-Fold Cross Validation (k=5)"
   ]
  },
  {
   "cell_type": "code",
   "execution_count": null,
   "id": "b80db5da",
   "metadata": {
    "scrolled": true
   },
   "outputs": [],
   "source": [
    "# pandas option 설정 하는 코드\n",
    "# monthly_gain의 경우 부동소수점으로 나타나서 보기 어려울땐 윗 줄의 주석을 제거하고 아래에 주석을 추가하고\n",
    "# 다시 원래대로 돌리고 싶다면 아래에 주석제거, 위에 주석추가\n",
    "pd.options.display.float_format = '{:.2f}'.format\n",
    "#pd.reset_option('display.float_format')\n",
    "\n",
    "input_data.head()"
   ]
  },
  {
   "cell_type": "code",
   "execution_count": null,
   "id": "0eab8ebf",
   "metadata": {},
   "outputs": [],
   "source": [
    "input_data_y = input_data['monthly_gain'].copy()\n",
    "input_data_X = input_data.drop(['monthly_gain'], axis=1)"
   ]
  },
  {
   "cell_type": "code",
   "execution_count": null,
   "id": "f42ec416",
   "metadata": {},
   "outputs": [],
   "source": [
    "from sklearn.model_selection import train_test_split, cross_validate, KFold, TimeSeriesSplit,GridSearchCV\n",
    "from sklearn.metrics import mean_squared_error, r2_score\n",
    "from keras.callbacks import EarlyStopping, ModelCheckpoint\n",
    "from sklearn.metrics import mean_absolute_error, r2_score\n",
    "\n",
    "from lightgbm import LGBMRegressor\n",
    "from lightgbm import plot_importance \n",
    "from xgboost import XGBRegressor\n",
    "from xgboost import plot_importance\n",
    "from sklearn.linear_model import Lasso"
   ]
  },
  {
   "cell_type": "code",
   "execution_count": null,
   "id": "3617dcf0",
   "metadata": {},
   "outputs": [],
   "source": [
    "train_X, test_X, train_y, test_y = train_test_split(\n",
    "    input_data_X, \n",
    "    input_data_y, \n",
    "    test_size = 0.2,      \n",
    "    shuffle=True)  "
   ]
  },
  {
   "cell_type": "markdown",
   "id": "4233d6f0",
   "metadata": {},
   "source": [
    "##### Lasso 모델 파라미터 튜닝시도"
   ]
  },
  {
   "cell_type": "code",
   "execution_count": null,
   "id": "604c4762",
   "metadata": {
    "scrolled": true
   },
   "outputs": [],
   "source": [
    "lasso=Lasso()\n",
    "lasso.fit(train_X,train_y)\n",
    "print(lasso.score(train_X,train_y))\n",
    "print(lasso.score(test_X,test_y))"
   ]
  },
  {
   "cell_type": "code",
   "execution_count": null,
   "id": "7788f6d8",
   "metadata": {},
   "outputs": [],
   "source": [
    "train_score=[]\n",
    "test_score=[]\n",
    "alpha_list=[0.001,0.01,0.1,1,10,100]\n",
    "for alpha in alpha_list:\n",
    "    lasso=Lasso(alpha=alpha,max_iter=10000)\n",
    "    lasso.fit(train_X,train_y)\n",
    "    train_score.append(lasso.score(train_X,train_y))\n",
    "    test_score.append(lasso.score(test_X,test_y))\n",
    "plt.plot(np.log10(alpha_list),train_score)\n",
    "plt.plot(np.log10(alpha_list),test_score)\n",
    "plt.show()"
   ]
  },
  {
   "cell_type": "code",
   "execution_count": null,
   "id": "ace2c581",
   "metadata": {},
   "outputs": [],
   "source": [
    "lasso=Lasso()\n",
    "lasso.fit(train_X,train_y)\n",
    "\n",
    "print(\"훈련 세트의 정확도 : {:.2f}\".format(lasso.score(train_X, train_y)))\n",
    "\n",
    "print(\"테스트 세트의 정확도 : {:.2f}\".format(lasso.score(test_X, test_y)))\n",
    "\n",
    "print(\"사용한 특성의 수 : {}\".format(np.sum(lasso.coef_ != 0)))\n",
    "\n",
    "print(\"사용한 max_iter : {}\".format(lasso.n_iter_))"
   ]
  },
  {
   "cell_type": "code",
   "execution_count": null,
   "id": "ad4f3d6c",
   "metadata": {},
   "outputs": [],
   "source": [
    "#test1\n",
    "lasso1= Lasso(alpha=0.01, max_iter=100000).fit(train_X, train_y)\n",
    "\n",
    "print(\"훈련 세트의 정확도 : {:.2f}\".format(lasso1.score(train_X, train_y)))\n",
    "\n",
    "print(\"테스트 세트의 정확도 : {:.2f}\".format(lasso1.score(test_X, test_y)))\n",
    "\n",
    "print(\"사용한 특성의 수 : {}\".format(np.sum(lasso1.coef_ != 0)))\n",
    "\n",
    "print(\"사용한 max_iter : {}\".format(lasso1.n_iter_))"
   ]
  },
  {
   "cell_type": "code",
   "execution_count": null,
   "id": "d943470f",
   "metadata": {},
   "outputs": [],
   "source": [
    "#test2\n",
    "lasso2= Lasso(alpha=0.0001, max_iter=100000).fit(train_X, train_y)\n",
    "\n",
    "print(\"훈련 세트의 정확도 : {:.2f}\".format(lasso2.score(train_X, train_y)))\n",
    "\n",
    "print(\"테스트 세트의 정확도 : {:.2f}\".format(lasso2.score(test_X, test_y)))\n",
    "\n",
    "print(\"사용한 특성의 수 : {}\".format(np.sum(lasso2.coef_ != 0)))\n",
    "\n",
    "print(\"사용한 max_iter : {}\".format(lasso2.n_iter_))"
   ]
  },
  {
   "cell_type": "markdown",
   "id": "7bc93a5b",
   "metadata": {},
   "source": [
    "##### Lasso parameter 튜닝 시도실패 -> default값으로 모델구현"
   ]
  },
  {
   "cell_type": "code",
   "execution_count": null,
   "id": "ca420720",
   "metadata": {},
   "outputs": [],
   "source": [
    "model_lasso=Lasso()"
   ]
  },
  {
   "cell_type": "code",
   "execution_count": null,
   "id": "f22fe5d7",
   "metadata": {},
   "outputs": [],
   "source": [
    "# Lasso k-fold\n",
    "kfold = KFold(n_splits=5, shuffle=True, random_state = 7)\n",
    "cv_accuracy = []\n",
    "n_iter =0\n",
    "\n",
    "for train_index, valid_index in kfold.split(train_X):  # 데이터를 kfold = 5 로 분할\n",
    "    x_train, x_valid = train_X.iloc[list(train_index)], train_X.iloc[list(valid_index)]\n",
    "    y_train, y_valid = train_y.iloc[list(train_index)], train_y.iloc[list(valid_index)]\n",
    "    #y_train, y_valid = np.log1p(y_train), np.log1p(y_valid)\n",
    "\n",
    "    model_lasso.fit(x_train, y_train)\n",
    "    pred = model_lasso.predict(x_valid)\n",
    "    n_iter += 1\n",
    "    \n",
    "    mse = np.round(mean_squared_error(y_valid, pred), 4) # 소수점 4자리 반올림\n",
    "    rmse = np.sqrt(mse)\n",
    "    train_size = x_train.shape[0]\n",
    "    test_size = x_valid.shape[0]\n",
    "    \n",
    "    print('\\n#{0} 교차 검증 rmse : {1},  학습 데이터 크기 : {2},  검증 데이터 크기 : {3}'\n",
    "          .format(n_iter, rmse, train_size, test_size))\n",
    "    print('#{0} 검증 세트 인덱스 : {1}'.format(n_iter,valid_index))\n",
    "    cv_accuracy.append(rmse)\n",
    "    \n",
    "print('\\n## 평균 검증 rmse:', np.mean(cv_accuracy))"
   ]
  },
  {
   "cell_type": "markdown",
   "id": "668f5176",
   "metadata": {},
   "source": [
    "##### XGB, LGBM 모델 (기존코드와 동일)"
   ]
  },
  {
   "cell_type": "code",
   "execution_count": null,
   "id": "8c2fbec9",
   "metadata": {},
   "outputs": [],
   "source": [
    "model_xgb = XGBRegressor()\n",
    "model_lgbm = LGBMRegressor()"
   ]
  },
  {
   "cell_type": "code",
   "execution_count": null,
   "id": "97d61299",
   "metadata": {},
   "outputs": [],
   "source": [
    "# XGB k-fold\n",
    "kfold = KFold(n_splits=5, shuffle=True, random_state = 7)\n",
    "cv_accuracy = []\n",
    "n_iter =0\n",
    "\n",
    "for train_index, valid_index in kfold.split(train_X):  # 데이터를 kfold = 5 로 분할\n",
    "    x_train, x_valid = train_X.iloc[list(train_index)], train_X.iloc[list(valid_index)]\n",
    "    y_train, y_valid = train_y.iloc[list(train_index)], train_y.iloc[list(valid_index)]\n",
    "    #y_train, y_valid = np.log1p(y_train), np.log1p(y_valid)\n",
    "\n",
    "    model_xgb.fit(x_train, y_train)\n",
    "    pred = model_xgb.predict(x_valid)\n",
    "    n_iter += 1\n",
    "    \n",
    "    mse = np.round(mean_squared_error(y_valid, pred), 4) # 소수점 4자리 반올림\n",
    "    rmse = np.sqrt(mse)\n",
    "    train_size = x_train.shape[0]\n",
    "    test_size = x_valid.shape[0]\n",
    "    \n",
    "    print('\\n#{0} 교차 검증 rmse : {1},  학습 데이터 크기 : {2},  검증 데이터 크기 : {3}'\n",
    "          .format(n_iter, rmse, train_size, test_size))\n",
    "    print('#{0} 검증 세트 인덱스 : {1}'.format(n_iter,valid_index))\n",
    "    cv_accuracy.append(rmse)\n",
    "    \n",
    "print('\\n## 평균 검증 rmse:', np.mean(cv_accuracy))"
   ]
  },
  {
   "cell_type": "code",
   "execution_count": null,
   "id": "9d08ae4e",
   "metadata": {},
   "outputs": [],
   "source": [
    "kfold = KFold(n_splits=5, shuffle=True, random_state = 7)\n",
    "cv_accuracy = []\n",
    "n_iter =0\n",
    "\n",
    "for train_index, valid_index in kfold.split(train_X):  # 데이터를 kfold = 5 로 분할\n",
    "    x_train, x_valid = train_X.iloc[list(train_index)], train_X.iloc[list(valid_index)]\n",
    "    y_train, y_valid = train_y.iloc[list(train_index)], train_y.iloc[list(valid_index)]\n",
    "    #y_train, y_valid = np.log1p(y_train), np.log1p(y_valid)\n",
    "    \n",
    "    model_lgbm.fit(x_train, y_train)\n",
    "    pred = model_lgbm.predict(x_valid)\n",
    "    n_iter += 1\n",
    "    \n",
    "    mse = np.round(mean_squared_error(y_valid, pred), 4) # 소수점 4자리 반올림\n",
    "    rmse = np.sqrt(mse)\n",
    "    train_size = x_train.shape[0]\n",
    "    test_size = x_valid.shape[0]\n",
    "    \n",
    "    print('\\n#{0} 교차 검증 rmse : {1},  학습 데이터 크기 : {2},  검증 데이터 크기 : {3}'\n",
    "          .format(n_iter, rmse, train_size, test_size))\n",
    "    print('#{0} 검증 세트 인덱스 : {1}'.format(n_iter,valid_index))\n",
    "    cv_accuracy.append(rmse)\n",
    "    \n",
    "print('\\n## 평균 검증 rmse:', np.mean(cv_accuracy))"
   ]
  },
  {
   "cell_type": "markdown",
   "id": "661b6690",
   "metadata": {},
   "source": [
    "##### 각 모델 pred"
   ]
  },
  {
   "cell_type": "code",
   "execution_count": null,
   "id": "ddedfe6a",
   "metadata": {},
   "outputs": [],
   "source": [
    "#pred_xgb = model_xgb.predict(test_X)\n",
    "#pred_lgbm = model_lgbm.predict(test_X)\n",
    "pred_lasso=model_lasso.predict(test_X)"
   ]
  },
  {
   "cell_type": "code",
   "execution_count": null,
   "id": "ace105a6",
   "metadata": {},
   "outputs": [],
   "source": [
    "#pred_xgb = np.exp(pred_xgb)-1\n",
    "#pred_lgbm = np.exp(pred_lgbm)-1\n",
    "\n",
    "#test_y = np.exp(test_y)-1"
   ]
  },
  {
   "cell_type": "markdown",
   "id": "0201440a",
   "metadata": {},
   "source": [
    "## Prediction"
   ]
  },
  {
   "cell_type": "code",
   "execution_count": null,
   "id": "4e53e2b3",
   "metadata": {},
   "outputs": [],
   "source": [
    "def plot_history(history):\n",
    "    #hist = pd.DataFrame(history.history)\n",
    "    #history['epoch'] = history.epoch\n",
    "    \n",
    "    plt.figure(figsize=(8,12))\n",
    "    \n",
    "    # Mean Abs Error : 평균 절대 오차, 측정값에서 오차의 크기로 측정값과 실제값과의 차이, 절대 오차의 평균  \n",
    "    # -> 측정하고자 하는 값을 정확하게 측정하지 못함으로써 발생\n",
    "    plt.subplot(2,1,1)\n",
    "    plt.xlabel('Epoch')\n",
    "    plt.ylabel('Mean Abs Error')\n",
    "    plt.plot(hist['epoch'], hist['mae'],\n",
    "           label='Train Error')\n",
    "    plt.plot(hist['epoch'], hist['val_mae'],\n",
    "           label = 'Val Error')\n",
    "    plt.legend()\n",
    "    \n",
    "    # Mean Square Error : 평균 제곱 오차, 오차의 제복에 대한 평균을 취한 값\n",
    "    plt.subplot(2,1,2)\n",
    "    plt.xlabel('Epoch')\n",
    "    plt.ylabel('Mean Square Error')\n",
    "    plt.plot(hist['epoch'], hist['mse'],\n",
    "           label='Train Error')\n",
    "    plt.plot(hist['epoch'], hist['val_mse'],\n",
    "           label = 'Val Error')\n",
    "    plt.legend()\n",
    "    plt.show()\n",
    "    \n",
    "def show_pred(test_y, pred) :\n",
    "    true_y = test_y.to_numpy()\n",
    "    true_y = np.ravel(true_y)\n",
    "    \n",
    "    df_result = pd.DataFrame(list(zip(true_y, pred)), columns=['true_y', 'prediction'])\n",
    "    return df_result\n",
    "\n",
    "def show_mse_rmse(test_y, pred) :\n",
    "    mse = mean_squared_error(test_y, pred)\n",
    "    print(\"mse : %f\" % mse)\n",
    "    \n",
    "    rmse = np.sqrt(mse)\n",
    "    print(\"rmse: %f \\n\" %rmse)\n",
    "    \n",
    "    \n",
    "def show_mae(test_y,pred):    \n",
    "    mae = mean_absolute_error(test_y, pred)\n",
    "    print(\"mae : %f\" %mae)\n",
    "    \n",
    "\n",
    "def show_r2_score(test_y, pred, test_X) : \n",
    "    r2 = r2_score(pred, test_y)\n",
    "    print(\"r2 : %f \" % r2)\n",
    "    \n",
    "    # 독립변수가 많을 수록 결정계수 r2 값은 커지므로, 독립변수가 2개 이상일 경우 조정된 결정계수 adj_r2를 사용\n",
    "    # 기존의 결정계수 r2에 n(데이터 개수) 와 k(변수 개수)가 추가 됨 \n",
    "    # r2 score는 regression model의 훌륭한 평가 지표이지만, 예측 모델과 실제 모델의 분산이 얼마나 비슷한지에 기반하기에 \n",
    "    # 예측값과 실제값이 많이 달라도 분산만 비슷하면 높은 점수를 얻을 수 있다는 맹점이 있다 \n",
    "    adj_r2 = 1 - (1-r2)*(test_X.shape[0]-1)/(test_X.shape[0]-test_X.shape[1]-1)\n",
    "    print(\"adj_r2_score : %f \\n\" % adj_r2)\n",
    "    \n",
    "def show_prediction_error(test_y, pred) :\n",
    "    true_y = test_y.to_numpy()\n",
    "    true_y = np.ravel(true_y)\n",
    "    error = pred - true_y\n",
    "    plt.hist(error, bins=25)\n",
    "    plt.xlabel(\"Prediction Error\")\n",
    "    _ = plt.ylabel(\"Count\")\n",
    "    \n",
    "def feature_importance(model_xgb) : \n",
    "    %matplotlib inline\n",
    "    plt.rcParams['axes.unicode_minus'] = False\n",
    "    font_path = \"C:/Windows/Fonts/NGULIM.TTF\"\n",
    "    font = fm.FontProperties(fname=font_path).get_name()\n",
    "    rc('font', family=font)\n",
    "\n",
    "    fig, ax = plt.subplots(figsize=(10,12))\n",
    "    plot_importance(model_xgb, ax=ax)\n",
    "    \n",
    "def graph(pred, test_label) :\n",
    "    plt.figure(figsize=(16, 9))\n",
    "    plt.plot(test_label, label = 'actual')\n",
    "    plt.plot(pred, label = 'prediction')\n",
    "    plt.legend()\n",
    "    plt.show()"
   ]
  },
  {
   "cell_type": "code",
   "execution_count": null,
   "id": "bd11588d",
   "metadata": {},
   "outputs": [],
   "source": [
    "show_pred(test_y, pred_xgb)"
   ]
  },
  {
   "cell_type": "code",
   "execution_count": null,
   "id": "d14d900d",
   "metadata": {},
   "outputs": [],
   "source": [
    "show_pred(test_y, pred_lgbm)"
   ]
  },
  {
   "cell_type": "code",
   "execution_count": null,
   "id": "ea09250c",
   "metadata": {},
   "outputs": [],
   "source": [
    "show_pred(test_y, pred_lasso)"
   ]
  },
  {
   "cell_type": "code",
   "execution_count": null,
   "id": "89def36c",
   "metadata": {},
   "outputs": [],
   "source": [
    "show_mse_rmse(test_y, pred_xgb)\n",
    "show_r2_score(test_y, pred_xgb, test_X)\n",
    "show_mae(test_y,pred_xgb)"
   ]
  },
  {
   "cell_type": "code",
   "execution_count": null,
   "id": "41d7fb22",
   "metadata": {
    "scrolled": false
   },
   "outputs": [],
   "source": [
    "show_mse_rmse(test_y, pred_lgbm)\n",
    "show_r2_score(test_y, pred_lgbm, test_X)\n",
    "show_mae(test_y,pred_lgbm)"
   ]
  },
  {
   "cell_type": "code",
   "execution_count": null,
   "id": "be0ed45d",
   "metadata": {},
   "outputs": [],
   "source": [
    "show_mse_rmse(test_y, pred_lasso)\n",
    "show_r2_score(test_y, pred_lasso, test_X)\n",
    "show_mae(test_y,pred_lasso)"
   ]
  }
 ],
 "metadata": {
  "kernelspec": {
   "display_name": "Python 3 (ipykernel)",
   "language": "python",
   "name": "python3"
  },
  "language_info": {
   "codemirror_mode": {
    "name": "ipython",
    "version": 3
   },
   "file_extension": ".py",
   "mimetype": "text/x-python",
   "name": "python",
   "nbconvert_exporter": "python",
   "pygments_lexer": "ipython3",
   "version": "3.8.10"
  }
 },
 "nbformat": 4,
 "nbformat_minor": 5
}
