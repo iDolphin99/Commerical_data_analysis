{
 "cells": [
  {
   "cell_type": "markdown",
   "metadata": {},
   "source": [
    "# Data Load\n"
   ]
  },
  {
   "cell_type": "code",
   "execution_count": null,
   "metadata": {
    "execution": {
     "iopub.execute_input": "2022-01-15T15:43:20.998121Z",
     "iopub.status.busy": "2022-01-15T15:43:20.997852Z",
     "iopub.status.idle": "2022-01-15T15:43:21.001554Z",
     "shell.execute_reply": "2022-01-15T15:43:21.000885Z",
     "shell.execute_reply.started": "2022-01-15T15:43:20.99809Z"
    }
   },
   "outputs": [],
   "source": [
    "import numpy as np\n",
    "import pandas as pd"
   ]
  },
  {
   "cell_type": "code",
   "execution_count": null,
   "metadata": {
    "execution": {
     "iopub.execute_input": "2022-01-15T15:43:21.003717Z",
     "iopub.status.busy": "2022-01-15T15:43:21.003343Z",
     "iopub.status.idle": "2022-01-15T15:43:21.012193Z",
     "shell.execute_reply": "2022-01-15T15:43:21.011107Z",
     "shell.execute_reply.started": "2022-01-15T15:43:21.003683Z"
    }
   },
   "outputs": [],
   "source": [
    "import seaborn as sns\n",
    "import matplotlib.pyplot as plt\n",
    "# %matplotlib inline\n",
    "# #%matplotlib tk\n",
    "\n",
    "# import matplotlib \n",
    "# matplotlib.font_manager._rebuild()"
   ]
  },
  {
   "cell_type": "code",
   "execution_count": null,
   "metadata": {
    "execution": {
     "iopub.execute_input": "2022-01-15T15:43:21.01405Z",
     "iopub.status.busy": "2022-01-15T15:43:21.013692Z",
     "iopub.status.idle": "2022-01-15T15:43:21.023973Z",
     "shell.execute_reply": "2022-01-15T15:43:21.02324Z",
     "shell.execute_reply.started": "2022-01-15T15:43:21.014015Z"
    }
   },
   "outputs": [],
   "source": [
    "# # 한글 폰트가 깨지면 실행하세요! \n",
    "# import matplotlib.font_manager as fm\n",
    "# fontlist = fm.findSystemFonts(fontpaths = None, fontext='ttf')\n",
    "# # 아래 주석을 지워서 폰트 리스트를 확인하고 한글 폰트를 font_path에 추가합니다\n",
    "# #fontlist[:]\n",
    "\n",
    "# from matplotlib import font_manager, rc\n",
    "# font_path = 'C:\\\\Users\\\\mtang\\\\AppData\\\\Local\\\\Microsoft\\\\Windows\\\\Fonts\\\\NanumSquare.ttf'\n",
    "# font = font_manager.FontProperties(fname=font_path).get_name()\n",
    "# rc('font', family=font)"
   ]
  },
  {
   "cell_type": "code",
   "execution_count": null,
   "metadata": {
    "execution": {
     "iopub.execute_input": "2022-01-15T15:43:21.026579Z",
     "iopub.status.busy": "2022-01-15T15:43:21.026156Z",
     "iopub.status.idle": "2022-01-15T15:43:21.745784Z",
     "shell.execute_reply": "2022-01-15T15:43:21.745075Z",
     "shell.execute_reply.started": "2022-01-15T15:43:21.026539Z"
    }
   },
   "outputs": [],
   "source": [
    "data = pd.read_csv(\"../input/kwproja/kwproja_data.csv\")\n",
    "\n",
    "data"
   ]
  },
  {
   "cell_type": "markdown",
   "metadata": {},
   "source": [
    "# EDA : Overview\n",
    "\n",
    "153395 rows X 31 columns\n",
    "\n",
    "- 매장 속성 정보\n",
    "  - shop_code -> 식별자 feature, input feature로는 사용하지 않지만 분류를 위해서는 사용할 수 있을 것 같음  \n",
    "  - shop_name -> input feature로는 사용하지 않음 (NLP deep learning 가능성 있음)\n",
    "  - longtitude : 경도, latitude : 위도 -> 매장 위치 (회사 근처, 학교 근처 등 매출 영향성 있음) -> 군집화, labeling 필요\n",
    "  - shop_type_big -> 13 category  -> 업종 (매출 영향성 있음)\n",
    "  - shop_type_small -> 367 category\n",
    "\n",
    "- 매출 정보\n",
    "  - date -> 12 category, 201702~ 201801 까지의 data\n",
    "  - monthly_gain / avearge_sale_price = 한달 총 판매수\n",
    "\n",
    "- 매출 통계 정보\n",
    "  - weekday0~6 : 일 ~ 월\n",
    "  - time -> 05_10 / 10_14 / 14_18 / 18_20 / 20_22 / 22_24 / 24_05 => 시간대가 동일하지 않음\n",
    "    - 새벽대는 찾는 손님 적어 시간 길게 잡았을 것\n",
    "    - 저녁 시간대는 가장 매출이 많이 이뤄지는 prime time 이라 시간대를 짧게 잡았을 것\n",
    "  - female/male : 20/30/40/50 -> 8 columns\n",
    "\n",
    "##### monthly_gain과 average_sale_price 중 어느 것을 y값으로 둘 것인가? \n",
    "- 월매출 예측 문제로 가정하고 montly_gain 을 y값으로 예측하는 모델 만들기\n",
    "\n",
    "##### shop_code는 input feature에 넣어야 하는가?\n",
    "- 특별한 브랜드가 y값을 결정하는 과적합 요소가 될 수 있으므로\n",
    "- X 에서 shop code, shop name 제외하는 것도 방법\n",
    "- 어느 위치에 어떤 업종으로 어떤 객단가인 매장을 오픈하면 월매출이 어떻게 될까? 문제\n",
    " - X: shop type big, shop type small, longitude, latitude, avg_sale_price, \n",
    " - y: montly_gain"
   ]
  },
  {
   "cell_type": "code",
   "execution_count": null,
   "metadata": {
    "execution": {
     "iopub.execute_input": "2022-01-15T15:43:21.748387Z",
     "iopub.status.busy": "2022-01-15T15:43:21.747019Z",
     "iopub.status.idle": "2022-01-15T15:43:21.768704Z",
     "shell.execute_reply": "2022-01-15T15:43:21.768077Z",
     "shell.execute_reply.started": "2022-01-15T15:43:21.748346Z"
    }
   },
   "outputs": [],
   "source": [
    "data.head()"
   ]
  },
  {
   "cell_type": "code",
   "execution_count": null,
   "metadata": {
    "execution": {
     "iopub.execute_input": "2022-01-15T15:43:21.770452Z",
     "iopub.status.busy": "2022-01-15T15:43:21.769983Z",
     "iopub.status.idle": "2022-01-15T15:43:21.776099Z",
     "shell.execute_reply": "2022-01-15T15:43:21.77529Z",
     "shell.execute_reply.started": "2022-01-15T15:43:21.770417Z"
    }
   },
   "outputs": [],
   "source": [
    "data.columns"
   ]
  },
  {
   "cell_type": "code",
   "execution_count": null,
   "metadata": {
    "execution": {
     "iopub.execute_input": "2022-01-15T15:43:21.778302Z",
     "iopub.status.busy": "2022-01-15T15:43:21.777611Z",
     "iopub.status.idle": "2022-01-15T15:43:21.842864Z",
     "shell.execute_reply": "2022-01-15T15:43:21.842063Z",
     "shell.execute_reply.started": "2022-01-15T15:43:21.778263Z"
    }
   },
   "outputs": [],
   "source": [
    "data.info()"
   ]
  },
  {
   "cell_type": "markdown",
   "metadata": {},
   "source": [
    "### shop_name, shop_code\n",
    "- shop_code가 식별자 feature, 가게는 동일하지만 가게명이 바뀌는 경우가 존재함\n",
    "    - shop_name(13,633), shop_code(13,352) -> 약 300 가게 정도는 이름이 바뀐 것으로 추정\n",
    "    - 확인 결과 총 222가게가 이름을 최소 2번 바꾸었으며 평균 4번, 최대 66번 바꾸었음 \n",
    "- 결론-> shop code, shop name 은 모델입력으로 적합하지 않음\n",
    "- 업종 별 매출 예측으로만 봐야 적당할 것으로 보임"
   ]
  },
  {
   "cell_type": "code",
   "execution_count": null,
   "metadata": {
    "execution": {
     "iopub.execute_input": "2022-01-15T15:43:21.845807Z",
     "iopub.status.busy": "2022-01-15T15:43:21.845531Z",
     "iopub.status.idle": "2022-01-15T15:43:21.930838Z",
     "shell.execute_reply": "2022-01-15T15:43:21.929934Z",
     "shell.execute_reply.started": "2022-01-15T15:43:21.845771Z"
    }
   },
   "outputs": [],
   "source": [
    "# 13633 \n",
    "# 13352\n",
    "# shop_name과 shop_code가 항상 같다면, 위 두 숫자가 같아야 하는데 약 300개의 data가 차이가 남 \n",
    "# shop_code는 동일하지만(가게는 동일하지만) 업종, 가게명이 바뀌었을 수도 있음 -> shop_code를 식별자 feature로 사용\n",
    "print(data['shop_name'].nunique())\n",
    "print(data['shop_code'].nunique())\n",
    "print(data['longitude'].nunique())\n",
    "print(data['latitude'].nunique())\n",
    "print(data['shop_type_big'].nunique())\n",
    "print(data['shop_type_big'].unique())\n",
    "print(data['shop_type_small'].nunique())\n",
    "#print(data['shop_type_small'].unique())\n",
    "print(data['date'].unique())"
   ]
  },
  {
   "cell_type": "code",
   "execution_count": null,
   "metadata": {
    "execution": {
     "iopub.execute_input": "2022-01-15T15:43:21.932439Z",
     "iopub.status.busy": "2022-01-15T15:43:21.932166Z",
     "iopub.status.idle": "2022-01-15T15:43:21.990521Z",
     "shell.execute_reply": "2022-01-15T15:43:21.989619Z",
     "shell.execute_reply.started": "2022-01-15T15:43:21.932401Z"
    }
   },
   "outputs": [],
   "source": [
    "# shop code 를 group by 했을 때 그 안에 몇 종류의 shop name이 있는지 (1이어야 정상)\n",
    "check_df = data.groupby('shop_code')['shop_name'].nunique().to_frame('shop_name_unique').reset_index()\n",
    "check_df"
   ]
  },
  {
   "cell_type": "code",
   "execution_count": null,
   "metadata": {
    "execution": {
     "iopub.execute_input": "2022-01-15T15:43:21.992368Z",
     "iopub.status.busy": "2022-01-15T15:43:21.992089Z",
     "iopub.status.idle": "2022-01-15T15:43:22.008045Z",
     "shell.execute_reply": "2022-01-15T15:43:22.00718Z",
     "shell.execute_reply.started": "2022-01-15T15:43:21.992332Z"
    }
   },
   "outputs": [],
   "source": [
    "# shop code안에 여러 shop name 있는 경우\n",
    "check_df2 = check_df[check_df['shop_name_unique'] > 1]\n",
    "check_df2"
   ]
  },
  {
   "cell_type": "code",
   "execution_count": null,
   "metadata": {
    "execution": {
     "iopub.execute_input": "2022-01-15T15:43:22.009811Z",
     "iopub.status.busy": "2022-01-15T15:43:22.009521Z",
     "iopub.status.idle": "2022-01-15T15:43:22.02252Z",
     "shell.execute_reply": "2022-01-15T15:43:22.0215Z",
     "shell.execute_reply.started": "2022-01-15T15:43:22.009771Z"
    }
   },
   "outputs": [],
   "source": [
    "# 총 222가게가 이름을 최소 2번 바꾸었으며 평균 4번, 최대 66번 바꾸었음 \n",
    "check_df2['shop_name_unique'].describe()"
   ]
  },
  {
   "cell_type": "code",
   "execution_count": null,
   "metadata": {
    "execution": {
     "iopub.execute_input": "2022-01-15T15:43:22.024519Z",
     "iopub.status.busy": "2022-01-15T15:43:22.023991Z",
     "iopub.status.idle": "2022-01-15T15:43:22.070829Z",
     "shell.execute_reply": "2022-01-15T15:43:22.070047Z",
     "shell.execute_reply.started": "2022-01-15T15:43:22.024475Z"
    }
   },
   "outputs": [],
   "source": [
    "# 롯데 월드 안에  놀이기구도 있지만, 편의점, 호텔 등 다는 업종 매출로 잡히는 것들도 있음!\n",
    "# 결론-> shop code, shop name 은 모델입력으로 적합하지 않음\n",
    "# 업종 별 매출 예측으로만 봐야 적당할 것으로 보임\n",
    "data[data['shop_code'] == 148500219]"
   ]
  },
  {
   "cell_type": "markdown",
   "metadata": {},
   "source": [
    "### shop_type_big, shopt_type_small, 업종과 매출 사이의 상관관계\n",
    "- 매출 데이터(monthly_gain)에 missing value 결측치 존재(3,605개) -> 제거하고 확인 총 149,789개 \n",
    "- monthly_gain \n",
    "    - mean |     98,313,252.03 | 9천8백만\n",
    "    - min |                5.01 | \n",
    "    - 25% |\t     4,443,902.50 | 4백만\n",
    "    - 50% |\t    15,570,070.00 | 1천5백만\n",
    "    - 75% |\t    43,280,488.20 | 4천3백만\n",
    "    - max |  110,795,923,219.85 | 1107억9천5백만\n",
    "- shop type big (13)\n",
    "    - 음식(51004) 소매(47318) 의료(16618) 생활서비스(16074) 학문/교육(4495) 관광/여가/오락(3676) 도매/유통/무역(2607) 스포츠(1525) 숙박(1198) 제조(518) 부동산(335) 전자/정보통신(98) 기술서비스(21)\n",
    "    - min \n",
    "    - '기술서비스', '전자/정보통신', '제조', '의료', '부동산', '숙박', '스포츠', '도매/유통/무역', '음식', '학문/교육', '관광/여가/오락', '소매', '생활서비스'\n",
    "    - 부동산(10,060) 기준 이하(7곳)은 비슷함\n",
    "    - mean \n",
    "    - '도매/유통/무역', '숙박', '제조', '전자/정보통신', '소매', '의료', '관광/여가/오락', '학문/교육', '음식', '생활서비스', '스포츠', '부동산', '기술서비스'\n",
    "    - max \n",
    "    - '도매/유통/무역', '소매', '관광/여가/오락', '제조', '숙박', '의료', '전자/정보통신', '생활서비스', '학문/교육', '음식', '스포츠', '부동산', '기술서비스'\n",
    "- 평균만 놓고 보아도 가장 낮은 업종은 천만원대, 가장 높은 업종은 억대이다 \n",
    "- shop type small (367)\n"
   ]
  },
  {
   "cell_type": "code",
   "execution_count": null,
   "metadata": {
    "execution": {
     "iopub.execute_input": "2022-01-15T15:43:22.072473Z",
     "iopub.status.busy": "2022-01-15T15:43:22.072203Z",
     "iopub.status.idle": "2022-01-15T15:43:22.129646Z",
     "shell.execute_reply": "2022-01-15T15:43:22.128893Z",
     "shell.execute_reply.started": "2022-01-15T15:43:22.072439Z"
    }
   },
   "outputs": [],
   "source": [
    "# issue -> shop_type_big에 관한 issue를 참고하세요!\n",
    "# issue -> '음식'과 '음식 ' 두 개로 count 되고 있습니다. 아래 코드로 수정하시길 바랍니다\n",
    "\n",
    "data.loc[data['shop_type_big'] == '음식 ', 'shop_type_big'] = '음식'\n",
    "print(data['shop_type_big'].nunique())\n",
    "print(data['shop_type_big'].unique())"
   ]
  },
  {
   "cell_type": "code",
   "execution_count": null,
   "metadata": {
    "execution": {
     "iopub.execute_input": "2022-01-15T15:43:22.131199Z",
     "iopub.status.busy": "2022-01-15T15:43:22.130664Z",
     "iopub.status.idle": "2022-01-15T15:43:22.164786Z",
     "shell.execute_reply": "2022-01-15T15:43:22.163986Z",
     "shell.execute_reply.started": "2022-01-15T15:43:22.131165Z"
    }
   },
   "outputs": [],
   "source": [
    "# 데이터 값 실수. 소수점 두째자리까지 표시\n",
    "pd.options.display.float_format = '{:.2f}'.format\n",
    "\n",
    "# 매출데이터에 0값이 3605개가 잡힘 -> 정확한 eda를 위해서 이를 제거하고 계속 진행하겠음 \n",
    "df_check = data[data.average_sale_price!=0][[\"shop_type_big\", \"shop_type_small\", \"average_sale_price\"]].reset_index().drop(\"index\", axis=1)\n",
    "df_check\n",
    "#print(153394-3605)"
   ]
  },
  {
   "cell_type": "code",
   "execution_count": null,
   "metadata": {
    "execution": {
     "iopub.execute_input": "2022-01-15T15:43:22.166439Z",
     "iopub.status.busy": "2022-01-15T15:43:22.165883Z",
     "iopub.status.idle": "2022-01-15T15:43:22.186049Z",
     "shell.execute_reply": "2022-01-15T15:43:22.185118Z",
     "shell.execute_reply.started": "2022-01-15T15:43:22.1664Z"
    }
   },
   "outputs": [],
   "source": [
    "pd.DataFrame(df_check['average_sale_price']).describe()"
   ]
  },
  {
   "cell_type": "code",
   "execution_count": null,
   "metadata": {
    "execution": {
     "iopub.execute_input": "2022-01-15T15:43:22.187914Z",
     "iopub.status.busy": "2022-01-15T15:43:22.187646Z",
     "iopub.status.idle": "2022-01-15T15:43:22.272613Z",
     "shell.execute_reply": "2022-01-15T15:43:22.271551Z",
     "shell.execute_reply.started": "2022-01-15T15:43:22.187878Z"
    }
   },
   "outputs": [],
   "source": [
    "group_big = df_check.groupby('shop_type_big')\n",
    "df_group_big = group_big.describe().droplevel(axis=1,level=0)\n",
    "\n",
    "df_group_big"
   ]
  },
  {
   "cell_type": "code",
   "execution_count": null,
   "metadata": {
    "execution": {
     "iopub.execute_input": "2022-01-15T15:43:22.274508Z",
     "iopub.status.busy": "2022-01-15T15:43:22.274183Z",
     "iopub.status.idle": "2022-01-15T15:43:22.285063Z",
     "shell.execute_reply": "2022-01-15T15:43:22.284292Z",
     "shell.execute_reply.started": "2022-01-15T15:43:22.274467Z"
    }
   },
   "outputs": [],
   "source": [
    "print(\"내림차순 기준 분야별로 정렬하여 출력합니다\")\n",
    "print(\"min: \", list(df_group_big.sort_values(by=['min'], ascending=False).index))\n",
    "print(\"mean: \", list(df_group_big.sort_values(by=['mean'], ascending=False).index))\n",
    "print(\"max: \", list(df_group_big.sort_values(by=['max'], ascending=False).index))"
   ]
  },
  {
   "cell_type": "code",
   "execution_count": null,
   "metadata": {
    "execution": {
     "iopub.execute_input": "2022-01-15T15:43:22.287072Z",
     "iopub.status.busy": "2022-01-15T15:43:22.286384Z",
     "iopub.status.idle": "2022-01-15T15:43:22.863056Z",
     "shell.execute_reply": "2022-01-15T15:43:22.862296Z",
     "shell.execute_reply.started": "2022-01-15T15:43:22.287032Z"
    }
   },
   "outputs": [],
   "source": [
    "sns.boxplot(x='shop_type_big', y='average_sale_price', data=df_check)"
   ]
  },
  {
   "cell_type": "code",
   "execution_count": null,
   "metadata": {
    "execution": {
     "iopub.execute_input": "2022-01-15T15:43:22.868375Z",
     "iopub.status.busy": "2022-01-15T15:43:22.867541Z",
     "iopub.status.idle": "2022-01-15T15:43:24.287096Z",
     "shell.execute_reply": "2022-01-15T15:43:24.286403Z",
     "shell.execute_reply.started": "2022-01-15T15:43:22.868334Z"
    }
   },
   "outputs": [],
   "source": [
    "group_big.boxplot()"
   ]
  },
  {
   "cell_type": "code",
   "execution_count": null,
   "metadata": {
    "execution": {
     "iopub.execute_input": "2022-01-15T15:43:24.288902Z",
     "iopub.status.busy": "2022-01-15T15:43:24.288421Z",
     "iopub.status.idle": "2022-01-15T15:43:24.845259Z",
     "shell.execute_reply": "2022-01-15T15:43:24.844505Z",
     "shell.execute_reply.started": "2022-01-15T15:43:24.28886Z"
    }
   },
   "outputs": [],
   "source": [
    "fig, axes = plt.subplots(1, 3)\n",
    "\n",
    "df_group_big.plot.bar(ax = axes[0], y='min')\n",
    "df_group_big.plot.bar(ax = axes[1], y='mean')\n",
    "df_group_big.plot.bar(ax = axes[2], y='max')\n",
    "\n",
    "plt.rcParams['figure.figsize'] = [14, 6]\n",
    "plt.show()"
   ]
  },
  {
   "cell_type": "code",
   "execution_count": null,
   "metadata": {
    "execution": {
     "iopub.execute_input": "2022-01-15T15:43:24.847006Z",
     "iopub.status.busy": "2022-01-15T15:43:24.846639Z",
     "iopub.status.idle": "2022-01-15T15:43:24.850553Z",
     "shell.execute_reply": "2022-01-15T15:43:24.84971Z",
     "shell.execute_reply.started": "2022-01-15T15:43:24.84697Z"
    }
   },
   "outputs": [],
   "source": [
    "# #pd.set_option('display.max_rows', 14)\n",
    "# group_small = df_check_gain.groupby('shop_type_small')\n",
    "# group_small.describe()"
   ]
  },
  {
   "cell_type": "code",
   "execution_count": null,
   "metadata": {
    "execution": {
     "iopub.execute_input": "2022-01-15T15:43:24.852184Z",
     "iopub.status.busy": "2022-01-15T15:43:24.851905Z",
     "iopub.status.idle": "2022-01-15T15:43:25.590749Z",
     "shell.execute_reply": "2022-01-15T15:43:25.589969Z",
     "shell.execute_reply.started": "2022-01-15T15:43:24.852147Z"
    }
   },
   "outputs": [],
   "source": [
    "# density plot only\n",
    "ax = plt.subplots()\n",
    "ax = sns.distplot(df_check['average_sale_price'], hist = False)\n",
    "ax.set_title('average_sale_price Histogram with Density Plot')"
   ]
  },
  {
   "cell_type": "markdown",
   "metadata": {},
   "source": [
    "### longitude, latitude \n",
    "- shop_code가 식별자 feature, 가게는 동일하지만 가게명이 바뀌는 경우가 존재함\n",
    "    - shop_name(13,633), shop_code(13,352) -> 약 300 가게 정도는 이름이 바뀐 것으로 추정\n",
    "    - 확인 결과 총 222가게가 이름을 최소 2번 바꾸었으며 평균 4번, 최대 66번 바꾸었음 "
   ]
  },
  {
   "cell_type": "code",
   "execution_count": null,
   "metadata": {
    "execution": {
     "iopub.execute_input": "2022-01-15T15:43:25.592792Z",
     "iopub.status.busy": "2022-01-15T15:43:25.591914Z",
     "iopub.status.idle": "2022-01-15T15:43:26.296417Z",
     "shell.execute_reply": "2022-01-15T15:43:26.295626Z",
     "shell.execute_reply.started": "2022-01-15T15:43:25.59275Z"
    }
   },
   "outputs": [],
   "source": [
    "ax = plt.subplots()\n",
    "ax = sns.distplot(data['average_sale_price'], hist=False)\n",
    "ax.set_title('Total Gain Density')\n",
    "ax.set_xlabel('average_sale_price')\n",
    "ax.set_ylabel('Unit Probability')"
   ]
  },
  {
   "cell_type": "code",
   "execution_count": null,
   "metadata": {
    "execution": {
     "iopub.execute_input": "2022-01-15T15:43:26.298163Z",
     "iopub.status.busy": "2022-01-15T15:43:26.297599Z",
     "iopub.status.idle": "2022-01-15T15:43:26.489853Z",
     "shell.execute_reply": "2022-01-15T15:43:26.489155Z",
     "shell.execute_reply.started": "2022-01-15T15:43:26.298122Z"
    }
   },
   "outputs": [],
   "source": [
    "plt.figure(figsize=(12,8))\n",
    "sns.boxplot(data=data['average_sale_price'], color='red')\n",
    "plt.show()"
   ]
  },
  {
   "cell_type": "code",
   "execution_count": null,
   "metadata": {},
   "outputs": [],
   "source": []
  },
  {
   "cell_type": "markdown",
   "metadata": {},
   "source": [
    "# 위치 데이터"
   ]
  },
  {
   "cell_type": "code",
   "execution_count": null,
   "metadata": {
    "execution": {
     "iopub.execute_input": "2022-01-15T15:43:26.491783Z",
     "iopub.status.busy": "2022-01-15T15:43:26.490953Z",
     "iopub.status.idle": "2022-01-15T15:43:26.497098Z",
     "shell.execute_reply": "2022-01-15T15:43:26.49625Z",
     "shell.execute_reply.started": "2022-01-15T15:43:26.491744Z"
    }
   },
   "outputs": [],
   "source": [
    "# plt.scatter(input_data['longitude'], input_data['latitude'])\n",
    "# plt.show()"
   ]
  },
  {
   "cell_type": "code",
   "execution_count": null,
   "metadata": {},
   "outputs": [],
   "source": []
  },
  {
   "cell_type": "markdown",
   "metadata": {},
   "source": [
    "# Preprocessing\n",
    "- shop_code, shop_name : 식별자 feature 이므로 drop \n",
    "- shop_type_big, shop_type_small : label encodding\n",
    "- longitude, latitude : 일단은 input_feature에 넣지만 중복값이 많아 보이므로 추후에 제거해보려 함 \n",
    "- monthly_gain : 결측치 제거 (0값, 3605개로 계산됨)\n",
    "- MinMaxSaclar 정규화 -> 정규화 column의 범위는??\n",
    "- date : drop, (그러나 RNN, LSTM과 같은 DL 모델에서는 넣어야 할지도..? 시계열 데이터이므로 쓸 수도 없을지도)\n"
   ]
  },
  {
   "cell_type": "code",
   "execution_count": null,
   "metadata": {
    "execution": {
     "iopub.execute_input": "2022-01-15T15:43:26.499311Z",
     "iopub.status.busy": "2022-01-15T15:43:26.498712Z",
     "iopub.status.idle": "2022-01-15T15:43:26.562708Z",
     "shell.execute_reply": "2022-01-15T15:43:26.561978Z",
     "shell.execute_reply.started": "2022-01-15T15:43:26.499274Z"
    }
   },
   "outputs": [],
   "source": [
    "# 원본 data와 따로 관리 -> original data = data, input data = input_data \n",
    "# feature drop\n",
    "input_data = data.copy()\n",
    "\n",
    "input_data = input_data.drop(['date', 'shop_code', 'shop_name'], axis=1)\n",
    "input_data"
   ]
  },
  {
   "cell_type": "code",
   "execution_count": null,
   "metadata": {
    "execution": {
     "iopub.execute_input": "2022-01-15T15:43:26.564424Z",
     "iopub.status.busy": "2022-01-15T15:43:26.563819Z",
     "iopub.status.idle": "2022-01-15T15:43:26.757799Z",
     "shell.execute_reply": "2022-01-15T15:43:26.757002Z",
     "shell.execute_reply.started": "2022-01-15T15:43:26.56438Z"
    }
   },
   "outputs": [],
   "source": [
    "# LabelEncoder\n",
    "from sklearn.preprocessing import LabelEncoder\n",
    "\n",
    "lencoder = LabelEncoder()\n",
    "\n",
    "# item_big = input_data['shop_type_big'].unique()\n",
    "# lencoder.fit(item_big)\n",
    "# input_data['shop_type_big'] = lencoder.transform(input_data['shop_type_big'])\n",
    "\n",
    "input_data['shop_type_big'] = lencoder.fit_transform(list(input_data['shop_type_big']))\n",
    "\n",
    "# item_small = input_data['shop_type_small'].unique() \n",
    "# lencoder.fit(item_small)\n",
    "# input_data['shop_type_small'] = lencoder.transform(input_data['shop_type_small'])\n",
    "\n",
    "input_data['shop_type_small'] = lencoder.fit_transform(list(input_data['shop_type_small']))\n",
    "\n",
    "input_data"
   ]
  },
  {
   "cell_type": "code",
   "execution_count": null,
   "metadata": {
    "execution": {
     "iopub.execute_input": "2022-01-15T15:43:26.760376Z",
     "iopub.status.busy": "2022-01-15T15:43:26.75886Z",
     "iopub.status.idle": "2022-01-15T15:43:26.770416Z",
     "shell.execute_reply": "2022-01-15T15:43:26.769681Z",
     "shell.execute_reply.started": "2022-01-15T15:43:26.760335Z"
    },
    "scrolled": true
   },
   "outputs": [],
   "source": [
    "input_data['shop_type_small'].value_counts()"
   ]
  },
  {
   "cell_type": "code",
   "execution_count": null,
   "metadata": {
    "execution": {
     "iopub.execute_input": "2022-01-15T15:43:26.772571Z",
     "iopub.status.busy": "2022-01-15T15:43:26.771674Z",
     "iopub.status.idle": "2022-01-15T15:43:26.777083Z",
     "shell.execute_reply": "2022-01-15T15:43:26.776375Z",
     "shell.execute_reply.started": "2022-01-15T15:43:26.772532Z"
    }
   },
   "outputs": [],
   "source": [
    "# # 정규화\n",
    "# from sklearn.preprocessing import MinMaxScaler\n",
    "\n",
    "# x_df = input_data.drop(['average_sale_price'], axis=1)\n",
    "# y_df = input_data['average_sale_price'].values.reshape(-1,1)\n",
    "\n",
    "# print(input_data['average_sale_price'].values)\n",
    "\n",
    "# x_cols = x_df.columns.tolist() # x col\n",
    "# y_cols = ['average_sale_price'] # y col\n",
    "\n",
    "# scaler1 = MinMaxScaler() # X\n",
    "# scaler1.fit(x_df)\n",
    "# scaler1_df = pd.DataFrame(scaler1.transform(x_df))\n",
    "# scaler1_df.columns = x_cols\n",
    "\n",
    "# scaler2 = MinMaxScaler() # X\n",
    "# scaler2.fit(y_df)\n",
    "# scaler2_df = pd.DataFrame(scaler2.transform(y_df))\n",
    "# scaler2_df.columns = y_cols\n",
    "\n",
    "# scaler_df = pd.concat([scaler1_df, scaler2_df], axis=1)\n",
    "# input_data = scaler_df\n",
    "# input_data"
   ]
  },
  {
   "cell_type": "code",
   "execution_count": null,
   "metadata": {
    "execution": {
     "iopub.execute_input": "2022-01-15T15:43:26.778744Z",
     "iopub.status.busy": "2022-01-15T15:43:26.778309Z",
     "iopub.status.idle": "2022-01-15T15:43:26.910454Z",
     "shell.execute_reply": "2022-01-15T15:43:26.909749Z",
     "shell.execute_reply.started": "2022-01-15T15:43:26.778709Z"
    }
   },
   "outputs": [],
   "source": [
    "# 정규화 (로그변환)\n",
    "from sklearn.preprocessing import MinMaxScaler\n",
    "\n",
    "x_df = input_data.drop(['average_sale_price'], axis=1)\n",
    "y_df = input_data['average_sale_price'].values.reshape(-1,1)\n",
    "\n",
    "x_df = pd.DataFrame(np.log1p(x_df))\n",
    "y_df = pd.DataFrame(np.log1p(y_df))\n",
    "y_df.columns = ['average_sale_price']\n",
    "\n",
    "df = pd.concat([pd.DataFrame(x_df), pd.DataFrame(y_df)], axis=1)\n",
    "input_data = df\n",
    "input_data"
   ]
  },
  {
   "cell_type": "markdown",
   "metadata": {},
   "source": []
  },
  {
   "cell_type": "code",
   "execution_count": null,
   "metadata": {
    "execution": {
     "iopub.execute_input": "2022-01-15T15:43:26.912525Z",
     "iopub.status.busy": "2022-01-15T15:43:26.911563Z",
     "iopub.status.idle": "2022-01-15T15:43:26.924213Z",
     "shell.execute_reply": "2022-01-15T15:43:26.923125Z",
     "shell.execute_reply.started": "2022-01-15T15:43:26.912485Z"
    }
   },
   "outputs": [],
   "source": [
    "y_df"
   ]
  },
  {
   "cell_type": "code",
   "execution_count": null,
   "metadata": {
    "execution": {
     "iopub.execute_input": "2022-01-15T15:43:26.925929Z",
     "iopub.status.busy": "2022-01-15T15:43:26.925686Z",
     "iopub.status.idle": "2022-01-15T15:43:26.965339Z",
     "shell.execute_reply": "2022-01-15T15:43:26.964653Z",
     "shell.execute_reply.started": "2022-01-15T15:43:26.925896Z"
    }
   },
   "outputs": [],
   "source": [
    "x_df"
   ]
  },
  {
   "cell_type": "code",
   "execution_count": null,
   "metadata": {
    "execution": {
     "iopub.execute_input": "2022-01-15T15:43:26.967174Z",
     "iopub.status.busy": "2022-01-15T15:43:26.966727Z",
     "iopub.status.idle": "2022-01-15T15:43:27.798464Z",
     "shell.execute_reply": "2022-01-15T15:43:27.797596Z",
     "shell.execute_reply.started": "2022-01-15T15:43:26.967137Z"
    }
   },
   "outputs": [],
   "source": [
    "ax = plt.subplots()\n",
    "ax = sns.distplot(input_data['average_sale_price'], hist=False)\n",
    "ax.set_title('Total Gain Density')\n",
    "ax.set_xlabel('average_sale_price')\n",
    "ax.set_ylabel('Unit Probability')\n",
    "print(input_data['average_sale_price'].value_counts())"
   ]
  },
  {
   "cell_type": "code",
   "execution_count": null,
   "metadata": {
    "execution": {
     "iopub.execute_input": "2022-01-15T15:43:27.800182Z",
     "iopub.status.busy": "2022-01-15T15:43:27.799786Z",
     "iopub.status.idle": "2022-01-15T15:43:28.040669Z",
     "shell.execute_reply": "2022-01-15T15:43:28.039868Z",
     "shell.execute_reply.started": "2022-01-15T15:43:27.800141Z"
    }
   },
   "outputs": [],
   "source": [
    "plt.figure(figsize=(12,8))\n",
    "sns.boxplot(data=input_data['average_sale_price'], color='red')\n",
    "plt.show()"
   ]
  },
  {
   "cell_type": "code",
   "execution_count": null,
   "metadata": {},
   "outputs": [],
   "source": []
  },
  {
   "cell_type": "markdown",
   "metadata": {},
   "source": [
    "# 위치 데이터 분석해보기 "
   ]
  },
  {
   "cell_type": "code",
   "execution_count": null,
   "metadata": {},
   "outputs": [],
   "source": []
  },
  {
   "cell_type": "code",
   "execution_count": null,
   "metadata": {},
   "outputs": [],
   "source": []
  },
  {
   "cell_type": "markdown",
   "metadata": {},
   "source": [
    "# Data Split"
   ]
  },
  {
   "cell_type": "code",
   "execution_count": null,
   "metadata": {
    "execution": {
     "iopub.execute_input": "2022-01-15T15:43:28.043093Z",
     "iopub.status.busy": "2022-01-15T15:43:28.042851Z",
     "iopub.status.idle": "2022-01-15T15:43:28.097515Z",
     "shell.execute_reply": "2022-01-15T15:43:28.093426Z",
     "shell.execute_reply.started": "2022-01-15T15:43:28.043047Z"
    }
   },
   "outputs": [],
   "source": [
    "input_data_y = input_data['average_sale_price'].copy()\n",
    "input_data_X = input_data.drop(['average_sale_price'], axis=1)"
   ]
  },
  {
   "cell_type": "code",
   "execution_count": null,
   "metadata": {
    "execution": {
     "iopub.execute_input": "2022-01-15T15:43:28.105913Z",
     "iopub.status.busy": "2022-01-15T15:43:28.103166Z",
     "iopub.status.idle": "2022-01-15T15:43:28.192332Z",
     "shell.execute_reply": "2022-01-15T15:43:28.191543Z",
     "shell.execute_reply.started": "2022-01-15T15:43:28.105875Z"
    }
   },
   "outputs": [],
   "source": [
    "from sklearn.model_selection import train_test_split\n",
    "\n",
    "tr_val_X, test_X, tr_val_y, test_y = train_test_split(\n",
    "    input_data_X, \n",
    "    input_data_y, \n",
    "    test_size = 0.2,      \n",
    "    shuffle=True,         \n",
    "    random_state=42)      \n",
    "\n",
    "train_X, valid_X, train_y, valid_y = train_test_split(\n",
    "    tr_val_X, \n",
    "    tr_val_y, \n",
    "    test_size = 0.2,      \n",
    "    shuffle=True,         \n",
    "    random_state=42)   "
   ]
  },
  {
   "cell_type": "markdown",
   "metadata": {},
   "source": [
    "# Modeling\n",
    "-XGB\n",
    "-LGBM"
   ]
  },
  {
   "cell_type": "code",
   "execution_count": null,
   "metadata": {
    "execution": {
     "iopub.execute_input": "2022-01-15T15:43:28.200437Z",
     "iopub.status.busy": "2022-01-15T15:43:28.197663Z",
     "iopub.status.idle": "2022-01-15T15:43:28.207586Z",
     "shell.execute_reply": "2022-01-15T15:43:28.206977Z",
     "shell.execute_reply.started": "2022-01-15T15:43:28.200395Z"
    }
   },
   "outputs": [],
   "source": [
    "from sklearn.model_selection import train_test_split, cross_val_score, KFold, TimeSeriesSplit,GridSearchCV\n",
    "from sklearn.metrics import mean_squared_error\n",
    "\n",
    "from lightgbm import LGBMRegressor\n",
    "from lightgbm import plot_importance \n",
    "from xgboost import XGBRegressor\n",
    "from xgboost import plot_importance\n",
    "\n",
    "from keras.callbacks import EarlyStopping, ModelCheckpoint"
   ]
  },
  {
   "cell_type": "code",
   "execution_count": null,
   "metadata": {
    "execution": {
     "iopub.execute_input": "2022-01-15T15:43:28.214068Z",
     "iopub.status.busy": "2022-01-15T15:43:28.212123Z",
     "iopub.status.idle": "2022-01-15T15:44:10.818897Z",
     "shell.execute_reply": "2022-01-15T15:44:10.818101Z",
     "shell.execute_reply.started": "2022-01-15T15:43:28.214023Z"
    }
   },
   "outputs": [],
   "source": [
    "model_xgb = XGBRegressor(n_estimators=500, learning_rate=0.5, max_depth=3)\n",
    "#model_xgb = XGBRegressor(n_estimaotrs=100, learning_rate=1.0, max_depth=3, early_stopping_rounds=2)\n",
    "# 학습\n",
    "model_xgb.fit(train_X, train_y, early_stopping_rounds=100, eval_set=[(valid_X, valid_y)],verbose=True)  #logloss 는 classification 평가용"
   ]
  },
  {
   "cell_type": "code",
   "execution_count": null,
   "metadata": {
    "execution": {
     "iopub.execute_input": "2022-01-15T15:44:10.820482Z",
     "iopub.status.busy": "2022-01-15T15:44:10.820221Z",
     "iopub.status.idle": "2022-01-15T15:44:10.824112Z",
     "shell.execute_reply": "2022-01-15T15:44:10.823155Z",
     "shell.execute_reply.started": "2022-01-15T15:44:10.820446Z"
    }
   },
   "outputs": [],
   "source": [
    "# # 예측\n",
    "# pred_xgb = model_xgb.predict(test_X)\n",
    "# # 학습후처리\n",
    "\n",
    "\n",
    "# rescaled_actual = scaler2.inverse_transform(scaler2_df.values.reshape(-1,1))\n",
    "# rescaled_pred = scaler2.inverse_transform(pred_xgb.reshape(-1,1))\n"
   ]
  },
  {
   "cell_type": "code",
   "execution_count": null,
   "metadata": {},
   "outputs": [],
   "source": []
  },
  {
   "cell_type": "code",
   "execution_count": null,
   "metadata": {
    "execution": {
     "iopub.execute_input": "2022-01-15T15:44:10.82604Z",
     "iopub.status.busy": "2022-01-15T15:44:10.825543Z",
     "iopub.status.idle": "2022-01-15T15:44:18.866979Z",
     "shell.execute_reply": "2022-01-15T15:44:18.866348Z",
     "shell.execute_reply.started": "2022-01-15T15:44:10.825908Z"
    }
   },
   "outputs": [],
   "source": [
    "model_lgbm = LGBMRegressor(n_estimators=500, learning_rate=0.05)\n",
    "\n",
    "model_lgbm.fit(train_X, train_y, early_stopping_rounds=100, eval_set=[(valid_X, valid_y)], verbose=True)  \n",
    "pred_lgbm = model_lgbm.predict(test_X)"
   ]
  },
  {
   "cell_type": "markdown",
   "metadata": {},
   "source": [
    "# Prediction"
   ]
  },
  {
   "cell_type": "code",
   "execution_count": null,
   "metadata": {
    "execution": {
     "iopub.execute_input": "2022-01-15T15:44:18.873707Z",
     "iopub.status.busy": "2022-01-15T15:44:18.87147Z",
     "iopub.status.idle": "2022-01-15T15:44:18.896443Z",
     "shell.execute_reply": "2022-01-15T15:44:18.895685Z",
     "shell.execute_reply.started": "2022-01-15T15:44:18.873668Z"
    }
   },
   "outputs": [],
   "source": [
    "def plot_history(history):\n",
    "    #hist = pd.DataFrame(history.history)\n",
    "    #history['epoch'] = history.epoch\n",
    "    \n",
    "    plt.figure(figsize=(8,12))\n",
    "    \n",
    "    # Mean Abs Error : 평균 절대 오차, 측정값에서 오차의 크기로 측정값과 실제값과의 차이, 절대 오차의 평균  \n",
    "    # -> 측정하고자 하는 값을 정확하게 측정하지 못함으로써 발생\n",
    "    plt.subplot(2,1,1)\n",
    "    plt.xlabel('Epoch')\n",
    "    plt.ylabel('Mean Abs Error')\n",
    "    plt.plot(hist['epoch'], hist['mae'],\n",
    "           label='Train Error')\n",
    "    plt.plot(hist['epoch'], hist['val_mae'],\n",
    "           label = 'Val Error')\n",
    "    plt.legend()\n",
    "    \n",
    "    # Mean Square Error : 평균 제곱 오차, 오차의 제복에 대한 평균을 취한 값\n",
    "    plt.subplot(2,1,2)\n",
    "    plt.xlabel('Epoch')\n",
    "    plt.ylabel('Mean Square Error')\n",
    "    plt.plot(hist['epoch'], hist['mse'],\n",
    "           label='Train Error')\n",
    "    plt.plot(hist['epoch'], hist['val_mse'],\n",
    "           label = 'Val Error')\n",
    "    plt.legend()\n",
    "    plt.show()\n",
    "    \n",
    "def show_pred(true_y, pred) :\n",
    "    #true_y = true_y.to_numpy()\n",
    "    true_y = np.ravel(true_y)\n",
    "    pred = np.array(pred.reshape(-1,1))\n",
    "    \n",
    "    df_result = pd.DataFrame(list(zip(true_y, pred)), columns=['true_y', 'prediction'])\n",
    "    return df_result\n",
    "\n",
    "def show_mse_rmse(test_y, pred) :\n",
    "    mse = mean_squared_error(test_y, pred)\n",
    "    print(\"mse : %f\" % mse)\n",
    "    \n",
    "    rmse = np.sqrt(mse)\n",
    "    print(\"rmse: %f \\n\" %rmse)\n",
    "    \n",
    "def show_prediction_error(test_y, pred) :\n",
    "    true_y = test_y.to_numpy()\n",
    "    true_y = np.ravel(true_y)\n",
    "    error = pred - true_y\n",
    "    plt.hist(error, bins=25)\n",
    "    plt.xlabel(\"Prediction Error\")\n",
    "    _ = plt.ylabel(\"Count\")\n",
    "    \n",
    "def feature_importance(model_xgb) : \n",
    "    %matplotlib inline\n",
    "    plt.rcParams['axes.unicode_minus'] = False\n",
    "    font_path = \"C:/Windows/Fonts/NGULIM.TTF\"\n",
    "    font = fm.FontProperties(fname=font_path).get_name()\n",
    "    rc('font', family=font)\n",
    "\n",
    "    fig, ax = plt.subplots(figsize=(10,12))\n",
    "    plot_importance(model_xgb, ax=ax)\n",
    "    \n",
    "def graph(pred, test_label) :\n",
    "    plt.figure(figsize=(16, 9))\n",
    "    plt.plot(test_label, label = 'actual')\n",
    "    plt.plot(pred, label = 'prediction')\n",
    "    plt.legend()\n",
    "    plt.show()"
   ]
  },
  {
   "cell_type": "code",
   "execution_count": null,
   "metadata": {
    "execution": {
     "iopub.execute_input": "2022-01-15T15:44:18.897813Z",
     "iopub.status.busy": "2022-01-15T15:44:18.897573Z",
     "iopub.status.idle": "2022-01-15T15:44:18.945717Z",
     "shell.execute_reply": "2022-01-15T15:44:18.945055Z",
     "shell.execute_reply.started": "2022-01-15T15:44:18.897781Z"
    }
   },
   "outputs": [],
   "source": [
    "show_pred(test_y, pred_xgb)"
   ]
  },
  {
   "cell_type": "code",
   "execution_count": null,
   "metadata": {
    "execution": {
     "iopub.execute_input": "2022-01-15T15:44:18.947486Z",
     "iopub.status.busy": "2022-01-15T15:44:18.946742Z",
     "iopub.status.idle": "2022-01-15T15:44:18.950555Z",
     "shell.execute_reply": "2022-01-15T15:44:18.949867Z",
     "shell.execute_reply.started": "2022-01-15T15:44:18.947451Z"
    }
   },
   "outputs": [],
   "source": [
    "#show_pred(rescaled_actual[:,0], rescaled_pred[:,0])"
   ]
  },
  {
   "cell_type": "code",
   "execution_count": null,
   "metadata": {
    "execution": {
     "iopub.execute_input": "2022-01-15T15:44:18.952367Z",
     "iopub.status.busy": "2022-01-15T15:44:18.951882Z",
     "iopub.status.idle": "2022-01-15T15:44:18.995782Z",
     "shell.execute_reply": "2022-01-15T15:44:18.995057Z",
     "shell.execute_reply.started": "2022-01-15T15:44:18.952332Z"
    }
   },
   "outputs": [],
   "source": [
    "show_pred(test_y, pred_lgbm)"
   ]
  },
  {
   "cell_type": "code",
   "execution_count": null,
   "metadata": {
    "execution": {
     "iopub.execute_input": "2022-01-15T15:44:18.997335Z",
     "iopub.status.busy": "2022-01-15T15:44:18.996911Z",
     "iopub.status.idle": "2022-01-15T15:44:19.003103Z",
     "shell.execute_reply": "2022-01-15T15:44:19.00235Z",
     "shell.execute_reply.started": "2022-01-15T15:44:18.9973Z"
    }
   },
   "outputs": [],
   "source": [
    "show_mse_rmse(test_y, pred_xgb)"
   ]
  },
  {
   "cell_type": "code",
   "execution_count": null,
   "metadata": {
    "execution": {
     "iopub.execute_input": "2022-01-15T15:44:19.004999Z",
     "iopub.status.busy": "2022-01-15T15:44:19.004564Z",
     "iopub.status.idle": "2022-01-15T15:44:19.009509Z",
     "shell.execute_reply": "2022-01-15T15:44:19.008634Z",
     "shell.execute_reply.started": "2022-01-15T15:44:19.004963Z"
    }
   },
   "outputs": [],
   "source": [
    "#show_mse_rmse(rescaled_actual, rescaled_pred)"
   ]
  },
  {
   "cell_type": "code",
   "execution_count": null,
   "metadata": {
    "execution": {
     "iopub.execute_input": "2022-01-15T15:44:19.011202Z",
     "iopub.status.busy": "2022-01-15T15:44:19.010894Z",
     "iopub.status.idle": "2022-01-15T15:44:19.018579Z",
     "shell.execute_reply": "2022-01-15T15:44:19.017717Z",
     "shell.execute_reply.started": "2022-01-15T15:44:19.011167Z"
    }
   },
   "outputs": [],
   "source": [
    "show_mse_rmse(test_y,pred_lgbm)"
   ]
  },
  {
   "cell_type": "code",
   "execution_count": null,
   "metadata": {
    "execution": {
     "iopub.execute_input": "2022-01-15T15:44:19.020401Z",
     "iopub.status.busy": "2022-01-15T15:44:19.020074Z",
     "iopub.status.idle": "2022-01-15T15:44:19.272749Z",
     "shell.execute_reply": "2022-01-15T15:44:19.272081Z",
     "shell.execute_reply.started": "2022-01-15T15:44:19.020365Z"
    }
   },
   "outputs": [],
   "source": [
    "show_prediction_error(test_y,pred_xgb)"
   ]
  },
  {
   "cell_type": "raw",
   "metadata": {},
   "source": []
  }
 ],
 "metadata": {
  "kernelspec": {
   "display_name": "Python 3",
   "language": "python",
   "name": "python3"
  },
  "language_info": {
   "codemirror_mode": {
    "name": "ipython",
    "version": 3
   },
   "file_extension": ".py",
   "mimetype": "text/x-python",
   "name": "python",
   "nbconvert_exporter": "python",
   "pygments_lexer": "ipython3",
   "version": "3.8.8"
  }
 },
 "nbformat": 4,
 "nbformat_minor": 4
}
